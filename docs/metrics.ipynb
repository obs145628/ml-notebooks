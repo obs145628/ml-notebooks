{
 "cells": [
  {
   "cell_type": "code",
   "execution_count": 64,
   "metadata": {},
   "outputs": [],
   "source": [
    "import numpy as np\n",
    "import sklearn.metrics\n",
    "import torch\n",
    "\n",
    "import metrics\n",
    "import revdiff as rd\n",
    "import utils\n",
    "\n",
    "np.random.seed(12)"
   ]
  },
  {
   "cell_type": "markdown",
   "metadata": {},
   "source": [
    "# Metrics"
   ]
  },
  {
   "cell_type": "markdown",
   "metadata": {},
   "source": [
    "## Binary classification"
   ]
  },
  {
   "cell_type": "code",
   "execution_count": 96,
   "metadata": {},
   "outputs": [],
   "source": [
    "## Generate random y_true / y_pred\n",
    "ACC_APPROX = 0.84\n",
    "ZERO_PROP = 0.65\n",
    "\n",
    "y_true = (np.random.rand((12745)) > ZERO_PROP).astype(np.long)\n",
    "y_pred = y_true.copy()\n",
    "\n",
    "for i in range(len(y_pred)):\n",
    "    if np.random.rand() > ACC_APPROX:\n",
    "        y_pred[i] = not y_true[i]"
   ]
  },
  {
   "cell_type": "code",
   "execution_count": 97,
   "metadata": {},
   "outputs": [
    {
     "name": "stdout",
     "output_type": "stream",
     "text": [
      "[0 1 1 1 0 0 0 0 1 1 1 1 0 1 0 1 1 1 0 1 1 0 0 0 0 0 0 0 1 0]\n",
      "[0 0 1 1 0 0 1 0 1 1 1 1 0 1 0 1 0 1 0 0 1 0 1 1 0 1 0 0 1 1]\n"
     ]
    }
   ],
   "source": [
    "print(y_pred[:30])\n",
    "print(y_true[:30])"
   ]
  },
  {
   "cell_type": "markdown",
   "metadata": {},
   "source": [
    "## Accuracy\n",
    "\n",
    "$$\\text{accuracy} = \\frac{\\text{nb true preditions}}{\\text{total predictions}}$$\n",
    "Also works for multi-label classification"
   ]
  },
  {
   "cell_type": "code",
   "execution_count": 98,
   "metadata": {},
   "outputs": [
    {
     "name": "stdout",
     "output_type": "stream",
     "text": [
      "0.8360925853275795\n",
      "0.8360925853275795\n"
     ]
    }
   ],
   "source": [
    "def accuracy(y_true, y_pred):\n",
    "    return np.average(y_true == y_pred)\n",
    "\n",
    "print(accuracy(y_true, y_pred))\n",
    "print(sklearn.metrics.accuracy_score(y_true, y_pred))"
   ]
  },
  {
   "cell_type": "markdown",
   "metadata": {},
   "source": [
    "## Precision, Recall and F1-Score\n",
    "\n",
    "$tp$ (true positives): number of example with label 1 that are corectly classified.  \n",
    "$fp$ (false positives): number of example with label 1 that are incorectly classified.  \n",
    "$tn$ (true negatives): number of example with label 0 that are corectly classified.  \n",
    "$fn$ (false negatives): number of example with label 0 that are incorectly classified.\n",
    "\n",
    "$$\\text{precision} = \\frac{tp}{tp + fp}$$\n",
    "$$\\text{recall} = \\frac{tp}{tp + fn}$$\n",
    "$$\\text{F1} = 2 * \\frac{\\text{precision} * \\text{recall}}{\\text{precision }+ \\text{recall}}$$"
   ]
  },
  {
   "cell_type": "code",
   "execution_count": 130,
   "metadata": {},
   "outputs": [
    {
     "name": "stdout",
     "output_type": "stream",
     "text": [
      "0.7307166569029486\n",
      "0.7307166569029486\n",
      "0.8405211141060198\n",
      "0.8405211141060198\n",
      "0.7817820954768621\n",
      "0.7817820954768621\n"
     ]
    }
   ],
   "source": [
    "def precision(y_true, y_pred):\n",
    "    tp = ((y_pred == 1) & (y_true == y_pred)).sum()\n",
    "    p = (y_pred == 1).sum()\n",
    "    return tp / p\n",
    "\n",
    "def recall(y_true, y_pred):\n",
    "    tp = ((y_pred == 1) & (y_true == y_pred)).sum()\n",
    "    true1 = (y_true == 1).sum()\n",
    "    return tp / true1\n",
    "\n",
    "def f1_score(y_true, y_pred):\n",
    "    p = precision(y_true, y_pred)\n",
    "    r = recall(y_true, y_pred)\n",
    "    return 2 * (p * r) / (p + r)\n",
    "\n",
    "\n",
    "print(precision(y_true, y_pred))\n",
    "print(sklearn.metrics.precision_score(y_true, y_pred))\n",
    "print(recall(y_true, y_pred))\n",
    "print(sklearn.metrics.recall_score(y_true, y_pred))\n",
    "print(f1_score(y_true, y_pred))\n",
    "print(sklearn.metrics.f1_score(y_true, y_pred))"
   ]
  },
  {
   "cell_type": "code",
   "execution_count": null,
   "metadata": {},
   "outputs": [],
   "source": []
  }
 ],
 "metadata": {
  "kernelspec": {
   "display_name": "Python 3",
   "language": "python",
   "name": "python3"
  },
  "language_info": {
   "codemirror_mode": {
    "name": "ipython",
    "version": 3
   },
   "file_extension": ".py",
   "mimetype": "text/x-python",
   "name": "python",
   "nbconvert_exporter": "python",
   "pygments_lexer": "ipython3",
   "version": "3.6.6"
  }
 },
 "nbformat": 4,
 "nbformat_minor": 2
}
