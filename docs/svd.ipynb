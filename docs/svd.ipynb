{
 "cells": [
  {
   "cell_type": "code",
   "execution_count": 55,
   "metadata": {},
   "outputs": [],
   "source": [
    "import numpy as np\n",
    "\n",
    "import metrics\n",
    "import svd as ttsvd\n",
    "\n",
    "np.random.seed(12)"
   ]
  },
  {
   "cell_type": "markdown",
   "metadata": {},
   "source": [
    "# SVD (Singular Value Decomposition)"
   ]
  },
  {
   "cell_type": "markdown",
   "metadata": {},
   "source": [
    "let $M \\in \\mathbb{R}^{m*n}$\n",
    "The singular value decomposition of $M$ is:\n",
    "\n",
    "$$M = U \\Sigma V^T$$\n",
    "\n",
    "$U$: $m * m$ orthogonal matrix.  \n",
    "$\\Sigma$: $m * n$ rectangular diagonal matrix with non-negative numbers on the diagonal.  \n",
    "$V$: $n * n$ orthogonal matrix."
   ]
  },
  {
   "cell_type": "markdown",
   "metadata": {},
   "source": [
    "The columns of $U$ are the left-singular vectors of $M$, and the eigeinvectors of $MM^T$.  \n",
    "The columns of $V$ are the right-singular vectors of $M$, and the eigeinvectors of $M^TM$.  \n",
    "The diagonal entries of $\\Sigma$ are the singular values of $M$ and the square root of the eigeinvalues of $MM^T$ ($or M^TM$)."
   ]
  },
  {
   "cell_type": "markdown",
   "metadata": {},
   "source": [
    "## Implementation (Golub - Reincsh SVD)"
   ]
  },
  {
   "cell_type": "markdown",
   "metadata": {},
   "source": [
    "### Ressources\n",
    "\n",
    "- http://people.duke.edu/~hpgavin/SystemID/References/Golub+Reinsch-NM-1970.pdf\n",
    "- http://www.cs.utexas.edu/users/inderjit/public_papers/HLA_SVD.pdf"
   ]
  },
  {
   "cell_type": "markdown",
   "metadata": {},
   "source": [
    "1 Use Houlesholder transformations to reduce A to bidiagonal form.  \n",
    "2 Use QR to find the singular values of the bidiagonaal matrix.  \n",
    "3 Combine results to get SVD of A"
   ]
  },
  {
   "cell_type": "markdown",
   "metadata": {},
   "source": [
    "### Householder transformation\n",
    "\n",
    "Let $x \\in \\mathbb{R^n}$, $v \\in \\mathbb{R}^n$\n",
    "$$x \\to x - 2v(v^Tx)$$\n",
    "\n",
    "The householder matrix is the projection matrix for that transformation.\n",
    "$$P = I - 2vv^T$$"
   ]
  },
  {
   "cell_type": "markdown",
   "metadata": {},
   "source": [
    "### Bidiagonalization\n",
    "\n",
    "Transform the matrix $A \\in \\mathbb{R}^{m*n}$, $m \\geq n$ to bidiagonal form.\n",
    "\n",
    "$$P^TAQ = J^0$$\n",
    "\n",
    "$J^0$ upper bidiagonal matrix of size $m*n$.  \n",
    "$P$ orthogonal matrix of size $m*m$.  \n",
    "$Q$ orthogonal matrix of size $n*n$.    \n",
    "$P$ and $Q$ are sequances of householder matrices."
   ]
  },
  {
   "cell_type": "code",
   "execution_count": 333,
   "metadata": {},
   "outputs": [],
   "source": [
    "def house_vect(x):\n",
    "    v = x.copy()\n",
    "    v[0] = x[0] + np.sign(x[0]) * np.linalg.norm(x)\n",
    "    return v\n",
    "    \n",
    "def house_mat(v):\n",
    "    return np.eye(len(v)) - 2 * np.outer(v, v) / (v@v)\n",
    "\n",
    "def bidiagonalize(A):\n",
    "    m, n = A.shape\n",
    "    P = np.eye(m)\n",
    "    Q = np.eye(n)\n",
    "    B = A.copy()\n",
    "    \n",
    "    for j in range(n):\n",
    "        \n",
    "        B_sub = B[j:, j:]\n",
    "        v = house_vect(B_sub[:, 0])\n",
    "        H = np.eye(m)\n",
    "        H[j:, j:] = house_mat(v)\n",
    "        B = H @ B\n",
    "        P = P @ H.T\n",
    "        \n",
    "        if j < n - 2:\n",
    "        \n",
    "            B_sub = B[j:, j+1:]\n",
    "            v = house_vect(B_sub[0])\n",
    "            H = np.eye(n)\n",
    "            H[j+1:, j+1:] = house_mat(v)\n",
    "            B = B @ H\n",
    "            Q = Q @ H.T\n",
    "        \n",
    "    return P, B, Q"
   ]
  },
  {
   "cell_type": "code",
   "execution_count": 334,
   "metadata": {},
   "outputs": [
    {
     "name": "stdout",
     "output_type": "stream",
     "text": [
      "[[-0.84025229  0.25448849 -0.19640052 -1.06657939]\n",
      " [-1.01254346 -2.11589758 -1.02469004 -1.03484659]\n",
      " [ 0.71226925  2.01759503 -1.12228014 -0.32515742]\n",
      " [ 0.30572838  2.00714828 -1.2403303   1.7976405 ]\n",
      " [-0.22123684  1.45673859 -0.73226059  0.0805405 ]]\n",
      "[[ 1.54305257 -2.78328288  0.          0.        ]\n",
      " [ 0.         -2.93562704  1.49696294  0.        ]\n",
      " [ 0.          0.         -1.84518027  0.30308817]\n",
      " [ 0.          0.          0.         -1.62361101]\n",
      " [ 0.          0.          0.          0.        ]]\n",
      "8.134087991091807e-16\n",
      "7.256540328333924e-16\n",
      "3.1819185660814247e-16\n",
      "3.3740035919205897e-16\n",
      "1.89247439205462e-15\n",
      "9.29607591659322e-16\n"
     ]
    }
   ],
   "source": [
    "A = np.random.randn(5, 4)\n",
    "print(A)\n",
    "U, B, V = bidiagonalize(A)\n",
    "\n",
    "B[np.abs(B) < 1e-10] = 0\n",
    "print(B)\n",
    "\n",
    "print(metrics.tdist(U.T @ U, np.eye(A.shape[0])))\n",
    "print(metrics.tdist(U @ U.T, np.eye(A.shape[0])))\n",
    "print(metrics.tdist(V.T @ V, np.eye(A.shape[1])))\n",
    "print(metrics.tdist(V @ V.T, np.eye(A.shape[1])))\n",
    "print(metrics.tdist(U @ B @ V.T, A))\n",
    "print(metrics.tdist(U.T @ A @ V, B))"
   ]
  },
  {
   "cell_type": "code",
   "execution_count": 335,
   "metadata": {},
   "outputs": [
    {
     "name": "stdout",
     "output_type": "stream",
     "text": [
      "[[ 1.94288192  0.39300256  1.29424839  1.44871386 -0.23592944]\n",
      " [ 1.09422847 -0.45159208 -0.01750505  0.99546323 -0.79615515]\n",
      " [ 1.09839163 -1.2093778   0.64620034 -0.45895617  0.15703196]\n",
      " [-0.73949431  0.93267878  2.10169939 -1.16836193 -0.40287577]\n",
      " [-1.36951958 -0.42852993 -1.11420516  1.04906738 -0.62795135]]\n",
      "[[-2.93275059 -1.50320825  0.          0.          0.        ]\n",
      " [ 0.         -1.37696001  1.38393211  0.          0.        ]\n",
      " [ 0.          0.         -1.58352148  2.06499593  0.        ]\n",
      " [ 0.          0.          0.         -1.73348536  0.92707749]\n",
      " [ 0.          0.          0.          0.         -0.97761746]]\n",
      "7.576491868655485e-16\n",
      "7.537385281391632e-16\n",
      "7.66003098431927e-16\n",
      "7.784611273070291e-16\n",
      "2.5601062928726914e-15\n",
      "1.0012112114945322e-15\n"
     ]
    }
   ],
   "source": [
    "A = np.random.randn(5, 5)\n",
    "print(A)\n",
    "U, B, V = bidiagonalize(A)\n",
    "\n",
    "B[np.abs(B) < 1e-10] = 0\n",
    "print(B)\n",
    "\n",
    "print(metrics.tdist(U.T @ U, np.eye(A.shape[0])))\n",
    "print(metrics.tdist(U @ U.T, np.eye(A.shape[0])))\n",
    "print(metrics.tdist(V.T @ V, np.eye(A.shape[1])))\n",
    "print(metrics.tdist(V @ V.T, np.eye(A.shape[1])))\n",
    "print(metrics.tdist(U @ B @ V.T, A))\n",
    "print(metrics.tdist(U.T @ A @ V, B))"
   ]
  },
  {
   "cell_type": "code",
   "execution_count": 336,
   "metadata": {},
   "outputs": [
    {
     "name": "stdout",
     "output_type": "stream",
     "text": [
      "[[ 0.06596372 -0.89782288 -0.27252311]\n",
      " [ 0.29133411  0.64422717  0.34720509]\n",
      " [-1.27497946  1.00709587  1.35958683]\n",
      " [ 1.11703865  0.172686    0.40592015]\n",
      " [ 0.03063637  1.33592507 -0.5857411 ]\n",
      " [-1.17130874 -0.15749017  0.06591547]\n",
      " [ 1.29171742  1.1647744   1.77292261]]\n",
      "[[-2.45030843  0.51379642  0.        ]\n",
      " [ 0.          2.8997257   0.23739381]\n",
      " [ 0.          0.         -1.54963981]\n",
      " [ 0.          0.          0.        ]\n",
      " [ 0.          0.          0.        ]\n",
      " [ 0.          0.          0.        ]\n",
      " [ 0.          0.          0.        ]]\n",
      "5.143597635264457e-16\n",
      "5.715984939371122e-16\n",
      "3.5875141997657774e-16\n",
      "3.5875141997657774e-16\n",
      "1.1406885234323035e-15\n",
      "5.27272358443338e-16\n"
     ]
    }
   ],
   "source": [
    "A = np.random.randn(7, 3)\n",
    "print(A)\n",
    "U, B, V = bidiagonalize(A)\n",
    "\n",
    "B[np.abs(B) < 1e-10] = 0\n",
    "print(B)\n",
    "\n",
    "print(metrics.tdist(U.T @ U, np.eye(A.shape[0])))\n",
    "print(metrics.tdist(U @ U.T, np.eye(A.shape[0])))\n",
    "print(metrics.tdist(V.T @ V, np.eye(A.shape[1])))\n",
    "print(metrics.tdist(V @ V.T, np.eye(A.shape[1])))\n",
    "print(metrics.tdist(U @ B @ V.T, A))\n",
    "print(metrics.tdist(U.T @ A @ V, B))"
   ]
  },
  {
   "cell_type": "markdown",
   "metadata": {},
   "source": [
    "The singular values of $J^0$ are the same than $A$.  \n",
    "$$J^0 = G\\Sigma H^T$$\n",
    "$$A = PG \\Sigma H^T Q^T$$\n",
    "$$U = PG$$\n",
    "$$V = QH$$"
   ]
  },
  {
   "cell_type": "markdown",
   "metadata": {},
   "source": [
    "### SVD of a bidiagonal matrix"
   ]
  },
  {
   "cell_type": "markdown",
   "metadata": {},
   "source": []
  },
  {
   "cell_type": "markdown",
   "metadata": {},
   "source": [
    "### Eigenvalues and eigeinvectors a a symetric matrix"
   ]
  },
  {
   "cell_type": "markdown",
   "metadata": {},
   "source": [
    "Let $B = P^{-1}AP$.  \n",
    "The matrices $A$ and $B$ are said to be similar. They share several properties, one of them is they both have the same eigenvalues.\n",
    "\n",
    "The QR algorithm:  \n",
    "- $[Q_k, R_k] \\leftarrow qr(A_k)$\n",
    "- $A_{k+1} \\leftarrow R_kQ_k$\n",
    "\n",
    "$A_k$, $k \\to \\infty$ converges to a triangular matrix with the eigenvalues on its diagonal.\n",
    "\n",
    "$$A = QR$$\n",
    "$$Q = Q^{-1}$$\n",
    "$$R = Q^TA$$\n",
    "$$A_{k+1} = R_kQ_k = Q_k^TA_kQ_k$$\n",
    "$A_1$, $A_2$ ..., $A_k$ are similar so they share the same eigenvalues: the diagonal entries of $A_k$\n",
    "\n",
    "If $A$ symetrics, $Q_1Q_2$...$Q_k$ is a matrix whose columns are the eigeinvectors of $A$"
   ]
  },
  {
   "cell_type": "code",
   "execution_count": 160,
   "metadata": {},
   "outputs": [],
   "source": [
    "def qr_algorithm(A, max_iters=100, prec=1e-6):\n",
    "    \n",
    "    Ak = A.copy()\n",
    "    Qk = np.eye(A.shape[0])\n",
    " \n",
    "    for k in range(max_iters):\n",
    "        \n",
    "        Q, R = np.linalg.qr(Ak)\n",
    "        Ak = R @ Q\n",
    "        Qk = Qk @ Q\n",
    "        \n",
    "        if np.linalg.norm(Ak - np.triu(Ak)) < prec:\n",
    "            break\n",
    "    \n",
    "    vals = np.diag(Ak)\n",
    "    vects = Qk\n",
    "    return vals, vects\n",
    "\n",
    "def test_eig(A, fn): \n",
    "\n",
    "    vals, vects = fn(A)\n",
    "    vals_sol, vects_sol = np.linalg.eigh(A)\n",
    "    vals_sol = vals_sol[::-1]\n",
    "    vects_sol = vects_sol[:, ::-1]\n",
    "\n",
    "    for i in range(vects.shape[1]):\n",
    "        if vects[0, i] < 0: vects[:, i] = -vects[:, i]\n",
    "        if vects_sol[0, i] < 0: vects_sol[:, i] = -vects_sol[:, i]\n",
    "\n",
    "    #print(A @ vects_sol[:, 0] - vects_sol[:, 0] * vals_sol[0])\n",
    "    print(vals)\n",
    "    print(vals_sol)\n",
    "    print(metrics.tdist(vals, vals_sol))\n",
    "    print(metrics.tdist(vects, vects_sol))"
   ]
  },
  {
   "cell_type": "code",
   "execution_count": 145,
   "metadata": {},
   "outputs": [
    {
     "name": "stdout",
     "output_type": "stream",
     "text": [
      "[ 1.58963726e+01  4.45972443e+00  1.71017814e+00 -1.46480942e-16]\n",
      "[1.58963726e+01 4.45972443e+00 1.71017814e+00 8.43901255e-16]\n",
      "1.6664235230451168e-13\n",
      "3.007674017122803e-07\n",
      "[15.89637263  4.45972443  1.71017814]\n",
      "[15.89637263  4.45972443  1.71017814]\n",
      "1.0388650559302042e-13\n",
      "2.3590020677700243e-07\n"
     ]
    }
   ],
   "source": [
    "A = np.random.randn(4, 3)\n",
    "AAT = A @ A.T\n",
    "ATA = A.T @ A\n",
    "\n",
    "test_eig(AAT, qr_algorithm)\n",
    "test_eig(ATA, qr_algorithm)"
   ]
  },
  {
   "cell_type": "code",
   "execution_count": 159,
   "metadata": {},
   "outputs": [],
   "source": [
    "def qr_algorithm_shift(A, max_iters=100, prec=1e-6):\n",
    "    \n",
    "    Ak = A.copy()\n",
    "    Qk = np.eye(A.shape[0])\n",
    "    I = np.eye(A.shape[0])\n",
    "        \n",
    "    for k in range(max_iters):\n",
    "        \n",
    "        lbda = 0.01\n",
    "        \n",
    "        Q, R = np.linalg.qr(Ak - lbda * I)\n",
    "        Ak = R @ Q + lbda * I\n",
    "        Qk = Qk @ Q\n",
    "        \n",
    "        if np.linalg.norm(Ak - np.triu(Ak)) < prec:\n",
    "            break\n",
    "    \n",
    "    vals = np.diag(Ak)\n",
    "    vects = Qk\n",
    "    return vals, vects"
   ]
  },
  {
   "cell_type": "code",
   "execution_count": 162,
   "metadata": {},
   "outputs": [
    {
     "name": "stdout",
     "output_type": "stream",
     "text": [
      "[8.16983204e+00 4.58328010e+00 6.77661128e-01 5.34294831e-16]\n",
      "[8.16983204e+00 4.58328010e+00 6.77661128e-01 9.87830910e-16]\n",
      "3.963764521953199e-13\n",
      "3.9265728241119094e-07\n",
      "[8.16983204 4.5832801  0.67766113]\n",
      "[8.16983204 4.5832801  0.67766113]\n",
      "2.700588239800599e-13\n",
      "3.25426392462262e-07\n"
     ]
    }
   ],
   "source": [
    "A = np.random.randn(4, 3)\n",
    "AAT = A @ A.T\n",
    "ATA = A.T @ A\n",
    "\n",
    "test_eig(AAT, qr_algorithm_shift)\n",
    "test_eig(ATA, qr_algorithm_shift)"
   ]
  },
  {
   "cell_type": "markdown",
   "metadata": {},
   "source": [
    "## SVD computing $AA^T$"
   ]
  },
  {
   "cell_type": "markdown",
   "metadata": {},
   "source": [
    "$$A v_i = \\sigma_i u_i$$\n",
    "$$A^T u_i = \\sigma_i v_i$$\n",
    "\n",
    "We can compute the SVD of $A$ naively:\n",
    "- Find the left singular vectors and the singular values by applying the QR algorithm on $AA^T$\n",
    "- Find the right singular vectors by computing $v_i = \\frac{A^T u_i}{\\sigma_i}$"
   ]
  },
  {
   "cell_type": "code",
   "execution_count": 337,
   "metadata": {},
   "outputs": [],
   "source": [
    "def svd_naive(A):\n",
    "    lvals, lvects = qr_algorithm(A @ A.T)\n",
    "    U = lvects \n",
    "    S = np.sqrt(lvals[:A.shape[1]])\n",
    "    \n",
    "    VT = np.empty((A.shape[1], A.shape[1]))\n",
    "    for i in range(A.shape[1]):\n",
    "        VT[i] = (A.T @ U[:, i]) / S[i]\n",
    "    \n",
    "    return U, S, VT"
   ]
  },
  {
   "cell_type": "code",
   "execution_count": 338,
   "metadata": {},
   "outputs": [
    {
     "name": "stdout",
     "output_type": "stream",
     "text": [
      "1.7860136728276433e-15\n",
      "1.804409319573525e-15\n",
      "4.189218656364947e-07\n",
      "4.1892186562477863e-07\n",
      "1.2614478883277597e-13\n",
      "3.117166796758288e-15\n"
     ]
    }
   ],
   "source": [
    "A = np.random.randn(4, 3)\n",
    "U_sol, S_sol, VT_sol = np.linalg.svd(A)\n",
    "\n",
    "U, S, VT = svd_naive(A)\n",
    "\n",
    "print(metrics.tdist(U @ U.T, np.eye(A.shape[0])))\n",
    "print(metrics.tdist(U.T @ U, np.eye(A.shape[0])))\n",
    "print(metrics.tdist(VT @ VT.T, np.eye(A.shape[1])))\n",
    "print(metrics.tdist(VT.T @ VT, np.eye(A.shape[1])))\n",
    "print(metrics.tdist(S, S_sol))\n",
    "\n",
    "S_mat = np.zeros(A.shape)\n",
    "S_mat[:len(S),:len(S)] = np.diag(S)\n",
    "print(metrics.tdist(U @ S_mat @ VT, A))"
   ]
  },
  {
   "cell_type": "markdown",
   "metadata": {},
   "source": [
    "##  Naive SVD with bidiagonalization"
   ]
  },
  {
   "cell_type": "code",
   "execution_count": 390,
   "metadata": {},
   "outputs": [
    {
     "name": "stdout",
     "output_type": "stream",
     "text": [
      "1.8449683377577863e-15\n",
      "1.8533422017944336e-15\n",
      "3.2146628135659837e-07\n",
      "3.2146628142711365e-07\n",
      "2.362663111950196e-13\n",
      "2.9260748727207743e-15\n"
     ]
    }
   ],
   "source": [
    "def svd_naive_bidioagonal(A):\n",
    "    P, J, Q = bidiagonalize(A)\n",
    "    G, S, HT = svd_naive(J)\n",
    "    U = P @ G\n",
    "    VT = HT @ Q.T\n",
    "    return U, S, VT\n",
    "    \n",
    "A = np.random.randn(4, 3)\n",
    "U_sol, S_sol, VT_sol = np.linalg.svd(A)\n",
    "\n",
    "U, S, VT = svd_naive_bidioagonal(A)\n",
    "\n",
    "print(metrics.tdist(U @ U.T, np.eye(A.shape[0])))\n",
    "print(metrics.tdist(U.T @ U, np.eye(A.shape[0])))\n",
    "print(metrics.tdist(VT @ VT.T, np.eye(A.shape[1])))\n",
    "print(metrics.tdist(VT.T @ VT, np.eye(A.shape[1])))\n",
    "print(metrics.tdist(S, S_sol))\n",
    "\n",
    "S_mat = np.zeros(A.shape)\n",
    "S_mat[:len(S),:len(S)] = np.diag(S)\n",
    "print(metrics.tdist(U @ S_mat @ VT, A))"
   ]
  },
  {
   "cell_type": "markdown",
   "metadata": {},
   "source": [
    "## SVD of bidiagonal matrix"
   ]
  },
  {
   "cell_type": "markdown",
   "metadata": {},
   "source": [
    "Let $J_0$ of size $m * n$ upper bidiagonal matrix.  \n",
    "$J$ is iteratively diagonalized to $\\Sigma$\n",
    "$$J_{i+1} = S_i^T J_i T_i$$\n",
    "$S_i$ and $T_i$ are orthogonal matrices that represent given rotations.\n",
    "\n",
    "Let $M_i= J_i^TJ_i$ tridiagonal matrix\n",
    "$$M_{i+1} = T_i^T M_i T_i$$\n",
    "\n",
    "The transformation $M_i \\to M_{i+1}$ is actually a $QR$ transformation wit shift $s$.\n",
    "$$M_i - sI = T_sR_s$$\n",
    "$$M_{i+1} = R_sT_s + sI$$"
   ]
  },
  {
   "cell_type": "markdown",
   "metadata": {},
   "source": [
    "Maybe:\n",
    "- $J_k \\to \\Sigma$ (diagonal matrix), singular values of $J_0$\n",
    "- SVD of diagonal matrix is $IDI$\n",
    "- $S_1$, $S_2$, ..., $T_1$, $T_2$, ... orthogonal matrices\n",
    "- $U = S_1 S_2$ ...\n",
    "- $V = T_1 T_2$ ..."
   ]
  },
  {
   "cell_type": "code",
   "execution_count": null,
   "metadata": {},
   "outputs": [],
   "source": []
  }
 ],
 "metadata": {
  "kernelspec": {
   "display_name": "Python 3",
   "language": "python",
   "name": "python3"
  },
  "language_info": {
   "codemirror_mode": {
    "name": "ipython",
    "version": 3
   },
   "file_extension": ".py",
   "mimetype": "text/x-python",
   "name": "python",
   "nbconvert_exporter": "python",
   "pygments_lexer": "ipython3",
   "version": "3.6.6"
  }
 },
 "nbformat": 4,
 "nbformat_minor": 2
}
