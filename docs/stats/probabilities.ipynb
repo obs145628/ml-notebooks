{
 "cells": [
  {
   "cell_type": "code",
   "execution_count": 1,
   "metadata": {},
   "outputs": [],
   "source": [
    "import numpy as np"
   ]
  },
  {
   "cell_type": "markdown",
   "metadata": {},
   "source": [
    "# Probabilities"
   ]
  },
  {
   "cell_type": "markdown",
   "metadata": {},
   "source": [
    "## Events"
   ]
  },
  {
   "cell_type": "markdown",
   "metadata": {},
   "source": [
    "$$P(A\\cup B) = P(A) + P(B) - P(A \\cap B)$$\n",
    "$$P(E|F) = \\frac{P(E \\cap F)}{P(F)}$$\n",
    "$A$ and $B$ independants $\\iff P(A \\cap B) = P(A)P(B)$\n",
    "\n",
    "### Bayes formula\n",
    "\n",
    "$$P(E|F) = \\frac{P(F|E)P(E)}{P(F)}$$"
   ]
  },
  {
   "cell_type": "markdown",
   "metadata": {},
   "source": [
    "## Discrete random variable\n",
    "\n",
    "$X$ discrete, can only take an enumerable number values.  \n",
    "\n",
    "### Probability Mass Function (PMF)\n",
    "\n",
    "$$p(a) = P\\{X = a\\}$$\n",
    "$$\\forall i: \\space p(x_i) \\geq 0$$\n",
    "$$\\sum_{i=1}^\\infty p(x_i) = 1$$\n",
    "\n",
    "\n",
    "### Cumlative Distribution Fuction (CDF)\n",
    "\n",
    "$$F(a) = P\\{X \\leq a\\} = \\sum_{x_i \\leq a} p(x_i)$$"
   ]
  },
  {
   "cell_type": "markdown",
   "metadata": {},
   "source": [
    "## Continous Random Variable\n",
    "\n",
    "$X$ conitnous variable, can take an infinite number of real values.\n",
    "\n",
    "### Probability Density Function (PDF):\n",
    "\n",
    "$$P\\{X \\in B\\} = \\int_{B} f(x)dx$$\n",
    "$$P{a \\leq X \\leq a} = \\int_a^b f(x)dx$$\n",
    "$$P \\{ X \\in ]-\\infty; +\\infty[ \\} = 1$$\n",
    "$$P \\{ X = a \\} = 0$$\n",
    "\n",
    "### Cumulative Distribution Function (CDF)\n",
    "\n",
    "$$F(a) = P \\{X < a \\} = P \\{ X \\leq a \\} = \\int_{-\\infty}^a f(x)dx$$\n",
    "$$\\frac{d}{da} F(a) = f(a)$$\n",
    "$$P \\{a \\leq X \\leq b \\} = F(b) - F(a)$$"
   ]
  },
  {
   "cell_type": "markdown",
   "metadata": {},
   "source": [
    "## Expectation\n",
    "\n",
    "The expection of a random variable is the average value of this random variable.\n",
    "\n",
    "$$\\mathbb{E}[X] = \\sum_{i=1}^n x_ip(x_i) \\text{  (discrete variable)}$$\n",
    "$$\\mathbb{E}[X] = \\int_{-\\infty}^{+\\infty} xf(x)dx \\text{  (continous variable)}$$\n",
    "\n",
    "The expecation of an expression $\\mathbb{E}_{x \\sim X}[g(x)]$ is the average value of $f$, when $x$ comes from the random variable $X$.\n",
    "\n",
    "$$\\mathbb{E}[g(X)] = \\sum_{i=1}^n g(x_i)p(x_i) \\text{  (discrete variable)}$$\n",
    "$$\\mathbb{E}[g(X)] = \\int_{-\\infty}^{+\\infty} g(x)f(x)dx \\text{  (continous variable)}$$\n",
    "\n",
    "### Properties\n",
    "\n",
    "$$\\mathbb{E}[X+Y] = \\mathbb{E}[X] + \\mathbb{E}[Y]$$\n",
    "$$\\mathbb{E}[\\alpha X] = \\alpha \\mathbb{E}[X], \\space \\alpha \\in \\mathbb{R}$$"
   ]
  },
  {
   "cell_type": "markdown",
   "metadata": {},
   "source": [
    "## Variance\n",
    "\n",
    "The variance is a mesure of how much the value of a random variable change from it's expected value.\n",
    "\n",
    "$$\\text{Var}(X) = \\mathbb{E}[(X - \\mathbb{E}[X])^2] = \\mathbb{E}[X^2] - (\\mathbb{E}[X])^2$$\n",
    "\n",
    "$$\\text{Var}(\\alpha X + \\beta) = \\alpha^2 \\text{Var}(X), \\space \\alpha, \\beta \\in \\mathbb{R}$$\n",
    "\n",
    "Standard deviation $\\sigma(X)$:\n",
    "$$\\sigma(X) = \\sqrt{\\text{Var}(X)}$$"
   ]
  },
  {
   "cell_type": "markdown",
   "metadata": {},
   "source": [
    "## Covariance\n",
    "\n",
    "Covariance between 2 random variables $X$ and $Y$.\n",
    "$$\\text{cov}(X,Y) = \\mathbb{E}[(X - \\mathbb{E}[X])(Y - \\mathbb{E}[Y])]$$\n",
    "$$\\text{cov}(X,Y) = \\mathbb{E}[XY] - \\mathbb{E}[X] \\mathbb{E}[Y]$$\n",
    "\n",
    "\n",
    "### Properties\n",
    "\n",
    "$$\\text{cov(X,X)} = \\text{Var(X)}$$\n",
    "$$\\text{cov(X,Y)} = \\text{cov(Y,X)}$$"
   ]
  },
  {
   "cell_type": "markdown",
   "metadata": {},
   "source": [
    "## Discrete joint distributions\n",
    "\n",
    "$$p(x,y) = P \\{X=x, Y=y\\}$$\n",
    "$$p_X(x) = \\sum_y p(x,y)$$\n",
    "$$p_Y(y) = \\sum_x p(x,y)$$"
   ]
  },
  {
   "cell_type": "markdown",
   "metadata": {},
   "source": [
    "## Discrete continous distributions\n",
    "\n",
    "$$P \\{X \\in A, Y \\in B\\} = \\int_B \\int_A f(x,y)dxdy$$\n",
    "$$f(a, b) = \\frac{\\partial^2}{\\partial a \\partial b} F(a,b)$$\n",
    "$$P \\{X \\in A\\} = \\int_A \\int_{-\\infty}^{+\\infty} f(x,y)dydx$$\n",
    "$$P \\{Y \\in B\\} = \\int_B \\int_{-\\infty}^{+\\infty} f(x,y)dxdy$$"
   ]
  },
  {
   "cell_type": "markdown",
   "metadata": {},
   "source": [
    "## Conditional distributions\n",
    "\n",
    "$$P_{X|Y}(x|y) = P\\{X = x | Y=y\\} = \\frac{p(x,y)}{p_Y(y)} \\text{ (discrete variables)}$$\n",
    "$$f_{X|Y}(x|y) = P\\{X = x | Y=y\\} = \\frac{f(x,y)}{f_Y(y)} \\text{ (continuous variables)}$$"
   ]
  },
  {
   "cell_type": "markdown",
   "metadata": {},
   "source": [
    "## Common distribution"
   ]
  },
  {
   "cell_type": "markdown",
   "metadata": {},
   "source": [
    "### Normal distribution (Gaussian)\n",
    "\n",
    "$$X \\sim \\mathcal{N}(\\mu, \\sigma^2)$$\n",
    "Parameters:\n",
    "- $\\mu$: mean\n",
    "- $\\sigma^2 \\geq 0$: variance\n",
    "\n",
    "\n",
    "$$\\text{PDF: } f(x) = \\frac{1}{\\sqrt{2\\pi \\sigma^2}} \\text{exp}(-\\frac{(x - \\mu)^2}{2\\sigma^2})$$\n",
    "\n",
    "$$\\text{CDF: } F(x) = \\frac{1}{2}[1 + \\text{erf}(\\frac{x - \\mu}{\\sigma \\sqrt{2}})]$$\n",
    "$$\\mathbb{E}[X] = \\mu$$\n",
    "$$\\text{Var}(X) = \\sigma^2$$\n",
    "\n",
    "$$ \\text{erf}(x) = \\frac{1}{\\sqrt{\\pi}} \\int_{-x}^{x} e^{-t^2}dt$$"
   ]
  },
  {
   "cell_type": "code",
   "execution_count": 2,
   "metadata": {},
   "outputs": [
    {
     "name": "stdout",
     "output_type": "stream",
     "text": [
      "[NP]  mu = -1.3009659425732243\n",
      "[NP] std = 4.5022249987259455\n",
      "[BM]  mu = -1.3036275867587594\n",
      "[BM] std = 4.493453817736419\n",
      "[MP]  mu = -1.304057230429059\n",
      "[MP] std = 4.498215805410772\n"
     ]
    }
   ],
   "source": [
    "_box_muller = [None]\n",
    "def norm_box_muller():    \n",
    "    if _box_muller[0] is not None:\n",
    "        res = _box_muller[0]\n",
    "        _box_muller[0] = None\n",
    "        return res\n",
    "    \n",
    "    u1, u2 = np.random.rand(2)\n",
    "    r = np.sqrt(-2*np.log(u1))\n",
    "    theta = 2*np.pi*u2\n",
    "    x = r * np.cos(theta)\n",
    "    y = r * np.sin(theta)\n",
    "    _box_muller[0] = x\n",
    "    return y\n",
    "\n",
    "_marsagalia_polar = [None]\n",
    "def norm_marsagalia_polar():\n",
    "    if _marsagalia_polar[0] is not None:\n",
    "        res = _marsagalia_polar[0]\n",
    "        _marsagalia_polar[0] = None\n",
    "        return res\n",
    "\n",
    "    while True:\n",
    "        x, y = 2 * np.random.rand(2) - 1\n",
    "        s = x**2 + y**2\n",
    "        if s < 1 and s>0:\n",
    "            break\n",
    "    \n",
    "    f = np.sqrt((-2*np.log(s))/s)\n",
    "    a, b = x*f, y*f\n",
    "    _marsagalia_polar[0] = a\n",
    "    return b\n",
    "    \n",
    "\n",
    "N = 1000000\n",
    "\n",
    "x = np.random.randn(N) * 4.5 - 1.3\n",
    "print('[NP]  mu =', np.mean(x))\n",
    "print('[NP] std =', np.std(x))\n",
    "\n",
    "\n",
    "x = np.empty(N)\n",
    "for i in range(N): x[i] = 4.5 * norm_box_muller() - 1.3\n",
    "print('[BM]  mu =', np.mean(x))\n",
    "print('[BM] std =', np.std(x))\n",
    "\n",
    "x = np.empty(N)\n",
    "for i in range(N): x[i] = 4.5 * norm_marsagalia_polar() - 1.3\n",
    "print('[MP]  mu =', np.mean(x))\n",
    "print('[MP] std =', np.std(x))"
   ]
  },
  {
   "cell_type": "markdown",
   "metadata": {},
   "source": [
    "###  Binomial distribution\n",
    "\n",
    "$$X \\sim B(n, p)$$\n",
    "Parameters:\n",
    "- $n$: number of trials\n",
    "- $p \\in [0, 1]$: success probability for each trial.\n",
    "\n",
    "$p(X = k)$: $k$: number of successes.\n",
    "\n",
    "$$\\text{PMF: } f(k) = \\binom{n}{k} p^k(1-p)^{n-k}$$\n",
    "$$\\mathbb{E}[X] = np$$\n",
    "$$\\text{Var}(X) = np(1 - p)$$\n",
    "\n",
    "$$\\binom{n}{k} = \\frac{n!}{k!(n-k)!}$$"
   ]
  },
  {
   "cell_type": "markdown",
   "metadata": {},
   "source": [
    "### Multinomial distribution\n",
    "\n",
    "Parameters:\n",
    "- $n$: number of trials\n",
    "- $p_i$: probability of event $i$: $\\sum p_i = 1$, $p_i >= 0$\n",
    "\n",
    "$X$ discrete vector of size $K$: $X_i$: number of realisations of the event $i$.\n",
    "\n",
    "$$\\text{PMF: } f(x) = \\binom{n}{x_1\\text{...} x_k} \\prod_{i=1}^K p_i^{x_i}$$\n",
    "\n",
    "$$\\mathbb{E}[X_i] = np_i$$\n",
    "$$\\text{Var}(X_i) = np_i(1 - p_i)$$\n",
    "$$\\text{Cov}(X_i, X_j) = -np_ip_j \\space (i \\neq j)$$\n",
    "\n",
    "$$\\binom{n}{k_1 \\text{...} k_m}= \\frac{n!}{\\prod_{i=1}^m k_i!}$$"
   ]
  },
  {
   "cell_type": "code",
   "execution_count": 3,
   "metadata": {},
   "outputs": [
    {
     "name": "stdout",
     "output_type": "stream",
     "text": [
      "p[0]: 0.100111\n",
      "p[1]: 0.599824\n",
      "p[2]: 0.300065\n"
     ]
    }
   ],
   "source": [
    "def rand_multinomial(p):\n",
    "    s = 0\n",
    "    p2 = np.empty(len(p))\n",
    "    for i in range(len(p)-1):\n",
    "        s += p[i]\n",
    "        p2[i] = s\n",
    "    p2[-1] = 1\n",
    "    \n",
    "    u = np.random.rand()\n",
    "    k = 0\n",
    "    while u > p2[k]:\n",
    "        k += 1\n",
    "    return k\n",
    "\n",
    "N = 1000000\n",
    "x = np.empty(N).astype(np.int)\n",
    "p = [0.1, 0.6, 0.3]\n",
    "for i in range(N):\n",
    "    x[i] = rand_multinomial(p)\n",
    "    \n",
    "print('p[0]:', np.mean(x==0))\n",
    "print('p[1]:', np.mean(x==1))\n",
    "print('p[2]:', np.mean(x==2))"
   ]
  },
  {
   "cell_type": "markdown",
   "metadata": {},
   "source": [
    "### Multivariate Normal distribution\n",
    "\n",
    "$$X \\sim \\mathcal{N}(\\mu, \\Sigma)$$\n",
    "Parameters:\n",
    "- $\\mu \\in \\mathbb{R}^p$: mean\n",
    "- $\\Sigma \\in \\mathbb{R}^{p*p}$: covariance matrix (positive semi-definite)\n",
    "\n",
    "$$\\text{PDF: } f(x) = ((2\\pi)^{p} \\text{det}(\\Sigma))^{-\\frac{1}{2}} \\exp(-\\frac{1}{2} (x - \\mu)^T \\Sigma^{-1}(x-\\mu))$$\n",
    "\n",
    "$$\\mathbb{E}[X] = \\mu$$\n",
    "$$\\text{Var}(X) = \\Sigma$$"
   ]
  },
  {
   "cell_type": "code",
   "execution_count": 4,
   "metadata": {},
   "outputs": [
    {
     "name": "stdout",
     "output_type": "stream",
     "text": [
      "mu = [ 0.5 -1.2  4.6]\n",
      "sig=\n",
      "[[  8.37 -15.9   -8.97]\n",
      " [-15.9   54.17  19.91]\n",
      " [ -8.97  19.91  13.1 ]]\n",
      "[NP] mu = [ 0.50222592 -1.20955802  4.59724489]\n",
      "[NP] sig=\n",
      "[[  8.35834937 -15.88065631  -8.96131016]\n",
      " [-15.88065631  54.14404598  19.89265238]\n",
      " [ -8.96131016  19.89265238  13.09290894]]\n",
      "mu = [ 0.50484791 -1.2159041   4.59343395]\n",
      "sig=\n",
      "[[  8.38059383 -15.94549354  -8.98644397]\n",
      " [-15.94549354  54.29586645  19.97139495]\n",
      " [ -8.98644397  19.97139495  13.1232424 ]]\n"
     ]
    }
   ],
   "source": [
    "\n",
    "rmu = np.array([0.5, -1.2, 4.6])\n",
    "rsig = np.array([[0.4, 1.2, -1.8],[2.5,-2.8,-1.9],[-1.4,6.7,2.5]])\n",
    "rsig = rsig.T @ rsig\n",
    "N = 1000000\n",
    "\n",
    "print('mu =', rmu)\n",
    "print('sig=')\n",
    "print(rsig)\n",
    "\n",
    "X = np.random.multivariate_normal(rmu, rsig, size=N, check_valid='raise')\n",
    "mu = np.mean(X, axis=0)\n",
    "sig = 1/N * (X - mu.reshape(1,3)).T @ (X - mu.reshape(1,3))\n",
    "print('[NP] mu =', mu)\n",
    "print('[NP] sig=')\n",
    "print(sig)\n",
    "\n",
    "\n",
    "def normal_multivariate(mu, sig, size):\n",
    "    N = size\n",
    "    p = len(mu)\n",
    "    X = np.empty((N,p))\n",
    "    d, V = np.linalg.eig(sig)\n",
    "    Q = np.sqrt(d).reshape(1,p) * V \n",
    "    \n",
    "    \n",
    "    for i in range(N):\n",
    "        xn = np.random.randn(p)\n",
    "        X[i] = Q @ xn + mu\n",
    "    return X\n",
    "    \n",
    "X = normal_multivariate(rmu, rsig, size=N)\n",
    "mu = np.mean(X, axis=0)\n",
    "sig = 1/N * (X - mu.reshape(1,3)).T @ (X - mu.reshape(1,3))\n",
    "print('mu =', mu)\n",
    "print('sig=')\n",
    "print(sig)"
   ]
  },
  {
   "cell_type": "markdown",
   "metadata": {},
   "source": [
    "### Beta distribution\n",
    "\n",
    "$$X \\sim \\text{Beta}(\\alpha, \\beta)$$\n",
    "\n",
    "Parameters:\n",
    "- $\\alpha \\in \\mathbb{R} > 0$\n",
    "- $\\beta \\in \\mathbb{R} > 0$\n",
    "\n",
    "The parameter $x \\in \\mathbb{R}$ must bet in $[0,1]$\n",
    "\n",
    "$$\\text{PDF: } f(x) = \\frac{x^{\\alpha-1} (1-x)^{\\beta - 1}}{B(\\alpha,\\beta)}$$\n",
    "\n",
    "$$\\text{where } B(\\alpha,\\beta) = \\frac{\\Gamma (\\alpha) \\Gamma(\\beta)}{\\Gamma (\\alpha + \\beta)}$$\n",
    "\n",
    "$$\\text{where } \\Gamma(z) = \\int_{0}^{+\\infty} x^{z-1} e^{-x}dx$$  \n",
    "\n",
    "$$E[X] = \\frac{\\alpha}{\\alpha + \\beta}$$\n",
    "$$\\text{Var}(X) = \\frac{\\alpha\\beta}{(\\alpha+\\beta)^2(\\alpha+\\beta+1)}$$\n",
    "\n",
    "The beta distribution is the conjugate prior probability distribution of the bernoulli, bonomial, and geometric distributions.  \n",
    "It is usually used to describe prior knowledge concerning the probability of success of an event."
   ]
  },
  {
   "cell_type": "markdown",
   "metadata": {},
   "source": [
    "### Dirichlet distribution\n",
    "\n",
    "$$X \\sim \\text{Dir}(\\alpha)$$\n",
    "\n",
    "Parameters:\n",
    "$\\alpha \\in \\mathbb{R}^K$, $K \\geq 2$, $\\alpha_k > 0$\n",
    "\n",
    "Input: $x \\in \\mathbb{R}^K$, with $x_k \\in [0,1]$, and $\\sum_{k=1}^Kx_k=1$\n",
    "\n",
    "$$\\text{PDF: } \\frac{1}{B(\\alpha)} \\prod_{i=1}^K x_i^{\\alpha_i-1}$$\n",
    "\n",
    "$$\\text{where } B(\\alpha) = \\frac{\\prod_{i=1}^K \\Gamma(\\alpha_i)}{\\Gamma(\\sum_{i=1}^K\\alpha_i)}$$\n",
    "\n",
    "$$E[X_i] = \\frac{\\alpha_i}{\\sum_{k=1}^K \\alpha_k}$$\n",
    "$$\\text{Var}(X_i) = \\frac{\\alpha_i(\\alpha_0 - \\alpha_i)}{\\alpha_0^2(\\alpha_0 + 1)}$$\n",
    "$$\\text{where } \\alpha_0 = \\sum_{i=1}^K \\alpha_i$$  \n",
    "\n",
    "The dirichlet distribution is a multivariate generalization of the beta distribution.  \n",
    "It's the conjugate prior probability distribution of the categorical and polynomial distribution."
   ]
  },
  {
   "cell_type": "code",
   "execution_count": null,
   "metadata": {},
   "outputs": [],
   "source": []
  }
 ],
 "metadata": {
  "kernelspec": {
   "display_name": "Python 3",
   "language": "python",
   "name": "python3"
  },
  "language_info": {
   "codemirror_mode": {
    "name": "ipython",
    "version": 3
   },
   "file_extension": ".py",
   "mimetype": "text/x-python",
   "name": "python",
   "nbconvert_exporter": "python",
   "pygments_lexer": "ipython3",
   "version": "3.6.7"
  }
 },
 "nbformat": 4,
 "nbformat_minor": 2
}
