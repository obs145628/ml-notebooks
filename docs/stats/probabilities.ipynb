{
 "cells": [
  {
   "cell_type": "code",
   "execution_count": 1,
   "metadata": {},
   "outputs": [],
   "source": [
    "import sys\n",
    "sys.path.append('..')\n",
    "\n",
    "import math\n",
    "import numpy as np\n",
    "\n",
    "import metrics"
   ]
  },
  {
   "cell_type": "markdown",
   "metadata": {},
   "source": [
    "# Probabilities"
   ]
  },
  {
   "cell_type": "markdown",
   "metadata": {},
   "source": [
    "## Events"
   ]
  },
  {
   "cell_type": "markdown",
   "metadata": {},
   "source": [
    "$$P(A\\cup B) = P(A) + P(B) - P(A \\cap B)$$\n",
    "$$P(E|F) = \\frac{P(E \\cap F)}{P(F)}$$\n",
    "$A$ and $B$ independants $\\iff P(A \\cap B) = P(A)P(B)$\n",
    "\n",
    "### Bayes formula\n",
    "\n",
    "$$P(E|F) = \\frac{P(F|E)P(E)}{P(F)}$$"
   ]
  },
  {
   "cell_type": "markdown",
   "metadata": {},
   "source": [
    "## Discrete random variable\n",
    "\n",
    "$X$ discrete, can only take an enumerable number values.  \n",
    "\n",
    "### Probability Mass Function (PMF)\n",
    "\n",
    "$$p(a) = P\\{X = a\\}$$\n",
    "$$\\forall i: \\space p(x_i) \\geq 0$$\n",
    "$$\\sum_{i=1}^\\infty p(x_i) = 1$$\n",
    "\n",
    "\n",
    "### Cumlative Distribution Fuction (CDF)\n",
    "\n",
    "$$F(a) = P\\{X \\leq a\\} = \\sum_{x_i \\leq a} p(x_i)$$"
   ]
  },
  {
   "cell_type": "markdown",
   "metadata": {},
   "source": [
    "## Continous Random Variable\n",
    "\n",
    "$X$ conitnous variable, can take an infinite number of real values.\n",
    "\n",
    "### Probability Density Function (PDF):\n",
    "\n",
    "$$P\\{X \\in B\\} = \\int_{B} f(x)dx$$\n",
    "$$P{a \\leq X \\leq a} = \\int_a^b f(x)dx$$\n",
    "$$P \\{ X \\in ]-\\infty; +\\infty[ \\} = 1$$\n",
    "$$P \\{ X = a \\} = 0$$\n",
    "\n",
    "### Cumulative Distribution Function (CDF)\n",
    "\n",
    "$$F(a) = P \\{X < a \\} = P \\{ X \\leq a \\} = \\int_{-\\infty}^a f(x)dx$$\n",
    "$$\\frac{d}{da} F(a) = f(a)$$\n",
    "$$P \\{a \\leq X \\leq b \\} = F(b) - F(a)$$"
   ]
  },
  {
   "cell_type": "markdown",
   "metadata": {},
   "source": [
    "## Joint distributions\n",
    "\n",
    "### Discrete joint distributions\n",
    "\n",
    "$$p(x,y) = P \\{X=x, Y=y\\}$$\n",
    "$$p_X(x) = \\sum_y p(x,y)$$\n",
    "$$p_Y(y) = \\sum_x p(x,y)$$\n",
    "\n",
    "### Continuous joint distributions\n",
    "\n",
    "$$P \\{X \\in A, Y \\in B\\} = \\int_B \\int_A f(x,y)dxdy$$\n",
    "$$f(a, b) = \\frac{\\partial^2}{\\partial a \\partial b} F(a,b)$$\n",
    "$$P \\{X \\in A\\} = \\int_A \\int_{-\\infty}^{+\\infty} f(x,y)dydx$$\n",
    "$$P \\{Y \\in B\\} = \\int_B \\int_{-\\infty}^{+\\infty} f(x,y)dxdy$$"
   ]
  },
  {
   "cell_type": "markdown",
   "metadata": {},
   "source": [
    "## Conditional distributions\n",
    "\n",
    "$$P_{X|Y}(x|y) = P\\{X = x | Y=y\\} = \\frac{p(x,y)}{p_Y(y)} \\text{ (discrete variables)}$$\n",
    "$$f_{X|Y}(x|y) = P\\{X = x | Y=y\\} = \\frac{f(x,y)}{f_Y(y)} \\text{ (continuous variables)}$$"
   ]
  },
  {
   "cell_type": "markdown",
   "metadata": {},
   "source": [
    "## Dependance\n",
    "\n",
    "Two random variables are independant if the value of one does not affect the probability distribution of the other.  \n",
    "\n",
    "Thwo discrete random variables $X$ and $Y$ are independant if and only if:\n",
    "$$p_{X,Y}(x,y) = p_X(x)p_Y(y) \\space \\forall x,y$$\n",
    "\n",
    "Thwo continuous random variables $X$ and $Y$ are independant if and only if:\n",
    "$$F_{X,Y}(x,y) = F_X(x)F_Y(y) \\space \\forall x,y$$\n",
    "\n",
    "The same condition holds with the probability density $f$.  \n",
    "\n",
    "If two random variables are not indepandant, they are called depandant."
   ]
  },
  {
   "cell_type": "markdown",
   "metadata": {},
   "source": [
    "## Expectation\n",
    "\n",
    "The expection of a random variable is the average value of this random variable.\n",
    "\n",
    "$$\\mathbb{E}[X] = \\sum_{i=1}^n x_ip(x_i) \\text{  (discrete variable)}$$\n",
    "$$\\mathbb{E}[X] = \\int_{-\\infty}^{+\\infty} xf(x)dx \\text{  (continous variable)}$$\n",
    "\n",
    "The expecation of an expression $\\mathbb{E}_{x \\sim X}[g(x)]$ is the average value of $f$, when $x$ comes from the random variable $X$.\n",
    "\n",
    "$$\\mathbb{E}[g(X)] = \\sum_{i=1}^n g(x_i)p(x_i) \\text{  (discrete variable)}$$\n",
    "$$\\mathbb{E}[g(X)] = \\int_{-\\infty}^{+\\infty} g(x)f(x)dx \\text{  (continous variable)}$$\n",
    "\n",
    "### Properties\n",
    "\n",
    "$$\\mathbb{E}[X+Y] = \\mathbb{E}[X] + \\mathbb{E}[Y]$$\n",
    "$$\\mathbb{E}[\\alpha X] = \\alpha \\mathbb{E}[X], \\space \\alpha \\in \\mathbb{R}$$\n",
    "\n",
    "### Estimate\n",
    "\n",
    "Let $x \\in \\mathbb{R}^N$ a sample of size $N$ from random variable $X$.  An estimate of the expectation (or mean) of $X$ is:\n",
    "$$\\bar{x} = \\frac{1}{N} \\sum_{i=1}^N x_i$$"
   ]
  },
  {
   "cell_type": "code",
   "execution_count": 2,
   "metadata": {},
   "outputs": [
    {
     "name": "stdout",
     "output_type": "stream",
     "text": [
      "2.9529466934036375\n",
      "2.952946693403637\n"
     ]
    }
   ],
   "source": [
    "def mean(x):\n",
    "    N = len(x)\n",
    "    res = 0\n",
    "    for i in range(N):\n",
    "        res += x[i]\n",
    "    return res / N\n",
    "\n",
    "x = np.random.randn(137) * 1.5 + 3.1\n",
    "print(mean(x))\n",
    "print(np.mean(x))"
   ]
  },
  {
   "cell_type": "markdown",
   "metadata": {},
   "source": [
    "## Variance\n",
    "\n",
    "The variance is a mesure of how much the value of a random variable change from it's expected value.\n",
    "\n",
    "$$\\text{Var}(X) = \\mathbb{E}[(X - \\mathbb{E}[X])^2] = \\mathbb{E}[X^2] - (\\mathbb{E}[X])^2$$\n",
    "\n",
    "$$\\text{Var}(\\alpha X + \\beta) = \\alpha^2 \\text{Var}(X), \\space \\alpha, \\beta \\in \\mathbb{R}$$\n",
    "\n",
    "Standard deviation $\\sigma(X)$:\n",
    "$$\\sigma(X) = \\sqrt{\\text{Var}(X)}$$  \n",
    "\n",
    "Let $x \\in \\mathbb{R}^N$ a sample of size $N$ from random variable $X$.  An estimate of the variance of $X$ is:\n",
    "$$\\text{Var}(x) = \\frac{1}{N} \\sum_{i=1}^N (x_i - \\bar{x})^2$$\n",
    "\n",
    "But this estimate is a biased estimate. Bessel's correction tries to correct the bias by dividing by $N-1$ instead of $N$:\n",
    "\n",
    "$$\\text{Var}(x) = \\frac{1}{N-1} \\sum_{i=1}^N (x_i - \\bar{x})^2$$"
   ]
  },
  {
   "cell_type": "code",
   "execution_count": 3,
   "metadata": {},
   "outputs": [
    {
     "name": "stdout",
     "output_type": "stream",
     "text": [
      "2.07029010630017\n",
      "2.07029010630017\n",
      "1.438850272370329\n",
      "1.438850272370329\n",
      "2.0855128276700245\n",
      "2.085512827670024\n"
     ]
    }
   ],
   "source": [
    "def variance(x, bias=True):\n",
    "    N = len(x)\n",
    "    div = N if bias else N - 1\n",
    "    mu = np.mean(x)\n",
    "    return np.sum((x - mu)**2) / div\n",
    "\n",
    "def std(x, bias=True):\n",
    "    return np.sqrt(variance(x, bias))\n",
    "\n",
    "x = np.random.randn(137) * 1.5 + 3.1\n",
    "print(variance(x))\n",
    "print(np.var(x))\n",
    "print(std(x))\n",
    "print(np.std(x))\n",
    "\n",
    "print(np.cov(x.reshape(1, -1)))\n",
    "print(variance(x, bias=False))"
   ]
  },
  {
   "cell_type": "markdown",
   "metadata": {},
   "source": [
    "## Covariance\n",
    "\n",
    "The Covariance is a mesure of the joint variability of 2 random variables.  \n",
    "A positive value means there is a positive linear relationship ($X$ have great values when $Y$ have great values and $X$ have low values when $Y$ have low values).  \n",
    "A negative value means there is a negative linear relationship ($X$ have great values when $Y$ have low values and $X$ have low values when $Y$ have great values).  \n",
    "\n",
    "Covariance between 2 random variables $X$ and $Y$.\n",
    "$$\\text{cov}(X,Y) = \\mathbb{E}[(X - \\mathbb{E}[X])(Y - \\mathbb{E}[Y])]$$\n",
    "$$\\text{cov}(X,Y) = \\mathbb{E}[XY] - \\mathbb{E}[X] \\mathbb{E}[Y]$$\n",
    "\n",
    "\n",
    "### Properties\n",
    "\n",
    "$$\\text{cov(X,X)} = \\text{Var(X)}$$\n",
    "$$\\text{cov(X,Y)} = \\text{cov(Y,X)}$$\n",
    "\n",
    "### Estimate\n",
    "\n",
    "Let $x$ and $y \\in \\mathbb{R}^N$ samples from respectives random variables $X$ and $Y$. An estimate of the covariance between $X$ and $Y$ is:\n",
    "\n",
    "$$\\text{cov}(x,y) = \\frac{1}{N} \\sum_{i=1}^N (x_i - \\bar{x})(y_i - \\bar{y})$$\n",
    "\n",
    "As for the variance, we can correct the bias:\n",
    "$$\\text{cov}(x,y) = \\frac{1}{N-1} \\sum_{i=1}^N (x_i - \\bar{x})(y_i - \\bar{y})$$\n",
    "\n",
    "### Covariance Matrix\n",
    "\n",
    "Let $X = (X_1, \\text{...}, X_n)$ a random vector, where each entry $X_i$ is a random variable.  \n",
    "We define the covariance matrix $\\Sigma \\in \\mathbb{R}^{n*n}$ suchat that the entry $(i,j)$ is the covariance between $X_i$ and $X_j$:\n",
    "$$\\Sigma_{ij} = \\text{cov}(X_i, X_j)$$\n",
    "$$\\Sigma_{ii} = \\text{Var}(X_i)$$\n",
    "$$\\Sigma_{ij} = \\Sigma_{ji}$$\n",
    "\n",
    "\n",
    "It is also called the auto-covariance matrix or the variance-covariance matrix.  \n",
    "It generalizes the notion of variance to multiple dimensions.  \n",
    "\n",
    "Let $X \\in \\mathbb{R}^{n*p}$, where each a row is a sample of size $p$ of the random variable $X_i$.  \n",
    "We can compute an estimate of the covariance matrix $\\Sigma \\in \\mathbb{R}^{N*N}$:\n",
    "$$\\Sigma_{ij} = \\text{cov}(x_i, x_j) = \\frac{1}{p} \\sum_{k=1}^p (x_{ik} - \\bar{x}_i)(x_{jk} - \\bar{x}_j)$$\n",
    "\n",
    "When the matrix $X$ is centered (each row has mean 0), it simplifies to:\n",
    "$$\\Sigma = \\frac{1}{p} \\sum_{k=1}^p  x_{:,k} x_{:,k}^T = \\frac{1}{p} X X^T$$"
   ]
  },
  {
   "cell_type": "code",
   "execution_count": 4,
   "metadata": {},
   "outputs": [
    {
     "name": "stdout",
     "output_type": "stream",
     "text": [
      "-0.007947126398190951\n",
      "-0.00794712639819096\n",
      "9.513896123207123e-15\n",
      "9.881154319026808e-15\n",
      "3.904817326864065e-15\n"
     ]
    }
   ],
   "source": [
    "def covar(x, y, bias=True):\n",
    "    N = len(x)\n",
    "    div = N if bias else N - 1\n",
    "    mux = np.mean(x)\n",
    "    muy = np.mean(y)\n",
    "    return np.sum((x - mux) * (y - muy)) / div\n",
    "\n",
    "def covar_mat(X, bias=True):\n",
    "    n = len(X)\n",
    "    C = np.empty((n,n))\n",
    "    for i in range(n):\n",
    "        C[i,i] = variance(X[i], bias=bias)\n",
    "    for i in range(n):\n",
    "        for j in range(i+1,n):\n",
    "            C[i,j] = covar(X[i], X[j], bias=bias)\n",
    "            C[j,i] = C[i,j]\n",
    "    return C\n",
    "\n",
    "def covar_mat2(X, bias=True):\n",
    "    p = X.shape[1]\n",
    "    div = p if bias else p - 1\n",
    "    X -= np.mean(X, axis=1, keepdims=True)\n",
    "    return (X @ X.T) / div\n",
    "\n",
    "x = np.random.randn(137) * 1.1 - 1.7\n",
    "y = np.random.randn(137) * 0.3 + 4.1\n",
    "\n",
    "print(covar(x, y))\n",
    "print(np.cov(np.vstack((x,y)), bias=True)[0,1])\n",
    "\n",
    "X = np.random.randn(108, 37) * 1.45 - 0.67\n",
    "C1 = np.cov(X, bias=True)\n",
    "C2 = covar_mat(X, bias=True)\n",
    "print(metrics.tdist(C1, C2))\n",
    "C1 = np.cov(X, bias=False)\n",
    "C2 = covar_mat(X, bias=False)\n",
    "print(metrics.tdist(C1, C2))\n",
    "\n",
    "C1 = np.cov(X, bias=True)\n",
    "C2 = covar_mat2(X, bias=True)\n",
    "print(metrics.tdist(C1, C2))"
   ]
  },
  {
   "cell_type": "markdown",
   "metadata": {},
   "source": [
    "## Correlation\n",
    "\n",
    "Correlation is a mesure to how close two variables are to having a linear relationship with each other.  \n",
    "The correlation is often mesured by a correlation coefficient. They exist different types of correlation coefficients.  \n",
    "\n",
    "Two variables are said uncorellated when their correlation coefficient is $0$. It means there is no increasing or decreasing trends between the 2 variables.  \n",
    "\n",
    "## Correlation and dependance\n",
    "\n",
    "The correlation can be seen as a more specific kind of dependance. Two variables can be uncorrelated (no sign of specific trends between them), and yet be dependant.  \n",
    "$X$ and $Y$ correlated implies that they are dependants (but the opposite direction is false).  \n",
    "Similarlyy, $X$ and $Y$ independant implies that they are uncorrelated (but the opposite direction is false). \n",
    "\n",
    "### Pearson correlation coefficient\n",
    "\n",
    "It is a measure of the linear correlation between 2 variables $X$ and $Y$, ranging from $-1$ to $1$, with $+1$ a total positive linear correlation, $-1$ a total negative linear correlation, and $0$ no linear correlation.  \n",
    "\n",
    "![correlation_examples](https://upload.wikimedia.org/wikipedia/commons/0/02/Correlation_examples.png)\n",
    "\n",
    "$$\\rho(X,Y) = \\frac{\\text{cov}(X,Y)}{\\sigma(X)\\sigma(Y)}$$\n",
    "\n",
    "### Estimate\n",
    "\n",
    "Let $x$ and $y \\in \\mathbb{R}^N$ samples from respectives random variables $X$ and $Y$. An estimate of the pearson correlation coefficient between $X$ and $Y$ is:\n",
    "\n",
    "$$\\rho(x,y) =\\frac{\\text{cov}(x,y)}{\\sigma(x)\\sigma(y)} = \\frac{\\sum_{i=1}^N (x_i - \\bar{x})(y_i - \\bar{y})}{\\sqrt{\\sum_{i=1}^N (x_i - \\bar{x})} \\sqrt{\\sum_{i=1}^N (y_i - \\bar{y})}}$$\n",
    "\n",
    "### Correlation Matrix\n",
    "\n",
    "The idea is similar to the covariance matrix. We present the correlation matrix for the pearson correlation coefficient.  \n",
    "Let $X = (X_1, \\text{...}, X_n)$ a random vector, where each entry $X_i$ is a random variable.  \n",
    "We define the correlation matrix $\\Sigma \\in \\mathbb{R}^{n*n}$ suchat that the entry $(i,j)$ is the correlation between $X_i$ and $X_j$:\n",
    "$$\\Sigma_{ij} = \\text{cov}(X_i, X_j)$$\n",
    "$$\\Sigma_{ii} = 1$$\n",
    "$$\\Sigma_{ij} = \\Sigma_{ji}$$  \n",
    "\n",
    "Let $X \\in \\mathbb{R}^{n*p}$, where each a row is a sample of size $p$ of the random variable $X_i$.  \n",
    "We can compute an estimate of the correlation matrix $\\Sigma \\in \\mathbb{R}^{N*N}$:\n",
    "$$\\Sigma_{ij} = \\rho(x_i, x_j)$$\n",
    "\n",
    "When each rows of $X$ as mean $0$ and starndard deviation $1$, it simplifies to:\n",
    "$$\\Sigma = \\frac{1}{p} \\sum_{k=1}^p  x_{:,k} x_{:,k}^T = \\frac{1}{p} X X^T$$"
   ]
  },
  {
   "cell_type": "code",
   "execution_count": 16,
   "metadata": {},
   "outputs": [
    {
     "name": "stdout",
     "output_type": "stream",
     "text": [
      "-0.07060091200764533\n",
      "-0.07060091200764526\n",
      "9.559066178840504e-16\n"
     ]
    }
   ],
   "source": [
    "def corr(x, y):\n",
    "    sx = std(x)\n",
    "    sy = std(y)\n",
    "    return covar(x,y) / (sx * sy)\n",
    "\n",
    "def corr_mat(X):\n",
    "    p = X.shape[1]\n",
    "    X -= np.mean(X, axis=1, keepdims=True)\n",
    "    X /= np.std(X, axis=1, keepdims=True)\n",
    "    return (X @ X.T) / p\n",
    "    \n",
    "\n",
    "x = np.random.randn(137) * 1.1 - 1.7\n",
    "y = np.random.randn(137) * 0.3 + 4.1\n",
    "\n",
    "print(corr(x, y))\n",
    "print(np.corrcoef(np.vstack((x,y)))[0,1])\n",
    "\n",
    "X = np.random.randn(4, 37) * 1.45 - 0.67\n",
    "\n",
    "C1 = np.corrcoef(X)\n",
    "C2 = corr_mat(X)\n",
    "print(metrics.tdist(C1, C2))"
   ]
  },
  {
   "cell_type": "markdown",
   "metadata": {},
   "source": [
    "## Common distribution"
   ]
  },
  {
   "cell_type": "markdown",
   "metadata": {},
   "source": [
    "### Normal distribution (Gaussian)\n",
    "\n",
    "$$X \\sim \\mathcal{N}(\\mu, \\sigma^2)$$\n",
    "Parameters:\n",
    "- $\\mu$: mean\n",
    "- $\\sigma^2 \\geq 0$: variance\n",
    "\n",
    "\n",
    "$$\\text{PDF: } f(x) = \\frac{1}{\\sqrt{2\\pi \\sigma^2}} \\text{exp}(-\\frac{(x - \\mu)^2}{2\\sigma^2})$$\n",
    "\n",
    "$$\\text{CDF: } F(x) = \\frac{1}{2}[1 + \\text{erf}(\\frac{x - \\mu}{\\sigma \\sqrt{2}})]$$\n",
    "$$\\mathbb{E}[X] = \\mu$$\n",
    "$$\\text{Var}(X) = \\sigma^2$$\n",
    "\n",
    "$$ \\text{erf}(x) = \\frac{1}{\\sqrt{\\pi}} \\int_{-x}^{x} e^{-t^2}dt$$"
   ]
  },
  {
   "cell_type": "code",
   "execution_count": 6,
   "metadata": {},
   "outputs": [
    {
     "name": "stdout",
     "output_type": "stream",
     "text": [
      "[NP]  mu = -1.3049802174821152\n",
      "[NP] std = 4.500744466064507\n",
      "[BM]  mu = -1.2979656266302555\n",
      "[BM] std = 4.498800445728129\n",
      "[MP]  mu = -1.2969973770770145\n",
      "[MP] std = 4.502027093734645\n"
     ]
    }
   ],
   "source": [
    "_box_muller = [None]\n",
    "def norm_box_muller():    \n",
    "    if _box_muller[0] is not None:\n",
    "        res = _box_muller[0]\n",
    "        _box_muller[0] = None\n",
    "        return res\n",
    "    \n",
    "    u1, u2 = np.random.rand(2)\n",
    "    r = np.sqrt(-2*np.log(u1))\n",
    "    theta = 2*np.pi*u2\n",
    "    x = r * np.cos(theta)\n",
    "    y = r * np.sin(theta)\n",
    "    _box_muller[0] = x\n",
    "    return y\n",
    "\n",
    "_marsagalia_polar = [None]\n",
    "def norm_marsagalia_polar():\n",
    "    if _marsagalia_polar[0] is not None:\n",
    "        res = _marsagalia_polar[0]\n",
    "        _marsagalia_polar[0] = None\n",
    "        return res\n",
    "\n",
    "    while True:\n",
    "        x, y = 2 * np.random.rand(2) - 1\n",
    "        s = x**2 + y**2\n",
    "        if s < 1 and s>0:\n",
    "            break\n",
    "    \n",
    "    f = np.sqrt((-2*np.log(s))/s)\n",
    "    a, b = x*f, y*f\n",
    "    _marsagalia_polar[0] = a\n",
    "    return b\n",
    "    \n",
    "    \n",
    "\n",
    "N = 1000000\n",
    "\n",
    "x = np.random.randn(N) * 4.5 - 1.3\n",
    "print('[NP]  mu =', np.mean(x))\n",
    "print('[NP] std =', np.std(x))\n",
    "\n",
    "\n",
    "x = np.empty(N)\n",
    "for i in range(N): x[i] = 4.5 * norm_box_muller() - 1.3\n",
    "print('[BM]  mu =', np.mean(x))\n",
    "print('[BM] std =', np.std(x))\n",
    "\n",
    "x = np.empty(N)\n",
    "for i in range(N): x[i] = 4.5 * norm_marsagalia_polar() - 1.3\n",
    "print('[MP]  mu =', np.mean(x))\n",
    "print('[MP] std =', np.std(x))"
   ]
  },
  {
   "cell_type": "code",
   "execution_count": 7,
   "metadata": {},
   "outputs": [
    {
     "name": "stdout",
     "output_type": "stream",
     "text": [
      "0.2533471031357997\n",
      "0.2533471031357997\n",
      "0.0\n",
      "[QT]  mu = -1.3085498511283453\n",
      "[QT] std = 4.504173063970272\n"
     ]
    }
   ],
   "source": [
    "#Generate from gaussian using quantile function\n",
    "import scipy.stats\n",
    "\n",
    "\n",
    "def norm_cdf(x):\n",
    "    return 1/2 * (1 + scipy.special.erf(x / np.sqrt(2)))\n",
    "\n",
    "def norm_quantile(x):\n",
    "    def f(v):\n",
    "        return norm_cdf(v) - x\n",
    "    return scipy.optimize.brentq(f, -10, 10)\n",
    "\n",
    "def randn_qt(size):\n",
    "    u = np.random.rand(size)\n",
    "    x = np.array([norm_quantile(v) for v in u])\n",
    "    return x\n",
    "\n",
    "v = 0.6\n",
    "b1 = scipy.stats.norm.ppf(v)\n",
    "b2 = norm_quantile(v)\n",
    "print(b1)\n",
    "print(b2)\n",
    "print(metrics.tdist(b1, b2))\n",
    "\n",
    "\n",
    "\n",
    "\n",
    "\n",
    "x = randn_qt(100000) * 4.5 - 1.3\n",
    "print('[QT]  mu =', np.mean(x))\n",
    "print('[QT] std =', np.std(x))"
   ]
  },
  {
   "cell_type": "markdown",
   "metadata": {},
   "source": [
    "###  Binomial distribution\n",
    "\n",
    "$$X \\sim B(n, p)$$\n",
    "Parameters:\n",
    "- $n$: number of trials\n",
    "- $p \\in [0, 1]$: success probability for each trial.\n",
    "\n",
    "$p(X = k)$: $k$: number of successes.\n",
    "\n",
    "$$\\text{PMF: } f(k) = \\binom{n}{k} p^k(1-p)^{n-k}$$\n",
    "$$\\mathbb{E}[X] = np$$\n",
    "$$\\text{Var}(X) = np(1 - p)$$\n",
    "\n",
    "$$\\binom{n}{k} = \\frac{n!}{k!(n-k)!}$$"
   ]
  },
  {
   "cell_type": "markdown",
   "metadata": {},
   "source": [
    "### Multinomial distribution\n",
    "\n",
    "Parameters:\n",
    "- $n$: number of trials\n",
    "- $p_i$: probability of event $i$: $\\sum p_i = 1$, $p_i >= 0$\n",
    "\n",
    "$X$ discrete vector of size $K$: $X_i$: number of realisations of the event $i$.\n",
    "\n",
    "$$\\text{PMF: } f(x) = \\binom{n}{x_1\\text{...} x_k} \\prod_{i=1}^K p_i^{x_i}$$\n",
    "\n",
    "$$\\mathbb{E}[X_i] = np_i$$\n",
    "$$\\text{Var}(X_i) = np_i(1 - p_i)$$\n",
    "$$\\text{Cov}(X_i, X_j) = -np_ip_j \\space (i \\neq j)$$\n",
    "\n",
    "$$\\binom{n}{k_1 \\text{...} k_m}= \\frac{n!}{\\prod_{i=1}^m k_i!}$$"
   ]
  },
  {
   "cell_type": "code",
   "execution_count": 8,
   "metadata": {},
   "outputs": [
    {
     "name": "stdout",
     "output_type": "stream",
     "text": [
      "p[0]: 0.099862\n",
      "p[1]: 0.599834\n",
      "p[2]: 0.300304\n"
     ]
    }
   ],
   "source": [
    "def rand_multinomial(p):\n",
    "    s = 0\n",
    "    p2 = np.empty(len(p))\n",
    "    for i in range(len(p)-1):\n",
    "        s += p[i]\n",
    "        p2[i] = s\n",
    "    p2[-1] = 1\n",
    "    \n",
    "    u = np.random.rand()\n",
    "    k = 0\n",
    "    while u > p2[k]:\n",
    "        k += 1\n",
    "    return k\n",
    "\n",
    "N = 1000000\n",
    "x = np.empty(N).astype(np.int)\n",
    "p = [0.1, 0.6, 0.3]\n",
    "for i in range(N):\n",
    "    x[i] = rand_multinomial(p)\n",
    "    \n",
    "print('p[0]:', np.mean(x==0))\n",
    "print('p[1]:', np.mean(x==1))\n",
    "print('p[2]:', np.mean(x==2))"
   ]
  },
  {
   "cell_type": "markdown",
   "metadata": {},
   "source": [
    "### Multivariate Normal distribution\n",
    "\n",
    "$$X \\sim \\mathcal{N}(\\mu, \\Sigma)$$\n",
    "Parameters:\n",
    "- $\\mu \\in \\mathbb{R}^p$: mean\n",
    "- $\\Sigma \\in \\mathbb{R}^{p*p}$: covariance matrix (positive semi-definite)\n",
    "\n",
    "$$\\text{PDF: } f(x) = ((2\\pi)^{p} \\text{det}(\\Sigma))^{-\\frac{1}{2}} \\exp(-\\frac{1}{2} (x - \\mu)^T \\Sigma^{-1}(x-\\mu))$$\n",
    "\n",
    "$$\\mathbb{E}[X] = \\mu$$\n",
    "$$\\text{Var}(X) = \\Sigma$$"
   ]
  },
  {
   "cell_type": "code",
   "execution_count": 9,
   "metadata": {},
   "outputs": [
    {
     "name": "stdout",
     "output_type": "stream",
     "text": [
      "mu = [ 0.5 -1.2  4.6]\n",
      "sig=\n",
      "[[  8.37 -15.9   -8.97]\n",
      " [-15.9   54.17  19.91]\n",
      " [ -8.97  19.91  13.1 ]]\n",
      "[NP] mu = [ 0.50405347 -1.21032113  4.59377737]\n",
      "[NP] sig=\n",
      "[[  8.38767344 -15.93293949  -8.99163212]\n",
      " [-15.93293949  54.22101876  19.95884064]\n",
      " [ -8.99163212  19.95884064  13.12666483]]\n",
      "mu = [ 0.50254462 -1.20765602  4.59670213]\n",
      "sig=\n",
      "[[  8.37677982 -15.9048349   -8.97634335]\n",
      " [-15.9048349   54.09143531  19.90138387]\n",
      " [ -8.97634335  19.90138387  13.09848767]]\n"
     ]
    }
   ],
   "source": [
    "\n",
    "rmu = np.array([0.5, -1.2, 4.6])\n",
    "rsig = np.array([[0.4, 1.2, -1.8],[2.5,-2.8,-1.9],[-1.4,6.7,2.5]])\n",
    "rsig = rsig.T @ rsig\n",
    "N = 1000000\n",
    "\n",
    "print('mu =', rmu)\n",
    "print('sig=')\n",
    "print(rsig)\n",
    "\n",
    "X = np.random.multivariate_normal(rmu, rsig, size=N, check_valid='raise')\n",
    "mu = np.mean(X, axis=0)\n",
    "sig = 1/N * (X - mu.reshape(1,3)).T @ (X - mu.reshape(1,3))\n",
    "print('[NP] mu =', mu)\n",
    "print('[NP] sig=')\n",
    "print(sig)\n",
    "\n",
    "\n",
    "def normal_multivariate(mu, sig, size):\n",
    "    N = size\n",
    "    p = len(mu)\n",
    "    X = np.empty((N,p))\n",
    "    d, V = np.linalg.eig(sig)\n",
    "    Q = np.sqrt(d).reshape(1,p) * V \n",
    "    \n",
    "    \n",
    "    for i in range(N):\n",
    "        xn = np.random.randn(p)\n",
    "        X[i] = Q @ xn + mu\n",
    "    return X\n",
    "    \n",
    "X = normal_multivariate(rmu, rsig, size=N)\n",
    "mu = np.mean(X, axis=0)\n",
    "sig = 1/N * (X - mu.reshape(1,3)).T @ (X - mu.reshape(1,3))\n",
    "print('mu =', mu)\n",
    "print('sig=')\n",
    "print(sig)"
   ]
  },
  {
   "cell_type": "markdown",
   "metadata": {},
   "source": [
    "### Beta distribution\n",
    "\n",
    "$$X \\sim \\text{Beta}(\\alpha, \\beta)$$\n",
    "\n",
    "Parameters:\n",
    "- $\\alpha \\in \\mathbb{R} > 0$\n",
    "- $\\beta \\in \\mathbb{R} > 0$\n",
    "\n",
    "The parameter $x \\in \\mathbb{R}$ must bet in $[0,1]$\n",
    "\n",
    "$$\\text{PDF: } f(x) = \\frac{x^{\\alpha-1} (1-x)^{\\beta - 1}}{B(\\alpha,\\beta)}$$\n",
    "\n",
    "$$\\text{where } B(\\alpha,\\beta) = \\frac{\\Gamma (\\alpha) \\Gamma(\\beta)}{\\Gamma (\\alpha + \\beta)}$$\n",
    "\n",
    "$$\\text{where } \\Gamma(z) = \\int_{0}^{+\\infty} x^{z-1} e^{-x}dx$$  \n",
    "\n",
    "$$E[X] = \\frac{\\alpha}{\\alpha + \\beta}$$\n",
    "$$\\text{Var}(X) = \\frac{\\alpha\\beta}{(\\alpha+\\beta)^2(\\alpha+\\beta+1)}$$\n",
    "\n",
    "The beta distribution is the conjugate prior probability distribution of the bernoulli, bonomial, and geometric distributions.  \n",
    "It is usually used to describe prior knowledge concerning the probability of success of an event."
   ]
  },
  {
   "cell_type": "markdown",
   "metadata": {},
   "source": [
    "### Dirichlet distribution\n",
    "\n",
    "$$X \\sim \\text{Dir}(\\alpha)$$\n",
    "\n",
    "Parameters:\n",
    "$\\alpha \\in \\mathbb{R}^K$, $K \\geq 2$, $\\alpha_k > 0$\n",
    "\n",
    "Input: $x \\in \\mathbb{R}^K$, with $x_k \\in [0,1]$, and $\\sum_{k=1}^Kx_k=1$\n",
    "\n",
    "$$\\text{PDF: } \\frac{1}{B(\\alpha)} \\prod_{i=1}^K x_i^{\\alpha_i-1}$$\n",
    "\n",
    "$$\\text{where } B(\\alpha) = \\frac{\\prod_{i=1}^K \\Gamma(\\alpha_i)}{\\Gamma(\\sum_{i=1}^K\\alpha_i)}$$\n",
    "\n",
    "$$E[X_i] = \\frac{\\alpha_i}{\\sum_{k=1}^K \\alpha_k}$$\n",
    "$$\\text{Var}(X_i) = \\frac{\\alpha_i(\\alpha_0 - \\alpha_i)}{\\alpha_0^2(\\alpha_0 + 1)}$$\n",
    "$$\\text{where } \\alpha_0 = \\sum_{i=1}^K \\alpha_i$$  \n",
    "\n",
    "The dirichlet distribution is a multivariate generalization of the beta distribution.  \n",
    "It's the conjugate prior probability distribution of the categorical and polynomial distribution."
   ]
  },
  {
   "cell_type": "code",
   "execution_count": null,
   "metadata": {},
   "outputs": [],
   "source": []
  }
 ],
 "metadata": {
  "kernelspec": {
   "display_name": "Python 3",
   "language": "python",
   "name": "python3"
  },
  "language_info": {
   "codemirror_mode": {
    "name": "ipython",
    "version": 3
   },
   "file_extension": ".py",
   "mimetype": "text/x-python",
   "name": "python",
   "nbconvert_exporter": "python",
   "pygments_lexer": "ipython3",
   "version": "3.6.7"
  }
 },
 "nbformat": 4,
 "nbformat_minor": 2
}
