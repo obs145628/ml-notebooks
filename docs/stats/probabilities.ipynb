{
 "cells": [
  {
   "cell_type": "markdown",
   "metadata": {},
   "source": [
    "# Probabilities"
   ]
  },
  {
   "cell_type": "markdown",
   "metadata": {},
   "source": [
    "## Events"
   ]
  },
  {
   "cell_type": "markdown",
   "metadata": {},
   "source": [
    "$$P(A\\cup B) = P(A) + P(B) - P(A \\cap B)$$\n",
    "$$P(E|F) = \\frac{P(E \\cap F)}{P(F)}$$\n",
    "$A$ and $B$ independants $\\iff P(A \\cap B) = P(A)P(B)$\n",
    "\n",
    "### Bayes formula\n",
    "\n",
    "$$P(E|F) = \\frac{P(F|E)P(E)}{P(F)}$$"
   ]
  },
  {
   "cell_type": "markdown",
   "metadata": {},
   "source": [
    "## Discrete random variable\n",
    "\n",
    "$X$ discrete, can only take an enumerable number values.  \n",
    "\n",
    "### Probability Mass Function (PMF)\n",
    "\n",
    "$$p(a) = P\\{X = a\\}$$\n",
    "$$\\forall i: \\space p(x_i) \\geq 0$$\n",
    "$$\\sum_{i=1}^\\infty p(x_i) = 1$$\n",
    "\n",
    "\n",
    "### Cumlative Distribution Fuction (CDF)\n",
    "\n",
    "$$F(a) = P\\{X \\leq a\\} = \\sum_{x_i \\leq a} p(x_i)$$"
   ]
  },
  {
   "cell_type": "markdown",
   "metadata": {},
   "source": [
    "## Continous Random Variable\n",
    "\n",
    "$X$ conitnous variable, can take an infinite number of real values.\n",
    "\n",
    "### Probability Density Function (PDF):\n",
    "\n",
    "$$P\\{X \\in B\\} = \\int_{B} f(x)dx$$\n",
    "$$P{a \\leq X \\leq a} = \\int_a^b f(x)dx$$\n",
    "$$P \\{ X \\in ]-\\infty; +\\infty[ \\} = 1$$\n",
    "$$P \\{ X = a \\} = 0$$\n",
    "\n",
    "### Cumulative Distribution Function (CDF)\n",
    "\n",
    "$$F(a) = P \\{X < a \\} = P \\{ X \\leq a \\} = \\int_{-\\infty}^a f(x)dx$$\n",
    "$$\\frac{d}{da} F(a) = f(a)$$\n",
    "$$P \\{a \\leq X \\leq b \\} = F(b) - F(a)$$"
   ]
  },
  {
   "cell_type": "markdown",
   "metadata": {},
   "source": [
    "## Expectation\n",
    "\n",
    "The expection of a random variable is the average value of this random variable.\n",
    "\n",
    "$$\\mathbb{E}[X] = \\sum_{i=1}^n x_ip(x_i) \\text{  (discrete variable)}$$\n",
    "$$\\mathbb{E}[X] = \\int_{-\\infty}^{+\\infty} xf(x)dx \\text{  (continous variable)}$$\n",
    "\n",
    "The expecation of an expression $\\mathbb{E}_{x \\sim X}[g(x)]$ is the average value of $f$, when $x$ comes from the random variable $X$.\n",
    "\n",
    "$$\\mathbb{E}[g(X)] = \\sum_{i=1}^n g(x_i)p(x_i) \\text{  (discrete variable)}$$\n",
    "$$\\mathbb{E}[g(X)] = \\int_{-\\infty}^{+\\infty} g(x)f(x)dx \\text{  (continous variable)}$$\n",
    "\n",
    "### Properties\n",
    "\n",
    "$$\\mathbb{E}[X+Y] = \\mathbb{E}[X] + \\mathbb{E}[Y]$$\n",
    "$$\\mathbb{E}[\\alpha X] = \\alpha \\mathbb{E}[X], \\space \\alpha \\in \\mathbb{R}$$"
   ]
  },
  {
   "cell_type": "markdown",
   "metadata": {},
   "source": [
    "## Variance\n",
    "\n",
    "The variance is a mesure of how much the value of a random variable change from it's expected value.\n",
    "\n",
    "$$\\text{Var}(X) = \\mathbb{E}[(X - \\mathbb{E}[X])^2] = \\mathbb{E}[X^2] - (\\mathbb{E}[X])^2$$\n",
    "\n",
    "$$\\text{Var}(\\alpha X + \\beta) = \\alpha^2 \\text{Var}(X), \\space \\alpha, \\beta \\in \\mathbb{R}$$\n",
    "\n",
    "Standard deviation $\\sigma(X)$:\n",
    "$$\\sigma(X) = \\sqrt{\\text{Var}(X)}$$"
   ]
  },
  {
   "cell_type": "markdown",
   "metadata": {},
   "source": [
    "## Covariance\n",
    "\n",
    "Covariance between 2 random variables $X$ and $Y$.\n",
    "$$\\text{cov}(X,Y) = \\mathbb{E}[(X - \\mathbb{E}[X])(Y - \\mathbb{E}[Y])]$$\n",
    "$$\\text{cov}(X,Y) = \\mathbb{E}[XY] - \\mathbb{E}[X] \\mathbb{E}[Y]$$\n",
    "\n",
    "\n",
    "### Properties\n",
    "\n",
    "$$\\text{cov(X,X)} = \\text{Var(X)}$$\n",
    "$$\\text{cov(X,Y)} = \\text{cov(Y,X)}$$"
   ]
  },
  {
   "cell_type": "markdown",
   "metadata": {},
   "source": [
    "## Discrete joint distributions\n",
    "\n",
    "$$p(x,y) = P \\{X=x, Y=y\\}$$\n",
    "$$p_X(x) = \\sum_y p(x,y)$$\n",
    "$$p_Y(y) = \\sum_x p(x,y)$$"
   ]
  },
  {
   "cell_type": "markdown",
   "metadata": {},
   "source": [
    "## Discrete continous distributions\n",
    "\n",
    "$$P \\{X \\in A, Y \\in B\\} = \\int_B \\int_A f(x,y)dxdy$$\n",
    "$$f(a, b) = \\frac{\\partial^2}{\\partial a \\partial b} F(a,b)$$\n",
    "$$P \\{X \\in A\\} = \\int_A \\int_{-\\infty}^{+\\infty} f(x,y)dydx$$\n",
    "$$P \\{Y \\in B\\} = \\int_B \\int_{-\\infty}^{+\\infty} f(x,y)dxdy$$"
   ]
  },
  {
   "cell_type": "markdown",
   "metadata": {},
   "source": [
    "## Conditional distributions\n",
    "\n",
    "$$P_{X|Y}(x|y) = P\\{X = x | Y=y\\} = \\frac{p(x,y)}{p_Y(y)} \\text{ (discrete variables)}$$\n",
    "$$f_{X|Y}(x|y) = P\\{X = x | Y=y\\} = \\frac{f(x,y)}{f_Y(y)} \\text{ (continuous variables)}$$"
   ]
  },
  {
   "cell_type": "markdown",
   "metadata": {},
   "source": [
    "## Common distribution"
   ]
  },
  {
   "cell_type": "markdown",
   "metadata": {},
   "source": [
    "### Normal distribution (Gaussian)\n",
    "\n",
    "$$X \\sim \\mathcal{N}(\\mu, \\sigma^2)$$\n",
    "Parameters:\n",
    "- $\\mu$: mean\n",
    "- $\\sigma^2 \\geq 0$: variance\n",
    "\n",
    "\n",
    "$$\\text{PDF: } f(x) = \\frac{1}{\\sqrt{2\\pi \\sigma^2}} \\text{exp}(-\\frac{(x - \\mu)^2}{2\\sigma^2})$$\n",
    "\n",
    "$$\\text{CDF: } F(x) = \\frac{1}{2}[1 + \\text{erf}(\\frac{x - \\mu}{\\sigma \\sqrt{2}})]$$\n",
    "$$\\mathbb{E}[X] = \\mu$$\n",
    "$$\\text{Var}(X) = \\sigma^2$$\n",
    "\n",
    "$$ \\text{erf}(x) = \\frac{1}{\\sqrt{\\pi}} \\int_{-x}^{x} e^{-t^2}dt$$"
   ]
  },
  {
   "cell_type": "markdown",
   "metadata": {},
   "source": [
    "###  Binomial distribution\n",
    "\n",
    "$$X \\sim B(n, p)$$\n",
    "Parameters:\n",
    "- $n$: number of trials\n",
    "- $p \\in [0, 1]$: success probability for each trial.\n",
    "\n",
    "$p(X = k)$: $k$: number of successes.\n",
    "\n",
    "$$\\text{PMF: } f(k) = \\binom{n}{k} p^k(1-p)^{n-k}$$\n",
    "$$\\mathbb{E}[X] = np$$\n",
    "$$\\text{Var}(X) = np(1 - p)$$\n",
    "\n",
    "$$\\binom{n}{k} = \\frac{n!}{k!(n-k)!}$$"
   ]
  },
  {
   "cell_type": "markdown",
   "metadata": {},
   "source": [
    "### Multinomial distribution\n",
    "\n",
    "Parameters:\n",
    "- $n$: number of trials\n",
    "- $p_i$: probability of event $i$: $\\sum p_i = 1$\n",
    "\n",
    "$X$ discrete vector of size $K$: $X_i$: number of realisations of the event $i$.\n",
    "\n",
    "$$\\text{PMF: } f(x) = \\binom{n}{x_1\\text{...} x_k} \\prod_{i=1}^K p_i^{x_i}$$\n",
    "\n",
    "$$\\mathbb{E}[X_i] = np_i$$\n",
    "$$\\text{Var}(X_i) = np_i(1 - p_i)$$\n",
    "$$\\text{Cov}(X_i, X_j) = -np_ip_j \\space (i \\neq j)$$\n",
    "\n",
    "$$\\binom{n}{k_1 \\text{...} k_m}= \\frac{n!}{\\prod_{i=1}^m k_i!}$$"
   ]
  },
  {
   "cell_type": "code",
   "execution_count": null,
   "metadata": {},
   "outputs": [],
   "source": []
  }
 ],
 "metadata": {
  "kernelspec": {
   "display_name": "Python 3",
   "language": "python",
   "name": "python3"
  },
  "language_info": {
   "codemirror_mode": {
    "name": "ipython",
    "version": 3
   },
   "file_extension": ".py",
   "mimetype": "text/x-python",
   "name": "python",
   "nbconvert_exporter": "python",
   "pygments_lexer": "ipython3",
   "version": "3.6.7"
  }
 },
 "nbformat": 4,
 "nbformat_minor": 2
}
