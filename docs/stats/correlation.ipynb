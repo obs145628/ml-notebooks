{
 "cells": [
  {
   "cell_type": "code",
   "execution_count": 79,
   "metadata": {},
   "outputs": [],
   "source": [
    "from IPython.display import Image\n",
    "import numpy as np"
   ]
  },
  {
   "cell_type": "markdown",
   "metadata": {},
   "source": [
    "# Correlation"
   ]
  },
  {
   "cell_type": "markdown",
   "metadata": {},
   "source": [
    "Correlation is a mesure how close are 2 variables to have a linear relationship"
   ]
  },
  {
   "cell_type": "code",
   "execution_count": 80,
   "metadata": {},
   "outputs": [
    {
     "data": {
      "text/html": [
       "<img src=\"https://upload.wikimedia.org/wikipedia/commons/0/02/Correlation_examples.png\"/>"
      ],
      "text/plain": [
       "<IPython.core.display.Image object>"
      ]
     },
     "execution_count": 80,
     "metadata": {},
     "output_type": "execute_result"
    }
   ],
   "source": [
    "Image(url='https://upload.wikimedia.org/wikipedia/commons/0/02/Correlation_examples.png')"
   ]
  },
  {
   "cell_type": "markdown",
   "metadata": {},
   "source": [
    "## Pearson product moment correlation coefficient\n",
    "\n",
    "$$\\text{corr}(X,Y) = \\frac{\\text{cov}(X,Y)}{\\sigma_X \\sigma_y} = \\frac{\\mathbb{E}[(X - \\mu_X)(Y - \\mu_Y)]}{\\sigma_X \\sigma_y}$$"
   ]
  },
  {
   "cell_type": "code",
   "execution_count": 41,
   "metadata": {},
   "outputs": [
    {
     "name": "stdout",
     "output_type": "stream",
     "text": [
      "-0.037154431652671724\n",
      "-0.03715443165267179\n"
     ]
    }
   ],
   "source": [
    "X = 2.5 * np.random.randn(17) + 1.3\n",
    "Y = 0.3 * np.random.randn(17) - 0.8\n",
    "\n",
    "def corr(x, y):\n",
    "    cx = np.mean(x)\n",
    "    cy = np.mean(y)\n",
    "    cov = np.mean((x - cx) * (y - cy))\n",
    "    return cov / (np.std(x) * np.std(y))\n",
    "    \n",
    "\n",
    "c1 = np.corrcoef(X, Y)[0, 1]\n",
    "c2 = corr(X, Y)\n",
    "print(c1)\n",
    "print(c2)"
   ]
  },
  {
   "cell_type": "markdown",
   "metadata": {},
   "source": [
    "When $X$ and $Y$ are standardized vectors:\n",
    "\n",
    "$$\\text{corr}(X,Y) = \\frac{\\langle X, Y \\rangle}{N}$$"
   ]
  },
  {
   "cell_type": "code",
   "execution_count": 78,
   "metadata": {},
   "outputs": [
    {
     "name": "stdout",
     "output_type": "stream",
     "text": [
      "-0.10537373822472725\n",
      "-0.10537373822472716\n",
      "-0.10537373822472715\n"
     ]
    }
   ],
   "source": [
    "X = 2.5 * np.random.randn(17) + 1.3\n",
    "Y = 0.3 * np.random.randn(17) - 0.8\n",
    "\n",
    "Xs = (X - np.mean(X)) / np.std(X)\n",
    "Ys = (Y - np.mean(Y)) / np.std(Y)\n",
    "\n",
    "c1 = np.corrcoef(Xs, Ys)[0, 1]\n",
    "c2 = np.corrcoef(X, Y)[0, 1]\n",
    "c3 = (Xs @ Ys) / len(X)\n",
    "print(c1)\n",
    "print(c2)\n",
    "print(c3)"
   ]
  }
 ],
 "metadata": {
  "kernelspec": {
   "display_name": "Python 3",
   "language": "python",
   "name": "python3"
  },
  "language_info": {
   "codemirror_mode": {
    "name": "ipython",
    "version": 3
   },
   "file_extension": ".py",
   "mimetype": "text/x-python",
   "name": "python",
   "nbconvert_exporter": "python",
   "pygments_lexer": "ipython3",
   "version": "3.6.7"
  }
 },
 "nbformat": 4,
 "nbformat_minor": 2
}
