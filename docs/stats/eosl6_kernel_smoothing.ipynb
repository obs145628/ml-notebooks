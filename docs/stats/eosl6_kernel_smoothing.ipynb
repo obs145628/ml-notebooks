{
 "cells": [
  {
   "cell_type": "code",
   "execution_count": 1,
   "metadata": {},
   "outputs": [],
   "source": [
    "import sys\n",
    "sys.path.append('..')\n",
    "\n",
    "import functools\n",
    "import matplotlib.pyplot as plt\n",
    "import numpy as np\n",
    "\n",
    "import metrics\n",
    "import utils"
   ]
  },
  {
   "cell_type": "markdown",
   "metadata": {},
   "source": [
    "# One-Dimensional Kernel Smothers\n",
    "\n",
    "## K neirest neighbours:\n",
    "\n",
    "$$\\hat{f}(x) = \\frac{1}{K} \\sum_{x_i \\in N_K(x)} y_i$$\n",
    "\n",
    "with $N_K(x)$ the $K$ closest points of $x$."
   ]
  },
  {
   "cell_type": "code",
   "execution_count": 2,
   "metadata": {},
   "outputs": [
    {
     "data": {
      "image/png": "[encoded data removed]",
      "text/plain": [
       "<Figure size 432x288 with 1 Axes>"
      ]
     },
     "metadata": {
      "needs_background": "light"
     },
     "output_type": "display_data"
    }
   ],
   "source": [
    "class MyKNN:\n",
    "    \n",
    "    def __init__(self, k):\n",
    "        self.k = k\n",
    "        \n",
    "    def fit(self, X, y):\n",
    "        self.X = X\n",
    "        self.y = y\n",
    "        \n",
    "    def get_k_closest(self, x):\n",
    "        \n",
    "        dists = np.empty(len(self.X))\n",
    "        for i in range(len(self.X)):\n",
    "            dists[i] = (self.X[i] - x) @ (self.X[i] - x)\n",
    "        \n",
    "        p = dists.argsort()\n",
    "        yp = self.y[p]\n",
    "        return yp[:self.k]\n",
    "        \n",
    "        \n",
    "    def predict(self, X):\n",
    "        y = np.empty(len(X))\n",
    "        for i in range(len(X)):    \n",
    "            clos = self.get_k_closest(X[i])\n",
    "            #print(clos.shape)\n",
    "            y[i] = np.mean(clos)\n",
    "        return y\n",
    "            \n",
    "X = 0.2*np.random.randn(100,1)**2 + 1.5*np.random.randn(100,1) + 0.3\n",
    "y = 0.8*X[:,0] - 0.3*X[:,0]**2 + 0.8*X[:,0]**3 + 1.3 + 5*np.random.randn(len(X))\n",
    "\n",
    "\n",
    "clf = MyKNN(k=5)\n",
    "clf.fit(X,y)\n",
    "preds = clf.predict(X)\n",
    "\n",
    "plt.scatter(X, y, c='b')\n",
    "\n",
    "xx = np.linspace(-5, 5, 500)\n",
    "plt.plot(xx, clf.predict(xx), c='r')\n",
    "plt.show()"
   ]
  },
  {
   "cell_type": "markdown",
   "metadata": {},
   "source": [
    "## Nadaraya-Watso kernel-weigthed average\n",
    "\n",
    "$$\\hat{f}(x_0) = \\frac{\\sum_{i=1}^N K(x_0, x_i)y_i}{\\sum_{i=1}^N K(x_0, x_i)}$$\n",
    "\n",
    "\n",
    "## Epanechnikov quadratic kernel\n",
    "\n",
    "$$K_\\lambda(x_0,x) = D(\\frac{|x-x_0|}{\\lambda})$$\n",
    "\n",
    "with\n",
    "\n",
    "$$D(t) = \n",
    "\\begin{cases}\n",
    "    \\frac{3}{4}(1-t^2) & \\text{if } |t| \\leq 1\\\\\n",
    "    0 & \\text{otherwise}\n",
    "\\end{cases}\n",
    "$$\n",
    "\n",
    "$\\lambda$ represent the with of the neighbourhood, it is constant.  \n",
    "It can be made variables:\n",
    "\n",
    "$$K_\\lambda(x_0,x) = D(\\frac{|x-x_0|}{h_\\lambda(x_0)})$$\n",
    "\n",
    "Large $\\lambda$ implies lower variance but higher bias."
   ]
  },
  {
   "cell_type": "code",
   "execution_count": 3,
   "metadata": {},
   "outputs": [
    {
     "data": {
      "image/png": "[encoded data removed]",
      "text/plain": [
       "<Figure size 432x288 with 1 Axes>"
      ]
     },
     "metadata": {
      "needs_background": "light"
     },
     "output_type": "display_data"
    }
   ],
   "source": [
    "\n",
    "\n",
    "class NadarayaWatson:\n",
    "    \n",
    "    def __init__(self, kernel):\n",
    "        self.kernel = kernel\n",
    "        \n",
    "    def fit(self, X, y):\n",
    "        self.X = X\n",
    "        self.y = y\n",
    "        \n",
    "        \n",
    "    def get_pred(self, x):\n",
    "        num = 0\n",
    "        den = 0\n",
    "        for i in range(len(self.X)):\n",
    "            d = self.kernel(x, self.X[i])\n",
    "            num += d * self.y[i]\n",
    "            den += d\n",
    "        \n",
    "        return 0 if den == 0 else num / den    \n",
    "        \n",
    "    def predict(self, X):\n",
    "        y = np.empty(len(X))\n",
    "        for i in range(len(X)):    \n",
    "            y[i] = self.get_pred(X[i])\n",
    "        return y\n",
    "    \n",
    "def epanechnikov(lbda, x0, x):\n",
    "    t = np.linalg.norm(x - x0) / lbda\n",
    "    if t <= 1:\n",
    "        return 3/4 * (1-t**2)\n",
    "    else:\n",
    "        return 0\n",
    "    \n",
    "\n",
    "X = 0.2*np.random.randn(100,1)**2 + 1.5*np.random.randn(100,1) + 0.3\n",
    "y = 0.8*X[:,0] - 0.3*X[:,0]**2 + 0.8*X[:,0]**3 + 1.3 + 5*np.random.randn(len(X))\n",
    "\n",
    "kernel = functools.partial(epanechnikov, 2)\n",
    "clf = NadarayaWatson(kernel)\n",
    "clf.fit(X,y)\n",
    "preds = clf.predict(X)\n",
    "\n",
    "plt.scatter(X, y, c='b')\n",
    "\n",
    "xx = np.linspace(-5, 5, 500)\n",
    "plt.plot(xx, clf.predict(xx), c='r')\n",
    "plt.show()"
   ]
  },
  {
   "cell_type": "markdown",
   "metadata": {},
   "source": [
    "# Local Linear Regression"
   ]
  },
  {
   "cell_type": "markdown",
   "metadata": {},
   "source": [
    "Locally weighted regression solves a different weighted least squares problem at each target point $x_0$:\n",
    "\n",
    "$$\\min_{\\alpha(x_0), \\beta(x_0)} \\sum_{i=1}^N K(x_0, x_i) [y_i - \\alpha(x_0) - \\beta(x_0)x_i]^2$$\n",
    "\n",
    "The estimate is $\\hat{f}(x_0) = \\hat{\\alpha}(x_0) + \\hat{\\beta}(x_0)x_0$\n",
    "\n",
    "The estimate can be found by solving a weighted least square at the target point:\n",
    "\n",
    "$$\\hat{f}(x_0) = b(x_0)^T(B^TW(x_0)B)^{-1}B^TW(x_0)y$$\n",
    "\n",
    "with:\n",
    "- $b(x) \\in \\mathbb{R}^{p+1}$ the vector $x$ with an extra column $1$ at the beginning\n",
    "- $B \\in \\mathbb{R}^{N*(p+1)}$ matrix where the i-th row is $b(x_i)$\n",
    "- $W(x_0) \\in \\mathbb{R}^{N*N}$ diagonal matrix where $w_{ii} = K(x_0,x_i)$\n",
    "\n",
    "The estimate is linear in $y_i$:\n",
    "$$\\hat{f}(x_0) = \\sum_{i=1}^N l_i(x_0)y_i$$"
   ]
  },
  {
   "cell_type": "code",
   "execution_count": 4,
   "metadata": {},
   "outputs": [
    {
     "data": {
      "image/png": "[encoded data removed]",
      "text/plain": [
       "<Figure size 432x288 with 1 Axes>"
      ]
     },
     "metadata": {
      "needs_background": "light"
     },
     "output_type": "display_data"
    }
   ],
   "source": [
    "class LocallyWeightedRegression:\n",
    "    \n",
    "    def __init__(self, kernel):\n",
    "        self.kernel = kernel\n",
    "        \n",
    "    def fit(self, X, y):\n",
    "        self.X = X\n",
    "        self.B = np.concatenate((np.ones((len(X), 1)), X), axis=1)\n",
    "        self.y = y\n",
    "        \n",
    "        \n",
    "    def get_pred(self, x):\n",
    "        b = np.ones(len(x) + 1)\n",
    "        b[1:] = x\n",
    "        \n",
    "        \n",
    "        W = np.zeros((len(self.X), len(self.X)))\n",
    "        for i in range(len(self.X)):\n",
    "            W[i,i] = self.kernel(x, self.X[i])\n",
    "            \n",
    "        BWB = self.B.T @ W @ self.B + 1e-6 * np.eye(len(b))\n",
    "        beta = np.linalg.inv(BWB) @ self.B.T @ W @ y\n",
    "        return b @ beta\n",
    "\n",
    "        \n",
    "    def predict(self, X):\n",
    "        \n",
    "        y = np.empty(len(X))\n",
    "        for i in range(len(X)):    \n",
    "            y[i] = self.get_pred(X[i])\n",
    "        return y\n",
    "    \n",
    "    \n",
    "X = 0.2*np.random.randn(100,1)**2 + 1.5*np.random.randn(100,1) + 0.3\n",
    "y = 0.8*X[:,0] - 0.3*X[:,0]**2 + 0.8*X[:,0]**3 + 1.3 + 5*np.random.randn(len(X))\n",
    "\n",
    "kernel = functools.partial(epanechnikov, 0.5)\n",
    "clf = LocallyWeightedRegression(kernel)\n",
    "clf.fit(X,y)\n",
    "\n",
    "plt.scatter(X, y, c='b')\n",
    "\n",
    "xx = np.linspace(-5, 5, 500).reshape(-1, 1)\n",
    "plt.plot(xx, clf.predict(xx), c='r')\n",
    "plt.show()"
   ]
  },
  {
   "cell_type": "markdown",
   "metadata": {},
   "source": [
    "## Local Polynomial Regression\n",
    "\n",
    "We can fit local polynomials of any degree $d$:\n",
    "\n",
    "$$\\min_{\\alpha(x_0), \\beta_j(x_0), j=1,\\text{...},d} \\sum_{i=1}^N K(x_0, x_i) [y_i - \\alpha(x_0) - \\sum_{j=1}^d \\beta_j(x_0)x_i^j]^2$$\n",
    "\n",
    "It tend to recude bias of local regression, but also increase variance"
   ]
  },
  {
   "cell_type": "code",
   "execution_count": 5,
   "metadata": {},
   "outputs": [
    {
     "data": {
      "image/png": "[encoded data removed]",
      "text/plain": [
       "<Figure size 432x288 with 1 Axes>"
      ]
     },
     "metadata": {
      "needs_background": "light"
     },
     "output_type": "display_data"
    }
   ],
   "source": [
    "class LocallyPolynomialRegression:\n",
    "    \n",
    "    def __init__(self, kernel, degree):\n",
    "        self.kernel = kernel\n",
    "        self.d = degree\n",
    "        \n",
    "    def fit(self, X, y):\n",
    "        self.X = X\n",
    "        self.y = y\n",
    "        self.B = self.extend_x(self.X)\n",
    "    \n",
    "    def extend_x(self, X):\n",
    "        n = X.shape[0]\n",
    "        p = X.shape[1]\n",
    "        B = np.empty((n, 1 + self.d*p))\n",
    "        B[:, 0] = np.ones(n)\n",
    "        \n",
    "        for d in range(self.d):\n",
    "            B[:, 1+p*d:1+p*d+p] = X**(d+1)\n",
    "        return B\n",
    "        \n",
    "    \n",
    "        \n",
    "    def get_pred(self, x):\n",
    "        b = self.extend_x(x.reshape(1, -1))[0]\n",
    "        \n",
    "        W = np.zeros((len(self.X), len(self.X)))\n",
    "        for i in range(len(self.X)):\n",
    "            W[i,i] = self.kernel(x, self.X[i])\n",
    "            \n",
    "        BWB = self.B.T @ W @ self.B + 1e-6 * np.eye(len(b))\n",
    "        beta = np.linalg.inv(BWB) @ self.B.T @ W @ y\n",
    "        return b @ beta\n",
    "\n",
    "        \n",
    "    def predict(self, X):\n",
    "        \n",
    "        y = np.empty(len(X))\n",
    "        for i in range(len(X)):    \n",
    "            y[i] = self.get_pred(X[i])\n",
    "        return y\n",
    "    \n",
    "    \n",
    "X = 0.2*np.random.randn(100,1)**2 + 1.5*np.random.randn(100,1) + 0.3\n",
    "y = 0.8*X[:,0] - 0.3*X[:,0]**2 + 0.8*X[:,0]**3 + 1.3 + 5*np.random.randn(len(X))\n",
    "\n",
    "kernel = functools.partial(epanechnikov, 0.5)\n",
    "clf = LocallyPolynomialRegression(kernel, degree=4)\n",
    "clf.fit(X,y)\n",
    "\n",
    "plt.scatter(X, y, c='b')\n",
    "\n",
    "xx = np.linspace(-5, 5, 500).reshape(-1, 1)\n",
    "plt.plot(xx, clf.predict(xx), c='r')\n",
    "plt.show()"
   ]
  },
  {
   "cell_type": "markdown",
   "metadata": {},
   "source": [
    "# Selecting the width of the kernel\n",
    "\n",
    "$\\lambda$ control the kernel width, might be different among kernels:\n",
    "- Epanechnikov: $\\lambda$ is the radius of the support region\n",
    "- Gaussian: $\\lambda$ is the standard deviation\n",
    "- KNN: expressed as $k/n$, number of neighbors\n",
    "\n",
    "With a small $\\lambda$, the number of $y_i$ and smaller, which increase the variance,  and closer to $x_0$, which reduce the bias.  \n",
    "With a high $\\lambda$, there will be lots of $y_i$, and averaging reduces the variance, but the observations are farther from $x_i$, that increase the bias."
   ]
  },
  {
   "cell_type": "markdown",
   "metadata": {},
   "source": [
    "# Local Regression in $\\mathbb{R}^p$\n",
    "\n",
    "The same kernel techniques (KNN, local linear/polynomial regression) can be applied as $p$ increases.  \n",
    "But one effect of the curse of dimensionality is that the fraction of points close to boundaries increase as the dimension grows, the kernel function should me modified to accomodate that.  \n",
    "\n",
    "What's more, as $p$ increases, in order to both maintaint the localness (low bias) and a good number of neighbors (variance), the number of obervations must increase exponentially."
   ]
  },
  {
   "cell_type": "markdown",
   "metadata": {},
   "source": [
    "# Structured Local Regression in $\\mathbb{R}^p$"
   ]
  },
  {
   "cell_type": "markdown",
   "metadata": {},
   "source": [
    "## Structured Kernels\n",
    "\n",
    "The default spheral kernel gives equal weight to each feature, a strategy could be to standardize the data. Another approch is to use a weight matrix to give different importance for the features:\n",
    "$$K_{\\lambda,A} = D( \\frac{(x-x_0)^T A (x - x_0)}{\\lambda})$$\n",
    "\n",
    "with $A \\in \\mathbb{R}^{p*p}$ a positive semi-definite matrix of weights.  \n",
    "\n",
    "If $A$ is diagonal, it's possible to control the influence of each feauture individually.  \n",
    "Models can try to learn $A$, like the project-pursuit regression model.  \n",
    "In general, models with $A$ are cumbersone, and they are better structurel models."
   ]
  },
  {
   "cell_type": "markdown",
   "metadata": {},
   "source": [
    "## Varying coefficient models\n",
    "\n",
    "We divide $X$ into a set $(X_1, \\text{...}, X_q)$ with $q < p$, and the reminding features are in $Z$.  \n",
    "\n",
    "We define the linear model:\n",
    "$$f(X) = \\alpha(Z) + \\sum_{i=1}^q \\beta_i(Z)X_i$$\n",
    "\n",
    "We can fit the model with locally weighted regression:\n",
    "\n",
    "$$\\min_{\\alpha(z_0), \\beta_j(z_0), j=1,\\text{...},q} \\sum_{i=1}^N K(z_0, z_i) [y_i - \\alpha(z_0) - \\sum_{j=1}^q x_{ij} \\beta_j(z_0)]^2$$"
   ]
  },
  {
   "cell_type": "markdown",
   "metadata": {},
   "source": [
    "# Local Likelihood and Other Models"
   ]
  },
  {
   "cell_type": "markdown",
   "metadata": {},
   "source": [
    "We can extend log-likehilood by adding observations weights, computed locally with kernels:\n",
    "\n",
    "$$l(\\beta(x_0)) \\sum_{i=1}^N K(x_0, x_i) l(y_i, x_i^T \\beta(x_0))$$\n",
    "\n",
    "We can extend the logistig regression model:\n",
    "\n",
    "$$P(G=g|X=x) = \\frac{\\exp(\\beta_g^Tx)}{1 + \\sum_{k=1}^K \\exp(\\beta_k^Tx)}$$\n",
    "\n",
    "The local likelihood can be written as:\n",
    "\n",
    "$$\\sum_{i=1}^N K(x_o,x_i) [\\beta_g(x_0)^T(x_i - x_0) - \\log (1 + \\sum_{k=1}^K \\exp(\\beta_k(x_0)^T(x_i - x_0))  ]$$\n",
    "\n",
    "The estimated probability is:\n",
    "\n",
    "$$\\hat{p} = P(G=g|X=x_0) = \\frac{\\exp(\\hat{\\beta}_j(x_0))}{1 + \\sum_{k=1}^K \\exp(\\beta_k(x_0))}$$"
   ]
  },
  {
   "cell_type": "markdown",
   "metadata": {},
   "source": [
    "# Kernel Density Estimation and Classification"
   ]
  },
  {
   "cell_type": "code",
   "execution_count": null,
   "metadata": {},
   "outputs": [],
   "source": []
  }
 ],
 "metadata": {
  "kernelspec": {
   "display_name": "Python 3",
   "language": "python",
   "name": "python3"
  },
  "language_info": {
   "codemirror_mode": {
    "name": "ipython",
    "version": 3
   },
   "file_extension": ".py",
   "mimetype": "text/x-python",
   "name": "python",
   "nbconvert_exporter": "python",
   "pygments_lexer": "ipython3",
   "version": "3.6.7"
  }
 },
 "nbformat": 4,
 "nbformat_minor": 2
}
