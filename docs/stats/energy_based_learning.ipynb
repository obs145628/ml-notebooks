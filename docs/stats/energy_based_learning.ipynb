{
 "cells": [
  {
   "cell_type": "markdown",
   "metadata": {},
   "source": [
    "Let $X_1$,..., $X_N$ random variables.  \n",
    "We define an energy function $E(X_1,\\text{...},X_N)$ that assigns a scalar to every possible configuration.  \n",
    "This function assign high energy values to configuration that are unlikely to be drawn from $P(X_1,\\text{...},X_N)$, and low energy values to configurations that are likely to be drawn from it."
   ]
  },
  {
   "cell_type": "markdown",
   "metadata": {},
   "source": [
    "- Inference: given some fixed values of $X$, we infer the other ones by finding the ones that minimizes $E$.\n",
    "- Learning: find $E$ that assign low values to $X$ from dataset, and higher values to other $X$."
   ]
  },
  {
   "cell_type": "code",
   "execution_count": null,
   "metadata": {},
   "outputs": [],
   "source": []
  }
 ],
 "metadata": {
  "kernelspec": {
   "display_name": "Python 3",
   "language": "python",
   "name": "python3"
  },
  "language_info": {
   "codemirror_mode": {
    "name": "ipython",
    "version": 3
   },
   "file_extension": ".py",
   "mimetype": "text/x-python",
   "name": "python",
   "nbconvert_exporter": "python",
   "pygments_lexer": "ipython3",
   "version": "3.6.7"
  }
 },
 "nbformat": 4,
 "nbformat_minor": 2
}
