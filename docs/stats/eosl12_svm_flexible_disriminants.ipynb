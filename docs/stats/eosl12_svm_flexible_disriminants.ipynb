{
 "cells": [
  {
   "cell_type": "code",
   "execution_count": 1,
   "metadata": {},
   "outputs": [],
   "source": [
    "import sys\n",
    "sys.path.append('..')\n",
    "\n",
    "import cvxopt\n",
    "import numpy as np\n",
    "import matplotlib.pyplot as plt\n",
    "\n",
    "import metrics\n",
    "import utils"
   ]
  },
  {
   "cell_type": "markdown",
   "metadata": {},
   "source": [
    "# Support Vector Classifier\n",
    "\n",
    "[Support-Vector Networks - Cortes, Vapnik, 1995](http://image.diku.dk/imagecanon/material/cortes_vapnik95.pdf)\n",
    "\n",
    "We have $N$ training points $(x_i, y_i)$ with $x_i \\in \\mathbb{R}^p$ and $y_i \\in \\{ -1, 1 \\}$.\n",
    "\n",
    "We can define an hyperplane as $\\{x: x^T\\beta + \\beta_0 = 0 \\}$.  \n",
    "Separating hyperplane can be used to classify the data: $G(x) = \\text{sign} (x^T\\beta + \\beta_0)$.\n",
    "We are trying to find an hyperplane, parameterized by $\\beta$ and $\\beta_0$, that correctly separate the training data.  \n",
    "\n",
    "This correspond to solving the following problem:\n",
    "$$\\min_{\\beta, \\beta_0} ||\\beta||$$\n",
    "$$\\text{subject to } y_i(x_i^T\\beta + \\beta_0) \\geq 1, i=1,\\text{...},N$$\n",
    "\n",
    "A solution only exists if the training is linearly separable.  \n",
    "\n",
    "To handle the non separable clases, we may allow some points to be on the wrong side of the margin.  \n",
    "Lets define some slack variables: $\\zeta = (\\zeta_1, \\text{...}, \\zeta_N)$.  \n",
    "We modify the constraints as:\n",
    "$$y_i(x_i^T\\beta + \\beta_0) \\geq M(1 - \\zeta_i)$$\n",
    "$$\\zeta_i \\geq 0, \\space \\sum_{i=1}^N \\zeta_i \\leq \\text{constant}$$\n",
    "$\\zeta_i$ is the proportional amount by wich prediction for $x_i$ is on the wrong side of the margin. Misclassification occurs when $\\zeta_i > 1$.\n",
    "\n",
    "The problem became:\n",
    "$$\\min_{\\beta, \\beta_0} ||\\beta||$$\n",
    "$$\\text{subject to } y_i(x_i^T\\beta + \\beta_0) \\geq 1 - \\zeta_i, i=1,\\text{...},N$$\n",
    "$$\\text{subject to } \\zeta_i \\geq 0, \\space \\sum_{i=1}^N \\zeta_i \\leq \\text{constant}$$"
   ]
  },
  {
   "cell_type": "markdown",
   "metadata": {},
   "source": [
    "The problem can be reformulated as:\n",
    "$$\\min_{\\beta, \\beta_0} \\frac{1}{2} ||\\beta||^2 + C \\sum_{i=1}^N \\zeta_i$$\n",
    "$$\\text{subject to } \\zeta_i \\geq 0, \\space y_i(x_i^T\\beta + \\beta_0) \\geq 1 - \\zeta_i, i=1,\\text{...},N$$\n",
    "\n",
    "with $C$ the cost parameter, an hyperparameter. The hard margin case corresponds to $C = \\infty$.  \n",
    "\n",
    "We get the following Lagrange (primal) problem:\n",
    "\n",
    "$$L_P(\\beta, \\beta_0, \\zeta) = \\frac{1}{2} ||\\beta||^2 + C \\sum_{i=1}^N \\zeta_i - \\sum_{i=1}^N \\alpha_i [y_i(x_i^T\\beta + \\beta_0) - (1 - \\zeta_i)] - \\sum_{i=1}^N \\mu_i \\zeta_i$$\n",
    "\n",
    "$$\\min_{\\beta, \\beta_0, \\zeta; \\zeta_i \\geq 0} \\max_{\\alpha, \\mu ; \\alpha_i \\geq 0, \\mu_i \\geq 0} L_P(\\beta, \\beta_0, \\zeta)$$\n",
    "\n",
    "Instead of solving the primal, we solve the dual, that gaves the same result:\n",
    "\n",
    "$$\\min_{\\beta, \\beta_0, \\zeta; \\zeta_i \\geq 0} \\max_{\\alpha, \\mu ; \\alpha_i \\geq 0, \\mu_i \\geq 0} L_P(\\beta, \\beta_0, \\alpha) = max_{\\alpha, \\mu ; \\alpha_i \\geq 0, \\mu_i \\geq 0} \\min_{\\beta, \\beta_0, \\zeta; \\zeta_i \\geq 0} L_P(\\beta, \\beta_0, \\zeta)$$ \n",
    "\n",
    "We start by minimizing $L_P(\\beta, \\beta_0, \\zeta)$ with respect to $\\beta$, $\\beta_0$, and $\\zeta$.  \n",
    "\n",
    "Solving $\\frac{\\partial L_P(\\beta, \\beta_0, \\zeta)}{\\partial \\beta} = 0$, we get:\n",
    "$$\\beta = \\sum_{i=1}^N \\alpha_i y_i x_i$$\n",
    "Solving $\\frac{\\partial L_P(\\beta, \\beta_0, \\zeta)}{\\partial \\beta_0} = 0$, we get:\n",
    "$$\\sum_{i=1}^N \\alpha_i y_i = 0$$\n",
    "Solving $\\frac{\\partial L_P(\\beta, \\beta_0, \\zeta)}{\\partial \\zeta} = 0$, we get:\n",
    "$$\\alpha_i = C - \\mu_i, \\space i=1,\\text{...},N$$\n",
    "\n",
    "Remplacing on the original equation, we get:\n",
    "\n",
    "$$L_D(\\alpha) = \\sum_{i=1}^N\\alpha_i - \\frac{1}{2} \\sum_{i=1}^N \\sum_{k=1}^N \\alpha_i \\alpha_k y_i y_k x_i^Tx_k$$\n",
    "\n",
    "The problem became:\n",
    "$$\\max_{\\alpha} L_D(\\alpha)$$\n",
    "$$\\text{s.t. } 0 \\leq \\alpha_i \\leq C \\space i=1,\\text{...}, N$$\n",
    "$$\\text{s.t. } \\sum_{i=1}^N \\alpha_i y_i = 0$$"
   ]
  },
  {
   "cell_type": "markdown",
   "metadata": {},
   "source": [
    "Another condition is satisfied:\n",
    "    \n",
    "$$\\alpha_i[y_i(x_i^T\\beta + \\beta_0) - (1 - \\zeta_i)] = 0 \\space i = 1,\\text{...},N$$\n",
    "\n",
    "- $\\alpha_i =0$:  $y_i(x_i^T + \\beta_0) > (1 - \\zeta_i)$\n",
    "- $\\alpha_i > 0$ and $\\zeta_i = 0$: $y_i(x_i^T + \\beta_0) = 1$, which means $x_i$ is on the boundary of the slab, and $0 < \\alpha_i < C$\n",
    "- $\\alpha_i > 0$ and $\\zeta_i > 0$: $\\alpha_i = C$\n",
    "\n",
    "$\\beta$ is defined in terms of a linear combination of the support points $x_i$ (where $\\alpha_i > 0$):\n",
    "\n",
    "$$\\beta = \\sum_{i=1}^N \\alpha_i y_i x_i$$\n",
    "\n",
    "$\\beta_0$ is obtained by solving $y_i(x_i^T + \\beta_0) = 1$ for any support points with $\\zeta_i = 0$.\n",
    "\n",
    "Predictions are made using:\n",
    "$$\\hat{G}(x) = \\text{sign}(x^T\\hat{\\beta} + \\hat{\\beta_0})$$"
   ]
  },
  {
   "cell_type": "markdown",
   "metadata": {},
   "source": [
    "We now convert the problem into a standard quadradic programming problem:\n",
    "    \n",
    "Let $H \\in \\mathbb{R}^{N*N}$: $H_{ij} = y_i y_j x_i^Tx_j$\n",
    "\n",
    "The problem became:\n",
    "$$\\max_{\\alpha} 1^T\\alpha - \\frac{1}{2} \\alpha^TH\\alpha$$\n",
    "$$\\text{s.t. } \\alpha_i \\geq 0$$\n",
    "$$\\text{s.t. } \\alpha_i \\leq C$$\n",
    "$$\\text{s.t. } y^T \\alpha = 0$$\n",
    "\n",
    "We reverse the sign and turn it into a minimization:\n",
    "\n",
    "$$\\min_{\\alpha} \\frac{1}{2} \\alpha^TH\\alpha - 1^T\\alpha$$\n",
    "$$\\text{s.t. } - \\alpha_i \\leq 0$$\n",
    "$$\\text{s.t. } \\alpha_i \\leq C$$\n",
    "$$\\text{s.t. } y^T \\alpha = 0$$\n",
    "\n",
    "We can compute the parameters:\n",
    "\n",
    "$$\\beta = (y \\odot \\alpha) X$$\n",
    "$$\\beta_0 = y_i - x_i \\beta, \\space \\forall i: \\alpha_i > 0 \\text{ and } \\zeta_i = 0$$"
   ]
  },
  {
   "cell_type": "code",
   "execution_count": 2,
   "metadata": {},
   "outputs": [
    {
     "name": "stdout",
     "output_type": "stream",
     "text": [
      "train acc: 0.7395833333333334\n",
      " test acc: 0.8082191780821918\n"
     ]
    },
    {
     "data": {
      "image/png": "[encoded data removed]",
      "text/plain": [
       "<Figure size 432x288 with 1 Axes>"
      ]
     },
     "metadata": {
      "needs_background": "light"
     },
     "output_type": "display_data"
    }
   ],
   "source": [
    "from sklearn.datasets import load_digits\n",
    "from sklearn.model_selection import train_test_split\n",
    "from sklearn.svm import SVC\n",
    "\n",
    "from sklearn.decomposition import PCA\n",
    "\n",
    "def plot_data(b, b0, X, y):\n",
    "\n",
    "    #bo + b1x1 + b2x2 = 0 => x2 = -b1/b2*x1 - b0/b2 \n",
    "    x1 = np.linspace(np.min(X[:,0]) - .5, np.max(X[:,0]) + .5, 1000)\n",
    "    plt.plot(x1, -b[0]/b[1]*x1 -b0/b[1])\n",
    "    \n",
    "    b10 = b / np.linalg.norm(b) * 10\n",
    "    plt.plot([0, b10[0]], [-b0/b[1], b10[1]-b0/b[1]], c='y')\n",
    "    \n",
    "    for i in range(len(X)):\n",
    "        plt.scatter(X[i][0], X[i][1], c=('r' if y[i] == 1 else 'g'))\n",
    "\n",
    "    plt.axis('equal')\n",
    "    plt.grid()\n",
    "    plt.show()\n",
    "\n",
    "\n",
    "X, y = load_digits().data, load_digits().target\n",
    "X = PCA(n_components=2).fit_transform(X)\n",
    "\n",
    "X = X[(y == 1) | (y == 7)]\n",
    "y = y[(y == 1) | (y == 7)]\n",
    "\n",
    "y[y == 1] = -1\n",
    "y[y == 7] = 1\n",
    "X_train, X_test, y_train, y_test = train_test_split(X, y, \n",
    "                                                    test_size=0.2,\n",
    "                                                   random_state=15)\n",
    "\n",
    "\n",
    "clf = SVC(C=1, kernel='linear')\n",
    "clf.fit(X_train, y_train)\n",
    "\n",
    "print('train acc:', np.mean(clf.predict(X_train) == y_train))\n",
    "print(' test acc:', np.mean(clf.predict(X_test) == y_test))\n",
    "\n",
    "plot_data(clf.coef_[0], clf.intercept_[0], X_test, y_test)"
   ]
  },
  {
   "cell_type": "code",
   "execution_count": 3,
   "metadata": {},
   "outputs": [
    {
     "name": "stdout",
     "output_type": "stream",
     "text": [
      "train acc: 0.7395833333333334\n",
      " test acc: 0.8082191780821918\n"
     ]
    },
    {
     "data": {
      "image/png": "[encoded data removed]",
      "text/plain": [
       "<Figure size 432x288 with 1 Axes>"
      ]
     },
     "metadata": {
      "needs_background": "light"
     },
     "output_type": "display_data"
    }
   ],
   "source": [
    "def svm_soft(X, y, C):\n",
    "    n, p = X.shape\n",
    "    X = X.astype(np.double)\n",
    "    y = y.astype(np.double)\n",
    "    \n",
    "    H = (y.reshape(-1, 1)*X @ (y.reshape(-1, 1)*X).T)\n",
    "    \n",
    "    P = cvxopt.matrix(H)\n",
    "    q = cvxopt.matrix(-np.ones((n, 1)))\n",
    "    G = cvxopt.matrix(np.vstack((-np.eye(n),np.eye(n))))\n",
    "    h = cvxopt.matrix(np.hstack((np.zeros((n,)), C*np.ones(n))))\n",
    "    A = cvxopt.matrix(y.reshape(1, -1))\n",
    "    b = cvxopt.matrix(np.zeros((1,)))\n",
    "    \n",
    "    cvxopt.solvers.options['show_progress'] = False\n",
    "    cvxopt.solvers.options['abstol'] = 1e-10\n",
    "    cvxopt.solvers.options['reltol'] = 1e-10\n",
    "    cvxopt.solvers.options['feastol'] = 1e-10\n",
    "    \n",
    "    sol = cvxopt.solvers.qp(P, q, G, h, A, b)\n",
    "    alpha = np.array(sol['x']).flatten()\n",
    "    \n",
    "    beta = (y * alpha) @ X\n",
    "    S = (alpha > 1e-4) & ((alpha - C)**2 > 1e-8)\n",
    "    beta0 = y[S] - (X[S] @ beta)\n",
    "    beta0 = np.mean(beta0)\n",
    "    \n",
    "    return alpha, beta, beta0\n",
    "    \n",
    "alpha, beta, beta0 = svm_soft(X_train, y_train, C=1)\n",
    "\n",
    "tr_preds = np.sign(X_train @ beta + beta0)\n",
    "te_preds = np.sign(X_test @ beta + beta0)\n",
    "print('train acc:', np.mean(tr_preds == y_train))\n",
    "print(' test acc:', np.mean(te_preds == y_test))\n",
    "plot_data(beta, beta0, X_test, y_test)"
   ]
  },
  {
   "cell_type": "code",
   "execution_count": 10,
   "metadata": {},
   "outputs": [
    {
     "name": "stdout",
     "output_type": "stream",
     "text": [
      "beta: [-0.17638245 -0.0945775 ]\n",
      "beta_0: -1.0342960501338918\n",
      "Number of support vectors for each class: [95 94]\n",
      "Accuracy: 0.7395833333333334\n"
     ]
    }
   ],
   "source": [
    "S = (alpha > 1e-4)\n",
    "S_idxs = np.arange(len(X_train))[S]\n",
    "S_vecs = X_train[S_idxs]\n",
    "S_nc = np.array([\n",
    "    np.sum(y_train[S_idxs] == -1),\n",
    "    np.sum(y_train[S_idxs] == +1),\n",
    "])\n",
    "\n",
    "y_pred = np.sign(X_train @ beta + beta0)\n",
    "acc = np.average(y_train == y_pred)\n",
    "\n",
    "print('beta:', beta)\n",
    "print('beta_0:', beta0)\n",
    "#print('Indices of support vectors:', S_idxs)\n",
    "#print('Support vectors:', S_vecs)\n",
    "print('Number of support vectors for each class:', S_nc)\n",
    "print('Accuracy:', acc)"
   ]
  },
  {
   "cell_type": "code",
   "execution_count": 8,
   "metadata": {},
   "outputs": [
    {
     "name": "stdout",
     "output_type": "stream",
     "text": [
      "beta: [[-0.1763627  -0.09456784]]\n",
      "beta_0: [-1.03423123]\n",
      "Number of support vectors for each class: [95 94]\n",
      "Accuracy: 0.7395833333333334\n"
     ]
    }
   ],
   "source": [
    "#Comparing with sklearn\n",
    "\n",
    "from sklearn.svm import SVC\n",
    "clf = SVC(C = 1, kernel = 'linear')\n",
    "clf.fit(X_train, y_train)\n",
    "\n",
    "y_pred = clf.predict(X_train)\n",
    "acc = np.average(y_train == y_pred)\n",
    "\n",
    "print('beta:', clf.coef_)\n",
    "print('beta_0:', clf.intercept_)\n",
    "#print('Indices of support vectors:', clf.support_)\n",
    "#print('Support vectors:', clf.support_vectors_)\n",
    "print('Number of support vectors for each class:', clf.n_support_)\n",
    "print('Accuracy:', acc)"
   ]
  },
  {
   "cell_type": "markdown",
   "metadata": {},
   "source": [
    "# SVM and Kernels\n",
    "\n",
    "We can apply basis expansions to the input features before using an SVM classifier:\n",
    "\n",
    "$$h(x_i) = (h_1(x_i), h_2(x_i), \\text{...}, h_M(x_i))$$\n",
    "\n",
    "An extension of the SVM allows to use very large basis expansions, even infintie ones, at a cheap cost.  \n",
    "For learning and inference, we only need to compute dot products between vectors of the input space. This can be done more cheaply than transforming the vectors on the new basis, and then computing their dot product.\n",
    "\n",
    "The dual function to maximize is:\n",
    "\n",
    "$$L_D(\\alpha) = \\sum_{i=1}^N\\alpha_i - \\frac{1}{2} \\sum_{i=1}^N \\sum_{k=1}^N \\alpha_i \\alpha_k y_i y_k \\langle  h(x_i), h(x_k) \\rangle$$\n",
    "\n",
    "The prediction function can be written as:\n",
    "\n",
    "$$f(x) = \\sum_{i=1}^N \\alpha_i y_i \\langle h(x), h(x_i) \\rangle + \\beta_\n",
    "0$$  \n",
    "\n",
    "We only need to know the kernel function:\n",
    "\n",
    "$$K(x,x') = \\langle h(x), h(x') \\rangle$$\n",
    "\n",
    "Popular choices of kernel are:\n",
    "\n",
    "- The $d$-th degree polynomial:\n",
    "$$K(x, x') = (1 + \\langle x, x' \\rangle )^d$$\n",
    "\n",
    "- The radial basis function (RBF):\n",
    "$$K(x, x') = \\exp (- \\gamma ||x - x'||^2)$$\n",
    "\n",
    "- Neural network:\n",
    "$$K(x, x') = \\tanh(k_1 \\langle x, x' \\rangle + k_2)$$"
   ]
  },
  {
   "cell_type": "code",
   "execution_count": 107,
   "metadata": {},
   "outputs": [],
   "source": [
    "class SVMClassifier:\n",
    "    \n",
    "    def __init__(self, C, k, alpha_tol=1e-4):\n",
    "        self.C = C\n",
    "        self.k = k\n",
    "        self.alpha_tol=alpha_tol\n",
    "    \n",
    "    def fit(self, X, y):\n",
    "        \n",
    "        n, p = X.shape\n",
    "        X = X.astype(np.double)\n",
    "        y = y.astype(np.double)\n",
    "    \n",
    "        H = np.empty((len(X), len(X)))\n",
    "        for i in range(len(X)):\n",
    "            for j in range(len(X)):\n",
    "                H[i,j] = y[i] * y[j] * self.k(X[i], X[j])\n",
    "        \n",
    "        P = cvxopt.matrix(H)\n",
    "        q = cvxopt.matrix(-np.ones((n, 1)))\n",
    "        G = cvxopt.matrix(np.vstack((-np.eye(n),np.eye(n))))\n",
    "        h = cvxopt.matrix(np.hstack((np.zeros((n,)), self.C*np.ones(n))))\n",
    "        A = cvxopt.matrix(y.reshape(1, -1))\n",
    "        b = cvxopt.matrix(np.zeros((1,)))\n",
    "\n",
    "        cvxopt.solvers.options['show_progress'] = False\n",
    "        cvxopt.solvers.options['abstol'] = 1e-10\n",
    "        cvxopt.solvers.options['reltol'] = 1e-10\n",
    "        cvxopt.solvers.options['feastol'] = 1e-10\n",
    "\n",
    "        sol = cvxopt.solvers.qp(P, q, G, h, A, b)\n",
    "        alpha = np.array(sol['x']).flatten()\n",
    "\n",
    "        beta = (y * alpha) @ X\n",
    "        S = (alpha > self.alpha_tol) & ((alpha - self.C)**2 > 1e-6)\n",
    "        \n",
    "        beta0 = np.empty(len(y[S]))\n",
    "        for j in range(len(beta0)):\n",
    "            beta0[j] = y[S][j]\n",
    "            for i in range(len(X)):\n",
    "                beta0[j] -= alpha[i] * y[i] * self.k(X[S][j], X[i])\n",
    "        beta0 = np.mean(beta0)\n",
    "        \n",
    "        self.alpha = alpha\n",
    "        self.beta0 = beta0\n",
    "        self.X = X\n",
    "        self.y = y\n",
    "        \n",
    "    def predict(self, X):\n",
    "        y = np.empty(len(X))\n",
    "        for i in range(len(X)):\n",
    "            y[i] = self.get_pred(X[i])\n",
    "        return y\n",
    "        \n",
    "    def get_pred(self, x):\n",
    "        y = self.beta0\n",
    "        for i in range(len(self.X)):\n",
    "            y += self.alpha[i] * self.y[i] * self.k(x, self.X[i])\n",
    "        return np.sign(y)\n",
    "    \n",
    "def kernel_linear():\n",
    "    return lambda x, y: x @ y\n",
    "\n",
    "def kernel_poly(d):\n",
    "    return lambda x, y: (1 + x @ y) ** d\n",
    "\n",
    "def kernel_rbf(gamma):\n",
    "    return lambda x, y: np.exp(-gamma * (x - y)@(x - y))"
   ]
  },
  {
   "cell_type": "markdown",
   "metadata": {},
   "source": [
    "## Linear kernel\n",
    "\n",
    "$$K(x, x') = \\langle x, x' \\rangle$$\n",
    "$$h(x) = x$$"
   ]
  },
  {
   "cell_type": "code",
   "execution_count": 95,
   "metadata": {},
   "outputs": [
    {
     "name": "stdout",
     "output_type": "stream",
     "text": [
      "beta_0: -1.10350876418606\n",
      "Number of support vectors for each class: [113 113]\n",
      "Accuracy: 0.7534626038781164\n"
     ]
    }
   ],
   "source": [
    "clf = SVMClassifier(C=2, k=kernel_linear())\n",
    "clf.fit(X, y)\n",
    "\n",
    "S = (clf.alpha > 1e-4)\n",
    "S_idxs = np.arange(len(X))[S]\n",
    "S_nc = np.array([\n",
    "    np.sum(y[S_idxs] == -1),\n",
    "    np.sum(y[S_idxs] == +1),\n",
    "])\n",
    "acc = np.average(clf.predict(X) == y)\n",
    "\n",
    "print('beta_0:', clf.beta0)\n",
    "print('Number of support vectors for each class:', S_nc)\n",
    "print('Accuracy:', acc)"
   ]
  },
  {
   "cell_type": "code",
   "execution_count": 96,
   "metadata": {},
   "outputs": [
    {
     "name": "stdout",
     "output_type": "stream",
     "text": [
      "beta_0: -1.1032004102141195\n",
      "Number of support vectors for each class: [113 113]\n",
      "Accuracy: 0.7534626038781164\n"
     ]
    }
   ],
   "source": [
    "#Comparing with sklearn\n",
    "\n",
    "from sklearn.svm import SVC\n",
    "clf = SVC(C=2, kernel='linear')\n",
    "clf.fit(X, y)\n",
    "acc = np.average(clf.predict(X) == y)\n",
    "\n",
    "print('beta_0:', clf.intercept_[0])\n",
    "print('Number of support vectors for each class:', clf.n_support_)\n",
    "print('Accuracy:', acc)"
   ]
  },
  {
   "cell_type": "markdown",
   "metadata": {},
   "source": [
    "## Polynomial Kernel\n",
    "\n",
    "$$K(x, x') = (1 + \\langle x, x' \\rangle)^d$$\n",
    "\n",
    "$h(x)$ perform a polynomial expansion of degree $d$. For a vector $x \\in \\mathbb{R}^p$, we get a feature space of size:\n",
    "$$\\binom{p+d}{d}$$\n",
    "\n",
    "When $d = 2$:\n",
    "\n",
    "$$h(x) = (1, \\sqrt{2} x_1, \\text{...}, \\sqrt{2} x_p,  x_1^2, \\text{...}, x_p^2, \\sqrt{2} x_p x_{p-1}, \\text{...}, \\sqrt{2} x_p x_1, \\sqrt{2} x_{p-1} x_{p-2}, \\sqrt{2} x_{p-1} x_1, \\text{...}, \\sqrt{2} x_2 x_1)$$\n",
    "\n",
    "When $d=2, p=3, x=(x_1, x_2, x_3)$:\n",
    "$$h(x) = (1, \\sqrt{2} x_1, \\sqrt{2} x_2, \\sqrt{2} x_3, x_1^2, x_2^2, x_3^2, \\sqrt{2} x_3 x_2, \\sqrt{2} x_3 x_1, \\sqrt{2} x_2 x_1)$$"
   ]
  },
  {
   "cell_type": "code",
   "execution_count": 97,
   "metadata": {},
   "outputs": [
    {
     "name": "stdout",
     "output_type": "stream",
     "text": [
      "beta_0: -2.555446699499953\n",
      "Number of support vectors for each class: [66 64]\n",
      "Accuracy: 0.853185595567867\n"
     ]
    }
   ],
   "source": [
    "clf = SVMClassifier(C=2, k=kernel_poly(3), alpha_tol=1e-8)\n",
    "clf.fit(X, y)\n",
    "\n",
    "S = (clf.alpha > clf.alpha_tol)\n",
    "S_idxs = np.arange(len(X))[S]\n",
    "S_nc = np.array([\n",
    "    np.sum(y[S_idxs] == -1),\n",
    "    np.sum(y[S_idxs] == +1),\n",
    "])\n",
    "acc = np.average(clf.predict(X) == y)\n",
    "\n",
    "print('beta_0:', clf.beta0)\n",
    "print('Number of support vectors for each class:', S_nc)\n",
    "print('Accuracy:', acc)"
   ]
  },
  {
   "cell_type": "code",
   "execution_count": 93,
   "metadata": {},
   "outputs": [
    {
     "name": "stdout",
     "output_type": "stream",
     "text": [
      "beta_0: -43.87659197123928\n",
      "Number of support vectors for each class: [43 43]\n",
      "Accuracy: 0.8310249307479224\n"
     ]
    }
   ],
   "source": [
    "#Comparing with sklearn\n",
    "\n",
    "from sklearn.svm import SVC\n",
    "clf = SVC(C=2, kernel='poly', degree=3, gamma=1.0, coef0=1.0)\n",
    "clf.fit(X, y)\n",
    "acc = np.average(clf.predict(X) == y)\n",
    "\n",
    "print('beta_0:', clf.intercept_[0])\n",
    "print('Number of support vectors for each class:', clf.n_support_)\n",
    "print('Accuracy:', acc)"
   ]
  },
  {
   "cell_type": "markdown",
   "metadata": {},
   "source": [
    "## RBF Kernel\n",
    "\n",
    "$$K(x, x') = \\exp (- \\frac{||x - x'||^2}{2\\sigma^2})$$ \n",
    "We often use the $\\gamma$ parameter instead:\n",
    "$$\\gamma = \\frac{1}{2 \\sigma^2}$$\n",
    "\n",
    "The feature space of $h(x)$ has an infite number of dimensions.  \n",
    "\n",
    "The RBF function acts as a similarity measure. The closer are $x$ and $x'$, the higher is the value, and the more far, the lower is the value. When the distance is $\\infty$ the value is $0$, and when $x=x'$ the value is 1.\n",
    "\n",
    "The $\\gamma$ parameter defines how far the influence of a single training exmample reaches, with low values meaning far, and high value meaning closes.  \n",
    "With $\\gamma$ too large, the area of influence of a support vector only includes the support vector itself, and the model is prone to huge overfitting.  \n",
    "With $\\gamma$ too small, the area of influence of a support vector includes the whole training set, and the model converges to a linear one."
   ]
  },
  {
   "cell_type": "code",
   "execution_count": 106,
   "metadata": {},
   "outputs": [
    {
     "name": "stdout",
     "output_type": "stream",
     "text": [
      "beta_0: -0.1482645146885623\n",
      "Number of support vectors for each class: [162 157]\n",
      "Accuracy: 0.9695290858725761\n"
     ]
    }
   ],
   "source": [
    "clf = SVMClassifier(C=2, k=kernel_rbf(1.5))\n",
    "clf.fit(X, y)\n",
    "\n",
    "S = (clf.alpha > clf.alpha_tol)\n",
    "S_idxs = np.arange(len(X))[S]\n",
    "S_nc = np.array([\n",
    "    np.sum(y[S_idxs] == -1),\n",
    "    np.sum(y[S_idxs] == +1),\n",
    "])\n",
    "acc = np.average(clf.predict(X) == y)\n",
    "\n",
    "print('beta_0:', clf.beta0)\n",
    "print('Number of support vectors for each class:', S_nc)\n",
    "print('Accuracy:', acc)"
   ]
  },
  {
   "cell_type": "code",
   "execution_count": 104,
   "metadata": {},
   "outputs": [
    {
     "name": "stdout",
     "output_type": "stream",
     "text": [
      "beta_0: -0.14826613354920232\n",
      "Number of support vectors for each class: [162 157]\n",
      "Accuracy: 0.9695290858725761\n"
     ]
    }
   ],
   "source": [
    "#Comparing with sklearn\n",
    "\n",
    "from sklearn.svm import SVC\n",
    "clf = SVC(C=2, kernel='rbf', gamma=1.5)\n",
    "clf.fit(X, y)\n",
    "acc = np.average(clf.predict(X) == y)\n",
    "\n",
    "print('beta_0:', clf.intercept_[0])\n",
    "print('Number of support vectors for each class:', clf.n_support_)\n",
    "print('Accuracy:', acc)"
   ]
  },
  {
   "cell_type": "markdown",
   "metadata": {},
   "source": [
    "## SVM as a Penalization mthod\n",
    "\n",
    "The SVM problem is:\n",
    "\n",
    "$$\\min_{\\beta, \\beta_0} \\frac{1}{2} ||\\beta||^2 + C \\sum_{i=1}^N \\zeta_i$$\n",
    "$$\\text{subject to } \\zeta_i \\geq 0, \\space y_i(x_i^T\\beta + \\beta_0) \\geq 1 - \\zeta_i, i=1,\\text{...},N$$\n",
    "\n",
    "This is equivalent to the following problem:\n",
    "\n",
    "$$\\min_{\\beta_0, \\beta} \\sum_{i=1}^N (1 - y_if(x_i))_+ + \\frac{\\lambda}{2} ||\\beta||^2$$\n",
    "\n",
    "with $\\lambda = \\frac{1}{C}$\n",
    "\n",
    "This is based on the hingle loss function:\n",
    "$$L(y,f) = (1 - yf)_+ = \\max(0, 1 - yf)$$\n",
    "\n",
    "This formulation shrinks the weights $\\beta$ toward $0$. It also helps to see that $C$ act as a regularization parameter.  \n",
    "Lower values of $C$ gives more shrinkage, and regularize the model. Higher values gives more complex models, that may overfit"
   ]
  },
  {
   "cell_type": "markdown",
   "metadata": {},
   "source": [
    "## SVM Path algorithm\n",
    "\n",
    "In order to chose the $C$ hyperparameter, one solution is to train several SVM with different values of $C$, in order to evaluate, compare and choose the best one.  \n",
    "The Path algorithm is an algorithm to fit the entiere sequence of SVM more efficiently.\n",
    "\n",
    "The solution for $\\beta$ is given by:\n",
    "$$\\beta_\\lambda = \\frac{1}{\\lambda} \\sum_{i=1}^N \\alpha_i y_i x_i$$\n",
    "\n",
    "At the initialisation, we start with a huge value of $\\lambda$, giving huge margins, with all points on the training set inside them, with $\\alpha_i = 1$.  \n",
    "We slowly decrease $\\lambda$, several training points move from inside to outside the margin, setting $\\alpha_i = 0$."
   ]
  },
  {
   "cell_type": "markdown",
   "metadata": {},
   "source": [
    "## SVM for Regression\n",
    "\n",
    "[Support Vector Regression Machines](https://papers.nips.cc/paper/1238-support-vector-regression-machines.pdf)\n",
    "\n",
    "The linear model is:\n",
    "$$f(x) = x^T \\beta + \\beta_0$$\n",
    "\n",
    "We minimise the following criterion:\n",
    "$$H(\\beta_0, \\beta) = \\sum_{i=1}^N V(y_i - f(x_i)) + \\frac{\\lambda}{2} ||\\beta||^2$$\n",
    "\n",
    "with the error measure $V_\\epsilon$:\n",
    "$$\n",
    "V_\\epsilon(r) = \n",
    "\\begin{cases}\n",
    "    0 & \\text{if } |r| < \\epsilon \\\\\n",
    "    |r| - \\epsilon & \\text{otherwise}\n",
    "\\end{cases}\n",
    "$$\n",
    "\n",
    "This is an $\\epsilon$-sensitive mesure, ignores errors less than $\\epsilon$.  \n",
    "Points in the training set that are close to the model prediction have an error of $0$, and are ignored by the model.  \n",
    "This is an analogy to the SVM, where points correctly classified and outisde the margins ($\\alpha_i = 0$) are ignored by the model.  \n",
    "\n",
    "The solution has the form:\n",
    "$$\\hat{\\beta} = \\sum_{i=1}^N (\\hat{\\alpha}^*_i - \\hat{\\alpha}_i) x_i$$\n",
    "$$\\hat{f}(x) = \\sum_{i=1}^N (\\hat{\\alpha}^*_i - \\hat{\\alpha}_i) \\langle x,x_i \\rangle + \\beta_0$$\n",
    "\n",
    "$\\hat{\\alpha}_i$ and $\\hat{\\alpha}^*_i$ are found by solving the following quadratic problem:\n",
    "$$\\min_{\\alpha_i, \\alpha^*_i} \\epsilon \\sum_{i=1}^N (\\alpha^*_i + \\alpha_i) - \\sum_{i=1}^N y_i(\\alpha^*_i - \\alpha_i) + \\frac{1}{2} \\sum_{i,i'=1}^N (\\alpha^*_i - \\alpha_i) (\\alpha^*_{i'} - \\alpha_{i'}) \\langle x_i, x_{i'} \\rangle$$\n",
    "$$\\text{s.t. } 0 \\leq \\alpha_i, \\space \\alpha^*_i \\leq 1/\\lambda$$\n",
    "$$\\text{s.t. } \\sum_{i=1}^N (\\alpha^*_i - \\alpha_i) = 0$$\n",
    "$$\\text{s.t. } \\alpha^*_i \\alpha_i = 0$$\n",
    "\n",
    "The support vectors are the training points such that$(\\alpha^*_i - \\alpha_i)$ is not null. The model output only depends of those.  \n",
    "As for classification, the input values are only used through the inner product $\\langle x, x_i \\rangle$, so the the Kernel trick can also be applied."
   ]
  },
  {
   "cell_type": "markdown",
   "metadata": {},
   "source": [
    "# Generalizing Linear Discriminant Analysis\n",
    "\n",
    "LDA is a simple and low variance classifier that produces linear decision boundaries.  \n",
    "Several ideas can be applied to generalize this model to non-linear cases:\n",
    "- FDA: cast LDA as regression, and do it into an enlarged space, as for SVM kernels\n",
    "- PDA: penalize its coefficients\n",
    "- MDA: model each class by a mixture of Gaussians"
   ]
  },
  {
   "cell_type": "markdown",
   "metadata": {},
   "source": [
    "# Flexible Discriminant Analysis\n",
    "\n",
    "[Flexible Discriminant Analysis by Optimal Scoring - Hastie, Tibshirani, 2000](https://www.researchgate.net/publication/2889611_Flexible_Discriminant_Analysis_by_Optimal_Scoring)\n",
    "\n",
    "We use the fact that LDA is equivalent to canonical correlation analysis, it gives solution to a problem that we describe.  \n",
    "\n",
    "Suppose $\\theta: \\mathcal{G} \\to \\mathbb{R}$ assign scores to the classes such that the transformed class labels are optimally predicted by linear regression on $X$.  \n",
    "We can find $K$ set of independents scoring $\\theta_k$ and corresponding linear map: $\\mu_k(X) = X^T\\beta_k$.  \n",
    "\n",
    "$\\theta_k$ and $\\beta_k$ are chosen to minimize:\n",
    "$$\\text{ASR} = \\frac{1}{N} \\sum_{k=1}^K \\sum_{i=1}^N (\\theta_k(g_i) - x^T_i\\beta_k)^2$$\n",
    "\n",
    "The scores are assumed to be mutually orthogonal and normalized to avoid trivial zero solutions.  \n",
    "The sequence of LDA vectors $u_k$ is identical to the sequence $\\beta_k$ up to a constant.  \n",
    "\n",
    "Let $Y \\in \\mathbb{R}^{N*J}$ the indicator matrix corresponding to the dummy-variable coding for the classes.  \n",
    "Let $\\Theta \\in \\mathbb{R}^{J*K}$ the score matrix, such that $\\Theta_{jk} = \\theta_k(j)$  \n",
    "Let $\\Theta^* \\in \\mathbb{R}^{N*K}$ the matrix of transformed values of the classes: $\\Theta^* = Y\\Theta$.  \n",
    "\n",
    "If the scores were fixed, we would just have to regress $\\Theta^*$ on $X$ to minimize ASR.  \n",
    "\n",
    "Let $P_X$ the projection matrix such that $\\hat{Y} = P_XY$, with $\\hat{Y}$ the predictions of the model.\n",
    "\n",
    "$$\\text{ASR}(\\theta) = \\frac{1}{N} \\text{tr} (\\Theta^TY^T (I - P_X)Y\\theta )$$  \n",
    "\n",
    "In order to minimize ASR, find the optimal scoring $\\Theta$ amounts to find the eigenvectors of $Y^TP_XY$. This can be done without computing $P_X$.  \n",
    "\n",
    "LDA optimal scoring algorithm:\n",
    "\n",
    "1. Initialize the indicator matrix $Y$\n",
    "2. Find the coefficients matrix $B \\in \\mathbb{R}^{p*J}$ by regressing $Y$ on $X$, and set $\\hat{Y} = XB$\n",
    "3. Obtain the eigenvector matrix $\\theta$ of $Y^T\\hat{Y} = Y^TP_XY$\n",
    "4. Obtain the final weights matrix: $B \\in \\mathbb{R}^{p*K}: B \\leftarrow B \\theta$, with $\\beta_k = B_{:,k}$"
   ]
  },
  {
   "cell_type": "markdown",
   "metadata": {},
   "source": [
    "The model can be extended to non-linear cases: we replace the linear projection operator $P_X$ by any non-linear regression procedure $S(\\lambda)$.\n",
    "\n",
    "FDA optimal scoring algorithm:\n",
    "1. Choose an initial score matrix $\\Theta_0$ satisfying the constraints $\\Theta^T D_P \\Theta - I$\n",
    "2. Set $\\Theta^*_0 = Y\\Theta_0$\n",
    "3. Fit a regression model of $\\Theta_0^*$ on $X$, giving us $S(\\hat{\\lambda})$ and $\\mu(x)$ the vector of fitted regression functions.\n",
    "4. Get fitted valus $\\hat{\\Theta}^*_0$\n",
    "5. Obtain the eigenvector matrix $\\Phi$ of $\\Theta^{*T}_0  \\hat{\\Theta}^*_0 = \\Theta^*_0S(\\hat{\\lambda})\\Theta_0^*$\n",
    "6. Get optimal scores: $\\Theta = \\Theta_0 \\Phi$\n",
    "7. Update final model from step 3 using the optimal scores"
   ]
  },
  {
   "cell_type": "markdown",
   "metadata": {},
   "source": [
    "# Penalized Discriminant Analysis\n",
    "\n",
    "[Penalized Discriminant Analysis - Hastie, Tibshirani, Buja, 2000](https://www.researchgate.net/publication/2923857_Penalized_Discriminant_Analysis)\n",
    "\n",
    "FDA can be seen as a regualized form of LDA. Suppose we perform a linear regression into a basis expansions $h(X)$, adding a quadratic penalty on the coefficients:\n",
    "\n",
    "$$\\text{ASR} = \\frac{1}{N} \\sum_{l=1}^L  \\left[ \\sum_{i=1}^N (\\theta_l(g_i) - h^T(x_i)\\beta_l)^2 + \\lambda \\beta_l^T \\Omega \\beta_l \\right]$$ \n",
    "\n",
    "$\\Omega$ depends on the problem, it might constrait $h(x)\\beta_l$ to be smooth for example.\n",
    "\n",
    "PDA algorithm:\n",
    "1. Enlarge $X$ via basis expansion $h(X)$\n",
    "2. Use penalized LDA on the enlarged space. The penalized Mahalbonis distance is:\n",
    "    $$D(x, \\mu) = (h(x) - h(\\mu))^T (\\Sigma_W + \\lambda \\Omega)^{-1} (h(x) - h(\\mu))$$\n",
    "    with $\\Sigma_W$ the within-class covariance matrix of $h(x_i)$\n",
    "3. Solve the penalized LDA problem:\n",
    "    $$\\max u^T \\Sigma_B u$$\n",
    "    $$\\text{s.t. } u^T(\\Sigma_W + \\lambda \\Omega)u = 1$$"
   ]
  },
  {
   "cell_type": "markdown",
   "metadata": {},
   "source": [
    "# Mixture Discriminant Analysis\n",
    "\n",
    "[Discriminant Analysis by Gaussian Mixtures - Hastie, Tibshirani, 1996](http://citeseerx.ist.psu.edu/viewdoc/summary?doi=10.1.1.10.3633)\n",
    "\n",
    "A Gausssian mixture model for $k$-th class has density:\n",
    "$$P(X|G=k) = \\sum_{r=1}^{R_k} \\pi_{kr} \\phi(X;\\mu_{kr},\\Sigma)$$\n",
    "\n",
    "The $k$-th class has $K$ Gaussian, each with it's one mean $\\mu_{kr}$ and mixing proportion $\\pi_{kr}$. All Gaussians share the same covariance matrix $\\Sigma$.\n",
    "\n",
    "The posterior probabilities are given by:\n",
    "$$p(G=k|X=x) = \\frac{\\sum_{r=1}^{R_k} \\pi_{kr} \\phi(X;\\mu_{kr},\\Sigma) \\Pi_k }{\\sum_{l=1}^K \\sum_{r=1}^{R_l} \\pi_{lr} \\phi(X;\\mu_{lr},\\Sigma) \\Pi_l}$$\n",
    "\n",
    "with $\\Pi_k$ the prior probability of class $k$.  \n",
    "\n",
    "The parameters are estimated with maximum likelihood of $P(G,X)$ on the training data:\n",
    "$$\\sum_{k=1}^K \\sum_{g_i=k} \\log \\left[ \\sum_{r=1}^{R_k} \\pi_{kr} \\phi(x_i;\\mu_{kr},\\Sigma) \\Pi_k \\right]$$\n",
    "\n",
    "The model is fitted with the EM algorithm:\n",
    "\n",
    "- E-step: Compute the responsability of subclasses $c_{kr}$ for each class-$k$ observations. It indicates how much each observations is close to the centroid of every Gaussian for it's class $k$.\n",
    "- M-step: Perform MLE using weights from the E-step.  \n",
    "    This step turns out to be a weighted version of LDA. Furthermore, we can use FDA or PDA instead."
   ]
  }
 ],
 "metadata": {
  "kernelspec": {
   "display_name": "Python 3",
   "language": "python",
   "name": "python3"
  },
  "language_info": {
   "codemirror_mode": {
    "name": "ipython",
    "version": 3
   },
   "file_extension": ".py",
   "mimetype": "text/x-python",
   "name": "python",
   "nbconvert_exporter": "python",
   "pygments_lexer": "ipython3",
   "version": "3.6.7"
  }
 },
 "nbformat": 4,
 "nbformat_minor": 2
}
