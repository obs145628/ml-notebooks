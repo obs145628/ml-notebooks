{
 "cells": [
  {
   "cell_type": "code",
   "execution_count": 1,
   "metadata": {},
   "outputs": [],
   "source": [
    "import sys\n",
    "sys.path.append('..')\n",
    "\n",
    "import numpy as np\n",
    "import matplotlib.pyplot as plt\n",
    "import pandas as pd\n",
    "\n",
    "import metrics\n",
    "import utils"
   ]
  },
  {
   "cell_type": "markdown",
   "metadata": {},
   "source": [
    "# Introduction"
   ]
  },
  {
   "cell_type": "markdown",
   "metadata": {},
   "source": [
    "In unsupervised learing, one has a set of $N$ observations $x_i \\in \\mathbb{R}^p$, having joint density $P(X)$.  \n",
    "The goal is to infer properties of this density.  \n",
    "At very low dimension ($p \\leq 3$), several methods can directly estimate $P(X)$ for any $X$. But these methods fail in high-dimensions.  \n",
    "\n",
    "It can be used to:\n",
    "- Identify low-dimensional manifolds with high data density.\n",
    "- Cluster analysis finds multiple convex regions that contains modes of $P(X)$\n",
    "- Mixture modeling try to estimate $P(X)$ with a mixture of density functions.\n",
    "- Association rules: construct simple rules that describe regions of high density.  \n",
    "\n",
    "In unsupervised learning, there is no measure of success, it's difficult to prove the conclusions of the model."
   ]
  },
  {
   "cell_type": "markdown",
   "metadata": {},
   "source": [
    "# Association Rules"
   ]
  },
  {
   "cell_type": "markdown",
   "metadata": {},
   "source": [
    "The general goal of association rules is to find values $v_1, \\text{...}, v_L$ such that the probability density $P(X=v_l)$ is relatively large. This problem is also called mode finding or bump hunting. For problems with a large number of values, the number of observations such that $X=v_l$ is usually too small to be reliable.  \n",
    "\n",
    "One solution is to seek regions of the $X$-space. Let $s_{j}$ a subset of values taken by feature v$X_j$.  \n",
    "The goal is to find $s_{1},\\text{...},s_p$ such that the folowing value is large:\n",
    "$$P \\left( \\bigcap_{j=1}^p (X_j \\in s_j) \\right)$$"
   ]
  },
  {
   "cell_type": "markdown",
   "metadata": {},
   "source": [
    "## Market Basket Analysis\n",
    "\n",
    "This problem is usually not feasible for $p$ and $N$ large.  \n",
    "\n",
    "Market Basket Analysis is a special case where all predictions are binary: $X_j \\in \\{ 0, 1 \\}$.  \n",
    "The goal is to find a subset of integers $\\mathcal{K} \\subset \\{ 1, \\text{...}, p \\}$ such that the following value is large:\n",
    "$$P \\left( \\bigcap_{k \\in \\mathcal{K}} (X_k = 1) \\right) = \\prod_{k \\in \\mathcal{J}} P(X_k = 1)$$\n",
    "\n",
    "$\\mathcal{K}$ is called an item set. This value is called the support or prevalente $T(\\mathcal{K})$. It can be estimated from the dataset:\n",
    "$$T(\\mathcal{K}) = \\frac{1}{N} \\sum_{i=1}^N \\prod_{k \\in \\mathcal{K}} x_{ik}$$  \n",
    "\n",
    "The goal of the algorithm is to fing, given a lower bound $t$ for the support, all item sets with support greater than $t$:\n",
    "$$\\{ \\mathcal{K}_l | T(\\mathcal{K}_l) > t \\}$$\n",
    "\n",
    "There are $2^J$ possible item sets, fortunately they are algorithms that allow to find the item sets without looking at all the possibilities."
   ]
  },
  {
   "cell_type": "markdown",
   "metadata": {},
   "source": [
    "## The Apriori Algorithm\n",
    "\n",
    "This algorithm can handle very large $N$ and $p$ as long as the number of itemset with support greather than $t$ is small enough.  \n",
    "It uses the following property:\n",
    "$$\\mathcal{L} \\subseteq \\mathcal{K} \\implies T(\\mathcal{L}) \\geq T(\\mathcal{K})$$\n",
    "\n",
    "It works by doing only a few passes through the training set.  \n",
    "The first pass over the data compute the support of all single-item sets, and discards all with support lower than $t$.  \n",
    "The following passes combine the remaining itemsets with the ones remaining after the first pass, and discard all with support lower than $t$.  \n",
    "The process stops when all itemsets are discarded.  \n",
    "\n",
    "Each obtained itemset $\\mathcal{K}$ into two subsets such that: $A \\cup B = \\mathcal{K}$, written $A \\implies B$.  \n",
    "\n",
    "The support of the rule is written $T(A \\implies B) \\approx P(A \\cap B)$, it is the same as $T(\\mathcal{K})$.  \n",
    "The support is the proportion of observations having $A \\cap B$.\n",
    "\n",
    "The confidence is the proportion of obversations having $B$ among all those having $A$. It is written $C(A \\implies B)$.\n",
    "$$C(A \\implies B) = \\frac{T(A \\implies B)}{T(A)} \\approx P(B|A)$$\n",
    "\n",
    "The lift is how likely it is to have $A$ and $B$ relative to $B$. It is written $L(A \\implies B)$.\n",
    "$$L(A \\implies B) = \\frac{C(A \\implies B)}{T(B)} \\approx \\frac{P(B|A)}{P(B)}$$"
   ]
  },
  {
   "cell_type": "markdown",
   "metadata": {},
   "source": [
    "## Example\n",
    "\n",
    "Given a dataset of 7500 transactions from a french retail store, find associative rules from it\n",
    "\n",
    "Dataset: [Link](https://drive.google.com/file/d/1y5DYn0dGoSbC22xowBq2d4po6h1JxcTQ/view)"
   ]
  },
  {
   "cell_type": "code",
   "execution_count": 2,
   "metadata": {},
   "outputs": [
    {
     "name": "stdout",
     "output_type": "stream",
     "text": [
      "Downloading 1y5DYn0dGoSbC22xowBq2d4po6h1JxcTQ into /tmp/store_data.csv... Done.\n"
     ]
    }
   ],
   "source": [
    "import os\n",
    "from apyori import apriori\n",
    "from google_drive_downloader import GoogleDriveDownloader as gdd\n",
    "\n",
    "FILE_ID ='1y5DYn0dGoSbC22xowBq2d4po6h1JxcTQ'\n",
    "FILE_PATH = '/tmp/store_data.csv'\n",
    "\n",
    "if not os.path.isfile(FILE_PATH):\n",
    "    gdd.download_file_from_google_drive(file_id=FILE_ID,\n",
    "                                       dest_path=FILE_PATH)\n",
    "\n",
    "\n",
    "data = pd.read_csv(FILE_PATH, header=None)\n",
    "data.head()\n",
    "\n",
    "records = []\n",
    "for i in range(data.shape[0]):\n",
    "    records.append([str(data.values[i,j]) for j in range(data.shape[1]) if str(data.values[i,j]) != 'nan'])"
   ]
  },
  {
   "cell_type": "code",
   "execution_count": 3,
   "metadata": {},
   "outputs": [
    {
     "name": "stdout",
     "output_type": "stream",
     "text": [
      "11\n"
     ]
    }
   ],
   "source": [
    "rules = apriori(records, min_support=0.0235, \n",
    "                min_confidence=0.1, \n",
    "                min_lift=1.5, min_length=2)  \n",
    "\n",
    "res = list(rules)\n",
    "print(len(res))"
   ]
  },
  {
   "cell_type": "code",
   "execution_count": 4,
   "metadata": {},
   "outputs": [
    {
     "name": "stdout",
     "output_type": "stream",
     "text": [
      "burgers; => eggs; S = 0.0288, C = 0.3303, L = 1.8378\n",
      "chocolate; => milk; S = 0.0321, C = 0.1961, L = 1.5133\n",
      "frozen vegetables; => milk; S = 0.0236, C = 0.2476, L = 1.9104\n",
      "frozen vegetables; => mineral water; S = 0.0357, C = 0.3748, L = 1.5725\n",
      "frozen vegetables; => spaghetti; S = 0.0279, C = 0.2923, L = 1.6789\n",
      "ground beef; => mineral water; S = 0.0409, C = 0.4166, L = 1.7475\n",
      "ground beef; => spaghetti; S = 0.0392, C = 0.3989, L = 2.2912\n",
      "milk; => mineral water; S = 0.0480, C = 0.3704, L = 1.5538\n",
      "milk; => spaghetti; S = 0.0355, C = 0.2737, L = 1.5718\n",
      "mineral water; => olive oil; S = 0.0276, C = 0.1158, L = 1.7579\n",
      "pancakes; => spaghetti; S = 0.0252, C = 0.2651, L = 1.5225\n"
     ]
    }
   ],
   "source": [
    "for item in res:\n",
    "    s = ''\n",
    "    stats = item.ordered_statistics[0]\n",
    "    for x in stats.items_base:\n",
    "        s += str(x) + '; '\n",
    "    s += '=> '\n",
    "    for x in stats.items_add:\n",
    "        s += str(x) + '; '\n",
    "    s += ('S = {:.4f}, C = {:.4f}, L = {:.4f}'.format(item.support,\n",
    "                                         stats.confidence,\n",
    "                                         stats.lift))\n",
    "    print(s)"
   ]
  },
  {
   "cell_type": "code",
   "execution_count": 5,
   "metadata": {},
   "outputs": [
    {
     "name": "stdout",
     "output_type": "stream",
     "text": [
      "11\n"
     ]
    }
   ],
   "source": [
    "\n",
    "class AprioriRule:\n",
    "    \n",
    "    def __init__(self, a, b, support, confidence, lift):\n",
    "        self.a = a\n",
    "        self.b = b\n",
    "        self.support = support\n",
    "        self.confidence = confidence\n",
    "        self.lift = lift\n",
    "\n",
    "\n",
    "class Apriori:\n",
    "    \n",
    "    \n",
    "    def __init__(self, min_support, min_confidence,\n",
    "                min_lift, min_length):\n",
    "        self.min_support = min_support\n",
    "        self.min_confidence = min_confidence\n",
    "        self.min_lift = min_lift\n",
    "        self.min_length = min_length\n",
    "        \n",
    "    def fit(self, data):\n",
    "        \n",
    "        #1) build dict of words\n",
    "        self.lwords = []\n",
    "        self.dwords = dict()\n",
    "        for entry in data:\n",
    "            for w in entry:\n",
    "                if not w in self.dwords:\n",
    "                    self.dwords[w] = len(self.lwords)\n",
    "                    self.lwords.append(w)\n",
    "             \n",
    "        #2) build data matrix\n",
    "        self.X = np.zeros((len(data), len(self.lwords)))\n",
    "        for i in range(len(data)):\n",
    "            for w in data[i]:\n",
    "                self.X[i, self.dwords[w]] = 1\n",
    "                \n",
    "\n",
    "    \n",
    "        #3) first pass through dataset\n",
    "        rules = []\n",
    "        res = []\n",
    "        for j in range(self.X.shape[1]):\n",
    "            items = [j]\n",
    "            s = self.get_support(items)\n",
    "            if s >= self.min_support:\n",
    "                res.append(items)\n",
    "                rules.append(items)\n",
    "        \n",
    "        res1 = list(res)\n",
    "        \n",
    "        \n",
    "        # 4) other passes through dataset until no itemset found\n",
    "        while len(res) > 0:\n",
    "            \n",
    "            res_next = []\n",
    "            for items in res:\n",
    "                for other in res1:\n",
    "                    if other[0] > items[-1]:\n",
    "                        items_ext = items + other\n",
    "                        s = self.get_support(items_ext)\n",
    "                        if s >= self.min_support:\n",
    "                            res_next.append(items_ext)\n",
    "                            rules.append(items_ext)\n",
    "                            \n",
    "            res = res_next\n",
    "        \n",
    "        # 5) remove lists too short\n",
    "        rules = [x for x in rules if len(x) >= self.min_length]\n",
    "    \n",
    "        # 6) divide rules into A => B rules\n",
    "        rules_ex = []\n",
    "        for r in rules:\n",
    "            rules_ex += self.split_rule(r)\n",
    "        rules = rules_ex\n",
    "        \n",
    "        # 7) compute all rules stats\n",
    "        rules = [self.build_rule(r) for r in rules]\n",
    "        \n",
    "        # 8) filter rules\n",
    "        rules = [r for r in rules if r.confidence > self.min_confidence\n",
    "                and r.lift > self.min_lift]\n",
    "\n",
    "        self.rules = rules\n",
    "    \n",
    "    \n",
    "    def get_support(self, items):\n",
    "        n = 0\n",
    "        for x in  self.X:\n",
    "            val = 1\n",
    "            for it in items:\n",
    "                if x[it] == 0:\n",
    "                    val = 0\n",
    "                    break\n",
    "            n += val\n",
    "        \n",
    "        return n / len(self.X)\n",
    "        \n",
    "    def split_rule(self, r):\n",
    "        res = []\n",
    "        for i in range(len(r) - 1):\n",
    "            p1 = r[:i+1]\n",
    "            p2 = r[i+1:]\n",
    "            res.append((p1, p2))\n",
    "        return res\n",
    "        \n",
    "    def build_rule(self, r):\n",
    "        sab = self.get_support(r[0] + r[1])\n",
    "        sa = self.get_support(r[0])\n",
    "        sb = self.get_support(r[1])\n",
    "        support = sab\n",
    "        confidence = support / sa\n",
    "        lift = confidence / sb\n",
    "        \n",
    "        wa = [self.lwords[x] for x in r[0]]\n",
    "        wb = [self.lwords[x] for x in r[1]]\n",
    "        return AprioriRule(wa, wb, support, confidence, lift)\n",
    "        \n",
    "mod = Apriori(min_support=0.0235, \n",
    "                min_confidence=0.1, \n",
    "                min_lift=1.5, min_length=2)\n",
    "\n",
    "mod.fit(records)\n",
    "\n",
    "print(len(mod.rules))"
   ]
  },
  {
   "cell_type": "code",
   "execution_count": 6,
   "metadata": {},
   "outputs": [
    {
     "name": "stdout",
     "output_type": "stream",
     "text": [
      "mineral water; => olive oil; S = 0.0276, C = 0.1158, L = 1.7579\n",
      "mineral water; => milk; S = 0.0480, C = 0.2013, L = 1.5538\n",
      "mineral water; => frozen vegetables; S = 0.0357, C = 0.1499, L = 1.5725\n",
      "mineral water; => ground beef; S = 0.0409, C = 0.1717, L = 1.7475\n",
      "burgers; => eggs; S = 0.0288, C = 0.3303, L = 1.8378\n",
      "milk; => frozen vegetables; S = 0.0236, C = 0.1821, L = 1.9104\n",
      "milk; => spaghetti; S = 0.0355, C = 0.2737, L = 1.5718\n",
      "milk; => chocolate; S = 0.0321, C = 0.2479, L = 1.5133\n",
      "frozen vegetables; => spaghetti; S = 0.0279, C = 0.2923, L = 1.6789\n",
      "spaghetti; => pancakes; S = 0.0252, C = 0.1447, L = 1.5225\n",
      "spaghetti; => ground beef; S = 0.0392, C = 0.2251, L = 2.2912\n"
     ]
    }
   ],
   "source": [
    "for item in mod.rules:\n",
    "    s = ''\n",
    "    for x in item.a:\n",
    "        s += str(x) + '; '\n",
    "    s += '=> '\n",
    "    for x in item.b:\n",
    "        s += str(x) + '; '\n",
    "    s += ('S = {:.4f}, C = {:.4f}, L = {:.4f}'.format(item.support,\n",
    "                                         item.confidence,\n",
    "                                         item.lift))\n",
    "    print(s)"
   ]
  },
  {
   "cell_type": "markdown",
   "metadata": {},
   "source": [
    "## Unsupervised as Supersived learning\n",
    "\n",
    "We are trying to estimate the probability density $g(x)$.  \n",
    "We onyl have access to a reference probability density $g_0(x)$. It could be for example the uniform density over the range of the variables.  We can easily sample $N_0$ observations from $g_0(x)$.  \n",
    "We also have the dataset $x_1,\\text{...},x_N$, an i.i.d. random sample drawn from $g(x)$.  \n",
    "\n",
    "Let's pool this two datasets together and assign mass $w = \\frac{N_0}{N+N_0}$ to those drawn from $g(x)$, and $w_0 = \\frac{N}{N+N_0}$ to those drawn from $g_0(x)$. We get a mixture density $\\frac{g(x) + g_0(x)}{2}$.  \n",
    "\n",
    "If we assign $Y=1$ to sample draw from $g(x)$ and $Y=0$ to those draw from $g_0(x)$, we get:\n",
    "$$\\mu(x) = E(Y|x) = \\frac{g(x)}{g(x) + g_0(x)}$$  \n",
    "\n",
    "$\\mu_x$ can be estimated by supervised learning by combining the $N$ samples from $g(x)$ with $Y=1$, and the $N_0$ samples from $g_0(x)$ with $Y=0$.  \n",
    "Then, we can get an estimate for $g(x)$:\n",
    "$$\\hat{g}(x) = g_0(x) \\frac{\\hat{\\mu}(x)}{1 - \\hat{\\mu}(x)}$$  \n",
    "\n",
    "The accuracy of $\\hat{g}(x)$ greatly depends on the choice of $g_0(x)$."
   ]
  },
  {
   "cell_type": "markdown",
   "metadata": {},
   "source": [
    "## Generalized Association rules\n",
    "\n",
    "The goal is to find a subset of integers $\\mathcal{J} \\subset \\{ 1, 2, \\text{...}, p \\}$ and the corresponding value subjects $s_j$ so that the following value is large:\n",
    "$$P \\left( \\bigcap_{j \\in \\mathcal{J}} (X_j \\in s_j) \\right)$$ \n",
    "This can be estimated by:\n",
    "$$\\frac{1}{N} \\sum_{i=1}^N I \\left( \\bigcap_{j \\in \\mathcal{J}} (x_{ij} \\in s_j) \\right)$$  \n",
    "\n",
    "This favors the discovery of itemsets whose marginal constituents $(X_j \\in s_j)$ are frequent, that is the following value is large:\n",
    "$$\\frac{1}{N} \\sum_{i=1}^N I(x_{ij} \\in s_j)$$  \n",
    "\n",
    "A good reference distribution is the product of the marginal distributions:\n",
    "\n",
    "$$g_0(x) = \\prod_{j=1}^J g_j(x_j)$$\n",
    "\n",
    "A sample from $g_0(x)$ is easily generated from the original dataset by appliying different random permutation to the data values of each of the variables.\n",
    "\n",
    "After drawing samples from $g_0(x)$, we get a training dataset for supervised learning, with $Y \\in \\{ 0, 1 \\}$.  \n",
    "The goal is to use this data to find regrions:\n",
    "$$R = \\bigcap{j \\in \\mathcal{J}} (X_j \\in s_j)$$\n",
    "\n",
    "for which $\\mu(x) = E(Y|x)$ is large.  \n",
    "One might also require that the support os these regions is big enough:\n",
    "$$T(R) = \\int_{x \\in R} g(x)dx$$  \n",
    "\n",
    "Decision trees are such a model, each leaf $t$ represent a region $R$:\n",
    "$$\\bar{y}_t = \\text{ave}(y_i|x_i \\in t)$$\n",
    "The actual data support is given by:\n",
    "$$T(R) = \\bar{y}_t \\frac{N_t}{N + N_0}$$\n",
    "with $R_t$ the number of observations in the leaf $t$."
   ]
  },
  {
   "cell_type": "code",
   "execution_count": 7,
   "metadata": {},
   "outputs": [
    {
     "name": "stdout",
     "output_type": "stream",
     "text": [
      "(372, 7)\n",
      "(372, 1)\n"
     ]
    }
   ],
   "source": [
    "from sklearn.tree import DecisionTreeRegressor\n",
    "\n",
    "class GeneralizedAssosRules:\n",
    "    \n",
    "    \n",
    "    def __init__(self, t):\n",
    "        self.t = t\n",
    "        \n",
    "    def fit(self, X):\n",
    "        N, p = X.shape\n",
    "        N0 = 2*N\n",
    "        \n",
    "        X0 = X[np.random.choice(N, size=N0, replace=True)]\n",
    "        for j in range(p):\n",
    "            X0[:, j] = X0[np.random.permutation(N0), j]\n",
    "        \n",
    "        Xe = np.vstack((X, X0))\n",
    "        ye = np.vstack((np.ones((N, 1)), np.zeros((N0, 1))))\n",
    "        \n",
    "        self.tree = DecisionTreeRegressor()\n",
    "        self.tree.fit(Xe, ye)\n",
    "        \n",
    "        \n",
    "        print(Xe.shape)\n",
    "        print(ye.shape)\n",
    "        \n",
    "        \n",
    "X = np.random.randn(124, 7)\n",
    "mod = GeneralizedAssosRules(0.2)\n",
    "\n",
    "mod.fit(X)"
   ]
  },
  {
   "cell_type": "markdown",
   "metadata": {},
   "source": [
    "# Cluster Analysis\n",
    "\n",
    "It consists of grouping a collection of obects into subsets (called clusters) such that those within each cluster are more closely related to one another than objects from other clusters.  \n",
    "To form clusters, an important notion is the degree of similarity or dissimmalirity between two objects.  \n",
    "It can be a distance, like the euclidian distance. It is used for example by K-Means clustering which use a top-down procedure to build clusters.  \n",
    "Other approches are mostly bottom-up."
   ]
  },
  {
   "cell_type": "markdown",
   "metadata": {},
   "source": [
    "## Proximity Matrices\n",
    "\n",
    "$Let D \\in \\mathbb{R}^{N*N}$ the matrix of dissimilarities, with $N$ the number of objects.  \n",
    "$D_{ij}$ represents the proximity between object $i$ and object $j$. Usually it's symmetric matrix with nonnegative entries, and zeroes on the diagonal.  \n",
    "\n",
    "We usually have $x_ij$ with $N$ observations and $p$ features. We need to compute the dissimilarity between 2 observations in order to build $D$. One solution is to use a dissimilarity $d_j(x_{ij}, x_{i'j})$ for each feature:\n",
    "$$D(x_i, x_{i'}) = \\sum_{j=1}^p d_j(x_{ij}, x_{i'j})$$\n",
    "\n",
    "For quantitative variables, we define an error: $d(x_i, x_{i'}) = l(|x_i - x_{i'}|)$. Usually it's the squared error loss, or the absolute error.  \n",
    "Or in cal also be based on correlation:\n",
    "$$p(x_i, x_{i'}) = \\frac{\\sum_j (x_{ij} - \\bar{x}_i)(x_{i'j} - \\bar{x}_{i'})}{\\sqrt{\\sum_j (x_{ij} - \\bar{x}_i)^2 \\sum_j (x_{i'j} - \\bar{x}_{i'})^2}}$$\n",
    "\n",
    "with $\\bar{x}_i = \\sum_{j} x_{ij}/p$.  \n",
    "\n",
    "For ordinal variables, we usually replace their $M$ original values by:\n",
    "$$\\frac{i - 1/2}{M}$$\n",
    "with $i$ the original order of the variable.  \n",
    "Then they are treated as quantitative variables.  \n",
    "\n",
    "For categorical variables, the dissemilarity must be defined explicitly, by using a $M*M$ matrix for examples.  \n",
    "\n",
    "They are several ways to combine all $d_j(x_{ij}, x_{i'j})$. It can be with a weighted average:\n",
    "$$D(x_i, x_{i'}) = \\sum_{j=1}^p w_j d_j(x_{ij}, x_{i'j})$$\n",
    "$$\\text{with } \\sum_{j=1}^p w_j = 1$$\n",
    "\n",
    "Setting $w_j = 1/j$ does not give all attribute equal influence. To get equal influence, you should set $w_j = 1/\\bar{d}_j$ with:\n",
    "$$\\bar{d}_j = \\frac{1}{N^2} \\sum_{i=1}^N \\sum_{i'=1}^N d_j(x_{ij}, x_{i'j})$$  \n",
    "This seems a reasonable idea, but may be counterproductive. To cluser data, you may not want all attributes to contribute equally."
   ]
  },
  {
   "cell_type": "markdown",
   "metadata": {},
   "source": [
    "## Clustering Algorithms\n",
    "\n",
    "The goal of clustering os to partition data into groups so that the dissimilarities between those assigned to the same cluster are smaller than those in different clusters.  \n",
    "They fall into three types:\n",
    "- combinatorial algorithms\n",
    "- mixture modelling\n",
    "- mode seeking"
   ]
  },
  {
   "cell_type": "markdown",
   "metadata": {},
   "source": [
    "## Combinatorial algorithms\n",
    "\n",
    "These algorithms assign each observation to a cluster without any probability model. Each observation $x_i$ is assigned to a cluster $k \\in \\{1, \\text{...}, K \\}$.  \n",
    "These assignments can be characterized by an encoder: $k = C(i)$.  \n",
    "The models looks for $C^*(i)$ that achieves a particular goal. It is adjusted to minimize a loss function that charactherize the clustering goal.  \n",
    "\n",
    "One possible loss is the within-cluster point scatter. It make observations in the same cluster as close as possible:\n",
    "$$W(C) = \\frac{1}{2} \\sum_{k=1}^K \\sum_{C(i)=k} \\sum_{C(i')=k} d(x_i, x_{i'})$$\n",
    "\n",
    "Another loss is the between-cluster point scatter. It makes observations in different cluster as far as possible:\n",
    "$$B(C) = \\frac{1}{2} \\sum_{k=1}^K \\sum_{C(i)=k} \\sum_{C(i')\\neq k} d(x_i, x_{i'})$$\n",
    "\n",
    "Minimize $W(C)$ is equivalent to maximize $B(C)$.  \n",
    "Th total point scatter $T$ is a constant given the data, independant of cluster assignment.\n",
    "$$T = W(C) + B(C)$$  \n",
    "\n",
    "Minimize this loss function by testing all assignments is intractable. For only $N=19$ and $K=4$, they are around $10^{10}$ possible assignments.  \n",
    "Algorithms are often based on iterative greedy descent. It starts with initial assignments, that are changed in each step, in a way to reduce the loss function. The algorithm terminates when there is no possible improvment. But the result is a local optima, which may be highly suboptimal compared to the global optimum."
   ]
  },
  {
   "cell_type": "markdown",
   "metadata": {},
   "source": [
    "## K-Means"
   ]
  },
  {
   "cell_type": "markdown",
   "metadata": {},
   "source": [
    "K-Means is a combinatorial algorithm that uses the squared Euclidian distance:\n",
    "$$d(x_i, x_{i'}) = ||x_i - x_{i'}||^2$$\n",
    "\n",
    "We are minimizing the within-cluster distance:\n",
    "$$W(C) = \\sum_{k=1}^K N_k \\sum_{C(i) = k} ||x_i - \\bar{x}_k||^2$$\n",
    "with $\\bar{x}_k$ the mean of all observations in cluster $k$, and $N_k$ the number of observations in cluster $K$\n",
    "\n",
    "We are trying to solve:\n",
    "$$C^* = \\min_C  \\sum_{k=1}^K N_k \\sum_{C(i) = k} ||x_i - \\bar{x}_k||^2$$\n",
    "\n",
    "The K-Means algorithm is reaally simple:\n",
    "1. Initialize the $R$ clusters randomly (from training set)\n",
    "2. Repeat until convergence:\n",
    "    - Assign each training point to the closest centroid\n",
    "    - The center of each cluster becomes the mean of all its assigned points\n",
    "    \n",
    "Each step reduce the loss function, but it converges only to a local mininum.  \n",
    "One should start the algorithm with many different random inititialization, and choose the one with the lowest loss."
   ]
  },
  {
   "cell_type": "code",
   "execution_count": 8,
   "metadata": {},
   "outputs": [
    {
     "name": "stdout",
     "output_type": "stream",
     "text": [
      "(150, 2)\n",
      "(150,)\n",
      "loss: 4613.551120505139\n"
     ]
    },
    {
     "data": {
      "image/png": "[encoded data removed]",
      "text/plain": [
       "<Figure size 432x288 with 1 Axes>"
      ]
     },
     "metadata": {
      "needs_background": "light"
     },
     "output_type": "display_data"
    }
   ],
   "source": [
    "from sklearn.datasets import load_iris\n",
    "from sklearn.decomposition import PCA\n",
    "\n",
    "\n",
    "class KMeansClustering:\n",
    "    \n",
    "    def __init__(self, R, nstarts = 100):\n",
    "        self.R = R\n",
    "        self.nstarts = nstarts\n",
    "        \n",
    "    def fit(self, X):\n",
    "        \n",
    "        best_loss = float('inf')\n",
    "        best_means = None\n",
    "        \n",
    "        for _ in range(self.nstarts):\n",
    "            self.train(X)\n",
    "            loss = self.get_loss(X)\n",
    "            if loss < best_loss:\n",
    "                best_loss = loss\n",
    "                best_means = self.means\n",
    "                \n",
    "        self.means = best_means\n",
    "        \n",
    "    \n",
    "    def train(self, X):\n",
    "    \n",
    "        N, p = X.shape      \n",
    "        self.means = X[np.random.choice(N, self.R)]\n",
    "        \n",
    "        while True:\n",
    "            old_means = self.means.copy()\n",
    "            \n",
    "            #assign each point to the closest cluster\n",
    "            ctrs = [list() for _ in range(self.R)]\n",
    "            for x in X:\n",
    "                ctrs[self.get_closest_ctr_idx(x)].append(x)\n",
    "                \n",
    "            \n",
    "            # compute the new center position of every cluster\n",
    "            for i in range(self.R):\n",
    "                if len(ctrs[i]) != 0:\n",
    "                    self.means[i] = np.mean(np.vstack(ctrs[i]), axis=0)\n",
    "            \n",
    "            \n",
    "            if np.linalg.norm(old_means - self.means) < 1e-6:\n",
    "                break\n",
    "        \n",
    "    def get_loss(self, X):\n",
    "        \n",
    "        #assign each point to the closest cluster\n",
    "        ctrs = [list() for _ in range(self.R)]\n",
    "        for x in X:\n",
    "            ctrs[self.get_closest_ctr_idx(x)].append(x)\n",
    "        \n",
    "        #compute distance between each point and the cluster center\n",
    "        loss = 0\n",
    "        for k in range(self.R):\n",
    "            for x in ctrs[k]:\n",
    "                loss += len(ctrs[k])*(x-self.means[k]) @ (x-self.means[k])\n",
    "        return loss\n",
    "        \n",
    "    \n",
    "    def get_closest_ctr_idx(self, x):\n",
    "        min_idx = None\n",
    "        min_dist = float('inf')\n",
    "        for i in range(self.R):\n",
    "            dist = (x - self.means[i]) @ (x - self.means[i])\n",
    "            if dist < min_dist:\n",
    "                min_idx = i\n",
    "                min_dist = dist\n",
    "\n",
    "        return min_idx\n",
    "    \n",
    "    def predict(self, X):\n",
    "        y = np.empty(len(X)).astype(np.int)\n",
    "        for i in range(len(X)):\n",
    "            y[i] = self.get_closest_ctr_idx(X[i])\n",
    "        return y\n",
    "                \n",
    "        \n",
    "X, y = load_iris().data, load_iris().target\n",
    "X = X[np.random.permutation(len(X))]\n",
    "pca = PCA(n_components=2)\n",
    "X = pca.fit_transform(X)\n",
    "X = X - np.mean(X, axis=0)\n",
    "X = X / np.std(X, axis=0)\n",
    "print(X.shape)\n",
    "print(y.shape)\n",
    "mod = KMeansClustering(3)\n",
    "mod.fit(X)\n",
    "colors = [ ['red', 'blue', 'green'][x] for x in mod.predict(X)]\n",
    "print('loss:', mod.get_loss(X))\n",
    "\n",
    "plt.scatter(X[:,0], X[:,1], c=colors)\n",
    "plt.show()"
   ]
  },
  {
   "cell_type": "markdown",
   "metadata": {},
   "source": [
    "## Gaussian Mixtures as Soft K-Means\n",
    "\n",
    "K-Means is closely related to estimating a Gaussian mixture with the EM algorithm.  \n",
    "- The E-step assign weight to each data point based on it's relative density under each mixture component (closeness)\n",
    "- The M-step recompute the component density based on current weights (mean / covariance)\n",
    "\n",
    "If every Gaussian have covariance matrix $\\sigma^2 I$, the relative density under each mixture is a monote function of the euclidian distance between the data point and the mixture center. Hence EM as a soft K-Means, making probabalistic (rather than deterministic) assigment of points to cluster centers.  \n",
    "As $\\sigma^2 \\to 0$, the probabilities become $0$ and $1$, and the two methods coincide."
   ]
  },
  {
   "cell_type": "markdown",
   "metadata": {},
   "source": [
    "## Vector Quantization\n",
    "\n",
    "Vector Quantization is a compression technique in image / signal processing, using K-Means.  \n",
    "\n",
    "The prodecure is:\n",
    "- Break the image into small blocks, for example for a $1024*1024$ image break into $2*2$ blocks, we get $512*512$ vectors in $\\mathbb{R}^4$\n",
    "\n",
    "- A K-Means is run on the blocks. As $K$ increases, the quality of the image and the compressed size decrease.  Each block is approximated by it's closest centroid.\n",
    "\n",
    "- We just need to store the $K$ centroids vectors, and the index of the closest centroid of all the blocks.\n",
    "\n",
    "- To reconstruct the image, each block become it's closest centroid, and the blocks are converted to an image  \n",
    "\n",
    "This works because with typical images many blocks look the same. It only require only one block each to represent them.  \n",
    "We can go further by applying a hierarchical K-Means, or using a variable coding length."
   ]
  },
  {
   "cell_type": "code",
   "execution_count": 9,
   "metadata": {},
   "outputs": [
    {
     "name": "stdout",
     "output_type": "stream",
     "text": [
      "1213.4582811122928\n",
      "4820.901056856488\n"
     ]
    },
    {
     "data": {
      "image/png": "[encoded data removed]",
      "text/plain": [
       "<Figure size 432x288 with 1 Axes>"
      ]
     },
     "metadata": {
      "needs_background": "light"
     },
     "output_type": "display_data"
    },
    {
     "data": {
      "image/png": "[encoded data removed]",
      "text/plain": [
       "<Figure size 432x288 with 1 Axes>"
      ]
     },
     "metadata": {
      "needs_background": "light"
     },
     "output_type": "display_data"
    },
    {
     "data": {
      "image/png": "[encoded data removed]",
      "text/plain": [
       "<Figure size 432x288 with 1 Axes>"
      ]
     },
     "metadata": {
      "needs_background": "light"
     },
     "output_type": "display_data"
    }
   ],
   "source": [
    "from PIL import Image\n",
    "from sklearn.cluster import KMeans\n",
    "\n",
    "class VectorQuantization:\n",
    "    \n",
    "    \n",
    "    def __init__(self, K, bsize = 4):\n",
    "        self.K = K\n",
    "        self.bsize = 2\n",
    "        \n",
    "    def img2block(self, X):\n",
    "        s = X.shape[0]\n",
    "        res = np.empty((s//self.bsize, s//self.bsize,\n",
    "                       self.bsize*self.bsize)).astype(np.int)\n",
    "        \n",
    "        for i in range(res.shape[0]):\n",
    "            for j in range(res.shape[1]):\n",
    "                res[i, j] = np.array([\n",
    "                    X[2*i,2*j],X[2*i+1,2*j],X[2*i,2*j+1],X[2*i+1,2*j+1]\n",
    "                ])\n",
    "                \n",
    "        return res.reshape(-1, self.bsize*self.bsize)\n",
    "                \n",
    "    def block2img(self, b):\n",
    "        s2 = int(np.sqrt(b.shape[0]))\n",
    "        b = b.reshape(s2, s2, self.bsize*self.bsize)\n",
    "        \n",
    "        X = np.empty((s2*self.bsize, s2*self.bsize)).astype(np.int)\n",
    "        for i in range(s2):\n",
    "            for j in range(s2):\n",
    "                X[2*i,2*j] = b[i,j,0]\n",
    "                X[2*i+1,2*j] = b[i,j,1]\n",
    "                X[2*i,2*j+1] = b[i,j,2]\n",
    "                X[2*i+1,2*j+1] = b[i,j,3]\n",
    "        \n",
    "        return X\n",
    "        \n",
    "        \n",
    "    def encode(self, img):\n",
    "        b = self.img2block(img)\n",
    "        \n",
    "        clf = KMeans(n_clusters=self.K, n_init=1)\n",
    "        clf.fit(b)\n",
    "        \n",
    "        code = clf.labels_\n",
    "        centers = clf.cluster_centers_\n",
    "        return code, centers\n",
    "    \n",
    "    def decode(self, code, centers):\n",
    "        b = np.empty((len(code), self.bsize*self.bsize)).astype(np.int)\n",
    "        for i in range(len(b)):\n",
    "            b[i] = centers[code[i]]\n",
    "            \n",
    "        return self.block2img(b)\n",
    "    \n",
    "IMG_URL = 'https://i.ytimg.com/vi/J4Q86j9HOao/hqdefault.jpg'\n",
    "IMG_PATH = '/tmp/img.jpg'\n",
    "utils.dl_file(IMG_URL, IMG_PATH)\n",
    "X = Image.open(IMG_PATH)\n",
    "X = X.resize((256,256), Image.ANTIALIAS)\n",
    "X = X.convert('L')\n",
    "X = np.asarray(X.getdata(),dtype=np.int).reshape((X.size[1],X.size[0]))\n",
    "\n",
    "vq200 = VectorQuantization(K=200)\n",
    "code, centers = vq200.encode(X)\n",
    "X2 = vq200.decode(code, centers)\n",
    "\n",
    "vq4 = VectorQuantization(K=4)\n",
    "code, centers = vq4.encode(X)\n",
    "X3 = vq4.decode(code, centers)\n",
    "\n",
    "print(metrics.tdist(X, X2))\n",
    "print(metrics.tdist(X, X3))\n",
    "\n",
    "plt.imshow(X, cmap='gray')\n",
    "plt.show()\n",
    "plt.imshow(X2, cmap='gray')    \n",
    "plt.show()\n",
    "plt.imshow(X3, cmap='gray')    \n",
    "plt.show()"
   ]
  },
  {
   "cell_type": "markdown",
   "metadata": {},
   "source": [
    "## K-medoids\n",
    "\n",
    "K-Means is appropriate when the dissimilairty measure $D(x_i, x_{i'})$ is the euclidian distance. These requires all variables to be of quantitative type, it the procedure lacks robustness on outliers.  \n",
    "The algorithm can be generalized to any $D(x_i, x_{i'})$  We don't need the inputs $x$, only the distances.  \n",
    "It's far more expensive to compute than K-Means.\n",
    "\n",
    "K-medoids algorithm:\n",
    "1. Start with a particular intialization $C(i)$\n",
    "2. Repeat until the cluster assignments $C(i)$ doesn't change:\n",
    "    - For each cluster $k$, find the cluster center $m_k$:\n",
    "        $$m_k = \\arg \\min_{ \\{i:C(i)=k \\} } \\sum_{C(i')=k} D(x_i, x_{i'})$$\n",
    "        \n",
    "    - Minitmize the total error by assigning each observation to the closest cluster:\n",
    "        $$C(i) = \\arg \\min_k D(x_i, m_k)$$\n",
    "        "
   ]
  },
  {
   "cell_type": "code",
   "execution_count": 10,
   "metadata": {},
   "outputs": [
    {
     "name": "stdout",
     "output_type": "stream",
     "text": [
      "(150, 2)\n",
      "(150,)\n"
     ]
    },
    {
     "data": {
      "image/png": "[encoded data removed]",
      "text/plain": [
       "<Figure size 432x288 with 1 Axes>"
      ]
     },
     "metadata": {
      "needs_background": "light"
     },
     "output_type": "display_data"
    }
   ],
   "source": [
    "from sklearn.datasets import load_iris\n",
    "from sklearn.decomposition import PCA\n",
    "\n",
    "class KMedoidsClustering:\n",
    "    \n",
    "    \n",
    "    def __init__(self, K):\n",
    "        self.K = K\n",
    "        \n",
    "    def fit(self, X):\n",
    "        N, p = X.shape\n",
    "        self.centers = [None] * self.K\n",
    "        \n",
    "        # build distance matrix\n",
    "        D = np.empty((N, N))\n",
    "        for i in range(N):\n",
    "            for j in range(N):\n",
    "                D[i,j] = (X[i] - X[j]) @ (X[i] - X[j])\n",
    "        X = None #X is useless, we only need D\n",
    "        \n",
    "        # initialization\n",
    "        #assign each point ro a random cluster\n",
    "        ctrs = [list() for _ in range(self.K)]\n",
    "        for i in range(N):\n",
    "            ctrs[np.random.randint(0, self.K)].append(i)\n",
    "            \n",
    "        \n",
    "        while True:\n",
    "            \n",
    "            #estimate cluster centers\n",
    "            for k in range(self.K):\n",
    "                best_i = None\n",
    "                best_dist = float('inf')\n",
    "                ck = ctrs[k]\n",
    "                for i in ck:\n",
    "                    dist = 0\n",
    "                    for i2 in ck:\n",
    "                        dist += D[i, i2]\n",
    "                    if dist < best_dist:\n",
    "                        best_dist = dist\n",
    "                        best_i = i\n",
    "                \n",
    "                self.centers[k] = best_i\n",
    "                \n",
    "            ##\n",
    "            old_ctrs = ctrs\n",
    "            ctrs = [list() for _ in range(self.K)]\n",
    "            \n",
    "            # assign each point to the closest cluster center\n",
    "            for i in range(N):\n",
    "                best_k = None\n",
    "                best_dist = float('inf')\n",
    "                for k in range(self.K):\n",
    "                    dist = D[i, self.centers[k]]\n",
    "                    if dist < best_dist:\n",
    "                        best_dist = dist\n",
    "                        best_k = k\n",
    "                ctrs[best_k].append(i)\n",
    "            \n",
    "            \n",
    "            #stop only if the assigments didn't changed\n",
    "            changed = False\n",
    "            for k in range(self.K):\n",
    "                if ctrs[k] != old_ctrs[k]:\n",
    "                    changed = True\n",
    "                    break\n",
    "            if not changed:\n",
    "                break\n",
    "                \n",
    "            \n",
    "        #build labels vectors\n",
    "        self.labels = np.empty(N).astype(np.int)\n",
    "        for k in range(self.K):\n",
    "            for i in ctrs[k]:\n",
    "                self.labels[i] = k\n",
    "            \n",
    "            \n",
    "            \n",
    "        \n",
    "    \n",
    "X, y = load_iris().data, load_iris().target\n",
    "X = X[np.random.permutation(len(X))]\n",
    "pca = PCA(n_components=2)\n",
    "X = pca.fit_transform(X)\n",
    "X = X - np.mean(X, axis=0)\n",
    "X = X / np.std(X, axis=0)\n",
    "print(X.shape)\n",
    "print(y.shape)\n",
    "mod = KMedoidsClustering(3)\n",
    "mod.fit(X)\n",
    "colors = [ ['red', 'blue', 'green'][x] for x in mod.labels]\n",
    "\n",
    "plt.scatter(X[:,0], X[:,1], c=colors)\n",
    "plt.show()"
   ]
  },
  {
   "cell_type": "markdown",
   "metadata": {},
   "source": [
    "## Initialization\n",
    "\n",
    "It can be defined by specifying an initial set of centers $\\{ m_1, \\text{...}, m_K$ or an initial encoder $C(i)$. Specifying the center is usually more convenient.  \n",
    "A strategy based of forward stepwise assignment is derived, called K-Means++.  \n",
    "\n",
    "K-Means++ agorithm:  \n",
    "\n",
    "1. Initialize the first center $m_1$ uniformly at random from all observations.\n",
    "2. For $k=2 \\to K$:\n",
    "\n",
    "    - Compute for every observation the distance with the closest of the already chosen centroids:\n",
    "        $$D(i) = \\min_{c = \\{ m_1, \\text{...}, m_{k-1} \\} } D(x_i, c)$$\n",
    "        \n",
    "    - Choose the center $m_k$ from a weighted probability probability distribution of $X$, with weights $D(i)^2$ "
   ]
  },
  {
   "cell_type": "code",
   "execution_count": 11,
   "metadata": {},
   "outputs": [
    {
     "name": "stdout",
     "output_type": "stream",
     "text": [
      "(150, 2)\n",
      "(150,)\n",
      "loss: 4613.551120505142\n"
     ]
    },
    {
     "data": {
      "image/png": "[encoded data removed]",
      "text/plain": [
       "<Figure size 432x288 with 1 Axes>"
      ]
     },
     "metadata": {
      "needs_background": "light"
     },
     "output_type": "display_data"
    }
   ],
   "source": [
    "from sklearn.datasets import load_iris\n",
    "from sklearn.decomposition import PCA\n",
    "\n",
    "\n",
    "class KMeansClustering:\n",
    "    \n",
    "    def __init__(self, R, nstarts = 100):\n",
    "        self.R = R\n",
    "        self.nstarts = nstarts\n",
    "        \n",
    "    def fit(self, X):\n",
    "        \n",
    "        best_loss = float('inf')\n",
    "        best_means = None\n",
    "        \n",
    "        for _ in range(self.nstarts):\n",
    "            self.train(X)\n",
    "            loss = self.get_loss(X)\n",
    "            if loss < best_loss:\n",
    "                best_loss = loss\n",
    "                best_means = self.means\n",
    "                \n",
    "        self.means = best_means\n",
    "        \n",
    "    \n",
    "    def train(self, X):\n",
    "    \n",
    "        N, p = X.shape\n",
    "        \n",
    "        # K-means++ Initialization\n",
    "        self.means = np.empty((self.R, p))\n",
    "        self.means[0] = X[np.random.choice(N)]\n",
    "        \n",
    "        for k in range(1, self.R):\n",
    "            d = np.empty(N)\n",
    "            for i in range(N):\n",
    "                d[i] = min([(X[i]-self.means[c])@(X[i]-self.means[c])\n",
    "                             for c in range(k)])\n",
    "            d /= np.sum(d)\n",
    "            self.means[k] = X[np.random.choice(N, p=d)]\n",
    "                          \n",
    "        \n",
    "        while True:\n",
    "            old_means = self.means.copy()\n",
    "            \n",
    "            #assign each point to the closest cluster\n",
    "            ctrs = [list() for _ in range(self.R)]\n",
    "            for x in X:\n",
    "                ctrs[self.get_closest_ctr_idx(x)].append(x)\n",
    "                \n",
    "            \n",
    "            # compute the new center position of every cluster\n",
    "            for i in range(self.R):\n",
    "                if len(ctrs[i]) != 0:\n",
    "                    self.means[i] = np.mean(np.vstack(ctrs[i]), axis=0)\n",
    "            \n",
    "            \n",
    "            if np.linalg.norm(old_means - self.means) < 1e-6:\n",
    "                break\n",
    "        \n",
    "    def get_loss(self, X):\n",
    "        \n",
    "        #assign each point to the closest cluster\n",
    "        ctrs = [list() for _ in range(self.R)]\n",
    "        for x in X:\n",
    "            ctrs[self.get_closest_ctr_idx(x)].append(x)\n",
    "        \n",
    "        #compute distance between each point and the cluster center\n",
    "        loss = 0\n",
    "        for k in range(self.R):\n",
    "            for x in ctrs[k]:\n",
    "                loss += len(ctrs[k])*(x-self.means[k]) @ (x-self.means[k])\n",
    "        return loss\n",
    "        \n",
    "    \n",
    "    def get_closest_ctr_idx(self, x):\n",
    "        min_idx = None\n",
    "        min_dist = float('inf')\n",
    "        for i in range(self.R):\n",
    "            dist = (x - self.means[i]) @ (x - self.means[i])\n",
    "            if dist < min_dist:\n",
    "                min_idx = i\n",
    "                min_dist = dist\n",
    "\n",
    "        return min_idx\n",
    "    \n",
    "    def predict(self, X):\n",
    "        y = np.empty(len(X)).astype(np.int)\n",
    "        for i in range(len(X)):\n",
    "            y[i] = self.get_closest_ctr_idx(X[i])\n",
    "        return y\n",
    "                \n",
    "        \n",
    "X, y = load_iris().data, load_iris().target\n",
    "X = X[np.random.permutation(len(X))]\n",
    "pca = PCA(n_components=2)\n",
    "X = pca.fit_transform(X)\n",
    "X = X - np.mean(X, axis=0)\n",
    "X = X / np.std(X, axis=0)\n",
    "print(X.shape)\n",
    "print(y.shape)\n",
    "mod = KMeansClustering(3)\n",
    "mod.fit(X)\n",
    "colors = [ ['red', 'blue', 'green'][x] for x in mod.predict(X)]\n",
    "print('loss:', mod.get_loss(X))\n",
    "\n",
    "plt.scatter(X[:,0], X[:,1], c=colors)\n",
    "plt.show()"
   ]
  },
  {
   "cell_type": "markdown",
   "metadata": {},
   "source": [
    "## Choice of K\n",
    "\n",
    "One technique is to use a loss function, such as the within-cluster dissimilarity $W_K$, and compute it for several values of K. But this loss is decreasing with the number of $K$, even when used on a validation set with Cross-Validation.  \n",
    "\n",
    "The value of $K$ start decreasing exponentially, then at a point the difference between each $K$ abruptly decrease.  \n",
    "Heuristically, set $K^*=K$ for this particular $K$ when the difference become less important, gives good results.  \n",
    "The $K^*$ can be found simply by plotting $W_K$ for different values of $K$. The plot looks like an elbow at $K^*$. This method is also called the elbow method."
   ]
  },
  {
   "cell_type": "code",
   "execution_count": 12,
   "metadata": {},
   "outputs": [
    {
     "data": {
      "image/png": "[encoded data removed]",
      "text/plain": [
       "<Figure size 432x288 with 1 Axes>"
      ]
     },
     "metadata": {
      "needs_background": "light"
     },
     "output_type": "display_data"
    },
    {
     "data": {
      "image/png": "[encoded data removed]",
      "text/plain": [
       "<Figure size 432x288 with 1 Axes>"
      ]
     },
     "metadata": {
      "needs_background": "light"
     },
     "output_type": "display_data"
    }
   ],
   "source": [
    "losses = []\n",
    "for k in range(1, 10):\n",
    "    mod = KMeansClustering(k)\n",
    "    mod.fit(X)\n",
    "    losses.append(mod.get_loss(X))\n",
    "    \n",
    "plt.plot(np.arange(1, 10), losses)\n",
    "plt.show()\n",
    "\n",
    "best_k  = 2 #by looking at plot\n",
    "\n",
    "mod = KMeansClustering(best_k)\n",
    "mod.fit(X)\n",
    "colors = [ ['red', 'blue', 'green'][x] for x in mod.predict(X)]\n",
    "plt.scatter(X[:,0], X[:,1], c=colors)\n",
    "plt.show()"
   ]
  },
  {
   "cell_type": "markdown",
   "metadata": {},
   "source": [
    "## Hierarchical Clustering\n",
    "\n",
    "Hierarchical clustering uses only a measure of dissimilarity between 2 groups of observations.  \n",
    "They produce hierarchical representations in wich the clusters at each level are created by merging clusters at the next lower level. At the lowest level there is $N$ clusters of size $1$, and at the highest $1$ cluster of size $N$.  \n",
    "\n",
    "There exist two-strategies:\n",
    "- Aglomerative (bottom-up): Start at the bottom and and recursively merge a pair of clusters into one\n",
    "- Divisive (top-down): Start at the top and recursively split one cluster into two.  \n",
    "\n",
    "Each level represents a different grouping of the data. It's up to the user to decide which level represents a natural clustering.  \n",
    "Most methods posseses a monotonicity property: The dissimilarity between clusters is monotone increasing with the level.  \n",
    "\n",
    "The model can be plotted as a binary tree, where the height of each node is proportional to the value of the intergroup dissimilarity between it's two children. This is called a dendogram.  \n",
    "The results are valid only if the data really posseses a hierarchical structure."
   ]
  },
  {
   "cell_type": "markdown",
   "metadata": {},
   "source": [
    "## Agglomerative Clustering\n",
    "\n",
    "It starts with every observation in a different cluster.  \n",
    "At each step, the closest 2 clusters are merged.  \n",
    "After $N-1$ steps, the algorithm stops with only one cluster left.  \n",
    "A measure of dissimilary between 2 groups, $d(G,H)$ is needed. They are several possibilities:\n",
    "\n",
    "- Single Linkage is the least dissimilar of all pairs:\n",
    "$$d_\\text{SL}(G,H) = \\min_{i \\in G, i' \\in H} d_{ii'}$$\n",
    "\n",
    "- Complete Linkage is the most dissimilar of all pairs:\n",
    "$$d_\\text{CL}(G,H) = \\max_{i \\in G, i' \\in H} d_{ii'}$$\n",
    "\n",
    "- Group Average is the mean dissimilairty between all pairs:\n",
    "$$d_\\text{GA}(G,H) = \\frac{1}{N_G N_H} \\sum_{i \\in G} \\sum_{i' \\in H} d_{ii'}$$\n",
    "\n",
    "If the data is compact (small dissimilarities between clusters, clusters well separated from each others), all methods produce similar results.  \n",
    "\n",
    "Single Linkage only requires a single pair of two groups to be small to combine them. It has a tendency to combine at relatively low thresholds, observations linked by a series of close intermediates. This phenomem, called chaining, is a defect of the method.  \n",
    "\n",
    "Complete Linkage is the other extreme, two groups are similar if all their obrservations are close. It tends to produce compact clusters, however it may produce clusters with observations much closer to members of other clusters than to member of their own cluster, breaking the closoness property.  \n",
    "\n",
    "Groupe average is a compromise between the two."
   ]
  },
  {
   "cell_type": "markdown",
   "metadata": {},
   "source": [
    "## Divisive Clustering\n",
    "\n",
    "It begins with the whole dataset into one cluster, then recursively divide one existing cluster in two.  \n",
    "Ater $N-1$ steps, are $N$ clusters of size $1$.  \n",
    "This approach is less used than agglomerative clustering.  \n",
    "\n",
    "Place all observations in a single cluster $G$.  \n",
    "Chooses the observations whose average dissimilairy from all other observations is the largest. It is the first member of a new cluster H.  \n",
    "At each step, the observation in $G$ whose average dissimilarity from those in H, minus the remaining observations in G, is transfered to H.  \n",
    "It continues until the largest value became negative. The original cluster is then split in two, G and H.  \n",
    "At each step a new cluster is chosen an split in two. The cluster chosen can be the one with the largest diameter, or the largest average dissimilarity between it's members."
   ]
  },
  {
   "cell_type": "markdown",
   "metadata": {},
   "source": [
    "# Self-Organizing Maps\n",
    "\n",
    "This method can be viewed as a constrained version of K-Means, where the prototype are encouraged to lie in a or two dimensional manifold in the feature space.  \n",
    "We consider a SOM as a rectangular grid of $q_1*q_2=K$ prototypes $m_j \\in \\mathbb{R}^p$.  \n",
    "Once the model is fit, the observations can be mapped into the rectangular grid.  \n",
    "\n",
    "Algorithm:\n",
    "For each observation $x$_i:\n",
    "- Find the cluster $m_j$ closest to $x_i$\n",
    "- Find all clusters $m_k$ such that the distance in the grid between $l_j$ and $l_k$ is lower than $r$.\n",
    "- Move all $m_k$ closer to $x_i$:\n",
    "$$m_k \\leftarrow m_k + \\alpha (x_i - m_k)$$\n",
    "\n",
    "Thousands of iterations are made over the dataset. At each iteration, $\\alpha$ and $r$ are decreased.  \n",
    "The update both move the prototypes closer to the data, but also maintain a smooth 2D spatial relationship between prototypes."
   ]
  },
  {
   "cell_type": "code",
   "execution_count": 13,
   "metadata": {},
   "outputs": [
    {
     "name": "stdout",
     "output_type": "stream",
     "text": [
      "iteration: 0\n",
      "iteration: 50\n",
      "iteration: 100\n",
      "iteration: 150\n",
      "iteration: 200\n",
      "recons error: 4.348530074086643\n"
     ]
    },
    {
     "data": {
      "image/png": "[encoded data removed]",
      "text/plain": [
       "<Figure size 432x288 with 1 Axes>"
      ]
     },
     "metadata": {
      "needs_background": "light"
     },
     "output_type": "display_data"
    }
   ],
   "source": [
    "def d2_dist(a, b):\n",
    "    return (a[0]-b[0])**2 + (a[1]-b[1])**2\n",
    "\n",
    "class SOM:\n",
    "    \n",
    "    def __init__(self, Q, niters = 1000):\n",
    "        self.Q = Q\n",
    "        self.niters = niters\n",
    "        \n",
    "        self.alpha_beg = 1\n",
    "        self.alpha_end = 0\n",
    "        self.dalpha = (self.alpha_end - self.alpha_beg) / self.niters\n",
    "        \n",
    "        self.r_beg = 10\n",
    "        self.r_end = 1\n",
    "        self.dr = (self.r_end - self.r_beg) / self.niters\n",
    "        \n",
    "    def get_closest_centroid(self, x):\n",
    "        best_dist = float('inf')\n",
    "        best_pos = None\n",
    "        \n",
    "        for i in range(self.Q):\n",
    "            for j in range(self.Q):\n",
    "                dist = (self.clusters[i,j]-x) @ (self.clusters[i,j]-x)\n",
    "                if dist < best_dist:\n",
    "                    best_dist = dist\n",
    "                    best_pos = (i,j)\n",
    "        \n",
    "        return best_pos\n",
    "\n",
    "    \n",
    "    def fit(self, X):\n",
    "        N, p = X.shape\n",
    "        \n",
    "        self.clusters = np.random.randn(self.Q, self.Q, p)\n",
    "        alpha = self.alpha_beg\n",
    "        r = self.r_beg\n",
    "        \n",
    "        for it in range(self.niters):\n",
    "            \n",
    "            for x in X:\n",
    "            \n",
    "                i0, j0 = self.get_closest_centroid(x)\n",
    "                \n",
    "                for i in range(self.Q):\n",
    "                    for j in range(self.Q):\n",
    "                        if d2_dist((i,j), (i0,j0)) < r:\n",
    "                            d = x - self.clusters[i,j]\n",
    "                            self.clusters[i,j] += alpha * d\n",
    "            \n",
    "            if it % 50 == 0:\n",
    "                print('iteration:', it)\n",
    "            \n",
    "            alpha += self.dalpha\n",
    "            r += self.dr\n",
    "        \n",
    "    def reconstruct(self, X):\n",
    "        X2 = np.empty(X.shape)\n",
    "        for i in range(len(X)):\n",
    "            pos = self.get_closest_centroid(X[i])\n",
    "            X2[i] = self.clusters[pos]\n",
    "        return X2\n",
    "        \n",
    "        \n",
    "X, y = load_iris().data, load_iris().target\n",
    "X = X[np.random.permutation(len(X))]\n",
    "pca = PCA(n_components=2)\n",
    "X = pca.fit_transform(X)\n",
    "X = X - np.mean(X, axis=0)\n",
    "X = X / np.std(X, axis=0)\n",
    "mod = SOM(Q=5, niters=250)\n",
    "mod.fit(X)\n",
    "Xr = mod.reconstruct(X)\n",
    "\n",
    "print('recons error:', np.linalg.norm(X - Xr))\n",
    "plt.scatter(X[:,0], X[:,1], c='blue')\n",
    "plt.scatter(Xr[:,0], Xr[:,1], c='red')\n",
    "plt.show()"
   ]
  },
  {
   "cell_type": "markdown",
   "metadata": {},
   "source": [
    "# Principal Components, Curves and Surfaces\n",
    "\n",
    "Principal Components provides a sequence of best linear approximations of the data, of all ranks $q \\leq p$.  \n",
    "The parametric representation of an affine hyperplane is:\n",
    "$$f(\\lambda) = \\mu + V_q \\lambda$$\n",
    "with $\\mu \\in \\mathbb{R}^p$ a location vector, $V_q \\in \\mathbb{R}^{p*q}$ a matrix with unit orthogonal columns vectors, and $\\lambda \\in \\mathbb{R}^q$ a vector of parameters.  \n",
    "\n",
    "We can fit this model by minimizing the reconstruction error:\n",
    "$$\\min_{\\mu, \\lambda_i, V_q} \\sum_{i=1}^N ||x_i - \\mu - V_q\\lambda_i||^2$$\n",
    "When we partially optimize of $\\mu$ and $\\lambda_i$ we get:\n",
    "$$\\hat{\\mu} = \\bar{x}$$\n",
    "$$\\hat{\\lambda}_i = V^T_q(x_i - \\bar{x})$$\n",
    "\n",
    "The problem becomes:\n",
    "$$\\min_{V_q} ||(x_i - \\bar{x}) - V_qV^T_q(x_i - \\bar{x})||^2$$\n",
    "\n",
    "We assume $\\bar{x} = 0$. The reconstruction matrix $H_q \\in \\mathbb{R}^{p*p}$ is a projection matrix such that $H_q = V_qV_q^T$  \n",
    "\n",
    "The solution can be found with the singular value decomposition of $X$ centered:\n",
    "$$X = UDV^T$$\n",
    "\n",
    "For each rank $q$, the solution $V_q$ are the first $q$ columns of V."
   ]
  },
  {
   "cell_type": "code",
   "execution_count": 14,
   "metadata": {},
   "outputs": [
    {
     "name": "stdout",
     "output_type": "stream",
     "text": [
      "(120, 2)\n",
      "6.633321496558339e-15\n",
      "(30, 2)\n",
      "3.045051981330325e-15\n",
      "(120, 4)\n",
      "1.050730930714469e-14\n",
      "(30, 4)\n",
      "5.0193869307412495e-15\n"
     ]
    }
   ],
   "source": [
    "from sklearn.datasets import load_iris\n",
    "from sklearn.model_selection import train_test_split\n",
    "from sklearn.decomposition import PCA\n",
    "\n",
    "class MyPCA:\n",
    "    \n",
    "    def __init__(self, q):\n",
    "        self.q = q\n",
    "        \n",
    "    def fit(self, X):\n",
    "        Xc = np.mean(X, axis=0, keepdims=True)\n",
    "        X = X - Xc\n",
    "        \n",
    "        U, d, VT = np.linalg.svd(X)\n",
    "        Vq = VT[:self.q].T\n",
    "        \n",
    "        self.Xc = Xc\n",
    "        self.Vq = Vq\n",
    "        \n",
    "        \n",
    "    def transform(self, X):\n",
    "        return (X - self.Xc) @ self.Vq \n",
    "    \n",
    "    def inverse_transform(self, Xq):\n",
    "        return (Xq @ self.Vq.T) + self.Xc\n",
    "    \n",
    "        \n",
    "X, y = load_iris().data, load_iris().target\n",
    "X_train, X_test, y_train, y_test = train_test_split(X, y, test_size=0.2,\n",
    "                                                   random_state=15)\n",
    "\n",
    "\n",
    "p1 = MyPCA(q=2)\n",
    "p1.fit(X_train)\n",
    "p2 = PCA(n_components=2)\n",
    "p2.fit(X_train)\n",
    "\n",
    "Xtrq1 = p1.transform(X_train)\n",
    "Xtrq2 = p2.transform(X_train)\n",
    "print(Xtrq1.shape)\n",
    "print(metrics.tdist(Xtrq1, Xtrq2))\n",
    "\n",
    "Xteq1 = p1.transform(X_test)\n",
    "Xteq2 = p2.transform(X_test)\n",
    "print(Xteq1.shape)\n",
    "print(metrics.tdist(Xteq1, Xteq2))\n",
    "\n",
    "Xtrr1 = p1.inverse_transform(Xtrq1)\n",
    "Xtrr2 = p2.inverse_transform(Xtrq2)\n",
    "print(Xtrr1.shape)\n",
    "print(metrics.tdist(Xtrr1, Xtrr2))\n",
    "\n",
    "Xter1 = p1.inverse_transform(Xteq1)\n",
    "Xter2 = p2.inverse_transform(Xteq2)\n",
    "print(Xter1.shape)\n",
    "print(metrics.tdist(Xter1, Xter2))"
   ]
  },
  {
   "cell_type": "markdown",
   "metadata": {},
   "source": [
    "The colums of $UD$ are called the principal components.  the $N$ optimal $\\hat{\\lambda}_i$ are given by the first q principal components."
   ]
  },
  {
   "cell_type": "markdown",
   "metadata": {},
   "source": [
    "## Principal Curves and Surfaces\n",
    "\n",
    "Principal curve generelize the principal component line. It provides a smooth one-dimensional curved approximation of a set of data points.  \n",
    "A principal surface is more general, provides a curved manifold approximation of dimension 2 or more."
   ]
  },
  {
   "cell_type": "markdown",
   "metadata": {},
   "source": [
    "## Spectral Clustering\n",
    "\n",
    "Traditional clustering methods use spherical or elliptical metrics, and won't work well if the clusters are non-convex. Spectral clustering is a generalization designed for these situations.  \n",
    "\n",
    "Let's define a matrix of similarities $S \\in \\mathbb{R}^{N*N}$, with $s_{ii'} \\geq 0$ the similarity between $x_i$ and $x_{i'}$.  \n",
    "Let $G = <V, E>$ an undirected similarity graph with vertices $v_i$ for each observation, and edges weighted by $s_{ii'}$ only if reaches a specific threshold, otherwhise there is no edge.  \n",
    "\n",
    "Clustering is now a graph problem, we wish to partition the graph such that edges between different groups have low weight, and within a group have high weight.  \n",
    "\n",
    "Let $d_{ii'}$ the euclidian distance between $x_i$ and $x_{ii'}$. One similarity mesure is the radial-kernel gram matrix: $s_{ii'} = \\exp (-d^2_{ii'}/c)$, with $c > 0$ a scale parameter.  \n",
    "\n",
    "One way to define a similarity graph is the mutual K-nearest neighbor graph. Define $\\mathcal{N}_k$ the symmetric set of nearby pair of points. A pair $(i,i')$ if $x_i$ is among the K-nearest neighbors of $x_{i'}$, or vice versa.  \n",
    "We connect all pairs in $\\mathcal{N}_k$ with weight $w_{ii'} = s_{ii'}$, otherwhise the weight is 0.  \n",
    "Another way is to include all edges to get a fully connected graph, with weights $w_{ii'}=s_{ii'}$.  \n",
    "\n",
    "The matrix of edge weights $W \\in \\mathbb{R}^{N*N}$ is called the adjency matrix.  \n",
    "The degree of vertex $i$ is $g_i = \\sum_{i'} w_{ii'}$. Let $G \\in \\mathbb{R}^{N*N}$ a diagonal matrix with diagonal elements $g_i$.  \n",
    "The graph Laplacian is defined by $L = G - W$.  \n",
    "\n",
    "Spectral clustering find the $m$ eigenvectors corresponding to the $m$ smallest eigenvalues of $L$. It gives us the matrix $Z \\in \\mathbb{R}^{N*m}$.  \n",
    "Using a standard method like K-Means, we cluster the rows of $Z$ to yield a clustering of the original points."
   ]
  },
  {
   "cell_type": "code",
   "execution_count": 15,
   "metadata": {},
   "outputs": [
    {
     "data": {
      "image/png": "[encoded data removed]",
      "text/plain": [
       "<Figure size 432x288 with 1 Axes>"
      ]
     },
     "metadata": {
      "needs_background": "light"
     },
     "output_type": "display_data"
    }
   ],
   "source": [
    "from sklearn.datasets import load_iris\n",
    "from sklearn.decomposition import PCA\n",
    "\n",
    "class SpectralClustering:\n",
    "    \n",
    "    def __init__(self, K, c, m):\n",
    "        self.K = K\n",
    "        self.c = c\n",
    "        self.m = m\n",
    "        \n",
    "    def fit(self, X):\n",
    "        N, p = X.shape\n",
    "        \n",
    "        S = np.array([\n",
    "            [np.exp(-(X[i]-X[j])@(X[i]-X[j])/self.c) for i in range(N)]\n",
    "            for j in range(N)\n",
    "        ])\n",
    "        \n",
    "        W = S\n",
    "        G = np.diag(np.sum(W, axis=0))\n",
    "        L = G - W\n",
    "        \n",
    "        w, V = np.linalg.eigh(L)\n",
    "        Z = V[:, 1:self.m+1]\n",
    "        \n",
    "        km = KMeansClustering(self.K)\n",
    "        km.fit(Z)\n",
    "        \n",
    "        self.Z = Z\n",
    "        self.km = km\n",
    "        self.labels = km.predict(Z)\n",
    "        \n",
    "\n",
    "\n",
    "X, y = load_iris().data, load_iris().target\n",
    "X = X[np.random.permutation(len(X))]\n",
    "pca = PCA(n_components=2)\n",
    "X = pca.fit_transform(X)\n",
    "X = X - np.mean(X, axis=0)\n",
    "X = X / np.std(X, axis=0)\n",
    "mod = SpectralClustering(K=4, c=1, m=2)\n",
    "mod.fit(X)\n",
    "colors = [ ['red', 'blue', 'green', 'yellow'][x] for x in mod.labels]\n",
    "\n",
    "plt.scatter(X[:,0], X[:,1], c=colors)\n",
    "plt.show()"
   ]
  },
  {
   "cell_type": "markdown",
   "metadata": {},
   "source": [
    "## Kernel Principal Components\n",
    "\n",
    "Kernel principal component analysis - Bernhard Schoelkopf, Alexander J. Smola, and Klaus-Robert Mueller. (1999) - [PDF](http://pca.narod.ru/scholkopf_kernel.pdf)\n",
    "\n",
    "In PCA, we diagonalize an estimate an estimate of the covariance matrix:\n",
    "$$C = \\frac{1}{p} \\sum_{j=1}^p x_{:,j} x_{:,j}^T$$\n",
    "\n",
    "Kernel PCA follows the same principle, but first map non lineary the data into another feature space using the transformation $\\Phi$. As for kernel SVM methods, be don't need to compute $\\Phi(x)$, only the dot product $\\Phi(x_i)^T\\Phi(x_j)$\n",
    "\n",
    "The covariance matrix became:\n",
    "\n",
    "$$\\bar{C} = \\frac{1}{p} \\sum_{j=1}^p \\Phi(x_{:,j}) \\Phi(x_{:,j})^T$$  \n",
    "We need to find engeinvalues $\\lambda$ and eigenvectors $V$ satisfying $\\lambda V = \\bar{C} V$.\n",
    "\n",
    "Let's define the kernel matrix $K \\in \\mathbb{R}^{N*N}$ such that:\n",
    "$$K_{ij} = \\Phi(x_i)^T \\Phi(x_j)$$\n",
    "\n",
    "We now solve the eigenvalue problems:\n",
    "$$\\lambda \\alpha = K \\alpha$$\n",
    "\n",
    "We get the projected data on $q$ components with:\n",
    "$$Z_q = \\alpha * \\sqrt{\\lambda}$$\n",
    "\n",
    "The kernel matrix is computed with data not centered. We need to center it first, using the following trick:\n",
    "$$K_\\text{center} = K - 1_NK - K1_N + 1_N K 1_N = (I - 1_N)K(I-1_N)$$\n",
    "\n",
    "with $1_n \\in \\mathbb{R}^{N*N}$ a matrix with all elements equal to $1/N$."
   ]
  },
  {
   "cell_type": "code",
   "execution_count": 16,
   "metadata": {},
   "outputs": [
    {
     "data": {
      "image/png": "[encoded data removed]",
      "text/plain": [
       "<Figure size 432x288 with 1 Axes>"
      ]
     },
     "metadata": {
      "needs_background": "light"
     },
     "output_type": "display_data"
    },
    {
     "name": "stdout",
     "output_type": "stream",
     "text": [
      "(2,) (150, 2)\n",
      "[42.01600494 20.42725842]\n",
      "[[-0.80611225 -0.00852789]\n",
      " [-0.75359042 -0.01212954]\n",
      " [-0.76292849 -0.00498405]\n",
      " [-0.73458891 -0.01106473]\n",
      " [-0.8005011  -0.00637607]\n",
      " [-0.67275656 -0.01237328]\n",
      " [-0.7596268  -0.00599223]\n",
      " [-0.81257844 -0.01357364]\n",
      " [-0.63732546 -0.00347022]\n",
      " [-0.77094789 -0.01398903]]\n"
     ]
    }
   ],
   "source": [
    "from sklearn.datasets import load_iris\n",
    "from sklearn.decomposition import KernelPCA        \n",
    "\n",
    "X, y = load_iris().data, load_iris().target\n",
    "pca = KernelPCA(n_components=2, kernel='rbf', gamma=0.5)\n",
    "X = pca.fit_transform(X)\n",
    "\n",
    "plt.scatter(X[:,0], X[:,1])\n",
    "plt.show()\n",
    "\n",
    "print(pca.lambdas_.shape, pca.alphas_.shape)\n",
    "print(pca.lambdas_)\n",
    "print(X[:10])"
   ]
  },
  {
   "cell_type": "code",
   "execution_count": 17,
   "metadata": {},
   "outputs": [
    {
     "data": {
      "image/png": "[encoded data removed]",
      "text/plain": [
       "<Figure size 432x288 with 1 Axes>"
      ]
     },
     "metadata": {
      "needs_background": "light"
     },
     "output_type": "display_data"
    },
    {
     "name": "stdout",
     "output_type": "stream",
     "text": [
      "(2,) (150, 2)\n",
      "[42.01600494 20.42725842]\n",
      "[[-0.80611225  0.00852789]\n",
      " [-0.75359042  0.01212954]\n",
      " [-0.76292849  0.00498405]\n",
      " [-0.73458891  0.01106473]\n",
      " [-0.8005011   0.00637607]\n",
      " [-0.67275656  0.01237328]\n",
      " [-0.7596268   0.00599223]\n",
      " [-0.81257844  0.01357364]\n",
      " [-0.63732546  0.00347022]\n",
      " [-0.77094789  0.01398903]]\n"
     ]
    }
   ],
   "source": [
    "from sklearn.datasets import load_iris\n",
    "\n",
    "from sklearn.preprocessing import KernelCenterer\n",
    "\n",
    "def center_kernel(K):\n",
    "    N = len(K)\n",
    "    IM1 = np.eye(N) - (np.ones((N,N)) / N)\n",
    "    return IM1 @ K @ IM1\n",
    "\n",
    "def kernel_linear():\n",
    "    return lambda a, b: a @ b\n",
    "\n",
    "def kernel_rbf(gamma):\n",
    "    return lambda x, y: np.exp(-gamma * (x - y)@(x - y))\n",
    "\n",
    "class MyKernelPCA:\n",
    "    \n",
    "    def __init__(self, q, kernel):\n",
    "        self.q = q\n",
    "        self.kernel = kernel\n",
    "        \n",
    "    def fit_transform(self, X):\n",
    "        N, p = X.shape        \n",
    "        \n",
    "        K = np.empty((N, N))\n",
    "        for i in range(N):\n",
    "            for j in range(N):\n",
    "                K[i,j] = self.kernel(X[i], X[j])\n",
    "        K = center_kernel(K)\n",
    "                \n",
    "        w, V = np.linalg.eigh(K)\n",
    "        w, V = np.flip(w), np.flip(V, axis=1)\n",
    "        wq, Vq = w[:self.q], V[:, :self.q]\n",
    "\n",
    "        self.X = X\n",
    "        self.lambdas = wq\n",
    "        self.alphas = Vq\n",
    "        \n",
    "        return self.alphas * np.sqrt(self.lambdas)\n",
    "        \n",
    "        \n",
    "\n",
    "X, y = load_iris().data, load_iris().target\n",
    "pca = MyKernelPCA(q=2, kernel=kernel_rbf(0.5))\n",
    "X = pca.fit_transform(X)\n",
    "\n",
    "plt.scatter(X[:,0], X[:,1])\n",
    "plt.show()\n",
    "\n",
    "print(pca.lambdas.shape, pca.alphas.shape)\n",
    "print(pca.lambdas)\n",
    "print(X[:10])"
   ]
  },
  {
   "cell_type": "markdown",
   "metadata": {},
   "source": [
    "## Sparse Principal Components\n",
    "\n",
    "Sparse principal component analysis - Zou, H., Hastie, T. and Tibshirani, R. (2006) - [PDF](https://web.stanford.edu/~hastie/Papers/spc_jcgs.pdf)\n",
    "\n",
    "Principal components can be interpret by examining the $v_j$, called loadings. The interpretiation may be easier if they are parse. Methods are usually based on a kind of Lasso (L1) penalty.  \n",
    "\n",
    "One approach is to solve the following problem:\n",
    "$$\\max_v v^T(X^TX)v$$\n",
    "$$\\text{s.t. } \\sum_{j=1}^p |v_j| \\leq t, \\space v^Tv=1$$  \n",
    "\n",
    "Another strategy use the reconstruction error with some penalty. For a signe component, the criterion is:\n",
    "$$\\min_{\\theta, v} \\sum_{i=1}^N ||x_i - \\theta v^T x_i||_2^2 + \\lambda ||v||_2^2 + \\lambda_1 ||v||_1$$\n",
    "$$\\text{s.t. } ||\\theta||_2 = 1$$\n",
    "\n",
    "If $\\lambda=\\lambda_1=0$, then $v=\\theta$ is the largest principal component direction.  \n",
    "The second penalty on $v$ encourages sparseness of the loadings.  \n",
    "\n",
    "For $K$ components, the problem became:\n",
    "\n",
    "$$\\min_{\\theta, v} \\sum_{i=1}^N ||x_i - \\Theta V^T x_i||_2^2 + \\lambda \\sum_{k=1}^K ||v_k||_2^2 + \\sum_{k=1}^K \\lambda_{1k} ||v||_1$$\n",
    "$$\\text{s.t. } \\Theta^T\\Theta= I$$\n",
    "\n",
    "The criterion is not jointly convex in $\\Theta$ and $V$, but is convex in each parameter with the other fixed.  \n",
    "Minimization over $V$ is equivalent to $K$ elastic net problems.  \n",
    "Minimization over $\\Theta$ is solved by SVD.  \n",
    "Alternation the 2 steps converges to the solution."
   ]
  },
  {
   "cell_type": "markdown",
   "metadata": {},
   "source": [
    "# Non-Negative Matrix Factorization"
   ]
  }
 ],
 "metadata": {
  "kernelspec": {
   "display_name": "Python 3",
   "language": "python",
   "name": "python3"
  },
  "language_info": {
   "codemirror_mode": {
    "name": "ipython",
    "version": 3
   },
   "file_extension": ".py",
   "mimetype": "text/x-python",
   "name": "python",
   "nbconvert_exporter": "python",
   "pygments_lexer": "ipython3",
   "version": "3.6.7"
  }
 },
 "nbformat": 4,
 "nbformat_minor": 2
}
