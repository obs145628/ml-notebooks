{
 "cells": [
  {
   "cell_type": "markdown",
   "metadata": {},
   "source": [
    "# Classic ML models"
   ]
  },
  {
   "cell_type": "markdown",
   "metadata": {},
   "source": [
    "## Linear Models\n",
    "\n",
    "- Support Vector Machine (SVM)  \n",
    "    Support-Vector Networks - Cortes, Vapnik, 1995 - [PDF](http://image.diku.dk/imagecanon/material/cortes_vapnik95.pdf)"
   ]
  },
  {
   "cell_type": "markdown",
   "metadata": {},
   "source": [
    "## Non-Linear Classifiers\n",
    "\n",
    "- Flexible Discriminant Analysis (FDA)  \n",
    "    Flexible Discriminant Analysis by Optimal Scoring - Hastie, Tibshirani, 2000 - [PDF](https://www.researchgate.net/publication/2889611_Flexible_Discriminant_Analysis_by_Optimal_Scoring)\n",
    "\n",
    "\n",
    "- Mixture Discriminant Analysis (MDA)  \n",
    "    Discriminant Analysis by Gaussian Mixtures - Hastie, Tibshirani, 1996 - [PDF](http://citeseerx.ist.psu.edu/viewdoc/summary?doi=10.1.1.10.3633)\n",
    "\n",
    "\n",
    "- Penalized Discriminant Analysis (PDA)  \n",
    "    Penalized Discriminant Analysis - Hastie, Tibshirani, Buja, 2000 - [PDF](https://www.researchgate.net/publication/2923857_Penalized_Discriminant_Analysis)"
   ]
  },
  {
   "cell_type": "markdown",
   "metadata": {},
   "source": [
    "## Metrics\n",
    "- Tangent distance  \n",
    "Efficient pattern recognition using a new transformation distance - Simard, P., Cun, Y. L. and Denker, J. (1993) - [PDF](https://pdfs.semanticscholar.org/8314/dda1ec43ce57ff877f8f02ed89acb68ca035.pdf)"
   ]
  }
 ],
 "metadata": {
  "kernelspec": {
   "display_name": "Python 3",
   "language": "python",
   "name": "python3"
  },
  "language_info": {
   "codemirror_mode": {
    "name": "ipython",
    "version": 3
   },
   "file_extension": ".py",
   "mimetype": "text/x-python",
   "name": "python",
   "nbconvert_exporter": "python",
   "pygments_lexer": "ipython3",
   "version": "3.6.7"
  }
 },
 "nbformat": 4,
 "nbformat_minor": 2
}
