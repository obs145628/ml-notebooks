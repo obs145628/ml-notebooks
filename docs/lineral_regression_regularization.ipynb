{
 "cells": [
  {
   "cell_type": "code",
   "execution_count": 1,
   "metadata": {},
   "outputs": [],
   "source": [
    "import numpy as np\n",
    "import scipy.linalg\n",
    "import sklearn.metrics\n",
    "from sklearn.linear_model import Ridge, Lasso\n",
    "import torch\n",
    "\n",
    "import metrics\n",
    "import utils\n",
    "\n",
    "np.random.seed(12)"
   ]
  },
  {
   "cell_type": "markdown",
   "metadata": {},
   "source": [
    "# Linear regression with regularization"
   ]
  },
  {
   "cell_type": "markdown",
   "metadata": {},
   "source": [
    "## Ridge regression\n",
    "\n",
    "The error function is $E(\\beta) = MSE(\\beta) + \\alpha * ||\\beta||_2^2$\n",
    "$$E(\\beta) = \\frac{1}{n} \\sum_{i=1}^n(y_i - X_i\\beta)^2 + \\alpha * ||\\beta||_2^2$$\n",
    "\n",
    "With $\\alpha$ real number, the normalization coefficient"
   ]
  },
  {
   "cell_type": "markdown",
   "metadata": {},
   "source": [
    "We can solve it with gradient descent.  \n",
    "See linear_regresion to compute the gradient of MSE.  \n",
    "$$\\frac{\\partial}{\\partial \\beta} \\alpha * ||\\beta||_2^2 = 2 * \\alpha * \\beta$$\n",
    "\n",
    "$$\\frac{\\partial E(\\beta)}{\\partial \\beta} = \\frac{\\partial MSE(\\beta)}{\\partial \\beta} + 2 * \\alpha * \\beta$$"
   ]
  },
  {
   "cell_type": "code",
   "execution_count": 2,
   "metadata": {},
   "outputs": [],
   "source": [
    "def mse(y, y_pred):\n",
    "    n = len(y)\n",
    "    return (1 / n) * np.sum((y - y_pred)**2)\n",
    "\n",
    "def ridge_error(X, y, w, alpha):\n",
    "    y_pred = X @ w\n",
    "    return mse(y, y_pred) + alpha * w.T @ w"
   ]
  },
  {
   "cell_type": "code",
   "execution_count": 3,
   "metadata": {},
   "outputs": [],
   "source": [
    "def mse_dy_pred(y, y_pred):\n",
    "    n = len(y)\n",
    "    return (2 / n) * (y_pred - y)\n",
    "\n",
    "def matmul_dw(X, dout):\n",
    "    return X.T @ dout\n",
    "\n",
    "def norm2_prime(x):\n",
    "    return 2 * x"
   ]
  },
  {
   "cell_type": "code",
   "execution_count": 4,
   "metadata": {},
   "outputs": [
    {
     "name": "stdout",
     "output_type": "stream",
     "text": [
      "(73, 4)\n",
      "(73,)\n",
      "(4,)\n"
     ]
    }
   ],
   "source": [
    "X = np.random.randn(73, 4)\n",
    "y = 3 * X[:, 0] + 2 * X[:, 1]**2 + 5 * X[:, 2] - 3.4 * X[:, 3]\n",
    "y += np.random.randn(73) * 0.2\n",
    "w = np.random.randn(4)\n",
    "alpha = 0.3\n",
    "print(X.shape)\n",
    "print(y.shape)\n",
    "print(w.shape)\n",
    "\n",
    "tX = torch.tensor(X, requires_grad=True)\n",
    "ty = torch.tensor(y, requires_grad=False)\n",
    "tw = torch.tensor(w, requires_grad=True)\n",
    "\n",
    "ty_pred = torch.matmul(tX, tw)\n",
    "criterion = torch.nn.MSELoss()\n",
    "tmse = criterion(ty_pred, ty)\n",
    "tloss = tmse + alpha * torch.dot(tw, tw)\n",
    "tloss.backward()"
   ]
  },
  {
   "cell_type": "code",
   "execution_count": 5,
   "metadata": {},
   "outputs": [
    {
     "name": "stdout",
     "output_type": "stream",
     "text": [
      "54.418558937558814\n",
      "54.4185589375588\n",
      "1.4210854715202004e-14\n"
     ]
    }
   ],
   "source": [
    "loss = ridge_error(X, y, w, alpha)\n",
    "loss_sol = tloss.data.numpy()\n",
    "\n",
    "print(loss)\n",
    "print(loss_sol)\n",
    "print(metrics.tdist(loss, loss_sol))"
   ]
  },
  {
   "cell_type": "code",
   "execution_count": 6,
   "metadata": {},
   "outputs": [
    {
     "name": "stdout",
     "output_type": "stream",
     "text": [
      "[ -3.17626852   2.52904771 -12.1927451    2.38583691]\n",
      "[ -3.17626852   2.52904771 -12.1927451    2.38583691]\n",
      "3.66205343881779e-15\n"
     ]
    }
   ],
   "source": [
    "y_pred = X @ w\n",
    "dy_pred = mse_dy_pred(y, y_pred)\n",
    "dw = matmul_dw(X, dy_pred) + alpha * norm2_prime(w)\n",
    "dw_sol = tw.grad.data.numpy()\n",
    "\n",
    "print(dw)\n",
    "print(dw_sol)\n",
    "print(metrics.tdist(dw, dw_sol))"
   ]
  },
  {
   "cell_type": "code",
   "execution_count": 7,
   "metadata": {},
   "outputs": [
    {
     "name": "stdout",
     "output_type": "stream",
     "text": [
      "[ 2.85207477 -0.3950604   4.78187303 -3.77590846]\n",
      "[ 2.19942873 -0.36638889  3.69827639 -2.69610033]\n",
      "1.6634110056006282\n"
     ]
    }
   ],
   "source": [
    "def fit_sk_ridge(X, y, alpha):\n",
    "    m = Ridge(alpha, fit_intercept=False)\n",
    "    m.fit(X, y)\n",
    "    return m.coef_\n",
    "\n",
    "def fit_sgd(X, y, alpha, lr, nepochs):\n",
    "    w = np.random.randn(X.shape[1])\n",
    "    \n",
    "    for i in range(nepochs):\n",
    "        y_pred = X @ w\n",
    "        dy_pred = mse_dy_pred(y, y_pred)\n",
    "        dw = matmul_dw(X, dy_pred) + alpha * norm2_prime(w)\n",
    "        w -= lr * dw\n",
    "    \n",
    "    return w\n",
    "\n",
    "w1 = fit_sk_ridge(X, y, alpha)\n",
    "w2 = fit_sgd(X, y, alpha, 0.001, 10000)\n",
    "print(w1)\n",
    "print(w2)\n",
    "print(metrics.tdist(w1, w2))"
   ]
  },
  {
   "cell_type": "markdown",
   "metadata": {},
   "source": [
    "## Lasso regression\n",
    "\n",
    "The error function is $E(\\beta) = MSE(\\beta) + \\alpha * ||\\beta||_1$\n",
    "$$E(\\beta) = \\frac{1}{n} \\sum_{i=1}^n(y_i - X_i\\beta)^2 + \\alpha * ||\\beta||_1$$\n",
    "\n",
    "With $\\alpha$ real number, the normalization coefficient"
   ]
  },
  {
   "cell_type": "markdown",
   "metadata": {},
   "source": [
    "We can solve it with gradient descent.  \n",
    "See linear_regresion to compute the gradient of MSE.  \n",
    "$$\\frac{\\partial}{\\partial \\beta} \\alpha * ||\\beta||_1 =  \\alpha * sign(\\beta)$$\n",
    "\n",
    "$$\\frac{\\partial E(\\beta)}{\\partial \\beta} = \\frac{\\partial MSE(\\beta)}{\\partial \\beta} + \\alpha * sign(\\beta)$$"
   ]
  },
  {
   "cell_type": "code",
   "execution_count": 14,
   "metadata": {},
   "outputs": [],
   "source": [
    "def mse(y, y_pred):\n",
    "    n = len(y)\n",
    "    return (1 / n) * np.sum((y - y_pred)**2)\n",
    "\n",
    "def lasso_error(X, y, w, alpha):\n",
    "    y_pred = X @ w\n",
    "    return mse(y, y_pred) + alpha * np.linalg.norm(w, ord=1)\n",
    "\n",
    "def norm1_prime(x):\n",
    "    return np.sign(x)"
   ]
  },
  {
   "cell_type": "code",
   "execution_count": 10,
   "metadata": {},
   "outputs": [
    {
     "name": "stdout",
     "output_type": "stream",
     "text": [
      "(73, 4)\n",
      "(73,)\n",
      "(4,)\n"
     ]
    }
   ],
   "source": [
    "X = np.random.randn(73, 4)\n",
    "y = 3 * X[:, 0] + 2 * X[:, 1]**2 + 5 * X[:, 2] - 3.4 * X[:, 3]\n",
    "y += np.random.randn(73) * 0.2\n",
    "w = np.random.randn(4)\n",
    "alpha = 0.3\n",
    "print(X.shape)\n",
    "print(y.shape)\n",
    "print(w.shape)\n",
    "\n",
    "tX = torch.tensor(X, requires_grad=True)\n",
    "ty = torch.tensor(y, requires_grad=False)\n",
    "tw = torch.tensor(w, requires_grad=True)\n",
    "\n",
    "ty_pred = torch.matmul(tX, tw)\n",
    "criterion = torch.nn.MSELoss()\n",
    "tmse = criterion(ty_pred, ty)\n",
    "tloss = tmse + alpha * torch.norm(tw, p=1)\n",
    "tloss.backward()"
   ]
  },
  {
   "cell_type": "code",
   "execution_count": 15,
   "metadata": {},
   "outputs": [
    {
     "name": "stdout",
     "output_type": "stream",
     "text": [
      "41.24025952134388\n",
      "41.24025952134388\n",
      "0.0\n"
     ]
    }
   ],
   "source": [
    "loss = lasso_error(X, y, w, alpha)\n",
    "loss_sol = tloss.data.numpy()\n",
    "\n",
    "print(loss)\n",
    "print(loss_sol)\n",
    "print(metrics.tdist(loss, loss_sol))"
   ]
  },
  {
   "cell_type": "code",
   "execution_count": 17,
   "metadata": {},
   "outputs": [
    {
     "name": "stdout",
     "output_type": "stream",
     "text": [
      "[-3.49040297 -0.9919511  -9.04640128  4.16354108]\n",
      "[-3.49040297 -0.9919511  -9.04640128  4.16354108]\n",
      "1.831026719408895e-15\n"
     ]
    }
   ],
   "source": [
    "y_pred = X @ w\n",
    "dy_pred = mse_dy_pred(y, y_pred)\n",
    "dw = matmul_dw(X, dy_pred) + alpha * norm1_prime(w)\n",
    "dw_sol = tw.grad.data.numpy()\n",
    "\n",
    "print(dw)\n",
    "print(dw_sol)\n",
    "print(metrics.tdist(dw, dw_sol))"
   ]
  },
  {
   "cell_type": "code",
   "execution_count": 18,
   "metadata": {},
   "outputs": [
    {
     "name": "stdout",
     "output_type": "stream",
     "text": [
      "[ 2.02274191  0.47450009  4.70531987 -3.3719941 ]\n",
      "[ 2.23302879  0.64797166  4.86608616 -3.53701612]\n",
      "0.3569187942384015\n"
     ]
    }
   ],
   "source": [
    "def fit_sk_lasso(X, y, alpha):\n",
    "    m = Lasso(alpha, fit_intercept=False)\n",
    "    m.fit(X, y)\n",
    "    return m.coef_\n",
    "\n",
    "def fit_lasso(X, y, alpha, lr, nepochs):\n",
    "    w = np.random.randn(X.shape[1])\n",
    "    \n",
    "    for i in range(nepochs):\n",
    "        y_pred = X @ w\n",
    "        dy_pred = mse_dy_pred(y, y_pred)\n",
    "        dw = matmul_dw(X, dy_pred) + alpha * norm1_prime(w)\n",
    "        w -= lr * dw\n",
    "    \n",
    "    return w\n",
    "\n",
    "w1 = fit_sk_lasso(X, y, alpha)\n",
    "w2 = fit_lasso(X, y, alpha, 0.001, 10000)\n",
    "print(w1)\n",
    "print(w2)\n",
    "print(metrics.tdist(w1, w2))"
   ]
  },
  {
   "cell_type": "code",
   "execution_count": null,
   "metadata": {},
   "outputs": [],
   "source": []
  }
 ],
 "metadata": {
  "kernelspec": {
   "display_name": "Python 3",
   "language": "python",
   "name": "python3"
  },
  "language_info": {
   "codemirror_mode": {
    "name": "ipython",
    "version": 3
   },
   "file_extension": ".py",
   "mimetype": "text/x-python",
   "name": "python",
   "nbconvert_exporter": "python",
   "pygments_lexer": "ipython3",
   "version": "3.6.6"
  }
 },
 "nbformat": 4,
 "nbformat_minor": 2
}
