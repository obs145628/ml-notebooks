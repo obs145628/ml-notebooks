{
 "cells": [
  {
   "cell_type": "code",
   "execution_count": 1,
   "metadata": {},
   "outputs": [],
   "source": [
    "import numpy as np\n",
    "from sklearn.model_selection import train_test_split"
   ]
  },
  {
   "cell_type": "markdown",
   "metadata": {},
   "source": [
    "# Preprocessing"
   ]
  },
  {
   "cell_type": "markdown",
   "metadata": {},
   "source": [
    "## Center data\n",
    "\n",
    "- Set the mean of each feature of $X$ at $0$\n",
    "- Set the mean of $y$ at $0$\n",
    "- Need to substruct he mean of $X$ from the input and add mean of $y$ to output to get predictions"
   ]
  },
  {
   "cell_type": "code",
   "execution_count": 37,
   "metadata": {},
   "outputs": [
    {
     "name": "stdout",
     "output_type": "stream",
     "text": [
      "coeffs [1.33970580e+00 2.67030622e+00 1.78469930e-04]\n",
      "intercept 7.889832792362837\n",
      "train error: 0.00010383926536641751\n",
      "test error: 9.720628982733466e-05\n"
     ]
    }
   ],
   "source": [
    "X = np.random.randn(313, 3) * 2.56 + 3.6\n",
    "y = 1.34 * X[:, 0] + 2.67 * X[:, 1] + 7.89 + 0.01 * np.random.randn(len(X))\n",
    "X_train, X_test, y_train, y_test =  train_test_split(X, y, test_size=0.2)\n",
    "\n",
    "Xc = np.mean(X_train, axis=0, keepdims=True)\n",
    "yc = np.mean(y_train)\n",
    "X_train2 = X_train - Xc \n",
    "y_train2 = y_train - yc\n",
    "beta = np.linalg.inv(X_train2.T @ X_train2) @ X_train2.T @ y_train2\n",
    " \n",
    "intercept = float(- Xc @ beta + yc)\n",
    "\n",
    "preds_train = X_train @ beta + intercept\n",
    "preds_test = X_test @ beta + intercept\n",
    "\n",
    "print('coeffs', beta)\n",
    "print('intercept', intercept)\n",
    "print('train error:', np.mean((y_train - preds_train)**2))\n",
    "print('test error:', np.mean((y_test - preds_test)**2))"
   ]
  },
  {
   "cell_type": "markdown",
   "metadata": {},
   "source": [
    "## Standardize data\n",
    "\n",
    "- Center data\n",
    "- Set the standard deviation of each feature of x at $1$\n",
    "- Set the standard deviation of $y$ at $1$\n",
    "- Need to substract and divide by mean and std of $X$ from the input\n",
    "- Need to multilply and add mean and std of $y$ to output to get predictions"
   ]
  },
  {
   "cell_type": "code",
   "execution_count": 42,
   "metadata": {},
   "outputs": [
    {
     "name": "stdout",
     "output_type": "stream",
     "text": [
      "coeffs [ 1.34020876e+00  2.67013143e+00 -1.27480707e-04]\n",
      "intercept 7.8886505790953\n",
      "train error: 9.135660150473298e-05\n",
      "test error: 0.0001014917480331836\n"
     ]
    }
   ],
   "source": [
    "X = np.random.randn(313, 3) * 2.56 + 3.6\n",
    "y = 1.34 * X[:, 0] + 2.67 * X[:, 1] + 7.89 + 0.01 * np.random.randn(len(X))\n",
    "X_train, X_test, y_train, y_test =  train_test_split(X, y, test_size=0.2)\n",
    "\n",
    "Xc = np.mean(X_train, axis=0, keepdims=True)\n",
    "Xs = np.std(X_train, axis=0, keepdims=True)\n",
    "yc = np.mean(y_train)\n",
    "ys = np.std(y_train)\n",
    "X_train2 = (X_train - Xc) / Xs\n",
    "y_train2 = (y_train - yc) / ys\n",
    "\n",
    "beta = np.linalg.inv(X_train2.T @ X_train2) @ X_train2.T @ y_train2\n",
    "\n",
    "coeffs = ys * beta/Xs[0]\n",
    "intercept = - (Xc[0]*ys/Xs[0])@beta + yc\n",
    "\n",
    "preds_train = X_train @ coeffs + intercept\n",
    "preds_test  = X_test @ coeffs + intercept\n",
    "\n",
    "print('coeffs', coeffs)\n",
    "print('intercept', intercept)\n",
    "print('train error:', np.mean((y_train - preds_train)**2))\n",
    "print('test error:', np.mean((y_test - preds_test)**2))"
   ]
  },
  {
   "cell_type": "markdown",
   "metadata": {},
   "source": [
    "# Dataset Augmentation"
   ]
  },
  {
   "cell_type": "markdown",
   "metadata": {},
   "source": [
    "## Scale Jitering\n",
    "\n",
    "This technique is applied to ConvNet that take 2D images as input.  \n",
    "Let's suppose the input is of size $N*N$, we take $S$ the rescaled image size, with $S > N$.  \n",
    "We rescale the image to size $S*S$ and take a random crop of size $N*N$.  \n",
    "\n",
    "### Single-scale training\n",
    "\n",
    "Fix $S$ at a specific value during the whole training process.\n",
    "\n",
    "### Multi-Scale training\n",
    "\n",
    "Each training image is rescaled individually with $S$ sampled from a range $[S_\\min, S_\\max]$\n",
    "\n",
    "\n",
    "### Testing\n",
    "\n",
    "At test time, all images are resized to a fixed $Q$, that might be different from the $S$ used during training."
   ]
  }
 ],
 "metadata": {
  "kernelspec": {
   "display_name": "Python 3",
   "language": "python",
   "name": "python3"
  },
  "language_info": {
   "codemirror_mode": {
    "name": "ipython",
    "version": 3
   },
   "file_extension": ".py",
   "mimetype": "text/x-python",
   "name": "python",
   "nbconvert_exporter": "python",
   "pygments_lexer": "ipython3",
   "version": "3.6.7"
  }
 },
 "nbformat": 4,
 "nbformat_minor": 2
}
