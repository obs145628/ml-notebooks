{
 "cells": [
  {
   "cell_type": "code",
   "execution_count": 1,
   "metadata": {},
   "outputs": [],
   "source": [
    "import numpy as np\n",
    "from sklearn.model_selection import train_test_split"
   ]
  },
  {
   "cell_type": "markdown",
   "metadata": {},
   "source": [
    "# Preprocessing"
   ]
  },
  {
   "cell_type": "markdown",
   "metadata": {},
   "source": [
    "## Center data\n",
    "\n",
    "- Set the mean of each feature of $X$ at $0$\n",
    "- Set the mean of $y$ at $0$\n",
    "- Need to substruct he mean of $X$ from the input and add mean of $y$ to output to get predictions"
   ]
  },
  {
   "cell_type": "code",
   "execution_count": 21,
   "metadata": {},
   "outputs": [
    {
     "name": "stdout",
     "output_type": "stream",
     "text": [
      "coeffs [ 1.35030633  2.67236391 -0.0095658 ]\n",
      "train error: 0.09316112498130295\n",
      "test error: 0.0977621066645689\n"
     ]
    }
   ],
   "source": [
    "X = np.random.randn(313, 3) * 2.56 + 3.6\n",
    "y = 1.34 * X[:, 0] + 2.67 * X[:, 1] + 7.89 + 0.3 * np.random.randn(len(X))\n",
    "X_train, X_test, y_train, y_test =  train_test_split(X, y, test_size=0.2)\n",
    "\n",
    "Xc = np.mean(X_train, axis=0, keepdims=True)\n",
    "yc = np.mean(y_train)\n",
    "X_train2 = X_train - Xc \n",
    "y_train2 = y_train - yc\n",
    "beta = np.linalg.inv(X_train2.T @ X_train2) @ X_train2.T @ y_train2\n",
    "\n",
    "preds_train = (X_train - Xc) @ beta + yc\n",
    "preds_test = (X_test - Xc) @ beta + yc\n",
    "\n",
    "print('coeffs', beta)\n",
    "print('train error:', np.mean((y_train - preds_train)**2))\n",
    "print('test error:', np.mean((y_test - preds_test)**2))"
   ]
  },
  {
   "cell_type": "markdown",
   "metadata": {},
   "source": [
    "## Standardize data\n",
    "\n",
    "- Center data\n",
    "- Set the standard deviation of each feature of x at $1$\n",
    "- Set the standard deviation of $y$ at $1$\n",
    "- Need to substract and divide by mean and std of $X$ from the input\n",
    "- Need to multilply and add mean and std of $y$ to output to get predictions"
   ]
  },
  {
   "cell_type": "code",
   "execution_count": 31,
   "metadata": {},
   "outputs": [
    {
     "name": "stdout",
     "output_type": "stream",
     "text": [
      "coeffs [ 4.26439519e-01  9.16017824e-01 -5.91241243e-04]\n",
      "train error: 0.07780094924852021\n",
      "test error: 0.1042436721663027\n"
     ]
    }
   ],
   "source": [
    "X = np.random.randn(313, 3) * 2.56 + 3.6\n",
    "y = 1.34 * X[:, 0] + 2.67 * X[:, 1] + 7.89 + 0.3 * np.random.randn(len(X))\n",
    "X_train, X_test, y_train, y_test =  train_test_split(X, y, test_size=0.2)\n",
    "\n",
    "Xc = np.mean(X_train, axis=0, keepdims=True)\n",
    "Xs = np.std(X_train, axis=0, keepdims=True)\n",
    "yc = np.mean(y_train)\n",
    "ys = np.std(y_train)\n",
    "X_train2 = (X_train - Xc) / Xs\n",
    "y_train2 = (y_train - yc) / ys\n",
    "beta = np.linalg.inv(X_train2.T @ X_train2) @ X_train2.T @ y_train2\n",
    "\n",
    "preds_train = (((X_train - Xc) / Xs) @ beta) * ys + yc\n",
    "preds_test  = (((X_test  - Xc) / Xs) @ beta) * ys + yc\n",
    "\n",
    "print('coeffs', beta)\n",
    "print('train error:', np.mean((y_train - preds_train)**2))\n",
    "print('test error:', np.mean((y_test - preds_test)**2))"
   ]
  }
 ],
 "metadata": {
  "kernelspec": {
   "display_name": "Python 3",
   "language": "python",
   "name": "python3"
  },
  "language_info": {
   "codemirror_mode": {
    "name": "ipython",
    "version": 3
   },
   "file_extension": ".py",
   "mimetype": "text/x-python",
   "name": "python",
   "nbconvert_exporter": "python",
   "pygments_lexer": "ipython3",
   "version": "3.6.7"
  }
 },
 "nbformat": 4,
 "nbformat_minor": 2
}
