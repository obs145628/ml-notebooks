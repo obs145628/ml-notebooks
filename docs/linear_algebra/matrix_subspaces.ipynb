{
 "cells": [
  {
   "cell_type": "code",
   "execution_count": 19,
   "metadata": {},
   "outputs": [],
   "source": [
    "import sys\n",
    "sys.path.append('..')\n",
    "\n",
    "import numpy as np\n",
    "\n",
    "import metrics"
   ]
  },
  {
   "cell_type": "markdown",
   "metadata": {},
   "source": [
    "# The column space\n",
    "\n",
    "Let $A \\in \\mathbb{R}^{n*p}$\n",
    "\n",
    "The column space of $A$, denoted $\\text{Col}(A)$, contains all linear combinations of the colums of $A$."
   ]
  },
  {
   "cell_type": "markdown",
   "metadata": {},
   "source": [
    "# The row space\n",
    "\n",
    "Let $A \\in \\mathbb{R}^{n*p}$\n",
    "\n",
    "The row space of $A$, denoted $\\text{Row}(A)$, contains all linear combinations of the rows of $A$."
   ]
  },
  {
   "cell_type": "markdown",
   "metadata": {},
   "source": [
    "# The null space\n",
    "\n",
    "Let $A \\in \\mathbb{R}^{n*p}$\n",
    "\n",
    "The null space of $A$, denoted $\\text{Null}(A)$, contains all vector $x$ such that $Ax = \\vec{0}$.  \n",
    "It's also called the right nullspace."
   ]
  },
  {
   "cell_type": "markdown",
   "metadata": {},
   "source": [
    "# The left null space\n",
    "\n",
    "Let $A \\in \\mathbb{R}^{n*p}$\n",
    "\n",
    "The left null space contains all vector $x$ such that $x^TA = \\vec{0}$.  \n",
    "This equation is equivalent to $A^Tx = 0$.  \n",
    "So the left null space of $A$ is usually denoted $\\text{Null}(A^T)$."
   ]
  },
  {
   "cell_type": "markdown",
   "metadata": {},
   "source": [
    "# Rank and dimensionality\n",
    "\n",
    "Let $A \\in \\mathbb{R}^{n*p}$\n",
    "$$\\dim \\text{Col}(A) = \\dim \\text{Row}(A) = r$$\n",
    "\n",
    "$r$ is called the rank of $A$\n",
    "\n",
    "$$\\dim \\text{Col}(A) + \\dim \\text{Null}(A^T) = n$$\n",
    "$$\\dim \\text{Row}(A) + \\dim \\text{Null}(A) = p$$\n",
    "\n",
    "We can deduce that:\n",
    "\n",
    "$$\\dim \\text{Null}(A) = p - r$$\n",
    "$$\\dim \\text{Null}(A^T) = n - r$$"
   ]
  },
  {
   "cell_type": "markdown",
   "metadata": {},
   "source": [
    "# SVD and Matrix subspaces\n",
    "\n",
    "Let $A \\in \\mathbb{R}^{n*p}$ and the $SVD$ decomposition of $A$:\n",
    "\n",
    "$$A = U \\Sigma V^T$$\n",
    "\n",
    "## Rank\n",
    "\n",
    "The rank $r$ of $A$ is the number of not-null singular values of $A$.\n",
    "\n",
    "## Column space\n",
    "\n",
    "The $r$ first columns of $U$ form an orthogonal basis for $\\text{Col}(A)$\n",
    "\n",
    "## Row space\n",
    "\n",
    "The $r$ first columns of $V$ form an orthogonal basis for $\\text{Row}(A)$\n",
    "\n",
    "## Null space\n",
    "\n",
    "The $p-r$ last columns of $V$ form an orthogonal basis for $\\text{Null}(A)$\n",
    "\n",
    "## Left null space\n",
    "\n",
    "The $n-r$ last columns of $U$ form an orthogonal basis for $\\text{Null}(A^T)$"
   ]
  },
  {
   "cell_type": "code",
   "execution_count": 33,
   "metadata": {},
   "outputs": [
    {
     "name": "stdout",
     "output_type": "stream",
     "text": [
      "rank(A) = 2\n",
      "6.568167990716596e-16\n",
      "2.057893912404887e-15\n",
      "1.308227191958749e-14\n",
      "7.049697655142648e-15\n"
     ]
    }
   ],
   "source": [
    "def sv_rank(s):\n",
    "    i = 0\n",
    "    while i < len(s):\n",
    "        if s[i] * s[i] < 1e-12:\n",
    "            break\n",
    "        i += 1\n",
    "    return i\n",
    "\n",
    "\n",
    "\n",
    "def rank(A):\n",
    "    U, s, VT = np.linalg.svd(A)\n",
    "    return sv_rank(s)\n",
    "\n",
    "def colspace(A):\n",
    "    U, s, VT = np.linalg.svd(A)\n",
    "    r = sv_rank(s)\n",
    "    return U[:, :r]\n",
    "\n",
    "def rowspace(A):\n",
    "    U, s, VT = np.linalg.svd(A)\n",
    "    r = sv_rank(s)\n",
    "    return VT[:r].T\n",
    "\n",
    "def nullspace(A):\n",
    "    U, s, VT = np.linalg.svd(A)\n",
    "    r = sv_rank(s)\n",
    "    return VT[r:].T\n",
    "\n",
    "def left_nullspace(A):\n",
    "    U, s, VT = np.linalg.svd(A)\n",
    "    r = sv_rank(s)\n",
    "    return U[:, r:]\n",
    "\n",
    "\n",
    "\n",
    "A = np.array([\n",
    "    [5, 4, 3, 7],\n",
    "    [12, -1, 8, 12],\n",
    "    [10, 8, 6, 14]\n",
    "])\n",
    "\n",
    "print('rank(A) =', rank(A))\n",
    "\n",
    "X = colspace(A)\n",
    "# only check that X in Col(A)\n",
    "Y = np.linalg.pinv(A) @ X\n",
    "print(metrics.tdist(A @ Y, X))\n",
    "\n",
    "X = rowspace(A)\n",
    "# only check that X in Row(A)\n",
    "Y = np.linalg.pinv(A.T) @ X\n",
    "print(metrics.tdist(A.T @ Y, X))\n",
    "\n",
    "X = nullspace(A)\n",
    "# only check that X in Null(A)\n",
    "print(metrics.tdist(A @ X, np.zeros((A.shape[0], X.shape[1]))))\n",
    "\n",
    "X = left_nullspace(A)\n",
    "# only check that X in Null(A^T)\n",
    "print(metrics.tdist(A.T @ X, np.zeros((A.shape[1], X.shape[1]))))"
   ]
  }
 ],
 "metadata": {
  "kernelspec": {
   "display_name": "Python 3",
   "language": "python",
   "name": "python3"
  },
  "language_info": {
   "codemirror_mode": {
    "name": "ipython",
    "version": 3
   },
   "file_extension": ".py",
   "mimetype": "text/x-python",
   "name": "python",
   "nbconvert_exporter": "python",
   "pygments_lexer": "ipython3",
   "version": "3.6.7"
  }
 },
 "nbformat": 4,
 "nbformat_minor": 2
}
