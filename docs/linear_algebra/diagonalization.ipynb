{
 "cells": [
  {
   "cell_type": "code",
   "execution_count": 24,
   "metadata": {},
   "outputs": [],
   "source": [
    "import sys\n",
    "sys.path.append('..')\n",
    "\n",
    "import numpy as np\n",
    "\n",
    "import metrics"
   ]
  },
  {
   "cell_type": "markdown",
   "metadata": {},
   "source": [
    "# Matrix similarity\n",
    "\n",
    "Let $A$ and $B$ matrices of size $n*n$.  \n",
    "$A$ and $B$ are similar if it exists an invertible matrix $P \\in \\mathbb{R}^{n*n}$ such that:\n",
    "$$B = P^{-1}AP$$  "
   ]
  },
  {
   "cell_type": "markdown",
   "metadata": {},
   "source": [
    "# Diagonalization\n",
    "\n",
    "Let $A \\in \\mathbb{R}^{n*n}$\n",
    "A is diagonalizable if it similar to a diagonal matrix.  \n",
    "IE there is an invertible matrix $P \\in \\mathbb{R}^{n*n}$ such that $P^{-1}AP$ is diagonal.\n",
    "\n",
    "The diagonilazation of matrix $A$ is:\n",
    "$$P^{-1} A P = D$$\n",
    "with $P \\in \\mathbb{R}^{n*n}$ is a matrix whose columns are the right eigenvectors of $A$.  \n",
    "And $D \\in \\mathbb{R}^{n*n}$ a digonal matrix whose entries $D_{ii}$ is the eigeinvalue of $A$ corresponding to the eigeinvector $P_i$.  \n",
    "\n",
    "The equation can be rewritten as:\n",
    "\n",
    "$$A = PDP^{-1}$$"
   ]
  },
  {
   "cell_type": "code",
   "execution_count": 55,
   "metadata": {},
   "outputs": [
    {
     "name": "stdout",
     "output_type": "stream",
     "text": [
      "A =\n",
      " [[ 1  2  1]\n",
      " [ 6 -1  0]\n",
      " [-1  2  1]]\n",
      "P = \n",
      " [[ 0.60588985  0.28934634 -0.08122258]\n",
      " [ 0.73792101 -0.83016763 -0.41839386]\n",
      " [ 0.29727105  0.47655053  0.9046267 ]]\n",
      "diag(D)=\n",
      " [ 3.92646107 -3.09123795  0.16477688]\n",
      "P^-1AP=\n",
      " [[ 3.92646107e+00 -8.47397419e-16  5.54699765e-16]\n",
      " [ 3.69366844e-15 -3.09123795e+00  7.06300920e-16]\n",
      " [ 7.25290929e-16  3.97623940e-18  1.64776876e-01]]\n",
      "4.431847301282925e-15\n",
      "PDP^-1=\n",
      " [[ 1.00000000e+00  2.00000000e+00  1.00000000e+00]\n",
      " [ 6.00000000e+00 -1.00000000e+00  9.30119432e-16]\n",
      " [-1.00000000e+00  2.00000000e+00  1.00000000e+00]]\n",
      "6.604835229600313e-15\n"
     ]
    }
   ],
   "source": [
    "A = np.array([\n",
    "    [1, 2, 1],\n",
    "    [6, -1, 0],\n",
    "    [-1, 2, 1]\n",
    "])\n",
    "d, P = np.linalg.eig(A)\n",
    "\n",
    "print('A =\\n', A)\n",
    "print('P = \\n', P)\n",
    "print('diag(D)=\\n', d)\n",
    "\n",
    "\n",
    "D2 = np.linalg.inv(P) @ A @ P\n",
    "print('P^-1AP=\\n', D2)\n",
    "print(metrics.tdist(np.diag(d), D2))\n",
    "\n",
    "A2 = P @ np.diag(d) @ np.linalg.inv(P)\n",
    "print('PDP^-1=\\n', A2)\n",
    "print(metrics.tdist(A, A2))"
   ]
  },
  {
   "cell_type": "markdown",
   "metadata": {},
   "source": [
    "# Square root of a matrix\n",
    "\n",
    "Let $A$ and $B$ matrices of size $n*n$.  \n",
    "Matrix $B$ is the square root of $A$ is $BB = A$  \n",
    "The square root is denoted $B = A^{\\frac{1}{2}}$  \n",
    "\n",
    "A matrix may have several or no square root"
   ]
  },
  {
   "cell_type": "markdown",
   "metadata": {},
   "source": [
    "If $A$ is diagonal, $B$ is a diagonal matrix whose entries are the square root of the diagonal entries of $A$"
   ]
  },
  {
   "cell_type": "code",
   "execution_count": 43,
   "metadata": {},
   "outputs": [
    {
     "name": "stdout",
     "output_type": "stream",
     "text": [
      "0.0\n"
     ]
    }
   ],
   "source": [
    "A = np.diag(np.random.randn(5)**2)\n",
    "B = np.diag(np.sqrt(np.diag(A)))\n",
    "print(metrics.tdist(A, B @ B))"
   ]
  },
  {
   "cell_type": "markdown",
   "metadata": {},
   "source": [
    "If $A$ is diagonalizable with positive eigenvalues, the square root of $A$ is:\n",
    "\n",
    "$$B = PD^{\\frac{1}{2}}P^{-1}$$"
   ]
  },
  {
   "cell_type": "code",
   "execution_count": 59,
   "metadata": {},
   "outputs": [
    {
     "name": "stdout",
     "output_type": "stream",
     "text": [
      "[[ 1.28989795 -0.5797959   0.28989795]\n",
      " [-0.28989795  1.5797959  -0.28989795]\n",
      " [ 0.5797959  -1.15959179  1.5797959 ]]\n",
      "1.900395703982448e-15\n"
     ]
    }
   ],
   "source": [
    "A = np.array([\n",
    "    [2, -2, 1],\n",
    "    [-1, 3, -1],\n",
    "    [2, -4, 3]\n",
    "])\n",
    "d, P = np.linalg.eig(A)\n",
    "\n",
    "s = np.sqrt(d)\n",
    "B = P @ np.diag(s) @ np.linalg.inv(P)\n",
    "print(B)\n",
    "print(metrics.tdist(B @ B, A))"
   ]
  },
  {
   "cell_type": "markdown",
   "metadata": {},
   "source": [
    "## Square root Inverse\n",
    "\n",
    "$$A^{-\\frac{1}{2}} = \\text{inv}(A^{\\frac{1}{2}})$$\n",
    "\n",
    "$A^{-\\frac{1}{2}}$ is the square root of $A^{-1}$:\n",
    "$$A^{-\\frac{1}{2}}A^{-\\frac{1}{2}} = A^{-1}$$\n",
    "\n",
    "If $A$ is diagonal, $A^{-\\frac{1}{2}}$ is a diagonal matrix whose entries are the inverse square root of the diagonal entries of $A$"
   ]
  },
  {
   "cell_type": "code",
   "execution_count": 94,
   "metadata": {},
   "outputs": [
    {
     "name": "stdout",
     "output_type": "stream",
     "text": [
      "6.509259464525837e-17\n"
     ]
    }
   ],
   "source": [
    "A = np.diag(3.8 * np.random.randn(5)**2 + 1.2)\n",
    "B = np.diag(1 / np.sqrt(np.diag(A)))\n",
    "print(metrics.tdist(np.linalg.inv(A), B @ B))"
   ]
  },
  {
   "cell_type": "markdown",
   "metadata": {},
   "source": [
    "If $A$ is diagonalizable with positive eigenvalues, the inverse square root of $A$ is:\n",
    "\n",
    "$$A^{-\\frac{1}{2}} = PD^{-\\frac{1}{2}}P^{-1}$$"
   ]
  },
  {
   "cell_type": "code",
   "execution_count": 93,
   "metadata": {},
   "outputs": [
    {
     "name": "stdout",
     "output_type": "stream",
     "text": [
      "[[ 0.88164966  0.23670068 -0.11835034]\n",
      " [ 0.11835034  0.76329932  0.11835034]\n",
      " [-0.23670068  0.47340137  0.76329932]]\n",
      "1.1025638216888958e-15\n"
     ]
    }
   ],
   "source": [
    "A = np.array([\n",
    "    [2, -2, 1],\n",
    "    [-1, 3, -1],\n",
    "    [2, -4, 3]\n",
    "])\n",
    "d, P = np.linalg.eig(A)\n",
    "\n",
    "s = 1 / np.sqrt(d)\n",
    "B = P @ np.diag(s) @ np.linalg.inv(P) \n",
    "print(B)\n",
    "print(metrics.tdist(B @ B, np.linalg.inv(A)))"
   ]
  },
  {
   "cell_type": "markdown",
   "metadata": {},
   "source": [
    "# Symmetric positive definite\n",
    "\n",
    "Let $A$ a symmetric positive definite matrix. A is always diagonalizable:\n",
    "\n",
    "$$P^T A P = D$$\n",
    "\n",
    "With $P$, the marix of eigeinvectors, is an orthogonal matrix ($PP^T=P^TP=I$)."
   ]
  },
  {
   "cell_type": "code",
   "execution_count": 102,
   "metadata": {},
   "outputs": [
    {
     "name": "stdout",
     "output_type": "stream",
     "text": [
      "A =\n",
      " [[ 1.52098065 -1.84427989  0.90801682 -0.71696289]\n",
      " [-1.84427989  7.59521016 -0.31302098 -1.3882128 ]\n",
      " [ 0.90801682 -0.31302098  1.95122817  1.05190951]\n",
      " [-0.71696289 -1.3882128   1.05190951  4.02915553]]\n",
      "P = \n",
      " [[ 0.7545719   0.53480767 -0.30200481  0.2310738 ]\n",
      " [ 0.22649461  0.20718112  0.22529854 -0.92467115]\n",
      " [-0.50863947  0.81205905  0.25943819  0.12057286]\n",
      " [ 0.34728565 -0.10778147  0.88922747  0.27757943]]\n",
      "diag(D)=\n",
      " [0.0253464  2.32975479 4.22783296 8.51364036]\n",
      "P^-1AP=\n",
      " [[ 2.53464004e-02 -1.23632412e-16  1.25744010e-16  1.06867316e-15]\n",
      " [ 1.58503135e-17  2.32975479e+00  4.18536755e-17 -8.33132788e-16]\n",
      " [ 1.17855422e-16 -3.46490686e-16  4.22783296e+00  3.51973990e-16]\n",
      " [ 3.24306228e-17  9.32785919e-16 -1.30992096e-16  8.51364036e+00]]\n",
      "2.0013445025964555e-15\n",
      "PDP^-1=\n",
      " [[ 1.52098065 -1.84427989  0.90801682 -0.71696289]\n",
      " [-1.84427989  7.59521016 -0.31302098 -1.3882128 ]\n",
      " [ 0.90801682 -0.31302098  1.95122817  1.05190951]\n",
      " [-0.71696289 -1.3882128   1.05190951  4.02915553]]\n",
      "2.8239848996973524e-15\n",
      "1.1516143692762278e-15\n",
      "1.1648669840447181e-15\n"
     ]
    }
   ],
   "source": [
    "A = np.random.randn(4, 4)\n",
    "A = A.T @ A\n",
    "d, P = np.linalg.eigh(A)\n",
    "\n",
    "print('A =\\n', A)\n",
    "print('P = \\n', P)\n",
    "print('diag(D)=\\n', d)\n",
    "\n",
    "\n",
    "D2 = np.linalg.inv(P) @ A @ P\n",
    "print('P^-1AP=\\n', D2)\n",
    "print(metrics.tdist(np.diag(d), D2))\n",
    "\n",
    "A2 = P @ np.diag(d) @ np.linalg.inv(P)\n",
    "print('PDP^-1=\\n', A2)\n",
    "print(metrics.tdist(A, A2))\n",
    "\n",
    "print(metrics.tdist(P @ P.T, np.eye(4)))\n",
    "print(metrics.tdist(P.T @ P, np.eye(4)))"
   ]
  },
  {
   "cell_type": "markdown",
   "metadata": {},
   "source": [
    "# Computing: Diagonalization of Non-Symetric matrix"
   ]
  },
  {
   "cell_type": "markdown",
   "metadata": {},
   "source": [
    "## Implicitly-Shifted QR\n",
    "\n",
    "The Implicitly-shifted QR algorithm is a method to compute the eigenvalues and eigenvectors of any square matrix"
   ]
  },
  {
   "cell_type": "markdown",
   "metadata": {},
   "source": [
    "## Naive diagonalization"
   ]
  },
  {
   "cell_type": "markdown",
   "metadata": {},
   "source": [
    "### Explicit QR algorithm: Find eigenvalues\n",
    "\n",
    "- Let $A_0 = A$\n",
    "- Iterate:\n",
    "    - Compute the $QR$ factorization of $A$: $A_k = Q_k R_k$\n",
    "    - Let $A_{k+1} = Q_k R_k$\n",
    "\n",
    "As $k \\to \\infty$, $A_k$ converges to the Schur form of $A$, an upper-triangular matrix.\n",
    "$$A_{k+1} = Q_k^{-1}A_kQ_k$$\n",
    "So $A$, $A_1$, ..., $A_k$ are all similar, and thus they share the same eigenvalues.  \n",
    "The eigenvalues of the upper-triangular matrix $A_k$ lie on the diagionals, they are the eigenvalues of $A$"
   ]
  },
  {
   "cell_type": "code",
   "execution_count": 109,
   "metadata": {},
   "outputs": [
    {
     "name": "stdout",
     "output_type": "stream",
     "text": [
      "[6. 1. 1.]\n",
      "[6. 1. 1.]\n",
      "6.3873580624876566e-12\n"
     ]
    }
   ],
   "source": [
    "def qr_algorithm(A, max_iters=1000):\n",
    "    \n",
    "    Ak = A.copy()\n",
    "    for k in range(max_iters):\n",
    "        # Compute norm below diagonal\n",
    "        lnorm = np.linalg.norm(Ak - np.triu(Ak))\n",
    "        if lnorm < 1e-10: break\n",
    "        \n",
    "        Q, R = np.linalg.qr(Ak)\n",
    "        Ak = R @ Q\n",
    "    \n",
    "    return np.diag(Ak)\n",
    "\n",
    "A = np.array([\n",
    "    [2, -2, 1],\n",
    "    [-1, 3, -1],\n",
    "    [2, -4, 3]\n",
    "])\n",
    "\n",
    "d = qr_algorithm(A)\n",
    "d2, _ = np.linalg.eig(A)\n",
    "\n",
    "print(d)\n",
    "print(d2)\n",
    "print(metrics.tdist(d, d2))"
   ]
  },
  {
   "cell_type": "markdown",
   "metadata": {},
   "source": [
    "### Compute the eigenvectors from a corresponding eigenvalue\n",
    "\n",
    "$$Av = \\lambda v$$\n",
    "$$(A - \\lambda I)v = \\vec{0}$$\n",
    "\n",
    "An orthogonal basis of $\\text{Null}(A - \\lambda I)$ is a set of eigenvectors for the eigeinvalue $\\lambda$"
   ]
  },
  {
   "cell_type": "code",
   "execution_count": 150,
   "metadata": {},
   "outputs": [
    {
     "name": "stdout",
     "output_type": "stream",
     "text": [
      "1.4812106129721512e-12\n",
      "3.3603528951155397e-12\n",
      "6.352821333422274e-12\n",
      "6.725357375506194e-12\n",
      "8.730925457289283e-12\n"
     ]
    }
   ],
   "source": [
    "def sv_rank(s):\n",
    "    i = 0\n",
    "    while i < len(s):\n",
    "        if s[i] * s[i] < 1e-12:\n",
    "            break\n",
    "        i += 1\n",
    "    return i\n",
    "\n",
    "def find_evec(A, d):\n",
    "    amd = A - np.eye(len(A)) * d\n",
    "    U, s, VT = np.linalg.svd(amd)\n",
    "    r = sv_rank(s)\n",
    "    return VT[r:].T\n",
    "\n",
    "def my_eig(A):\n",
    "    d = qr_algorithm(A)\n",
    "    vects = None\n",
    "    for i in range(len(d)):\n",
    "        if i > 0 and (d[i] - d[i-1])**2 < 1e-12:\n",
    "            continue\n",
    "        \n",
    "        v = find_evec(A, d[i])\n",
    "        if vects is None:\n",
    "            vects = v\n",
    "        else:\n",
    "            vects = np.concatenate((vects, v), axis = 1)\n",
    "    return d, vects\n",
    "    \n",
    "    \n",
    "A = np.array([\n",
    "    [2, -2, 1],\n",
    "    [-1, 3, -1],\n",
    "    [2, -4, 3]\n",
    "])\n",
    "\n",
    "d, P = my_eig(A)\n",
    "d2, P2 = np.linalg.eig(A)\n",
    "\n",
    "for i in range(len(d)):\n",
    "    print(metrics.tdist(A @ P[:, i], d[i] * P[:, i]))\n",
    "\n",
    "print(metrics.tdist(np.linalg.inv(P) @ A @ P, np.diag(d)))\n",
    "print(metrics.tdist(P @ np.diag(d) @ np.linalg.inv(P), A))"
   ]
  },
  {
   "cell_type": "markdown",
   "metadata": {},
   "source": [
    "# Computing: Diagonalization of Symetric matrix"
   ]
  },
  {
   "cell_type": "markdown",
   "metadata": {},
   "source": [
    "## Jacobi Eigenvalue algorithm\n",
    "\n",
    "The Jacobi eigenvalue algorithm is an iterative method to compute the eigenvalues and eigenvectors of a real symmetric matrix"
   ]
  }
 ],
 "metadata": {
  "kernelspec": {
   "display_name": "Python 3",
   "language": "python",
   "name": "python3"
  },
  "language_info": {
   "codemirror_mode": {
    "name": "ipython",
    "version": 3
   },
   "file_extension": ".py",
   "mimetype": "text/x-python",
   "name": "python",
   "nbconvert_exporter": "python",
   "pygments_lexer": "ipython3",
   "version": "3.6.7"
  }
 },
 "nbformat": 4,
 "nbformat_minor": 2
}
