{
 "cells": [
  {
   "cell_type": "code",
   "execution_count": 3,
   "metadata": {},
   "outputs": [],
   "source": [
    "import sys\n",
    "sys.path.append('..')\n",
    "\n",
    "import numpy as np\n",
    "\n",
    "import metrics"
   ]
  },
  {
   "cell_type": "markdown",
   "metadata": {},
   "source": [
    "Let $A \\in \\mathbb{R}^{n*n}$\n",
    "\n",
    "Let $v \\in \\mathbb{R}^{n}$. If there is a scalar $\\lambda \\in \\mathbb{R}$ such that:\n",
    "\n",
    "$$A v = \\lambda v$$\n",
    "\n",
    "Then $v$ is an eigenvector of $A$, and $\\lambda$ is it's corresponding eigenvalue.  \n",
    "\n",
    "$v$ is also called a right eigenvector, to differientate them from the left eigeinvectors, that satisfy the equation:\n",
    "\n",
    "$$v^TA = \\lambda v$$  \n",
    "\n",
    "If $v$ is an eigeinvector, $\\alpha v$, $\\alpha \\in \\mathbb{R}$, is also an eigenvector, with the same eigeinvalue $\\lambda$.  \n",
    "That's why we are often only interested by the normalized eigenvectors"
   ]
  },
  {
   "cell_type": "code",
   "execution_count": 10,
   "metadata": {},
   "outputs": [
    {
     "name": "stdout",
     "output_type": "stream",
     "text": [
      "[-2.44948974  2.44948974 -4.89897949]\n",
      "[-2.44948974  2.44948974 -4.89897949]\n",
      "1.7763568394002505e-15\n",
      "[ 11.16967323 -11.16967323  22.33934645]\n",
      "[ 11.16967323 -11.16967323  22.33934645]\n",
      "7.32410687763558e-15\n"
     ]
    }
   ],
   "source": [
    "A = np.array([\n",
    "    [2, -2, 1],\n",
    "    [-1, 3, -1],\n",
    "    [2, -4, 3]\n",
    "])\n",
    "d, V = np.linalg.eig(A)\n",
    "d = d[0]\n",
    "v = V[:, 0]\n",
    "\n",
    "print(A @ v)\n",
    "print(d * v)\n",
    "print(metrics.tdist(A @ v, d * v))\n",
    "\n",
    "v2 = -4.56 * v\n",
    "print(A @ v2)\n",
    "print(d * v2)\n",
    "print(metrics.tdist(A @ v2, d * v2))"
   ]
  }
 ],
 "metadata": {
  "kernelspec": {
   "display_name": "Python 3",
   "language": "python",
   "name": "python3"
  },
  "language_info": {
   "codemirror_mode": {
    "name": "ipython",
    "version": 3
   },
   "file_extension": ".py",
   "mimetype": "text/x-python",
   "name": "python",
   "nbconvert_exporter": "python",
   "pygments_lexer": "ipython3",
   "version": "3.6.7"
  }
 },
 "nbformat": 4,
 "nbformat_minor": 2
}
