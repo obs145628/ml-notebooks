{
 "cells": [
  {
   "cell_type": "code",
   "execution_count": 1,
   "metadata": {},
   "outputs": [],
   "source": [
    "import numpy as np\n",
    "import scipy.linalg\n",
    "import torch\n",
    "\n",
    "import metrics\n",
    "import utils\n",
    "\n",
    "np.random.seed(12)"
   ]
  },
  {
   "cell_type": "markdown",
   "metadata": {},
   "source": [
    "$$\\frac{\\partial}{\\partial x} ||x||_2^2 = 2x, x \\in \\mathbb{R}^n$$"
   ]
  },
  {
   "cell_type": "code",
   "execution_count": 2,
   "metadata": {},
   "outputs": [
    {
     "name": "stdout",
     "output_type": "stream",
     "text": [
      "18.733339403660047\n",
      "18.733339403660047\n",
      "0.0\n"
     ]
    }
   ],
   "source": [
    "x = np.random.randn(14)\n",
    "tx = torch.tensor(x, requires_grad=True)\n",
    "y = x@x\n",
    "ty = torch.dot(tx, tx)\n",
    "ty.backward()\n",
    "\n",
    "print(y)\n",
    "print(ty.data.numpy())\n",
    "print(metrics.tdist(y, ty.data.numpy()))"
   ]
  },
  {
   "cell_type": "code",
   "execution_count": 3,
   "metadata": {},
   "outputs": [
    {
     "name": "stdout",
     "output_type": "stream",
     "text": [
      "[ 0.94597166 -1.36285176  0.48487899 -3.40147127  1.50628567 -3.06944268\n",
      "  0.01025416 -0.24045534 -1.61396376  5.74363879 -1.19564584  0.94491399\n",
      "  2.19191224 -2.4303376 ]\n",
      "[ 0.94597166 -1.36285176  0.48487899 -3.40147127  1.50628567 -3.06944268\n",
      "  0.01025416 -0.24045534 -1.61396376  5.74363879 -1.19564584  0.94491399\n",
      "  2.19191224 -2.4303376 ]\n",
      "0.0\n"
     ]
    }
   ],
   "source": [
    "dx = 2 * x\n",
    "dx_sol = tx.grad.data.numpy()\n",
    "print(dx)\n",
    "print(dx_sol)\n",
    "print(metrics.tdist(dx, dx_sol))"
   ]
  },
  {
   "cell_type": "markdown",
   "metadata": {},
   "source": [
    "$$\\frac{\\partial}{\\partial x} ||x||_1 = sign(x), x \\in \\mathbb{R}^n$$"
   ]
  },
  {
   "cell_type": "code",
   "execution_count": 4,
   "metadata": {},
   "outputs": [
    {
     "name": "stdout",
     "output_type": "stream",
     "text": [
      "14.276574175253929\n",
      "14.276574175253929\n",
      "0.0\n"
     ]
    }
   ],
   "source": [
    "x = np.random.randn(14)\n",
    "tx = torch.tensor(x, requires_grad=True)\n",
    "y = np.linalg.norm(x, ord=1)\n",
    "ty = torch.norm(tx, p=1)\n",
    "ty.backward()\n",
    "\n",
    "print(y)\n",
    "print(ty.data.numpy())\n",
    "print(metrics.tdist(y, ty.data.numpy()))"
   ]
  },
  {
   "cell_type": "code",
   "execution_count": 5,
   "metadata": {},
   "outputs": [
    {
     "name": "stdout",
     "output_type": "stream",
     "text": [
      "[ 1. -1.  1. -1. -1.  1.  1.  1.  1.  1. -1. -1. -1. -1.]\n",
      "[ 1. -1.  1. -1. -1.  1.  1.  1.  1.  1. -1. -1. -1. -1.]\n",
      "0.0\n"
     ]
    }
   ],
   "source": [
    "dx = np.sign(x)\n",
    "dx_sol = tx.grad.data.numpy()\n",
    "print(dx)\n",
    "print(dx_sol)\n",
    "print(metrics.tdist(dx, dx_sol))"
   ]
  },
  {
   "cell_type": "markdown",
   "metadata": {},
   "source": [
    "$$\\frac{\\partial}{\\partial x} \\sum_{x=1}^n x_i = \\mathbb{1}, x \\in \\mathbb{R}^n$$"
   ]
  },
  {
   "cell_type": "code",
   "execution_count": 6,
   "metadata": {},
   "outputs": [
    {
     "name": "stdout",
     "output_type": "stream",
     "text": [
      "-6.814946599398262\n",
      "-6.814946599398261\n",
      "8.881784197001252e-16\n"
     ]
    }
   ],
   "source": [
    "x = np.random.randn(14)\n",
    "tx = torch.tensor(x, requires_grad=True)\n",
    "y = np.sum(x)\n",
    "ty = torch.sum(tx)\n",
    "ty.backward()\n",
    "\n",
    "print(y)\n",
    "print(ty.data.numpy())\n",
    "print(metrics.tdist(y, ty.data.numpy()))"
   ]
  },
  {
   "cell_type": "code",
   "execution_count": 7,
   "metadata": {},
   "outputs": [
    {
     "name": "stdout",
     "output_type": "stream",
     "text": [
      "[1. 1. 1. 1. 1. 1. 1. 1. 1. 1. 1. 1. 1. 1.]\n",
      "[1. 1. 1. 1. 1. 1. 1. 1. 1. 1. 1. 1. 1. 1.]\n",
      "0.0\n"
     ]
    }
   ],
   "source": [
    "dx = np.ones((x.shape[0]))\n",
    "dx_sol = tx.grad.data.numpy()\n",
    "print(dx)\n",
    "print(dx_sol)\n",
    "print(metrics.tdist(dx, dx_sol))"
   ]
  },
  {
   "cell_type": "markdown",
   "metadata": {},
   "source": [
    "$$x, y \\in \\mathbb{R}^n$$\n",
    "$$\\frac{\\partial x^Ty}{\\partial x} = y$$\n",
    "$$\\frac{\\partial x^Ty}{\\partial y} = x$$"
   ]
  },
  {
   "cell_type": "code",
   "execution_count": 8,
   "metadata": {},
   "outputs": [
    {
     "name": "stdout",
     "output_type": "stream",
     "text": [
      "4.509509404393396\n",
      "4.509509404393396\n",
      "0.0\n"
     ]
    }
   ],
   "source": [
    "x = np.random.randn(14)\n",
    "y = np.random.randn(14)\n",
    "tx = torch.tensor(x, requires_grad=True)\n",
    "ty = torch.tensor(y, requires_grad=True)\n",
    "z = x @ y\n",
    "tz = torch.dot(tx, ty)\n",
    "tz.backward()\n",
    "\n",
    "print(z)\n",
    "print(tz.data.numpy())\n",
    "print(metrics.tdist(z, tz.data.numpy()))"
   ]
  },
  {
   "cell_type": "code",
   "execution_count": 9,
   "metadata": {},
   "outputs": [
    {
     "name": "stdout",
     "output_type": "stream",
     "text": [
      "[ 0.1597877  -0.71626359  0.05052283 -0.14333741  0.94357539  0.35764423\n",
      " -0.0834492   0.6778061   0.55606037  0.22271946 -1.52898548  1.02921118\n",
      " -1.16625876 -1.00956165]\n",
      "[ 0.1597877  -0.71626359  0.05052283 -0.14333741  0.94357539  0.35764423\n",
      " -0.0834492   0.6778061   0.55606037  0.22271946 -1.52898548  1.02921118\n",
      " -1.16625876 -1.00956165]\n",
      "0.0\n",
      "[ 1.33583134  0.31866529 -0.33759525 -0.58526828 -0.11491994  2.24181779\n",
      " -3.14741652  0.53513589  0.23249044  0.86761195 -1.14821271  2.11434424\n",
      "  1.00094276 -0.051415  ]\n",
      "[ 1.33583134  0.31866529 -0.33759525 -0.58526828 -0.11491994  2.24181779\n",
      " -3.14741652  0.53513589  0.23249044  0.86761195 -1.14821271  2.11434424\n",
      "  1.00094276 -0.051415  ]\n",
      "0.0\n"
     ]
    }
   ],
   "source": [
    "dx = y\n",
    "dx_sol = tx.grad.data.numpy()\n",
    "print(dx)\n",
    "print(dx_sol)\n",
    "print(metrics.tdist(dx, dx_sol))\n",
    "dy = x\n",
    "dy_sol = ty.grad.data.numpy()\n",
    "print(dy)\n",
    "print(dy_sol)\n",
    "print(metrics.tdist(dy, dy_sol))"
   ]
  },
  {
   "cell_type": "markdown",
   "metadata": {},
   "source": [
    "$$z = c * x, \\space x \\in \\mathbb{R^n}, c \\in \\mathbb{R}$$\n",
    "$$\\frac{\\partial E}{\\partial x} = \\frac{\\partial E}{z} * c$$\n",
    "$$\\frac{\\partial E}{\\partial c} = \\frac{\\partial E}{z}^T x$$"
   ]
  },
  {
   "cell_type": "code",
   "execution_count": 24,
   "metadata": {},
   "outputs": [
    {
     "name": "stdout",
     "output_type": "stream",
     "text": [
      "67.76763118602102\n",
      "67.76763118602105\n",
      "2.842170943040401e-14\n"
     ]
    }
   ],
   "source": [
    "x = np.random.randn(14)\n",
    "c = np.array(2.3)\n",
    "z = c * x\n",
    "e = z.T @ z\n",
    "\n",
    "tx = torch.tensor(x, requires_grad=True)\n",
    "tc = torch.tensor(c, requires_grad=True)\n",
    "tz = tc * tx\n",
    "te = torch.dot(tz, tz)\n",
    "te.backward()\n",
    "\n",
    "print(e)\n",
    "print(te.data.numpy())\n",
    "print(metrics.tdist(e, te.data.numpy()))"
   ]
  },
  {
   "cell_type": "markdown",
   "metadata": {},
   "source": [
    "$$z = x^Ty, \\space x, y, z \\in \\mathbb{R}^n$$\n",
    "$$\\frac{\\partial E}{\\partial x} = \\frac{\\partial E}{\\partial z} * y$$\n",
    "$$\\frac{\\partial E}{\\partial y} = \\frac{\\partial E}{\\partial z} * x$$"
   ]
  },
  {
   "cell_type": "code",
   "execution_count": 10,
   "metadata": {},
   "outputs": [
    {
     "name": "stdout",
     "output_type": "stream",
     "text": [
      "8.568358616400001\n",
      "8.5683586164\n",
      "1.7763568394002505e-15\n"
     ]
    }
   ],
   "source": [
    "x = np.random.randn(14)\n",
    "y = np.random.randn(14)\n",
    "z = x @ y\n",
    "e = z**2\n",
    "\n",
    "tx = torch.tensor(x, requires_grad=True)\n",
    "ty = torch.tensor(y, requires_grad=True)\n",
    "tz = torch.dot(tx, ty)\n",
    "te = tz**2\n",
    "te.backward()\n",
    "\n",
    "print(e)\n",
    "print(te.data.numpy())\n",
    "print(metrics.tdist(e, te.data.numpy()))"
   ]
  },
  {
   "cell_type": "code",
   "execution_count": 11,
   "metadata": {},
   "outputs": [
    {
     "name": "stdout",
     "output_type": "stream",
     "text": [
      "[-10.70655976   5.86021515  12.24549612  -0.85801207   2.73018339\n",
      "  -2.08545479   2.32932791   7.3719374    4.03293818  -4.69888098\n",
      "  -1.59467297   5.67390014  -5.1048081    8.46749694]\n",
      "[-10.70655976   5.86021515  12.24549612  -0.85801207   2.73018339\n",
      "  -2.08545479   2.32932791   7.3719374    4.03293818  -4.69888098\n",
      "  -1.59467297   5.67390014  -5.1048081    8.46749694]\n",
      "4.149621000377914e-15\n",
      "[ 0.61627583 -2.99755782 -8.2413335   9.88036798 -8.61312131 -9.58042949\n",
      "  2.70116825  1.17884556  3.34761628  3.53192523  7.84125564  9.89182254\n",
      "  1.16693236 -1.50909139]\n",
      "[ 0.61627583 -2.99755782 -8.2413335   9.88036798 -8.61312131 -9.58042949\n",
      "  2.70116825  1.17884556  3.34761628  3.53192523  7.84125564  9.89182254\n",
      "  1.16693236 -1.50909139]\n",
      "3.789423922623494e-15\n"
     ]
    }
   ],
   "source": [
    "dz = 2 * z\n",
    "dx = dz * y\n",
    "dy = dz * x\n",
    "dx_sol = tx.grad.data.numpy()\n",
    "dy_sol = ty.grad.data.numpy()\n",
    "\n",
    "print(dx)\n",
    "print(dx_sol)\n",
    "print(metrics.tdist(dx, dx_sol))\n",
    "print(dy)\n",
    "print(dy_sol)\n",
    "print(metrics.tdist(dy, dy_sol))"
   ]
  },
  {
   "cell_type": "markdown",
   "metadata": {},
   "source": [
    "$$z = Xy, \\space x \\in \\mathbb{R}^{n*m}, y \\in \\mathbb{R}^m, z \\in \\mathbb{R}^n$$\n",
    "$$\\frac{\\partial E}{\\partial X} = \\frac{\\partial E}{\\partial z} y^T$$\n",
    "$$\\frac{\\partial E}{\\partial y} = X^T \\frac{\\partial E}{\\partial z}$$"
   ]
  },
  {
   "cell_type": "code",
   "execution_count": 12,
   "metadata": {},
   "outputs": [
    {
     "name": "stdout",
     "output_type": "stream",
     "text": [
      "35.72778917689937\n",
      "35.72778917689937\n",
      "0.0\n"
     ]
    }
   ],
   "source": [
    "X = np.random.randn(7, 3)\n",
    "y = np.random.randn(3)\n",
    "z = X @ y\n",
    "e = z @ z\n",
    "\n",
    "tX = torch.tensor(X, requires_grad=True)\n",
    "ty = torch.tensor(y, requires_grad=True)\n",
    "tz = torch.matmul(tX, ty)\n",
    "te = torch.dot(tz, tz)\n",
    "te.backward()\n",
    "\n",
    "print(e)\n",
    "print(te.data.numpy())\n",
    "print(metrics.tdist(e, te.data.numpy()))"
   ]
  },
  {
   "cell_type": "code",
   "execution_count": 13,
   "metadata": {},
   "outputs": [
    {
     "name": "stdout",
     "output_type": "stream",
     "text": [
      "[[  2.57774349  -3.07985357  -2.95656708]\n",
      " [ -3.64440221   4.3542832    4.17998132]\n",
      " [  5.4881387   -6.55715499  -6.29467218]\n",
      " [-12.01621971  14.3568192   13.78211596]\n",
      " [  2.08286196  -2.48857572  -2.38895808]\n",
      " [  4.64291645  -5.54729471  -5.32523659]\n",
      " [ -3.43997384   4.11003491   3.94551028]]\n",
      "[[  2.57774349  -3.07985357  -2.95656708]\n",
      " [ -3.64440221   4.3542832    4.17998132]\n",
      " [  5.4881387   -6.55715499  -6.29467218]\n",
      " [-12.01621971  14.3568192   13.78211596]\n",
      " [  2.08286196  -2.48857572  -2.38895808]\n",
      " [  4.64291645  -5.54729471  -5.32523659]\n",
      " [ -3.43997384   4.11003491   3.94551028]]\n",
      "0.0\n",
      "[-19.29237407  32.67847854  -1.9824407 ]\n",
      "[-19.29237407  32.67847854  -1.9824407 ]\n",
      "2.220446049250313e-16\n"
     ]
    }
   ],
   "source": [
    "dz = 2 * z\n",
    "dX = np.outer(dz, y)\n",
    "dy = X.T @ dz\n",
    "dX_sol = tX.grad.data.numpy()\n",
    "dy_sol = ty.grad.data.numpy()\n",
    "\n",
    "print(dX)\n",
    "print(dX_sol)\n",
    "print(metrics.tdist(dX, dX_sol))\n",
    "print(dy)\n",
    "print(dy_sol)\n",
    "print(metrics.tdist(dy, dy_sol))"
   ]
  },
  {
   "cell_type": "markdown",
   "metadata": {},
   "source": [
    "$$z = y^TX, \\space x \\in \\mathbb{R}^{n*m}, y \\in \\mathbb{R}^n, z \\in \\mathbb{R}^m$$\n",
    "$$\\frac{\\partial E}{\\partial X} = y^T\\frac{\\partial E}{\\partial z}$$\n",
    "$$\\frac{\\partial E}{\\partial y} = X \\frac{\\partial E}{\\partial z}$$"
   ]
  },
  {
   "cell_type": "code",
   "execution_count": 14,
   "metadata": {},
   "outputs": [
    {
     "name": "stdout",
     "output_type": "stream",
     "text": [
      "24.950847697108124\n",
      "24.95084769710813\n",
      "7.105427357601002e-15\n"
     ]
    }
   ],
   "source": [
    "X = np.random.randn(7, 3)\n",
    "y = np.random.randn(7)\n",
    "z = y @ X\n",
    "e = z @ z\n",
    "\n",
    "tX = torch.tensor(X, requires_grad=True)\n",
    "ty = torch.tensor(y, requires_grad=True)\n",
    "tz = torch.matmul(ty, tX)\n",
    "te = torch.dot(tz, tz)\n",
    "te.backward()\n",
    "\n",
    "print(e)\n",
    "print(te.data.numpy())\n",
    "print(metrics.tdist(e, te.data.numpy()))"
   ]
  },
  {
   "cell_type": "code",
   "execution_count": 15,
   "metadata": {
    "scrolled": true
   },
   "outputs": [
    {
     "name": "stdout",
     "output_type": "stream",
     "text": [
      "[[-1.82897406 -1.23052335  7.04643384]\n",
      " [-1.65191552 -1.11139936  6.36428567]\n",
      " [-0.11483612 -0.07726109  0.44242571]\n",
      " [-1.64839277 -1.10902928  6.35071368]\n",
      " [-3.48435695 -2.34425554 13.42407813]\n",
      " [-0.12658277 -0.08516417  0.48768167]\n",
      " [ 2.31632801  1.55841231 -8.92404787]]\n",
      "[[-1.82897406 -1.23052335  7.04643384]\n",
      " [-1.65191552 -1.11139936  6.36428567]\n",
      " [-0.11483612 -0.07726109  0.44242571]\n",
      " [-1.64839277 -1.10902928  6.35071368]\n",
      " [-3.48435695 -2.34425554 13.42407813]\n",
      " [-0.12658277 -0.08516417  0.48768167]\n",
      " [ 2.31632801  1.55841231 -8.92404787]]\n",
      "3.324186464221916e-15\n",
      "[ -6.01701007 -14.49008035 -13.6833829   18.32625461  17.93905303\n",
      "  11.88339873 -28.40229847]\n",
      "[ -6.01701007 -14.49008035 -13.6833829   18.32625461  17.93905303\n",
      "  11.88339873 -28.40229847]\n",
      "9.769962616701378e-15\n"
     ]
    }
   ],
   "source": [
    "dz = 2 * z\n",
    "dX = np.outer(y, dz)\n",
    "dy = X @ dz\n",
    "dX_sol = tX.grad.data.numpy()\n",
    "dy_sol = ty.grad.data.numpy()\n",
    "\n",
    "print(dX)\n",
    "print(dX_sol)\n",
    "print(metrics.tdist(dX, dX_sol))\n",
    "print(dy)\n",
    "print(dy_sol)\n",
    "print(metrics.tdist(dy, dy_sol))"
   ]
  },
  {
   "cell_type": "markdown",
   "metadata": {},
   "source": [
    "$$Z = XY, \\space x \\in \\mathbb{R}^{n*m}, y \\in \\mathbb{R}^{m*p}, z \\in \\mathbb{R}^{n*p}$$\n",
    "$$\\frac{\\partial E}{\\partial X} = \\frac{\\partial E}{\\partial Z}Y^T$$\n",
    "$$\\frac{\\partial E}{\\partial Y} = X^T \\frac{\\partial E}{\\partial Z}$$"
   ]
  },
  {
   "cell_type": "code",
   "execution_count": 16,
   "metadata": {},
   "outputs": [
    {
     "name": "stdout",
     "output_type": "stream",
     "text": [
      "23.66394138865219\n",
      "23.66394138865219\n",
      "0.0\n"
     ]
    }
   ],
   "source": [
    "X = np.random.randn(7, 3)\n",
    "Y = np.random.randn(3, 2)\n",
    "Z = X @ Y\n",
    "Z_flat = Z.reshape(-1)\n",
    "e = Z_flat @ Z_flat\n",
    "\n",
    "tX = torch.tensor(X, requires_grad=True)\n",
    "tY = torch.tensor(Y, requires_grad=True)\n",
    "tZ = torch.matmul(tX, tY)\n",
    "tZ_flat = tZ.view(-1)\n",
    "te = torch.dot(tZ_flat, tZ_flat)\n",
    "te.backward()\n",
    "\n",
    "print(e)\n",
    "print(te.data.numpy())\n",
    "print(metrics.tdist(e, te.data.numpy()))"
   ]
  },
  {
   "cell_type": "code",
   "execution_count": 17,
   "metadata": {},
   "outputs": [
    {
     "name": "stdout",
     "output_type": "stream",
     "text": [
      "[[-1.67908037e-01  4.34103711e-03  5.98357888e-03]\n",
      " [-1.32876315e+00 -2.08871879e+00  3.10861894e+00]\n",
      " [ 1.80099884e+00  2.82651469e+00 -4.20688293e+00]\n",
      " [ 3.18233886e+00  5.05298906e+00 -7.51796586e+00]\n",
      " [ 7.78292877e-02  2.13841577e-02 -3.65087981e-02]\n",
      " [ 1.63071444e+00  2.50222180e+00 -3.72686738e+00]\n",
      " [ 1.60394372e+00  2.74906152e+00 -4.08083467e+00]]\n",
      "[[-1.67908037e-01  4.34103711e-03  5.98357888e-03]\n",
      " [-1.32876315e+00 -2.08871879e+00  3.10861894e+00]\n",
      " [ 1.80099884e+00  2.82651469e+00 -4.20688293e+00]\n",
      " [ 3.18233886e+00  5.05298906e+00 -7.51796586e+00]\n",
      " [ 7.78292877e-02  2.13841577e-02 -3.65087981e-02]\n",
      " [ 1.63071444e+00  2.50222180e+00 -3.72686738e+00]\n",
      " [ 1.60394372e+00  2.74906152e+00 -4.08083467e+00]]\n",
      "1.5899003276961254e-17\n",
      "[[ 10.00121984  -4.9915834 ]\n",
      " [ 10.19733761  -1.88300499]\n",
      " [-30.1030253    6.29625184]]\n",
      "[[ 10.00121984  -4.9915834 ]\n",
      " [ 10.19733761  -1.88300499]\n",
      " [-30.1030253    6.29625184]]\n",
      "3.6687789788066426e-15\n"
     ]
    }
   ],
   "source": [
    "dZ_flat = 2 * Z_flat\n",
    "dZ = dZ_flat.reshape(Z.shape[0], Z.shape[1])\n",
    "dX = dZ @ Y.T\n",
    "dY = X.T @ dZ\n",
    "dX_sol = tX.grad.data.numpy()\n",
    "dY_sol = tY.grad.data.numpy()\n",
    "\n",
    "print(dX)\n",
    "print(dX_sol)\n",
    "print(metrics.tdist(dX, dX_sol))\n",
    "print(dY)\n",
    "print(dY_sol)\n",
    "print(metrics.tdist(dY, dY_sol))"
   ]
  },
  {
   "cell_type": "markdown",
   "metadata": {},
   "source": [
    "$$Z = X^TX, \\space X \\in \\mathbb{R}^{n*m}, Z \\in \\mathbb{R}^{m*m}$$\n",
    "$$\\frac{\\partial E}{\\partial X} = X(\\frac{\\partial E}{\\partial Z} +    \\frac{\\partial E}{\\partial Z}^T)$$"
   ]
  },
  {
   "cell_type": "code",
   "execution_count": 18,
   "metadata": {},
   "outputs": [
    {
     "name": "stdout",
     "output_type": "stream",
     "text": [
      "97.45718379559193\n",
      "97.45718379559193\n",
      "0.0\n"
     ]
    }
   ],
   "source": [
    "X = np.random.randn(5, 3)\n",
    "Z = X.T @ X\n",
    "Z_flat = Z.reshape(-1)\n",
    "e = Z_flat @ Z_flat\n",
    "\n",
    "tX = torch.tensor(X, requires_grad=True)\n",
    "tZ = torch.matmul(torch.transpose(tX, 1, 0), tX)\n",
    "tZ_flat = tZ.view(-1)\n",
    "te = torch.dot(tZ_flat, tZ_flat)\n",
    "te.backward()\n",
    "\n",
    "print(e)\n",
    "print(te.data.numpy())\n",
    "print(metrics.tdist(e, te.data.numpy()))"
   ]
  },
  {
   "cell_type": "code",
   "execution_count": 19,
   "metadata": {},
   "outputs": [
    {
     "name": "stdout",
     "output_type": "stream",
     "text": [
      "[[ -0.76547476 -37.81435271 -44.58042207]\n",
      " [-10.58015363   3.06873581  29.72179335]\n",
      " [ -2.62345198 -26.22934351 -20.99112803]\n",
      " [ 13.34561034  15.41588968 -23.48587833]\n",
      " [ 13.10827276 -23.42292114 -70.3596491 ]]\n",
      "[[ -0.76547476 -37.81435271 -44.58042207]\n",
      " [-10.58015363   3.06873581  29.72179335]\n",
      " [ -2.62345198 -26.22934351 -20.99112803]\n",
      " [ 13.34561034  15.41588968 -23.48587833]\n",
      " [ 13.10827276 -23.42292114 -70.3596491 ]]\n",
      "5.687116766346677e-15\n"
     ]
    }
   ],
   "source": [
    "dZ_flat = 2 * Z_flat\n",
    "dZ = dZ_flat.reshape(Z.shape[0], Z.shape[1])\n",
    "dX = X @ (dZ + dZ.T)\n",
    "dX_sol = tX.grad.data.numpy()\n",
    "\n",
    "print(dX)\n",
    "print(dX_sol)\n",
    "print(metrics.tdist(dX, dX_sol))"
   ]
  },
  {
   "cell_type": "markdown",
   "metadata": {},
   "source": [
    "$Z_I = f(X_I)$, with $Z$ and $X$ tensors of same size, $f: \\mathbb{R} \\rightarrow \\mathbb{R}$\n",
    "$$\\frac{\\partial E}{\\partial X_I} = \\frac{\\partial E}{\\partial Z_I} *    f'(X_I)$$"
   ]
  },
  {
   "cell_type": "code",
   "execution_count": 20,
   "metadata": {},
   "outputs": [
    {
     "name": "stdout",
     "output_type": "stream",
     "text": [
      "6.947981330191818\n",
      "6.947981330191819\n",
      "8.881784197001252e-16\n"
     ]
    }
   ],
   "source": [
    "X = np.random.randn(5, 3)\n",
    "Z = np.cos(X)\n",
    "Z_flat = Z.reshape(-1)\n",
    "e = Z_flat @ Z_flat\n",
    "\n",
    "tX = torch.tensor(X, requires_grad=True)\n",
    "tZ = torch.cos(tX)\n",
    "tZ_flat = tZ.view(-1)\n",
    "te = torch.dot(tZ_flat, tZ_flat)\n",
    "te.backward()\n",
    "\n",
    "print(e)\n",
    "print(te.data.numpy())\n",
    "print(metrics.tdist(e, te.data.numpy()))"
   ]
  },
  {
   "cell_type": "code",
   "execution_count": 21,
   "metadata": {},
   "outputs": [
    {
     "name": "stdout",
     "output_type": "stream",
     "text": [
      "[[ 0.52458293  0.90545114  0.8600759 ]\n",
      " [ 0.71158856  0.93469161 -0.67042823]\n",
      " [ 0.94031985 -0.04898118 -0.84950448]\n",
      " [ 0.94472048 -0.99994179  0.9952005 ]\n",
      " [-0.49918049  0.61635734  0.67141586]]\n",
      "[[ 0.52458293  0.90545114  0.8600759 ]\n",
      " [ 0.71158856  0.93469161 -0.67042823]\n",
      " [ 0.94031985 -0.04898118 -0.84950448]\n",
      " [ 0.94472048 -0.99994179  0.9952005 ]\n",
      " [-0.49918049  0.61635734  0.67141586]]\n",
      "0.0\n"
     ]
    }
   ],
   "source": [
    "dZ_flat = 2 * Z_flat\n",
    "dZ = dZ_flat.reshape(Z.shape[0], Z.shape[1])\n",
    "dX = dZ * (-np.sin(X))\n",
    "dX_sol = tX.grad.data.numpy()\n",
    "\n",
    "print(dX)\n",
    "print(dX_sol)\n",
    "print(metrics.tdist(dX, dX_sol))"
   ]
  },
  {
   "cell_type": "markdown",
   "metadata": {},
   "source": [
    "$Z_I = f(X_I, Y_I)$, with $Z$, $X$and $Y$ tensors of same size, $f: \\mathbb{R}*\\mathbb{R} \\rightarrow \\mathbb{R}$\n",
    "$$\\frac{\\partial E}{\\partial X_I} = \\frac{\\partial E}{\\partial Z_I} *    \\frac{\\partial f(X_I, Y_I)}{\\partial X_I}$$\n",
    "$$\\frac{\\partial E}{\\partial Y_I} = \\frac{\\partial E}{\\partial Z_I} *    \\frac{\\partial f(X_I, Y_I)}{\\partial Y_I}$$"
   ]
  },
  {
   "cell_type": "code",
   "execution_count": 22,
   "metadata": {},
   "outputs": [
    {
     "name": "stdout",
     "output_type": "stream",
     "text": [
      "91.6018066558635\n",
      "91.6018066558635\n",
      "0.0\n"
     ]
    }
   ],
   "source": [
    "X = np.random.rand(7, 3) + 0.1\n",
    "Y = np.random.randn(7, 3)\n",
    "Z = np.power(X, Y)\n",
    "Z_flat = Z.reshape(-1)\n",
    "e = Z_flat @ Z_flat\n",
    "\n",
    "\n",
    "tX = torch.tensor(X, requires_grad=True)\n",
    "tY = torch.tensor(Y, requires_grad=True)\n",
    "tZ = torch.pow(tX, tY)\n",
    "tZ_flat = tZ.view(-1)\n",
    "te = torch.dot(tZ_flat, tZ_flat)\n",
    "te.backward()\n",
    "\n",
    "print(e)\n",
    "print(te.data.numpy())\n",
    "print(metrics.tdist(e, te.data.numpy()))"
   ]
  },
  {
   "cell_type": "code",
   "execution_count": 23,
   "metadata": {},
   "outputs": [
    {
     "name": "stdout",
     "output_type": "stream",
     "text": [
      "[[ 1.07805226e+00  1.12605145e+00  1.36416782e+00]\n",
      " [-2.17430585e+00  5.42316487e-01  2.05636755e-01]\n",
      " [-2.67306770e+00 -3.83905115e+00 -6.33235922e+01]\n",
      " [ 4.83811484e-01 -1.02425156e+01  3.46629852e-01]\n",
      " [ 1.12635928e+00  1.90471797e-01  1.68023629e-01]\n",
      " [-9.96853538e+02  1.02566643e+00 -2.69395320e+01]\n",
      " [-2.30435242e+00  8.59002427e-01  8.30668719e-03]]\n",
      "[[ 1.07805226e+00  1.12605145e+00  1.36416782e+00]\n",
      " [-2.17430585e+00  5.42316487e-01  2.05636755e-01]\n",
      " [-2.67306770e+00 -3.83905115e+00 -6.33235922e+01]\n",
      " [ 4.83811484e-01 -1.02425156e+01  3.46629852e-01]\n",
      " [ 1.12635928e+00  1.90471797e-01  1.68023629e-01]\n",
      " [-9.96853538e+02  1.02566643e+00 -2.69395320e+01]\n",
      " [-2.30435242e+00  8.59002427e-01  8.30668719e-03]]\n",
      "0.0\n",
      "[[-5.26064676e-01 -3.75503606e-01 -1.57442010e-01]\n",
      " [-9.94512074e-01 -1.95440239e-01  1.08546127e-02]\n",
      " [-2.26391748e-02 -5.08151725e+00 -1.39801941e+01]\n",
      " [ 1.52674918e-02 -3.59949573e+00 -1.10110269e+00]\n",
      " [-3.30147353e-01 -4.35170993e-02 -7.34000963e-02]\n",
      " [-2.61547898e+02 -6.46749994e-01 -8.24637535e+00]\n",
      " [-3.49886529e+00 -6.73347761e-01 -1.01824223e-03]]\n",
      "[[-5.26064676e-01 -3.75503606e-01 -1.57442010e-01]\n",
      " [-9.94512074e-01 -1.95440239e-01  1.08546127e-02]\n",
      " [-2.26391748e-02 -5.08151725e+00 -1.39801941e+01]\n",
      " [ 1.52674918e-02 -3.59949573e+00 -1.10110269e+00]\n",
      " [-3.30147353e-01 -4.35170993e-02 -7.34000963e-02]\n",
      " [-2.61547898e+02 -6.46749994e-01 -8.24637535e+00]\n",
      " [-3.49886529e+00 -6.73347761e-01 -1.01824223e-03]]\n",
      "3.582190536910176e-15\n"
     ]
    }
   ],
   "source": [
    "dZ_flat = 2 * Z_flat\n",
    "dZ = dZ_flat.reshape(Z.shape[0], Z.shape[1])\n",
    "dX = dZ * Y * np.power(X, Y-1) \n",
    "dY = dZ * np.log(X) * np.power(X, Y)\n",
    "dX_sol = tX.grad.data.numpy()\n",
    "dY_sol = tY.grad.data.numpy()\n",
    "\n",
    "print(dX)\n",
    "print(dX_sol)\n",
    "print(metrics.tdist(dX, dX_sol))\n",
    "print(dY)\n",
    "print(dY_sol)\n",
    "print(metrics.tdist(dY, dY_sol))"
   ]
  },
  {
   "cell_type": "markdown",
   "metadata": {},
   "source": [
    "Every tensor sum of an axis can be transformed into a 3D-tensor sum on axis 1, using only reshape.  \n",
    "\n",
    "$$X \\in \\mathbb{R}^{m * n * p}, Y \\in \\mathbb{R}^{m * p}$$\n",
    "$y$ is the sum of $X$ on axis $2$.\n",
    "$$Y_{ik} = \\sum_{j=i}^n X_{ijk}$$\n",
    "$$\\frac{\\partial E}{\\partial X_{ijk}} = \\frac{\\partial E}{\\partial Y_{ik}}$$"
   ]
  },
  {
   "cell_type": "code",
   "execution_count": 65,
   "metadata": {},
   "outputs": [
    {
     "name": "stdout",
     "output_type": "stream",
     "text": [
      "(4, 3, 7)\n",
      "(4, 3, 7)\n",
      "0.0\n",
      "(2, 3, 7)\n",
      "(2, 3, 7)\n",
      "0.0\n",
      "(2, 4, 7)\n",
      "(2, 4, 7)\n",
      "0.0\n",
      "(2, 4, 3)\n",
      "(2, 4, 3)\n",
      "0.0\n"
     ]
    }
   ],
   "source": [
    "def prod(x):\n",
    "    res = 1\n",
    "    for v in x: res *= v\n",
    "    return res\n",
    "\n",
    "def sum_axis(X, axis):\n",
    "    shape3 = (prod(X.shape[:axis]), X.shape[axis], prod(X.shape[axis+1:]))\n",
    "    final_shape = X.shape[:axis] + X.shape[axis+1:]\n",
    "    return np.sum(X.reshape(shape3), axis=1).reshape(final_shape)\n",
    "\n",
    "X = np.random.randn(2, 4, 3, 7)\n",
    "\n",
    "s = [sum_axis(X, i) for i in range(4)]\n",
    "\n",
    "tX = torch.tensor(X, requires_grad = True)\n",
    "s_sol = [torch.sum(tX, i) for i in range(4)]\n",
    "\n",
    "for i in range(4):\n",
    "    print(s[i].shape)\n",
    "    print(s_sol[i].data.numpy().shape)\n",
    "    print(metrics.tdist(s[i], s_sol[i].data.numpy()))"
   ]
  },
  {
   "cell_type": "code",
   "execution_count": 76,
   "metadata": {},
   "outputs": [
    {
     "name": "stdout",
     "output_type": "stream",
     "text": [
      "[[[1. 2. 3.]\n",
      "  [1. 2. 3.]]\n",
      "\n",
      " [[4. 5. 6.]\n",
      "  [4. 5. 6.]]]\n"
     ]
    }
   ],
   "source": [
    "def my_expand_dims3(x, size):\n",
    "    \n",
    "    y = np.empty((x.shape[0], size, x.shape[1]))\n",
    "    for i in range(x.shape[0]):\n",
    "        for j in range(size):\n",
    "            for k in range(x.shape[1]):\n",
    "                y[i, j, k] = x[i, k]\n",
    "    return y\n",
    "    \n",
    "\n",
    "def dsum_axis(X, axis, dout):\n",
    "    dout = dout.reshape((prod(X.shape[:axis]), prod(X.shape[axis+1:])))\n",
    "    return my_expand_dims3(dout, X.shape[axis]).reshape(X.shape)\n",
    "    \n",
    "a = np.array([[1, 2, 3], [4, 5, 6]])\n",
    "a2 = my_expand_dims3(a, 2)\n",
    "print(a2)"
   ]
  },
  {
   "cell_type": "code",
   "execution_count": 95,
   "metadata": {},
   "outputs": [
    {
     "name": "stdout",
     "output_type": "stream",
     "text": [
      "(2, 4, 3, 7)\n",
      "(2, 4, 3, 7)\n",
      "0.0\n",
      "(2, 4, 3, 7)\n",
      "(2, 4, 3, 7)\n",
      "0.0\n",
      "(2, 4, 3, 7)\n",
      "(2, 4, 3, 7)\n",
      "0.0\n",
      "(2, 4, 3, 7)\n",
      "(2, 4, 3, 7)\n",
      "0.0\n"
     ]
    }
   ],
   "source": [
    "for i in range(4):\n",
    "    \n",
    "    ds = 2 * s[i]\n",
    "    dX = dsum_axis(X, i, ds)\n",
    "    \n",
    "    si_flat = s_sol[i].view(-1)\n",
    "    tz = torch.dot(si_flat, si_flat)\n",
    "    tX.grad.data.zero_()\n",
    "    tz.backward()\n",
    "    dX_sol = tX.grad.data.numpy()\n",
    "    \n",
    "    print(dX.shape)\n",
    "    print(dX_sol.shape)\n",
    "    print(metrics.tdist(dX, dX_sol))\n",
    "    "
   ]
  },
  {
   "cell_type": "markdown",
   "metadata": {},
   "source": [
    "## Derivatives sheet"
   ]
  },
  {
   "cell_type": "markdown",
   "metadata": {},
   "source": [
    "$$(c)' = 0, \\space c \\in \\mathbb{R}$$\n",
    "$$(x)' = 1, \\space x \\in \\mathbb{R}$$\n",
    "$$(cx)' = c, \\space c, x \\in \\mathbb{R}$$\n",
    "$$(e^x)' = e^x, \\space x \\in \\mathbb{R}$$\n",
    "$$(ln(x))' = \\frac{1}{x}, \\space x \\in \\mathbb{R}$$\n",
    "$$(\\frac{1}{x})' = - \\frac{1}{x^2}, \\space x \\in \\mathbb{R}$$"
   ]
  },
  {
   "cell_type": "markdown",
   "metadata": {},
   "source": [
    "$$(cos(x))' = -sin(x), \\space x \\in \\mathbb{R}$$\n",
    "$$(sin(x))' = cos(x), \\space x \\in \\mathbb{R}$$\n",
    "$$(cosh(x))' = -sinh(x), \\space x \\in \\mathbb{R}$$\n",
    "$$(sinh(x))' = cos(x), \\space x \\in \\mathbb{R}$$\n",
    "$$(tanh(x))' = 1 - tanh(x)^2, \\space x \\in \\mathbb{R}$$"
   ]
  },
  {
   "cell_type": "markdown",
   "metadata": {},
   "source": [
    "$$(\\sigma(x))' = \\sigma(x)(1 - \\sigma(x)), \\space x \\in \\mathbb{R}$$"
   ]
  },
  {
   "cell_type": "markdown",
   "metadata": {},
   "source": [
    "$$\\frac{\\partial}{\\partial x} x^y = y*x^{y-1}, \\space x, y \\in \\mathbb{R}$$\n",
    "$$\\frac{\\partial}{\\partial y} x^y = ln(x)*x^{y}, \\space x, y \\in \\mathbb{R}$$"
   ]
  },
  {
   "cell_type": "markdown",
   "metadata": {},
   "source": [
    "$$\\frac{\\partial}{\\partial x} ||x||_2^2 = 2x, x \\in \\mathbb{R}^n$$"
   ]
  },
  {
   "cell_type": "markdown",
   "metadata": {},
   "source": [
    "$$\\frac{\\partial}{\\partial x} \\sum_{x=1}^n x_i = \\mathbb{1}, x \\in \\mathbb{R}^n$$"
   ]
  },
  {
   "cell_type": "markdown",
   "metadata": {},
   "source": [
    "$$z = ||x||_1, \\space x \\in \\mathbb{R^n}$$\n",
    "$$\\frac{\\partial E}{\\partial x} = \\frac{\\partial E}{z} * sgn(x)$$"
   ]
  },
  {
   "cell_type": "markdown",
   "metadata": {},
   "source": [
    "$$z = c + x, \\space x, z \\in \\mathbb{R^n}, c \\in \\mathbb{R}$$\n",
    "$$\\frac{\\partial E}{\\partial x} = \\frac{\\partial E}{z}$$\n",
    "$$\\frac{\\partial E}{\\partial c} = \\sum_{j=1}^n \\frac{\\partial E}{\\partial z_i}$$"
   ]
  },
  {
   "cell_type": "markdown",
   "metadata": {},
   "source": [
    "$$z = c * x, \\space x \\in \\mathbb{R^n}, c \\in \\mathbb{R}$$\n",
    "$$\\frac{\\partial E}{\\partial x} = \\frac{\\partial E}{\\partial z} * c$$\n",
    "$$\\frac{\\partial E}{\\partial c} = \\frac{\\partial E}{\\partial z}^T x$$"
   ]
  },
  {
   "cell_type": "markdown",
   "metadata": {},
   "source": [
    "$$z = c / x, \\space x \\in \\mathbb{R^n}, c \\in \\mathbb{R}$$\n",
    "$$\\frac{\\partial E}{\\partial x} = -c * \\frac{\\partial E}{\\partial z} / (x*x)$$\n",
    "$$\\frac{\\partial E}{\\partial c} = \\frac{\\partial E}{\\partial z}^T \\frac{1}{x}$$"
   ]
  },
  {
   "cell_type": "markdown",
   "metadata": {},
   "source": [
    "$$z = \\sum_{i=1}^n x_i, \\space x \\in \\mathbb{R^n}, z \\in \\mathbb{R}$$\n",
    "$$\\frac{\\partial E}{\\partial x_i} = \\frac{\\partial E}{z}$$"
   ]
  },
  {
   "cell_type": "markdown",
   "metadata": {},
   "source": [
    "$$x, y \\in \\mathbb{R}^n$$\n",
    "$$\\frac{\\partial x^Ty}{\\partial x} = y$$\n",
    "$$\\frac{\\partial x^Ty}{\\partial y} = x$$"
   ]
  },
  {
   "cell_type": "markdown",
   "metadata": {},
   "source": [
    "$$z = x^Ty, \\space x, y, z \\in \\mathbb{R}^n$$\n",
    "$$\\frac{\\partial E}{\\partial x} = \\frac{\\partial E}{\\partial z} * y$$\n",
    "$$\\frac{\\partial E}{\\partial y} = \\frac{\\partial E}{\\partial z} * x$$"
   ]
  },
  {
   "cell_type": "markdown",
   "metadata": {},
   "source": [
    "$$z = Xy, \\space x \\in \\mathbb{R}^{n*m}, y \\in \\mathbb{R}^m, z \\in \\mathbb{R}^n$$\n",
    "$$\\frac{\\partial E}{\\partial X} = \\frac{\\partial E}{\\partial z} y^T$$\n",
    "$$\\frac{\\partial E}{\\partial y} = X^T \\frac{\\partial E}{\\partial z}$$"
   ]
  },
  {
   "cell_type": "markdown",
   "metadata": {},
   "source": [
    "$$z = y^TX, \\space x \\in \\mathbb{R}^{n*m}, y \\in \\mathbb{R}^n, z \\in \\mathbb{R}^m$$\n",
    "$$\\frac{\\partial E}{\\partial X} = y^T\\frac{\\partial E}{\\partial z}$$\n",
    "$$\\frac{\\partial E}{\\partial y} = X \\frac{\\partial E}{\\partial z}$$"
   ]
  },
  {
   "cell_type": "markdown",
   "metadata": {},
   "source": [
    "$$Z = XY, \\space x \\in \\mathbb{R}^{n*m}, y \\in \\mathbb{R}^{m*p}, z \\in \\mathbb{R}^{n*p}$$\n",
    "$$\\frac{\\partial E}{\\partial X} = \\frac{\\partial E}{\\partial Z}Y^T$$\n",
    "$$\\frac{\\partial E}{\\partial Y} = X^T \\frac{\\partial E}{\\partial Z}$$"
   ]
  },
  {
   "cell_type": "markdown",
   "metadata": {},
   "source": [
    "$$Z = X^TX, \\space X \\in \\mathbb{R}^{n*m}, Z \\in \\mathbb{R}^{m*m}$$\n",
    "$$\\frac{\\partial E}{\\partial X} = X(\\frac{\\partial E}{\\partial Z} +    \\frac{\\partial E}{\\partial Z}^T)$$"
   ]
  },
  {
   "cell_type": "markdown",
   "metadata": {},
   "source": [
    "$Z_I = f(X_I)$, with $Z$ and $X$ tensors of same size, $f: \\mathbb{R} \\rightarrow \\mathbb{R}$\n",
    "$$\\frac{\\partial E}{\\partial X_I} = \\frac{\\partial E}{\\partial Z_I} *    f'(X_I)$$"
   ]
  },
  {
   "cell_type": "markdown",
   "metadata": {},
   "source": [
    "$Z_I = f(X_I, Y_I)$, with $Z$, $X$and $Y$ tensors of same size, $f: \\mathbb{R}*\\mathbb{R} \\rightarrow \\mathbb{R}$\n",
    "$$\\frac{\\partial E}{\\partial X_I} = \\frac{\\partial E}{\\partial Z_I} *    \\frac{\\partial f(X_I, Y_I)}{\\partial X_I}$$\n",
    "$$\\frac{\\partial E}{\\partial Y_I} = \\frac{\\partial E}{\\partial Z_I} *    \\frac{\\partial f(X_I, Y_I)}{\\partial Y_I}$$"
   ]
  },
  {
   "cell_type": "markdown",
   "metadata": {},
   "source": [
    "$x \\in \\mathbb{R}^n$, and $S_i$ = softmax$(x)_i$\n",
    "$$\\frac{\\partial S_i}{x_j} = S_i(1 - S_j) \\space (i = j)$$\n",
    "$$\\frac{\\partial S_i}{x_j} = -S_iS_j \\space (i \\neq j)$$"
   ]
  }
 ],
 "metadata": {
  "kernelspec": {
   "display_name": "Python 3",
   "language": "python",
   "name": "python3"
  },
  "language_info": {
   "codemirror_mode": {
    "name": "ipython",
    "version": 3
   },
   "file_extension": ".py",
   "mimetype": "text/x-python",
   "name": "python",
   "nbconvert_exporter": "python",
   "pygments_lexer": "ipython3",
   "version": "3.6.6"
  }
 },
 "nbformat": 4,
 "nbformat_minor": 2
}
