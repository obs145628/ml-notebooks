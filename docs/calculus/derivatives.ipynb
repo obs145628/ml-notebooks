{
 "cells": [
  {
   "cell_type": "code",
   "execution_count": 1,
   "metadata": {},
   "outputs": [],
   "source": [
    "import sys\n",
    "sys.path.append('..')\n",
    "\n",
    "import numpy as np\n",
    "import scipy.linalg\n",
    "import torch\n",
    "\n",
    "import metrics\n",
    "import utils\n",
    "\n",
    "np.random.seed(12)"
   ]
  },
  {
   "cell_type": "markdown",
   "metadata": {},
   "source": [
    "$$\\frac{\\partial}{\\partial x} ||x||_2^2 = 2x, x \\in \\mathbb{R}^n$$"
   ]
  },
  {
   "cell_type": "code",
   "execution_count": 2,
   "metadata": {},
   "outputs": [
    {
     "name": "stdout",
     "output_type": "stream",
     "text": [
      "18.733339403660047\n",
      "18.733339403660047\n",
      "0.0\n"
     ]
    }
   ],
   "source": [
    "x = np.random.randn(14)\n",
    "tx = torch.tensor(x, requires_grad=True)\n",
    "y = x@x\n",
    "ty = torch.dot(tx, tx)\n",
    "ty.backward()\n",
    "\n",
    "print(y)\n",
    "print(ty.data.numpy())\n",
    "print(metrics.tdist(y, ty.data.numpy()))"
   ]
  },
  {
   "cell_type": "code",
   "execution_count": 3,
   "metadata": {},
   "outputs": [
    {
     "name": "stdout",
     "output_type": "stream",
     "text": [
      "[ 0.94597166 -1.36285176  0.48487899 -3.40147127  1.50628567 -3.06944268\n",
      "  0.01025416 -0.24045534 -1.61396376  5.74363879 -1.19564584  0.94491399\n",
      "  2.19191224 -2.4303376 ]\n",
      "[ 0.94597166 -1.36285176  0.48487899 -3.40147127  1.50628567 -3.06944268\n",
      "  0.01025416 -0.24045534 -1.61396376  5.74363879 -1.19564584  0.94491399\n",
      "  2.19191224 -2.4303376 ]\n",
      "0.0\n"
     ]
    }
   ],
   "source": [
    "dx = 2 * x\n",
    "dx_sol = tx.grad.data.numpy()\n",
    "print(dx)\n",
    "print(dx_sol)\n",
    "print(metrics.tdist(dx, dx_sol))"
   ]
  },
  {
   "cell_type": "markdown",
   "metadata": {},
   "source": [
    "$$\\frac{\\partial}{\\partial x} ||x||_1 = sign(x), x \\in \\mathbb{R}^n$$"
   ]
  },
  {
   "cell_type": "code",
   "execution_count": 4,
   "metadata": {},
   "outputs": [
    {
     "name": "stdout",
     "output_type": "stream",
     "text": [
      "14.276574175253929\n",
      "14.276574175253929\n",
      "0.0\n"
     ]
    }
   ],
   "source": [
    "x = np.random.randn(14)\n",
    "tx = torch.tensor(x, requires_grad=True)\n",
    "y = np.linalg.norm(x, ord=1)\n",
    "ty = torch.norm(tx, p=1)\n",
    "ty.backward()\n",
    "\n",
    "print(y)\n",
    "print(ty.data.numpy())\n",
    "print(metrics.tdist(y, ty.data.numpy()))"
   ]
  },
  {
   "cell_type": "code",
   "execution_count": 5,
   "metadata": {},
   "outputs": [
    {
     "name": "stdout",
     "output_type": "stream",
     "text": [
      "[ 1. -1.  1. -1. -1.  1.  1.  1.  1.  1. -1. -1. -1. -1.]\n",
      "[ 1. -1.  1. -1. -1.  1.  1.  1.  1.  1. -1. -1. -1. -1.]\n",
      "0.0\n"
     ]
    }
   ],
   "source": [
    "dx = np.sign(x)\n",
    "dx_sol = tx.grad.data.numpy()\n",
    "print(dx)\n",
    "print(dx_sol)\n",
    "print(metrics.tdist(dx, dx_sol))"
   ]
  },
  {
   "cell_type": "markdown",
   "metadata": {},
   "source": [
    "$$\\frac{\\partial}{\\partial x} \\sum_{x=1}^n x_i = \\mathbb{1}, x \\in \\mathbb{R}^n$$"
   ]
  },
  {
   "cell_type": "code",
   "execution_count": 6,
   "metadata": {},
   "outputs": [
    {
     "name": "stdout",
     "output_type": "stream",
     "text": [
      "-6.814946599398262\n",
      "-6.814946599398261\n",
      "8.881784197001252e-16\n"
     ]
    }
   ],
   "source": [
    "x = np.random.randn(14)\n",
    "tx = torch.tensor(x, requires_grad=True)\n",
    "y = np.sum(x)\n",
    "ty = torch.sum(tx)\n",
    "ty.backward()\n",
    "\n",
    "print(y)\n",
    "print(ty.data.numpy())\n",
    "print(metrics.tdist(y, ty.data.numpy()))"
   ]
  },
  {
   "cell_type": "code",
   "execution_count": 7,
   "metadata": {},
   "outputs": [
    {
     "name": "stdout",
     "output_type": "stream",
     "text": [
      "[1. 1. 1. 1. 1. 1. 1. 1. 1. 1. 1. 1. 1. 1.]\n",
      "[1. 1. 1. 1. 1. 1. 1. 1. 1. 1. 1. 1. 1. 1.]\n",
      "0.0\n"
     ]
    }
   ],
   "source": [
    "dx = np.ones((x.shape[0]))\n",
    "dx_sol = tx.grad.data.numpy()\n",
    "print(dx)\n",
    "print(dx_sol)\n",
    "print(metrics.tdist(dx, dx_sol))"
   ]
  },
  {
   "cell_type": "markdown",
   "metadata": {},
   "source": [
    "$$x, y \\in \\mathbb{R}^n$$\n",
    "$$\\frac{\\partial x^Ty}{\\partial x} = y$$\n",
    "$$\\frac{\\partial x^Ty}{\\partial y} = x$$"
   ]
  },
  {
   "cell_type": "code",
   "execution_count": 8,
   "metadata": {},
   "outputs": [
    {
     "name": "stdout",
     "output_type": "stream",
     "text": [
      "4.509509404393396\n",
      "4.509509404393396\n",
      "0.0\n"
     ]
    }
   ],
   "source": [
    "x = np.random.randn(14)\n",
    "y = np.random.randn(14)\n",
    "tx = torch.tensor(x, requires_grad=True)\n",
    "ty = torch.tensor(y, requires_grad=True)\n",
    "z = x @ y\n",
    "tz = torch.dot(tx, ty)\n",
    "tz.backward()\n",
    "\n",
    "print(z)\n",
    "print(tz.data.numpy())\n",
    "print(metrics.tdist(z, tz.data.numpy()))"
   ]
  },
  {
   "cell_type": "code",
   "execution_count": 9,
   "metadata": {},
   "outputs": [
    {
     "name": "stdout",
     "output_type": "stream",
     "text": [
      "[ 0.1597877  -0.71626359  0.05052283 -0.14333741  0.94357539  0.35764423\n",
      " -0.0834492   0.6778061   0.55606037  0.22271946 -1.52898548  1.02921118\n",
      " -1.16625876 -1.00956165]\n",
      "[ 0.1597877  -0.71626359  0.05052283 -0.14333741  0.94357539  0.35764423\n",
      " -0.0834492   0.6778061   0.55606037  0.22271946 -1.52898548  1.02921118\n",
      " -1.16625876 -1.00956165]\n",
      "0.0\n",
      "[ 1.33583134  0.31866529 -0.33759525 -0.58526828 -0.11491994  2.24181779\n",
      " -3.14741652  0.53513589  0.23249044  0.86761195 -1.14821271  2.11434424\n",
      "  1.00094276 -0.051415  ]\n",
      "[ 1.33583134  0.31866529 -0.33759525 -0.58526828 -0.11491994  2.24181779\n",
      " -3.14741652  0.53513589  0.23249044  0.86761195 -1.14821271  2.11434424\n",
      "  1.00094276 -0.051415  ]\n",
      "0.0\n"
     ]
    }
   ],
   "source": [
    "dx = y\n",
    "dx_sol = tx.grad.data.numpy()\n",
    "print(dx)\n",
    "print(dx_sol)\n",
    "print(metrics.tdist(dx, dx_sol))\n",
    "dy = x\n",
    "dy_sol = ty.grad.data.numpy()\n",
    "print(dy)\n",
    "print(dy_sol)\n",
    "print(metrics.tdist(dy, dy_sol))"
   ]
  },
  {
   "cell_type": "markdown",
   "metadata": {},
   "source": [
    "$$z = c * x, \\space x \\in \\mathbb{R^n}, c \\in \\mathbb{R}$$\n",
    "$$\\frac{\\partial E}{\\partial x} = \\frac{\\partial E}{z} * c$$\n",
    "$$\\frac{\\partial E}{\\partial c} = \\frac{\\partial E}{z}^T x$$"
   ]
  },
  {
   "cell_type": "code",
   "execution_count": 10,
   "metadata": {},
   "outputs": [
    {
     "name": "stdout",
     "output_type": "stream",
     "text": [
      "82.76337000156782\n",
      "82.76337000156784\n",
      "1.4210854715202004e-14\n"
     ]
    }
   ],
   "source": [
    "x = np.random.randn(14)\n",
    "c = np.array(2.3)\n",
    "z = c * x\n",
    "e = z.T @ z\n",
    "\n",
    "tx = torch.tensor(x, requires_grad=True)\n",
    "tc = torch.tensor(c, requires_grad=True)\n",
    "tz = tc * tx\n",
    "te = torch.dot(tz, tz)\n",
    "te.backward()\n",
    "\n",
    "print(e)\n",
    "print(te.data.numpy())\n",
    "print(metrics.tdist(e, te.data.numpy()))"
   ]
  },
  {
   "cell_type": "markdown",
   "metadata": {},
   "source": [
    "$$z = x^Ty, \\space x, y, z \\in \\mathbb{R}^n$$\n",
    "$$\\frac{\\partial E}{\\partial x} = \\frac{\\partial E}{\\partial z} * y$$\n",
    "$$\\frac{\\partial E}{\\partial y} = \\frac{\\partial E}{\\partial z} * x$$"
   ]
  },
  {
   "cell_type": "code",
   "execution_count": 11,
   "metadata": {},
   "outputs": [
    {
     "name": "stdout",
     "output_type": "stream",
     "text": [
      "36.087775526961785\n",
      "36.08777552696178\n",
      "7.105427357601002e-15\n"
     ]
    }
   ],
   "source": [
    "x = np.random.randn(14)\n",
    "y = np.random.randn(14)\n",
    "z = x @ y\n",
    "e = z**2\n",
    "\n",
    "tx = torch.tensor(x, requires_grad=True)\n",
    "ty = torch.tensor(y, requires_grad=True)\n",
    "tz = torch.dot(tx, ty)\n",
    "te = tz**2\n",
    "te.backward()\n",
    "\n",
    "print(e)\n",
    "print(te.data.numpy())\n",
    "print(metrics.tdist(e, te.data.numpy()))"
   ]
  },
  {
   "cell_type": "code",
   "execution_count": 12,
   "metadata": {},
   "outputs": [
    {
     "name": "stdout",
     "output_type": "stream",
     "text": [
      "[ -6.44561871   2.37793986 -16.4076439  -14.35079579   0.19144748\n",
      "  -0.96169181  -3.01329938  -6.78997731 -13.24818472  -9.39882653\n",
      "  36.54470499  -7.52212818  18.09282775  -7.0566201 ]\n",
      "[ -6.44561871   2.37793986 -16.4076439  -14.35079579   0.19144748\n",
      "  -0.96169181  -3.01329938  -6.78997731 -13.24818472  -9.39882653\n",
      "  36.54470499  -7.52212818  18.09282775  -7.0566201 ]\n",
      "6.189493362285248e-15\n",
      "[ 21.97258658 -12.02665353 -25.13087581   1.76085922  -5.60303144\n",
      "   4.27988419  -4.78037394 -15.12909247  -8.27661596   9.64330014\n",
      "   3.27267494 -11.64428768  10.47636594 -17.37745959]\n",
      "[ 21.97258658 -12.02665353 -25.13087581   1.76085922  -5.60303144\n",
      "   4.27988419  -4.78037394 -15.12909247  -8.27661596   9.64330014\n",
      "   3.27267494 -11.64428768  10.47636594 -17.37745959]\n",
      "6.7678088263037544e-15\n"
     ]
    }
   ],
   "source": [
    "dz = 2 * z\n",
    "dx = dz * y\n",
    "dy = dz * x\n",
    "dx_sol = tx.grad.data.numpy()\n",
    "dy_sol = ty.grad.data.numpy()\n",
    "\n",
    "print(dx)\n",
    "print(dx_sol)\n",
    "print(metrics.tdist(dx, dx_sol))\n",
    "print(dy)\n",
    "print(dy_sol)\n",
    "print(metrics.tdist(dy, dy_sol))"
   ]
  },
  {
   "cell_type": "markdown",
   "metadata": {},
   "source": [
    "$$z = Xy, \\space x \\in \\mathbb{R}^{n*m}, y \\in \\mathbb{R}^m, z \\in \\mathbb{R}^n$$\n",
    "$$\\frac{\\partial E}{\\partial X} = \\frac{\\partial E}{\\partial z} y^T$$\n",
    "$$\\frac{\\partial E}{\\partial y} = X^T \\frac{\\partial E}{\\partial z}$$"
   ]
  },
  {
   "cell_type": "code",
   "execution_count": 13,
   "metadata": {},
   "outputs": [
    {
     "name": "stdout",
     "output_type": "stream",
     "text": [
      "36.25412373717531\n",
      "36.25412373717531\n",
      "0.0\n"
     ]
    }
   ],
   "source": [
    "X = np.random.randn(7, 3)\n",
    "y = np.random.randn(3)\n",
    "z = X @ y\n",
    "e = z @ z\n",
    "\n",
    "tX = torch.tensor(X, requires_grad=True)\n",
    "ty = torch.tensor(y, requires_grad=True)\n",
    "tz = torch.matmul(tX, ty)\n",
    "te = torch.dot(tz, tz)\n",
    "te.backward()\n",
    "\n",
    "print(e)\n",
    "print(te.data.numpy())\n",
    "print(metrics.tdist(e, te.data.numpy()))"
   ]
  },
  {
   "cell_type": "code",
   "execution_count": 14,
   "metadata": {},
   "outputs": [
    {
     "name": "stdout",
     "output_type": "stream",
     "text": [
      "[[ 8.58414287  0.90323648  0.16263869]\n",
      " [-4.38366685 -0.46125605 -0.08305475]\n",
      " [-7.92910398 -0.83431229 -0.15022805]\n",
      " [ 8.33956201  0.87750131  0.15800476]\n",
      " [-3.632771   -0.38224565 -0.06882797]\n",
      " [-9.06740297 -0.95408583 -0.17179473]\n",
      " [-9.64867087 -1.01524772 -0.18280767]]\n",
      "[[ 8.58414287  0.90323648  0.16263869]\n",
      " [-4.38366685 -0.46125605 -0.08305475]\n",
      " [-7.92910398 -0.83431229 -0.15022805]\n",
      " [ 8.33956201  0.87750131  0.15800476]\n",
      " [-3.632771   -0.38224565 -0.06882797]\n",
      " [-9.06740297 -0.95408583 -0.17179473]\n",
      " [-9.64867087 -1.01524772 -0.18280767]]\n",
      "0.0\n",
      "[40.47933023 24.94137081 -9.57602141]\n",
      "[40.47933023 24.94137081 -9.57602141]\n",
      "3.552713678800501e-15\n"
     ]
    }
   ],
   "source": [
    "dz = 2 * z\n",
    "dX = np.outer(dz, y)\n",
    "dy = X.T @ dz\n",
    "dX_sol = tX.grad.data.numpy()\n",
    "dy_sol = ty.grad.data.numpy()\n",
    "\n",
    "print(dX)\n",
    "print(dX_sol)\n",
    "print(metrics.tdist(dX, dX_sol))\n",
    "print(dy)\n",
    "print(dy_sol)\n",
    "print(metrics.tdist(dy, dy_sol))"
   ]
  },
  {
   "cell_type": "markdown",
   "metadata": {},
   "source": [
    "$$z = y^TX, \\space x \\in \\mathbb{R}^{n*m}, y \\in \\mathbb{R}^n, z \\in \\mathbb{R}^m$$\n",
    "$$\\frac{\\partial E}{\\partial X} = y^T\\frac{\\partial E}{\\partial z}$$\n",
    "$$\\frac{\\partial E}{\\partial y} = X \\frac{\\partial E}{\\partial z}$$"
   ]
  },
  {
   "cell_type": "code",
   "execution_count": 15,
   "metadata": {},
   "outputs": [
    {
     "name": "stdout",
     "output_type": "stream",
     "text": [
      "9.028420925553718\n",
      "9.028420925553718\n",
      "0.0\n"
     ]
    }
   ],
   "source": [
    "X = np.random.randn(7, 3)\n",
    "y = np.random.randn(7)\n",
    "z = y @ X\n",
    "e = z @ z\n",
    "\n",
    "tX = torch.tensor(X, requires_grad=True)\n",
    "ty = torch.tensor(y, requires_grad=True)\n",
    "tz = torch.matmul(ty, tX)\n",
    "te = torch.dot(tz, tz)\n",
    "te.backward()\n",
    "\n",
    "print(e)\n",
    "print(te.data.numpy())\n",
    "print(metrics.tdist(e, te.data.numpy()))"
   ]
  },
  {
   "cell_type": "code",
   "execution_count": 16,
   "metadata": {
    "scrolled": true
   },
   "outputs": [
    {
     "name": "stdout",
     "output_type": "stream",
     "text": [
      "[[ -0.175777     0.47264192   2.56084683]\n",
      " [  0.4533018   -1.21887065  -6.60402921]\n",
      " [ -0.35983339   0.96754603   5.24231366]\n",
      " [ -0.1272869    0.34225823   1.85440788]\n",
      " [  1.00694242  -2.70753958 -14.66986711]\n",
      " [ -0.24117548   0.64849005   3.51361915]\n",
      " [  0.82395184  -2.21550127 -12.00392763]]\n",
      "[[ -0.175777     0.47264192   2.56084683]\n",
      " [  0.4533018   -1.21887065  -6.60402921]\n",
      " [ -0.35983339   0.96754603   5.24231366]\n",
      " [ -0.1272869    0.34225823   1.85440788]\n",
      " [  1.00694242  -2.70753958 -14.66986711]\n",
      " [ -0.24117548   0.64849005   3.51361915]\n",
      " [  0.82395184  -2.21550127 -12.00392763]]\n",
      "4.308734650905669e-15\n",
      "[ -6.25797581   3.52932785   5.80016161   9.00767026 -11.88309058\n",
      "  -4.11578511   5.09593842]\n",
      "[ -6.25797581   3.52932785   5.80016161   9.00767026 -11.88309058\n",
      "  -4.11578511   5.09593842]\n",
      "3.233018248352212e-15\n"
     ]
    }
   ],
   "source": [
    "dz = 2 * z\n",
    "dX = np.outer(y, dz)\n",
    "dy = X @ dz\n",
    "dX_sol = tX.grad.data.numpy()\n",
    "dy_sol = ty.grad.data.numpy()\n",
    "\n",
    "print(dX)\n",
    "print(dX_sol)\n",
    "print(metrics.tdist(dX, dX_sol))\n",
    "print(dy)\n",
    "print(dy_sol)\n",
    "print(metrics.tdist(dy, dy_sol))"
   ]
  },
  {
   "cell_type": "markdown",
   "metadata": {},
   "source": [
    "$$Z = XY, \\space x \\in \\mathbb{R}^{n*m}, y \\in \\mathbb{R}^{m*p}, z \\in \\mathbb{R}^{n*p}$$\n",
    "$$\\frac{\\partial E}{\\partial X} = \\frac{\\partial E}{\\partial Z}Y^T$$\n",
    "$$\\frac{\\partial E}{\\partial Y} = X^T \\frac{\\partial E}{\\partial Z}$$"
   ]
  },
  {
   "cell_type": "code",
   "execution_count": 17,
   "metadata": {},
   "outputs": [
    {
     "name": "stdout",
     "output_type": "stream",
     "text": [
      "14.869025117634362\n",
      "14.869025117634363\n",
      "1.7763568394002505e-15\n"
     ]
    }
   ],
   "source": [
    "X = np.random.randn(7, 3)\n",
    "Y = np.random.randn(3, 2)\n",
    "Z = X @ Y\n",
    "Z_flat = Z.reshape(-1)\n",
    "e = Z_flat @ Z_flat\n",
    "\n",
    "tX = torch.tensor(X, requires_grad=True)\n",
    "tY = torch.tensor(Y, requires_grad=True)\n",
    "tZ = torch.matmul(tX, tY)\n",
    "tZ_flat = tZ.view(-1)\n",
    "te = torch.dot(tZ_flat, tZ_flat)\n",
    "te.backward()\n",
    "\n",
    "print(e)\n",
    "print(te.data.numpy())\n",
    "print(metrics.tdist(e, te.data.numpy()))"
   ]
  },
  {
   "cell_type": "code",
   "execution_count": 18,
   "metadata": {},
   "outputs": [
    {
     "name": "stdout",
     "output_type": "stream",
     "text": [
      "[[-3.49003824  7.35296457  2.47664396]\n",
      " [ 0.83856186 -1.93135413 -0.60280663]\n",
      " [-2.26103954  4.67992261  1.60057219]\n",
      " [ 1.63973262 -3.36369402 -1.15933289]\n",
      " [ 1.78589422 -3.72447036 -1.26553662]\n",
      " [ 0.78129173 -1.85281456 -0.56414504]\n",
      " [ 1.56300454 -3.18367978 -1.10402144]]\n",
      "[[-3.49003824  7.35296457  2.47664396]\n",
      " [ 0.83856186 -1.93135413 -0.60280663]\n",
      " [-2.26103954  4.67992261  1.60057219]\n",
      " [ 1.63973262 -3.36369402 -1.15933289]\n",
      " [ 1.78589422 -3.72447036 -1.26553662]\n",
      " [ 0.78129173 -1.85281456 -0.56414504]\n",
      " [ 1.56300454 -3.18367978 -1.10402144]]\n",
      "1.2212453270876722e-15\n",
      "[[-7.94668909 11.14088288]\n",
      " [ 7.7336249  -7.18289606]\n",
      " [ 6.81871998 -8.63607927]]\n",
      "[[-7.94668909 11.14088288]\n",
      " [ 7.7336249  -7.18289606]\n",
      " [ 6.81871998 -8.63607927]]\n",
      "2.808666774861361e-15\n"
     ]
    }
   ],
   "source": [
    "dZ_flat = 2 * Z_flat\n",
    "dZ = dZ_flat.reshape(Z.shape[0], Z.shape[1])\n",
    "dX = dZ @ Y.T\n",
    "dY = X.T @ dZ\n",
    "dX_sol = tX.grad.data.numpy()\n",
    "dY_sol = tY.grad.data.numpy()\n",
    "\n",
    "print(dX)\n",
    "print(dX_sol)\n",
    "print(metrics.tdist(dX, dX_sol))\n",
    "print(dY)\n",
    "print(dY_sol)\n",
    "print(metrics.tdist(dY, dY_sol))"
   ]
  },
  {
   "cell_type": "markdown",
   "metadata": {},
   "source": [
    "$$Z = X^TX, \\space X \\in \\mathbb{R}^{n*m}, Z \\in \\mathbb{R}^{m*m}$$\n",
    "$$\\frac{\\partial E}{\\partial X} = X(\\frac{\\partial E}{\\partial Z} +    \\frac{\\partial E}{\\partial Z}^T)$$"
   ]
  },
  {
   "cell_type": "code",
   "execution_count": 19,
   "metadata": {},
   "outputs": [
    {
     "name": "stdout",
     "output_type": "stream",
     "text": [
      "103.23083005204043\n",
      "103.23083005204046\n",
      "2.842170943040401e-14\n"
     ]
    }
   ],
   "source": [
    "X = np.random.randn(5, 3)\n",
    "Z = X.T @ X\n",
    "Z_flat = Z.reshape(-1)\n",
    "e = Z_flat @ Z_flat\n",
    "\n",
    "tX = torch.tensor(X, requires_grad=True)\n",
    "tZ = torch.matmul(torch.transpose(tX, 1, 0), tX)\n",
    "tZ_flat = tZ.view(-1)\n",
    "te = torch.dot(tZ_flat, tZ_flat)\n",
    "te.backward()\n",
    "\n",
    "print(e)\n",
    "print(te.data.numpy())\n",
    "print(metrics.tdist(e, te.data.numpy()))"
   ]
  },
  {
   "cell_type": "code",
   "execution_count": 20,
   "metadata": {},
   "outputs": [
    {
     "name": "stdout",
     "output_type": "stream",
     "text": [
      "[[-63.46265934 -36.64261304 -34.74844084]\n",
      " [-20.12452315 -11.18108958 -18.56517314]\n",
      " [-11.11891629 -19.2830123  -32.39392498]\n",
      " [ 16.65153053  -8.25200932  20.91609196]\n",
      " [-25.34512635  19.34332405 -32.60645328]]\n",
      "[[-63.46265934 -36.64261304 -34.74844084]\n",
      " [-20.12452315 -11.18108958 -18.56517314]\n",
      " [-11.11891629 -19.2830123  -32.39392498]\n",
      " [ 16.65153053  -8.25200932  20.91609196]\n",
      " [-25.34512635  19.34332405 -32.60645328]]\n",
      "1.443119118362539e-14\n"
     ]
    }
   ],
   "source": [
    "dZ_flat = 2 * Z_flat\n",
    "dZ = dZ_flat.reshape(Z.shape[0], Z.shape[1])\n",
    "dX = X @ (dZ + dZ.T)\n",
    "dX_sol = tX.grad.data.numpy()\n",
    "\n",
    "print(dX)\n",
    "print(dX_sol)\n",
    "print(metrics.tdist(dX, dX_sol))"
   ]
  },
  {
   "cell_type": "markdown",
   "metadata": {},
   "source": [
    "$Z_I = f(X_I)$, with $Z$ and $X$ tensors of same size, $f: \\mathbb{R} \\rightarrow \\mathbb{R}$\n",
    "$$\\frac{\\partial E}{\\partial X_I} = \\frac{\\partial E}{\\partial Z_I} *    f'(X_I)$$"
   ]
  },
  {
   "cell_type": "code",
   "execution_count": 21,
   "metadata": {},
   "outputs": [
    {
     "name": "stdout",
     "output_type": "stream",
     "text": [
      "6.8542875965253955\n",
      "6.8542875965253955\n",
      "0.0\n"
     ]
    }
   ],
   "source": [
    "X = np.random.randn(5, 3)\n",
    "Z = np.cos(X)\n",
    "Z_flat = Z.reshape(-1)\n",
    "e = Z_flat @ Z_flat\n",
    "\n",
    "tX = torch.tensor(X, requires_grad=True)\n",
    "tZ = torch.cos(tX)\n",
    "tZ_flat = tZ.view(-1)\n",
    "te = torch.dot(tZ_flat, tZ_flat)\n",
    "te.backward()\n",
    "\n",
    "print(e)\n",
    "print(te.data.numpy())\n",
    "print(metrics.tdist(e, te.data.numpy()))"
   ]
  },
  {
   "cell_type": "code",
   "execution_count": 22,
   "metadata": {},
   "outputs": [
    {
     "name": "stdout",
     "output_type": "stream",
     "text": [
      "[[ 0.67141586 -0.98411058  0.4044489 ]\n",
      " [ 0.99976156 -0.00191423 -0.09810756]\n",
      " [-0.99995919  0.42090411 -0.94132233]\n",
      " [ 0.00705578  0.99882196 -0.84200559]\n",
      " [ 0.37743023  0.97076711 -0.16627778]]\n",
      "[[ 0.67141586 -0.98411058  0.4044489 ]\n",
      " [ 0.99976156 -0.00191423 -0.09810756]\n",
      " [-0.99995919  0.42090411 -0.94132233]\n",
      " [ 0.00705578  0.99882196 -0.84200559]\n",
      " [ 0.37743023  0.97076711 -0.16627778]]\n",
      "0.0\n"
     ]
    }
   ],
   "source": [
    "dZ_flat = 2 * Z_flat\n",
    "dZ = dZ_flat.reshape(Z.shape[0], Z.shape[1])\n",
    "dX = dZ * (-np.sin(X))\n",
    "dX_sol = tX.grad.data.numpy()\n",
    "\n",
    "print(dX)\n",
    "print(dX_sol)\n",
    "print(metrics.tdist(dX, dX_sol))"
   ]
  },
  {
   "cell_type": "markdown",
   "metadata": {},
   "source": [
    "$Z_I = f(X_I, Y_I)$, with $Z$, $X$and $Y$ tensors of same size, $f: \\mathbb{R}*\\mathbb{R} \\rightarrow \\mathbb{R}$\n",
    "$$\\frac{\\partial E}{\\partial X_I} = \\frac{\\partial E}{\\partial Z_I} *    \\frac{\\partial f(X_I, Y_I)}{\\partial X_I}$$\n",
    "$$\\frac{\\partial E}{\\partial Y_I} = \\frac{\\partial E}{\\partial Z_I} *    \\frac{\\partial f(X_I, Y_I)}{\\partial Y_I}$$"
   ]
  },
  {
   "cell_type": "code",
   "execution_count": 23,
   "metadata": {},
   "outputs": [
    {
     "name": "stdout",
     "output_type": "stream",
     "text": [
      "151.7929370800654\n",
      "151.7929370800654\n",
      "0.0\n"
     ]
    }
   ],
   "source": [
    "X = np.random.rand(7, 3) + 0.1\n",
    "Y = np.random.randn(7, 3)\n",
    "Z = np.power(X, Y)\n",
    "Z_flat = Z.reshape(-1)\n",
    "e = Z_flat @ Z_flat\n",
    "\n",
    "\n",
    "tX = torch.tensor(X, requires_grad=True)\n",
    "tY = torch.tensor(Y, requires_grad=True)\n",
    "tZ = torch.pow(tX, tY)\n",
    "tZ_flat = tZ.view(-1)\n",
    "te = torch.dot(tZ_flat, tZ_flat)\n",
    "te.backward()\n",
    "\n",
    "print(e)\n",
    "print(te.data.numpy())\n",
    "print(metrics.tdist(e, te.data.numpy()))"
   ]
  },
  {
   "cell_type": "code",
   "execution_count": 24,
   "metadata": {},
   "outputs": [
    {
     "name": "stdout",
     "output_type": "stream",
     "text": [
      "[[-1.47662497e+03  8.21415840e-01  7.11877166e-01]\n",
      " [ 4.85073893e-01 -1.24327766e-01 -1.29022186e+01]\n",
      " [ 8.06131651e-01 -7.20958167e+01 -3.20868983e+01]\n",
      " [-2.10939137e+01  1.03099902e+00 -1.96466266e-01]\n",
      " [-4.30056823e-01 -2.33701798e+00 -1.88817756e+00]\n",
      " [-2.89855311e+00 -7.67949261e-01 -2.08453062e+00]\n",
      " [ 7.95762724e-01 -3.22457087e+01  2.63829700e-01]]\n",
      "[[-1.47662497e+03  8.21415840e-01  7.11877166e-01]\n",
      " [ 4.85073893e-01 -1.24327766e-01 -1.29022186e+01]\n",
      " [ 8.06131651e-01 -7.20958167e+01 -3.20868983e+01]\n",
      " [-2.10939137e+01  1.03099902e+00 -1.96466266e-01]\n",
      " [-4.30056823e-01 -2.33701798e+00 -1.88817756e+00]\n",
      " [-2.89855311e+00 -7.67949261e-01 -2.08453062e+00]\n",
      " [ 7.95762724e-01 -3.22457087e+01  2.63829700e-01]]\n",
      "0.0\n",
      "[[-3.06262600e+02 -4.75443852e-01 -7.25862659e-02]\n",
      " [-1.40480996e-01 -2.08243921e+00 -9.34640342e+00]\n",
      " [-9.78779799e-02 -2.36631801e+01 -6.92062436e+00]\n",
      " [-1.40394225e+01 -4.90878091e-01 -1.32491222e-01]\n",
      " [ 2.43818328e-02  8.59217782e-02 -1.08632451e+00]\n",
      " [-1.63219672e+00 -2.85528022e-01 -7.02761154e-01]\n",
      " [-3.85694779e-01 -7.73261163e+00 -6.80898102e-02]]\n",
      "[[-3.06262600e+02 -4.75443852e-01 -7.25862659e-02]\n",
      " [-1.40480996e-01 -2.08243921e+00 -9.34640342e+00]\n",
      " [-9.78779799e-02 -2.36631801e+01 -6.92062436e+00]\n",
      " [-1.40394225e+01 -4.90878091e-01 -1.32491222e-01]\n",
      " [ 2.43818328e-02  8.59217782e-02 -1.08632451e+00]\n",
      " [-1.63219672e+00 -2.85528022e-01 -7.02761154e-01]\n",
      " [-3.85694779e-01 -7.73261163e+00 -6.80898102e-02]]\n",
      "4.1970615486722865e-15\n"
     ]
    }
   ],
   "source": [
    "dZ_flat = 2 * Z_flat\n",
    "dZ = dZ_flat.reshape(Z.shape[0], Z.shape[1])\n",
    "dX = dZ * Y * np.power(X, Y-1) \n",
    "dY = dZ * np.log(X) * np.power(X, Y)\n",
    "dX_sol = tX.grad.data.numpy()\n",
    "dY_sol = tY.grad.data.numpy()\n",
    "\n",
    "print(dX)\n",
    "print(dX_sol)\n",
    "print(metrics.tdist(dX, dX_sol))\n",
    "print(dY)\n",
    "print(dY_sol)\n",
    "print(metrics.tdist(dY, dY_sol))"
   ]
  },
  {
   "cell_type": "markdown",
   "metadata": {},
   "source": [
    "Every tensor sum of an axis can be transformed into a 3D-tensor sum on axis 1, using only reshape.  \n",
    "\n",
    "$$X \\in \\mathbb{R}^{m * n * p}, Y \\in \\mathbb{R}^{m * p}$$\n",
    "$y$ is the sum of $X$ on axis $2$.\n",
    "$$Y_{ik} = \\sum_{j=i}^n X_{ijk}$$\n",
    "$$\\frac{\\partial E}{\\partial X_{ijk}} = \\frac{\\partial E}{\\partial Y_{ik}}$$"
   ]
  },
  {
   "cell_type": "code",
   "execution_count": 25,
   "metadata": {},
   "outputs": [
    {
     "name": "stdout",
     "output_type": "stream",
     "text": [
      "(4, 3, 7)\n",
      "(4, 3, 7)\n",
      "0.0\n",
      "(2, 3, 7)\n",
      "(2, 3, 7)\n",
      "0.0\n",
      "(2, 4, 7)\n",
      "(2, 4, 7)\n",
      "0.0\n",
      "(2, 4, 3)\n",
      "(2, 4, 3)\n",
      "0.0\n"
     ]
    }
   ],
   "source": [
    "def prod(x):\n",
    "    res = 1\n",
    "    for v in x: res *= v\n",
    "    return res\n",
    "\n",
    "def sum_axis(X, axis):\n",
    "    shape3 = (prod(X.shape[:axis]), X.shape[axis], prod(X.shape[axis+1:]))\n",
    "    final_shape = X.shape[:axis] + X.shape[axis+1:]\n",
    "    return np.sum(X.reshape(shape3), axis=1).reshape(final_shape)\n",
    "\n",
    "X = np.random.randn(2, 4, 3, 7)\n",
    "\n",
    "s = [sum_axis(X, i) for i in range(4)]\n",
    "\n",
    "tX = torch.tensor(X, requires_grad = True)\n",
    "s_sol = [torch.sum(tX, i) for i in range(4)]\n",
    "\n",
    "for i in range(4):\n",
    "    print(s[i].shape)\n",
    "    print(s_sol[i].data.numpy().shape)\n",
    "    print(metrics.tdist(s[i], s_sol[i].data.numpy()))"
   ]
  },
  {
   "cell_type": "code",
   "execution_count": 26,
   "metadata": {},
   "outputs": [
    {
     "name": "stdout",
     "output_type": "stream",
     "text": [
      "[[[1. 2. 3.]\n",
      "  [1. 2. 3.]]\n",
      "\n",
      " [[4. 5. 6.]\n",
      "  [4. 5. 6.]]]\n"
     ]
    }
   ],
   "source": [
    "def my_expand_dims3(x, size):\n",
    "    \n",
    "    y = np.empty((x.shape[0], size, x.shape[1]))\n",
    "    for i in range(x.shape[0]):\n",
    "        for j in range(size):\n",
    "            for k in range(x.shape[1]):\n",
    "                y[i, j, k] = x[i, k]\n",
    "    return y\n",
    "    \n",
    "\n",
    "def dsum_axis(X, axis, dout):\n",
    "    dout = dout.reshape((prod(X.shape[:axis]), prod(X.shape[axis+1:])))\n",
    "    return my_expand_dims3(dout, X.shape[axis]).reshape(X.shape)\n",
    "    \n",
    "a = np.array([[1, 2, 3], [4, 5, 6]])\n",
    "a2 = my_expand_dims3(a, 2)\n",
    "print(a2)"
   ]
  },
  {
   "cell_type": "code",
   "execution_count": 27,
   "metadata": {},
   "outputs": [
    {
     "ename": "AttributeError",
     "evalue": "'NoneType' object has no attribute 'data'",
     "output_type": "error",
     "traceback": [
      "\u001b[0;31m---------------------------------------------------------------------------\u001b[0m",
      "\u001b[0;31mAttributeError\u001b[0m                            Traceback (most recent call last)",
      "\u001b[0;32m<ipython-input-27-4f103c7fd161>\u001b[0m in \u001b[0;36m<module>\u001b[0;34m\u001b[0m\n\u001b[1;32m      6\u001b[0m     \u001b[0msi_flat\u001b[0m \u001b[0;34m=\u001b[0m \u001b[0ms_sol\u001b[0m\u001b[0;34m[\u001b[0m\u001b[0mi\u001b[0m\u001b[0;34m]\u001b[0m\u001b[0;34m.\u001b[0m\u001b[0mview\u001b[0m\u001b[0;34m(\u001b[0m\u001b[0;34m-\u001b[0m\u001b[0;36m1\u001b[0m\u001b[0;34m)\u001b[0m\u001b[0;34m\u001b[0m\u001b[0;34m\u001b[0m\u001b[0m\n\u001b[1;32m      7\u001b[0m     \u001b[0mtz\u001b[0m \u001b[0;34m=\u001b[0m \u001b[0mtorch\u001b[0m\u001b[0;34m.\u001b[0m\u001b[0mdot\u001b[0m\u001b[0;34m(\u001b[0m\u001b[0msi_flat\u001b[0m\u001b[0;34m,\u001b[0m \u001b[0msi_flat\u001b[0m\u001b[0;34m)\u001b[0m\u001b[0;34m\u001b[0m\u001b[0;34m\u001b[0m\u001b[0m\n\u001b[0;32m----> 8\u001b[0;31m     \u001b[0mtX\u001b[0m\u001b[0;34m.\u001b[0m\u001b[0mgrad\u001b[0m\u001b[0;34m.\u001b[0m\u001b[0mdata\u001b[0m\u001b[0;34m.\u001b[0m\u001b[0mzero_\u001b[0m\u001b[0;34m(\u001b[0m\u001b[0;34m)\u001b[0m\u001b[0;34m\u001b[0m\u001b[0;34m\u001b[0m\u001b[0m\n\u001b[0m\u001b[1;32m      9\u001b[0m     \u001b[0mtz\u001b[0m\u001b[0;34m.\u001b[0m\u001b[0mbackward\u001b[0m\u001b[0;34m(\u001b[0m\u001b[0;34m)\u001b[0m\u001b[0;34m\u001b[0m\u001b[0;34m\u001b[0m\u001b[0m\n\u001b[1;32m     10\u001b[0m     \u001b[0mdX_sol\u001b[0m \u001b[0;34m=\u001b[0m \u001b[0mtX\u001b[0m\u001b[0;34m.\u001b[0m\u001b[0mgrad\u001b[0m\u001b[0;34m.\u001b[0m\u001b[0mdata\u001b[0m\u001b[0;34m.\u001b[0m\u001b[0mnumpy\u001b[0m\u001b[0;34m(\u001b[0m\u001b[0;34m)\u001b[0m\u001b[0;34m\u001b[0m\u001b[0;34m\u001b[0m\u001b[0m\n",
      "\u001b[0;31mAttributeError\u001b[0m: 'NoneType' object has no attribute 'data'"
     ]
    }
   ],
   "source": [
    "for i in range(4):\n",
    "    \n",
    "    ds = 2 * s[i]\n",
    "    dX = dsum_axis(X, i, ds)\n",
    "    \n",
    "    si_flat = s_sol[i].view(-1)\n",
    "    tz = torch.dot(si_flat, si_flat)\n",
    "    tX.grad.data.zero_()\n",
    "    tz.backward()\n",
    "    dX_sol = tX.grad.data.numpy()\n",
    "    \n",
    "    print(dX.shape)\n",
    "    print(dX_sol.shape)\n",
    "    print(metrics.tdist(dX, dX_sol))\n",
    "    "
   ]
  },
  {
   "cell_type": "markdown",
   "metadata": {},
   "source": [
    "## Derivatives sheet"
   ]
  },
  {
   "cell_type": "markdown",
   "metadata": {},
   "source": [
    "$$(c)' = 0, \\space c \\in \\mathbb{R}$$\n",
    "$$(x)' = 1, \\space x \\in \\mathbb{R}$$\n",
    "$$(cx)' = c, \\space c, x \\in \\mathbb{R}$$\n",
    "$$(e^x)' = e^x, \\space x \\in \\mathbb{R}$$\n",
    "$$(ln(x))' = \\frac{1}{x}, \\space x \\in \\mathbb{R}$$\n",
    "$$(\\frac{1}{x})' = - \\frac{1}{x^2}, \\space x \\in \\mathbb{R}$$"
   ]
  },
  {
   "cell_type": "markdown",
   "metadata": {},
   "source": [
    "$$(cos(x))' = -sin(x), \\space x \\in \\mathbb{R}$$\n",
    "$$(sin(x))' = cos(x), \\space x \\in \\mathbb{R}$$\n",
    "$$(cosh(x))' = -sinh(x), \\space x \\in \\mathbb{R}$$\n",
    "$$(sinh(x))' = cos(x), \\space x \\in \\mathbb{R}$$\n",
    "$$(tanh(x))' = 1 - tanh(x)^2, \\space x \\in \\mathbb{R}$$"
   ]
  },
  {
   "cell_type": "markdown",
   "metadata": {},
   "source": [
    "$$(\\sigma(x))' = \\sigma(x)(1 - \\sigma(x)), \\space x \\in \\mathbb{R}$$"
   ]
  },
  {
   "cell_type": "markdown",
   "metadata": {},
   "source": [
    "$$\\frac{\\partial}{\\partial x} x^y = y*x^{y-1}, \\space x, y \\in \\mathbb{R}$$\n",
    "$$\\frac{\\partial}{\\partial y} x^y = ln(x)*x^{y}, \\space x, y \\in \\mathbb{R}$$"
   ]
  },
  {
   "cell_type": "markdown",
   "metadata": {},
   "source": [
    "$$\\frac{\\partial}{\\partial x} ||x||_2^2 = 2x, x \\in \\mathbb{R}^n$$"
   ]
  },
  {
   "cell_type": "markdown",
   "metadata": {},
   "source": [
    "$$\\frac{\\partial}{\\partial x} \\sum_{x=1}^n x_i = \\mathbb{1}, x \\in \\mathbb{R}^n$$"
   ]
  },
  {
   "cell_type": "markdown",
   "metadata": {},
   "source": [
    "$$z = ||x||_1, \\space x \\in \\mathbb{R^n}$$\n",
    "$$\\frac{\\partial E}{\\partial x} = \\frac{\\partial E}{z} * sgn(x)$$"
   ]
  },
  {
   "cell_type": "markdown",
   "metadata": {},
   "source": [
    "$$z = c + x, \\space x, z \\in \\mathbb{R^n}, c \\in \\mathbb{R}$$\n",
    "$$\\frac{\\partial E}{\\partial x} = \\frac{\\partial E}{z}$$\n",
    "$$\\frac{\\partial E}{\\partial c} = \\sum_{j=1}^n \\frac{\\partial E}{\\partial z_i}$$"
   ]
  },
  {
   "cell_type": "markdown",
   "metadata": {},
   "source": [
    "$$z = c * x, \\space x \\in \\mathbb{R^n}, c \\in \\mathbb{R}$$\n",
    "$$\\frac{\\partial E}{\\partial x} = \\frac{\\partial E}{\\partial z} * c$$\n",
    "$$\\frac{\\partial E}{\\partial c} = \\frac{\\partial E}{\\partial z}^T x$$"
   ]
  },
  {
   "cell_type": "markdown",
   "metadata": {},
   "source": [
    "$$z = c / x, \\space x \\in \\mathbb{R^n}, c \\in \\mathbb{R}$$\n",
    "$$\\frac{\\partial E}{\\partial x} = -c * \\frac{\\partial E}{\\partial z} / (x*x)$$\n",
    "$$\\frac{\\partial E}{\\partial c} = \\frac{\\partial E}{\\partial z}^T \\frac{1}{x}$$"
   ]
  },
  {
   "cell_type": "markdown",
   "metadata": {},
   "source": [
    "$$z = \\sum_{i=1}^n x_i, \\space x \\in \\mathbb{R^n}, z \\in \\mathbb{R}$$\n",
    "$$\\frac{\\partial E}{\\partial x_i} = \\frac{\\partial E}{z}$$"
   ]
  },
  {
   "cell_type": "markdown",
   "metadata": {},
   "source": [
    "$$x, y \\in \\mathbb{R}^n$$\n",
    "$$\\frac{\\partial x^Ty}{\\partial x} = y$$\n",
    "$$\\frac{\\partial x^Ty}{\\partial y} = x$$"
   ]
  },
  {
   "cell_type": "markdown",
   "metadata": {},
   "source": [
    "$$z = x^Ty, \\space x, y, z \\in \\mathbb{R}^n$$\n",
    "$$\\frac{\\partial E}{\\partial x} = \\frac{\\partial E}{\\partial z} * y$$\n",
    "$$\\frac{\\partial E}{\\partial y} = \\frac{\\partial E}{\\partial z} * x$$"
   ]
  },
  {
   "cell_type": "markdown",
   "metadata": {},
   "source": [
    "$$z = Xy, \\space x \\in \\mathbb{R}^{n*m}, y \\in \\mathbb{R}^m, z \\in \\mathbb{R}^n$$\n",
    "$$\\frac{\\partial E}{\\partial X} = \\frac{\\partial E}{\\partial z} y^T$$\n",
    "$$\\frac{\\partial E}{\\partial y} = X^T \\frac{\\partial E}{\\partial z}$$"
   ]
  },
  {
   "cell_type": "markdown",
   "metadata": {},
   "source": [
    "$$z = y^TX, \\space x \\in \\mathbb{R}^{n*m}, y \\in \\mathbb{R}^n, z \\in \\mathbb{R}^m$$\n",
    "$$\\frac{\\partial E}{\\partial X} = y^T\\frac{\\partial E}{\\partial z}$$\n",
    "$$\\frac{\\partial E}{\\partial y} = X \\frac{\\partial E}{\\partial z}$$"
   ]
  },
  {
   "cell_type": "markdown",
   "metadata": {},
   "source": [
    "$$Z = XY, \\space x \\in \\mathbb{R}^{n*m}, y \\in \\mathbb{R}^{m*p}, z \\in \\mathbb{R}^{n*p}$$\n",
    "$$\\frac{\\partial E}{\\partial X} = \\frac{\\partial E}{\\partial Z}Y^T$$\n",
    "$$\\frac{\\partial E}{\\partial Y} = X^T \\frac{\\partial E}{\\partial Z}$$"
   ]
  },
  {
   "cell_type": "markdown",
   "metadata": {},
   "source": [
    "$$Z = X^TX, \\space X \\in \\mathbb{R}^{n*m}, Z \\in \\mathbb{R}^{m*m}$$\n",
    "$$\\frac{\\partial E}{\\partial X} = X(\\frac{\\partial E}{\\partial Z} +    \\frac{\\partial E}{\\partial Z}^T)$$"
   ]
  },
  {
   "cell_type": "markdown",
   "metadata": {},
   "source": [
    "$Z_I = f(X_I)$, with $Z$ and $X$ tensors of same size, $f: \\mathbb{R} \\rightarrow \\mathbb{R}$\n",
    "$$\\frac{\\partial E}{\\partial X_I} = \\frac{\\partial E}{\\partial Z_I} *    f'(X_I)$$"
   ]
  },
  {
   "cell_type": "markdown",
   "metadata": {},
   "source": [
    "$Z_I = f(X_I, Y_I)$, with $Z$, $X$and $Y$ tensors of same size, $f: \\mathbb{R}*\\mathbb{R} \\rightarrow \\mathbb{R}$\n",
    "$$\\frac{\\partial E}{\\partial X_I} = \\frac{\\partial E}{\\partial Z_I} *    \\frac{\\partial f(X_I, Y_I)}{\\partial X_I}$$\n",
    "$$\\frac{\\partial E}{\\partial Y_I} = \\frac{\\partial E}{\\partial Z_I} *    \\frac{\\partial f(X_I, Y_I)}{\\partial Y_I}$$"
   ]
  },
  {
   "cell_type": "markdown",
   "metadata": {},
   "source": [
    "$x \\in \\mathbb{R}^n$, and $S_i$ = softmax$(x)_i$\n",
    "$$\\frac{\\partial S_i}{x_j} = S_i(1 - S_j) \\space (i = j)$$\n",
    "$$\\frac{\\partial S_i}{x_j} = -S_iS_j \\space (i \\neq j)$$"
   ]
  }
 ],
 "metadata": {
  "kernelspec": {
   "display_name": "Python 3",
   "language": "python",
   "name": "python3"
  },
  "language_info": {
   "codemirror_mode": {
    "name": "ipython",
    "version": 3
   },
   "file_extension": ".py",
   "mimetype": "text/x-python",
   "name": "python",
   "nbconvert_exporter": "python",
   "pygments_lexer": "ipython3",
   "version": "3.6.7"
  }
 },
 "nbformat": 4,
 "nbformat_minor": 2
}
