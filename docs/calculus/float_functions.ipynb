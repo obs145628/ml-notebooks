{
 "cells": [
  {
   "cell_type": "code",
   "execution_count": 134,
   "metadata": {},
   "outputs": [],
   "source": [
    "import sys\n",
    "sys.path.append('..')\n",
    "\n",
    "import math\n",
    "import numpy as np\n",
    "\n",
    "import metrics"
   ]
  },
  {
   "cell_type": "code",
   "execution_count": 8,
   "metadata": {},
   "outputs": [],
   "source": [
    "def check_f(vals, fref, fme):\n",
    "    aref = np.empty((len(vals),))\n",
    "    ame = np.empty((len(vals),))\n",
    "    for i in range(len(vals)):\n",
    "        aref[i] = fref(vals[i])\n",
    "        ame[i] = fme(vals[i])\n",
    "    \n",
    "    return (aref, ame, metrics.tdist(aref, ame))"
   ]
  },
  {
   "cell_type": "markdown",
   "metadata": {},
   "source": [
    "$$\n",
    "x! = \n",
    "\\begin{cases}\n",
    "    1 & \\text{if } x = 0\\\\\n",
    "    x * (x - 1)! & \\text{otherwise}\n",
    "\\end{cases}\n",
    "$$"
   ]
  },
  {
   "cell_type": "code",
   "execution_count": 9,
   "metadata": {},
   "outputs": [
    {
     "name": "stdout",
     "output_type": "stream",
     "text": [
      "[1, 1, 2, 6, 24, 120, 720, 5040, 40320, 362880]\n"
     ]
    }
   ],
   "source": [
    "#Factorial\n",
    "\n",
    "NFACTS = 50\n",
    "facts = [1] * NFACTS\n",
    "for i in range(2, NFACTS):\n",
    "    facts[i] = i * facts[i - 1]\n",
    "\n",
    "print(facts[:10])"
   ]
  },
  {
   "cell_type": "markdown",
   "metadata": {},
   "source": [
    "$$\n",
    "x^n = \n",
    "\\begin{cases}\n",
    "    1 & \\text{if } n = 0\\\\\n",
    "    (x^2)^{n/2} & \\text{if } x \\% 2 = 0\\\\\n",
    "    x * (x^2)^{(n-1)/2} & \\text{if } x \\% 2 = 1\n",
    "\\end{cases}\n",
    "$$"
   ]
  },
  {
   "cell_type": "code",
   "execution_count": 13,
   "metadata": {},
   "outputs": [],
   "source": [
    "# Power\n",
    "\n",
    "def fast_pow(x, n):\n",
    "    if n == 0:\n",
    "        return 1\n",
    "    elif n == 1:\n",
    "        return x\n",
    "    elif n % 2 == 0:\n",
    "        return fast_pow(x*x, n//2)\n",
    "    elif n % 2 == 1:\n",
    "        return x * fast_pow(x*x, n//2)"
   ]
  },
  {
   "cell_type": "markdown",
   "metadata": {},
   "source": [
    "$$e = \\sum_{n=0}^{\\infty} \\frac{1}{n!}$$"
   ]
  },
  {
   "cell_type": "code",
   "execution_count": 14,
   "metadata": {},
   "outputs": [
    {
     "name": "stdout",
     "output_type": "stream",
     "text": [
      "2.7182818284590455\n",
      "2.718281828459045\n",
      "4.440892098500626e-16\n"
     ]
    }
   ],
   "source": [
    "#Euler\n",
    "\n",
    "def approx_euler(n):\n",
    "    res = 0\n",
    "    for i in range(n):\n",
    "        res += 1 / facts[i]\n",
    "    return res\n",
    "\n",
    "EULER = approx_euler(20)\n",
    "print(EULER)\n",
    "print(np.exp(1))\n",
    "print(metrics.tdist(EULER, np.exp(1)))"
   ]
  },
  {
   "cell_type": "markdown",
   "metadata": {},
   "source": [
    "Taylor approximation of $e^x$ close to $0$:\n",
    "\n",
    "$$e^x = \\sum_{n=0}^{\\infty} \\frac{x^n}{n!} = 1 + x + \\frac{x^2}{2} + \\frac{x^3}{6} + \\text{...}$$\n",
    "$$e^{a+b} = e^a * e^b$$\n",
    "$$e^{-x} = \\frac{1}{e^x}$$"
   ]
  },
  {
   "cell_type": "code",
   "execution_count": 18,
   "metadata": {},
   "outputs": [
    {
     "name": "stdout",
     "output_type": "stream",
     "text": [
      "[0.36787944 0.45942582 0.57375342 0.71653131 0.89483932 1.11751907\n",
      " 1.39561243 1.742909   2.17662993 2.71828183]\n",
      "[0.36787944 0.45942582 0.57375342 0.71653131 0.89483932 1.11751907\n",
      " 1.39561243 1.742909   2.17662993 2.71828183]\n",
      "7.967349055175334e-16\n",
      "0.0008970465527435638\n"
     ]
    }
   ],
   "source": [
    "## Exponential\n",
    "\n",
    "exp_tables = []\n",
    "for i in range(10):\n",
    "    v = fast_pow(2, i)\n",
    "    exp_tables.append(fast_pow(EULER, v))\n",
    "\n",
    "def my_exp(x):\n",
    "    if x < 0:\n",
    "        return 1. / my_exp(-x)\n",
    "    \n",
    "    if x > 1:\n",
    "        xi = int(x)\n",
    "        xf = x - xi\n",
    "        res = my_exp(xf)\n",
    "        p = 0\n",
    "        \n",
    "        while xi:\n",
    "            if xi % 2:\n",
    "                res *= exp_tables[p]\n",
    "            p += 1\n",
    "            xi = xi // 2\n",
    "        return res\n",
    "    \n",
    "    res = 1\n",
    "    for i in range(1, 20):\n",
    "        res += fast_pow(x, i) / facts[i]\n",
    "    return res\n",
    "\n",
    "\n",
    "ref, me, dist = check_f(np.linspace(-1, 1, 10), np.exp, my_exp)\n",
    "print(ref)\n",
    "print(me)\n",
    "print(dist)\n",
    "ref, me, dist = check_f(np.linspace(-25, 25, 2000), np.exp, my_exp)\n",
    "print(dist)"
   ]
  },
  {
   "cell_type": "markdown",
   "metadata": {},
   "source": [
    "Taylor approximation of $ln(1-x)$ close to $0$:\n",
    "\n",
    "$$ln(1-x) = - \\sum_{n=1}^{\\infty} \\frac{x^n}{n} = - x - \\frac{x^2}{2} - \\frac{x^3}{3} - \\text{...}$$\n",
    "$$ln(ab) = ln(a) + ln(b)$$\n",
    "$$ln(a^b) = bln(a)$$\n",
    "$$ln(y) = n * ln(2) + ln(x), \\space y = 2^nx$$"
   ]
  },
  {
   "cell_type": "code",
   "execution_count": 99,
   "metadata": {},
   "outputs": [
    {
     "name": "stdout",
     "output_type": "stream",
     "text": [
      "[-2.30258509 -1.60943791 -1.2039728  -0.91629073 -0.69314718 -0.51082562\n",
      " -0.35667494 -0.22314355 -0.10536052  0.        ]\n",
      "[-2.2572709  -1.60696941 -1.20385216 -0.91628645 -0.69314709 -0.51082562\n",
      " -0.35667494 -0.22314355 -0.10536052  0.        ]\n",
      "0.04538153919839533\n",
      "0.1498549109482484\n"
     ]
    }
   ],
   "source": [
    "def get_msb(x):\n",
    "    p = 0\n",
    "    n = 1\n",
    "    while n <= x:\n",
    "        p += 1\n",
    "        n *= 2\n",
    "    return p - 1\n",
    "\n",
    "\n",
    "def my_ln_02(x):    \n",
    "    x = 1 - x\n",
    "    res = 0\n",
    "    for i in range(1, 20):\n",
    "        res -= fast_pow(x, i) / i\n",
    "    return res\n",
    "\n",
    "#2 = 1.001^6931.81837341456 \n",
    "LN2 = 6931.81837341456 * my_ln_12(1.0001)\n",
    "\n",
    "\n",
    "def my_ln(x):\n",
    "    if x <= 2:\n",
    "        return my_ln_02(x)\n",
    "    \n",
    "    # msb (most significant byte) is the biggest power of 2 <= x\n",
    "    n = get_msb(int(x))\n",
    "    x /= fast_pow(2, n)\n",
    "    return n * LN2 + my_ln_12(x)\n",
    "    \n",
    "    \n",
    "ref, me, dist = check_f(np.linspace(0.1, 1, 10), np.log, my_ln)\n",
    "print(ref)\n",
    "print(me)\n",
    "print(dist)\n",
    "ref, me, dist = check_f(np.linspace(1, 1000, 2000), np.log, my_ln)\n",
    "print(dist)"
   ]
  },
  {
   "cell_type": "markdown",
   "metadata": {},
   "source": [
    "$$x^y = \\exp(\\log(x^y)) = \\exp(y * \\log(x))$$\n",
    "$$x^{-y} = \\frac{1}{x^y}$$"
   ]
  },
  {
   "cell_type": "code",
   "execution_count": 158,
   "metadata": {},
   "outputs": [
    {
     "name": "stdout",
     "output_type": "stream",
     "text": [
      "[0.33333333 0.425506   0.54316607 0.69336127 0.88508815 1.12983096\n",
      " 1.44224957 1.84105755 2.35014311 3.        ]\n",
      "[0.33333332 0.42550599 0.54316606 0.69336127 0.88508815 1.12983097\n",
      " 1.44224959 1.84105758 2.35014317 3.0000001 ]\n",
      "1.2093071443462362e-07\n",
      "1.2911417773478193e-07\n"
     ]
    }
   ],
   "source": [
    "import functools\n",
    "\n",
    "def my_pow(x, y):\n",
    "    if y < 0:\n",
    "        return 1 / my_pow(x, -y)\n",
    "        \n",
    "    return my_exp(y * my_ln(x))\n",
    "\n",
    "\n",
    "ref, me, dist =  check_f(np.linspace(-1, 1, 10), \n",
    "                         functools.partial(np.power, 3.),\n",
    "                         functools.partial(my_pow, 3.))\n",
    "\n",
    "print(ref)\n",
    "print(me)\n",
    "print(dist)\n",
    "\n",
    "ref, me, dist =  check_f(np.linspace(-10, 10, 2000), \n",
    "                         functools.partial(np.power, 4.7),\n",
    "                         functools.partial(my_pow, 4.7))\n",
    "print(dist)"
   ]
  },
  {
   "cell_type": "markdown",
   "metadata": {},
   "source": [
    "Nilakantha series:\n",
    "\n",
    "$$\\pi = 3 + \\sum_{n=0}^\\infty \\frac{(-1)^n * 4}{(2n+2) * (2n+3) * (2n+4)}$$\n",
    "$$\\pi = 3 + \\frac{4}{2 * 3 * 4} - \\frac{4}{4 * 5 * 6} + \\frac{4}{6 * 7 * 8} - \\frac{4}{8 * 9 * 10} + \\text{...}$$"
   ]
  },
  {
   "cell_type": "code",
   "execution_count": 157,
   "metadata": {},
   "outputs": [
    {
     "name": "stdout",
     "output_type": "stream",
     "text": [
      "3.141592653589785\n",
      "3.141592653589793\n",
      "6.389773332290196e-29\n"
     ]
    }
   ],
   "source": [
    "def get_pi(n):\n",
    "    \n",
    "    res = 3.\n",
    "    \n",
    "    for i in range(n):\n",
    "        num = 4. if i % 2 == 0 else -4.\n",
    "        d1 = (i + 1) * 2.        \n",
    "        res += num / (d1 * (d1 + 1) * (d1 + 2))\n",
    "        \n",
    "    return res\n",
    "    \n",
    "PI = get_pi(50000)\n",
    "print(PI)\n",
    "print(math.pi)\n",
    "print((PI - math.pi) ** 2)"
   ]
  },
  {
   "cell_type": "markdown",
   "metadata": {},
   "source": [
    "$$\\sin(-x) = - \\sin(x)$$\n",
    "$$\\sin(x + 2k\\pi) = \\sin(x), \\space \\forall k \\in \\mathbb{N}$$\n",
    "\n",
    "Taylor approximation of $\\sin$ close to $0$:\n",
    "\n",
    "$$\\sin(x) = \\sum_{n=0}^{\\infty} \\frac{(-1)^n}{(2n + 1)!} x^{2n+1} = x - \\frac{x^3}{3!} + \\frac{x^5}{5!} - \\frac{x^7}{7!} + \\text{...}$$"
   ]
  },
  {
   "cell_type": "code",
   "execution_count": 166,
   "metadata": {},
   "outputs": [
    {
     "name": "stdout",
     "output_type": "stream",
     "text": [
      "[ 0.00000000e+00  6.42787610e-01  9.84807753e-01  8.66025404e-01\n",
      "  3.42020143e-01 -3.42020143e-01 -8.66025404e-01 -9.84807753e-01\n",
      " -6.42787610e-01 -2.44929360e-16]\n",
      "[ 0.00000000e+00  6.42787610e-01  9.84807753e-01  8.66025404e-01\n",
      "  3.42020143e-01 -3.42020143e-01 -8.66025404e-01 -9.84807753e-01\n",
      " -6.42787610e-01  1.59872116e-14]\n",
      "2.7020985982140625e-14\n",
      "4.704554106082915e-12\n"
     ]
    }
   ],
   "source": [
    "PIT2 = PI * 2\n",
    "\n",
    "def my_sin(x):\n",
    "    if x < 0:\n",
    "        return - my_sin(-x)\n",
    "    \n",
    "    x = x - int(x / PIT2) * PIT2\n",
    "    \n",
    "    if x > PI:\n",
    "        x = x - PIT2  \n",
    "    \n",
    "    res = x\n",
    "    p = x\n",
    "    x2 = x*x\n",
    "    for n in range(1, 15):\n",
    "        p *= x2\n",
    "        num = p if n % 2 == 0 else -p\n",
    "        res += num / facts[2 * n + 1]\n",
    "    return res\n",
    "    \n",
    "\n",
    "ref, me, dist = check_f(np.linspace(0, 2 * math.pi, 10), np.sin, my_sin)\n",
    "print(ref)\n",
    "print(me)\n",
    "print(dist)\n",
    "ref, me, dist = check_f(np.linspace(-100, 100, 2000), np.sin, my_sin)\n",
    "print(dist)"
   ]
  },
  {
   "cell_type": "markdown",
   "metadata": {},
   "source": [
    "$$\\cos(-x) = \\cos(x)$$\n",
    "$$\\cos(x + 2k\\pi) = \\cos(x), \\space \\forall k \\in \\mathbb{N}$$\n",
    "\n",
    "Taylor approximation of $\\cos$ close to $0$:\n",
    "\n",
    "$$\\cos(x) = \\sum_{n=0}^{\\infty} \\frac{(-1)^n}{(2n)!} x^{2n} = 1 - \\frac{x^2}{2!} + \\frac{x^4}{4!} - \\frac{x^6}{6!} + \\text{...}$$"
   ]
  },
  {
   "cell_type": "code",
   "execution_count": 167,
   "metadata": {},
   "outputs": [
    {
     "name": "stdout",
     "output_type": "stream",
     "text": [
      "[ 1.          0.76604444  0.17364818 -0.5        -0.93969262 -0.93969262\n",
      " -0.5         0.17364818  0.76604444  1.        ]\n",
      "[ 1.          0.76604444  0.17364818 -0.5        -0.93969262 -0.93969262\n",
      " -0.5         0.17364818  0.76604444  1.        ]\n",
      "2.4354991743539337e-14\n",
      "4.760877033257799e-12\n"
     ]
    }
   ],
   "source": [
    "def my_cos(x):\n",
    "    if x < 0:\n",
    "        x = -x\n",
    "    \n",
    "    x = x - int(x / PIT2) * PIT2\n",
    "    \n",
    "    if x > PI:\n",
    "        x = x - PIT2  \n",
    "    \n",
    "    res = 1\n",
    "    p = 1\n",
    "    x2 = x*x\n",
    "    for n in range(1, 15):\n",
    "        p *= x2\n",
    "        num = p if n % 2 == 0 else -p\n",
    "        res += num / facts[2 * n]\n",
    "    return res\n",
    "    \n",
    "\n",
    "ref, me, dist = check_f(np.linspace(0, 2 * math.pi, 10), np.cos, my_cos)\n",
    "print(ref)\n",
    "print(me)\n",
    "print(dist)\n",
    "ref, me, dist = check_f(np.linspace(-100, 100, 2000), np.cos, my_cos)\n",
    "print(dist)"
   ]
  },
  {
   "cell_type": "markdown",
   "metadata": {},
   "source": [
    "$$\\tan(x) = \\frac{\\sin(x)}{\\cos(x)}$$"
   ]
  },
  {
   "cell_type": "code",
   "execution_count": 174,
   "metadata": {},
   "outputs": [
    {
     "name": "stdout",
     "output_type": "stream",
     "text": [
      "[ 0.00000000e+00  8.39099631e-01  5.67128182e+00 -1.73205081e+00\n",
      " -3.63970234e-01  3.63970234e-01  1.73205081e+00 -5.67128182e+00\n",
      " -8.39099631e-01 -2.44929360e-16]\n",
      "[ 0.00000000e+00  8.39099631e-01  5.67128182e+00 -1.73205081e+00\n",
      " -3.63970234e-01  3.63970234e-01  1.73205081e+00 -5.67128182e+00\n",
      " -8.39099631e-01  1.59872116e-14]\n",
      "5.451569792762914e-13\n",
      "8.896578884151276e-06\n"
     ]
    }
   ],
   "source": [
    "def my_tan(x):\n",
    "    return my_sin(x) / my_cos(x)\n",
    "    \n",
    "ref, me, dist = check_f(np.linspace(0, 2 * math.pi, 10), np.tan, my_tan)\n",
    "print(ref)\n",
    "print(me)\n",
    "print(dist)\n",
    "ref, me, dist = check_f(np.linspace(-100, 100, 2000), np.tan, my_tan)\n",
    "print(dist)"
   ]
  },
  {
   "cell_type": "markdown",
   "metadata": {},
   "source": [
    "$$\\sinh(x) = \\frac{e^x - e^{-x}}{2}$$\n",
    "$$e^{-x} = \\frac{1}{e^x}$$"
   ]
  },
  {
   "cell_type": "code",
   "execution_count": 173,
   "metadata": {},
   "outputs": [
    {
     "name": "stdout",
     "output_type": "stream",
     "text": [
      "[-1.17520119 -0.85860205 -0.58457779 -0.33954056 -0.11133988  0.11133988\n",
      "  0.33954056  0.58457779  0.85860205  1.17520119]\n",
      "[-1.17520119 -0.85860205 -0.58457779 -0.33954056 -0.11133988  0.11133988\n",
      "  0.33954056  0.58457779  0.85860205  1.17520119]\n",
      "7.721838581466776e-16\n",
      "3.835947746920957e-06\n"
     ]
    }
   ],
   "source": [
    "def my_sinh(x):\n",
    "    ex = my_exp(x)\n",
    "    return (ex - 1/ex) / 2\n",
    "\n",
    "ref, me, dist = check_f(np.linspace(-1, 1, 10), np.sinh, my_sinh)\n",
    "print(ref)\n",
    "print(me)\n",
    "print(dist)\n",
    "ref, me, dist = check_f(np.linspace(-20, 20, 2000), np.sinh, my_sinh)\n",
    "print(dist)"
   ]
  },
  {
   "cell_type": "markdown",
   "metadata": {},
   "source": [
    "$$\\cosh(x) = \\frac{e^x + e^{-x}}{2}$$\n",
    "$$e^{-x} = \\frac{1}{e^x}$$"
   ]
  },
  {
   "cell_type": "code",
   "execution_count": 175,
   "metadata": {},
   "outputs": [
    {
     "name": "stdout",
     "output_type": "stream",
     "text": [
      "[1.54308063 1.31802788 1.15833121 1.05607187 1.00617919 1.00617919\n",
      " 1.05607187 1.15833121 1.31802788 1.54308063]\n",
      "[1.54308063 1.31802788 1.15833121 1.05607187 1.00617919 1.00617919\n",
      " 1.05607187 1.15833121 1.31802788 1.54308063]\n",
      "4.965068306494546e-16\n",
      "3.826703249726514e-06\n"
     ]
    }
   ],
   "source": [
    "def my_cosh(x):\n",
    "    ex = my_exp(x)\n",
    "    return (ex + 1/ex) / 2\n",
    "\n",
    "ref, me, dist = check_f(np.linspace(-1, 1, 10), np.cosh, my_cosh)\n",
    "print(ref)\n",
    "print(me)\n",
    "print(dist)\n",
    "ref, me, dist = check_f(np.linspace(-20, 20, 2000), np.cosh, my_cosh)\n",
    "print(dist)"
   ]
  },
  {
   "cell_type": "markdown",
   "metadata": {},
   "source": [
    "$$\\tanh(x) = \\frac{\\sinh(x)}{\\cosh(x)} = \\frac{e^{2x} - 1}{e^{2x} + 1}$$"
   ]
  },
  {
   "cell_type": "code",
   "execution_count": 194,
   "metadata": {},
   "outputs": [
    {
     "name": "stdout",
     "output_type": "stream",
     "text": [
      "[-0.76159416 -0.65142936 -0.5046724  -0.32151274 -0.11065611  0.11065611\n",
      "  0.32151274  0.5046724   0.65142936  0.76159416]\n",
      "[-0.76159416 -0.65142936 -0.5046724  -0.32151274 -0.11065611  0.11065611\n",
      "  0.32151274  0.5046724   0.65142936  0.76159416]\n",
      "7.141332153553285e-16\n",
      "1.3185541737247534e-15\n"
     ]
    }
   ],
   "source": [
    "def my_tanh(x):\n",
    "    ex = my_exp(x)\n",
    "    e2x = ex * ex\n",
    "    return (e2x - 1) / (e2x + 1)\n",
    "\n",
    "ref, me, dist = check_f(np.linspace(-1, 1, 10), np.tanh, my_tanh)\n",
    "print(ref)\n",
    "print(me)\n",
    "print(dist)\n",
    "ref, me, dist = check_f(np.linspace(-100, 100, 2000), np.tanh, my_tanh)\n",
    "print(dist)"
   ]
  },
  {
   "cell_type": "markdown",
   "metadata": {},
   "source": [
    "Newton's method is a technique to find the roots of a real-valued function $f(x)$.  \n",
    "We start with an initial guess $x_0$\n",
    "$$x_{n+1} = x_n + \\frac{f(x_n)}{f'(x_n)}$$\n",
    "\n",
    "$f(x_n) = 0$ as $n \\to \\infty$  \n",
    "\n",
    "Compute the square root of $a$:  \n",
    "$$x_{n+1} = x_n - \\frac{x_n^2 - a}{2x_n}$$"
   ]
  },
  {
   "cell_type": "code",
   "execution_count": 193,
   "metadata": {},
   "outputs": [
    {
     "name": "stdout",
     "output_type": "stream",
     "text": [
      "[0.         0.33333333 0.47140452 0.57735027 0.66666667 0.74535599\n",
      " 0.81649658 0.8819171  0.94280904 1.        ]\n",
      "[0.         0.33333333 0.47140452 0.57735027 0.66666667 0.74535599\n",
      " 0.81649658 0.8819171  0.94280904 1.        ]\n",
      "6.308863706625178e-14\n",
      "2.681804845346326e-13\n"
     ]
    }
   ],
   "source": [
    "def my_sqrt(x):\n",
    "    res = x\n",
    "    while (x - res*res)**2 > 1e-25:    \n",
    "        res = res - (res*res - x) / (2 * res)\n",
    "    return res\n",
    "    \n",
    "ref, me, dist = check_f(np.linspace(0, 1, 10), np.sqrt, my_sqrt)\n",
    "print(ref)\n",
    "print(me)\n",
    "print(dist)\n",
    "ref, me, dist = check_f(np.linspace(0, 100, 2000), np.sqrt, my_sqrt)\n",
    "print(dist)"
   ]
  },
  {
   "cell_type": "code",
   "execution_count": null,
   "metadata": {},
   "outputs": [],
   "source": []
  }
 ],
 "metadata": {
  "kernelspec": {
   "display_name": "Python 3",
   "language": "python",
   "name": "python3"
  },
  "language_info": {
   "codemirror_mode": {
    "name": "ipython",
    "version": 3
   },
   "file_extension": ".py",
   "mimetype": "text/x-python",
   "name": "python",
   "nbconvert_exporter": "python",
   "pygments_lexer": "ipython3",
   "version": "3.6.7"
  }
 },
 "nbformat": 4,
 "nbformat_minor": 2
}
