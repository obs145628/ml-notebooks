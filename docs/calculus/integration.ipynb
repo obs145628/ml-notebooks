{
 "cells": [
  {
   "cell_type": "code",
   "execution_count": 69,
   "metadata": {},
   "outputs": [],
   "source": [
    "import sys\n",
    "sys.path.append('..')\n",
    "\n",
    "import math\n",
    "import numpy as np\n",
    "import scipy.integrate as integrate\n",
    "import scipy.special\n",
    "\n",
    "import metrics"
   ]
  },
  {
   "cell_type": "markdown",
   "metadata": {},
   "source": [
    "# Definiton\n",
    "\n",
    "Let $f$ a function: $f: \\mathbb{R} \\to \\mathbb{R}$  \n",
    "The definite integral of $f$ in the interval $[a, b]$ is denoted:\n",
    "\n",
    "$$\\int_a^b f(x)dx$$\n",
    "\n",
    "It represents the signed area of the region between the x-axis and the function curve of $f$, in the interval $[a, b]$.  \n",
    "\n",
    "Let $F$ a function: $F: \\mathbb{R} \\to \\mathbb{R}$ such that:\n",
    "\n",
    "$$\\frac{d}{dx}F(x) = f(x) \\forall x \\in \\mathbb{R}$$\n",
    "\n",
    "$$\\int_a^b f(x)dx = [F(x)]_a^b = F(b) - F(a)$$\n",
    "\n",
    "$F$ can be referred as the integral of $f$, denoted sometimes as:\n",
    "\n",
    "$$F(x) = \\int f(x)dx$$"
   ]
  },
  {
   "cell_type": "code",
   "execution_count": 28,
   "metadata": {},
   "outputs": [
    {
     "name": "stdout",
     "output_type": "stream",
     "text": [
      "ref: 32\n",
      "est: 31.93464\n"
     ]
    }
   ],
   "source": [
    "'''\n",
    "Apprimate the area under the curve of a between a and b\n",
    "Suppose f always positive\n",
    "'''\n",
    "def est_auc_pos(f, a, b, height, n):\n",
    "    \n",
    "    below = 0\n",
    "    for _ in range(n):\n",
    "    \n",
    "        x = np.random.rand() * (b - a) + a\n",
    "        y = np.random.rand() * height\n",
    "        \n",
    "        if y <= f(x): #point below curve\n",
    "            below += 1\n",
    "        \n",
    "    area = (below / n) * (b - a) * height\n",
    "    return area\n",
    "        \n",
    "        \n",
    "\n",
    "def fconst(c):\n",
    "    return lambda x: c\n",
    "\n",
    "v1 = 4 * 3 - 4 *(-5)\n",
    "v2 = est_auc_pos(fconst(4), -5, 3, 10, 1000000)\n",
    "print('ref:', v1)\n",
    "print('est:', v2)"
   ]
  },
  {
   "cell_type": "code",
   "execution_count": 32,
   "metadata": {},
   "outputs": [
    {
     "name": "stdout",
     "output_type": "stream",
     "text": [
      "ref: 72\n",
      "est: 71.99839999999999\n"
     ]
    }
   ],
   "source": [
    "def faff(a, b):\n",
    "    return lambda x: a*x + b\n",
    "\n",
    "v1 =(7**2 + 3*7) - ((-1)**2 +3 *(-1))\n",
    "v2 = est_auc_pos(faff(2, 3), -1, 7, 25, 1000000)\n",
    "print('ref:', v1)\n",
    "print('est:', v2)"
   ]
  },
  {
   "cell_type": "code",
   "execution_count": 34,
   "metadata": {},
   "outputs": [
    {
     "name": "stdout",
     "output_type": "stream",
     "text": [
      "ref: 72\n",
      "est: 71.9852187397812\n"
     ]
    }
   ],
   "source": [
    "'''\n",
    "Apprimate the area under the curve of a between a and b\n",
    "'''\n",
    "def est_auc(f, a, b, height, n):\n",
    "    \n",
    "    total_above = 0\n",
    "    above = 0\n",
    "    total_below = 0\n",
    "    below = 0\n",
    "    for _ in range(n):\n",
    "    \n",
    "        x = np.random.rand() * (b - a) + a\n",
    "        y = np.random.rand() * 2 * height - height\n",
    "        \n",
    "        if y >= 0:\n",
    "            total_above += 1\n",
    "            if y <= f(x): #point below curve\n",
    "                above += 1\n",
    "        else:\n",
    "            total_below += 1\n",
    "            if y >= f(x): #point above curve\n",
    "                below += 1\n",
    "       \n",
    "    area_above = (above / total_above) * (b - a) * height\n",
    "    area_below = (below / total_below) * (b - a) * height\n",
    "    area = area_above - area_below\n",
    "    return area\n",
    "\n",
    "v1 =(7**2 + 3*7) - ((-1)**2 +3 *(-1))\n",
    "v2 = est_auc(faff(2, 3), -1, 7, 25, 1000000)\n",
    "print('ref:', v1)\n",
    "print('est:', v2)"
   ]
  },
  {
   "cell_type": "code",
   "execution_count": 73,
   "metadata": {},
   "outputs": [
    {
     "name": "stdout",
     "output_type": "stream",
     "text": [
      "ref: 41.666666666666664\n",
      "est: 41.659614916462836\n"
     ]
    }
   ],
   "source": [
    "def fquad(a, b, c):\n",
    "    return lambda x: a*x**2 + b*x + c\n",
    "\n",
    "f = fquad(1, 4, -2)\n",
    "def fi(x): return x**3/3 + 2*x**2 - 2*x\n",
    "\n",
    "\n",
    "v1 = fi(4) - fi(-1)\n",
    "v2 = est_auc(f, -1, 4, 40, 1000000)\n",
    "print('ref:', v1)\n",
    "print('est:', v2)"
   ]
  },
  {
   "cell_type": "markdown",
   "metadata": {},
   "source": [
    "# Numerical Integration\n",
    "\n",
    "Integration can be computed numerically"
   ]
  },
  {
   "cell_type": "code",
   "execution_count": 74,
   "metadata": {},
   "outputs": [
    {
     "name": "stdout",
     "output_type": "stream",
     "text": [
      "41.666666666666664\n",
      "41.66666666666666\n",
      "5.048709793414476e-29\n"
     ]
    }
   ],
   "source": [
    "v1 = fi(4) - fi(-1)\n",
    "v2, _ = integrate.quad(f, -1, 4)\n",
    "print(v1)\n",
    "print(v2)\n",
    "print((v1-v2)**2)"
   ]
  },
  {
   "cell_type": "markdown",
   "metadata": {},
   "source": [
    "## Adaptative Quadrature\n",
    "\n",
    "The algorithm computes the integral of a function on in interval by making approximations on exponentially smallers intervals until it gets a precise enough approximation, and suming all the computed integrals.  \n",
    "\n",
    "It's based on the trapezoidal rule, that approximates the area under the curve by approximating the functions as linear parts. The area under the curve can then be calculated by computing the area of the estimated trapezoids.\n",
    "\n",
    "The trapezoidal rule on n points is defined by:\n",
    "\n",
    "$$\\int_a^b f(x)dx \\approx \\frac{b-a}{2*n} (f(x_0) + 2 * \\sum_{i=1}^{n-1} f(x_i) + f(x_n))$$\n",
    "\n",
    "with $x_0,\\text{...},x_n$ points evenly distributed between $a$ and $b$\n",
    "\n",
    "For $n = 1$:\n",
    "\n",
    "$$\\int_a^b f(x)dx \\approx \\frac{b-a}{2} (f(a) + f(b))$$\n",
    "\n",
    "For $n = 2$:\n",
    "\n",
    "$$\\int_a^b f(x)dx \\approx \\frac{b-a}{4} (f(a) + 2f((a+b)/2) + f(b))$$\n",
    "\n",
    "We can compute the error between the 2 approximations, and if it's small enough, return the second, more precise approximation.  \n",
    "Otherwhise we half the $[a, b]$ interval, recurvisely compute the integral of the 2 sub-intervals, and add the twos to get the final result"
   ]
  },
  {
   "cell_type": "code",
   "execution_count": 76,
   "metadata": {},
   "outputs": [
    {
     "name": "stdout",
     "output_type": "stream",
     "text": [
      "41.666666666666664\n",
      "41.6666679084301\n",
      "1.5419764289726684e-12\n"
     ]
    }
   ],
   "source": [
    "def adapt_quad(f, a, b, tol=1e-6):\n",
    "    m = (a + b) / 2\n",
    "    \n",
    "    i1 = (b - a)/2 * (f(a) + f(b))\n",
    "    i2 = (b - a)/4 * (f(a) + 2 * f(m) + f(b))\n",
    "    \n",
    "    if np.abs(i1 - i2) < (b - a) * tol:\n",
    "        return i2\n",
    "    else:\n",
    "        return adapt_quad(f, a, m, tol) + adapt_quad(f, m, b, tol)\n",
    "    \n",
    "    \n",
    "v1 = fi(4) - fi(-1)\n",
    "v2 = adapt_quad(f, -1, 4)\n",
    "print(v1)\n",
    "print(v2)\n",
    "print((v1-v2)**2)"
   ]
  },
  {
   "cell_type": "code",
   "execution_count": 77,
   "metadata": {},
   "outputs": [
    {
     "name": "stdout",
     "output_type": "stream",
     "text": [
      "ref: -705.1022457795194\n",
      "est: -705.1022459191877\n",
      "1.9507222622462592e-14\n"
     ]
    }
   ],
   "source": [
    "def f(x): return np.cos(2*x**2 + 0.3*x -0.2) - 0.4*x**3 + 1.001**x + np.log(0.3 + 3.1*x**2) -1.4\n",
    "\n",
    "\n",
    "v1, _ = integrate.quad(f, -7, 10)\n",
    "v2 = adapt_quad(f, -7, 10)\n",
    "print('ref:', v1)\n",
    "print('est:', v2)\n",
    "print((v1-v2)**2)"
   ]
  },
  {
   "cell_type": "code",
   "execution_count": 79,
   "metadata": {},
   "outputs": [
    {
     "name": "stdout",
     "output_type": "stream",
     "text": [
      "ref: 0.42839235504666845\n",
      "est: 0.42839228030072246\n",
      "5.5869564416738084e-15\n"
     ]
    }
   ],
   "source": [
    "## Gauss errror function\n",
    "\n",
    "def my_erf(x):\n",
    "    f = lambda x: math.exp(-x**2)\n",
    "    i = adapt_quad(f, 0, x)\n",
    "    return 2 / math.sqrt(math.pi) * i\n",
    "    \n",
    "\n",
    "v1 = scipy.special.erf(0.4)\n",
    "v2 = my_erf(0.4)\n",
    "print('ref:', v1)\n",
    "print('est:', v2)\n",
    "print((v1-v2)**2)"
   ]
  },
  {
   "cell_type": "code",
   "execution_count": null,
   "metadata": {},
   "outputs": [],
   "source": []
  }
 ],
 "metadata": {
  "kernelspec": {
   "display_name": "Python 3",
   "language": "python",
   "name": "python3"
  },
  "language_info": {
   "codemirror_mode": {
    "name": "ipython",
    "version": 3
   },
   "file_extension": ".py",
   "mimetype": "text/x-python",
   "name": "python",
   "nbconvert_exporter": "python",
   "pygments_lexer": "ipython3",
   "version": "3.6.7"
  }
 },
 "nbformat": 4,
 "nbformat_minor": 2
}
