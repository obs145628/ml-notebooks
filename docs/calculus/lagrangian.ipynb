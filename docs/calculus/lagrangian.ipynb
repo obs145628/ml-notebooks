{
 "cells": [
  {
   "cell_type": "code",
   "execution_count": 1,
   "metadata": {},
   "outputs": [],
   "source": [
    "import sys\n",
    "sys.path.append('..')\n",
    "\n",
    "import numpy as np\n",
    "import matplotlib.pyplot as plt"
   ]
  },
  {
   "cell_type": "markdown",
   "metadata": {},
   "source": [
    "Lagrangian is a technique to transform a constrained optimization problem into an unconstrained one"
   ]
  },
  {
   "cell_type": "markdown",
   "metadata": {},
   "source": [
    "# One equality constraint\n",
    "\n",
    "Minimize $f(x,y,\\text{...})$  \n",
    "subject to $g(x,y,\\text{...}) = 0$  \n",
    "\n",
    "The function is transformed into:\n",
    "$$\\mathcal{L}(x,y,\\text{...}, \\lambda) = f(x,y,\\text{...}) + \\lambda g(x,y,\\text{...})$$\n",
    "\n",
    "with $\\lambda \\in \\mathbb{R}$ a new variable.  \n",
    "\n",
    "The new objective becomes:\n",
    "\n",
    "$$\\min_{x} \\max_{\\lambda} L(x, \\text{...}, \\lambda)$$"
   ]
  },
  {
   "cell_type": "markdown",
   "metadata": {},
   "source": [
    "## Multiple equality constraints\n",
    "\n",
    "This can be extend to several constraints\n",
    "\n",
    "Minimize $f(x,y,\\text{...})$  \n",
    "subject to $g_i(x,y,\\text{...}) = 0$, $i=1,$...,$E$  \n",
    "\n",
    "The function is transformed into:\n",
    "$$\\mathcal{L}(x,y,\\text{...}, \\lambda) = f(x,y,\\text{...}) + \\sum_{i=1}^E \\lambda_i g_i(x,y,\\text{...})$$\n",
    "\n",
    "with $\\lambda \\in \\mathbb{R}^E$ a new variable. \n",
    "\n",
    "The new objective becomes:\n",
    "\n",
    "$$\\min_{x} \\max_{\\lambda} L(x, \\text{...}, \\lambda)$$"
   ]
  }
 ],
 "metadata": {
  "kernelspec": {
   "display_name": "Python 3",
   "language": "python",
   "name": "python3"
  },
  "language_info": {
   "codemirror_mode": {
    "name": "ipython",
    "version": 3
   },
   "file_extension": ".py",
   "mimetype": "text/x-python",
   "name": "python",
   "nbconvert_exporter": "python",
   "pygments_lexer": "ipython3",
   "version": "3.6.7"
  }
 },
 "nbformat": 4,
 "nbformat_minor": 2
}
