{
 "cells": [
  {
   "cell_type": "markdown",
   "metadata": {},
   "source": [
    "# Vector functions"
   ]
  },
  {
   "cell_type": "markdown",
   "metadata": {},
   "source": [
    "Let $f: \\mathbb{R}^n \\to \\mathbb{R}$, $x, x_o, \\Delta x \\in \\mathbb{R}^n$\n",
    "\n",
    "The second order taylor approximation of $f$ is:\n",
    "\n",
    "$$f(x) \\approx f(x^0) + (x - x_0)^Tg + \\frac{1}{2}(x - x^0)^TH(x - x^0)$$\n",
    "\n",
    "$$\\text{with } g = \\frac{\\partial f(x^0)}{\\partial x} \\text { and } H = \\frac{\\partial^2 f(x^0)}{\\partial x \\partial x^T}$$\n",
    "\n",
    "$$f(x^0 + \\Delta x) \\approx f(x^0) + \\Delta x^Tg + \\frac{1}{2}\\Delta x^TH\\Delta x$$\n",
    "\n",
    "We find a critical point by solving:\n",
    "\n",
    "$$\\frac{\\partial}{\\partial \\Delta x} f(x^0 + \\Delta x) = 0$$\n",
    "\n",
    "$$\\Delta x = - H^{-1}g$$"
   ]
  },
  {
   "cell_type": "markdown",
   "metadata": {},
   "source": [
    "Is the funcion $f$ is quadratic, the second order approximation will be exact, and only one iteration will be enough to jump to a critical point.  \n",
    "Otherwhise, applying this update several times will converge"
   ]
  }
 ],
 "metadata": {
  "kernelspec": {
   "display_name": "Python 3",
   "language": "python",
   "name": "python3"
  },
  "language_info": {
   "codemirror_mode": {
    "name": "ipython",
    "version": 3
   },
   "file_extension": ".py",
   "mimetype": "text/x-python",
   "name": "python",
   "nbconvert_exporter": "python",
   "pygments_lexer": "ipython3",
   "version": "3.6.7"
  }
 },
 "nbformat": 4,
 "nbformat_minor": 2
}
