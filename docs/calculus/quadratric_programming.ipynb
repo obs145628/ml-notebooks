{
 "cells": [
  {
   "cell_type": "code",
   "execution_count": 2,
   "metadata": {},
   "outputs": [],
   "source": [
    "import sys\n",
    "sys.path.append('..')\n",
    "\n",
    "import cvxopt\n",
    "import numpy as np\n",
    "import matplotlib.pyplot as plt\n",
    "\n",
    "import metrics"
   ]
  },
  {
   "cell_type": "markdown",
   "metadata": {},
   "source": [
    "The objective is:\n",
    "    \n",
    "$$\\min_{x} \\frac{1}{2} x^T P x + q^Tx$$\n",
    "$$\\text{s.t. } Gx \\leq h$$\n",
    "$$\\text{s.t. } Ax = b$$\n",
    "\n",
    "with:\n",
    "- $x \\in \\mathbb{R}^n$, the unknown we are looking for\n",
    "- $P \\in \\mathbb{R}^{n*n}$\n",
    "- $q \\in \\mathbb{R}^n$\n",
    "- $G \\in \\mathbb{R}^{m * n}$\n",
    "- $h \\in \\mathbb{R}^m$\n",
    "- $A \\in \\mathbb{R}^{p * n}$\n",
    "- $b \\in \\mathbb{R}^p$"
   ]
  },
  {
   "cell_type": "code",
   "execution_count": 56,
   "metadata": {},
   "outputs": [],
   "source": [
    "def plot_data(b, b0, X, y):\n",
    "\n",
    "    #bo + b1x1 + b2x2 = 0 => x2 = -b1/b2*x1 - b0/b2 \n",
    "    x1 = np.linspace(np.min(X[:,0]) - 10, np.max(X[:,0]) + 10, 1000)\n",
    "    plt.plot(x1, -b[0]/b[1]*x1 -b0/b[1])\n",
    "    \n",
    "    b10 = b / np.linalg.norm(b) * 10\n",
    "    plt.plot([0, b10[0]], [-b0/b[1], b10[1]-b0/b[1]], c='y')\n",
    "    \n",
    "    for i in range(len(X)):\n",
    "        plt.scatter(X[i][0], X[i][1], c=('r' if y[i] == 1 else 'g'))\n",
    "\n",
    "    plt.axis('equal')\n",
    "    plt.grid()\n",
    "    plt.show()\n",
    "\n",
    "def plot_data_support(b, b0, X, y):\n",
    "\n",
    "    #bo + b1x1 + b2x2 = 0 => x2 = -b1/b2*x1 - b0/b2 \n",
    "    x1 = np.linspace(np.min(X[:,0]) - 10, np.max(X[:,0]) + 10, 1000)\n",
    "    plt.plot(x1, -b[0]/b[1]*x1 -b0/b[1])\n",
    "    plt.plot(x1, (1 - b0 - b[0] * x1)/b[1], c='orange')\n",
    "    plt.plot(x1, (-1 - b0 - b[0] * x1)/b[1], c='orange')\n",
    "            \n",
    "    b10 = b / np.linalg.norm(b) * 10\n",
    "    plt.plot([0, b10[0]], [-b0/b[1], b10[1]-b0/b[1]], c='y')\n",
    "    \n",
    "    for i in range(len(X)):\n",
    "        plt.scatter(X[i][0], X[i][1], c=('r' if y[i] == 1 else 'g'))\n",
    "\n",
    "    plt.axis('equal')\n",
    "    plt.grid()\n",
    "    plt.show()\n",
    "\n",
    "def svm_hard_lib(X, y):\n",
    "    n, p = X.shape\n",
    "    X = X.astype(np.double)\n",
    "    y = y.astype(np.double)\n",
    "    \n",
    "    H = (y.reshape(-1, 1)*X @ (y.reshape(-1, 1)*X).T)\n",
    "    \n",
    "    P = cvxopt.matrix(H)\n",
    "    q = cvxopt.matrix(-np.ones((n, 1)))\n",
    "    G = cvxopt.matrix(-np.eye(n))\n",
    "    h = cvxopt.matrix(np.zeros((n,)))\n",
    "    A = cvxopt.matrix(y.reshape(1, -1))\n",
    "    b = cvxopt.matrix(np.zeros((1,)))\n",
    "    \n",
    "    cvxopt.solvers.options['show_progress'] = False\n",
    "    cvxopt.solvers.options['abstol'] = 1e-10\n",
    "    cvxopt.solvers.options['reltol'] = 1e-10\n",
    "    cvxopt.solvers.options['feastol'] = 1e-10\n",
    "    \n",
    "    sol = cvxopt.solvers.qp(P, q, G, h, A, b)\n",
    "    alpha = np.array(sol['x']).flatten()\n",
    "    \n",
    "    beta = (y * alpha) @ X\n",
    "    S = (alpha > 1e-4)\n",
    "    beta0 = y[S] - (X[S] @ beta)\n",
    "    beta0 = np.mean(beta0)\n",
    "    \n",
    "    return alpha, beta, beta0"
   ]
  },
  {
   "cell_type": "code",
   "execution_count": 70,
   "metadata": {},
   "outputs": [
    {
     "name": "stdout",
     "output_type": "stream",
     "text": [
      "alpha = [4.48336250e-11 1.30718954e-02 1.30718954e-02]\n",
      "beta = [0.15686275 0.03921569]\n",
      "beta0 = 0.29411764755425784\n"
     ]
    },
    {
     "data": {
      "image/png": "[encoded data removed]",
      "text/plain": [
       "<Figure size 432x288 with 1 Axes>"
      ]
     },
     "metadata": {
      "needs_background": "light"
     },
     "output_type": "display_data"
    }
   ],
   "source": [
    "X = np.array([\n",
    "    [10, 1],\n",
    "    [4, 2],\n",
    "    [-8, -1]\n",
    "])\n",
    "y = np.array([\n",
    "    1,\n",
    "    1,\n",
    "    -1\n",
    "])\n",
    "\n",
    "alpha_ref, beta_ref, beta0_ref = svm_hard_lib(X, y)\n",
    "print('alpha =', alpha_ref)\n",
    "print('beta =', beta_ref)\n",
    "print('beta0 =', beta0_ref)\n",
    "plot_data_support(beta_ref, beta0_ref, X, y)"
   ]
  },
  {
   "cell_type": "code",
   "execution_count": 71,
   "metadata": {},
   "outputs": [
    {
     "name": "stdout",
     "output_type": "stream",
     "text": [
      "alpha = [2.64926778e-01 1.08766882e-12 2.82986912e-12 1.49301958e-11\n",
      " 1.34503762e-12 7.12935312e-12 2.62526127e-12 1.44833518e-13\n",
      " 4.01791819e-12 3.92182076e-02 2.63401040e-12 1.19652476e-12\n",
      " 9.75367128e-13 3.85021290e-13 1.45322696e-12 3.04144986e-01\n",
      " 4.49445516e-13 1.07180325e-12 1.03454379e-12 4.67622026e-13\n",
      " 1.33920667e-12 6.09329737e-13 2.82967211e-12 7.31659608e-13]\n",
      "beta = [0.60863972 0.48769628]\n",
      "beta0 = 0.4945487191858977\n"
     ]
    },
    {
     "data": {
      "image/png": "[encoded data removed]",
      "text/plain": [
       "<Figure size 432x288 with 1 Axes>"
      ]
     },
     "metadata": {
      "needs_background": "light"
     },
     "output_type": "display_data"
    }
   ],
   "source": [
    "np.random.seed(18)\n",
    "\n",
    "N = 25\n",
    "P = 2\n",
    "X21 = np.random.randn(int(N/2), P) * 2 - 3.4\n",
    "X22 = np.random.randn(int(N/2), P) * (-2) + 4.2\n",
    "X2 = np.concatenate((X21, X22), axis=0)\n",
    "rb = np.random.randn(P)\n",
    "rb0 = np.random.randn()\n",
    "y2 = np.sign(X2 @ rb + rb0)\n",
    "\n",
    "alpha_ref2, beta_ref2, beta0_ref2 = svm_hard_lib(X2, y2)\n",
    "print('alpha =', alpha_ref2)\n",
    "print('beta =', beta_ref2)\n",
    "print('beta0 =', beta0_ref2)\n",
    "plot_data_support(beta_ref2, beta0_ref2, X2, y2)"
   ]
  },
  {
   "cell_type": "markdown",
   "metadata": {},
   "source": [
    "## Interior point method\n",
    "\n",
    "Solve the following problem:\n",
    "\n",
    "$$\\min_{x} \\frac{1}{2} x^TQx + c^Tx$$\n",
    "$$\\text{s.t. } Ax = b$$\n",
    "$$\\text{s.t. } x_i \\geq 0 i=1,\\text{...},n$$\n",
    "\n",
    "with $x \\in \\mathbb{R}^n$, $Q \\in \\mathbb{R}^{n*n}$, $c \\in \\mathbb{R}^n$, $A \\in \\mathbb{R}^{m*n}$, $b \\in \\mathbb{R}^m$.  \n",
    "\n",
    "We replace the inequalies contraints by the log-barrier:\n",
    "\n",
    "$$\\min_{x} \\frac{1}{2} x^TQx + c^Tx - \\mu \\sum_{j=1}^n \\ln x_j$$\n",
    "$$\\text{s.t. } Ax = b$$\n",
    "\n",
    "with $\\mu \\geq 0$ the barrier parameter\n",
    "\n",
    "The Lagrangian is:\n",
    "\n",
    "$$\\mathcal{L}(x, y, \\mu) = x^TQx + c^Tx - y^T(Ax - b) - \\mu \\sum_{j=1}^n \\ln x_j$$\n",
    "\n",
    "Find stationnary points:\n",
    "\n",
    "$$\\frac{\\partial}{\\partial x} \\mathcal{L}(x,y,\\mu) = 0$$\n",
    "$$c - A^Ty - \\mu X^{-1}e + Qx = 0$$\n",
    "\n",
    "with $e \\in \\mathbb{R}^n$ a vector of ones, and $X \\in \\mathbb{R}^{n*n} = \\text{diag}(x)$  \n",
    "\n",
    "$$\\frac{\\partial}{\\partial y} \\mathcal{L}(x,y,\\mu) = 0$$\n",
    "$$Ax - b = 0$$\n",
    "\n",
    "Let's define $s \\in \\mathbb{R}^n$ and $S \\in \\mathbb{R}^{n*n} = \\text{diag}(s)$ such that:\n",
    "$$s = \\mu X^{-1}e, \\text{ i.e. } X Se = \\mu e$$\n",
    "\n",
    "The first order optimality conditions are:\n",
    "\n",
    "$$Ax - b = \\vec{0}$$\n",
    "$$A^Ty + s - Qx - c = \\vec{0}$$\n",
    "$$X Se - \\mu e = \\vec{0}$$\n",
    "\n",
    "Let $F: \\mathbb{R}^{2n + m} \\to \\mathbb{R}^{2n + m}$ an application defined as:\n",
    "\n",
    "$$\n",
    "\\begin{gather}\n",
    "F(x, y, s) =\n",
    "  \\begin{bmatrix}\n",
    "   Ax - b \\\\\n",
    "   A^Ty + s - Qx - c \\\\\n",
    "   XSe - \\mu e\n",
    "   \\end{bmatrix}\n",
    "\\end{gather}\n",
    "$$\n",
    "\n",
    "This forms a large system of non-linear equations (two firsts blocks are linear, bust last block is not).  \n",
    "The objective is to solve $F(x,y,s) = \\vec{0}$\n",
    "\n",
    "The system can be solved using the newton method:\n",
    "\n",
    "The Jacobian of $F$ is:\n",
    "\n",
    "$$\n",
    "\\begin{gather}\n",
    "J(F) =\n",
    "  \\begin{bmatrix}\n",
    "   A & 0 & 0 \\\\\n",
    "   -Q & A^T & I\\\\\n",
    "   S & 0 & X\n",
    "   \\end{bmatrix}\n",
    "\\end{gather}\n",
    "$$\n",
    "\n",
    "The newton step can by calculated by solving $J(F) \\Delta x = -F(x)$.  \n",
    "We then have a system of linear eqations:\n",
    "\n",
    "$$\n",
    "\\begin{gather}\n",
    " \\begin{bmatrix}\n",
    "   A & 0 & 0 \\\\\n",
    "   -Q & A^T & I\\\\\n",
    "   S & 0 & X\n",
    "   \\end{bmatrix}\n",
    "   \\cdot\n",
    "   \\begin{bmatrix}\n",
    "   \\Delta x\\\\\n",
    "   \\Delta y\\\\\n",
    "   \\Delta s\n",
    "   \\end{bmatrix}\n",
    " =\n",
    "\\begin{bmatrix}\n",
    "   b - Ax \\\\\n",
    "   c - A^Ty - s + Qx\\\\\n",
    "   \\mu e - XSe\n",
    "   \\end{bmatrix}\n",
    "\\end{gather}\n",
    "$$"
   ]
  },
  {
   "cell_type": "markdown",
   "metadata": {},
   "source": [
    "### Algorithm\n",
    "\n",
    "#### Initialization\n",
    "\n",
    "Start with initial vectors $x, y, s$ and, an initial value for $\\mu$, such that $x_i > 0$, $s_i > 0$, and $\\mu > 0$.  \n",
    "Can be chosen randomly\n",
    "\n",
    "\n",
    "#### Iteration\n",
    "\n",
    "Determine $\\Delta x, \\Delta y, \\Delta s$ by solving the linear system above.  \n",
    "\n",
    "$$x \\leftarrow x + \\alpha \\Delta x$$\n",
    "$$y \\leftarrow y + \\alpha \\Delta x$$\n",
    "$$s \\leftarrow s + \\alpha \\Delta x$$\n",
    "\n",
    "with $\\alpha \\in \\mathbb{R}, \\alpha > 0$ learning rate.\n",
    "\n",
    "$\\alpha$ should be chosen sutch that:\n",
    "$$x_i + \\alpha \\Delta x_i > 0$$\n",
    "$$s_i + \\alpha \\Delta s_i > 0$$\n",
    "\n",
    "Decrease $\\mu$, should converge to $0$\n",
    "\n",
    "\n",
    "#### Termination\n",
    "    \n",
    "Stop when the solution of the third equation, non linear, is precise enough:\n",
    "$$\\mu e - XSe = 0$$\n",
    "$$\\mu = x^Ts$$\n",
    "\n",
    "Af $k \\to \\infty$, $\\mu \\to 0$, so the equation is:\n",
    "$$x^Ts = 0$$\n",
    "\n",
    "So the stop condition is:\n",
    "$$x^Ts < \\epsilon$$\n",
    "with $\\epsilon > 0$ an error thresold close to $0$"
   ]
  },
  {
   "cell_type": "code",
   "execution_count": 348,
   "metadata": {},
   "outputs": [
    {
     "name": "stdout",
     "output_type": "stream",
     "text": [
      "iter: 223\n",
      "alpha = [3.28979308e-11 1.30718955e-02 1.30718955e-02]\n",
      "beta = [0.15686275 0.03921569]\n",
      "beta0 = 0.29411764880187136\n",
      "diff: 1.0261982259819589e-10\n"
     ]
    },
    {
     "data": {
      "image/png": "[encoded data removed]",
      "text/plain": [
       "<Figure size 432x288 with 1 Axes>"
      ]
     },
     "metadata": {
      "needs_background": "light"
     },
     "output_type": "display_data"
    }
   ],
   "source": [
    "def point_method_qp(Q, c, A, b):\n",
    "    \n",
    "    MAX_ITERS = 500\n",
    "    ERR_THRESH = 1e-10\n",
    "    ALPHA_MAX= 0.1\n",
    "    \n",
    "    n = Q.shape[0]\n",
    "    m = A.shape[0]\n",
    "    \n",
    "    #Initialize values\n",
    "    x = np.random.rand(n)\n",
    "    y = np.random.rand(m)\n",
    "    s = np.random.rand(n)\n",
    "    e = np.ones(n)\n",
    "    mu = 0.9\n",
    "    \n",
    "    for k in range(MAX_ITERS):\n",
    "        \n",
    "        X = np.diag(x)\n",
    "        S = np.diag(s)\n",
    "        \n",
    "        #build jacobian matrix of F\n",
    "        ll1 = np.concatenate((A, np.zeros((m, m+n))), axis=1)\n",
    "        ll2 = np.concatenate((-Q, A.T, np.eye(n)), axis=1)\n",
    "        ll3 = np.concatenate((S, np.zeros((n, m)), X), axis=1)\n",
    "        J = np.concatenate((ll1, ll2, ll3), axis=0)\n",
    "        \n",
    "        #build right-hand of system\n",
    "        rl1 = b - A@x\n",
    "        rl2 = c - A.T@y - s + Q@x\n",
    "        rl3 = mu * e - X@S@e\n",
    "        RS = np.concatenate((rl1, rl2, rl3), axis=0)\n",
    "        \n",
    "        #Get delta\n",
    "        delta_full = np.linalg.solve(J, RS)\n",
    "        dx = delta_full[:n]\n",
    "        dy = delta_full[n:m+n]\n",
    "        ds = delta_full[m+n:]\n",
    "            \n",
    "        step = np.concatenate((-x / dx, -s / ds))\n",
    "        a_max = step[np.argmin(np.abs((step)))]\n",
    "        a_max = a_max * 0.5\n",
    "        if a_max < 0:\n",
    "            a_max = ALPHA_MAX\n",
    "        \n",
    "        lr = min(ALPHA_MAX, a_max)\n",
    "        x += lr * dx\n",
    "        y += lr * dy\n",
    "        s += lr * ds\n",
    "        mu *= 0.5\n",
    "        \n",
    "        #terminal criterion\n",
    "        err = x @ s\n",
    "        if err < ERR_THRESH:\n",
    "            break\n",
    "        \n",
    "        #break\n",
    "        \n",
    "    \n",
    "    print('iter:', k)\n",
    "    return x\n",
    "\n",
    "\n",
    "def svm_hard(X, y):\n",
    "    n, p = X.shape\n",
    "    X = X.astype(np.double)\n",
    "    y = y.astype(np.double)\n",
    "    \n",
    "    Q = (y.reshape(-1, 1)*X @ (y.reshape(-1, 1)*X).T)\n",
    "    c = -np.ones(n)\n",
    "    A = y.reshape(1, -1)\n",
    "    b = np.zeros(1)\n",
    "    alpha = point_method_qp(Q, c, A, b)\n",
    "    \n",
    "    beta = (y * alpha) @ X\n",
    "    S = (alpha > 1e-4)\n",
    "    beta0 = y[S] - (X[S] @ beta)\n",
    "    beta0 = np.mean(beta0)\n",
    "    \n",
    "    return alpha, beta, beta0\n",
    "    \n",
    "alpha, beta, beta0 = svm_hard(X, y)\n",
    "print('alpha =', alpha)\n",
    "print('beta =', beta)\n",
    "print('beta0 =', beta0)\n",
    "print('diff:', metrics.tdist(alpha, alpha_ref))\n",
    "\n",
    "plot_data_support(beta, beta0, X, y)"
   ]
  },
  {
   "cell_type": "code",
   "execution_count": 349,
   "metadata": {},
   "outputs": [
    {
     "name": "stdout",
     "output_type": "stream",
     "text": [
      "iter: 238\n",
      "alpha = [2.64926778e-01 1.58959081e-12 6.09910978e-12 9.77431473e-12\n",
      " 1.32584215e-12 7.48981470e-12 1.06179380e-12 1.91587511e-12\n",
      " 3.56336768e-12 3.92182076e-02 1.30567475e-12 8.01181264e-13\n",
      " 6.63942905e-13 4.36238993e-13 2.04046038e-12 3.04144986e-01\n",
      " 4.40684666e-13 9.26134210e-13 1.03729550e-12 1.23617856e-12\n",
      " 1.30390509e-12 1.91788806e-12 3.11299422e-12 2.56209518e-13]\n",
      "beta = [0.60863972 0.48769628]\n",
      "beta0 = 0.4945487197465103\n",
      "diff: 2.7124445272978356e-10\n"
     ]
    },
    {
     "data": {
      "image/png": "[encoded data removed]",
      "text/plain": [
       "<Figure size 432x288 with 1 Axes>"
      ]
     },
     "metadata": {
      "needs_background": "light"
     },
     "output_type": "display_data"
    }
   ],
   "source": [
    "alpha, beta, beta0 = svm_hard(X2, y2)\n",
    "print('alpha =', alpha)\n",
    "print('beta =', beta)\n",
    "print('beta0 =', beta0)\n",
    "print('diff:', metrics.tdist(alpha, alpha_ref2))\n",
    "\n",
    "plot_data_support(beta, beta0, X2, y2)"
   ]
  },
  {
   "cell_type": "code",
   "execution_count": 350,
   "metadata": {},
   "outputs": [
    {
     "name": "stdout",
     "output_type": "stream",
     "text": [
      "beta: [0.60863972 0.48769628]\n",
      "beta_0: 0.4945487197465103\n",
      "Indices of support vectors: [ 0  9 15]\n",
      "Support vectors: [[-3.24114311  0.98040471]\n",
      " [ 0.73409373 -3.98064823]\n",
      " [-0.72740321  1.94419727]]\n",
      "Number of support vectors for each class: [2 1]\n",
      "Accuracy: 1.0\n"
     ]
    }
   ],
   "source": [
    "S = (alpha > 1e-4)\n",
    "S_idxs = np.arange(len(X2))[S]\n",
    "S_vecs = X2[S_idxs]\n",
    "S_nc = np.array([\n",
    "    np.sum(y2[S_idxs] == -1),\n",
    "    np.sum(y2[S_idxs] == +1),\n",
    "])\n",
    "\n",
    "y_pred = np.sign(X2 @ beta + beta0)\n",
    "acc = np.average(y2 == y_pred)\n",
    "\n",
    "print('beta:', beta)\n",
    "print('beta_0:', beta0)\n",
    "print('Indices of support vectors:', S_idxs)\n",
    "print('Support vectors:', S_vecs)\n",
    "print('Number of support vectors for each class:', S_nc)\n",
    "print('Accuracy:', acc)"
   ]
  },
  {
   "cell_type": "code",
   "execution_count": 351,
   "metadata": {},
   "outputs": [
    {
     "name": "stdout",
     "output_type": "stream",
     "text": [
      "beta: [[0.60842821 0.48764409]]\n",
      "beta_0: [0.49430228]\n",
      "Indices of support vectors: [ 0  9 15]\n",
      "Support vectors: [[-3.24114311  0.98040471]\n",
      " [ 0.73409373 -3.98064823]\n",
      " [-0.72740321  1.94419727]]\n",
      "Number of support vectors for each class: [2 1]\n",
      "Accuracy: 1.0\n"
     ]
    }
   ],
   "source": [
    "#Comparing with sklearn\n",
    "\n",
    "from sklearn.svm import SVC\n",
    "clf = SVC(C = 1e10, kernel = 'linear')\n",
    "clf.fit(X2, y2)\n",
    "\n",
    "y_pred = clf.predict(X2)\n",
    "acc = np.average(y2 == y_pred)\n",
    "\n",
    "print('beta:', clf.coef_)\n",
    "print('beta_0:', clf.intercept_)\n",
    "print('Indices of support vectors:', clf.support_)\n",
    "print('Support vectors:', clf.support_vectors_)\n",
    "print('Number of support vectors for each class:', clf.n_support_)\n",
    "print('Accuracy:', acc)"
   ]
  }
 ],
 "metadata": {
  "kernelspec": {
   "display_name": "Python 3",
   "language": "python",
   "name": "python3"
  },
  "language_info": {
   "codemirror_mode": {
    "name": "ipython",
    "version": 3
   },
   "file_extension": ".py",
   "mimetype": "text/x-python",
   "name": "python",
   "nbconvert_exporter": "python",
   "pygments_lexer": "ipython3",
   "version": "3.6.7"
  }
 },
 "nbformat": 4,
 "nbformat_minor": 2
}
