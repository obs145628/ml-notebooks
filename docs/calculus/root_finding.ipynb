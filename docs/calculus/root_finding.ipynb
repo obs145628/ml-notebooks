{
 "cells": [
  {
   "cell_type": "code",
   "execution_count": 11,
   "metadata": {},
   "outputs": [],
   "source": [
    "import sys\n",
    "sys.path.append('..')\n",
    "\n",
    "import math\n",
    "import matplotlib.pyplot as plt\n",
    "import numpy as np\n",
    "import scipy\n",
    "\n",
    "import metrics"
   ]
  },
  {
   "cell_type": "markdown",
   "metadata": {},
   "source": [
    "Root findings algorithms are algorithms to compute the roots of a continuous function."
   ]
  },
  {
   "cell_type": "markdown",
   "metadata": {},
   "source": [
    "# Real functions\n",
    "\n",
    "Let $f: \\mathbb{R} \\to \\mathbb{R}$.  \n",
    "The goal is to find $x \\in \\mathbb{R}$ such that $f(x) =0$"
   ]
  },
  {
   "cell_type": "markdown",
   "metadata": {},
   "source": [
    "## Bisection method\n",
    "\n",
    "The bisection method start with 2 number $a$ and $b$ such that $a < b$ and $f(a)$ is of opposed sign to $f(b)$.\n",
    "\n",
    "It computes the midpoint $c$:\n",
    "$$c = \\frac{a+b}{2}$$\n",
    "\n",
    "then 3 possibilites:\n",
    "- $f(c) \\approx 0$: $c$ is a root\n",
    "- $f(c)$ is of same sign than $f(a)$: keep searching with $[c,b]$\n",
    "- $f(c)$ is of same sign than $f(b)$: keep searching with $[a,c]$"
   ]
  },
  {
   "cell_type": "code",
   "execution_count": 50,
   "metadata": {},
   "outputs": [
    {
     "name": "stdout",
     "output_type": "stream",
     "text": [
      "[-3.09023231e+00 -1.27644063e+00 -8.38767842e-01 -5.22389164e-01\n",
      " -2.51795418e-01  1.25205990e-03  2.54381035e-01  5.25261523e-01\n",
      "  8.42332969e-01  1.28211644e+00]\n",
      "[-3.090232306130929, -1.2764406343944756, -0.8387678422332101, -0.5223891635955624, -0.2517954179336357, 0.0012520598954779416, 0.254381034810649, 0.5252615229744606, 0.8423329692368497, 1.282116442584993]\n",
      "8.036040496073416e-11\n"
     ]
    }
   ],
   "source": [
    "import scipy.stats\n",
    "\n",
    "def root_bisection(f, a, b):\n",
    "    MAX_ITERS = 500\n",
    "    TOL = 1e-25\n",
    "    \n",
    "    for i in range(MAX_ITERS):\n",
    "        \n",
    "        c = (a + b) / 2\n",
    "        fc = f(c)\n",
    "        if fc**2 < TOL:\n",
    "            break\n",
    "            \n",
    "        if np.sign(fc) == np.sign(f(a)):\n",
    "            a = c\n",
    "        else:\n",
    "            b = c\n",
    "        \n",
    "    return c\n",
    "\n",
    "\n",
    "def norm_cdf(x):\n",
    "    return 1/2 * (1 + scipy.special.erf(x / np.sqrt(2)))\n",
    "\n",
    "def norm_quantile(x):\n",
    "    def f(v):\n",
    "        return norm_cdf(v) - x\n",
    "    return root_bisection(f, -10, 10)\n",
    "\n",
    "def randn_qt(size):\n",
    "    u = np.random.rand(size)\n",
    "    x = np.array([norm_quantile(v) for v in u])\n",
    "    return x\n",
    "\n",
    "v = np.linspace(1e-3, 1-1e-3, 1000)\n",
    "b1 = scipy.stats.norm.ppf(v)\n",
    "b2 = [norm_quantile(x) for x in v]\n",
    "print(b1[::100])\n",
    "print(b2[::100])\n",
    "print(metrics.tdist(b1, b2))"
   ]
  },
  {
   "cell_type": "markdown",
   "metadata": {},
   "source": [
    "## Secant Method\n",
    "\n",
    "Start with initial values $x_0$ and $x_1$, and define $y_0=f(x_0)$, $y_1=f(x_1)$\n",
    "\n",
    "We find the line passing by $(x_0,y_0)$, and $(x_1,y_1)$:\n",
    "$$y = ax + b$$\n",
    "$$a = \\frac{y_1 - y_0}{x_1 - x_0}$$\n",
    "$$b = y_1 - ax_1$$\n",
    "\n",
    "This simplifies at:\n",
    "$$y = a(x - x_1) + y_1$$\n",
    "\n",
    "Solving for $y=0$, we get:\n",
    "$$x = x_1 - y_1 * \\frac{1}{a}$$\n",
    "\n",
    "We define the next point $x_2$ as:\n",
    "\n",
    "$$x_2 = x_1 - f(x_1) \\frac{x_1 - x_0}{f(x_1) - f(x_0)}$$  \n",
    "\n",
    "$x_2$ is a closer approximation than $x_0$ and $x_1$ to $f(x) = 0$.  \n",
    "We repeat the process iteratively. $x_n$ converges to the solution."
   ]
  },
  {
   "cell_type": "code",
   "execution_count": 64,
   "metadata": {},
   "outputs": [
    {
     "name": "stdout",
     "output_type": "stream",
     "text": [
      "[-3.09023231e+00 -1.27644063e+00 -8.38767842e-01 -5.22389164e-01\n",
      " -2.51795418e-01  1.25205990e-03  2.54381035e-01  5.25261523e-01\n",
      "  8.42332969e-01  1.28211644e+00]\n",
      "[-3.090232306167058, -1.2764406343940464, -0.8387678422325504, -0.522389163595099, -0.2517954179337919, 0.001252059895742148, 0.2543810348108902, 0.5252615229742582, 0.8423329692359971, 1.282116442586217]\n",
      "1.5835924257365702e-11\n"
     ]
    }
   ],
   "source": [
    "\n",
    "def root_secant(f, x0, x1):\n",
    "    \n",
    "    MAX_ITERS = 500\n",
    "    TOL = 1e-25\n",
    "    \n",
    "    for i in range(MAX_ITERS):\n",
    "        y0 = f(x0)\n",
    "        y1 = f(x1)\n",
    "        if y1**2 < TOL:\n",
    "            break\n",
    "            \n",
    "        #print('f({:.3f})={:.3f}, f({:.3f})={:.3f}'.format(x0, y0, x1, y1))    \n",
    "            \n",
    "            \n",
    "        x2 = x1 - y1 * (x1-x0)/(y1-y0) \n",
    "        \n",
    "        x0 = x1\n",
    "        x1 = x2\n",
    "            \n",
    "    return x1\n",
    "    \n",
    "\n",
    "def norm_cdf(x):\n",
    "    return 1/2 * (1 + scipy.special.erf(x / np.sqrt(2)))\n",
    "\n",
    "def norm_quantile(x):\n",
    "    def f(v):\n",
    "        return norm_cdf(v) - x\n",
    "    return root_secant(f, -1, 1)\n",
    "\n",
    "def randn_qt(size):\n",
    "    u = np.random.rand(size)\n",
    "    x = np.array([norm_quantile(v) for v in u])\n",
    "    return x\n",
    "\n",
    "v = np.linspace(1e-3, 1-1e-3, 1000)\n",
    "b1 = scipy.stats.norm.ppf(v)\n",
    "b2 = [norm_quantile(x) for x in v]\n",
    "print(b1[::100])\n",
    "print(b2[::100])\n",
    "print(metrics.tdist(b1, b2))"
   ]
  }
 ],
 "metadata": {
  "kernelspec": {
   "display_name": "Python 3",
   "language": "python",
   "name": "python3"
  },
  "language_info": {
   "codemirror_mode": {
    "name": "ipython",
    "version": 3
   },
   "file_extension": ".py",
   "mimetype": "text/x-python",
   "name": "python",
   "nbconvert_exporter": "python",
   "pygments_lexer": "ipython3",
   "version": "3.6.7"
  }
 },
 "nbformat": 4,
 "nbformat_minor": 2
}
