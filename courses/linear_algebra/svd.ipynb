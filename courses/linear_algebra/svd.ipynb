{
 "cells": [
  {
   "cell_type": "code",
   "execution_count": 1,
   "metadata": {},
   "outputs": [],
   "source": [
    "import sys\n",
    "sys.path.append('../../pyutils')\n",
    "\n",
    "import numpy as np\n",
    "\n",
    "import metrics\n",
    "\n",
    "np.random.seed(12)"
   ]
  },
  {
   "cell_type": "markdown",
   "metadata": {},
   "source": [
    "# SVD (Singular Value Decomposition)"
   ]
  },
  {
   "cell_type": "markdown",
   "metadata": {},
   "source": [
    "let $M \\in \\mathbb{R}^{m*n}$\n",
    "The singular value decomposition of $M$ is:\n",
    "\n",
    "$$M = U \\Sigma V^T$$\n",
    "\n",
    "$U$: $m * m$ orthogonal matrix.  \n",
    "$\\Sigma$: $m * n$ rectangular diagonal matrix with non-negative numbers on the diagonal.  \n",
    "$V$: $n * n$ orthogonal matrix."
   ]
  },
  {
   "cell_type": "markdown",
   "metadata": {},
   "source": [
    "The columns of $U$ are the left-singular vectors of $M$, and the eigeinvectors of $MM^T$.  \n",
    "The columns of $V$ are the right-singular vectors of $M$, and the eigeinvectors of $M^TM$.  \n",
    "The diagonal entries of $\\Sigma$ are the singular values of $M$ and the square root of the eigeinvalues of $MM^T$ ($or M^TM$)."
   ]
  },
  {
   "cell_type": "markdown",
   "metadata": {},
   "source": [
    "## Implementation (Golub - Reincsh SVD)"
   ]
  },
  {
   "cell_type": "markdown",
   "metadata": {},
   "source": [
    "### Ressources\n",
    "\n",
    "- http://people.duke.edu/~hpgavin/SystemID/References/Golub+Reinsch-NM-1970.pdf\n",
    "- http://www.cs.utexas.edu/users/inderjit/public_papers/HLA_SVD.pdf"
   ]
  },
  {
   "cell_type": "markdown",
   "metadata": {},
   "source": [
    "1 Use Houlesholder transformations to reduce A to bidiagonal form.  \n",
    "2 Use QR to find the singular values of the bidiagonaal matrix.  \n",
    "3 Combine results to get SVD of A"
   ]
  },
  {
   "cell_type": "markdown",
   "metadata": {},
   "source": [
    "### Householder transformation\n",
    "\n",
    "Let $x \\in \\mathbb{R^n}$, $v \\in \\mathbb{R}^n$\n",
    "$$x \\to x - 2v(v^Tx)$$\n",
    "\n",
    "The householder matrix is the projection matrix for that transformation.\n",
    "$$P = I - 2vv^T$$"
   ]
  },
  {
   "cell_type": "markdown",
   "metadata": {},
   "source": [
    "### Bidiagonalization\n",
    "\n",
    "Transform the matrix $A \\in \\mathbb{R}^{m*n}$, $m \\geq n$ to bidiagonal form.\n",
    "\n",
    "$$P^TAQ = J^0$$\n",
    "\n",
    "$J^0$ upper bidiagonal matrix of size $m*n$.  \n",
    "$P$ orthogonal matrix of size $m*m$.  \n",
    "$Q$ orthogonal matrix of size $n*n$.    \n",
    "$P$ and $Q$ are sequances of householder matrices."
   ]
  },
  {
   "cell_type": "code",
   "execution_count": 2,
   "metadata": {},
   "outputs": [],
   "source": [
    "def house_vect(x):\n",
    "    v = x.copy()\n",
    "    v[0] = x[0] + np.sign(x[0]) * np.linalg.norm(x)\n",
    "    return v\n",
    "    \n",
    "def house_mat(v):\n",
    "    return np.eye(len(v)) - 2 * np.outer(v, v) / (v@v)\n",
    "\n",
    "def bidiagonalize(A):\n",
    "    m, n = A.shape\n",
    "    P = np.eye(m)\n",
    "    Q = np.eye(n)\n",
    "    B = A.copy()\n",
    "    \n",
    "    for j in range(n):\n",
    "        \n",
    "        B_sub = B[j:, j:]\n",
    "        v = house_vect(B_sub[:, 0])\n",
    "        H = np.eye(m)\n",
    "        H[j:, j:] = house_mat(v)\n",
    "        B = H @ B\n",
    "        P = P @ H.T\n",
    "        \n",
    "        if j < n - 2:\n",
    "        \n",
    "            B_sub = B[j:, j+1:]\n",
    "            v = house_vect(B_sub[0])\n",
    "            H = np.eye(n)\n",
    "            H[j+1:, j+1:] = house_mat(v)\n",
    "            B = B @ H\n",
    "            Q = Q @ H.T\n",
    "        \n",
    "    return P, B, Q"
   ]
  },
  {
   "cell_type": "code",
   "execution_count": 3,
   "metadata": {},
   "outputs": [
    {
     "name": "stdout",
     "output_type": "stream",
     "text": [
      "[[ 0.47298583 -0.68142588  0.2424395  -1.70073563]\n",
      " [ 0.75314283 -1.53472134  0.00512708 -0.12022767]\n",
      " [-0.80698188  2.87181939 -0.59782292  0.47245699]\n",
      " [ 1.09595612 -1.2151688   1.34235637 -0.12214979]\n",
      " [ 1.01251548 -0.91386915 -1.02953021  1.20979645]]\n",
      "[[-1.91532422 -3.2070338   0.          0.        ]\n",
      " [ 0.         -1.94402668  1.01069445  0.        ]\n",
      " [ 0.          0.          2.11979381 -0.22319192]\n",
      " [ 0.          0.          0.         -1.27923758]\n",
      " [ 0.          0.          0.          0.        ]]\n",
      "9.602048270223544e-16\n",
      "8.727009981945935e-16\n",
      "4.015450725665593e-16\n",
      "4.0594436152518875e-16\n",
      "2.849816482246977e-15\n",
      "9.341587213510637e-16\n"
     ]
    }
   ],
   "source": [
    "A = np.random.randn(5, 4)\n",
    "print(A)\n",
    "U, B, V = bidiagonalize(A)\n",
    "\n",
    "B[np.abs(B) < 1e-10] = 0\n",
    "print(B)\n",
    "\n",
    "print(metrics.tdist(U.T @ U, np.eye(A.shape[0])))\n",
    "print(metrics.tdist(U @ U.T, np.eye(A.shape[0])))\n",
    "print(metrics.tdist(V.T @ V, np.eye(A.shape[1])))\n",
    "print(metrics.tdist(V @ V.T, np.eye(A.shape[1])))\n",
    "print(metrics.tdist(U @ B @ V.T, A))\n",
    "print(metrics.tdist(U.T @ A @ V, B))"
   ]
  },
  {
   "cell_type": "code",
   "execution_count": 4,
   "metadata": {},
   "outputs": [
    {
     "name": "stdout",
     "output_type": "stream",
     "text": [
      "[[ 0.5018723   0.13884618  0.64076111  0.52733267 -1.15436024]\n",
      " [-2.21333348 -1.68175651 -1.78809425 -2.21853495 -0.64743078]\n",
      " [-0.52840432 -0.03920917  0.21497595 -0.3843588  -0.25390408]\n",
      " [ 0.07325207 -0.99720384 -0.71385629  0.03541635 -0.67794537]\n",
      " [-0.57188106 -0.10586232  1.33583134  0.31866529 -0.33759525]]\n",
      "[[-2.40048867  3.06020607  0.          0.          0.        ]\n",
      " [ 0.         -1.90671592 -1.22299727  0.          0.        ]\n",
      " [ 0.          0.          0.38335897  1.50406777  0.        ]\n",
      " [ 0.          0.          0.          0.55758043 -0.64119558]\n",
      " [ 0.          0.          0.          0.          0.12554414]]\n",
      "5.588720735742759e-16\n",
      "5.553909732345586e-16\n",
      "5.298405386522589e-16\n",
      "5.921083967483366e-16\n",
      "1.0949609758478446e-15\n",
      "6.241204495255766e-16\n"
     ]
    }
   ],
   "source": [
    "A = np.random.randn(5, 5)\n",
    "print(A)\n",
    "U, B, V = bidiagonalize(A)\n",
    "\n",
    "B[np.abs(B) < 1e-10] = 0\n",
    "print(B)\n",
    "\n",
    "print(metrics.tdist(U.T @ U, np.eye(A.shape[0])))\n",
    "print(metrics.tdist(U @ U.T, np.eye(A.shape[0])))\n",
    "print(metrics.tdist(V.T @ V, np.eye(A.shape[1])))\n",
    "print(metrics.tdist(V @ V.T, np.eye(A.shape[1])))\n",
    "print(metrics.tdist(U @ B @ V.T, A))\n",
    "print(metrics.tdist(U.T @ A @ V, B))"
   ]
  },
  {
   "cell_type": "code",
   "execution_count": 5,
   "metadata": {},
   "outputs": [
    {
     "name": "stdout",
     "output_type": "stream",
     "text": [
      "[[-0.58526828 -0.11491994  2.24181779]\n",
      " [-3.14741652  0.53513589  0.23249044]\n",
      " [ 0.86761195 -1.14821271  2.11434424]\n",
      " [ 1.00094276 -0.051415    0.1597877 ]\n",
      " [-0.71626359  0.05052283 -0.14333741]\n",
      " [ 0.94357539  0.35764423 -0.0834492 ]\n",
      " [ 0.6778061   0.55606037  0.22271946]]\n",
      "[[ 3.72373412  0.53453933  0.        ]\n",
      " [ 0.          1.45498399  2.02079949]\n",
      " [ 0.          0.         -2.28622672]\n",
      " [ 0.          0.          0.        ]\n",
      " [ 0.          0.          0.        ]\n",
      " [ 0.          0.          0.        ]\n",
      " [ 0.          0.          0.        ]]\n",
      "8.282041397872977e-16\n",
      "8.583257731368093e-16\n",
      "1.1104540521305056e-16\n",
      "1.1104540521305056e-16\n",
      "2.042700056545788e-15\n",
      "7.12003122376992e-16\n"
     ]
    }
   ],
   "source": [
    "A = np.random.randn(7, 3)\n",
    "print(A)\n",
    "U, B, V = bidiagonalize(A)\n",
    "\n",
    "B[np.abs(B) < 1e-10] = 0\n",
    "print(B)\n",
    "\n",
    "print(metrics.tdist(U.T @ U, np.eye(A.shape[0])))\n",
    "print(metrics.tdist(U @ U.T, np.eye(A.shape[0])))\n",
    "print(metrics.tdist(V.T @ V, np.eye(A.shape[1])))\n",
    "print(metrics.tdist(V @ V.T, np.eye(A.shape[1])))\n",
    "print(metrics.tdist(U @ B @ V.T, A))\n",
    "print(metrics.tdist(U.T @ A @ V, B))"
   ]
  },
  {
   "cell_type": "markdown",
   "metadata": {},
   "source": [
    "The singular values of $J^0$ are the same than $A$.  \n",
    "$$J^0 = G\\Sigma H^T$$\n",
    "$$A = PG \\Sigma H^T Q^T$$\n",
    "$$U = PG$$\n",
    "$$V = QH$$"
   ]
  },
  {
   "cell_type": "markdown",
   "metadata": {},
   "source": [
    "### SVD of a bidiagonal matrix"
   ]
  },
  {
   "cell_type": "markdown",
   "metadata": {},
   "source": []
  },
  {
   "cell_type": "markdown",
   "metadata": {},
   "source": [
    "### Eigenvalues and eigeinvectors a a symetric matrix"
   ]
  },
  {
   "cell_type": "markdown",
   "metadata": {},
   "source": [
    "Let $B = P^{-1}AP$.  \n",
    "The matrices $A$ and $B$ are said to be similar. They share several properties, one of them is they both have the same eigenvalues.\n",
    "\n",
    "The QR algorithm:  \n",
    "- $[Q_k, R_k] \\leftarrow qr(A_k)$\n",
    "- $A_{k+1} \\leftarrow R_kQ_k$\n",
    "\n",
    "$A_k$, $k \\to \\infty$ converges to a triangular matrix with the eigenvalues on its diagonal.\n",
    "\n",
    "$$A = QR$$\n",
    "$$Q = Q^{-1}$$\n",
    "$$R = Q^TA$$\n",
    "$$A_{k+1} = R_kQ_k = Q_k^TA_kQ_k$$\n",
    "$A_1$, $A_2$ ..., $A_k$ are similar so they share the same eigenvalues: the diagonal entries of $A_k$\n",
    "\n",
    "If $A$ symetrics, $Q_1Q_2$...$Q_k$ is a matrix whose columns are the eigeinvectors of $A$"
   ]
  },
  {
   "cell_type": "code",
   "execution_count": 6,
   "metadata": {},
   "outputs": [],
   "source": [
    "def qr_algorithm(A, max_iters=100, prec=1e-6):\n",
    "    \n",
    "    Ak = A.copy()\n",
    "    Qk = np.eye(A.shape[0])\n",
    " \n",
    "    for k in range(max_iters):\n",
    "        \n",
    "        Q, R = np.linalg.qr(Ak)\n",
    "        Ak = R @ Q\n",
    "        Qk = Qk @ Q\n",
    "        \n",
    "        if np.linalg.norm(Ak - np.triu(Ak)) < prec:\n",
    "            break\n",
    "    \n",
    "    vals = np.diag(Ak)\n",
    "    vects = Qk\n",
    "    return vals, vects\n",
    "\n",
    "def test_eig(A, fn): \n",
    "\n",
    "    vals, vects = fn(A)\n",
    "    vals_sol, vects_sol = np.linalg.eigh(A)\n",
    "    vals_sol = vals_sol[::-1]\n",
    "    vects_sol = vects_sol[:, ::-1]\n",
    "\n",
    "    for i in range(vects.shape[1]):\n",
    "        if vects[0, i] < 0: vects[:, i] = -vects[:, i]\n",
    "        if vects_sol[0, i] < 0: vects_sol[:, i] = -vects_sol[:, i]\n",
    "\n",
    "    #print(A @ vects_sol[:, 0] - vects_sol[:, 0] * vals_sol[0])\n",
    "    print(vals)\n",
    "    print(vals_sol)\n",
    "    print(metrics.tdist(vals, vals_sol))\n",
    "    print(metrics.tdist(vects, vects_sol))"
   ]
  },
  {
   "cell_type": "code",
   "execution_count": 7,
   "metadata": {},
   "outputs": [
    {
     "name": "stdout",
     "output_type": "stream",
     "text": [
      "[ 1.32671370e+01  2.62818435e+00  8.03618898e-02 -1.97806793e-16]\n",
      "[ 1.32671370e+01  2.62818435e+00  8.03618898e-02 -1.10876012e-15]\n",
      "6.283949477084132e-14\n",
      "9.090398311204039e-08\n",
      "[13.26713699  2.62818435  0.08036189]\n",
      "[13.26713699  2.62818435  0.08036189]\n",
      "1.0802243336484212e-13\n",
      "1.1876547222095116e-07\n"
     ]
    }
   ],
   "source": [
    "A = np.random.randn(4, 3)\n",
    "AAT = A @ A.T\n",
    "ATA = A.T @ A\n",
    "\n",
    "test_eig(AAT, qr_algorithm)\n",
    "test_eig(ATA, qr_algorithm)"
   ]
  },
  {
   "cell_type": "code",
   "execution_count": 8,
   "metadata": {},
   "outputs": [],
   "source": [
    "def qr_algorithm_shift(A, max_iters=100, prec=1e-6):\n",
    "    \n",
    "    Ak = A.copy()\n",
    "    Qk = np.eye(A.shape[0])\n",
    "    I = np.eye(A.shape[0])\n",
    "        \n",
    "    for k in range(max_iters):\n",
    "        \n",
    "        lbda = 0.01\n",
    "        \n",
    "        Q, R = np.linalg.qr(Ak - lbda * I)\n",
    "        Ak = R @ Q + lbda * I\n",
    "        Qk = Qk @ Q\n",
    "        \n",
    "        if np.linalg.norm(Ak - np.triu(Ak)) < prec:\n",
    "            break\n",
    "    \n",
    "    vals = np.diag(Ak)\n",
    "    vects = Qk\n",
    "    return vals, vects"
   ]
  },
  {
   "cell_type": "code",
   "execution_count": 9,
   "metadata": {},
   "outputs": [
    {
     "name": "stdout",
     "output_type": "stream",
     "text": [
      "[1.07393364e+01 3.40381620e+00 3.90479548e-01 1.75207071e-16]\n",
      "[1.07393364e+01 3.40381620e+00 3.90479548e-01 4.47097334e-16]\n",
      "1.1809819656721822e-13\n",
      "1.5155503025945444e-07\n",
      "[10.73933638  3.4038162   0.39047955]\n",
      "[10.73933638  3.4038162   0.39047955]\n",
      "1.391134812859608e-13\n",
      "1.624867961266813e-07\n"
     ]
    }
   ],
   "source": [
    "A = np.random.randn(4, 3)\n",
    "AAT = A @ A.T\n",
    "ATA = A.T @ A\n",
    "\n",
    "test_eig(AAT, qr_algorithm_shift)\n",
    "test_eig(ATA, qr_algorithm_shift)"
   ]
  },
  {
   "cell_type": "markdown",
   "metadata": {},
   "source": [
    "## SVD computing $AA^T$"
   ]
  },
  {
   "cell_type": "markdown",
   "metadata": {},
   "source": [
    "$$A v_i = \\sigma_i u_i$$\n",
    "$$A^T u_i = \\sigma_i v_i$$\n",
    "\n",
    "We can compute the SVD of $A$ naively:\n",
    "- Find the left singular vectors and the singular values by applying the QR algorithm on $AA^T$\n",
    "- Find the right singular vectors by computing $v_i = \\frac{A^T u_i}{\\sigma_i}$"
   ]
  },
  {
   "cell_type": "code",
   "execution_count": 10,
   "metadata": {},
   "outputs": [],
   "source": [
    "def svd_naive(A):\n",
    "    lvals, lvects = qr_algorithm(A @ A.T)\n",
    "    U = lvects \n",
    "    S = np.sqrt(lvals[:A.shape[1]])\n",
    "    \n",
    "    VT = np.empty((A.shape[1], A.shape[1]))\n",
    "    for i in range(A.shape[1]):\n",
    "        VT[i] = (A.T @ U[:, i]) / S[i]\n",
    "    \n",
    "    return U, S, VT"
   ]
  },
  {
   "cell_type": "code",
   "execution_count": 11,
   "metadata": {},
   "outputs": [
    {
     "name": "stdout",
     "output_type": "stream",
     "text": [
      "2.3467323954533475e-15\n",
      "2.4014112774011663e-15\n",
      "7.639478459177362e-07\n",
      "7.639478459163297e-07\n",
      "2.2371996705809764e-13\n",
      "4.791998321464427e-15\n"
     ]
    }
   ],
   "source": [
    "A = np.random.randn(4, 3)\n",
    "U_sol, S_sol, VT_sol = np.linalg.svd(A)\n",
    "\n",
    "U, S, VT = svd_naive(A)\n",
    "\n",
    "print(metrics.tdist(U @ U.T, np.eye(A.shape[0])))\n",
    "print(metrics.tdist(U.T @ U, np.eye(A.shape[0])))\n",
    "print(metrics.tdist(VT @ VT.T, np.eye(A.shape[1])))\n",
    "print(metrics.tdist(VT.T @ VT, np.eye(A.shape[1])))\n",
    "print(metrics.tdist(S, S_sol))\n",
    "\n",
    "S_mat = np.zeros(A.shape)\n",
    "S_mat[:len(S),:len(S)] = np.diag(S)\n",
    "print(metrics.tdist(U @ S_mat @ VT, A))"
   ]
  },
  {
   "cell_type": "markdown",
   "metadata": {},
   "source": [
    "##  Naive SVD with bidiagonalization"
   ]
  },
  {
   "cell_type": "code",
   "execution_count": 12,
   "metadata": {},
   "outputs": [
    {
     "name": "stdout",
     "output_type": "stream",
     "text": [
      "3.149284723413304e-15\n",
      "3.1003034947406494e-15\n",
      "1.692369970107095e-07\n",
      "1.6923699700461946e-07\n",
      "3.488362438322582e-14\n",
      "9.483132718540592e-15\n"
     ]
    }
   ],
   "source": [
    "def svd_naive_bidioagonal(A):\n",
    "    P, J, Q = bidiagonalize(A)\n",
    "    G, S, HT = svd_naive(J)\n",
    "    U = P @ G\n",
    "    VT = HT @ Q.T\n",
    "    return U, S, VT\n",
    "    \n",
    "A = np.random.randn(4, 3)\n",
    "U_sol, S_sol, VT_sol = np.linalg.svd(A)\n",
    "\n",
    "U, S, VT = svd_naive_bidioagonal(A)\n",
    "\n",
    "print(metrics.tdist(U @ U.T, np.eye(A.shape[0])))\n",
    "print(metrics.tdist(U.T @ U, np.eye(A.shape[0])))\n",
    "print(metrics.tdist(VT @ VT.T, np.eye(A.shape[1])))\n",
    "print(metrics.tdist(VT.T @ VT, np.eye(A.shape[1])))\n",
    "print(metrics.tdist(S, S_sol))\n",
    "\n",
    "S_mat = np.zeros(A.shape)\n",
    "S_mat[:len(S),:len(S)] = np.diag(S)\n",
    "print(metrics.tdist(U @ S_mat @ VT, A))"
   ]
  },
  {
   "cell_type": "markdown",
   "metadata": {},
   "source": [
    "## SVD of bidiagonal matrix"
   ]
  },
  {
   "cell_type": "markdown",
   "metadata": {},
   "source": [
    "Let $J_0$ of size $m * n$ upper bidiagonal matrix.  \n",
    "$J$ is iteratively diagonalized to $\\Sigma$\n",
    "$$J_{i+1} = S_i^T J_i T_i$$\n",
    "$S_i$ and $T_i$ are orthogonal matrices that represent given rotations.\n",
    "\n",
    "Let $M_i= J_i^TJ_i$ tridiagonal matrix\n",
    "$$M_{i+1} = T_i^T M_i T_i$$\n",
    "\n",
    "The transformation $M_i \\to M_{i+1}$ is actually a $QR$ transformation wit shift $s$.\n",
    "$$M_i - sI = T_sR_s$$\n",
    "$$M_{i+1} = R_sT_s + sI$$"
   ]
  },
  {
   "cell_type": "markdown",
   "metadata": {},
   "source": [
    "Maybe:\n",
    "- $J_k \\to \\Sigma$ (diagonal matrix), singular values of $J_0$\n",
    "- SVD of diagonal matrix is $IDI$\n",
    "- $S_1$, $S_2$, ..., $T_1$, $T_2$, ... orthogonal matrices\n",
    "- $U = S_1 S_2$ ...\n",
    "- $V = T_1 T_2$ ..."
   ]
  },
  {
   "cell_type": "code",
   "execution_count": null,
   "metadata": {},
   "outputs": [],
   "source": []
  }
 ],
 "metadata": {
  "kernelspec": {
   "display_name": "Python 3",
   "language": "python",
   "name": "python3"
  },
  "language_info": {
   "codemirror_mode": {
    "name": "ipython",
    "version": 3
   },
   "file_extension": ".py",
   "mimetype": "text/x-python",
   "name": "python",
   "nbconvert_exporter": "python",
   "pygments_lexer": "ipython3",
   "version": "3.6.7"
  }
 },
 "nbformat": 4,
 "nbformat_minor": 2
}
