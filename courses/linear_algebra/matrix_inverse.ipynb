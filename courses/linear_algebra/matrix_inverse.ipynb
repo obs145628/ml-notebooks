{
 "cells": [
  {
   "cell_type": "code",
   "execution_count": 1,
   "metadata": {},
   "outputs": [],
   "source": [
    "import sys\n",
    "sys.path.append('../../pyutils')\n",
    "\n",
    "import numpy as np\n",
    "from scipy.linalg import solve_triangular\n",
    "\n",
    "import metrics"
   ]
  },
  {
   "cell_type": "markdown",
   "metadata": {},
   "source": [
    "# Definition\n",
    "\n",
    "Let $A \\in \\mathbb{R}^{n*n}$  \n",
    "$A$ is inversible iff it exists a matrix denoted $A^{-1} \\in \\mathbb{R}^{n*n}$, called the inverse of $A$, such that:\n",
    "$$AA^{-1} = A^{-1}A = I_n$$\n",
    "\n",
    "A matrix that is not inversible is called a singular matrix."
   ]
  },
  {
   "cell_type": "code",
   "execution_count": 5,
   "metadata": {},
   "outputs": [
    {
     "name": "stdout",
     "output_type": "stream",
     "text": [
      "[[ 0.60630553  0.93127023 -0.40118604 -2.89004315]\n",
      " [ 1.06221503  0.01206272  0.97233158 -1.07325908]\n",
      " [-0.43327464 -0.72019161 -1.33276614 -0.66945338]\n",
      " [ 0.901832   -1.10465848 -1.75269344 -1.06234581]]\n",
      "[[ 0.03541159 -0.14674323 -1.08587007  0.73619328]\n",
      " [ 0.5017093  -0.88685637 -1.0590419   0.19847051]\n",
      " [-0.20827848  0.73736375  0.49535284 -0.49048453]\n",
      " [-0.14800623 -0.41891908 -0.63782849  0.28648821]]\n",
      "5.551115123125783e-16\n",
      "8.635508522760763e-16\n"
     ]
    }
   ],
   "source": [
    "A = np.random.randn(4, 4)\n",
    "Ai = np.linalg.inv(A)\n",
    "\n",
    "print(A)\n",
    "print(Ai)\n",
    "\n",
    "print(metrics.tdist(A @ Ai, np.eye(4)))\n",
    "print(metrics.tdist(Ai @ A, np.eye(4)))"
   ]
  },
  {
   "cell_type": "markdown",
   "metadata": {},
   "source": [
    "# Inverse and system of equations\n",
    "\n",
    "We can define a sytem of $n$ equations with $n$ unknowns as the matrix-vector product:\n",
    "$$Ax = b$$\n",
    "with $A \\in \\mathbb{R}^{n*n}$ the lhs terms, $b \\in \\mathbb{R}^n$ the rhs terms, and $x \\in \\mathbb{R}^n$ the unknowns.\n",
    "\n",
    "$A$ is inversible iff there is exactly one solution to $Ax = b$ for every possible $b$.\n",
    "$$x = A^{-1}b$$"
   ]
  },
  {
   "cell_type": "code",
   "execution_count": 8,
   "metadata": {},
   "outputs": [
    {
     "name": "stdout",
     "output_type": "stream",
     "text": [
      "[ 1.4675494  -3.31991027  1.49758185 -3.81867478]\n",
      "8.08254562088053e-16\n"
     ]
    }
   ],
   "source": [
    "A = np.random.randn(4, 4)\n",
    "b = np.random.randn(4)\n",
    "x = np.linalg.inv(A) @ b\n",
    "\n",
    "print(x)\n",
    "print(metrics.tdist(A @ x, b))"
   ]
  },
  {
   "cell_type": "markdown",
   "metadata": {},
   "source": [
    "# Inverse and linear combinations\n",
    "\n",
    "The inversibility of $A$ can be stated as any of these properties:\n",
    "- The columns of $A$ are linearly independant\n",
    "- $\\text{Col}(A) = R^n$\n",
    "- $\\text{rank}(A) = n$\n",
    "- $\\text{Null}(A) = \\vec{0}$"
   ]
  },
  {
   "cell_type": "markdown",
   "metadata": {},
   "source": [
    "# The moore-Penrose Pseudoinverse\n",
    "\n",
    "The pseudoinverse is a generalization of inverse that can be applied to any matrix.\n",
    "\n",
    "Let $A \\in \\mathbb{R}^{n*m}$\n",
    "The pseudoinverse of $A$ is denoted $A^+ \\in \\mathbb{R}^{m,n}$.  \n",
    "It is defined as:\n",
    "$$A^+ = \\lim_{\\alpha \\to 0} (A^TA + \\alpha I)^{-1} A^T$$\n",
    "\n",
    "If $A$ is inversible, we get $A^+ = A^{-1}$"
   ]
  },
  {
   "cell_type": "code",
   "execution_count": 19,
   "metadata": {},
   "outputs": [
    {
     "name": "stdout",
     "output_type": "stream",
     "text": [
      "1.1315819425944535e-15\n",
      "0.9999999999999999\n"
     ]
    }
   ],
   "source": [
    "A = np.random.randn(4, 5)\n",
    "Ai = np.linalg.pinv(A)\n",
    "print(metrics.tdist(A @ Ai, np.eye(4)))\n",
    "print(metrics.tdist(Ai @ A, np.eye(5)))"
   ]
  },
  {
   "cell_type": "code",
   "execution_count": 20,
   "metadata": {},
   "outputs": [
    {
     "name": "stdout",
     "output_type": "stream",
     "text": [
      "6.434452302420132e-15\n"
     ]
    }
   ],
   "source": [
    "A = np.random.randn(4, 4)\n",
    "Ai = np.linalg.inv(A)\n",
    "Ap = np.linalg.pinv(A)\n",
    "print(metrics.tdist(Ai, Ap))"
   ]
  },
  {
   "cell_type": "markdown",
   "metadata": {},
   "source": [
    "## Computations\n",
    "\n",
    "The pseudoinverse is usually computed with the SVD decomposition\n",
    "$$A = UDV^T$$\n",
    "$$A^+ = VD^+ U^T$$\n",
    "\n",
    "with $D^+$ the transpose of the matrix containing the reciprocal of the non-zero values of $D$."
   ]
  },
  {
   "cell_type": "code",
   "execution_count": 47,
   "metadata": {},
   "outputs": [
    {
     "name": "stdout",
     "output_type": "stream",
     "text": [
      "1.8041124150158794e-16\n",
      "1.0\n",
      "1.4816321196292979e-15\n"
     ]
    }
   ],
   "source": [
    "def my_pinv(A, tol=1e-8):\n",
    "    U, d, VT = np.linalg.svd(A, full_matrices=False)\n",
    "    Dp = np.diag([0 if x < tol else 1/x for x in d])\n",
    "    return VT.T @ Dp @ U.T\n",
    "\n",
    "A = np.random.randn(5, 4)\n",
    "Ap1 = my_pinv(A)\n",
    "Ap2 = np.linalg.pinv(A)\n",
    "\n",
    "print(metrics.tdist(Ap1, Ap2))\n",
    "print(metrics.tdist(A @ Ap1, np.eye(A.shape[0])))\n",
    "print(metrics.tdist(Ap1 @ A, np.eye(A.shape[1])))"
   ]
  },
  {
   "cell_type": "markdown",
   "metadata": {},
   "source": [
    "## System of equations\n",
    "\n",
    "Let the system $Ax = b$ with $A \\in \\mathbb{R}^{n*m}$, $x \\in \\mathbb{R}^m$, and $b \\in \\mathbb{R}^n$. \n",
    "Using the pseudo-inverse, we get the solution:\n",
    "$$\\hat{x} = A^+b$$\n",
    "\n",
    "If $A$ has linearnly independant columns, they are infinitely solutions, and we get the least-norm solution:\n",
    "$$\\hat{x} = \\min_{x} ||x||_2$$\n",
    "$$\\text{s.t. } Ax=b$$\n",
    "\n",
    "If $A$ has linearly independant rows, they may be no solutions, and we get the least squares solution:\n",
    "$$\\hat{x} = \\min_x ||Ax - b||_2$$"
   ]
  },
  {
   "cell_type": "code",
   "execution_count": 52,
   "metadata": {},
   "outputs": [
    {
     "name": "stdout",
     "output_type": "stream",
     "text": [
      "1.9373312250675786e-15\n",
      "2.270219206357372\n"
     ]
    }
   ],
   "source": [
    "#linearly dependent columns: infinitely many solutions\n",
    "A = np.random.randn(4, 5)\n",
    "b = np.random.randn(4)\n",
    "x = np.linalg.pinv(A) @ b\n",
    "\n",
    "print(metrics.tdist(A @ x, b))\n",
    "print(np.linalg.norm(x))"
   ]
  },
  {
   "cell_type": "code",
   "execution_count": 58,
   "metadata": {},
   "outputs": [
    {
     "name": "stdout",
     "output_type": "stream",
     "text": [
      "0.47274831094063247\n"
     ]
    }
   ],
   "source": [
    "#linearly dependent rows: no solution\n",
    "A = np.random.randn(5, 4)\n",
    "b = np.random.randn(5)\n",
    "x = np.linalg.pinv(A) @ b\n",
    "\n",
    "print(metrics.tdist(A @ x, b))"
   ]
  },
  {
   "cell_type": "markdown",
   "metadata": {},
   "source": [
    "# Determinant\n",
    "\n",
    "Let $A \\in \\mathbb{R}^{n*n}$.  \n",
    "The determinant of $A$, noted $\\text{det}(A)$ is a mesure of volume.\n",
    "\n",
    "$$\\text{det}(A) = \\prod_{i=1}^n \\lambda_i$$ \n",
    "with $\\lambda_i$ eigenvalue of $A$.\n",
    "\n",
    "A singular matrix has a determinant of $0$."
   ]
  },
  {
   "cell_type": "code",
   "execution_count": 60,
   "metadata": {},
   "outputs": [
    {
     "name": "stdout",
     "output_type": "stream",
     "text": [
      "-3.1845197649245587\n",
      "(-3.1845197649245556+2.9464398150217424e-16j)\n"
     ]
    }
   ],
   "source": [
    "A = np.random.randn(4, 4)\n",
    "det = np.linalg.det(A)\n",
    "\n",
    "w, V = np.linalg.eig(A)\n",
    "wp = np.prod(w)\n",
    "\n",
    "print(det)\n",
    "print(wp)"
   ]
  }
 ],
 "metadata": {
  "kernelspec": {
   "display_name": "Python 3",
   "language": "python",
   "name": "python3"
  },
  "language_info": {
   "codemirror_mode": {
    "name": "ipython",
    "version": 3
   },
   "file_extension": ".py",
   "mimetype": "text/x-python",
   "name": "python",
   "nbconvert_exporter": "python",
   "pygments_lexer": "ipython3",
   "version": "3.7.3"
  }
 },
 "nbformat": 4,
 "nbformat_minor": 2
}
