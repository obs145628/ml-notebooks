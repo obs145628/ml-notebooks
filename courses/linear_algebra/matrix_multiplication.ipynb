{
 "cells": [
  {
   "cell_type": "code",
   "execution_count": 1,
   "metadata": {},
   "outputs": [],
   "source": [
    "import sys\n",
    "sys.path.append('../../pyutils')\n",
    "\n",
    "import numpy as np\n",
    "\n",
    "import metrics"
   ]
  },
  {
   "cell_type": "markdown",
   "metadata": {},
   "source": [
    "# Matrix - Vector multiplication"
   ]
  },
  {
   "cell_type": "markdown",
   "metadata": {},
   "source": [
    "$M \\in \\mathbb{R}^{n*p}$, $v \\in \\mathbb{R}^{p}$, $Mv \\in \\mathbb{R}^{n}$\n",
    "\n",
    "$$(Mv)_i = \\sum_{j=1}^p M_{ij}v_j$$\n",
    "$$(Mv)_i = M_{i,:} v$$\n",
    "$$Mv = \\sum_{j=1}^p M_{:,j} v_j$$"
   ]
  },
  {
   "cell_type": "markdown",
   "metadata": {},
   "source": [
    "# Vector - Matrix multiplication"
   ]
  },
  {
   "cell_type": "markdown",
   "metadata": {},
   "source": [
    "$M \\in \\mathbb{R}^{n*p}$, $v \\in \\mathbb{R}^{n}$, $vM \\in \\mathbb{R}^{p}$\n",
    "\n",
    "$$(vM)_j = \\sum_{i=1}^n v_i M_{ij}$$\n",
    "$$(vM)_j = v M_{:,j}$$\n",
    "\n",
    "$$vM = \\sum_{i=1}^n v_i M_{i,:}$$"
   ]
  },
  {
   "cell_type": "markdown",
   "metadata": {},
   "source": [
    "# Matrix - Matrix multiplication\n",
    "\n",
    "$A \\in \\mathbb{R}^{m*n}$, $B \\in \\mathbb{R}^{n*p}$, $C = AB \\in \\mathbb{R}^{n*p}$\n",
    "\n",
    "$$C_{i,j} = A_{i,:} B_{:,j} = \\sum_{k=0}^n A_{ik} B_{kj}$$\n",
    "\n",
    "$$C_{i,:} = A_{i,:}^T B$$ \n",
    "$$C_{:,j} = A B_{:,j}$$ "
   ]
  },
  {
   "cell_type": "code",
   "execution_count": null,
   "metadata": {},
   "outputs": [],
   "source": []
  }
 ],
 "metadata": {
  "kernelspec": {
   "display_name": "Python 3",
   "language": "python",
   "name": "python3"
  },
  "language_info": {
   "codemirror_mode": {
    "name": "ipython",
    "version": 3
   },
   "file_extension": ".py",
   "mimetype": "text/x-python",
   "name": "python",
   "nbconvert_exporter": "python",
   "pygments_lexer": "ipython3",
   "version": "3.6.7"
  }
 },
 "nbformat": 4,
 "nbformat_minor": 2
}
