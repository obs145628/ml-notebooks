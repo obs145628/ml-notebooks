{
 "cells": [
  {
   "cell_type": "code",
   "execution_count": 1,
   "metadata": {},
   "outputs": [],
   "source": [
    "import sys\n",
    "sys.path.append('../../pyutils')\n",
    "\n",
    "import numpy as np\n",
    "from scipy.linalg import solve_triangular\n",
    "\n",
    "import metrics"
   ]
  },
  {
   "cell_type": "markdown",
   "metadata": {},
   "source": [
    "# The Cholesky decomposition\n",
    "\n",
    "Let $A \\in \\mathbb{R}^{n*n}$ a symmetric positive definite matrix.  \n",
    "$A$ can de decomposed as:\n",
    "$$A = LL^T$$\n",
    "with $L \\in \\mathbb{R}^{n*n}$ a lower triangular matrix with positive diagonal entries.\n",
    "\n",
    "\n",
    "$$L_{jj} = \\sqrt{A_{jj} - \\sum_{k=1}^{j-1} L_{jk}^2}$$\n",
    "$$L_{ij} = \\frac{1}{L_{jj}}(A_{ij} - \\sum_{k=1}^{j-1}L_{ik}L_{jk}) \\text{ for } i > j$$\n",
    "\n",
    "The algorithm can be impleted row by row or column by column"
   ]
  },
  {
   "cell_type": "code",
   "execution_count": 2,
   "metadata": {},
   "outputs": [
    {
     "name": "stdout",
     "output_type": "stream",
     "text": [
      "0.0\n",
      "1.8444410139024814e-15\n"
     ]
    }
   ],
   "source": [
    "def cholesky(A):\n",
    "    n = len(A)\n",
    "    L = np.zeros((n, n))\n",
    "    \n",
    "    for j in range(n):\n",
    "        L[j,j] = np.sqrt(A[j,j] - np.sum(L[j,:j]**2))\n",
    "        \n",
    "        for i in range(j+1, n):\n",
    "            L[i,j] = (A[i,j] - np.sum(L[i, :j] * L[j, :j])) / L[j,j]\n",
    "                         \n",
    "    return L\n",
    "                         \n",
    "\n",
    "A = np.random.randn(5, 5)\n",
    "A = A @ A.T\n",
    "L = cholesky(A)\n",
    "print(metrics.tdist(L - np.tril(L), np.zeros(A.shape)))\n",
    "print(metrics.tdist(L @ L.T, A))"
   ]
  },
  {
   "cell_type": "markdown",
   "metadata": {},
   "source": [
    "# The LDL Decomposition\n",
    "\n",
    "Let $A \\in \\mathbb{R}^{n*n}$ a symmetric positive definite matrix.  \n",
    "$A$ can de decomposed as:\n",
    "$$A = LDL^T$$\n",
    "with $L \\in \\mathbb{R}^{n*n}$ a lower unit triangular matrix and $D \\in \\mathbb{R}^{n*n}$ a diagonal matrix.  \n",
    "This is a modified version of the Cholsky decomposition that doesn't need square roots.\n",
    "\n",
    "$$D_{jj} = A_{jj} - \\sum_{k=1}^{j-1} L_{jk}^2D_{kk}$$\n",
    "$$L_{ij} = \\frac{1}{D_{jj}}(A_{ij} - \\sum_{k=1}^{j-1}L_{ik}L_{jk}D_{kk}) \\text{ for } i > j$$"
   ]
  },
  {
   "cell_type": "code",
   "execution_count": 3,
   "metadata": {},
   "outputs": [
    {
     "name": "stdout",
     "output_type": "stream",
     "text": [
      "0.0\n",
      "0.0\n",
      "6.329245045284193e-16\n"
     ]
    }
   ],
   "source": [
    "def cholesky_ldl(A):\n",
    "    n = len(A)\n",
    "    L = np.eye(n)\n",
    "    d = np.zeros(n)\n",
    "    \n",
    "    for j in range(n):\n",
    "        d[j] = A[j,j] - np.sum(L[j,:j]**2 * d[:j])\n",
    "        \n",
    "        for i in range(j+1, n):\n",
    "            L[i,j] = (A[i,j] - np.sum(L[i,:j]*L[j,:j]*d[:j])) / d[j]\n",
    "                         \n",
    "    return L, d\n",
    "                         \n",
    "\n",
    "A = np.random.randn(5, 5)\n",
    "A = A @ A.T\n",
    "L, d = cholesky_ldl(A)\n",
    "print(metrics.tdist(L - np.tril(L), np.zeros(A.shape)))\n",
    "print(metrics.tdist(np.diag(L), np.ones(len(L))))\n",
    "print(metrics.tdist(L @ np.diag(d) @ L.T, A))"
   ]
  },
  {
   "cell_type": "markdown",
   "metadata": {},
   "source": [
    "# Solve a linear system\n",
    "\n",
    "Find $x$ such that:\n",
    "\n",
    "$$Ax = b$$\n",
    "\n",
    "Compute the cholesky decomposition of $A$\n",
    "\n",
    "$$A = LL^T$$\n",
    "$$LL^Tx = b$$\n",
    "\n",
    "Solve the lower triangular system:\n",
    "\n",
    "$$Ly = b$$\n",
    "\n",
    "Solve the upper triangular system:\n",
    "\n",
    "$$L^Tx = y$$"
   ]
  },
  {
   "cell_type": "code",
   "execution_count": 4,
   "metadata": {},
   "outputs": [
    {
     "name": "stdout",
     "output_type": "stream",
     "text": [
      "9.326416937701413e-14\n"
     ]
    }
   ],
   "source": [
    "def cholesky_system(A, b):\n",
    "    L = cholesky(A)\n",
    "    y = solve_triangular(L, b, lower=True)\n",
    "    x = solve_triangular(L.T, y, lower=False)\n",
    "    return x\n",
    "\n",
    "A = np.random.randn(5, 5)\n",
    "A = A @ A.T\n",
    "b = np.random.randn(5)\n",
    "x = cholesky_system(A, b)\n",
    "print(metrics.tdist(A @ x, b))"
   ]
  }
 ],
 "metadata": {
  "kernelspec": {
   "display_name": "Python 3",
   "language": "python",
   "name": "python3"
  },
  "language_info": {
   "codemirror_mode": {
    "name": "ipython",
    "version": 3
   },
   "file_extension": ".py",
   "mimetype": "text/x-python",
   "name": "python",
   "nbconvert_exporter": "python",
   "pygments_lexer": "ipython3",
   "version": "3.6.7"
  }
 },
 "nbformat": 4,
 "nbformat_minor": 2
}
