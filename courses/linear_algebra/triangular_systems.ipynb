{
 "cells": [
  {
   "cell_type": "code",
   "execution_count": 1,
   "metadata": {},
   "outputs": [],
   "source": [
    "import sys\n",
    "sys.path.append('../../pyutils')\n",
    "\n",
    "import numpy as np\n",
    "import scipy.linalg\n",
    "\n",
    "import metrics\n",
    "\n",
    "np.random.seed(12)"
   ]
  },
  {
   "cell_type": "markdown",
   "metadata": {},
   "source": [
    "# Solve triangular systems"
   ]
  },
  {
   "cell_type": "markdown",
   "metadata": {},
   "source": [
    "## Backward subtitution\n",
    "\n",
    "Let $A$ upper triangular matrix of size $n*n$ and $b$ vector of size $n$.  \n",
    "Find vector $x$ of size $n$ such that $Ax=b$"
   ]
  },
  {
   "cell_type": "code",
   "execution_count": 2,
   "metadata": {},
   "outputs": [],
   "source": [
    "def solve_upper(A, b):\n",
    "    n = A.shape[0]\n",
    "    x = np.empty((n))\n",
    "    \n",
    "    for i in reversed(range(n)): #i = n-1 -> 0\n",
    "        val = b[i]\n",
    "        for j in reversed(range(i + 1, n)): #j = n - 1 -> i + 1\n",
    "            val -= A[i, j] * x[j]\n",
    "        x[i] = val / A[i, i]\n",
    "    \n",
    "    return x"
   ]
  },
  {
   "cell_type": "code",
   "execution_count": 3,
   "metadata": {},
   "outputs": [
    {
     "name": "stdout",
     "output_type": "stream",
     "text": [
      "[-28.39667586   1.35094696  -6.10511951  -9.90420428]\n",
      "[-28.39667586   1.35094696  -6.10511951  -9.90420428]\n",
      "3.5596458096434965e-15\n",
      "2.482534153247273e-16\n"
     ]
    }
   ],
   "source": [
    "A = np.triu(np.random.randn(4, 4))\n",
    "b = np.random.randn(4)\n",
    "\n",
    "x = solve_upper(A, b)\n",
    "x_sol = scipy.linalg.solve_triangular(A, b)\n",
    "\n",
    "print(x)\n",
    "print(x_sol)\n",
    "print(metrics.tdist(x, x_sol))\n",
    "print(metrics.tdist(A @ x, b))"
   ]
  },
  {
   "cell_type": "markdown",
   "metadata": {},
   "source": [
    "Can be extended to matrix systems.  \n",
    "Let $A$ upper triangular matrix of size $n*n$ and $b$ vector of size $n*p$.  \n",
    "Find vector $x$ of size $n*p$ such that $Ax=b$"
   ]
  },
  {
   "cell_type": "code",
   "execution_count": 4,
   "metadata": {},
   "outputs": [],
   "source": [
    "def solve_uppers(A, B):\n",
    "    n = A.shape[0]\n",
    "    X = np.empty((n, B.shape[1]))\n",
    "    \n",
    "    for e in range(B.shape[1]):\n",
    "        for i in reversed(range(n)): #i = n-1 -> 0\n",
    "            val = B[i, e]\n",
    "            for j in reversed(range(i + 1, n)): #j = n - 1 -> i + 1\n",
    "                val -= A[i, j] * X[j, e]\n",
    "            X[i, e] = val / A[i, i]\n",
    "    \n",
    "    return X"
   ]
  },
  {
   "cell_type": "code",
   "execution_count": 5,
   "metadata": {
    "scrolled": true
   },
   "outputs": [
    {
     "name": "stdout",
     "output_type": "stream",
     "text": [
      "[[  6.6015892    0.3229454  -23.51865406]\n",
      " [  8.23144716   1.8955736  -23.43640668]\n",
      " [ -1.93518192  -0.48665919  -1.63202372]\n",
      " [ -7.98978433  -1.56882848  30.60415431]]\n",
      "[[  6.6015892    0.3229454  -23.51865406]\n",
      " [  8.23144716   1.8955736  -23.43640668]\n",
      " [ -1.93518192  -0.48665919  -1.63202372]\n",
      " [ -7.98978433  -1.56882848  30.60415431]]\n",
      "8.940742581002926e-15\n",
      "5.9486356777158e-15\n"
     ]
    }
   ],
   "source": [
    "A = np.triu(np.random.randn(4, 4))\n",
    "b = np.random.randn(4, 3)\n",
    "\n",
    "x = solve_uppers(A, b)\n",
    "x_sol = scipy.linalg.solve_triangular(A, b)\n",
    "\n",
    "print(x)\n",
    "print(x_sol)\n",
    "print(metrics.tdist(x, x_sol))\n",
    "print(metrics.tdist(A @ x, b))"
   ]
  },
  {
   "cell_type": "markdown",
   "metadata": {},
   "source": [
    "It's possible to find the inverse of an upper triangular matrix by solving $AX = B$ for $B = I$.  \n",
    "$X = A^{-1}$"
   ]
  },
  {
   "cell_type": "code",
   "execution_count": 6,
   "metadata": {},
   "outputs": [],
   "source": [
    "def inv_upper(A):\n",
    "    return solve_uppers(A, np.eye(A.shape[0]))"
   ]
  },
  {
   "cell_type": "code",
   "execution_count": 7,
   "metadata": {},
   "outputs": [
    {
     "name": "stdout",
     "output_type": "stream",
     "text": [
      "[[-0.3177209   0.08041446 -0.13109328  0.38506939]\n",
      " [ 0.          0.47295988 -9.37013626 -1.94565064]\n",
      " [ 0.          0.         19.79303354  4.18568414]\n",
      " [ 0.          0.          0.          1.47534818]]\n",
      "[[-0.3177209   0.08041446 -0.13109328  0.38506939]\n",
      " [ 0.          0.47295988 -9.37013626 -1.94565064]\n",
      " [ 0.          0.         19.79303354  4.18568414]\n",
      " [ 0.          0.          0.          1.47534818]]\n",
      "5.721958498152797e-17\n",
      "9.378457834678574e-16\n",
      "4.1293473805404105e-16\n"
     ]
    }
   ],
   "source": [
    "A = np.triu(np.random.randn(4, 4))\n",
    "Ai = inv_upper(A)\n",
    "Ai_sol = np.linalg.inv(A)\n",
    "\n",
    "print(Ai)\n",
    "print(Ai_sol)\n",
    "print(metrics.tdist(Ai, Ai_sol))\n",
    "print(metrics.tdist(A @ Ai, np.eye(4)))\n",
    "print(metrics.tdist(Ai @ A, np.eye(4)))"
   ]
  },
  {
   "cell_type": "markdown",
   "metadata": {},
   "source": [
    "## Forward subtitution\n",
    "\n",
    "Let $A$ lower triangular matrix of size $n*n$ and $b$ vector of size $n$.  \n",
    "Find vector $x$ of size $n$ such that $Ax=b$"
   ]
  },
  {
   "cell_type": "code",
   "execution_count": 8,
   "metadata": {},
   "outputs": [],
   "source": [
    "def solve_lower(A, b):\n",
    "    n = A.shape[0]\n",
    "    x = np.empty((n))\n",
    "    \n",
    "    for i in range(n): #i = 0 ->n-1\n",
    "        val = b[i]\n",
    "        for j in range(i): #j = 0 -> i - 1\n",
    "            val -= A[i, j] * x[j]\n",
    "        x[i] = val / A[i, i]\n",
    "    \n",
    "    return x"
   ]
  },
  {
   "cell_type": "code",
   "execution_count": 9,
   "metadata": {},
   "outputs": [
    {
     "name": "stdout",
     "output_type": "stream",
     "text": [
      "[-2.40871187  4.45622536  7.28112487 -6.97363827]\n",
      "[-2.40871187  4.45622536  7.28112487 -6.97363827]\n",
      "8.881784197001252e-16\n",
      "4.685680459230494e-16\n"
     ]
    }
   ],
   "source": [
    "A = np.tril(np.random.randn(4, 4))\n",
    "b = np.random.randn(4)\n",
    "\n",
    "x = solve_lower(A, b)\n",
    "x_sol = scipy.linalg.solve_triangular(A, b, lower=True)\n",
    "\n",
    "print(x)\n",
    "print(x_sol)\n",
    "print(metrics.tdist(x, x_sol))\n",
    "print(metrics.tdist(A @ x, b))"
   ]
  },
  {
   "cell_type": "markdown",
   "metadata": {},
   "source": [
    "Can be extended to matrix systems.  \n",
    "Let $A$ lower triangular matrix of size $n*n$ and $b$ vector of size $n*p$.  \n",
    "Find vector $x$ of size $n*p$ such that $Ax=b$"
   ]
  },
  {
   "cell_type": "code",
   "execution_count": 10,
   "metadata": {},
   "outputs": [],
   "source": [
    "def solve_lowers(A, B):\n",
    "    n = A.shape[0]\n",
    "    X = np.empty((n, B.shape[1]))\n",
    "    \n",
    "    for e in range(B.shape[1]):\n",
    "        for i in range(n): #i = 0 ->n-1\n",
    "            val = B[i, e]\n",
    "            for j in range(i): #j = 0 -> i - 1\n",
    "                val -= A[i, j] * X[j, e]\n",
    "            X[i, e] = val / A[i, i]\n",
    "    \n",
    "    return X"
   ]
  },
  {
   "cell_type": "code",
   "execution_count": 11,
   "metadata": {},
   "outputs": [
    {
     "name": "stdout",
     "output_type": "stream",
     "text": [
      "[[-7.46732472e-01 -6.53122733e-01  8.71301518e-03]\n",
      " [-1.20228892e+00 -1.55909980e+00 -1.57507954e+00]\n",
      " [-2.39393459e+00  7.03995217e-02  1.58297982e+01]\n",
      " [-1.51484917e+01 -7.16689607e-01  2.83918290e+01]]\n",
      "[[-7.46732472e-01 -6.53122733e-01  8.71301518e-03]\n",
      " [-1.20228892e+00 -1.55909980e+00 -1.57507954e+00]\n",
      " [-2.39393459e+00  7.03995217e-02  1.58297982e+01]\n",
      " [-1.51484917e+01 -7.16689607e-01  2.83918290e+01]]\n",
      "4.1694611933691605e-15\n",
      "5.775561153410717e-16\n"
     ]
    }
   ],
   "source": [
    "A = np.tril(np.random.randn(4, 4))\n",
    "b = np.random.randn(4, 3)\n",
    "\n",
    "x = solve_lowers(A, b)\n",
    "x_sol = scipy.linalg.solve_triangular(A, b, lower=True)\n",
    "\n",
    "print(x)\n",
    "print(x_sol)\n",
    "print(metrics.tdist(x, x_sol))\n",
    "print(metrics.tdist(A @ x, b))"
   ]
  },
  {
   "cell_type": "markdown",
   "metadata": {},
   "source": [
    "It's possible to find the inverse of a lower triangular matrix by solving $AX = B$ for $B = I$.  \n",
    "$X = A^{-1}$"
   ]
  },
  {
   "cell_type": "code",
   "execution_count": 12,
   "metadata": {},
   "outputs": [],
   "source": [
    "def inv_lower(A):\n",
    "    return solve_lowers(A, np.eye(A.shape[0]))"
   ]
  },
  {
   "cell_type": "code",
   "execution_count": 13,
   "metadata": {},
   "outputs": [
    {
     "name": "stdout",
     "output_type": "stream",
     "text": [
      "[[  0.73214326   0.           0.           0.        ]\n",
      " [  1.04437117   1.03546858   0.           0.        ]\n",
      " [-70.15319675 -40.19903349  26.55621886   0.        ]\n",
      " [ 22.36283188  13.09996667  -8.49524346  -0.66090042]]\n",
      "[[ 7.32143256e-01 -1.45809375e-16  7.89821193e-17  0.00000000e+00]\n",
      " [ 1.04437117e+00  1.03546858e+00  1.45558653e-16  0.00000000e+00]\n",
      " [-7.01531967e+01 -4.01990335e+01  2.65562189e+01 -0.00000000e+00]\n",
      " [ 2.23628319e+01  1.30999667e+01 -8.49524346e+00 -6.60900416e-01]]\n",
      "3.5752792860319764e-14\n",
      "1.4724178093283334e-15\n",
      "2.4710434342335953e-14\n"
     ]
    }
   ],
   "source": [
    "A = np.tril(np.random.randn(4, 4))\n",
    "Ai = inv_lower(A)\n",
    "Ai_sol = np.linalg.inv(A)\n",
    "\n",
    "print(Ai)\n",
    "print(Ai_sol)\n",
    "print(metrics.tdist(Ai, Ai_sol))\n",
    "print(metrics.tdist(A @ Ai, np.eye(4)))\n",
    "print(metrics.tdist(Ai @ A, np.eye(4)))"
   ]
  },
  {
   "cell_type": "markdown",
   "metadata": {},
   "source": [
    "The inverse of a diagonal matrix is the matrix with all elements in the diagonal inversed."
   ]
  },
  {
   "cell_type": "code",
   "execution_count": 14,
   "metadata": {},
   "outputs": [
    {
     "name": "stdout",
     "output_type": "stream",
     "text": [
      "[[-0.76353049  0.          0.        ]\n",
      " [ 0.          0.24920321  0.        ]\n",
      " [ 0.          0.         -1.58980861]]\n",
      "[[-1.3097054   0.          0.        ]\n",
      " [ 0.          4.01278941  0.        ]\n",
      " [ 0.          0.         -0.62900653]]\n",
      "[[-1.3097054  -0.         -0.        ]\n",
      " [ 0.          4.01278941  0.        ]\n",
      " [-0.         -0.         -0.62900653]]\n",
      "0.0\n",
      "0.0\n",
      "0.0\n"
     ]
    }
   ],
   "source": [
    "def inv_diag(A):\n",
    "    return np.diag(1. / np.diag(A))\n",
    "\n",
    "A = np.diag(np.random.randn(3))\n",
    "Ai = inv_diag(A)\n",
    "Ai_sol = np.linalg.inv(A)\n",
    "\n",
    "print(A)\n",
    "print(Ai)\n",
    "print(Ai_sol)\n",
    "print(metrics.tdist(Ai, Ai_sol))\n",
    "print(metrics.tdist(A @ Ai, np.eye(3)))\n",
    "print(metrics.tdist(Ai @ A, np.eye(3)))"
   ]
  }
 ],
 "metadata": {
  "kernelspec": {
   "display_name": "Python 3",
   "language": "python",
   "name": "python3"
  },
  "language_info": {
   "codemirror_mode": {
    "name": "ipython",
    "version": 3
   },
   "file_extension": ".py",
   "mimetype": "text/x-python",
   "name": "python",
   "nbconvert_exporter": "python",
   "pygments_lexer": "ipython3",
   "version": "3.6.7"
  }
 },
 "nbformat": 4,
 "nbformat_minor": 2
}
