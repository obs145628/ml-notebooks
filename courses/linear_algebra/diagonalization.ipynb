{
 "cells": [
  {
   "cell_type": "code",
   "execution_count": 1,
   "metadata": {},
   "outputs": [],
   "source": [
    "import sys\n",
    "sys.path.append('..')\n",
    "\n",
    "import numpy as np\n",
    "\n",
    "import metrics"
   ]
  },
  {
   "cell_type": "markdown",
   "metadata": {},
   "source": [
    "# Matrix similarity\n",
    "\n",
    "Let $A$ and $B$ matrices of size $n*n$.  \n",
    "$A$ and $B$ are similar if it exists an invertible matrix $P \\in \\mathbb{R}^{n*n}$ such that:\n",
    "$$B = P^{-1}AP$$  "
   ]
  },
  {
   "cell_type": "markdown",
   "metadata": {},
   "source": [
    "# Diagonalization\n",
    "\n",
    "Let $A \\in \\mathbb{R}^{n*n}$\n",
    "A is diagonalizable if it similar to a diagonal matrix.  \n",
    "IE there is an invertible matrix $P \\in \\mathbb{R}^{n*n}$ such that $P^{-1}AP$ is diagonal.\n",
    "\n",
    "The diagonilazation of matrix $A$ is:\n",
    "$$P^{-1} A P = D$$\n",
    "with $P \\in \\mathbb{R}^{n*n}$ is a matrix whose columns are the right eigenvectors of $A$.  \n",
    "And $D \\in \\mathbb{R}^{n*n}$ a digonal matrix whose entries $D_{ii}$ is the eigeinvalue of $A$ corresponding to the eigeinvector $P_i$.  \n",
    "\n",
    "The equation can be rewritten as:\n",
    "\n",
    "$$A = PDP^{-1}$$"
   ]
  },
  {
   "cell_type": "code",
   "execution_count": 2,
   "metadata": {},
   "outputs": [
    {
     "name": "stdout",
     "output_type": "stream",
     "text": [
      "A =\n",
      " [[ 1  2  1]\n",
      " [ 6 -1  0]\n",
      " [-1  2  1]]\n",
      "P = \n",
      " [[ 0.60588985  0.28934634 -0.08122258]\n",
      " [ 0.73792101 -0.83016763 -0.41839386]\n",
      " [ 0.29727105  0.47655053  0.9046267 ]]\n",
      "diag(D)=\n",
      " [ 3.92646107 -3.09123795  0.16477688]\n",
      "P^-1AP=\n",
      " [[ 3.92646107e+00 -8.47397419e-16  5.54699765e-16]\n",
      " [ 3.69366844e-15 -3.09123795e+00  7.06300920e-16]\n",
      " [ 7.25290929e-16  3.97623940e-18  1.64776876e-01]]\n",
      "4.431847301282925e-15\n",
      "PDP^-1=\n",
      " [[ 1.00000000e+00  2.00000000e+00  1.00000000e+00]\n",
      " [ 6.00000000e+00 -1.00000000e+00  9.30119432e-16]\n",
      " [-1.00000000e+00  2.00000000e+00  1.00000000e+00]]\n",
      "6.604835229600313e-15\n"
     ]
    }
   ],
   "source": [
    "A = np.array([\n",
    "    [1, 2, 1],\n",
    "    [6, -1, 0],\n",
    "    [-1, 2, 1]\n",
    "])\n",
    "d, P = np.linalg.eig(A)\n",
    "\n",
    "print('A =\\n', A)\n",
    "print('P = \\n', P)\n",
    "print('diag(D)=\\n', d)\n",
    "\n",
    "\n",
    "D2 = np.linalg.inv(P) @ A @ P\n",
    "print('P^-1AP=\\n', D2)\n",
    "print(metrics.tdist(np.diag(d), D2))\n",
    "\n",
    "A2 = P @ np.diag(d) @ np.linalg.inv(P)\n",
    "print('PDP^-1=\\n', A2)\n",
    "print(metrics.tdist(A, A2))"
   ]
  },
  {
   "cell_type": "markdown",
   "metadata": {},
   "source": [
    "# Square root of a matrix\n",
    "\n",
    "Let $A$ and $B$ matrices of size $n*n$.  \n",
    "Matrix $B$ is the square root of $A$ is $BB = A$  \n",
    "The square root is denoted $B = A^{\\frac{1}{2}}$  \n",
    "\n",
    "A matrix may have several or no square root"
   ]
  },
  {
   "cell_type": "markdown",
   "metadata": {},
   "source": [
    "If $A$ is diagonal, $B$ is a diagonal matrix whose entries are the square root of the diagonal entries of $A$"
   ]
  },
  {
   "cell_type": "code",
   "execution_count": 3,
   "metadata": {},
   "outputs": [
    {
     "name": "stdout",
     "output_type": "stream",
     "text": [
      "0.0\n"
     ]
    }
   ],
   "source": [
    "A = np.diag(np.random.randn(5)**2)\n",
    "B = np.diag(np.sqrt(np.diag(A)))\n",
    "print(metrics.tdist(A, B @ B))"
   ]
  },
  {
   "cell_type": "markdown",
   "metadata": {},
   "source": [
    "If $A$ is diagonalizable with positive eigenvalues, the square root of $A$ is:\n",
    "\n",
    "$$B = PD^{\\frac{1}{2}}P^{-1}$$"
   ]
  },
  {
   "cell_type": "code",
   "execution_count": 4,
   "metadata": {},
   "outputs": [
    {
     "name": "stdout",
     "output_type": "stream",
     "text": [
      "[[ 1.28989795 -0.5797959   0.28989795]\n",
      " [-0.28989795  1.5797959  -0.28989795]\n",
      " [ 0.5797959  -1.15959179  1.5797959 ]]\n",
      "1.900395703982448e-15\n"
     ]
    }
   ],
   "source": [
    "A = np.array([\n",
    "    [2, -2, 1],\n",
    "    [-1, 3, -1],\n",
    "    [2, -4, 3]\n",
    "])\n",
    "d, P = np.linalg.eig(A)\n",
    "\n",
    "s = np.sqrt(d)\n",
    "B = P @ np.diag(s) @ np.linalg.inv(P)\n",
    "print(B)\n",
    "print(metrics.tdist(B @ B, A))"
   ]
  },
  {
   "cell_type": "markdown",
   "metadata": {},
   "source": [
    "## Square root Inverse\n",
    "\n",
    "$$A^{-\\frac{1}{2}} = \\text{inv}(A^{\\frac{1}{2}})$$\n",
    "\n",
    "$A^{-\\frac{1}{2}}$ is the square root of $A^{-1}$:\n",
    "$$A^{-\\frac{1}{2}}A^{-\\frac{1}{2}} = A^{-1}$$\n",
    "\n",
    "If $A$ is diagonal, $A^{-\\frac{1}{2}}$ is a diagonal matrix whose entries are the inverse square root of the diagonal entries of $A$"
   ]
  },
  {
   "cell_type": "code",
   "execution_count": 5,
   "metadata": {},
   "outputs": [
    {
     "name": "stdout",
     "output_type": "stream",
     "text": [
      "1.1443916996305594e-16\n"
     ]
    }
   ],
   "source": [
    "A = np.diag(3.8 * np.random.randn(5)**2 + 1.2)\n",
    "B = np.diag(1 / np.sqrt(np.diag(A)))\n",
    "print(metrics.tdist(np.linalg.inv(A), B @ B))"
   ]
  },
  {
   "cell_type": "markdown",
   "metadata": {},
   "source": [
    "If $A$ is diagonalizable with positive eigenvalues, the inverse square root of $A$ is:\n",
    "\n",
    "$$A^{-\\frac{1}{2}} = PD^{-\\frac{1}{2}}P^{-1}$$"
   ]
  },
  {
   "cell_type": "code",
   "execution_count": 6,
   "metadata": {},
   "outputs": [
    {
     "name": "stdout",
     "output_type": "stream",
     "text": [
      "[[ 0.88164966  0.23670068 -0.11835034]\n",
      " [ 0.11835034  0.76329932  0.11835034]\n",
      " [-0.23670068  0.47340137  0.76329932]]\n",
      "1.1025638216888958e-15\n"
     ]
    }
   ],
   "source": [
    "A = np.array([\n",
    "    [2, -2, 1],\n",
    "    [-1, 3, -1],\n",
    "    [2, -4, 3]\n",
    "])\n",
    "d, P = np.linalg.eig(A)\n",
    "\n",
    "s = 1 / np.sqrt(d)\n",
    "B = P @ np.diag(s) @ np.linalg.inv(P) \n",
    "print(B)\n",
    "print(metrics.tdist(B @ B, np.linalg.inv(A)))"
   ]
  },
  {
   "cell_type": "markdown",
   "metadata": {},
   "source": [
    "# Symmetric positive definite\n",
    "\n",
    "Let $A$ a symmetric positive definite matrix. A is always diagonalizable:\n",
    "\n",
    "$$P^T A P = D$$\n",
    "\n",
    "With $P$, the marix of eigeinvectors, is an orthogonal matrix ($PP^T=P^TP=I$)."
   ]
  },
  {
   "cell_type": "code",
   "execution_count": 7,
   "metadata": {},
   "outputs": [
    {
     "name": "stdout",
     "output_type": "stream",
     "text": [
      "A =\n",
      " [[ 4.16076505 -1.62484051 -4.15315439 -1.20502683]\n",
      " [-1.62484051  2.09660811  1.66382534 -0.67298379]\n",
      " [-4.15315439  1.66382534  5.98969258  0.13351358]\n",
      " [-1.20502683 -0.67298379  0.13351358  1.99301582]]\n",
      "P = \n",
      " [[ 0.65363399  0.35018548 -0.27581825 -0.61160202]\n",
      " [ 0.42968083 -0.70998456 -0.48697488  0.27230824]\n",
      " [ 0.32468508  0.57461675 -0.13837068  0.7384096 ]\n",
      " [ 0.53171101 -0.20762381  0.81708831  0.08088539]]\n",
      "diag(D)=\n",
      " [ 0.04935688  1.35462885  2.77826782 10.057828  ]\n",
      "P^-1AP=\n",
      " [[ 4.93568797e-02  4.21858856e-16 -5.30656573e-16  2.39071534e-15]\n",
      " [ 8.59143361e-16  1.35462885e+00  1.16514511e-17 -2.55390863e-16]\n",
      " [-1.23300441e-16 -4.36303539e-16  2.77826782e+00 -3.96613237e-16]\n",
      " [ 2.57314451e-15  1.98218842e-15 -3.47607910e-16  1.00578280e+01]]\n",
      "5.031148402184212e-15\n",
      "PDP^-1=\n",
      " [[ 4.16076505 -1.62484051 -4.15315439 -1.20502683]\n",
      " [-1.62484051  2.09660811  1.66382534 -0.67298379]\n",
      " [-4.15315439  1.66382534  5.98969258  0.13351358]\n",
      " [-1.20502683 -0.67298379  0.13351358  1.99301582]]\n",
      "4.3081982382486385e-15\n",
      "1.7967826515916116e-15\n",
      "1.8020669692274853e-15\n"
     ]
    }
   ],
   "source": [
    "A = np.random.randn(4, 4)\n",
    "A = A.T @ A\n",
    "d, P = np.linalg.eigh(A)\n",
    "\n",
    "print('A =\\n', A)\n",
    "print('P = \\n', P)\n",
    "print('diag(D)=\\n', d)\n",
    "\n",
    "\n",
    "D2 = np.linalg.inv(P) @ A @ P\n",
    "print('P^-1AP=\\n', D2)\n",
    "print(metrics.tdist(np.diag(d), D2))\n",
    "\n",
    "A2 = P @ np.diag(d) @ np.linalg.inv(P)\n",
    "print('PDP^-1=\\n', A2)\n",
    "print(metrics.tdist(A, A2))\n",
    "\n",
    "print(metrics.tdist(P @ P.T, np.eye(4)))\n",
    "print(metrics.tdist(P.T @ P, np.eye(4)))"
   ]
  },
  {
   "cell_type": "markdown",
   "metadata": {},
   "source": [
    "# Computing: Diagonalization of Non-Symetric matrix"
   ]
  },
  {
   "cell_type": "markdown",
   "metadata": {},
   "source": [
    "## Implicitly-Shifted QR\n",
    "\n",
    "The Implicitly-shifted QR algorithm is a method to compute the eigenvalues and eigenvectors of any square matrix.  \n",
    "It can only be applied to upper hessenberg matrices. The algorithm is in 3 steps:\n",
    "- Convert $A$ to an upper hessenberg form\n",
    "- Diagonalize the special matrix\n",
    "- Get the diagonalization of $A$ from the previous step"
   ]
  },
  {
   "cell_type": "markdown",
   "metadata": {},
   "source": [
    "### Convert a matrix to upper Hessenberg Form\n",
    "\n",
    "A matrix in upper Hessenberg form is almost upper triangular, all entries below the first subdiagonal are zeroes:\n",
    "\n",
    "$$\n",
    "\\begin{bmatrix}\n",
    "   * & * & * & * & * \\\\\n",
    "   * & * & * & * & * \\\\\n",
    "   0 & * & * & * & * \\\\\n",
    "   0 & 0 & * & * & * \\\\\n",
    "   0 & 0 & 0 & * & *\n",
    "\\end{bmatrix}\n",
    "$$\n",
    "\n",
    "Let $A \\in \\mathbb{R}^{n*n}$, it can be brought to upper hessenberg form, it's decomposition is:\n",
    "\n",
    "$$B = P A P^T$$\n",
    "\n",
    "with $B \\in \\mathbb{R}^{n*n}$ matrix in upper hessenberg form, and $P \\in \\mathbb{R}^{n*n}$ orthogonal matrix.\n",
    "\n",
    "Using a householder transformation, we can insert zeros below the diagonal with a matrix $P_1$. But multiplying by $P_1^T$ will reinsert values below the diagonal.  \n",
    "But if $P_1$ Only insert zeros below the subdiagonal, multypling by $P_1^T$ will not affect the first column, and the zeros will remain:\n",
    "\n",
    "$$\n",
    "\\begin{gather}\n",
    " P_1 A P_1^T=\n",
    "\\begin{bmatrix}\n",
    "   * & * & * & * & * \\\\\n",
    "   * & * & * & * & * \\\\\n",
    "   0 & * & * & * & * \\\\\n",
    "   0 & * & * & * & * \\\\\n",
    "   0 & * & * & * & *\n",
    "   \\end{bmatrix}\n",
    "\\end{gather}\n",
    "$$\n",
    "\n",
    "With $n - 2$ transformations, it's possible to insert zeros below all the subdiagonal of $A$.\n",
    "\n",
    "$$P_{n-2}P_{n-3}\\text{...}P_2P_1AP_1^TP_2^T\\text{...}P_{n-3}^TP_{n-2}^T = B$$\n",
    "\n",
    "$$P = P_{n-2}P_{n-3}\\text{...}P_2P_1$$"
   ]
  },
  {
   "cell_type": "code",
   "execution_count": 8,
   "metadata": {},
   "outputs": [
    {
     "name": "stdout",
     "output_type": "stream",
     "text": [
      "[[ 5.43976240e-01 -8.40797305e-01  2.72400125e-03  6.50652296e-01\n",
      "  -8.68543643e-01]\n",
      " [ 1.97171890e+00 -6.05955216e-01 -1.51083704e+00 -2.18501120e+00\n",
      "  -7.51141299e-02]\n",
      " [ 3.90260043e-17 -1.21202380e+00  1.11348887e+00 -9.07008391e-01\n",
      "  -3.58267576e-01]\n",
      " [-2.54092890e-17 -1.23385799e-16 -1.33984565e-01 -6.91678462e-01\n",
      "  -1.12064726e+00]\n",
      " [-1.50383258e-17  9.28545057e-17  8.16344688e-18 -1.47640354e-01\n",
      "   2.56646042e+00]]\n",
      "4.855817650995959e-16\n",
      "4.608855610169443e-16\n",
      "9.389689344589599e-16\n",
      "1.7250933163360054e-15\n"
     ]
    }
   ],
   "source": [
    "def house_vect(x):\n",
    "    v = x.copy()\n",
    "    v[0] = x[0] + np.sign(x[0]) * np.linalg.norm(x)\n",
    "    return v\n",
    "    \n",
    "def house_mat(v):\n",
    "    return np.eye(len(v)) - 2 * np.outer(v, v) / (v@v)\n",
    "\n",
    "\n",
    "def hessen(A):\n",
    "    n = len(A)\n",
    "    Ak = A.copy()\n",
    "    Q = np.eye(n)\n",
    "    \n",
    "    for j in range(n-2):\n",
    "    \n",
    "        v = house_vect(Ak[j+1:, j])\n",
    "        P = np.eye(n)\n",
    "        P[j+1:, j+1:] = house_mat(v)\n",
    "        Q = P @ Q\n",
    "        Ak = P @ Ak @ P.T\n",
    "    \n",
    "    return Ak, Q\n",
    "    \n",
    "    \n",
    "A = np.random.randn(5, 5)\n",
    "A2, P = hessen(A)\n",
    "\n",
    "print(A2)\n",
    "\n",
    "print(metrics.tdist(P @ P.T, np.eye(len(P))))\n",
    "print(metrics.tdist(P.T @ P, np.eye(len(P))))\n",
    "print(metrics.tdist(P @ A @ P.T, A2))\n",
    "print(metrics.tdist(P.T @ A2 @ P, A))"
   ]
  },
  {
   "cell_type": "markdown",
   "metadata": {},
   "source": [
    "### Diagonalize an upper hessenberg matrix"
   ]
  },
  {
   "cell_type": "code",
   "execution_count": 69,
   "metadata": {},
   "outputs": [
    {
     "name": "stdout",
     "output_type": "stream",
     "text": [
      "iters: 468\n",
      "[[-1.86  1.43  2.97 -7.43 -2.69]\n",
      " [ 0.    1.5  -0.03 -0.35  1.43]\n",
      " [ 0.    0.    1.42 -0.04 -1.26]\n",
      " [ 0.    0.    0.    1.29  0.47]\n",
      " [-0.   -0.    0.   -0.   -1.17]]\n",
      "[[-1.86  1.43  2.97 -7.43 -2.69]\n",
      " [ 0.    1.5  -0.03 -0.35  1.43]\n",
      " [ 0.    0.    1.42 -0.04 -1.26]\n",
      " [-0.   -0.    0.    1.29  0.47]\n",
      " [ 0.   -0.   -0.    0.   -1.17]]\n",
      "[-1.85851316 -1.16718189  1.28993206  1.42489683  1.49656536]\n",
      "[-1.85851316  1.49656536  1.42489683  1.28993206 -1.16718189]\n"
     ]
    }
   ],
   "source": [
    "def qr_algorithm(A, max_iters=1000):\n",
    "    \n",
    "    Ak = A.copy()\n",
    "    V = np.eye(len(A))\n",
    "    for k in range(max_iters):\n",
    "        # Compute norm below diagonal\n",
    "        lnorm = np.linalg.norm(Ak - np.triu(Ak))\n",
    "        if lnorm < 1e-10: break\n",
    "        \n",
    "        Q, R = np.linalg.qr(Ak)\n",
    "        Ak = R @ Q\n",
    "        V = V @ Q\n",
    "    \n",
    "    print('iters:', k)\n",
    "    \n",
    "    return Ak, V\n",
    "\n",
    "np.random.seed(15)\n",
    "\n",
    "X1 = np.random.randn(5, 5)\n",
    "X2 = np.diag(np.random.randn(len(X1)))\n",
    "X = X1 @ X2 @ np.linalg.inv(X1)\n",
    "\n",
    "A, _ = hessen(X)\n",
    "#A = X\n",
    "\n",
    "Ak, Q = qr_algorithm(A)\n",
    "\n",
    "print(np.around(Ak, 2))\n",
    "#print(np.around(Q, 2))\n",
    "\n",
    "Ak2 = Q.T @ A @ Q\n",
    "print(np.around(Ak2, 2))\n",
    "\n",
    "\n",
    "d2, P2 = np.linalg.eig(A)\n",
    "\n",
    "print(d2)\n",
    "print(np.diag(Ak))"
   ]
  },
  {
   "cell_type": "markdown",
   "metadata": {},
   "source": [
    "### Get the diagonalization of A\n",
    "\n",
    "Let $A \\in \\mathbb{R}^{n*n}$.  \n",
    "Let $B \\in \\mathbb{R}^{n*n}$ upper hessenberg matrix:\n",
    "$$B = QAQ^T$$\n",
    "The diagonalization of $B$ is:\n",
    "$$B = P_BD_BP_B^{-1}$$\n",
    "\n",
    "$A$ and $B$ are similar, they have the same eigenvalues.\n",
    "\n",
    "$$A = Q^TBQ = Q^TP_BD_BP_B^{-1}Q$$\n",
    "\n",
    "The diagonalization of $A$ is:\n",
    "$$A = PDP^{-1}$$\n",
    "with $D = D_B$ and $P = Q^T P_B$"
   ]
  },
  {
   "cell_type": "code",
   "execution_count": 10,
   "metadata": {},
   "outputs": [
    {
     "name": "stdout",
     "output_type": "stream",
     "text": [
      "5.896018613962273e-16\n",
      "2.3889151536227185e-15\n",
      "3.8762527077232024e-15\n",
      "1.5549664902315766e-15\n",
      "4.767520049740204e-15\n",
      "2.2316656098934583e-14\n",
      "1.8436639796905413e-14\n"
     ]
    }
   ],
   "source": [
    "def my_eig(A):\n",
    "    B, Q = hessen(A)\n",
    "    db, Pb = np.linalg.eig(B)\n",
    "    d = db\n",
    "    P = Q.T @ Pb\n",
    "    return d, P\n",
    "\n",
    "X1 = np.random.randn(5, 5)\n",
    "X2 = np.diag(np.random.randn(len(X1)))\n",
    "A = X1 @ X2 @ np.linalg.inv(X1)\n",
    "d, P = my_eig(A)\n",
    "\n",
    "for i in range(len(d)):\n",
    "    print(metrics.tdist(A @ P[:, i], d[i] * P[:, i]))\n",
    "\n",
    "print(metrics.tdist(np.linalg.inv(P) @ A @ P, np.diag(d)))\n",
    "print(metrics.tdist(P @ np.diag(d) @ np.linalg.inv(P), A))"
   ]
  },
  {
   "cell_type": "markdown",
   "metadata": {},
   "source": [
    "## Naive diagonalization"
   ]
  },
  {
   "cell_type": "markdown",
   "metadata": {},
   "source": [
    "### Explicit QR algorithm: Find eigenvalues\n",
    "\n",
    "- Let $A_0 = A$\n",
    "- Iterate:\n",
    "    - Compute the $QR$ factorization of $A$: $A_k = Q_k R_k$\n",
    "    - Let $A_{k+1} = Q_k R_k$\n",
    "\n",
    "As $k \\to \\infty$, $A_k$ converges to the Schur form of $A$, an upper-triangular matrix.\n",
    "$$A_{k+1} = Q_k^{-1}A_kQ_k$$\n",
    "So $A$, $A_1$, ..., $A_k$ are all similar, and thus they share the same eigenvalues.  \n",
    "The eigenvalues of the upper-triangular matrix $A_k$ lie on the diagionals, they are the eigenvalues of $A$"
   ]
  },
  {
   "cell_type": "code",
   "execution_count": 11,
   "metadata": {},
   "outputs": [
    {
     "name": "stdout",
     "output_type": "stream",
     "text": [
      "[6. 1. 1.]\n",
      "[6. 1. 1.]\n",
      "6.3873580624876566e-12\n"
     ]
    }
   ],
   "source": [
    "def qr_algorithm(A, max_iters=1000):\n",
    "    \n",
    "    Ak = A.copy()\n",
    "    for k in range(max_iters):\n",
    "        # Compute norm below diagonal\n",
    "        lnorm = np.linalg.norm(Ak - np.triu(Ak))\n",
    "        if lnorm < 1e-10: break\n",
    "        \n",
    "        Q, R = np.linalg.qr(Ak)\n",
    "        Ak = R @ Q\n",
    "    \n",
    "    return np.diag(Ak)\n",
    "\n",
    "A = np.array([\n",
    "    [2, -2, 1],\n",
    "    [-1, 3, -1],\n",
    "    [2, -4, 3]\n",
    "])\n",
    "\n",
    "d = qr_algorithm(A)\n",
    "d2, _ = np.linalg.eig(A)\n",
    "\n",
    "print(d)\n",
    "print(d2)\n",
    "print(metrics.tdist(d, d2))"
   ]
  },
  {
   "cell_type": "markdown",
   "metadata": {},
   "source": [
    "### Compute the eigenvectors from a corresponding eigenvalue\n",
    "\n",
    "$$Av = \\lambda v$$\n",
    "$$(A - \\lambda I)v = \\vec{0}$$\n",
    "\n",
    "An orthogonal basis of $\\text{Null}(A - \\lambda I)$ is a set of eigenvectors for the eigeinvalue $\\lambda$"
   ]
  },
  {
   "cell_type": "code",
   "execution_count": 12,
   "metadata": {},
   "outputs": [
    {
     "name": "stdout",
     "output_type": "stream",
     "text": [
      "1.4812106129721512e-12\n",
      "3.3603528951155397e-12\n",
      "6.352821333422274e-12\n",
      "6.725357375506194e-12\n",
      "8.730925457289283e-12\n"
     ]
    }
   ],
   "source": [
    "def sv_rank(s):\n",
    "    i = 0\n",
    "    while i < len(s):\n",
    "        if s[i] * s[i] < 1e-12:\n",
    "            break\n",
    "        i += 1\n",
    "    return i\n",
    "\n",
    "def find_evec(A, d):\n",
    "    amd = A - np.eye(len(A)) * d\n",
    "    U, s, VT = np.linalg.svd(amd)\n",
    "    r = sv_rank(s)\n",
    "    return VT[r:].T\n",
    "\n",
    "def my_eig(A):\n",
    "    d = qr_algorithm(A)\n",
    "    vects = None\n",
    "    for i in range(len(d)):\n",
    "        if i > 0 and (d[i] - d[i-1])**2 < 1e-12:\n",
    "            continue\n",
    "        \n",
    "        v = find_evec(A, d[i])\n",
    "        if vects is None:\n",
    "            vects = v\n",
    "        else:\n",
    "            vects = np.concatenate((vects, v), axis = 1)\n",
    "    return d, vects\n",
    "    \n",
    "    \n",
    "A = np.array([\n",
    "    [2, -2, 1],\n",
    "    [-1, 3, -1],\n",
    "    [2, -4, 3]\n",
    "])\n",
    "d, P = my_eig(A)\n",
    "\n",
    "for i in range(len(d)):\n",
    "    print(metrics.tdist(A @ P[:, i], d[i] * P[:, i]))\n",
    "\n",
    "print(metrics.tdist(np.linalg.inv(P) @ A @ P, np.diag(d)))\n",
    "print(metrics.tdist(P @ np.diag(d) @ np.linalg.inv(P), A))"
   ]
  },
  {
   "cell_type": "markdown",
   "metadata": {},
   "source": [
    "# Computing: Diagonalization of Symetric matrix"
   ]
  },
  {
   "cell_type": "markdown",
   "metadata": {},
   "source": [
    "## Jacobi Eigenvalue algorithm\n",
    "\n",
    "The Jacobi eigenvalue algorithm is an iterative method to compute the eigenvalues and eigenvectors of a real symmetric matrix"
   ]
  },
  {
   "cell_type": "markdown",
   "metadata": {},
   "source": [
    "### General algorithm\n",
    "\n",
    "Let $A \\in \\mathbb{R}^{n*n}$ symmetric matrix\n",
    "\n",
    "Let $A_0 = A$\n",
    "\n",
    "$$A_{k+1} = R_k^T A_k R_k$$\n",
    "\n",
    "with $R_k \\in \\mathbb{R}^{n*n}$ a givens rotation matrix.\n",
    "\n",
    "All $A_k$ are symmetric with $A_k \\to \\Lambda$ as $k \\to \\infty$  \n",
    "\n",
    "The algorithm converges to the diagonalization of $A$:\n",
    "\n",
    "$$\\Lambda = A_k = R_{k-1}^TR_{k-2}^T\\text{...}R_0^TAR_0\\text{...}R_{k-2}R_{k-1}$$\n",
    "$$\\Lambda = V^T A V$$\n",
    "with $V = R_0R_1\\text{...}R_{k-1}$\n",
    "\n",
    "### Givens step\n",
    "\n",
    "$$A' = R^T A R$$\n",
    "\n",
    "The goal is to insert a 0 into $A'_{ij}$ and $A'_{ji}$.  \n",
    "$A_{ij}$ is selected at each step as the element wih highest manitude below (or above) the diagonal.  \n",
    "$R$ is a givens matrix $G(i, j, c, s)$.\n",
    "Results of one step:\n",
    "\n",
    "- $a'_{ij} = a'_{ji} = (c^2 - s^2) a_{ij} + cs(a_{ii} - a_{jj})$\n",
    "- $a'_{ii} = c^2a_{ii} + s^2a_{jj} - 2csa_{ij}$\n",
    "- $a'_{jj} = c^2a_{jj} + s^2a_{ii} + 2csa_{ij}$\n",
    "- $a'_{ik} = a'_{ki} = ca_{ik} - sa_{jk} \\space (k \\neq i, k \\neq j)$\n",
    "- $a'_{jk} = a'_{kj} = ca_{jk} + sa_{ik} \\space (k \\neq i, k \\neq j)$\n",
    "- $a'_{kl} = a_{kl} \\space (k \\neq i, l \\neq j)$  \n",
    "\n",
    "\n",
    "$c$ and $s$ are chosen by solving the equation\n",
    "$$a'_{ij} = 0$$\n",
    "\n",
    "Let $w = \\frac{a_{jj} - a_{ii}}{2a_{ij}}$ and $t = \\frac{s}{c}$\n",
    "\n",
    "$t = -w \\pm \\sqrt{w^2 + 1}$\n",
    "\n",
    "We choose the $t$ with the smaller absolute value:\n",
    "\n",
    "$$\n",
    "t = \n",
    "\\begin{cases}\n",
    "    -w + \\sqrt{w^2 + 1} & \\text{if } w \\geq 0\\\\\n",
    "    -w - \\sqrt{w^2 + 1} & \\text{if } w < 0\n",
    "\\end{cases}\n",
    "$$\n",
    "\n",
    "$$c = \\frac{1}{\\sqrt{1+t^2}}$$\n",
    "$$s = \\frac{t}{\\sqrt{1+t^2}}$$\n",
    "\n",
    "### Convergence\n",
    "\n",
    "It converges to a diagonal matrix with a variable number of steps.  \n",
    "The algorithm should be stopped when the diagonal elements of $A_k$ stops moving\n",
    "\n",
    "\n",
    "### Rearrange eigenvalues and eigenvectors\n",
    "\n",
    "The diagonal of $A_k$ contains the eigenvalues, and $V_k = R_0R_1\\text{...}R_{k-1}$ the eigenvectors.  \n",
    "The eigenvalues should be sorted by increasing order, and rearrange $V_k$ at the same time."
   ]
  },
  {
   "cell_type": "code",
   "execution_count": 13,
   "metadata": {},
   "outputs": [
    {
     "name": "stdout",
     "output_type": "stream",
     "text": [
      "3.175458931258127e-08\n",
      "8.15960973091763e-09\n",
      "3.019101309715801e-09\n",
      "3.26453136358311e-08\n",
      "5.679507902062138e-10\n",
      "4.6369033809466186e-08\n",
      "4.6369033239558954e-08\n"
     ]
    }
   ],
   "source": [
    "def given_mat(n, i, j, c, s):\n",
    "    G = np.eye(n)\n",
    "    G[i, i] = c\n",
    "    G[j, j] = c\n",
    "    G[i, j] = s\n",
    "    G[j, i] = -s\n",
    "    return G\n",
    "\n",
    "def sort_eigs(d, P):\n",
    "    dl = d.tolist()\n",
    "    pl = list()\n",
    "    for i in range(len(d)):\n",
    "        pl.append(P[:, i])\n",
    "    \n",
    "    dl, pl = zip(*sorted(zip(dl, pl)))\n",
    "    \n",
    "    d = np.array(dl)\n",
    "    P = np.array(pl).T\n",
    "    \n",
    "    return d, P\n",
    "    \n",
    "\n",
    "def eig_jacobi_naive(A):\n",
    "    n = len(A)\n",
    "    Ak = A.copy()\n",
    "    Vk = np.eye(n)\n",
    "    \n",
    "    iters = 0\n",
    "    while True:\n",
    "        #Find position of sub-diagonal element with highest abs val\n",
    "        Apr = np.abs(Ak - np.triu(Ak)).ravel()\n",
    "        id0 = np.argmax(Apr)\n",
    "        i0 = int(id0 / n)\n",
    "        j0 = int(id0 % n)\n",
    "\n",
    "        #compute c, s that will put 0 on A[i0,j0] and A[j0,i0]\n",
    "        w = (Ak[j0,j0] - Ak[i0, i0]) / (2 * Ak[i0, j0])\n",
    "        if w > 0:\n",
    "            t = - w + np.sqrt(w*w + 1)\n",
    "        else:\n",
    "            t = - w - np.sqrt(w*w + 1)\n",
    "        c = 1 / np.sqrt(1 + t*t)\n",
    "        s = t / np.sqrt(1 + t*t)\n",
    "\n",
    "        #Update Ak and Vk\n",
    "        oldd = np.diag(Ak)\n",
    "        R = given_mat(n, i0, j0, c, s)\n",
    "        Ak = R.T @ Ak @ R\n",
    "        Vk = Vk @ R\n",
    "        iters += 1\n",
    "        \n",
    "        #Stop if diagonal almost didn't change\n",
    "        newd = np.diag(Ak)\n",
    "        update_dist = np.linalg.norm(oldd - newd)\n",
    "        if update_dist < 1e-16:\n",
    "            break\n",
    "        \n",
    "    #print('niters:', iters)\n",
    "    d, P = sort_eigs(np.diag(Ak), Vk)\n",
    "    return d, P\n",
    "\n",
    "A = np.random.randn(5, 5)\n",
    "A = A.T @ A\n",
    "d, P = eig_jacobi_naive(A)\n",
    "\n",
    "for i in range(len(d)):\n",
    "    print(metrics.tdist(A @ P[:, i], d[i] * P[:, i]))\n",
    "\n",
    "print(metrics.tdist(np.linalg.inv(P) @ A @ P, np.diag(d)))\n",
    "print(metrics.tdist(P @ np.diag(d) @ np.linalg.inv(P), A))"
   ]
  },
  {
   "cell_type": "markdown",
   "metadata": {},
   "source": [
    "### Inplace algorithm\n",
    "\n",
    "Instead of computing R and doing the matrix multiplication to update $A$ and $V$, it's possible to update them directly inplace, at a cost of $O(n)$.\n",
    "\n",
    "### Update of A\n",
    "\n",
    "$$A' = R^T A R$$\n",
    "\n",
    "- $a'_{ii} = a_{ii} - ta_{ij}$\n",
    "- $a'_{jj} = a_{jj} + ta_{ij}$\n",
    "- $a'_{ik} = a'_{ki} = ca_{ik} - sa_{jk} \\space (k \\neq i, k \\neq j)$\n",
    "- $a'_{jk} = a'_{kj} = ca_{jk} + sa_{ik} \\space (k \\neq i, k \\neq j)$\n",
    "- $a'_{kl} = a_{kl} \\space (k \\neq i, l \\neq j)$\n",
    "\n",
    "Because $A$ is symmetric, it's possible to never read / write the lower or the upper half of $A$.\n",
    "\n",
    "### Update of V\n",
    "\n",
    "$$V' = V R$$\n",
    "\n",
    "- $v'_{ki} = c v_{ki} - s v_{kj}$\n",
    "- $v'_{kj} = c v_{kj} + s v_{ki}$\n",
    "- $v'_{kl} = v_{kl} \\space (l \\neq i, l \\neq j)$"
   ]
  },
  {
   "cell_type": "code",
   "execution_count": 14,
   "metadata": {},
   "outputs": [
    {
     "name": "stdout",
     "output_type": "stream",
     "text": [
      "1.3650974180029193e-08\n",
      "2.3609938642612105e-09\n",
      "1.9903807493380025e-09\n",
      "2.8152852880587198e-08\n",
      "2.465632328219089e-08\n",
      "3.9955004654167864e-08\n",
      "3.995500488298265e-08\n"
     ]
    }
   ],
   "source": [
    "def sort_eigs(d, P):\n",
    "    dl = d.tolist()\n",
    "    pl = list()\n",
    "    for i in range(len(d)):\n",
    "        pl.append(P[:, i])\n",
    "    \n",
    "    dl, pl = zip(*sorted(zip(dl, pl)))\n",
    "    \n",
    "    d = np.array(dl)\n",
    "    P = np.array(pl).T\n",
    "    \n",
    "    return d, P\n",
    "\n",
    "def update_a(A, i, j, c, s, t):\n",
    "    A[i,i] = A[i,i] - t * A[i,j]\n",
    "    A[j,j] = A[j,j] + t * A[i,j]\n",
    "    \n",
    "    for k in range(len(A)):\n",
    "        aik = A[max(i,k), min(i,k)]\n",
    "        ajk = A[max(j,k), min(j,k)]\n",
    "        \n",
    "        if i != k:\n",
    "            A[max(i,k), min(i,k)] = c * aik - s * ajk\n",
    "        if j != k:\n",
    "            A[max(j,k), min(j,k)] = c * ajk + s * aik\n",
    "    \n",
    "    A[i,j] = 0\n",
    "    \n",
    "def update_AR(A, i, j, c, s):\n",
    "    for k in range(len(A)):\n",
    "        aki = A[k,i]\n",
    "        akj = A[k,j]\n",
    "        A[k,i] = c * aki - s * akj\n",
    "        A[k,j] = c * akj + s * aki\n",
    "        \n",
    "    \n",
    "\n",
    "def eig_jacobi(A):\n",
    "    n = len(A)\n",
    "    Ak = A.copy()\n",
    "    Vk = np.eye(n)\n",
    "    \n",
    "    iters = 0\n",
    "    while True:\n",
    "        #Find position of sub-diagonal element with highest abs val\n",
    "        Apr = np.abs(Ak - np.triu(Ak)).ravel()\n",
    "        id0 = np.argmax(Apr)\n",
    "        i0 = int(id0 / n)\n",
    "        j0 = int(id0 % n)\n",
    "\n",
    "        #compute c, s that will put 0 on A[i0,j0] and A[j0,i0]\n",
    "        w = (Ak[j0,j0] - Ak[i0, i0]) / (2 * Ak[i0, j0])\n",
    "        if w > 0:\n",
    "            t = - w + np.sqrt(w*w + 1)\n",
    "        else:\n",
    "            t = - w - np.sqrt(w*w + 1)\n",
    "        c = 1 / np.sqrt(1 + t*t)\n",
    "        s = t / np.sqrt(1 + t*t)\n",
    "\n",
    "        #Update Ak and Vk\n",
    "        oldd = np.diag(Ak).copy()\n",
    "        update_a(Ak, i0, j0, c, s, t)\n",
    "        update_AR(Vk, i0, j0, c, s)\n",
    "        iters += 1\n",
    "        \n",
    "        #Stop if diagonal almost didn't change\n",
    "        newd = np.diag(Ak)\n",
    "        update_dist = np.linalg.norm(oldd - newd)\n",
    "        if update_dist < 1e-16:\n",
    "            break\n",
    "        \n",
    "    #print('niters:', iters) \n",
    "    d, P = sort_eigs(np.diag(Ak), Vk)\n",
    "    return d, P\n",
    "\n",
    "\n",
    "A = np.random.randn(5, 5)\n",
    "A = A.T @ A\n",
    "d, P = eig_jacobi(A)\n",
    "\n",
    "for i in range(len(d)):\n",
    "    print(metrics.tdist(A @ P[:, i], d[i] * P[:, i]))\n",
    "print(metrics.tdist(np.linalg.inv(P) @ A @ P, np.diag(d)))\n",
    "print(metrics.tdist(P @ np.diag(d) @ np.linalg.inv(P), A))"
   ]
  }
 ],
 "metadata": {
  "kernelspec": {
   "display_name": "Python 3",
   "language": "python",
   "name": "python3"
  },
  "language_info": {
   "codemirror_mode": {
    "name": "ipython",
    "version": 3
   },
   "file_extension": ".py",
   "mimetype": "text/x-python",
   "name": "python",
   "nbconvert_exporter": "python",
   "pygments_lexer": "ipython3",
   "version": "3.6.7"
  }
 },
 "nbformat": 4,
 "nbformat_minor": 2
}
