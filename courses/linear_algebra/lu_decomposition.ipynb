{
 "cells": [
  {
   "cell_type": "code",
   "execution_count": 1,
   "metadata": {},
   "outputs": [],
   "source": [
    "import sys\n",
    "sys.path.append('../../pyutils')\n",
    "\n",
    "import numpy as np\n",
    "import scipy.linalg\n",
    "\n",
    "import metrics\n",
    "\n",
    "np.random.seed(12)"
   ]
  },
  {
   "cell_type": "markdown",
   "metadata": {},
   "source": [
    "# LU Decomposition\n",
    "\n",
    "Let $A$ matrix of size $n * n$. Some (not all) non-singular (invertible) matrices can be decomposed with the LU Decomposition.  \n",
    "$A = LU$ with $L$ lower unit triangular matrix (1s on diagonal), and $U$ upper unit triangular matrix."
   ]
  },
  {
   "cell_type": "code",
   "execution_count": 2,
   "metadata": {},
   "outputs": [],
   "source": [
    "def lu(a):\n",
    "    n = a.shape[0]\n",
    "    l = np.eye(n)\n",
    "    u = a.copy()\n",
    "    \n",
    "    for j in range(n):\n",
    "        pivot = u[j, j] #might be null, decomposition fails if no perms\n",
    "        \n",
    "        for i in range(j+1, n):\n",
    "            #coeff is selected to put 0 in u[i, j]\n",
    "            coeff = - u[i, j] / pivot \n",
    "            l[i, j] = - coeff\n",
    "            u[i] += coeff * u[j]  \n",
    "    \n",
    "    return l, u"
   ]
  },
  {
   "cell_type": "code",
   "execution_count": 3,
   "metadata": {},
   "outputs": [
    {
     "name": "stdout",
     "output_type": "stream",
     "text": [
      "True\n",
      "True\n",
      "8.760130269597858e-16\n",
      "[[ 1.          0.          0.          0.        ]\n",
      " [ 1.59231585  1.          0.          0.        ]\n",
      " [-1.70614387 -3.80097752  1.          0.        ]\n",
      " [ 2.31710137 -0.80894676 -0.28949308  1.        ]]\n",
      "[[ 0.47298583 -0.68142588  0.2424395  -1.70073563]\n",
      " [ 0.         -0.44967612 -0.38091317  2.58788063]\n",
      " [ 0.          0.         -1.63202867  7.40723341]\n",
      " [ 0.          0.          0.          8.05642753]]\n"
     ]
    }
   ],
   "source": [
    "A = np.random.randn(4, 4)\n",
    "l, u = lu(A)\n",
    "print(metrics.is_ltri(l))\n",
    "print(metrics.is_utri(u))\n",
    "print(metrics.tdist(A, l @ u))\n",
    "print(l)\n",
    "print(u)"
   ]
  },
  {
   "cell_type": "markdown",
   "metadata": {},
   "source": [
    "## Solve systems of equations\n",
    "\n",
    "Let $A$ matrix of size $n * n$, $b$ and $x$ vectors of size $n$.  \n",
    "Find $x$ such that $Ax = b$.  \n",
    "Let $A = LU$.  \n",
    "$$Ax = b$$\n",
    "$$LUx = b$$\n",
    "Let $c = Ux$.  \n",
    "Solve $Lc = b$ with forward subtition.  \n",
    "Solve $Ux = c$ with backward subtition."
   ]
  },
  {
   "cell_type": "code",
   "execution_count": 4,
   "metadata": {},
   "outputs": [],
   "source": [
    "def solve_lu(A, b):\n",
    "    L, U = lu(A)\n",
    "    c = scipy.linalg.solve_triangular(L, b, lower=True)\n",
    "    x = scipy.linalg.solve_triangular(U, c)\n",
    "    return x"
   ]
  },
  {
   "cell_type": "code",
   "execution_count": 5,
   "metadata": {},
   "outputs": [
    {
     "name": "stdout",
     "output_type": "stream",
     "text": [
      "[-0.04612211  0.66400747 -0.76361173  0.06805269]\n",
      "[-0.04612211  0.66400747 -0.76361173  0.06805269]\n",
      "4.072131729349396e-16\n",
      "2.435541875787129e-16\n"
     ]
    }
   ],
   "source": [
    "A = np.random.randn(4, 4)\n",
    "b = np.random.randn(4)\n",
    "\n",
    "x = solve_lu(A, b)\n",
    "x_sol = scipy.linalg.solve(A, b)\n",
    "\n",
    "print(x)\n",
    "print(x_sol)\n",
    "print(metrics.tdist(x, x_sol))\n",
    "print(metrics.tdist(A @ x, b))"
   ]
  },
  {
   "cell_type": "markdown",
   "metadata": {},
   "source": [
    "The same algorithm also works to solve matrix systems.\n",
    "Solve $AX = B$ with $A$ matrix of size $n * n$, $B$ matrix of size $n * p$, and $X$ matrix of size $n * p$"
   ]
  },
  {
   "cell_type": "code",
   "execution_count": 6,
   "metadata": {},
   "outputs": [
    {
     "name": "stdout",
     "output_type": "stream",
     "text": [
      "[[ 0.16198301 -0.44528304 -0.41340957]\n",
      " [ 1.07189255 -1.77532918 -0.93435048]\n",
      " [ 0.03739459 -0.06904685 -0.80474698]\n",
      " [ 0.32868399 -0.5980154   0.07345963]]\n",
      "[[ 0.16198301 -0.44528304 -0.41340957]\n",
      " [ 1.07189255 -1.77532918 -0.93435048]\n",
      " [ 0.03739459 -0.06904685 -0.80474698]\n",
      " [ 0.32868399 -0.5980154   0.07345963]]\n",
      "2.391654643720554e-16\n",
      "4.901138768834219e-16\n"
     ]
    }
   ],
   "source": [
    "A = np.random.randn(4, 4)\n",
    "b = np.random.randn(4, 3)\n",
    "\n",
    "x = solve_lu(A, b)\n",
    "x_sol = scipy.linalg.solve(A, b)\n",
    "\n",
    "print(x)\n",
    "print(x_sol)\n",
    "print(metrics.tdist(x, x_sol))\n",
    "print(metrics.tdist(A @ x, b))"
   ]
  },
  {
   "cell_type": "markdown",
   "metadata": {},
   "source": [
    "It's possible to find the inverse of a matrix by solving $AX = B$ for $B = I$.  \n",
    "$X = A^{-1}$"
   ]
  },
  {
   "cell_type": "code",
   "execution_count": 7,
   "metadata": {},
   "outputs": [],
   "source": [
    "def inv_lu(A):\n",
    "    return solve_lu(A, np.eye(A.shape[0]))"
   ]
  },
  {
   "cell_type": "code",
   "execution_count": 8,
   "metadata": {},
   "outputs": [
    {
     "name": "stdout",
     "output_type": "stream",
     "text": [
      "[[ 0.13813637 -0.6297848   0.32532762  0.58361483]\n",
      " [ 0.02442446 -0.0461876  -0.42456221 -1.14916703]\n",
      " [-0.41320576  0.06033226 -0.00953712 -0.67958276]\n",
      " [ 0.27784622  0.4398829  -0.09806117 -1.07621781]]\n",
      "[[ 0.13813637 -0.6297848   0.32532762  0.58361483]\n",
      " [ 0.02442446 -0.0461876  -0.42456221 -1.14916703]\n",
      " [-0.41320576  0.06033226 -0.00953712 -0.67958276]\n",
      " [ 0.27784622  0.4398829  -0.09806117 -1.07621781]]\n",
      "7.307614010947559e-16\n",
      "1.1566293428875008e-15\n",
      "8.65920581238202e-16\n"
     ]
    }
   ],
   "source": [
    "A = np.random.randn(4, 4)\n",
    "Ai = inv_lu(A)\n",
    "Ai_sol = np.linalg.inv(A)\n",
    "\n",
    "print(Ai)\n",
    "print(Ai_sol)\n",
    "print(metrics.tdist(Ai, Ai_sol))\n",
    "print(metrics.tdist(A @ Ai, np.eye(4)))\n",
    "print(metrics.tdist(Ai @ A, np.eye(4)))"
   ]
  },
  {
   "cell_type": "markdown",
   "metadata": {},
   "source": [
    "## PLU Decomposition\n",
    "\n",
    "Any non-singular matrix $A$ of size $n * n$ can be decomposed as:\n",
    "$$PA = LU$$\n",
    "$L$ lower unit triangular matrix (1s on diagonal), $U$ upper unit triangular matrix, and $P$ transposition matrix.   \n",
    "$P$ is used to exchange rows of $A$, in order to remove 0-pivots, that makes the $LU$ decomposition ompossible, and also to choose the biggest pivot, to have a more stable matrix."
   ]
  },
  {
   "cell_type": "code",
   "execution_count": 9,
   "metadata": {},
   "outputs": [],
   "source": [
    "def find_p(a):\n",
    "    n = a.shape[0]\n",
    "    p = np.eye(n)\n",
    "    \n",
    "    for j in range(n):\n",
    "        \n",
    "        #get index of biggest abs element in column j (starting at line j)\n",
    "        pivot = j + np.argmax(np.abs(a[j:, j]))\n",
    "        \n",
    "        if pivot != j: #swap both lines\n",
    "            p[[j, pivot]] = p[[pivot, j]]\n",
    "            \n",
    "    return p\n",
    "    \n",
    "\n",
    "def plu(a):\n",
    "    p = find_p(a)\n",
    "    a2 = p @ a\n",
    "    l, u = lu(a2)\n",
    "    return p, l, u"
   ]
  },
  {
   "cell_type": "code",
   "execution_count": 10,
   "metadata": {},
   "outputs": [
    {
     "name": "stdout",
     "output_type": "stream",
     "text": [
      "True\n",
      "True\n",
      "3.0531133177191805e-16\n",
      "[[0. 1. 0. 0.]\n",
      " [1. 0. 0. 0.]\n",
      " [0. 0. 1. 0.]\n",
      " [0. 0. 0. 1.]]\n",
      "[[ 1.          0.          0.          0.        ]\n",
      " [-0.73237864  1.          0.          0.        ]\n",
      " [-0.25500099 -0.04167413  1.          0.        ]\n",
      " [-0.37667918 -0.17565632  0.8168222   1.        ]]\n",
      "[[ 1.82882072e+00 -1.00100155e+00 -2.09169121e+00  1.46559706e-01]\n",
      " [ 0.00000000e+00 -2.42276507e+00 -1.73123730e+00  3.65109783e-01]\n",
      " [ 5.55111512e-17  0.00000000e+00 -1.00341088e+00 -1.20663501e+00]\n",
      " [-4.53427405e-17  0.00000000e+00  0.00000000e+00  1.35769598e-01]]\n"
     ]
    }
   ],
   "source": [
    "A = np.random.randn(4, 4)\n",
    "p, l, u = plu(A)\n",
    "print(metrics.is_ltri(l))\n",
    "print(metrics.is_utri(u))\n",
    "print(metrics.tdist(p @ A, l @ u))\n",
    "print(p)\n",
    "print(l)\n",
    "print(u)"
   ]
  },
  {
   "cell_type": "markdown",
   "metadata": {},
   "source": [
    "$PLU$ decomposition can be used to solve $Ax=b$  \n",
    "Let $PA = LU$.  \n",
    "$$Ax = b$$\n",
    "$$PAx = Pb$$\n",
    "$$LUx = Pb$$\n",
    "Let $c = Ux$.  \n",
    "Solve $Lc = Pb$ with forward subtition.  \n",
    "Solve $Ux = c$ with backward subtition.  \n",
    "Similar techniques can be used to solve matrix systems, and to find the inverse of any singular matrix."
   ]
  },
  {
   "cell_type": "code",
   "execution_count": 11,
   "metadata": {},
   "outputs": [],
   "source": [
    "def solve_plu(A, b):\n",
    "    P, L, U = plu(A)\n",
    "    c = scipy.linalg.solve_triangular(L, P @ b, lower=True)\n",
    "    x = scipy.linalg.solve_triangular(U, c)\n",
    "    return x"
   ]
  },
  {
   "cell_type": "code",
   "execution_count": 12,
   "metadata": {},
   "outputs": [
    {
     "name": "stdout",
     "output_type": "stream",
     "text": [
      "[[ 0.67963185  0.76083933 -0.22913294]\n",
      " [-0.34468008  0.13057644 -0.47866154]\n",
      " [ 0.069055   -0.61554658 -0.31966445]\n",
      " [ 1.57513242  2.15868724 -1.07682005]]\n",
      "[[ 0.67963185  0.76083933 -0.22913294]\n",
      " [-0.34468008  0.13057644 -0.47866154]\n",
      " [ 0.069055   -0.61554658 -0.31966445]\n",
      " [ 1.57513242  2.15868724 -1.07682005]]\n",
      "0.0\n",
      "1.0812435546590148e-15\n"
     ]
    }
   ],
   "source": [
    "A = np.random.randn(4, 4)\n",
    "b = np.random.randn(4, 3)\n",
    "\n",
    "x = solve_plu(A, b)\n",
    "x_sol = scipy.linalg.solve(A, b)\n",
    "\n",
    "print(x)\n",
    "print(x_sol)\n",
    "print(metrics.tdist(x, x_sol))\n",
    "print(metrics.tdist(A @ x, b))"
   ]
  },
  {
   "cell_type": "code",
   "execution_count": 13,
   "metadata": {},
   "outputs": [],
   "source": [
    "def inv_plu(A):\n",
    "    return solve_plu(A, np.eye(A.shape[0]))"
   ]
  },
  {
   "cell_type": "code",
   "execution_count": 14,
   "metadata": {},
   "outputs": [
    {
     "name": "stdout",
     "output_type": "stream",
     "text": [
      "[[ 0.55523701 -0.38569395  0.27965706  0.53797537]\n",
      " [-0.05875729  0.09195237  0.5776943  -0.02055776]\n",
      " [ 0.3610978  -0.68108284 -0.06321464 -0.14090037]\n",
      " [-1.0338259   0.40856018  0.03158238 -0.19588969]]\n",
      "[[ 0.55523701 -0.38569395  0.27965706  0.53797537]\n",
      " [-0.05875729  0.09195237  0.5776943  -0.02055776]\n",
      " [ 0.3610978  -0.68108284 -0.06321464 -0.14090037]\n",
      " [-1.0338259   0.40856018  0.03158238 -0.19588969]]\n",
      "4.2966547712338835e-16\n",
      "5.390431360858285e-16\n",
      "6.507066344842252e-16\n"
     ]
    }
   ],
   "source": [
    "A = np.random.randn(4, 4)\n",
    "Ai = inv_plu(A)\n",
    "Ai_sol = np.linalg.inv(A)\n",
    "\n",
    "print(Ai)\n",
    "print(Ai_sol)\n",
    "print(metrics.tdist(Ai, Ai_sol))\n",
    "print(metrics.tdist(A @ Ai, np.eye(4)))\n",
    "print(metrics.tdist(Ai @ A, np.eye(4)))"
   ]
  }
 ],
 "metadata": {
  "kernelspec": {
   "display_name": "Python 3",
   "language": "python",
   "name": "python3"
  },
  "language_info": {
   "codemirror_mode": {
    "name": "ipython",
    "version": 3
   },
   "file_extension": ".py",
   "mimetype": "text/x-python",
   "name": "python",
   "nbconvert_exporter": "python",
   "pygments_lexer": "ipython3",
   "version": "3.6.7"
  }
 },
 "nbformat": 4,
 "nbformat_minor": 2
}
