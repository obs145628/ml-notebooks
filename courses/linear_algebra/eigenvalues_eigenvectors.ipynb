{
 "cells": [
  {
   "cell_type": "code",
   "execution_count": 1,
   "metadata": {},
   "outputs": [],
   "source": [
    "import sys\n",
    "sys.path.append('../../pyutils')\n",
    "\n",
    "import numpy as np\n",
    "\n",
    "import metrics"
   ]
  },
  {
   "cell_type": "markdown",
   "metadata": {},
   "source": [
    "# Definition\n",
    "\n",
    "Let $A \\in \\mathbb{R}^{n*n}$\n",
    "\n",
    "Let $v \\in \\mathbb{R}^{n}$. If there is a scalar $\\lambda \\in \\mathbb{R}$ such that:\n",
    "\n",
    "$$A v = \\lambda v$$\n",
    "\n",
    "Then $v$ is an eigenvector of $A$, and $\\lambda$ is it's corresponding eigenvalue.  \n",
    "\n",
    "$v$ is also called a right eigenvector, to differientate them from the left eigeinvectors, that satisfy the equation:\n",
    "\n",
    "$$v^TA = \\lambda v$$  \n",
    "\n",
    "If $v$ is an eigeinvector, $\\alpha v$, $\\alpha \\in \\mathbb{R}$, is also an eigenvector, with the same eigeinvalue $\\lambda$.  \n",
    "That's why we are often only interested by the normalized eigenvectors"
   ]
  },
  {
   "cell_type": "code",
   "execution_count": 2,
   "metadata": {},
   "outputs": [
    {
     "name": "stdout",
     "output_type": "stream",
     "text": [
      "[6. 1. 1.]\n",
      "[[-0.40824829 -0.50222833  0.86820728]\n",
      " [ 0.40824829  0.17255747  0.48545624]\n",
      " [-0.81649658  0.84734327  0.10270521]]\n",
      "[-2.44948974  2.44948974 -4.89897949]\n",
      "[-2.44948974  2.44948974 -4.89897949]\n",
      "1.7763568394002505e-15\n",
      "[ 11.16967323 -11.16967323  22.33934645]\n",
      "[ 11.16967323 -11.16967323  22.33934645]\n",
      "7.32410687763558e-15\n"
     ]
    }
   ],
   "source": [
    "A = np.array([\n",
    "    [2, -2, 1],\n",
    "    [-1, 3, -1],\n",
    "    [2, -4, 3]\n",
    "])\n",
    "d, V = np.linalg.eig(A)\n",
    "print(d)\n",
    "print(V)\n",
    "d = d[0]\n",
    "v = V[:, 0]\n",
    "\n",
    "print(A @ v)\n",
    "print(d * v)\n",
    "print(metrics.tdist(A @ v, d * v))\n",
    "\n",
    "v2 = -4.56 * v\n",
    "print(A @ v2)\n",
    "print(d * v2)\n",
    "print(metrics.tdist(A @ v2, d * v2))"
   ]
  },
  {
   "cell_type": "markdown",
   "metadata": {},
   "source": [
    "# Power method\n",
    "\n",
    "The power method is an algorithm to find the eigenvalue of a matrix $A \\in \\mathbb{R}^{n*n}$ with the greatest magnitude, and its corresponding eigenvector\n",
    "\n",
    "Let $v_0$ an approximation of the eigenvector. Define the recursion:\n",
    "$$v_{k+1} = \\frac{Av_k}{||Av_k||}$$\n",
    "Thus, $v_k$ can be defined as:\n",
    "$$v_k = \\frac{A^k v_0}{||A^k v_0||}$$\n",
    "\n",
    "It can be shown that if $A$ is diagonalizable, $v_k$ converges to the eigenvector corresponding to the eigenvalue with the greatest magnitude.\n",
    "\n",
    "The corresponding eigenvalue can be estimated with the Rayleigh quotient."
   ]
  },
  {
   "cell_type": "markdown",
   "metadata": {},
   "source": [
    "# Rayleigh quotient\n",
    "\n",
    "Let $x \\in \\mathbb{R}^n$ and $M \\in \\mathbb{R}^{n*n}$. The Rayleigh quotient $R(M,x)$ is defined as:\n",
    "$$R(M,x) = \\frac{x^TMx}{x^Tx}$$\n",
    "\n",
    "The Rayleigh quotient reaches its minimum value $\\lambda_\\min$ (the smallest eigenvalue of $M$) when $x = v_\\min$ (the corresponding eigenvector).  \n",
    "Similarly, the Rayleigh quotient reaches its maximum value $\\lambda_\\max$ (the largest eigenvalue of $M$) when $x = v_\\max$ (the corresponding eigenvector)."
   ]
  },
  {
   "cell_type": "code",
   "execution_count": 3,
   "metadata": {},
   "outputs": [
    {
     "name": "stdout",
     "output_type": "stream",
     "text": [
      "5.999999998930137\n",
      "[ 0.40824829 -0.40824829  0.81649658]\n"
     ]
    }
   ],
   "source": [
    "def power_method(A, tol=1e-16):\n",
    "    N = len(A)\n",
    "    v = np.random.rand(N)\n",
    "    \n",
    "    its = 0\n",
    "    while True:\n",
    "        v1 = A @ v\n",
    "        v1 /= np.linalg.norm(v1)\n",
    "        \n",
    "        its += 1\n",
    "        if (v - v1) @ (v - v1) < tol:\n",
    "            break\n",
    "        v = v1\n",
    "        \n",
    "    #print(its)\n",
    "    return v1 @ A @ v1, v1\n",
    "    \n",
    "A = np.array([\n",
    "    [2, -2, 1],\n",
    "    [-1, 3, -1],\n",
    "    [2, -4, 3]\n",
    "])\n",
    "d, v = power_method(A)\n",
    "print(d)\n",
    "print(v)"
   ]
  }
 ],
 "metadata": {
  "kernelspec": {
   "display_name": "Python 3",
   "language": "python",
   "name": "python3"
  },
  "language_info": {
   "codemirror_mode": {
    "name": "ipython",
    "version": 3
   },
   "file_extension": ".py",
   "mimetype": "text/x-python",
   "name": "python",
   "nbconvert_exporter": "python",
   "pygments_lexer": "ipython3",
   "version": "3.6.7"
  }
 },
 "nbformat": 4,
 "nbformat_minor": 2
}
