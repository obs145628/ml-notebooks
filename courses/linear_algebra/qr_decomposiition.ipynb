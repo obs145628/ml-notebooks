{
 "cells": [
  {
   "cell_type": "code",
   "execution_count": 1,
   "metadata": {},
   "outputs": [],
   "source": [
    "import sys\n",
    "sys.path.append('../../pyutils')\n",
    "\n",
    "import numpy as np\n",
    "\n",
    "import metrics\n",
    "\n",
    "np.random.seed(12)"
   ]
  },
  {
   "cell_type": "markdown",
   "metadata": {},
   "source": [
    "# QR Factorisation\n",
    "\n",
    "Let $A$ matrix of size $m * n$, with $m \\geq n$, and $dim(Col A) = n$ (independant columns).  \n",
    "A can be decomposed as $A = QR$, where $Q$ is a matrix with orthogonal columns ($Q^TQ=I$) of size $m * n$, and $R$ is an upper triangular matrix of size $n * n$.  \n",
    "If $A$ square, $Q$ is an orthogonal matrix ($QQ^T=Q^TQ=I$).  \n",
    "The decomposition is unique if all diagonal entries of $R$ are positive."
   ]
  },
  {
   "cell_type": "code",
   "execution_count": 2,
   "metadata": {},
   "outputs": [
    {
     "name": "stdout",
     "output_type": "stream",
     "text": [
      "(4, 3)\n",
      "(4, 3)\n",
      "(3, 3)\n"
     ]
    }
   ],
   "source": [
    "A = np.random.randn(4, 3)\n",
    "Q, R = np.linalg.qr(A)\n",
    "print(A.shape)\n",
    "print(Q.shape)\n",
    "print(R.shape)"
   ]
  },
  {
   "cell_type": "code",
   "execution_count": 3,
   "metadata": {},
   "outputs": [
    {
     "name": "stdout",
     "output_type": "stream",
     "text": [
      "4.158610537008119e-16\n",
      "8.675560052622147e-16\n",
      "True\n",
      "[[-0.14031056  0.82546298 -0.25514143]\n",
      " [ 0.50452075 -0.38925408 -0.58421823]\n",
      " [-0.00152094  0.18042135 -0.70849607]\n",
      " [-0.85192104 -0.36679731 -0.3026966 ]]\n",
      "[[-3.37099247  0.98506821 -1.20958426]\n",
      " [ 0.         -0.65806756  0.47862866]\n",
      " [ 0.          0.          1.26348819]]\n"
     ]
    }
   ],
   "source": [
    "print(metrics.tdist(Q.T @ Q, np.eye(3)))\n",
    "print(metrics.tdist(Q @ R, A))\n",
    "print(metrics.is_utri(R))\n",
    "print(Q)\n",
    "print(R)"
   ]
  },
  {
   "cell_type": "markdown",
   "metadata": {},
   "source": [
    "## QR Implementation with Gram-Schmidt process"
   ]
  },
  {
   "cell_type": "code",
   "execution_count": 4,
   "metadata": {},
   "outputs": [],
   "source": [
    "def qr_gram(a):\n",
    "    \n",
    "    q = a.copy()\n",
    "    r = np.eye(a.shape[1])\n",
    "    \n",
    "    for j in range(a.shape[1]):\n",
    "        \n",
    "        nex = q[:, j]\n",
    "        for k in range(j):\n",
    "            prev = q[:, k]\n",
    "            coeff = np.dot(prev, nex) / np.dot(prev, prev)\n",
    "            r[k, j] = coeff\n",
    "            nex -= prev * coeff #update q in-place (nex is a view of q)\n",
    "        \n",
    "    #normalize q columns and scale r rows to maintain a = qr\n",
    "    for j in range(a.shape[1]):\n",
    "        n = np.linalg.norm(q[:, j])\n",
    "        q[:, j] /= n\n",
    "        r[j] *= n\n",
    "        \n",
    "    return q, r"
   ]
  },
  {
   "cell_type": "code",
   "execution_count": 5,
   "metadata": {},
   "outputs": [
    {
     "name": "stdout",
     "output_type": "stream",
     "text": [
      "(4, 3)\n",
      "(4, 3)\n",
      "(3, 3)\n"
     ]
    }
   ],
   "source": [
    "Q, R = qr_gram(A)\n",
    "print(A.shape)\n",
    "print(Q.shape)\n",
    "print(R.shape)"
   ]
  },
  {
   "cell_type": "code",
   "execution_count": 6,
   "metadata": {},
   "outputs": [
    {
     "name": "stdout",
     "output_type": "stream",
     "text": [
      "4.823698467508981e-16\n",
      "2.4196749845665633e-16\n",
      "True\n",
      "[[ 0.14031056 -0.82546298 -0.25514143]\n",
      " [-0.50452075  0.38925408 -0.58421823]\n",
      " [ 0.00152094 -0.18042135 -0.70849607]\n",
      " [ 0.85192104  0.36679731 -0.3026966 ]]\n",
      "[[ 3.37099247 -0.98506821  1.20958426]\n",
      " [ 0.          0.65806756 -0.47862866]\n",
      " [ 0.          0.          1.26348819]]\n"
     ]
    }
   ],
   "source": [
    "print(metrics.tdist(Q.T @ Q, np.eye(3)))\n",
    "print(metrics.tdist(Q @ R, A))\n",
    "print(metrics.is_utri(R))\n",
    "print(Q)\n",
    "print(R)"
   ]
  },
  {
   "cell_type": "markdown",
   "metadata": {},
   "source": [
    "## QR decomposition with householder"
   ]
  },
  {
   "cell_type": "markdown",
   "metadata": {},
   "source": [
    "### Householder transformation\n",
    "\n",
    "Let $x \\in \\mathbb{R^n}$, $v \\in \\mathbb{R}^n$ unit vector\n",
    "$$x \\to x - 2v(v^Tx)$$\n",
    "\n",
    "The householder matrix is the projection matrix for that transformation.\n",
    "$$P = I - 2vv^T$$\n",
    "The householder matrix is orthogonal: $P^{-1}=P^T$"
   ]
  },
  {
   "cell_type": "markdown",
   "metadata": {},
   "source": [
    "The goal is to find the vector $v$ than can transform a vector $x$ into a vector $\\alpha e_1$, meaning set all values below a specific entry at 0.\n",
    "\n",
    "$$u_1 = x_1 + \\text{sign}(x1)||x_1||$$\n",
    "$u_2 = x_2$, $u_3 = x_3$, ..."
   ]
  },
  {
   "cell_type": "markdown",
   "metadata": {},
   "source": [
    "The transformation is applied to each column. Each time, we only take a submatrix of $A$ in order to get the first non-zero entry at the top, and the full house is extended on the top by the identity matrix, so that every entry on the left and on the top stays the same.\n",
    "\n",
    "After $n$ iterations, $A$ is trasnformed to an upperdiagonal matrix $R$.  \n",
    "$$Q = P_1^T P_2^T \\text{...} P_{n}^T$$\n",
    "$$A = QR$$\n",
    "Q is the product of all transformations, so it's an orthogonal matrix"
   ]
  },
  {
   "cell_type": "code",
   "execution_count": 7,
   "metadata": {},
   "outputs": [],
   "source": [
    "def house_vect(x):\n",
    "    v = x.copy()\n",
    "    v[0] = x[0] + np.sign(x[0]) * np.linalg.norm(x)\n",
    "    return v\n",
    "    \n",
    "def house_mat(v):\n",
    "    return np.eye(len(v)) - 2 * np.outer(v, v) / (v@v)\n",
    "\n",
    "def qr_householder(A):\n",
    "    m, n = A.shape\n",
    "    \n",
    "    Q = np.eye(m)\n",
    "    R = A.copy()\n",
    "    \n",
    "    \n",
    "    for j in range(min(m, n)):\n",
    "        \n",
    "        R_sub = R[j:, j:]\n",
    "        v = house_vect(R_sub[:, 0])\n",
    "        P = np.eye(m)\n",
    "        P[j:, j:] = house_mat(v)\n",
    "        R = P @ R\n",
    "        Q = Q @ P.T\n",
    "        \n",
    "    return Q, R"
   ]
  },
  {
   "cell_type": "code",
   "execution_count": 8,
   "metadata": {},
   "outputs": [
    {
     "name": "stdout",
     "output_type": "stream",
     "text": [
      "3.3335590258932494e-16\n",
      "2.253716146295488e-16\n",
      "1.4086042880055593e-16\n",
      "6.158017547833885e-17\n"
     ]
    }
   ],
   "source": [
    "A = np.random.randn(3, 3)\n",
    "Q, R = qr_householder(A)\n",
    "\n",
    "print(metrics.tdist(A, Q @ R))\n",
    "print(metrics.tdist(Q @ Q.T, np.eye(A.shape[0])))\n",
    "print(metrics.tdist(Q.T @ Q, np.eye(A.shape[0])))\n",
    "print(metrics.tdist(R, np.triu(R)))"
   ]
  },
  {
   "cell_type": "markdown",
   "metadata": {},
   "source": [
    "If $m > n$, $R$ is upper diagonal, the $m-n$ last rows are all 0"
   ]
  },
  {
   "cell_type": "code",
   "execution_count": 9,
   "metadata": {},
   "outputs": [
    {
     "name": "stdout",
     "output_type": "stream",
     "text": [
      "9.471018274707082e-16\n",
      "8.921940575121625e-16\n",
      "8.34543037121412e-16\n",
      "2.9973870621896996e-16\n"
     ]
    }
   ],
   "source": [
    "A = np.random.randn(7, 3)\n",
    "Q, R = qr_householder(A)\n",
    "\n",
    "print(metrics.tdist(A, Q @ R))\n",
    "print(metrics.tdist(Q @ Q.T, np.eye(A.shape[0])))\n",
    "print(metrics.tdist(Q.T @ Q, np.eye(A.shape[0])))\n",
    "print(metrics.tdist(R, np.triu(R)))"
   ]
  },
  {
   "cell_type": "markdown",
   "metadata": {},
   "source": [
    "If m < n, we can stop after m iterations, there is no more columns left to put $0$"
   ]
  },
  {
   "cell_type": "code",
   "execution_count": 10,
   "metadata": {},
   "outputs": [
    {
     "name": "stdout",
     "output_type": "stream",
     "text": [
      "2.567203199922655e-15\n",
      "7.376703283992538e-16\n",
      "7.483555336676825e-16\n",
      "2.0404170400622705e-16\n"
     ]
    }
   ],
   "source": [
    "A = np.random.randn(3, 7)\n",
    "Q, R = qr_householder(A)\n",
    "\n",
    "print(metrics.tdist(A, Q @ R))\n",
    "print(metrics.tdist(Q @ Q.T, np.eye(A.shape[0])))\n",
    "print(metrics.tdist(Q.T @ Q, np.eye(A.shape[0])))\n",
    "print(metrics.tdist(R, np.triu(R)))"
   ]
  },
  {
   "cell_type": "markdown",
   "metadata": {},
   "source": [
    "## QR decomposition with Given rotations"
   ]
  },
  {
   "cell_type": "markdown",
   "metadata": {},
   "source": [
    "$G(i, j, \\theta)$ is a matrix representing a givens rotation.  \n",
    "The non-zeros entries are:\n",
    "- $g_{kk} = 1$ for $k \\neq i, j$\n",
    "- $g_{kk}  = \\cos(\\theta)$ for $k = i,j$\n",
    "- $g_{ji} = - \\sin(\\theta)$\n",
    "- $g_{ij} =  \\sin(\\theta)$\n",
    "\n",
    "Givens rotations can be used to put a 0 in a specific entry of a vector or a matrix.\n",
    "\n",
    "$G$ matrix is orthogonal"
   ]
  },
  {
   "cell_type": "markdown",
   "metadata": {},
   "source": [
    "$G(i, j, \\theta)$ applied to vector $x$ will ony change entries $x_i$ and $x_j$.\n",
    "We can set the entry $x_j$ to $0$ by solving this system of equations:\n",
    "\n",
    "$$\n",
    "\\begin{bmatrix} c & -s \\\\ s & c \\end{bmatrix}^T  \\left[ \\begin{array}{c} x_i \\\\ x_j \\end{array} \\right] = \\left[ \\begin{array}{c} \\rho \\\\ 0 \\end{array} \\right]\n",
    "$$\n",
    "\n",
    "The solutions are:\n",
    "\n",
    "$$c = \\frac{x_i}{\\sqrt{x_i^2 + x_j^2}}, \\space s = \\frac{x_j}{\\sqrt{x_i + 2 + x_j^2}}$$\n",
    "\n",
    "In practice there solutions might overflow, and other more stable solutions are used."
   ]
  },
  {
   "cell_type": "markdown",
   "metadata": {},
   "source": [
    "We can apply one Given rotation to each entry we went to set to $0$ in order to transform $A$ into $R$.\n",
    "$$R = G_{t}^T G_{t-1}^T \\text{...} G_2^T G_1^T A$$\n",
    "$$Q = G_1 G_2 \\text{...} G_{t-1} G_{t}$$"
   ]
  },
  {
   "cell_type": "code",
   "execution_count": 11,
   "metadata": {},
   "outputs": [],
   "source": [
    "def get_angles(a, b):\n",
    "    if np.abs(b) < 1e-6:\n",
    "        return 1, 0\n",
    "    \n",
    "    elif np.abs(b) > np.abs(a):\n",
    "        r = a / b\n",
    "        s = 1 / np.sqrt(1 + r**2)\n",
    "        c = s*r\n",
    "        return c, s\n",
    "    \n",
    "    else:\n",
    "        r = b / a\n",
    "        c = 1 / np.sqrt(1 +r**2)\n",
    "        s = c*r\n",
    "        return c,s\n",
    "\n",
    "def given_mat(n, i, j, c, s):\n",
    "    G = np.eye(n)\n",
    "    G[i, i] = c\n",
    "    G[j, j] = c\n",
    "    G[i, j] = -s\n",
    "    G[j, i] = s\n",
    "    return G\n",
    "\n",
    "def qr_givens(A):\n",
    "    \n",
    "    m, n = A.shape\n",
    "    \n",
    "    Q = np.eye(m)\n",
    "    R = A.copy()\n",
    "    \n",
    "    for j in range(n):\n",
    "        for i in range(m-1, j, -1):\n",
    "            c, s = get_angles(R[i-1, j], R[i, j])\n",
    "            G = given_mat(m, i-1, i, c, s)\n",
    "            R = G.T @ R\n",
    "            Q = Q @ G\n",
    "            \n",
    "    return Q, R"
   ]
  },
  {
   "cell_type": "code",
   "execution_count": 12,
   "metadata": {},
   "outputs": [
    {
     "name": "stdout",
     "output_type": "stream",
     "text": [
      "4.644396126208125e-16\n",
      "8.235826278468719e-17\n",
      "8.29625407660349e-17\n",
      "1.0343301410921444e-16\n"
     ]
    }
   ],
   "source": [
    "A = np.random.randn(3, 3)\n",
    "Q, R = qr_givens(A)\n",
    "\n",
    "print(metrics.tdist(A, Q @ R))\n",
    "print(metrics.tdist(Q @ Q.T, np.eye(A.shape[0])))\n",
    "print(metrics.tdist(Q.T @ Q, np.eye(A.shape[0])))\n",
    "print(metrics.tdist(R, np.triu(R)))"
   ]
  },
  {
   "cell_type": "code",
   "execution_count": 13,
   "metadata": {},
   "outputs": [
    {
     "name": "stdout",
     "output_type": "stream",
     "text": [
      "1.2600542234970832e-15\n",
      "7.300404742763763e-16\n",
      "7.00736699883665e-16\n",
      "3.443103986676303e-16\n"
     ]
    }
   ],
   "source": [
    "A = np.random.randn(7, 3)\n",
    "Q, R = qr_givens(A)\n",
    "\n",
    "print(metrics.tdist(A, Q @ R))\n",
    "print(metrics.tdist(Q @ Q.T, np.eye(A.shape[0])))\n",
    "print(metrics.tdist(Q.T @ Q, np.eye(A.shape[0])))\n",
    "print(metrics.tdist(R, np.triu(R)))"
   ]
  },
  {
   "cell_type": "code",
   "execution_count": 14,
   "metadata": {},
   "outputs": [
    {
     "name": "stdout",
     "output_type": "stream",
     "text": [
      "1.3274160260144074e-15\n",
      "4.712711537270345e-16\n",
      "4.746853719176824e-16\n",
      "8.059614808417886e-17\n"
     ]
    }
   ],
   "source": [
    "A = np.random.randn(3, 7)\n",
    "Q, R = qr_givens(A)\n",
    "\n",
    "print(metrics.tdist(A, Q @ R))\n",
    "print(metrics.tdist(Q @ Q.T, np.eye(A.shape[0])))\n",
    "print(metrics.tdist(Q.T @ Q, np.eye(A.shape[0])))\n",
    "print(metrics.tdist(R, np.triu(R)))"
   ]
  }
 ],
 "metadata": {
  "kernelspec": {
   "display_name": "Python 3",
   "language": "python",
   "name": "python3"
  },
  "language_info": {
   "codemirror_mode": {
    "name": "ipython",
    "version": 3
   },
   "file_extension": ".py",
   "mimetype": "text/x-python",
   "name": "python",
   "nbconvert_exporter": "python",
   "pygments_lexer": "ipython3",
   "version": "3.6.7"
  }
 },
 "nbformat": 4,
 "nbformat_minor": 2
}
