{
 "cells": [
  {
   "cell_type": "markdown",
   "metadata": {},
   "source": [
    "An algorithm is any well-defined computational procedure that takes a set of values as input and produces a set of values as output.  \n",
    "Tool to solve a well-specified computational problem.  \n",
    "\n",
    "Eg: sorting problem:\n",
    "Input: sequence n numbers $a_1, a_2$, ..., $a_n$.  \n",
    "Output: Reordering of the sequence $a_1', a_2'$, ..., $a_n'$ such that $a_1' \\leq a_2'2 \\leq$ ... $\\leq a_n'$.  \n",
    "\n",
    "Sorting fundamental in CS, intermediate step.  \n",
    "Many algorithms, which best depend on many factors.  \n",
    "Algo correct if for every input instance it gets right output.  \n",
    "Incorrect migh not finished, or give bad answer. Can be useful with controled error rate.  \n",
    "\n",
    "Used for:\n",
    "- Human Genome project: storing DNA in database, analyses.\n",
    "- Website manipulate large amounts of data: path finding, search engine.\n",
    "- Electronic commerce: Cryptography algos.\n",
    "- Manufacturing: optimal reources allocation.\n",
    "- Roadmap, find shortest route from point to another. Shortest path between 2 vertices on a graph.\n",
    "- Given 2 ordered sequences X, Y, find longest common subsequence. The length gives this subsequence gives a similarity mesure. Dynamic problem much more efficient than brute force.\n",
    "- Find convex hull of $n$ points in the plane. Smallest convex polygon containing all the points. Need to find which points are vertices of the convex hull and their order.\n",
    "\n",
    "For each problem many possible solutions, hard to find good or best one. Practical applications.  \n",
    "Not every problem has easily identified candidate solutions (eg FFT).  \n",
    "\n",
    "A datastructure is a way to store and organize data in order to facilitate access and modifications. All have strengths and weaknesses.  \n",
    "Develop algos, prove correctness, mesure efficiency.  \n",
    "\n",
    "Hard problems: No efficient solutions known. NP problems: no efficient algorithm as ever been found, and it was never proven cannot exist.  \n",
    "If one efficient algo exists for any of them, can be used for all.  \n",
    "Arise often in real applciations. Develop algo that gives good but not best solution.  \n",
    "Eg: select an order of delivery stops to have the lowest overall distance. Called TSP (Traveling salesman problem). Use approximation algos.  \n",
    "\n",
    "To increase computation, physical limits to increase clock speed. Solution is to use many cores, run in parallel. Design algorithms with parallelism in mind."
   ]
  },
  {
   "cell_type": "markdown",
   "metadata": {},
   "source": [
    "Computers not infinitely fast and limited memory. Need to design algos efficient in time and space.  \n",
    "\n",
    "Different algorithms differ a lot in efficieny. Eg inserton sort time $n^2$, merge sort $n\\log n$. Insertion sort faster for small sizes, with $n$ large enough $\\log n$ better than $n$, And compensate for any constant factors.  \n",
    "\n",
    "System performance depends on choosing right hardware and algos. Some apps do not require explicit algos (eg create webapp), and others do. As computer power increase, we want to solve larger problems."
   ]
  }
 ],
 "metadata": {
  "kernelspec": {
   "display_name": "Python 3",
   "language": "python",
   "name": "python3"
  },
  "language_info": {
   "codemirror_mode": {
    "name": "ipython",
    "version": 3
   },
   "file_extension": ".py",
   "mimetype": "text/x-python",
   "name": "python",
   "nbconvert_exporter": "python",
   "pygments_lexer": "ipython3",
   "version": "3.6.9"
  }
 },
 "nbformat": 4,
 "nbformat_minor": 2
}
