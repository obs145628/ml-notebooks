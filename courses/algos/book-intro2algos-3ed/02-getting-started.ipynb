{
 "cells": [
  {
   "cell_type": "markdown",
   "metadata": {},
   "source": [
    "# Insertion sort\n",
    "\n",
    "Solve sorting problem:  \n",
    "Input: $n$ numbers $(a_1, a_2,$ ..., $a_n)$.  \n",
    "Output: Reordering $(a'_1, a'_2,$ ..., $a'_n)$ such that $a'_1 \\leq a'_2 \\leq$ ... $\\leq a'_n$.\n",
    "numbers want to sort called keys.  \n",
    "\n",
    "Insertion sort efficient for small nb elems. Start with empty left array. Remove one elem from right array and insert in the right position in the left array. Find correct pos: compare with each item already positioned, from right to left.  \n",
    "Algo sort inplace.  \n",
    "\n",
    "Prove algo correct: loop invariant:\n",
    "- Intialization: true before 1st iteration.\n",
    "- Maintenance: If true before iteration $i$, it's true before iteation $i + 1$.\n",
    "- Termination: Once loop finished, invariant shows algo correct.\n",
    "\n",
    "Similar to math induction."
   ]
  },
  {
   "cell_type": "markdown",
   "metadata": {},
   "source": [
    "# Analyzing algorithms\n",
    "\n",
    "Predicting ressource needed: memory, hardware, bandwith, but mostly time resources.  \n",
    "Analysis many candidates and choose best.  \n",
    "Need model of implem techno. RAM model with comon instructions in computers.  \n",
    "Some operands take multiple constant ins, suppose only take one. No memory hiearchy model.  \n",
    "RAM model usally good-enough predictor.  \n",
    "\n",
    "Insertion sort: sort 3 numbers shorter than thousands, depend on size. Input size: usually number of items in input, eg array size n. For a graph, can be 2 numbers E and V.  \n",
    "Running time of algo: nb of primitive ops executed. Suppose constant amount $c_i$ to exec each ligne $i$."
   ]
  }
 ],
 "metadata": {
  "kernelspec": {
   "display_name": "Python 3",
   "language": "python",
   "name": "python3"
  },
  "language_info": {
   "codemirror_mode": {
    "name": "ipython",
    "version": 3
   },
   "file_extension": ".py",
   "mimetype": "text/x-python",
   "name": "python",
   "nbconvert_exporter": "python",
   "pygments_lexer": "ipython3",
   "version": "3.6.9"
  }
 },
 "nbformat": 4,
 "nbformat_minor": 2
}
