{
 "cells": [
  {
   "cell_type": "markdown",
   "metadata": {},
   "source": [
    "# Definitions\n",
    "\n",
    "- A directed graph is a set of vertices and a set of directed edges, connectining an ordered pair of vertices.\n",
    "- outdegree of $v$: number of edges going from $v$.\n",
    "- indegree of $v$: number of edges going to $v$.\n",
    "- Edge $u \\rightarrow v$: edge from head $u$ to tail $v$.\n",
    "- directed path: sequence of vertices connected by edges.\n",
    "- directed cycle: directed path with at least 1 repeated vertex.\n",
    "- simple cycle: directed cycle with repeted vertex is first and last.\n",
    "- vertex $w$ reachable from $v$ is there is a path from $v$ to $w$. Convention each vertex reachable from itself.\n",
    "- Directed Acyclic Graph (DAG): graph with no directed cycles."
   ]
  },
  {
   "cell_type": "markdown",
   "metadata": {},
   "source": [
    "Directed cycle detection: Does a digraph have directed cycle. Is the graph a DAG."
   ]
  },
  {
   "cell_type": "markdown",
   "metadata": {},
   "source": [
    "# Strong connectivity\n",
    "\n",
    "Strong Connectivity: analogy of connectivity to directed graphs.  \n",
    "    \n",
    "$v$ and $w$ are strongly connected if there is a path from $v$ to $w$ and from $w$ to $v$.  \n",
    "2 vertices are strongly connected iff there is a cycle that contains both.  \n",
    "\n",
    "Strong connectivity paritions vertices into equivalence classes: maximal subsets of vertices strongly connected to one another, with every vertex in only one subset. These are called strongly connected components."
   ]
  },
  {
   "cell_type": "markdown",
   "metadata": {},
   "source": [
    "# Transitive Closure\n",
    "\n",
    "The transitive closure of $G$ is another graph with same set of vertices, and an edge from $v$ to $w$ if there is a path from $v$ to $w$ in $G$."
   ]
  }
 ],
 "metadata": {
  "kernelspec": {
   "display_name": "Python 3",
   "language": "python",
   "name": "python3"
  },
  "language_info": {
   "codemirror_mode": {
    "name": "ipython",
    "version": 3
   },
   "file_extension": ".py",
   "mimetype": "text/x-python",
   "name": "python",
   "nbconvert_exporter": "python",
   "pygments_lexer": "ipython3",
   "version": "3.6.9"
  }
 },
 "nbformat": 4,
 "nbformat_minor": 2
}
