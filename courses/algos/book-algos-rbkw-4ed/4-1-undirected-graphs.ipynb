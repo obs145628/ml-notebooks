{
 "cells": [
  {
   "cell_type": "markdown",
   "metadata": {},
   "source": [
    "# Definitions\n",
    "\n",
    "- **A graph** is a set of vertices and a set of edges each connecting a pair of vertices.\n",
    "\n",
    "- **A self loop** is an edge that connects a vertex to itself.\n",
    "\n",
    "- **Parallel edges** connect the same pairs of vertices.\n",
    "\n",
    "- **Simple graph**: Graph without self loop or parallel edges.\n",
    "\n",
    "- **Vertices adjacent to one another**: They are connected by an edge\n",
    "\n",
    "- **Degree of a vertex**: Number of edges connecting this vertex.\n",
    "\n",
    "- **Path**: Sequence of vertices connected by edges.\n",
    "\n",
    "- **Path length**: Number of edges.\n",
    "\n",
    "- **Simple path**: Path with no repeated vertices.\n",
    "\n",
    "- **Cycle**: Path with at least one repeated vertex.\n",
    "\n",
    "- **Simple cycle**: Cycle with only one repeated vertex (at the beginning and end of path).\n",
    "\n",
    "- **A vertex u is connected to v**: There is a path between u and v.\n",
    "\n",
    "- **Connected graph**: Every vertex is connected to every other vertex.\n",
    "\n",
    "- **Acyclic graph**: Graph with no cycles.\n",
    "\n",
    "- **Connected components of a graph**: Set of maximal connected subgraphs.\n",
    "\n",
    "- **Tree**: Acyclic connected graph\n",
    "\n",
    "- **Forest**: Disjoint set of trees.\n",
    "\n",
    "- **Spanning tree of connected graph**: Subgraph that is a tree, containing all graph vertices.\n",
    "\n",
    "- **Spanning forest of graph**: Union of the spanning trees of its connected components.\n",
    "\n",
    "- **Density of graph**: Proportion of number of edges relative to number of vertices.\n",
    "\n",
    "- **Sparse graph**: Relatively very few edges present.\n",
    "\n",
    "- **Bipartite graph**: Vertices can be divided into 2 sets such that all edges connect a vertex in one set with a vertex in the other set."
   ]
  },
  {
   "cell_type": "markdown",
   "metadata": {},
   "source": [
    "Vertices referred as 0, 1, V-1. Easy to write code (array index to access infos about vertex).\n",
    "$v-w$ connection between edge v and w.  \n",
    "Implementations works with simple graph.  \n",
    "Most of the time we work with simple path / cycles.  \n",
    "Path represented as u-v-w-x.  \n",
    "\n",
    "A graph is a tree if it satisfies any of:\n",
    "- $G$ has $V-1$ edges and no cycles.\n",
    "- $G$ has $V-1$ edges and is connected.\n",
    "- $G$ connected, removing any edges disconnect it.\n",
    "- $G$ acyclic, adding any edges create a cycle.\n",
    "- Exactly one simple path connect each pair of vertices.\n",
    "\n",
    "Representation: space and time efficient.  \n",
    "\n",
    "- Adjacency matrix: V*V bool array, $A[v][w]$ is true if there is an edge v-w. Space issue.\n",
    "- Array of edges: Finding adj vertices proportional to E (too long).\n",
    "- Array of adjency lists: Adjacent vertices, stored for each vertex. Standard for not dense graphs. Add edge constant, Time proprtional to degree v to iterate over adjacents of v. Space protional to V + E. Optimal for these operations.  \n",
    "\n",
    "Other operations: Add/delete, vertex, delete edge, check if edge exists. Possible using maps / sets, not needed for most algos, or not frequently at all (can rebuild graph instead)."
   ]
  },
  {
   "cell_type": "markdown",
   "metadata": {},
   "source": [
    "Search API: find all vertices connected to a source vertex.  \n",
    "Implemented with Depth-First Search.  \n",
    "One approach to browse graph is to go throug the vertices list and adjs list.  \n",
    "Other ways is to follow some paths.  \n",
    "\n",
    "Depth-First search visit nodes by recursively visiting the adjacent vertices of a vertex that were not visited before.  \n",
    "DFS visit all vertices connected to a source vertex in time proportional to the sum of their degrees.  \n",
    "The order of visit depends on representation, not just on the graph.  \n",
    "\n",
    "Can use DFS to solve connectivity problem. Answer queries of the form: Are 2 vertices connected ? Number of connected components ?  \n",
    "Union-Find can also solve this problem.  \n",
    "DFS can go further and find path between the 2.  \n",
    "\n",
    "To do this, the marked boolean vector is replaced by a vector that store edges. When visiting w from v (edge v-w), we set edgeTo w at v."
   ]
  },
  {
   "cell_type": "markdown",
   "metadata": {},
   "source": [
    "Breadth-first search:\n",
    "\n",
    "Single source shortest path: Find shortest path from s to v (minimal number of edges).  \n",
    "Start at s then check all vertices reachable by 1 edge, then all reachable by 2, etc.  \n",
    "This order of visit done with a LIFO queue.  \n",
    "\n",
    "DFS and BFS special cases of algo: Take next vertex v from datastructure and mark it. Then push on data structure all unmarked vertices adjacent to v. Algos differ only in ruse used to pop vertex from datastructure (DFS FIFO, BFS LIFO).  \n",
    "BFS sweep through graph, use queue tu remember frontier of visited places. DFS paths are long and winding, VFS are short and direct."
   ]
  }
 ],
 "metadata": {
  "kernelspec": {
   "display_name": "Python 3",
   "language": "python",
   "name": "python3"
  },
  "language_info": {
   "codemirror_mode": {
    "name": "ipython",
    "version": 3
   },
   "file_extension": ".py",
   "mimetype": "text/x-python",
   "name": "python",
   "nbconvert_exporter": "python",
   "pygments_lexer": "ipython3",
   "version": "3.6.9"
  }
 },
 "nbformat": 4,
 "nbformat_minor": 2
}
