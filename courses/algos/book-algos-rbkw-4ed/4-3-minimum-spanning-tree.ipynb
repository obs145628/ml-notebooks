{
 "cells": [
  {
   "cell_type": "markdown",
   "metadata": {},
   "source": [
    "edge-weighted graph: each edge has a weight.\n",
    "\n",
    "Spanning tree: connected subgraph containing all vertices, with no cycles.  \n",
    "Weight of a spanning tree: sum of all edges weights.  \n",
    "MST: spanning tree such that there is no other with weight smaller than this one.  \n",
    "\n",
    "Graph must be complete to compute MST.  \n",
    "\n",
    "Find MST of connected edge-weighted graph with any discting weights."
   ]
  },
  {
   "cell_type": "markdown",
   "metadata": {},
   "source": []
  }
 ],
 "metadata": {
  "kernelspec": {
   "display_name": "Python 3",
   "language": "python",
   "name": "python3"
  },
  "language_info": {
   "codemirror_mode": {
    "name": "ipython",
    "version": 3
   },
   "file_extension": ".py",
   "mimetype": "text/x-python",
   "name": "python",
   "nbconvert_exporter": "python",
   "pygments_lexer": "ipython3",
   "version": "3.6.9"
  }
 },
 "nbformat": 4,
 "nbformat_minor": 2
}
