{
 "cells": [
  {
   "cell_type": "code",
   "execution_count": 1,
   "metadata": {},
   "outputs": [],
   "source": [
    "import sys\n",
    "sys.path.append('../../pyutils')\n",
    "\n",
    "import gym\n",
    "import numpy as np\n",
    "from sklearn.linear_model import SGDRegressor\n",
    "\n",
    "import rlutils"
   ]
  },
  {
   "cell_type": "code",
   "execution_count": 2,
   "metadata": {},
   "outputs": [],
   "source": [
    "env_cp = gym.make('CartPole-v0')"
   ]
  },
  {
   "cell_type": "markdown",
   "metadata": {},
   "source": [
    "# Random Search"
   ]
  },
  {
   "cell_type": "code",
   "execution_count": 3,
   "metadata": {},
   "outputs": [
    {
     "name": "stdout",
     "output_type": "stream",
     "text": [
      "CP: min = 87.0, avg = 171.307, max = 200.0\n"
     ]
    }
   ],
   "source": [
    "class LinearBinAgent:\n",
    "    \n",
    "    def __init__(self, params):\n",
    "        self.params = params\n",
    "        \n",
    "    def __call__(self, s, _):\n",
    "        return int(s @ self.params > 0)\n",
    "\n",
    "def random_search(env, nevals, niters):\n",
    "    space_len = len(env.observation_space.low)\n",
    "    best_params = None\n",
    "    best_val = float('-inf')\n",
    "    agent = LinearBinAgent(best_params)\n",
    "    \n",
    "    for _ in range(niters):\n",
    "        agent.params = np.random.randn(space_len)\n",
    "        val = rlutils.run_nepisodes(env, agent, nevals).mean()\n",
    "        if val > best_val:\n",
    "            best_val = val\n",
    "            best_params = agent.params\n",
    "    \n",
    "    return best_params\n",
    "    \n",
    "\n",
    "rand_params = random_search(env_cp, 20, 20)\n",
    "agent = LinearBinAgent(rand_params)\n",
    "scores = rlutils.run_nepisodes(env_cp, agent, 1000)\n",
    "print('CP: min = {}, avg = {}, max = {}'.format(scores.min(),\n",
    "                                               scores.mean(),\n",
    "                                               scores.max()))"
   ]
  },
  {
   "cell_type": "markdown",
   "metadata": {},
   "source": [
    "# Value function (prediction) approximation\n",
    "\n",
    "Function approximators of any kind, must have a few properties:\n",
    "- diferentiable\n",
    "- suitable for non-stationary, non-iid data\n",
    "\n",
    "Let's define $J(w)$ a differentable function of parameters $w$, that is the mean squared error between our approximator $\\hat{v}(s,w)$ and the true value $v_\\pi(s)$:\n",
    "$$J(w) = \\mathbb{E}_\\pi[(v_\\pi(S) - \\hat{v}(S,w))^2]$$\n",
    "\n",
    "We represent the current state $S$ by a feature vector of size $p$\n",
    "\n",
    "We use mini-batch versions of gradient descent, where we compute $J(w)$ for only one example and update $w$.  \n",
    "But we don't have the true value $v_\\pi(S)$, so we use instead another target, depending on the algorithm"
   ]
  },
  {
   "cell_type": "markdown",
   "metadata": {},
   "source": [
    "## Monte-Carlo Policy Evaluation\n",
    "\n",
    "For Monte-Carlo, the target is the return $G_t$.  \n",
    "Converges to a local optimum, even with a non-linear model (MC target is unbiased)"
   ]
  },
  {
   "cell_type": "code",
   "execution_count": 4,
   "metadata": {},
   "outputs": [
    {
     "name": "stdout",
     "output_type": "stream",
     "text": [
      "2222.9839788157083\n",
      "2668.7041224608897\n",
      "2455.020153469477\n",
      "2915.9490496099256\n",
      "2685.224383716276\n",
      "1859.5986423923582\n",
      "3302.362172150254\n",
      "2931.7617508853823\n",
      "2952.5983221632086\n",
      "3068.6553344258436\n",
      "2744.6489113341922\n",
      "2381.9597832069917\n",
      "2532.4456062821523\n",
      "3003.8020752743646\n",
      "2656.779099059067\n",
      "2502.250387491962\n",
      "2200.384130671096\n",
      "2676.3129997521937\n",
      "2821.45419561345\n",
      "2708.7754689923127\n",
      "2735.6461625692846\n",
      "2853.1262552445146\n",
      "2595.6876204834657\n",
      "3126.4357920243683\n",
      "2419.029046890921\n",
      "2900.285692075311\n",
      "2510.351061496944\n",
      "2949.523381632543\n",
      "2751.023871900214\n",
      "3172.4880944726624\n",
      "3029.145226140337\n",
      "2894.52079625702\n",
      "2848.699167040335\n",
      "3053.6215376844184\n",
      "2904.504598180444\n",
      "3224.403642074639\n",
      "2806.677350343172\n",
      "2793.7601456128373\n",
      "2783.0157752818286\n",
      "2689.4701124823705\n",
      "2986.037927008752\n",
      "2878.628764174217\n",
      "2958.810034855643\n",
      "2886.193644493987\n",
      "2566.217547400328\n",
      "2188.264772624148\n",
      "3012.3383780057998\n",
      "2702.709973465776\n",
      "2940.009285085867\n",
      "1915.0527416449168\n",
      "1963.0576184094054\n",
      "3005.7025805025683\n",
      "2737.7190329642744\n",
      "2585.9505406365342\n",
      "3011.4648594762048\n",
      "3208.289887448152\n",
      "2424.1606116844523\n",
      "3250.8756239180293\n",
      "2271.6516937941183\n",
      "2471.3165835813415\n",
      "2366.0859343750585\n",
      "2841.186461423642\n",
      "3204.2093451690366\n",
      "2380.7368195611202\n",
      "3112.4381111079783\n",
      "2569.171594830142\n",
      "2285.0580668142466\n"
     ]
    },
    {
     "data": {
      "text/plain": [
       "SGDRegressor(alpha=0.0001, average=False, early_stopping=False, epsilon=0.1,\n",
       "       eta0=0.01, fit_intercept=True, l1_ratio=0.15,\n",
       "       learning_rate='invscaling', loss='squared_loss', max_iter=None,\n",
       "       n_iter=None, n_iter_no_change=5, penalty='l2', power_t=0.25,\n",
       "       random_state=None, shuffle=True, tol=None, validation_fraction=0.1,\n",
       "       verbose=0, warm_start=False)"
      ]
     },
     "execution_count": 4,
     "metadata": {},
     "output_type": "execute_result"
    }
   ],
   "source": [
    "def mc_policy_eval(env, agent, ngames):\n",
    "    \n",
    "    model = SGDRegressor()\n",
    "    errs = []\n",
    "    t = 0\n",
    "    \n",
    "    for _ in range(ngames):\n",
    "        hist = []\n",
    "        s = env.reset()\n",
    "    \n",
    "        while True:\n",
    "            a = agent(s, env)\n",
    "            s2, r, done, _ = env.step(a)\n",
    "            hist.append((s, r))\n",
    "            if done: break\n",
    "            s = s2\n",
    "        \n",
    "        gt = 0\n",
    "        for h in reversed(hist):\n",
    "            t += 1\n",
    "            gt += h[1]\n",
    "            X = h[0].reshape(1, -1)\n",
    "            y = np.array(gt).reshape(1)\n",
    "            model.partial_fit(X, y)\n",
    "            \n",
    "            err = (model.predict(X) - y)**2\n",
    "            errs.insert(0, err)\n",
    "            if len(errs) > 1000:\n",
    "                errs = errs[:-1]\n",
    "                    \n",
    "            if t % 2500 == 0:\n",
    "                avg_err = np.average(errs)\n",
    "                print(avg_err)\n",
    "            \n",
    "            \n",
    "            \n",
    "    return model\n",
    "    \n",
    "mc_policy_eval(env_cp, agent, 1000)"
   ]
  },
  {
   "cell_type": "markdown",
   "metadata": {},
   "source": [
    "## TD(0) Policy Evaluation\n",
    "\n",
    "The target is $R_{t+1} + \\gamma \\hat{v}(S_{t+1}, w)$\n",
    "The TD target is biased.  \n",
    "Linear TD(0) converges (close) to a global optimum"
   ]
  },
  {
   "cell_type": "code",
   "execution_count": 5,
   "metadata": {},
   "outputs": [
    {
     "name": "stdout",
     "output_type": "stream",
     "text": [
      "2929.3806627094577\n",
      "2536.069613915791\n",
      "2716.9955856298675\n",
      "2659.467106828778\n",
      "3097.8476502904955\n",
      "2685.2702800208676\n",
      "3059.4171491642055\n",
      "2941.128630659144\n",
      "2706.5979398089053\n",
      "2835.3461886174373\n",
      "2764.4115695295773\n",
      "2708.51249682176\n",
      "2716.940152961865\n",
      "2682.3102400146463\n",
      "2193.845104487695\n",
      "2971.5180241913886\n",
      "3083.6943362615257\n",
      "3109.3212484194655\n",
      "3134.8465989047213\n",
      "2861.682462079065\n",
      "2648.3090971474703\n",
      "3099.1919961558374\n",
      "3163.758287217965\n",
      "2314.532254367175\n",
      "3029.907757051923\n",
      "2905.28825745116\n",
      "3077.177161614406\n",
      "2212.0198864359677\n",
      "3104.0254175961686\n",
      "3432.6158533678235\n",
      "2649.624086969636\n",
      "3189.5057555684\n",
      "2879.5580969364296\n",
      "2834.3751645614657\n",
      "3490.4156355703985\n",
      "3093.590711235646\n",
      "2364.7727391396566\n",
      "2379.5455121755617\n",
      "2564.6332956206006\n",
      "2226.573904261301\n",
      "3237.4471613068204\n",
      "3168.064927317947\n",
      "2659.740145081059\n",
      "2704.7619903393415\n",
      "2969.9549880612353\n",
      "2589.176294028946\n",
      "3151.644104341038\n",
      "3117.8428806035004\n",
      "2355.7625943214184\n",
      "2825.629133007976\n",
      "2663.154494282099\n",
      "3180.0152240084553\n",
      "2941.929359821294\n",
      "3147.7635246222812\n",
      "3104.53091758283\n",
      "2817.8221292173926\n",
      "2878.7864973790097\n",
      "2914.312561736511\n",
      "2485.488610873483\n",
      "2545.8679841834114\n",
      "2954.0796327390576\n",
      "2897.10671183228\n",
      "3416.011193269439\n",
      "3085.28942059892\n",
      "2971.978375344043\n",
      "2789.254109269254\n",
      "3393.173911912958\n",
      "2485.878487601885\n",
      "2351.444570808628\n"
     ]
    },
    {
     "data": {
      "text/plain": [
       "SGDRegressor(alpha=0.0001, average=False, early_stopping=False, epsilon=0.1,\n",
       "       eta0=0.01, fit_intercept=True, l1_ratio=0.15,\n",
       "       learning_rate='invscaling', loss='squared_loss', max_iter=None,\n",
       "       n_iter=None, n_iter_no_change=5, penalty='l2', power_t=0.25,\n",
       "       random_state=None, shuffle=True, tol=None, validation_fraction=0.1,\n",
       "       verbose=0, warm_start=False)"
      ]
     },
     "execution_count": 5,
     "metadata": {},
     "output_type": "execute_result"
    }
   ],
   "source": [
    "def td0_policy_eval(env, agent, ngames, gamma):\n",
    "    \n",
    "    model = SGDRegressor()\n",
    "    errs = []\n",
    "    t = 0\n",
    "    \n",
    "    for _ in range(ngames):\n",
    "        s = env.reset()\n",
    "    \n",
    "        while True:\n",
    "            a = agent(s, env)\n",
    "            s2, r, done, _ = env.step(a)\n",
    "\n",
    "            X = s.reshape(1, -1)\n",
    "            y = r + gamma * model.predict(s2)\n",
    "            model.partial_fit(X, y)\n",
    "            \n",
    "            err = (model.predict(X) - y)**2\n",
    "            errs.insert(0, err)\n",
    "            if len(errs) > 1000:\n",
    "                errs = errs[:-1]   \n",
    "            t += 1\n",
    "            if t % 2500 == 0:\n",
    "                avg_err = np.average(errs)\n",
    "                print(avg_err)\n",
    "            \n",
    "            if done: break\n",
    "            s = s2\n",
    "            \n",
    "            \n",
    "    return model\n",
    "    \n",
    "mc_policy_eval(env_cp, agent, 1000)"
   ]
  },
  {
   "cell_type": "markdown",
   "metadata": {},
   "source": [
    "## TD($\\lambda$) policy evaluation\n",
    "\n",
    "The target is the $\\lambda$-return $G^\\lambda_t$\n",
    "\n",
    "The backward view can also be used with eligibilaty traces"
   ]
  },
  {
   "cell_type": "markdown",
   "metadata": {},
   "source": [
    "# Control with function approximation\n",
    "\n",
    "Repeat:\n",
    "- Evaluation: Approximate $q_\\pi$ with $\\hat{q}(s,a,w)$\n",
    "- Improvement: act with this new policy to chose actions\n",
    "\n",
    "The error function now becomes:\n",
    "\n",
    "$$J(w) = \\mathbb{E}_\\pi[(q_\\pi(S,A) - \\hat{q}(S,A,w))^2]$$\n",
    "\n",
    "We represent the state and action (S,A) by a feature vector.\n",
    "\n",
    "We replace $q_\\pi(S,A)$ by another target depending on the algorithm.  \n",
    "\n",
    "Most control algorithms have no theoric garanties of convergence, you may end up turn around the optimal policy, or even diverges from it."
   ]
  },
  {
   "cell_type": "markdown",
   "metadata": {},
   "source": [
    "# Batch Methods\n",
    "\n",
    "## Least Squares Prediction\n",
    "\n",
    "Let $\\mathcal{D}$ our experience consisting of (state, value) pairs:\n",
    "$$\\mathcal{D} = \\{ (s_1, v_1^\\pi), (s_2, v_2^\\pi), \\text{...}, (s_T, v_T^\\pi) \\}$$\n",
    "\n",
    "We can find the least squares solution that minimizes the mse between our prediction and the true state values:\n",
    "\n",
    "$$LS(w) = \\sum_{t=1}^T (v_t^\\pi - \\hat{v}(s_t, w))^2$$\n",
    "\n",
    "Experience Replay:  \n",
    "Repeat:\n",
    "- Store the new visited (state, value) pair in $\\mathcal{D}$\n",
    "- sample one $(s, v^\\pi) \\sim \\mathcal{D}$ and update $\\hat{v}$ with gradient descent.\n",
    "\n",
    "Helps decorelate things, experiences seen in random order. Converges to least squares solution"
   ]
  },
  {
   "cell_type": "markdown",
   "metadata": {},
   "source": [
    "# Deep Q Network\n",
    "\n",
    "Combine 2 ideas:\n",
    "\n",
    "- Experience replay:  decorelates the trajectories, get much more stable updates.  \n",
    "- fixed Q-targets: Have 2 networks, freeze the old network weights, bootstrap toward these fixed targets. Every few thousands iteration, the old network weights are updated with the new one. Actions are chosen according to the latest targets.\n",
    "\n",
    "Repeat:\n",
    "- Take action $a_t$ according to $\\epsilon$-greedy policy\n",
    "- Store transition $(s_t, a_t, r_{t+1}, s_{t+1}$ in $\\mathcal{D}$\n",
    "- Sample mini-batch $(s, a, r, s') \\sim \\mathcal{D}$ (eg size 64)\n",
    "- Optimise MSE between prediction of frozen network and current prediction:\n",
    "    $$L(w) = \\mathbb{E}[(r + \\gamma \\max_{a'} Q(s',a',w^-) - Q(s,a,w))^2]$$"
   ]
  },
  {
   "cell_type": "markdown",
   "metadata": {},
   "source": [
    "# Linear Least Squares Prediction\n",
    "\n",
    "Experiences replay find least squares solution on many iterations, but we can solve in closed form.\n",
    "\n",
    "The solution is the same than for classical least squares:\n",
    "\n",
    "$$w = (S^TS)^{-1} S^Tv_\\pi$$\n",
    "\n",
    "with $S$ a matrix whose rows are state-vectors, and $v_\\pi$ a vector of corresponding value functions."
   ]
  },
  {
   "cell_type": "markdown",
   "metadata": {},
   "source": [
    "# Least Squares Policy Iteration\n",
    "\n",
    "Repeat:\n",
    "- Policy evalutation: fit $q(S,A)$ using least squares solution\n",
    "- Policy improvement: greedy policy"
   ]
  }
 ],
 "metadata": {
  "kernelspec": {
   "display_name": "Python 3",
   "language": "python",
   "name": "python3"
  },
  "language_info": {
   "codemirror_mode": {
    "name": "ipython",
    "version": 3
   },
   "file_extension": ".py",
   "mimetype": "text/x-python",
   "name": "python",
   "nbconvert_exporter": "python",
   "pygments_lexer": "ipython3",
   "version": "3.6.7"
  }
 },
 "nbformat": 4,
 "nbformat_minor": 2
}
