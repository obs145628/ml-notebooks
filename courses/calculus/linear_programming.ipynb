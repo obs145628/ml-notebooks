{
 "cells": [
  {
   "cell_type": "code",
   "execution_count": 1,
   "metadata": {},
   "outputs": [],
   "source": [
    "import sys\n",
    "sys.path.append('../../pyutils')\n",
    "\n",
    "import numpy as np\n",
    "from scipy.optimize import linprog\n",
    "\n",
    "import metrics"
   ]
  },
  {
   "cell_type": "markdown",
   "metadata": {},
   "source": [
    "# Simplex algorithm"
   ]
  },
  {
   "cell_type": "markdown",
   "metadata": {},
   "source": [
    "$$\\max_x c^Tx$$\n",
    "$$s.t. Ax \\leq b$$\n",
    "$$s.t. x_i \\geq 0$$\n",
    "\n",
    "with:\n",
    "- $x \\in \\mathbb{R}^n$ the unknown we are looking for\n",
    "- $A \\in \\mathbb{R}^{p*n}$\n",
    "- $b \\in \\mathbb{R}^p$"
   ]
  },
  {
   "cell_type": "markdown",
   "metadata": {},
   "source": [
    "## Convertion to standard form\n",
    "\n",
    "The standard form problem is:\n",
    "\n",
    "$$Ax = b$$\n",
    "with $x_i \\geq 0$\n",
    "\n",
    "To convert to this form, we need to add a slack variable $x_{n+i}$ for each inequality such that:\n",
    "$$x_{n+i} = -A_{i,:}x - b_i$$\n",
    "We have the eqation:\n",
    "$$A_{i,x} + x_{n+i} = b_i$$\n",
    "\n",
    "Finaly we declare another variable for the obective:\n",
    "$$z = c^Tx$$\n",
    "And we have one last equation:\n",
    "$$-z + c^Tx = 0$$\n",
    "\n",
    "This can be represented as a system of equations:\n",
    "\n",
    "$$\n",
    "\\begin{gather}\n",
    " \\begin{bmatrix}\n",
    "   0 & A & I \\\\\n",
    "   -1 & c^T & 0\n",
    "   \\end{bmatrix}\n",
    "   \\cdot\n",
    "   \\begin{bmatrix}\n",
    "   z\\\\\n",
    "   x\n",
    "   \\end{bmatrix}\n",
    " =\n",
    "\\begin{bmatrix}\n",
    "   b \\\\\n",
    "   0\n",
    "   \\end{bmatrix}\n",
    "\\end{gather}\n",
    "$$"
   ]
  },
  {
   "cell_type": "markdown",
   "metadata": {},
   "source": [
    "## Tableau and feasible solution\n",
    "\n",
    "We manipulate what we call a tableau representing the current solution:\n",
    "\n",
    "$$\n",
    "  \\left[\\begin{array}{rrr|r}\n",
    "    0 & A & I & b \\\\\n",
    "    -1 & c^T & 0 & 0\n",
    "  \\end{array}\\right]\n",
    "$$\n",
    "\n",
    "Each column represent a variable, each row an equality. The last row is the objective, and the last column the values of the equalities.\n",
    "\n",
    "There are 2 types of variables:\n",
    "- the basic variables: these are defined as a linear combination of non-basic variables. They can be identified because their column has only a 1 and all other entries are 0s\n",
    "- the non-basic variables: these are all other variables.\n",
    "\n",
    "For a current tableau, the values of the non-basic variables are 0 and the values of basic-variables correspond to the value in the last entry of the row where there are defined.  \n",
    "The current value of the objective is on the bottom-right cell.  \n",
    "Remember that all variables must be $\\geq 0$.  \n",
    "If one of the basic variables is $< 0$ (one entry in the last column, ignoring the objective, is lower than 0), the tableau is said to represent a not feasible solution.  \n",
    "Otherwhise, the tableau represent a feasible solution"
   ]
  },
  {
   "cell_type": "markdown",
   "metadata": {},
   "source": [
    "## Phase 1: Finding a feasible solution\n",
    "\n",
    "The first phase is to get a tableau representing a feasible solution, not necessarely the optimal one.  \n",
    "At the initialization, the original variables are the non-basic variables, and the variables added for each inequality are the basic variables.  \n",
    "So the values of the basic variables are the values in the original vector $b$. If all it's entries are $\\geq 0$, the tableau is feasible. We say that the origin is feasible, and we can go to phase 2.\n",
    "\n",
    "Otherwhise, we need to find a feasible solution.  \n",
    "To do this, we'll solve another problem, the dual. It's solution will be a feasible solution to start the phase 2 on the primal.  \n",
    "\n",
    "For each negative inequality constraint, we add another variable $y_i$, such that:\n",
    "$$y_i = - A_{i,:}x - b_i$$\n",
    "The current equation is then modified to:\n",
    "$$-A_{i,:}x + y_i = - b_i$$\n",
    "\n",
    "Finally, we had another objective:\n",
    "$$\\sum_{i: b_i < 0} - A_{i:}x = \\sum_{i: b_i < 0} -b_i$$  \n",
    "\n",
    "The tableau has now 2 objectives. It is solved by phase 2, which solves for the newly added objective.  \n",
    "Finally, we remove the added objective, and all added $y_i$ variables from the tableau.  \n",
    "We get a tableau that is a feasible solution, we can get to phase 2"
   ]
  },
  {
   "cell_type": "markdown",
   "metadata": {},
   "source": [
    "## Phase 2: Finding the optimal feasible solution\n",
    "\n",
    "Among the non-basic variables, we need to select an entering variable.  \n",
    "If the value for the last row (the objective) of this variable is positive, the objective will increase once the variable has entered, otherwhise it will decrease.  \n",
    "So we need to select one with a positive value.  \n",
    "If all values are $\\leq 0$, the objective is already optimal, and we can stop.  \n",
    "\n",
    "They are several strategies to select the entering variable amoung the ones with positive value, any choice will lead to the solution.  \n",
    "We can choose the one with the lowest or greatest value.  \n",
    "\n",
    "Increasing the value of the entering variable will decrease the value of all basic variables, but if we decrease them too much, they will be $\\leq 0$. So we need to decrease them such that one arrive to $0$, and all others stays $\\geq 0$.  \n",
    "This variable is called the leaving variable, it'll become a non-basic variable.  \n",
    "This variable is the one with the smallest ratio value of the basic variable / value of the variable in the column of the entering variable. Negative ratios are ignored.  \n",
    "\n",
    "The tableau is updated using Gauss pivot operations. The pivot correspond to the column of the entering variable and the row of the leaving variable. All rows are modified suchat that in the pivot column, the entry pivot row will have a value of 1, and all other entries will be 0s.  \n",
    "\n",
    "Then, we go back at the beginning of phase 2 and keep iterating"
   ]
  },
  {
   "cell_type": "markdown",
   "metadata": {},
   "source": [
    "## Get the results of the original problem\n",
    "\n",
    "We can read the value of the basic variables in the last column of the tableau, and the value of the non-basic variables are 0.  \n",
    "We can drop the values of the added variables for each inequality, and return the values of the original variables"
   ]
  },
  {
   "cell_type": "code",
   "execution_count": 2,
   "metadata": {},
   "outputs": [],
   "source": [
    "\n",
    "def simplex_solve_tab(M, p, select='largest'):\n",
    "    \n",
    "    while True:\n",
    "        #print(M)\n",
    "        \n",
    "        #compute pivot column and pivot row\n",
    "        if select == 'largest':\n",
    "            pc = np.argmax(M[-1, :-1])\n",
    "        elif select == 'smallest':\n",
    "            ll = M[-1, :-1].copy()\n",
    "            ll[ll <= 1e-10] = float('inf')\n",
    "            pc = np.argmin(ll)\n",
    "            \n",
    "        if M[-1, pc] <= 1e-10:\n",
    "            break\n",
    "                \n",
    "        pr = 0\n",
    "        prv = float('inf') \n",
    "        for i in range(p):\n",
    "            val = M[i, -1] / (M[i, pc] + 1e-10)\n",
    "            if val >= 0 and val < prv:\n",
    "                pr = i\n",
    "                prv = val\n",
    "            \n",
    "        #print('pivot col:', pc, 'pivot row:', pr)\n",
    "         \n",
    "        #apply gaus elemination to set 1 on pivot row and 0 on others\n",
    "        for i in range(len(M)):\n",
    "            if i == pr:\n",
    "                M[i] /= M[i, pc]\n",
    "            else:\n",
    "                coeff = -M[i, pc] / M[pr, pc]\n",
    "                M[i] = M[i] + coeff * M[pr]\n",
    "                \n",
    "    \n",
    "def simplex_full_sol(M, n, p):\n",
    "    #build vector of solutions, set all non-basis vars to 0\n",
    "    basis = np.where(np.abs(M[-1, 1:-1]) < 1e-10)[0]\n",
    "    x = np.zeros(n+p)\n",
    "    for j in basis:\n",
    "        i = np.argmax(M[:, j+1])\n",
    "        x[j] = M[i, -1]\n",
    "    \n",
    "    return x\n",
    "    \n",
    "\n",
    "def simplex(c, A, b):\n",
    "    n = len(c)\n",
    "    p = len(b)\n",
    "    \n",
    "    M1 = np.concatenate((np.zeros((p, 1)), A,np.eye(p), \n",
    "                         b.reshape(-1, 1)), axis=1)\n",
    "    M2 = np.concatenate((-1*np.ones((1, 1)),c.reshape(1, -1),\n",
    "                         np.zeros((1, p+1))), axis=1)\n",
    "    M = np.concatenate((M1, M2), axis=0)\n",
    "    \n",
    "    dual = []\n",
    "    for i in range(p):\n",
    "        if M[i, -1] < 0:\n",
    "            dual += [i]\n",
    "            M[i] *= -1\n",
    "        \n",
    "            MB = M[:, :-1]\n",
    "            ME = M[:, -1:]\n",
    "            M = np.concatenate((MB, np.eye(len(M))[:, i:i+1], ME), axis=1)\n",
    "      \n",
    "    if len(dual) != 0:\n",
    "        \n",
    "        last = np.zeros((1, M.shape[1]))\n",
    "        for i in dual:\n",
    "            last += M[i:i+1]\n",
    "        last[0, M.shape[1] - len(dual) - 1:-1] = 0\n",
    "        M = np.concatenate((M, last), axis=0)\n",
    "    \n",
    "        simplex_solve_tab(M,p, select='smallest')\n",
    "        \n",
    "        M = M[:-1]\n",
    "        MB = M[:, :-1-len(dual)]\n",
    "        ME = M[:, -1:]\n",
    "        M = np.concatenate((MB, ME), axis=1)\n",
    "        print(M)\n",
    "    \n",
    "    simplex_solve_tab(M, p, select='largest')\n",
    "    x = simplex_full_sol(M, n, p)\n",
    "    return x[:n]\n",
    "\n"
   ]
  },
  {
   "cell_type": "code",
   "execution_count": 3,
   "metadata": {},
   "outputs": [
    {
     "name": "stdout",
     "output_type": "stream",
     "text": [
      "[2. 0. 1.]\n",
      "[2. 0. 1.]\n",
      "0.0\n"
     ]
    }
   ],
   "source": [
    "c = np.array([5, 4, 3])\n",
    "\n",
    "A = np.array([\n",
    "    [2, 3, 1],\n",
    "    [4, 1, 2],\n",
    "    [3, 4, 2]\n",
    "])\n",
    "b = np.array([5, 11, 8])\n",
    "\n",
    "res = linprog(-c, A_ub=A, b_ub=b, bounds=(0, None))\n",
    "x_ref = res.x\n",
    "\n",
    "x = simplex(c, A, b)\n",
    "print(x_ref)\n",
    "print(x)\n",
    "print(metrics.tdist(x, x_ref))"
   ]
  },
  {
   "cell_type": "code",
   "execution_count": 4,
   "metadata": {},
   "outputs": [
    {
     "name": "stdout",
     "output_type": "stream",
     "text": [
      "[4. 0. 1.]\n",
      "[4. 0. 1.]\n",
      "0.0\n"
     ]
    }
   ],
   "source": [
    "c = np.array([3, 2, -4])\n",
    "A = np.array([\n",
    "    [1, 4, 0],\n",
    "    [2, 4, -2],\n",
    "    [1, 1, -2]\n",
    "])\n",
    "b = np.array([5, 6, 2])\n",
    "\n",
    "res = linprog(-c, A_ub=A, b_ub=b, bounds=(0, None))\n",
    "x_ref = res.x\n",
    "\n",
    "x = simplex(c, A, b)\n",
    "print(x_ref)\n",
    "print(x)\n",
    "print(metrics.tdist(x, x_ref))"
   ]
  },
  {
   "cell_type": "code",
   "execution_count": 5,
   "metadata": {},
   "outputs": [
    {
     "name": "stdout",
     "output_type": "stream",
     "text": [
      "[[-0.  1.  1.  3. -1. -0.  2.]\n",
      " [ 0.  0. -3. -5.  2.  1. 57.]\n",
      " [-1.  0. -8. -6.  2.  0. -4.]]\n",
      "[30.5  0.   0. ]\n",
      "[30.5  0.   0. ]\n",
      "0.0\n"
     ]
    }
   ],
   "source": [
    "c = np.array([2, -6, 0])\n",
    "A = np.array([\n",
    "    [-1, -1, -3],\n",
    "    [2, -1, 1]\n",
    "])\n",
    "b = np.array([-2, 61])\n",
    "\n",
    "res = linprog(-c, A_ub=A, b_ub=b, bounds=(0, None))\n",
    "x_ref = res.x\n",
    "\n",
    "x = simplex(c, A, b)\n",
    "print(x_ref)\n",
    "print(x)\n",
    "print(metrics.tdist(x, x_ref))"
   ]
  },
  {
   "cell_type": "code",
   "execution_count": 6,
   "metadata": {},
   "outputs": [
    {
     "name": "stdout",
     "output_type": "stream",
     "text": [
      "[0. 4.]\n",
      "[0. 4.]\n",
      "0.0\n"
     ]
    }
   ],
   "source": [
    "c = np.array([3, 4])\n",
    "A = np.array([\n",
    "    [1, 1],\n",
    "    [2, 1],\n",
    "])\n",
    "b = np.array([4, 5])\n",
    "\n",
    "res = linprog(-c, A_ub=A, b_ub=b, bounds=(0, None))\n",
    "x_ref = res.x\n",
    "\n",
    "x = simplex(c, A, b)\n",
    "print(x_ref)\n",
    "print(x)\n",
    "print(metrics.tdist(x, x_ref))"
   ]
  },
  {
   "cell_type": "code",
   "execution_count": 7,
   "metadata": {},
   "outputs": [
    {
     "name": "stdout",
     "output_type": "stream",
     "text": [
      "[4. 0.]\n",
      "[4. 0.]\n",
      "0.0\n"
     ]
    }
   ],
   "source": [
    "c = np.array([2, -1])\n",
    "A = np.array([\n",
    "    [1, 2],\n",
    "    [3, 2],\n",
    "])\n",
    "b = np.array([6, 12])\n",
    "\n",
    "res = linprog(-c, A_ub=A, b_ub=b, bounds=(0, None))\n",
    "x_ref = res.x\n",
    "\n",
    "x = simplex(c, A, b)\n",
    "print(x_ref)\n",
    "print(x)\n",
    "print(metrics.tdist(x, x_ref))"
   ]
  },
  {
   "cell_type": "code",
   "execution_count": 8,
   "metadata": {},
   "outputs": [
    {
     "name": "stdout",
     "output_type": "stream",
     "text": [
      "[[ 0.  0.  4. -3.  1.  9.]\n",
      " [ 0.  1.  2. -1.  0.  4.]\n",
      " [-1.  0. -1. -2.  0.  8.]]\n",
      "[4. 0.]\n",
      "[4. 0.]\n",
      "0.0\n"
     ]
    }
   ],
   "source": [
    "c = np.array([-2, -5])\n",
    "A = np.array([\n",
    "    [-1, -2],\n",
    "    [-3, -2],\n",
    "])\n",
    "b = np.array([-4, -3])\n",
    "\n",
    "res = linprog(-c, A_ub=A, b_ub=b, bounds=(0, None))\n",
    "x_ref = res.x\n",
    "\n",
    "x = simplex(c, A, b)\n",
    "print(x_ref)\n",
    "print(x)\n",
    "print(metrics.tdist(x, x_ref))"
   ]
  },
  {
   "cell_type": "code",
   "execution_count": 9,
   "metadata": {},
   "outputs": [
    {
     "name": "stdout",
     "output_type": "stream",
     "text": [
      "[[ 0.  0.  3. -2.  1.  0.  1.]\n",
      " [ 0.  1.  1. -1.  0.  0.  1.]\n",
      " [ 0.  0.  3.  0.  0.  1.  2.]\n",
      " [-1.  0.  3. -6.  0.  0.  6.]]\n",
      "[0.66666667 0.33333333]\n",
      "[0.66666667 0.33333333]\n",
      "1.1102230246251565e-16\n"
     ]
    }
   ],
   "source": [
    "c = np.array([-6, -3])\n",
    "A = np.array([\n",
    "    [-1, -1],\n",
    "    [-2, 1],\n",
    "    [0, 3]\n",
    "])\n",
    "b = np.array([-1, -1, 2])\n",
    "\n",
    "res = linprog(-c, A_ub=A, b_ub=b, bounds=(0, None))\n",
    "x_ref = res.x\n",
    "\n",
    "x = simplex(c, A, b)\n",
    "print(x_ref)\n",
    "print(x)\n",
    "print(metrics.tdist(x, x_ref))"
   ]
  },
  {
   "cell_type": "code",
   "execution_count": null,
   "metadata": {},
   "outputs": [],
   "source": []
  }
 ],
 "metadata": {
  "kernelspec": {
   "display_name": "Python 3",
   "language": "python",
   "name": "python3"
  },
  "language_info": {
   "codemirror_mode": {
    "name": "ipython",
    "version": 3
   },
   "file_extension": ".py",
   "mimetype": "text/x-python",
   "name": "python",
   "nbconvert_exporter": "python",
   "pygments_lexer": "ipython3",
   "version": "3.6.7"
  }
 },
 "nbformat": 4,
 "nbformat_minor": 2
}
