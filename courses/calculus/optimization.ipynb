{
 "cells": [
  {
   "cell_type": "code",
   "execution_count": 51,
   "metadata": {},
   "outputs": [],
   "source": [
    "import sys\n",
    "sys.path.append('../../pyutils')\n",
    "\n",
    "import matplotlib.pyplot as plt\n",
    "import numpy as np\n",
    "import torch\n",
    "\n",
    "import math\n",
    "import random\n",
    "\n",
    "import metrics\n",
    "\n",
    "%matplotlib inline"
   ]
  },
  {
   "cell_type": "markdown",
   "metadata": {},
   "source": [
    "# Definition\n",
    "\n",
    "Let $f: \\mathbb{R}^N \\to \\mathbb{R}$.  \n",
    "Optimization is finding $x$ that minimizes $f(x)$.  \n",
    "Maximizing $f(x)$ is the same as minimizing $-f(x)$."
   ]
  },
  {
   "cell_type": "markdown",
   "metadata": {},
   "source": [
    "# Scalar functions\n",
    "\n",
    "$f: \\mathbb{R} \\to \\mathbb{R}$.\n",
    "\n",
    "$$f(x + \\epsilon) \\approx f(x) + \\epsilon f'(x)$$\n",
    "\n",
    "$$f(x - \\epsilon \\text{sign}(f'(x)) < f(x)$$\n",
    "for $\\epsilon$ small enough\n",
    "\n",
    "We can thus reduce $f(x)$ by moving $x$ in small steps with opposite sign of $f'(x)$:\n",
    "$$x \\leftarrow x - \\epsilon \\text{sign}(f'(x))$$\n",
    "This optimisation technique is called gradient descent.  \n",
    "\n",
    "When $f'(x) = 0$, we are in a critical point, there are of 3 types:\n",
    "- local minimum: $f(x)$ lower than all neighboring points\n",
    "- local maximum: $f(x)$ greater than all neighboring points\n",
    "- saddle points: neither minimum nor maximum\n",
    "\n",
    "A global mimimum / maximum is a point $x$ with the lowest / largest value of $f(x)$.  \n",
    "A local minimum is not necesseraly a global one.  \n",
    "Applying gradient descent, we find a local minimum, that may be suboptimal compared to the global minimum."
   ]
  },
  {
   "cell_type": "code",
   "execution_count": 75,
   "metadata": {},
   "outputs": [
    {
     "data": {
      "image/png": "[encoded data removed]",
      "text/plain": [
       "<Figure size 432x288 with 1 Axes>"
      ]
     },
     "metadata": {
      "needs_background": "light"
     },
     "output_type": "display_data"
    }
   ],
   "source": [
    "def compute_deriv(f, x):\n",
    "    tx = torch.tensor(x, dtype=torch.float32, requires_grad=True)\n",
    "    out = my_fun(tx)\n",
    "    out.backward()\n",
    "    return tx.grad.item()\n",
    "    \n",
    "\n",
    "def my_fun(x):\n",
    "    return (x-2)**2 * (x+1) - 3 + x**2/5\n",
    "\n",
    "z = np.linspace(-3, 3, 1000)\n",
    "plt.plot(z, [my_fun(x) for x in z])\n",
    "plt.show()"
   ]
  },
  {
   "cell_type": "code",
   "execution_count": 76,
   "metadata": {},
   "outputs": [
    {
     "data": {
      "image/png": "[encoded data removed]",
      "text/plain": [
       "<Figure size 432x288 with 1 Axes>"
      ]
     },
     "metadata": {
      "needs_background": "light"
     },
     "output_type": "display_data"
    }
   ],
   "source": [
    "z = np.linspace(-3, 3, 1000)\n",
    "plt.plot(z, [compute_deriv(my_fun, x) for x in z])\n",
    "plt.show()"
   ]
  },
  {
   "cell_type": "code",
   "execution_count": 149,
   "metadata": {},
   "outputs": [
    {
     "name": "stdout",
     "output_type": "stream",
     "text": [
      "f(2.5) = -0.875 => f(1.8660000000000698) = -2.252146904\n",
      "f(-1) = -2.8 => f(-1.9999999999998899) = -18.199999999997445\n"
     ]
    }
   ],
   "source": [
    "def gradient_descent(f, step, start = None, tol=1e-28, max_iters=1000):\n",
    "    \n",
    "    if start is None:\n",
    "        start = random.random()\n",
    "    \n",
    "    x = start\n",
    "    \n",
    "    for its in range(max_iters):\n",
    "        \n",
    "        dx = compute_deriv(f, x)\n",
    "        new_x = x - step * float(np.sign(dx))\n",
    "        delta = (f(new_x) - f(x))**2\n",
    "        x = new_x\n",
    "        \n",
    "        if delta**2 < tol:\n",
    "            break\n",
    "    \n",
    "    return x\n",
    "\n",
    "start = 2.5\n",
    "res = gradient_descent(my_fun, 0.001, start=start)\n",
    "print('f({}) = {} => f({}) = {}'.format(\n",
    "    start, my_fun(start), res, my_fun(res)))\n",
    "\n",
    "start = -1\n",
    "res = gradient_descent(my_fun, 0.001, start=start)\n",
    "print('f({}) = {} => f({}) = {}'.format(\n",
    "    start, my_fun(start), res, my_fun(res)))"
   ]
  },
  {
   "cell_type": "markdown",
   "metadata": {},
   "source": [
    "# Vector functions\n",
    "\n",
    "$f: \\mathbb{R}^n \\to \\mathbb{R}$.  \n",
    "\n",
    "The gradient vector of $f(x)$ at the point $x$ is denoted $\\nabla_x f(x)$.\n",
    "$$(\\nabla_x f(x))_i = \\frac{\\partial}{\\partial x_i} f(x)$$\n",
    "\n",
    "$x$ is a critical points if $\\nabla_x f(x) = \\vec{0}$.\n",
    "\n",
    "The directional derivative in direction $u$ (unit vector) is the slope of $f$ in direction $u$ evaluated at $x$. this is:\n",
    "$$\\frac{\\partial}{\\partial \\alpha} f(x + \\alpha u) \\space (\\alpha = 0) = u^T \\nabla_x f(x)$$  \n",
    "\n",
    "We are looking for the direction $u$ that decreases $f$ the fastest:\n",
    "$$\\min_{u, u^Tu=1}u^T\\nabla_x f(x)$$\n",
    "$$ = \\min_{u, u^Tu=1} ||u||_2 ||\\nabla_x f(x)|| \\cos \\theta$$\n",
    "$$ = \\min_{u} \\cos \\theta$$\n",
    "with $\\theta$ the angle between $u$ and the gradient.  \n",
    "The solution is $u$ pointing in the opposite direction of the gradient.  \n",
    "\n",
    "Gradient descent in vector functions proposes the following update:\n",
    "$$x \\leftarrow x - \\epsilon \\nabla_x f(x)$$\n",
    "\n",
    "with $\\sigma \\in \\mathbb{R}$, $\\sigma > 0$ the learning rate, might be chosen:\n",
    "- small constant\n",
    "- line search: try several values, take the ones that reduce the most\n",
    "\n",
    "It converges to local minima"
   ]
  },
  {
   "cell_type": "code",
   "execution_count": 165,
   "metadata": {},
   "outputs": [],
   "source": [
    "N = 54\n",
    "IN_SIZE = 8\n",
    "HIDDEN = 5\n",
    "OUT_SIZE = 1\n",
    "\n",
    "X = torch.randn(N, IN_SIZE)\n",
    "y = torch.randn(N, OUT_SIZE)\n",
    "\n",
    "def my_net(W1, W2):\n",
    "    \n",
    "    out = torch.relu(X @ W1)\n",
    "    out = out @ W2\n",
    "    \n",
    "    loss = torch.mean((out - y)**2)\n",
    "    \n",
    "    return loss"
   ]
  },
  {
   "cell_type": "code",
   "execution_count": 172,
   "metadata": {},
   "outputs": [
    {
     "name": "stdout",
     "output_type": "stream",
     "text": [
      "Iteration 1, loss = 27.256473541259766\n",
      "Iteration 31, loss = 2.3146841526031494\n",
      "Iteration 61, loss = 1.4958083629608154\n",
      "Iteration 91, loss = 1.2893446683883667\n",
      "Iteration 121, loss = 1.213019847869873\n",
      "Iteration 151, loss = 1.180122971534729\n",
      "Iteration 181, loss = 1.1647608280181885\n",
      "Iteration 211, loss = 1.157124400138855\n",
      "Iteration 241, loss = 1.1530524492263794\n",
      "Iteration 271, loss = 1.1506593227386475\n",
      "Iteration 301, loss = 1.1490594148635864\n",
      "Iteration 331, loss = 1.1478304862976074\n",
      "Iteration 361, loss = 1.1467729806900024\n",
      "Iteration 391, loss = 1.1458485126495361\n",
      "Iteration 421, loss = 1.1451579332351685\n",
      "Iteration 451, loss = 1.144492506980896\n",
      "Iteration 481, loss = 1.143834114074707\n",
      "Iteration 511, loss = 1.1431735754013062\n",
      "Iteration 541, loss = 1.1425058841705322\n",
      "Iteration 571, loss = 1.1418284177780151\n",
      "Iteration 601, loss = 1.1411124467849731\n",
      "Iteration 631, loss = 1.140347957611084\n",
      "Iteration 661, loss = 1.1395683288574219\n",
      "Iteration 691, loss = 1.1387735605239868\n",
      "Iteration 721, loss = 1.1379634141921997\n",
      "Iteration 751, loss = 1.137157917022705\n",
      "Iteration 781, loss = 1.1363520622253418\n",
      "Iteration 811, loss = 1.135529637336731\n",
      "Iteration 841, loss = 1.1346901655197144\n",
      "Iteration 871, loss = 1.13387930393219\n",
      "Iteration 901, loss = 1.1330602169036865\n",
      "Iteration 931, loss = 1.1322247982025146\n",
      "Iteration 961, loss = 1.1313717365264893\n",
      "Iteration 991, loss = 1.1304999589920044\n"
     ]
    }
   ],
   "source": [
    "LR = 0.01\n",
    "\n",
    "def gradient_descent(lr, niters=1000):\n",
    "    \n",
    "    W1 = torch.randn(IN_SIZE, HIDDEN, requires_grad=True)\n",
    "    W2 = torch.randn(HIDDEN, OUT_SIZE, requires_grad=True)\n",
    "    \n",
    "    loss = my_net(W1, W2)\n",
    "    \n",
    "    for it in range(niters):\n",
    "        \n",
    "        loss = my_net(W1, W2)\n",
    "        loss.backward()\n",
    "        \n",
    "        W1.data.sub_(lr * W1.grad.data)\n",
    "        W2.data.sub_(lr * W2.grad.data)\n",
    "        W1.grad.zero_()\n",
    "        W2.grad.zero_()\n",
    "        \n",
    "        if it % 30 == 0:\n",
    "            print('Iteration {}, loss = {}'.format(it+1,\n",
    "                 loss.item()))\n",
    "    \n",
    "    return W1, W2\n",
    "    \n",
    "\n",
    "res_w1, res_w2 = gradient_descent(lr=LR)"
   ]
  },
  {
   "cell_type": "markdown",
   "metadata": {},
   "source": [
    "# Jacobian and Hessian\n",
    "\n",
    "Let $f: \\mathbb{R}^m \\to \\mathbb{R}^n$.  \n",
    "The Jacobian matrix $J \\in \\mathbb{R}^{n*m}$ contains all the partial derivates of $f$ at a particual point $x$:\n",
    "$$J_{ij} = \\frac{\\partial}{\\partial x_j} f(x)_i$$  \n",
    "\n",
    "Let $f: \\mathbb{R}^n \\to \\mathbb{R}$.  \n",
    "The Hesian matrix $H \\in \\mathbb{R}^{n*n}$ contains all the second partial derivates of $f$ at a particular point $x$:\n",
    "$$H_{ij} = \\frac{\\partial^2}{\\partial x_i \\partial x_j} f(x)$$  \n",
    "\n",
    "The Hessian is the Jacobian of the gradient.  \n",
    "\n",
    "If $f$ second partial derivative is continuous in $x$, the Hessian is symmetric.\n",
    "\n",
    "The second derivative tells us is a gradient step will do as much improvement as we expected.  \n",
    "Suppose we have a quadratic scalar function:\n",
    "- $f''(x) = 0$: a gradient step will move exactly as expected by the gradient.\n",
    "- $f''(x) > 0$: a gradient step will move less than expected.\n",
    "- $f''(x) < 0$: a gradient step will move less than expected.  \n",
    "\n",
    "If $x$ is a critical point, $f'(x)=0$, the second derivates gives more information:\n",
    "- $f''(x) < 0$: $x$ is a local maximum\n",
    "- $f''(x) > 0$: $x$ is a local minimum\n",
    "- $f''(x) = 0$: may be any of the 3\n",
    "\n",
    "In higher dimensions, we can look at the Hessian eigeinvalues to know what kind of critical point $x$ is ($\\nabla_x f(x) = \\vec{0}$):\n",
    "- all eigenvalues are negative: $x$ is a local maximum\n",
    "- all eigenvalues are positive: $x$ is a local minimum\n",
    "- there is at least one positive and one negative eigenvalue: $x$ is a saddle point\n",
    "- otherwhise: may be any of the 3\n",
    "\n",
    "If the Hessian has a poor condition number, the second derivatives differ a lot from each other, and gradient descent performs poorly.  \n",
    "We could use the information on the Hessian to guide the search.  \n",
    "\n",
    "Newton's method use a second-order Taylor series expansion to make a quadratic approximation of $f$ near $x^{(0)}$:\n",
    "\n",
    "$$f(x) \\approx f(x^{(0)}) + (x - x^{(0)})^Tg + \\frac{1}{2} (x - x^{(0)})^T H (x - x^{(0)})$$\n",
    "\n",
    "with $g = \\nabla_x f(x^{(0)})$ and $H$ the Hessian of $f$ at $x^{(0)}$.\n",
    "\n",
    "Solving for a critical point, we obtain:\n",
    "$$x^* = x^{(0)} - H^{-1}g$$\n",
    "\n",
    "When $f$ is quadratic, only one update jumps to the minimum. Otherwhise, we can recursively make the update, it converges a lot faster than gradient descent.  \n",
    "But newton's method are a lot more attracted to saddle points than gradient descent."
   ]
  },
  {
   "cell_type": "code",
   "execution_count": 251,
   "metadata": {},
   "outputs": [
    {
     "name": "stdout",
     "output_type": "stream",
     "text": [
      "torch.Size([8]) torch.Size([8, 8])\n",
      "0.0\n",
      "3.6603196e-05\n"
     ]
    }
   ],
   "source": [
    "import torch.autograd as autograd\n",
    "\n",
    "def compute_grad_hessian(loss, w):\n",
    "    \n",
    "    w_grad, = autograd.grad(loss, w, create_graph=True, retain_graph=True)\n",
    "    \n",
    "    hess = []\n",
    "    for i in range(len(w_grad)):    \n",
    "        hess.append(autograd.grad(w_grad[i], w,\n",
    "                    create_graph=True, retain_graph=True)[0])\n",
    "    \n",
    "    w_hess = torch.stack(hess, dim=0)\n",
    "    \n",
    "    return w_grad, w_hess\n",
    "\n",
    "beta = torch.randn(IN_SIZE, requires_grad = True)\n",
    "\n",
    "l1_coef = 0.4\n",
    "\n",
    "pred = X @ beta\n",
    "err = (y.squeeze() - pred)\n",
    "loss = (err @ err) + l1_coef * beta @ beta\n",
    "\n",
    "beta_grad, beta_hess = compute_grad_hessian(loss, beta)\n",
    "\n",
    "\n",
    "bgrad_ref = - 2 * X.t() @ (y.squeeze() - X @ beta) + 2 * l1_coef * beta\n",
    "bhess_ref = 2 * X.t() @ X + 2 * l1_coef * torch.eye(len(beta))\n",
    "print(beta_grad.shape, beta_hess.shape)\n",
    "print(metrics.tdist(bgrad_ref.data.numpy(), beta_grad.data.numpy()))\n",
    "print(metrics.tdist(bhess_ref.data.numpy(), beta_hess.data.numpy()))"
   ]
  },
  {
   "cell_type": "code",
   "execution_count": 252,
   "metadata": {},
   "outputs": [
    {
     "name": "stdout",
     "output_type": "stream",
     "text": [
      "torch.Size([5]) torch.Size([5, 5])\n",
      "tensor([ 2.2695,  5.0394, -1.0224, -0.0292, -0.1943], grad_fn=<ViewBackward>)\n",
      "tensor([[ 1.9316,  0.8081, -0.2022, -0.0647, -0.7060],\n",
      "        [ 0.8081,  3.3117, -0.5739, -0.0595, -1.0549],\n",
      "        [-0.2022, -0.5739,  0.1785,  0.0195,  0.2155],\n",
      "        [-0.0647, -0.0595,  0.0195,  0.0074,  0.0455],\n",
      "        [-0.7060, -1.0549,  0.2155,  0.0455,  1.3261]],\n",
      "       grad_fn=<StackBackward>)\n"
     ]
    }
   ],
   "source": [
    "import torch.autograd as autograd\n",
    "\n",
    "torch.manual_seed(7)\n",
    "\n",
    "W1 = torch.randn(IN_SIZE, HIDDEN)\n",
    "W2 = torch.randn(HIDDEN, OUT_SIZE, requires_grad=True)\n",
    "\n",
    "def my_net(b):\n",
    "    \n",
    "    out = torch.relu(X @ W1 + b)\n",
    "    out = out @ W2\n",
    "    \n",
    "    loss = torch.mean((out - y)**2)\n",
    "    \n",
    "    return loss\n",
    "\n",
    "b = torch.randn(HIDDEN, requires_grad=True)\n",
    "    \n",
    "\n",
    "loss = my_net(b)\n",
    "b_grad, b_hess = compute_grad_hessian(loss, b)\n",
    "\n",
    "\n",
    "print(b_grad.shape, b_hess.shape)\n",
    "print(b_grad)\n",
    "print(b_hess)"
   ]
  },
  {
   "cell_type": "code",
   "execution_count": 269,
   "metadata": {},
   "outputs": [
    {
     "name": "stdout",
     "output_type": "stream",
     "text": [
      "Iteration 1, loss = 21.246177673339844\n",
      "Iteration 11, loss = 18.76519203186035\n",
      "Iteration 21, loss = 16.528507232666016\n",
      "Iteration 31, loss = 14.489789962768555\n",
      "Iteration 41, loss = 12.661669731140137\n",
      "Iteration 51, loss = 11.081941604614258\n",
      "Iteration 61, loss = 9.753718376159668\n",
      "Iteration 71, loss = 8.629889488220215\n",
      "Iteration 81, loss = 7.7066826820373535\n",
      "Iteration 91, loss = 6.889970779418945\n"
     ]
    }
   ],
   "source": [
    "LR = 0.01\n",
    "\n",
    "def newton_method(lr, niters=100):\n",
    "    \n",
    "    b = torch.randn(HIDDEN, requires_grad=True)\n",
    "    \n",
    "    loss = my_net(b)\n",
    "    \n",
    "    for it in range(niters):\n",
    "        \n",
    "        loss = my_net(b)\n",
    "        b_grad, b_hess = compute_grad_hessian(loss, b)\n",
    "        \n",
    "        with torch.no_grad():\n",
    "            db = torch.inverse(b_hess) @ b_grad\n",
    "            b.data.sub_(lr * db.data)\n",
    "        \n",
    "        if it % 10 == 0:\n",
    "            print('Iteration {}, loss = {}'.format(it+1,\n",
    "                 loss.item()))\n",
    "    \n",
    "    return b\n",
    "\n",
    "res_b = newton_method(lr=LR)"
   ]
  }
 ],
 "metadata": {
  "kernelspec": {
   "display_name": "Python 3",
   "language": "python",
   "name": "python3"
  },
  "language_info": {
   "codemirror_mode": {
    "name": "ipython",
    "version": 3
   },
   "file_extension": ".py",
   "mimetype": "text/x-python",
   "name": "python",
   "nbconvert_exporter": "python",
   "pygments_lexer": "ipython3",
   "version": "3.7.3"
  }
 },
 "nbformat": 4,
 "nbformat_minor": 2
}
