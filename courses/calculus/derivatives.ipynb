{
 "cells": [
  {
   "cell_type": "code",
   "execution_count": 1,
   "metadata": {},
   "outputs": [],
   "source": [
    "import sys\n",
    "sys.path.append('../../pyutils')\n",
    "\n",
    "import numpy as np\n",
    "import scipy.linalg\n",
    "import torch\n",
    "\n",
    "import metrics\n",
    "import utils\n",
    "\n",
    "np.random.seed(12)"
   ]
  },
  {
   "cell_type": "markdown",
   "metadata": {},
   "source": [
    "$$\\frac{\\partial}{\\partial x} ||x||_2^2 = 2x, x \\in \\mathbb{R}^n$$"
   ]
  },
  {
   "cell_type": "code",
   "execution_count": 2,
   "metadata": {},
   "outputs": [
    {
     "name": "stdout",
     "output_type": "stream",
     "text": [
      "18.733339403660047\n",
      "18.733339403660047\n",
      "0.0\n"
     ]
    }
   ],
   "source": [
    "x = np.random.randn(14)\n",
    "tx = torch.tensor(x, requires_grad=True)\n",
    "y = x@x\n",
    "ty = torch.dot(tx, tx)\n",
    "ty.backward()\n",
    "\n",
    "print(y)\n",
    "print(ty.data.numpy())\n",
    "print(metrics.tdist(y, ty.data.numpy()))"
   ]
  },
  {
   "cell_type": "code",
   "execution_count": 3,
   "metadata": {},
   "outputs": [
    {
     "name": "stdout",
     "output_type": "stream",
     "text": [
      "[ 0.94597166 -1.36285176  0.48487899 -3.40147127  1.50628567 -3.06944268\n",
      "  0.01025416 -0.24045534 -1.61396376  5.74363879 -1.19564584  0.94491399\n",
      "  2.19191224 -2.4303376 ]\n",
      "[ 0.94597166 -1.36285176  0.48487899 -3.40147127  1.50628567 -3.06944268\n",
      "  0.01025416 -0.24045534 -1.61396376  5.74363879 -1.19564584  0.94491399\n",
      "  2.19191224 -2.4303376 ]\n",
      "0.0\n"
     ]
    }
   ],
   "source": [
    "dx = 2 * x\n",
    "dx_sol = tx.grad.data.numpy()\n",
    "print(dx)\n",
    "print(dx_sol)\n",
    "print(metrics.tdist(dx, dx_sol))"
   ]
  },
  {
   "cell_type": "markdown",
   "metadata": {},
   "source": [
    "$$\\frac{\\partial}{\\partial x} ||x||_1 = sign(x), x \\in \\mathbb{R}^n$$"
   ]
  },
  {
   "cell_type": "code",
   "execution_count": 4,
   "metadata": {},
   "outputs": [
    {
     "name": "stdout",
     "output_type": "stream",
     "text": [
      "14.276574175253929\n",
      "14.276574175253929\n",
      "0.0\n"
     ]
    }
   ],
   "source": [
    "x = np.random.randn(14)\n",
    "tx = torch.tensor(x, requires_grad=True)\n",
    "y = np.linalg.norm(x, ord=1)\n",
    "ty = torch.norm(tx, p=1)\n",
    "ty.backward()\n",
    "\n",
    "print(y)\n",
    "print(ty.data.numpy())\n",
    "print(metrics.tdist(y, ty.data.numpy()))"
   ]
  },
  {
   "cell_type": "code",
   "execution_count": 5,
   "metadata": {},
   "outputs": [
    {
     "name": "stdout",
     "output_type": "stream",
     "text": [
      "[ 1. -1.  1. -1. -1.  1.  1.  1.  1.  1. -1. -1. -1. -1.]\n",
      "[ 1. -1.  1. -1. -1.  1.  1.  1.  1.  1. -1. -1. -1. -1.]\n",
      "0.0\n"
     ]
    }
   ],
   "source": [
    "dx = np.sign(x)\n",
    "dx_sol = tx.grad.data.numpy()\n",
    "print(dx)\n",
    "print(dx_sol)\n",
    "print(metrics.tdist(dx, dx_sol))"
   ]
  },
  {
   "cell_type": "markdown",
   "metadata": {},
   "source": [
    "$$\\frac{\\partial}{\\partial x} \\sum_{x=1}^n x_i = \\mathbb{1}, x \\in \\mathbb{R}^n$$"
   ]
  },
  {
   "cell_type": "code",
   "execution_count": 6,
   "metadata": {},
   "outputs": [
    {
     "name": "stdout",
     "output_type": "stream",
     "text": [
      "-6.814946599398262\n",
      "-6.814946599398261\n",
      "8.881784197001252e-16\n"
     ]
    }
   ],
   "source": [
    "x = np.random.randn(14)\n",
    "tx = torch.tensor(x, requires_grad=True)\n",
    "y = np.sum(x)\n",
    "ty = torch.sum(tx)\n",
    "ty.backward()\n",
    "\n",
    "print(y)\n",
    "print(ty.data.numpy())\n",
    "print(metrics.tdist(y, ty.data.numpy()))"
   ]
  },
  {
   "cell_type": "code",
   "execution_count": 7,
   "metadata": {},
   "outputs": [
    {
     "name": "stdout",
     "output_type": "stream",
     "text": [
      "[1. 1. 1. 1. 1. 1. 1. 1. 1. 1. 1. 1. 1. 1.]\n",
      "[1. 1. 1. 1. 1. 1. 1. 1. 1. 1. 1. 1. 1. 1.]\n",
      "0.0\n"
     ]
    }
   ],
   "source": [
    "dx = np.ones((x.shape[0]))\n",
    "dx_sol = tx.grad.data.numpy()\n",
    "print(dx)\n",
    "print(dx_sol)\n",
    "print(metrics.tdist(dx, dx_sol))"
   ]
  },
  {
   "cell_type": "markdown",
   "metadata": {},
   "source": [
    "$$x, y \\in \\mathbb{R}^n$$\n",
    "$$\\frac{\\partial x^Ty}{\\partial x} = y$$\n",
    "$$\\frac{\\partial x^Ty}{\\partial y} = x$$"
   ]
  },
  {
   "cell_type": "code",
   "execution_count": 8,
   "metadata": {},
   "outputs": [
    {
     "name": "stdout",
     "output_type": "stream",
     "text": [
      "4.509509404393396\n",
      "4.509509404393396\n",
      "0.0\n"
     ]
    }
   ],
   "source": [
    "x = np.random.randn(14)\n",
    "y = np.random.randn(14)\n",
    "tx = torch.tensor(x, requires_grad=True)\n",
    "ty = torch.tensor(y, requires_grad=True)\n",
    "z = x @ y\n",
    "tz = torch.dot(tx, ty)\n",
    "tz.backward()\n",
    "\n",
    "print(z)\n",
    "print(tz.data.numpy())\n",
    "print(metrics.tdist(z, tz.data.numpy()))"
   ]
  },
  {
   "cell_type": "code",
   "execution_count": 9,
   "metadata": {},
   "outputs": [
    {
     "name": "stdout",
     "output_type": "stream",
     "text": [
      "[ 0.1597877  -0.71626359  0.05052283 -0.14333741  0.94357539  0.35764423\n",
      " -0.0834492   0.6778061   0.55606037  0.22271946 -1.52898548  1.02921118\n",
      " -1.16625876 -1.00956165]\n",
      "[ 0.1597877  -0.71626359  0.05052283 -0.14333741  0.94357539  0.35764423\n",
      " -0.0834492   0.6778061   0.55606037  0.22271946 -1.52898548  1.02921118\n",
      " -1.16625876 -1.00956165]\n",
      "0.0\n",
      "[ 1.33583134  0.31866529 -0.33759525 -0.58526828 -0.11491994  2.24181779\n",
      " -3.14741652  0.53513589  0.23249044  0.86761195 -1.14821271  2.11434424\n",
      "  1.00094276 -0.051415  ]\n",
      "[ 1.33583134  0.31866529 -0.33759525 -0.58526828 -0.11491994  2.24181779\n",
      " -3.14741652  0.53513589  0.23249044  0.86761195 -1.14821271  2.11434424\n",
      "  1.00094276 -0.051415  ]\n",
      "0.0\n"
     ]
    }
   ],
   "source": [
    "dx = y\n",
    "dx_sol = tx.grad.data.numpy()\n",
    "print(dx)\n",
    "print(dx_sol)\n",
    "print(metrics.tdist(dx, dx_sol))\n",
    "dy = x\n",
    "dy_sol = ty.grad.data.numpy()\n",
    "print(dy)\n",
    "print(dy_sol)\n",
    "print(metrics.tdist(dy, dy_sol))"
   ]
  },
  {
   "cell_type": "markdown",
   "metadata": {},
   "source": [
    "$$x \\in \\mathbb{R}^n, \\space M \\in \\mathbb{R}^{n*n} \\text{ symetric}$$\n",
    "$$\\frac{\\partial x^TMx}{\\partial x} = 2Mx$$"
   ]
  },
  {
   "cell_type": "code",
   "execution_count": 10,
   "metadata": {},
   "outputs": [
    {
     "name": "stdout",
     "output_type": "stream",
     "text": [
      "[-6.50427942 17.90265975 21.71056981]\n",
      "[-6.50427942 17.90265975 21.71056981]\n",
      "0.0\n"
     ]
    }
   ],
   "source": [
    "x = np.random.randn(3)\n",
    "M = np.random.randn(3, 3)\n",
    "M = M.T @ M\n",
    "tx = torch.tensor(x, requires_grad=True)\n",
    "tM = torch.tensor(M, requires_grad=True)\n",
    "z = x @ M @ x\n",
    "tz = torch.matmul(torch.matmul(tx, tM), tx)\n",
    "tz.backward()\n",
    "dx = 2 * M @ x\n",
    "\n",
    "print(dx)\n",
    "print(tx.grad.data.numpy())\n",
    "print(metrics.tdist(dx, tx.grad.data.numpy()))"
   ]
  },
  {
   "cell_type": "markdown",
   "metadata": {},
   "source": [
    "$$z = c * x, \\space x \\in \\mathbb{R^n}, c \\in \\mathbb{R}$$\n",
    "$$\\frac{\\partial E}{\\partial x} = \\frac{\\partial E}{z} * c$$\n",
    "$$\\frac{\\partial E}{\\partial c} = \\frac{\\partial E}{z}^T x$$"
   ]
  },
  {
   "cell_type": "code",
   "execution_count": 11,
   "metadata": {},
   "outputs": [
    {
     "name": "stdout",
     "output_type": "stream",
     "text": [
      "69.14040081119921\n",
      "69.14040081119921\n",
      "0.0\n"
     ]
    }
   ],
   "source": [
    "x = np.random.randn(14)\n",
    "c = np.array(2.3)\n",
    "z = c * x\n",
    "e = z.T @ z\n",
    "\n",
    "tx = torch.tensor(x, requires_grad=True)\n",
    "tc = torch.tensor(c, requires_grad=True)\n",
    "tz = tc * tx\n",
    "te = torch.dot(tz, tz)\n",
    "te.backward()\n",
    "\n",
    "print(e)\n",
    "print(te.data.numpy())\n",
    "print(metrics.tdist(e, te.data.numpy()))"
   ]
  },
  {
   "cell_type": "markdown",
   "metadata": {},
   "source": [
    "$$z = x^Ty, \\space x, y, z \\in \\mathbb{R}^n$$\n",
    "$$\\frac{\\partial E}{\\partial x} = \\frac{\\partial E}{\\partial z} * y$$\n",
    "$$\\frac{\\partial E}{\\partial y} = \\frac{\\partial E}{\\partial z} * x$$"
   ]
  },
  {
   "cell_type": "code",
   "execution_count": 12,
   "metadata": {},
   "outputs": [
    {
     "name": "stdout",
     "output_type": "stream",
     "text": [
      "0.045384471447029305\n",
      "0.04538447144702919\n",
      "1.1796119636642288e-16\n"
     ]
    }
   ],
   "source": [
    "x = np.random.randn(14)\n",
    "y = np.random.randn(14)\n",
    "z = x @ y\n",
    "e = z**2\n",
    "\n",
    "tx = torch.tensor(x, requires_grad=True)\n",
    "ty = torch.tensor(y, requires_grad=True)\n",
    "tz = torch.dot(tx, ty)\n",
    "te = tz**2\n",
    "te.backward()\n",
    "\n",
    "print(e)\n",
    "print(te.data.numpy())\n",
    "print(metrics.tdist(e, te.data.numpy()))"
   ]
  },
  {
   "cell_type": "code",
   "execution_count": 13,
   "metadata": {},
   "outputs": [
    {
     "name": "stdout",
     "output_type": "stream",
     "text": [
      "[ 0.64162316 -0.25024783  0.58195254  0.5249406   0.19211156 -0.27328717\n",
      " -0.58695596  0.41147809 -0.54707873 -0.54306029  0.64884119  0.62286809\n",
      "  0.01604418 -0.10489789]\n",
      "[ 0.64162316 -0.25024783  0.58195254  0.5249406   0.19211156 -0.27328717\n",
      " -0.58695596  0.41147809 -0.54707873 -0.54306029  0.64884119  0.62286809\n",
      "  0.01604418 -0.10489789]\n",
      "2.311859930211523e-15\n",
      "[ 0.37152175 -0.61625417 -0.22857998  0.08432851 -0.58186175 -0.50892006\n",
      "  0.00678927 -0.03410433 -0.10686017 -0.24079192 -0.46981833 -0.33330914\n",
      "  1.29597924 -0.26675607]\n",
      "[ 0.37152175 -0.61625417 -0.22857998  0.08432851 -0.58186175 -0.50892006\n",
      "  0.00678927 -0.03410433 -0.10686017 -0.24079192 -0.46981833 -0.33330914\n",
      "  1.29597924 -0.26675607]\n",
      "2.442545479692608e-15\n"
     ]
    }
   ],
   "source": [
    "dz = 2 * z\n",
    "dx = dz * y\n",
    "dy = dz * x\n",
    "dx_sol = tx.grad.data.numpy()\n",
    "dy_sol = ty.grad.data.numpy()\n",
    "\n",
    "print(dx)\n",
    "print(dx_sol)\n",
    "print(metrics.tdist(dx, dx_sol))\n",
    "print(dy)\n",
    "print(dy_sol)\n",
    "print(metrics.tdist(dy, dy_sol))"
   ]
  },
  {
   "cell_type": "markdown",
   "metadata": {},
   "source": [
    "$$z = Xy, \\space x \\in \\mathbb{R}^{n*m}, y \\in \\mathbb{R}^m, z \\in \\mathbb{R}^n$$\n",
    "$$\\frac{\\partial E}{\\partial X} = \\frac{\\partial E}{\\partial z} y^T$$\n",
    "$$\\frac{\\partial E}{\\partial y} = X^T \\frac{\\partial E}{\\partial z}$$"
   ]
  },
  {
   "cell_type": "code",
   "execution_count": 14,
   "metadata": {},
   "outputs": [
    {
     "name": "stdout",
     "output_type": "stream",
     "text": [
      "7.044825278274827\n",
      "7.044825278274827\n",
      "0.0\n"
     ]
    }
   ],
   "source": [
    "X = np.random.randn(7, 3)\n",
    "y = np.random.randn(3)\n",
    "z = X @ y\n",
    "e = z @ z\n",
    "\n",
    "tX = torch.tensor(X, requires_grad=True)\n",
    "ty = torch.tensor(y, requires_grad=True)\n",
    "tz = torch.matmul(tX, ty)\n",
    "te = torch.dot(tz, tz)\n",
    "te.backward()\n",
    "\n",
    "print(e)\n",
    "print(te.data.numpy())\n",
    "print(metrics.tdist(e, te.data.numpy()))"
   ]
  },
  {
   "cell_type": "code",
   "execution_count": 15,
   "metadata": {},
   "outputs": [
    {
     "name": "stdout",
     "output_type": "stream",
     "text": [
      "[[-0.04438874 -0.63716949 -1.34684281]\n",
      " [-0.02115185 -0.30362016 -0.6417894 ]\n",
      " [-0.05135561 -0.7371741  -1.55823159]\n",
      " [ 0.02244455  0.32217592  0.6810124 ]\n",
      " [-0.15305772 -2.19703727 -4.64407646]\n",
      " [ 0.12999258  1.86595311  3.94423393]\n",
      " [ 0.12162297  1.74581325  3.69028343]]\n",
      "[[-0.04438874 -0.63716949 -1.34684281]\n",
      " [-0.02115185 -0.30362016 -0.6417894 ]\n",
      " [-0.05135561 -0.7371741  -1.55823159]\n",
      " [ 0.02244455  0.32217592  0.6810124 ]\n",
      " [-0.15305772 -2.19703727 -4.64407646]\n",
      " [ 0.12999258  1.86595311  3.94423393]\n",
      " [ 0.12162297  1.74581325  3.69028343]]\n",
      "0.0\n",
      "[-6.97979932  9.63875043  5.67732131]\n",
      "[-6.97979932  9.63875043  5.67732131]\n",
      "1.7763568394002505e-15\n"
     ]
    }
   ],
   "source": [
    "dz = 2 * z\n",
    "dX = np.outer(dz, y)\n",
    "dy = X.T @ dz\n",
    "dX_sol = tX.grad.data.numpy()\n",
    "dy_sol = ty.grad.data.numpy()\n",
    "\n",
    "print(dX)\n",
    "print(dX_sol)\n",
    "print(metrics.tdist(dX, dX_sol))\n",
    "print(dy)\n",
    "print(dy_sol)\n",
    "print(metrics.tdist(dy, dy_sol))"
   ]
  },
  {
   "cell_type": "markdown",
   "metadata": {},
   "source": [
    "$$z = y^TX, \\space x \\in \\mathbb{R}^{n*m}, y \\in \\mathbb{R}^n, z \\in \\mathbb{R}^m$$\n",
    "$$\\frac{\\partial E}{\\partial X} = y^T\\frac{\\partial E}{\\partial z}$$\n",
    "$$\\frac{\\partial E}{\\partial y} = X \\frac{\\partial E}{\\partial z}$$"
   ]
  },
  {
   "cell_type": "code",
   "execution_count": 16,
   "metadata": {},
   "outputs": [
    {
     "name": "stdout",
     "output_type": "stream",
     "text": [
      "3.8396984168592354\n",
      "3.8396984168592354\n",
      "0.0\n"
     ]
    }
   ],
   "source": [
    "X = np.random.randn(7, 3)\n",
    "y = np.random.randn(7)\n",
    "z = y @ X\n",
    "e = z @ z\n",
    "\n",
    "tX = torch.tensor(X, requires_grad=True)\n",
    "ty = torch.tensor(y, requires_grad=True)\n",
    "tz = torch.matmul(ty, tX)\n",
    "te = torch.dot(tz, tz)\n",
    "te.backward()\n",
    "\n",
    "print(e)\n",
    "print(te.data.numpy())\n",
    "print(metrics.tdist(e, te.data.numpy()))"
   ]
  },
  {
   "cell_type": "code",
   "execution_count": 17,
   "metadata": {
    "scrolled": true
   },
   "outputs": [
    {
     "name": "stdout",
     "output_type": "stream",
     "text": [
      "[[-0.63119366  0.28804921  1.16363545]\n",
      " [ 3.28079586 -1.49721187 -6.04830275]\n",
      " [-0.74990752  0.34222502  1.38249007]\n",
      " [ 0.53283534 -0.24316276 -0.98230721]\n",
      " [-1.34046736  0.61173073  2.47121515]\n",
      " [ 0.22914034 -0.10456964 -0.42243109]\n",
      " [ 1.98750493 -0.9070104  -3.66405959]]\n",
      "[[-0.63119366  0.28804921  1.16363545]\n",
      " [ 3.28079586 -1.49721187 -6.04830275]\n",
      " [-0.74990752  0.34222502  1.38249007]\n",
      " [ 0.53283534 -0.24316276 -0.98230721]\n",
      " [-1.34046736  0.61173073  2.47121515]\n",
      " [ 0.22914034 -0.10456964 -0.42243109]\n",
      " [ 1.98750493 -0.9070104  -3.66405959]]\n",
      "2.622130794118103e-16\n",
      "[-7.06392399 -2.60272907  4.7734634   1.26648965 -0.64150134  6.32889909\n",
      " -4.70270526]\n",
      "[-7.06392399 -2.60272907  4.7734634   1.26648965 -0.64150134  6.32889909\n",
      " -4.70270526]\n",
      "2.220446049250313e-16\n"
     ]
    }
   ],
   "source": [
    "dz = 2 * z\n",
    "dX = np.outer(y, dz)\n",
    "dy = X @ dz\n",
    "dX_sol = tX.grad.data.numpy()\n",
    "dy_sol = ty.grad.data.numpy()\n",
    "\n",
    "print(dX)\n",
    "print(dX_sol)\n",
    "print(metrics.tdist(dX, dX_sol))\n",
    "print(dy)\n",
    "print(dy_sol)\n",
    "print(metrics.tdist(dy, dy_sol))"
   ]
  },
  {
   "cell_type": "markdown",
   "metadata": {},
   "source": [
    "$$Z = XY, \\space x \\in \\mathbb{R}^{n*m}, y \\in \\mathbb{R}^{m*p}, z \\in \\mathbb{R}^{n*p}$$\n",
    "$$\\frac{\\partial E}{\\partial X} = \\frac{\\partial E}{\\partial Z}Y^T$$\n",
    "$$\\frac{\\partial E}{\\partial Y} = X^T \\frac{\\partial E}{\\partial Z}$$"
   ]
  },
  {
   "cell_type": "code",
   "execution_count": 18,
   "metadata": {},
   "outputs": [
    {
     "name": "stdout",
     "output_type": "stream",
     "text": [
      "20.602819165122455\n",
      "20.602819165122455\n",
      "0.0\n"
     ]
    }
   ],
   "source": [
    "X = np.random.randn(7, 3)\n",
    "Y = np.random.randn(3, 2)\n",
    "Z = X @ Y\n",
    "Z_flat = Z.reshape(-1)\n",
    "e = Z_flat @ Z_flat\n",
    "\n",
    "tX = torch.tensor(X, requires_grad=True)\n",
    "tY = torch.tensor(Y, requires_grad=True)\n",
    "tZ = torch.matmul(tX, tY)\n",
    "tZ_flat = tZ.view(-1)\n",
    "te = torch.dot(tZ_flat, tZ_flat)\n",
    "te.backward()\n",
    "\n",
    "print(e)\n",
    "print(te.data.numpy())\n",
    "print(metrics.tdist(e, te.data.numpy()))"
   ]
  },
  {
   "cell_type": "code",
   "execution_count": 19,
   "metadata": {},
   "outputs": [
    {
     "name": "stdout",
     "output_type": "stream",
     "text": [
      "[[ 3.97871846 -6.33975355 -4.23418738]\n",
      " [-0.39306208 -3.00703587 -0.39979006]\n",
      " [ 4.05223587 -5.1486296  -4.01785362]\n",
      " [-4.14463001  6.98619505  4.49678062]\n",
      " [-1.82270442  2.523923    1.85408595]\n",
      " [-0.64980715 -4.20649064 -0.4887448 ]\n",
      " [ 0.94733823 -2.78377223 -1.295082  ]]\n",
      "[[ 3.97871846 -6.33975355 -4.23418738]\n",
      " [-0.39306208 -3.00703587 -0.39979006]\n",
      " [ 4.05223587 -5.1486296  -4.01785362]\n",
      " [-4.14463001  6.98619505  4.49678062]\n",
      " [-1.82270442  2.523923    1.85408595]\n",
      " [-0.64980715 -4.20649064 -0.4887448 ]\n",
      " [ 0.94733823 -2.78377223 -1.295082  ]]\n",
      "2.180535678842061e-15\n",
      "[[ -5.90633464 -11.19726466]\n",
      " [-10.5344012   -0.37380538]\n",
      " [-12.84078589  10.21902099]]\n",
      "[[ -5.90633464 -11.19726466]\n",
      " [-10.5344012   -0.37380538]\n",
      " [-12.84078589  10.21902099]]\n",
      "1.9868029630580076e-15\n"
     ]
    }
   ],
   "source": [
    "dZ_flat = 2 * Z_flat\n",
    "dZ = dZ_flat.reshape(Z.shape[0], Z.shape[1])\n",
    "dX = dZ @ Y.T\n",
    "dY = X.T @ dZ\n",
    "dX_sol = tX.grad.data.numpy()\n",
    "dY_sol = tY.grad.data.numpy()\n",
    "\n",
    "print(dX)\n",
    "print(dX_sol)\n",
    "print(metrics.tdist(dX, dX_sol))\n",
    "print(dY)\n",
    "print(dY_sol)\n",
    "print(metrics.tdist(dY, dY_sol))"
   ]
  },
  {
   "cell_type": "markdown",
   "metadata": {},
   "source": [
    "$$Z = X^TX, \\space X \\in \\mathbb{R}^{n*m}, Z \\in \\mathbb{R}^{m*m}$$\n",
    "$$\\frac{\\partial E}{\\partial X} = X(\\frac{\\partial E}{\\partial Z} +    \\frac{\\partial E}{\\partial Z}^T)$$"
   ]
  },
  {
   "cell_type": "code",
   "execution_count": 20,
   "metadata": {},
   "outputs": [
    {
     "name": "stdout",
     "output_type": "stream",
     "text": [
      "271.84311934564516\n",
      "271.84311934564516\n",
      "0.0\n"
     ]
    }
   ],
   "source": [
    "X = np.random.randn(5, 3)\n",
    "Z = X.T @ X\n",
    "Z_flat = Z.reshape(-1)\n",
    "e = Z_flat @ Z_flat\n",
    "\n",
    "tX = torch.tensor(X, requires_grad=True)\n",
    "tZ = torch.matmul(torch.transpose(tX, 1, 0), tX)\n",
    "tZ_flat = tZ.view(-1)\n",
    "te = torch.dot(tZ_flat, tZ_flat)\n",
    "te.backward()\n",
    "\n",
    "print(e)\n",
    "print(te.data.numpy())\n",
    "print(metrics.tdist(e, te.data.numpy()))"
   ]
  },
  {
   "cell_type": "code",
   "execution_count": 21,
   "metadata": {},
   "outputs": [
    {
     "name": "stdout",
     "output_type": "stream",
     "text": [
      "[[  -6.53808255   24.78188913  -32.65780906]\n",
      " [ -68.32951866   39.72331895  114.64315097]\n",
      " [ -61.11703755   52.95722259  101.65674081]\n",
      " [  62.48972191  -29.36472574 -122.19888141]\n",
      " [ -39.63881961   -0.17154525   47.63986001]]\n",
      "[[  -6.53808255   24.78188913  -32.65780906]\n",
      " [ -68.32951866   39.72331895  114.64315097]\n",
      " [ -61.11703755   52.95722259  101.65674081]\n",
      " [  62.48972191  -29.36472574 -122.19888141]\n",
      " [ -39.63881961   -0.17154525   47.63986001]]\n",
      "2.1334777765716796e-14\n"
     ]
    }
   ],
   "source": [
    "dZ_flat = 2 * Z_flat\n",
    "dZ = dZ_flat.reshape(Z.shape[0], Z.shape[1])\n",
    "dX = X @ (dZ + dZ.T)\n",
    "dX_sol = tX.grad.data.numpy()\n",
    "\n",
    "print(dX)\n",
    "print(dX_sol)\n",
    "print(metrics.tdist(dX, dX_sol))"
   ]
  },
  {
   "cell_type": "markdown",
   "metadata": {},
   "source": [
    "$Z_I = f(X_I)$, with $Z$ and $X$ tensors of same size, $f: \\mathbb{R} \\rightarrow \\mathbb{R}$\n",
    "$$\\frac{\\partial E}{\\partial X_I} = \\frac{\\partial E}{\\partial Z_I} *    f'(X_I)$$"
   ]
  },
  {
   "cell_type": "code",
   "execution_count": 22,
   "metadata": {},
   "outputs": [
    {
     "name": "stdout",
     "output_type": "stream",
     "text": [
      "8.519988773275411\n",
      "8.519988773275413\n",
      "1.7763568394002505e-15\n"
     ]
    }
   ],
   "source": [
    "X = np.random.randn(5, 3)\n",
    "Z = np.cos(X)\n",
    "Z_flat = Z.reshape(-1)\n",
    "e = Z_flat @ Z_flat\n",
    "\n",
    "tX = torch.tensor(X, requires_grad=True)\n",
    "tZ = torch.cos(tX)\n",
    "tZ_flat = tZ.view(-1)\n",
    "te = torch.dot(tZ_flat, tZ_flat)\n",
    "te.backward()\n",
    "\n",
    "print(e)\n",
    "print(te.data.numpy())\n",
    "print(metrics.tdist(e, te.data.numpy()))"
   ]
  },
  {
   "cell_type": "code",
   "execution_count": 23,
   "metadata": {},
   "outputs": [
    {
     "name": "stdout",
     "output_type": "stream",
     "text": [
      "[[ 0.37743023  0.97076711 -0.16627778]\n",
      " [-0.17436211 -0.68908609  0.9419013 ]\n",
      " [-0.56618871 -0.2965124   0.99917863]\n",
      " [ 0.87913338 -0.08090861 -0.32402193]\n",
      " [ 0.90011796  0.22875516 -0.75883033]]\n",
      "[[ 0.37743023  0.97076711 -0.16627778]\n",
      " [-0.17436211 -0.68908609  0.9419013 ]\n",
      " [-0.56618871 -0.2965124   0.99917863]\n",
      " [ 0.87913338 -0.08090861 -0.32402193]\n",
      " [ 0.90011796  0.22875516 -0.75883033]]\n",
      "0.0\n"
     ]
    }
   ],
   "source": [
    "dZ_flat = 2 * Z_flat\n",
    "dZ = dZ_flat.reshape(Z.shape[0], Z.shape[1])\n",
    "dX = dZ * (-np.sin(X))\n",
    "dX_sol = tX.grad.data.numpy()\n",
    "\n",
    "print(dX)\n",
    "print(dX_sol)\n",
    "print(metrics.tdist(dX, dX_sol))"
   ]
  },
  {
   "cell_type": "markdown",
   "metadata": {},
   "source": [
    "$Z_I = f(X_I, Y_I)$, with $Z$, $X$and $Y$ tensors of same size, $f: \\mathbb{R}*\\mathbb{R} \\rightarrow \\mathbb{R}$\n",
    "$$\\frac{\\partial E}{\\partial X_I} = \\frac{\\partial E}{\\partial Z_I} *    \\frac{\\partial f(X_I, Y_I)}{\\partial X_I}$$\n",
    "$$\\frac{\\partial E}{\\partial Y_I} = \\frac{\\partial E}{\\partial Z_I} *    \\frac{\\partial f(X_I, Y_I)}{\\partial Y_I}$$"
   ]
  },
  {
   "cell_type": "code",
   "execution_count": 24,
   "metadata": {},
   "outputs": [
    {
     "name": "stdout",
     "output_type": "stream",
     "text": [
      "31.523999640318724\n",
      "31.52399964031872\n",
      "3.552713678800501e-15\n"
     ]
    }
   ],
   "source": [
    "X = np.random.rand(7, 3) + 0.1\n",
    "Y = np.random.randn(7, 3)\n",
    "Z = np.power(X, Y)\n",
    "Z_flat = Z.reshape(-1)\n",
    "e = Z_flat @ Z_flat\n",
    "\n",
    "\n",
    "tX = torch.tensor(X, requires_grad=True)\n",
    "tY = torch.tensor(Y, requires_grad=True)\n",
    "tZ = torch.pow(tX, tY)\n",
    "tZ_flat = tZ.view(-1)\n",
    "te = torch.dot(tZ_flat, tZ_flat)\n",
    "te.backward()\n",
    "\n",
    "print(e)\n",
    "print(te.data.numpy())\n",
    "print(metrics.tdist(e, te.data.numpy()))"
   ]
  },
  {
   "cell_type": "code",
   "execution_count": 25,
   "metadata": {},
   "outputs": [
    {
     "name": "stdout",
     "output_type": "stream",
     "text": [
      "[[  0.67332577  -1.9056877  -14.16141866]\n",
      " [ -2.62874314   1.04251959  -0.24685522]\n",
      " [ -2.97332623 -32.53156119 -12.38202496]\n",
      " [ -2.45148253  -1.3856159   -4.30861926]\n",
      " [  1.50858889  -2.81216764   0.25862449]\n",
      " [ -1.13230957   1.1170135    2.31469228]\n",
      " [  2.66040311  -0.55871038   0.28672347]]\n",
      "[[  0.67332577  -1.9056877  -14.16141866]\n",
      " [ -2.62874314   1.04251959  -0.24685522]\n",
      " [ -2.97332623 -32.53156119 -12.38202496]\n",
      " [ -2.45148253  -1.3856159   -4.30861926]\n",
      " [  1.50858889  -2.81216764   0.25862449]\n",
      " [ -1.13230957   1.1170135    2.31469228]\n",
      " [  2.66040311  -0.55871038   0.28672347]]\n",
      "0.0\n",
      "[[ 2.47169302e-02  8.84477685e-02 -2.44620876e+00]\n",
      " [-1.57985735e+00 -2.29210742e-01 -5.42199613e-01]\n",
      " [-4.77586116e+00 -7.77662821e+00 -9.49341509e+00]\n",
      " [-1.24734811e+00 -1.34867052e+00 -2.38055701e+00]\n",
      " [ 1.97672305e-01  2.92962373e-04 -6.65333391e-02]\n",
      " [-8.63374000e-01 -2.96900600e-01 -1.22098813e-01]\n",
      " [ 6.24425701e-02 -1.53363054e-01 -7.81627557e-02]]\n",
      "[[ 2.47169302e-02  8.84477685e-02 -2.44620876e+00]\n",
      " [-1.57985735e+00 -2.29210742e-01 -5.42199613e-01]\n",
      " [-4.77586116e+00 -7.77662821e+00 -9.49341509e+00]\n",
      " [-1.24734811e+00 -1.34867052e+00 -2.38055701e+00]\n",
      " [ 1.97672305e-01  2.92962373e-04 -6.65333391e-02]\n",
      " [-8.63374000e-01 -2.96900600e-01 -1.22098813e-01]\n",
      " [ 6.24425701e-02 -1.53363054e-01 -7.81627557e-02]]\n",
      "9.156185367235439e-16\n"
     ]
    }
   ],
   "source": [
    "dZ_flat = 2 * Z_flat\n",
    "dZ = dZ_flat.reshape(Z.shape[0], Z.shape[1])\n",
    "dX = dZ * Y * np.power(X, Y-1) \n",
    "dY = dZ * np.log(X) * np.power(X, Y)\n",
    "dX_sol = tX.grad.data.numpy()\n",
    "dY_sol = tY.grad.data.numpy()\n",
    "\n",
    "print(dX)\n",
    "print(dX_sol)\n",
    "print(metrics.tdist(dX, dX_sol))\n",
    "print(dY)\n",
    "print(dY_sol)\n",
    "print(metrics.tdist(dY, dY_sol))"
   ]
  },
  {
   "cell_type": "markdown",
   "metadata": {},
   "source": [
    "Every tensor sum of an axis can be transformed into a 3D-tensor sum on axis 1, using only reshape.  \n",
    "\n",
    "$$X \\in \\mathbb{R}^{m * n * p}, Y \\in \\mathbb{R}^{m * p}$$\n",
    "$y$ is the sum of $X$ on axis $2$.\n",
    "$$Y_{ik} = \\sum_{j=i}^n X_{ijk}$$\n",
    "$$\\frac{\\partial E}{\\partial X_{ijk}} = \\frac{\\partial E}{\\partial Y_{ik}}$$"
   ]
  },
  {
   "cell_type": "code",
   "execution_count": 26,
   "metadata": {},
   "outputs": [
    {
     "name": "stdout",
     "output_type": "stream",
     "text": [
      "(4, 3, 7)\n",
      "(4, 3, 7)\n",
      "0.0\n",
      "(2, 3, 7)\n",
      "(2, 3, 7)\n",
      "0.0\n",
      "(2, 4, 7)\n",
      "(2, 4, 7)\n",
      "0.0\n",
      "(2, 4, 3)\n",
      "(2, 4, 3)\n",
      "0.0\n"
     ]
    }
   ],
   "source": [
    "def prod(x):\n",
    "    res = 1\n",
    "    for v in x: res *= v\n",
    "    return res\n",
    "\n",
    "def sum_axis(X, axis):\n",
    "    shape3 = (prod(X.shape[:axis]), X.shape[axis], prod(X.shape[axis+1:]))\n",
    "    final_shape = X.shape[:axis] + X.shape[axis+1:]\n",
    "    return np.sum(X.reshape(shape3), axis=1).reshape(final_shape)\n",
    "\n",
    "X = np.random.randn(2, 4, 3, 7)\n",
    "\n",
    "s = [sum_axis(X, i) for i in range(4)]\n",
    "\n",
    "tX = torch.tensor(X, requires_grad = True)\n",
    "s_sol = [torch.sum(tX, i) for i in range(4)]\n",
    "\n",
    "for i in range(4):\n",
    "    print(s[i].shape)\n",
    "    print(s_sol[i].data.numpy().shape)\n",
    "    print(metrics.tdist(s[i], s_sol[i].data.numpy()))"
   ]
  },
  {
   "cell_type": "code",
   "execution_count": 27,
   "metadata": {},
   "outputs": [
    {
     "name": "stdout",
     "output_type": "stream",
     "text": [
      "[[[1. 2. 3.]\n",
      "  [1. 2. 3.]]\n",
      "\n",
      " [[4. 5. 6.]\n",
      "  [4. 5. 6.]]]\n"
     ]
    }
   ],
   "source": [
    "def my_expand_dims3(x, size):\n",
    "    \n",
    "    y = np.empty((x.shape[0], size, x.shape[1]))\n",
    "    for i in range(x.shape[0]):\n",
    "        for j in range(size):\n",
    "            for k in range(x.shape[1]):\n",
    "                y[i, j, k] = x[i, k]\n",
    "    return y\n",
    "    \n",
    "\n",
    "def dsum_axis(X, axis, dout):\n",
    "    dout = dout.reshape((prod(X.shape[:axis]), prod(X.shape[axis+1:])))\n",
    "    return my_expand_dims3(dout, X.shape[axis]).reshape(X.shape)\n",
    "    \n",
    "a = np.array([[1, 2, 3], [4, 5, 6]])\n",
    "a2 = my_expand_dims3(a, 2)\n",
    "print(a2)"
   ]
  },
  {
   "cell_type": "code",
   "execution_count": 28,
   "metadata": {},
   "outputs": [
    {
     "name": "stdout",
     "output_type": "stream",
     "text": [
      "(2, 4, 3, 7)\n",
      "(2, 4, 3, 7)\n",
      "0.0\n",
      "(2, 4, 3, 7)\n",
      "(2, 4, 3, 7)\n",
      "0.0\n",
      "(2, 4, 3, 7)\n",
      "(2, 4, 3, 7)\n",
      "0.0\n",
      "(2, 4, 3, 7)\n",
      "(2, 4, 3, 7)\n",
      "0.0\n"
     ]
    }
   ],
   "source": [
    "for i in range(4):\n",
    "    \n",
    "    ds = 2 * s[i]\n",
    "    dX = dsum_axis(X, i, ds)\n",
    "    \n",
    "    si_flat = s_sol[i].view(-1)\n",
    "    tz = torch.dot(si_flat, si_flat)\n",
    "    tz.backward()\n",
    "    dX_sol = tX.grad.data.numpy()\n",
    "    \n",
    "    print(dX.shape)\n",
    "    print(dX_sol.shape)\n",
    "    print(metrics.tdist(dX, dX_sol))\n",
    "    tX.grad.data.zero_()\n",
    "    "
   ]
  },
  {
   "cell_type": "markdown",
   "metadata": {},
   "source": [
    "## Derivatives sheet"
   ]
  },
  {
   "cell_type": "markdown",
   "metadata": {},
   "source": [
    "$$(c)' = 0, \\space c \\in \\mathbb{R}$$\n",
    "$$(x)' = 1, \\space x \\in \\mathbb{R}$$\n",
    "$$(cx)' = c, \\space c, x \\in \\mathbb{R}$$\n",
    "$$(e^x)' = e^x, \\space x \\in \\mathbb{R}$$\n",
    "$$(ln(x))' = \\frac{1}{x}, \\space x \\in \\mathbb{R}$$\n",
    "$$(\\frac{1}{x})' = - \\frac{1}{x^2}, \\space x \\in \\mathbb{R}$$"
   ]
  },
  {
   "cell_type": "markdown",
   "metadata": {},
   "source": [
    "$$(cos(x))' = -sin(x), \\space x \\in \\mathbb{R}$$\n",
    "$$(sin(x))' = cos(x), \\space x \\in \\mathbb{R}$$\n",
    "$$(cosh(x))' = -sinh(x), \\space x \\in \\mathbb{R}$$\n",
    "$$(sinh(x))' = cos(x), \\space x \\in \\mathbb{R}$$\n",
    "$$(tanh(x))' = 1 - tanh(x)^2, \\space x \\in \\mathbb{R}$$"
   ]
  },
  {
   "cell_type": "markdown",
   "metadata": {},
   "source": [
    "$$(\\sigma(x))' = \\sigma(x)(1 - \\sigma(x)), \\space x \\in \\mathbb{R}$$"
   ]
  },
  {
   "cell_type": "markdown",
   "metadata": {},
   "source": [
    "$$\\frac{\\partial}{\\partial x} x^y = y*x^{y-1}, \\space x, y \\in \\mathbb{R}$$\n",
    "$$\\frac{\\partial}{\\partial y} x^y = ln(x)*x^{y}, \\space x, y \\in \\mathbb{R}$$"
   ]
  },
  {
   "cell_type": "markdown",
   "metadata": {},
   "source": [
    "$$\\frac{\\partial}{\\partial x} ||x||_2^2 = 2x, x \\in \\mathbb{R}^n$$"
   ]
  },
  {
   "cell_type": "markdown",
   "metadata": {},
   "source": [
    "$$\\frac{\\partial}{\\partial x} \\sum_{x=1}^n x_i = \\mathbb{1}, x \\in \\mathbb{R}^n$$"
   ]
  },
  {
   "cell_type": "markdown",
   "metadata": {},
   "source": [
    "$$z = ||x||_1, \\space x \\in \\mathbb{R^n}$$\n",
    "$$\\frac{\\partial E}{\\partial x} = \\frac{\\partial E}{z} * sgn(x)$$"
   ]
  },
  {
   "cell_type": "markdown",
   "metadata": {},
   "source": [
    "$$z = c + x, \\space x, z \\in \\mathbb{R^n}, c \\in \\mathbb{R}$$\n",
    "$$\\frac{\\partial E}{\\partial x} = \\frac{\\partial E}{z}$$\n",
    "$$\\frac{\\partial E}{\\partial c} = \\sum_{j=1}^n \\frac{\\partial E}{\\partial z_i}$$"
   ]
  },
  {
   "cell_type": "markdown",
   "metadata": {},
   "source": [
    "$$z = c * x, \\space x \\in \\mathbb{R^n}, c \\in \\mathbb{R}$$\n",
    "$$\\frac{\\partial E}{\\partial x} = \\frac{\\partial E}{\\partial z} * c$$\n",
    "$$\\frac{\\partial E}{\\partial c} = \\frac{\\partial E}{\\partial z}^T x$$"
   ]
  },
  {
   "cell_type": "markdown",
   "metadata": {},
   "source": [
    "$$z = c / x, \\space x \\in \\mathbb{R^n}, c \\in \\mathbb{R}$$\n",
    "$$\\frac{\\partial E}{\\partial x} = -c * \\frac{\\partial E}{\\partial z} / (x*x)$$\n",
    "$$\\frac{\\partial E}{\\partial c} = \\frac{\\partial E}{\\partial z}^T \\frac{1}{x}$$"
   ]
  },
  {
   "cell_type": "markdown",
   "metadata": {},
   "source": [
    "$$z = \\sum_{i=1}^n x_i, \\space x \\in \\mathbb{R^n}, z \\in \\mathbb{R}$$\n",
    "$$\\frac{\\partial E}{\\partial x_i} = \\frac{\\partial E}{z}$$"
   ]
  },
  {
   "cell_type": "markdown",
   "metadata": {},
   "source": [
    "$$x, y \\in \\mathbb{R}^n$$\n",
    "$$\\frac{\\partial x^Ty}{\\partial x} = y$$\n",
    "$$\\frac{\\partial x^Ty}{\\partial y} = x$$"
   ]
  },
  {
   "cell_type": "markdown",
   "metadata": {},
   "source": [
    "$$x \\in \\mathbb{R}^n, \\space M \\in \\mathbb{R}^{n*n} \\text{ symetric}$$\n",
    "$$\\frac{\\partial x^TMx}{\\partial x} = 2Mx$$"
   ]
  },
  {
   "cell_type": "markdown",
   "metadata": {},
   "source": [
    "$$z = x^Ty, \\space x, y, z \\in \\mathbb{R}^n$$\n",
    "$$\\frac{\\partial E}{\\partial x} = \\frac{\\partial E}{\\partial z} * y$$\n",
    "$$\\frac{\\partial E}{\\partial y} = \\frac{\\partial E}{\\partial z} * x$$"
   ]
  },
  {
   "cell_type": "markdown",
   "metadata": {},
   "source": [
    "$$z = Xy, \\space x \\in \\mathbb{R}^{n*m}, y \\in \\mathbb{R}^m, z \\in \\mathbb{R}^n$$\n",
    "$$\\frac{\\partial E}{\\partial X} = \\frac{\\partial E}{\\partial z} y^T$$\n",
    "$$\\frac{\\partial E}{\\partial y} = X^T \\frac{\\partial E}{\\partial z}$$"
   ]
  },
  {
   "cell_type": "markdown",
   "metadata": {},
   "source": [
    "$$z = y^TX, \\space x \\in \\mathbb{R}^{n*m}, y \\in \\mathbb{R}^n, z \\in \\mathbb{R}^m$$\n",
    "$$\\frac{\\partial E}{\\partial X} = y^T\\frac{\\partial E}{\\partial z}$$\n",
    "$$\\frac{\\partial E}{\\partial y} = X \\frac{\\partial E}{\\partial z}$$"
   ]
  },
  {
   "cell_type": "markdown",
   "metadata": {},
   "source": [
    "$$Z = XY, \\space x \\in \\mathbb{R}^{n*m}, y \\in \\mathbb{R}^{m*p}, z \\in \\mathbb{R}^{n*p}$$\n",
    "$$\\frac{\\partial E}{\\partial X} = \\frac{\\partial E}{\\partial Z}Y^T$$\n",
    "$$\\frac{\\partial E}{\\partial Y} = X^T \\frac{\\partial E}{\\partial Z}$$"
   ]
  },
  {
   "cell_type": "markdown",
   "metadata": {},
   "source": [
    "$$Z = X^TX, \\space X \\in \\mathbb{R}^{n*m}, Z \\in \\mathbb{R}^{m*m}$$\n",
    "$$\\frac{\\partial E}{\\partial X} = X(\\frac{\\partial E}{\\partial Z} +    \\frac{\\partial E}{\\partial Z}^T)$$"
   ]
  },
  {
   "cell_type": "markdown",
   "metadata": {},
   "source": [
    "$Z_I = f(X_I)$, with $Z$ and $X$ tensors of same size, $f: \\mathbb{R} \\rightarrow \\mathbb{R}$\n",
    "$$\\frac{\\partial E}{\\partial X_I} = \\frac{\\partial E}{\\partial Z_I} *    f'(X_I)$$"
   ]
  },
  {
   "cell_type": "markdown",
   "metadata": {},
   "source": [
    "$Z_I = f(X_I, Y_I)$, with $Z$, $X$and $Y$ tensors of same size, $f: \\mathbb{R}*\\mathbb{R} \\rightarrow \\mathbb{R}$\n",
    "$$\\frac{\\partial E}{\\partial X_I} = \\frac{\\partial E}{\\partial Z_I} *    \\frac{\\partial f(X_I, Y_I)}{\\partial X_I}$$\n",
    "$$\\frac{\\partial E}{\\partial Y_I} = \\frac{\\partial E}{\\partial Z_I} *    \\frac{\\partial f(X_I, Y_I)}{\\partial Y_I}$$"
   ]
  },
  {
   "cell_type": "markdown",
   "metadata": {},
   "source": [
    "$x \\in \\mathbb{R}^n$, and $S_i$ = softmax$(x)_i$\n",
    "$$\\frac{\\partial S_i}{x_j} = S_i(1 - S_j) \\space (i = j)$$\n",
    "$$\\frac{\\partial S_i}{x_j} = -S_iS_j \\space (i \\neq j)$$"
   ]
  }
 ],
 "metadata": {
  "kernelspec": {
   "display_name": "Python 3",
   "language": "python",
   "name": "python3"
  },
  "language_info": {
   "codemirror_mode": {
    "name": "ipython",
    "version": 3
   },
   "file_extension": ".py",
   "mimetype": "text/x-python",
   "name": "python",
   "nbconvert_exporter": "python",
   "pygments_lexer": "ipython3",
   "version": "3.6.7"
  }
 },
 "nbformat": 4,
 "nbformat_minor": 2
}
