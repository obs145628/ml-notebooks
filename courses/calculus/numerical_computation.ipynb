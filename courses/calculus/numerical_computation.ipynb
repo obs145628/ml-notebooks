{
 "cells": [
  {
   "cell_type": "markdown",
   "metadata": {},
   "source": [
    "# Overflow and underflow\n",
    "\n",
    "Working with real number on computers incur rouding error.  \n",
    "Accumulation of rounding error through an algorithm can be problematic.  \n",
    "\n",
    "Underflow: number near $0$ rounded to $0$. Such functions such as division by $0$ or $\\log(0)$ are impossible.  \n",
    "\n",
    "Overflow: Very large number rounded as $\\infty$.  \n",
    "\n",
    "Many functions must be stabilized against underflow and overflow."
   ]
  },
  {
   "cell_type": "markdown",
   "metadata": {},
   "source": [
    "# Poor Conditioning\n",
    "\n",
    "Conditioning refers to how rapidly a function changes with respect to small changes in it's input. Function with poor conditioning can be problematic when they are rouding errors in the input.\n",
    "\n",
    "Let $f(x) = A^{-1}x$ with $A \\in \\mathbb{R}^{n*n}$ with eigenvalues $\\lambda_i$.  \n",
    "The condition number of $f$ is:\n",
    "$$\\max_{i,j} |\\frac{\\lambda_i}{\\lambda_j}|$$  \n",
    "\n",
    "When this number is large, the matrix is poorly conditioned."
   ]
  },
  {
   "cell_type": "code",
   "execution_count": null,
   "metadata": {},
   "outputs": [],
   "source": []
  }
 ],
 "metadata": {
  "kernelspec": {
   "display_name": "Python 3",
   "language": "python",
   "name": "python3"
  },
  "language_info": {
   "codemirror_mode": {
    "name": "ipython",
    "version": 3
   },
   "file_extension": ".py",
   "mimetype": "text/x-python",
   "name": "python",
   "nbconvert_exporter": "python",
   "pygments_lexer": "ipython3",
   "version": "3.7.3"
  }
 },
 "nbformat": 4,
 "nbformat_minor": 2
}
