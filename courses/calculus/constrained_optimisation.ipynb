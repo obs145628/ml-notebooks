{
 "cells": [
  {
   "cell_type": "code",
   "execution_count": 1,
   "metadata": {},
   "outputs": [],
   "source": [
    "import sys\n",
    "sys.path.append('..')\n",
    "\n",
    "import numpy as np\n",
    "import matplotlib.pyplot as plt"
   ]
  },
  {
   "cell_type": "markdown",
   "metadata": {},
   "source": [
    "# Lagrangian\n",
    "\n",
    "Lagrangian is a technique to transform a constrained optimization problem into an unconstrained one"
   ]
  },
  {
   "cell_type": "markdown",
   "metadata": {},
   "source": [
    "## One equality constraint\n",
    "\n",
    "Minimize $f(x,y,\\text{...})$  \n",
    "subject to $g(x,y,\\text{...}) = 0$  \n",
    "\n",
    "The function is transformed into:\n",
    "$$\\mathcal{L}(x,y,\\text{...}, \\lambda) = f(x,y,\\text{...}) + \\lambda g(x,y,\\text{...})$$\n",
    "\n",
    "with $\\lambda \\in \\mathbb{R}$ a new variable.  \n",
    "\n",
    "The new objective becomes:\n",
    "\n",
    "$$\\min_{x} \\max_{\\lambda} L(x, y, \\text{...}, \\lambda)$$\n",
    "\n",
    "If the constrainst is satisfied, $\\lambda g(x,y,\\text{...}) = 0$, otherwhise it's $+\\infty$"
   ]
  },
  {
   "cell_type": "markdown",
   "metadata": {},
   "source": [
    "## One inequality constraint\n",
    "\n",
    "Minimize $f(x,y,\\text{...})$  \n",
    "subject to $g(x,y,\\text{...}) \\leq 0$  \n",
    "\n",
    "The function is transformed into:\n",
    "$$\\mathcal{L}(x,y,\\text{...}, \\alpha) = f(x,y,\\text{...}) + \\alpha g(x,y,\\text{...})$$\n",
    "\n",
    "with $\\alpha \\in \\mathbb{R}$ a new variable.  \n",
    "\n",
    "The new objective becomes:\n",
    "\n",
    "$$\\min_{x} \\max_{\\alpha, \\alpha \\geq 0} L(x, y, \\text{...}, \\alpha)$$\n",
    "\n",
    "If the constrainst is satisfied, $\\alpha g(x,y,\\text{...}) = 0$, otherwhise it's $+\\infty$"
   ]
  },
  {
   "cell_type": "markdown",
   "metadata": {},
   "source": [
    "## Multiple constraints\n",
    "\n",
    "This can be extend to several constraints\n",
    "\n",
    "Minimize $f(x,y,\\text{...})$  \n",
    "subject to $g_i(x,y,\\text{...}) = 0$, $i=1,$...,$E$  \n",
    "$h_j(x,y,\\text{...}) = 0$, $j=1,$...,$N$\n",
    "\n",
    "The function is transformed into:\n",
    "$$\\mathcal{L}(x,y,\\text{...}, \\lambda, \\alpha) = f(x,y,\\text{...}) + \\sum_{i=1}^E \\lambda_i g_i(x,y,\\text{...}) + \\sum_{j=1}^N \\alpha_j h_j(x,y,\\text{...})$$\n",
    "\n",
    "with $\\lambda \\in \\mathbb{R}^E$ and $\\alpha \\in \\mathbb{R}^N$ new variables.\n",
    "\n",
    "The new objective becomes:\n",
    "\n",
    "$$\\min_{x} \\max_{\\lambda} \\max_{\\alpha, \\alpha \\geq 0} L(x, y, \\text{...}, \\lambda, \\alpha)$$"
   ]
  },
  {
   "cell_type": "markdown",
   "metadata": {},
   "source": [
    "# KKT Conditions \n",
    "\n",
    "Let's have the following problem:\n",
    "\n",
    "$$\\min_x f(x)$$\n",
    "$$\\text{s.t. } g_i(x) \\geq 0 i=1,\\text{...},k$$\n",
    "$$\\text{s.t. } h_j(x) = 0 j=1,\\text{...},l$$\n",
    "\n",
    "We define the generalized lagrangian:\n",
    "\n",
    "$$\\mathcal{L}(x, \\alpha, \\beta) = f(x) = \\sum_{i=1}^k \\alpha_i g_i(x) + \\sum_{j=1}^l \\beta_i h_i(x)$$\n",
    "\n",
    "The primal problem is defined by:\n",
    "\n",
    "$$\\theta_{\\mathcal{P}}(x) = \\max_{\\alpha, \\beta; \\alpha_i \\geq 0} \\mathcal{L}(x, \\alpha, \\beta)$$\n",
    "\n",
    "$$\n",
    "\\theta_{\\mathcal{P}}(x) =\n",
    "\\begin{cases}\n",
    "    f(x) & \\text{if all constraints are satisfied}\\\\\n",
    "    \\infty & \\text{otherwise}\n",
    "\\end{cases}\n",
    "$$\n",
    "\n",
    "The solution of the primal is:\n",
    "$$p^* = \\arg \\min_{x} \\theta_{\\mathcal{P}}(x) = arg \\min_{x} \\max_{\\alpha, \\beta; \\alpha_i \\geq 0} \\mathcal{L}(x, \\alpha, \\beta)$$  \n",
    "\n",
    "The dual problem is defined by:\n",
    "\n",
    "$$\\theta_{\\mathcal{D}}(\\alpha, \\beta) = \\min_{x} \\mathcal{L}(x, \\alpha, \\beta)$$\n",
    "\n",
    "The solution of the dual is:\n",
    "$$d^* = \\arg \\max_{\\alpha, \\beta; \\alpha_i \\geq 0} \\theta_{\\mathcal{D}}(\\alpha, \\beta) = \\arg \\max_{\\alpha, \\beta; \\alpha_i \\geq 0} \\min_{x} \\mathcal{L}(x, \\alpha, \\beta)$$  \n",
    "\n",
    "It's always true that $d^* \\leq p^*$.  \n",
    "If certains coditions are respected, called, the KKT conditions, $d^* = p^*$.  \n",
    "In that case, it's possible to solve the dual instead of the primal.  \n",
    "\n",
    "Let $x^*$ solution to primal, $\\alpha^*, \\beta^*$ solutions to dual.  \n",
    "The KKT conditions of $x^*, \\alpha^*, \\beta^*$ are:  \n",
    "\n",
    "$$\\frac{\\partial }{\\partial x} \\mathcal{L}(x^*, \\alpha^*, \\beta^*) = \\vec{0}$$\n",
    "$$\\frac{\\partial }{\\partial \\beta} \\mathcal{L}(x^*, \\alpha^*, \\beta^*) = \\vec{0}$$\n",
    "$$\\alpha_i^* g_i(x^*) = 0 \\space i=1,\\text{...},k$$\n",
    "$$g_i(x^*) \\leq 0 \\space i=1,\\text{...},k$$\n",
    "$$\\alpha_i \\geq 0 \\space i=1,\\text{...},k$$"
   ]
  },
  {
   "cell_type": "markdown",
   "metadata": {},
   "source": [
    "# Barrier function\n",
    "\n",
    "Let's consider the problem:\n",
    "\n",
    "$$\\min_{x} f(x)$$\n",
    "$$s.t. x \\geq b$$\n",
    "\n",
    "with $x \\in \\mathbb{R}$, and some constant $b \\in \\mathbb{R}$\n",
    "\n",
    "The problem can be reformulated as:\n",
    "\n",
    "$$\\min_{x} f(x) + c(x)$$\n",
    "\n",
    "$$\n",
    " \\text{with } c(x) =\n",
    "\\begin{cases}\n",
    "    \\infty & \\text{if } x < b\\\\\n",
    "    0 & \\text{if } x \\geq b\n",
    "\\end{cases}\n",
    "$$\n",
    "\n",
    "A barrier function $g$ is a countinuous approximation of $c$ such that:\n",
    "$$\\lim_{x \\to b^+} g(x) = \\infty$$\n",
    "\n",
    "The problem becames:\n",
    "$$\\min_{x} f(x) + \\mu g(x)$$\n",
    "with $\\mu > 0$ a free parameter.\n",
    "\n",
    "It's not equivalent to the original problem, but the closer $\\mu$ is to $0$, the better approximation of the original problem it is."
   ]
  },
  {
   "cell_type": "markdown",
   "metadata": {},
   "source": [
    "## log-barrier function\n",
    "\n",
    "The log-barrier funnction is defined by:\n",
    "\n",
    "$$\n",
    "g(x) =\n",
    "\\begin{cases}\n",
    "    \\infty & \\text{if } x < b\\\\\n",
    "    -\\log (x - b) & \\text{if } x \\geq b\n",
    "\\end{cases}\n",
    "$$\n",
    "\n",
    "This can also be applied to a vector problem:\n",
    "\n",
    "$$\\min_{x} f(x)$$\n",
    "$$s.t. Ax \\geq b$$\n",
    "\n",
    "$$\n",
    "g(x) =\n",
    "\\begin{cases}\n",
    "    \\infty & \\text{if } Ax < b\\\\\n",
    "    - \\sum_{i=1}^m \\log (a_i^Tx - b_i) & \\text{if } Ax \\geq b\n",
    "\\end{cases}\n",
    "$$"
   ]
  }
 ],
 "metadata": {
  "kernelspec": {
   "display_name": "Python 3",
   "language": "python",
   "name": "python3"
  },
  "language_info": {
   "codemirror_mode": {
    "name": "ipython",
    "version": 3
   },
   "file_extension": ".py",
   "mimetype": "text/x-python",
   "name": "python",
   "nbconvert_exporter": "python",
   "pygments_lexer": "ipython3",
   "version": "3.6.7"
  }
 },
 "nbformat": 4,
 "nbformat_minor": 2
}
