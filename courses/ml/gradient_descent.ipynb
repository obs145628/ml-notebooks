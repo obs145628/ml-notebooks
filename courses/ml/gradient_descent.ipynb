{
 "cells": [
  {
   "cell_type": "code",
   "execution_count": 1,
   "metadata": {},
   "outputs": [],
   "source": [
    "import sys\n",
    "sys.path.append('..')\n",
    "\n",
    "import numpy as np\n",
    "import torch\n",
    "\n",
    "import metrics\n",
    "import utils"
   ]
  },
  {
   "cell_type": "markdown",
   "metadata": {},
   "source": [
    "# Gradient Descent"
   ]
  },
  {
   "cell_type": "code",
   "execution_count": 2,
   "metadata": {},
   "outputs": [
    {
     "name": "stdout",
     "output_type": "stream",
     "text": [
      "Downloading http://yann.lecun.com/exdb/mnist/train-images-idx3-ubyte.gz\n",
      "Downloading http://yann.lecun.com/exdb/mnist/train-labels-idx1-ubyte.gz\n",
      "Downloading http://yann.lecun.com/exdb/mnist/t10k-images-idx3-ubyte.gz\n",
      "Downloading http://yann.lecun.com/exdb/mnist/t10k-labels-idx1-ubyte.gz\n",
      "Processing...\n",
      "Done!\n"
     ]
    }
   ],
   "source": [
    "## Model for training\n",
    "\n",
    "IN_SIZE = 28 * 28\n",
    "HIDDEN1_SIZE = 500\n",
    "HIDDEN2_SIZE = 256\n",
    "OUT_SIZE = 10\n",
    "\n",
    "NEPOCHS = 5\n",
    "BATCH_SIZE = 64\n",
    "\n",
    "train_loader, test_loader = utils.load_mnist(BATCH_SIZE)\n",
    "train_loader_01, test_loader_01 = utils.load_mnist_01(BATCH_SIZE)\n",
    "\n",
    "def compute_accuracy(y_preds, y):\n",
    "    total = len(y_preds)\n",
    "    correct = np.equal(y_preds, y).sum()\n",
    "    return correct, total\n",
    "\n",
    "def run_tests(net, test_loader):\n",
    "    test_y_preds, test_y_true = utils.get_class_output(net, test_loader)\n",
    "    correct, total = compute_accuracy(test_y_preds, test_y_true)\n",
    "    acc = float(correct) / total\n",
    "    print('Test accuracy = {} ({}/{})'.format(acc, correct, total))\n",
    "\n",
    "class Net(torch.nn.Module):\n",
    "\n",
    "    def __init__(self):\n",
    "        super(Net, self).__init__()\n",
    "        self.l1 = torch.nn.Linear(IN_SIZE , HIDDEN1_SIZE)\n",
    "        self.l2 = torch.nn.Linear(HIDDEN1_SIZE, HIDDEN2_SIZE)\n",
    "        self.l3 = torch.nn.Linear(HIDDEN2_SIZE, OUT_SIZE)\n",
    "\n",
    "    def forward(self, x):\n",
    "        x = x.view(-1, IN_SIZE)\n",
    "        x = torch.relu(self.l1(x))\n",
    "        x = torch.relu(self.l2(x))\n",
    "        y_logits = self.l3(x)\n",
    "        return y_logits\n",
    "\n",
    "\n",
    "criterion = torch.nn.CrossEntropyLoss(reduction='sum')"
   ]
  },
  {
   "cell_type": "markdown",
   "metadata": {},
   "source": [
    "## Stochastic gradient descent"
   ]
  },
  {
   "cell_type": "markdown",
   "metadata": {},
   "source": [
    "- Go over the whole training set for several passes, each pass is called an epoch\n",
    "- For each epoch, divide the training set into x random grousps with a fixed bath size, and iterative over all the batchs of data\n",
    "- For each batch, compute the gradient of the weights, and update them accordingly to the learning rate $\\epsilon$:\n",
    "\n",
    "$$\\theta \\leftarrow \\theta - \\epsilon \\nabla_\\theta J$$"
   ]
  },
  {
   "cell_type": "code",
   "execution_count": 3,
   "metadata": {},
   "outputs": [
    {
     "name": "stdout",
     "output_type": "stream",
     "text": [
      "1[1] Loss = 147.5270233154297\n",
      "1[301] Loss = 36.75208282470703\n",
      "1[601] Loss = 17.57419204711914\n",
      "1[901] Loss = 15.867212295532227\n",
      "Test accuracy = 0.9056 (9056/10000)\n",
      "2[1] Loss = 24.019798278808594\n",
      "2[301] Loss = 20.23111343383789\n",
      "2[601] Loss = 30.22503662109375\n",
      "2[901] Loss = 8.016792297363281\n",
      "Test accuracy = 0.9382 (9382/10000)\n",
      "3[1] Loss = 11.811263084411621\n",
      "3[301] Loss = 5.030627727508545\n",
      "3[601] Loss = 6.9431562423706055\n",
      "3[901] Loss = 6.288186550140381\n",
      "Test accuracy = 0.957 (9570/10000)\n",
      "4[1] Loss = 3.70430326461792\n",
      "4[301] Loss = 7.358327865600586\n",
      "4[601] Loss = 1.2877092361450195\n",
      "4[901] Loss = 6.556319713592529\n",
      "Test accuracy = 0.9618 (9618/10000)\n",
      "5[1] Loss = 9.979596138000488\n",
      "5[301] Loss = 10.257913589477539\n",
      "5[601] Loss = 8.09604263305664\n",
      "5[901] Loss = 10.197946548461914\n",
      "Test accuracy = 0.9692 (9692/10000)\n"
     ]
    }
   ],
   "source": [
    "LEARNING_RATE = 0.001\n",
    "\n",
    "net = Net()\n",
    "\n",
    "k = 1\n",
    "for epoch in range(NEPOCHS):\n",
    "\n",
    "    for batch_idx, (X, y) in enumerate(train_loader):\n",
    "        y_logits = net(X)\n",
    "        loss = criterion(y_logits, y)\n",
    "    \n",
    "        net.zero_grad()\n",
    "        loss.backward()\n",
    "        for w in net.parameters():\n",
    "            lr_k = LEARNING_RATE\n",
    "            w.data.sub_(w.grad.data * lr_k)\n",
    "    \n",
    "    \n",
    "        k += 1\n",
    "        if batch_idx % 300 == 0:\n",
    "            print('{}[{}] Loss = {}'.format(epoch + 1, \n",
    "                                            batch_idx+1, loss.data))\n",
    "    \n",
    "    run_tests(net, test_loader)"
   ]
  },
  {
   "cell_type": "markdown",
   "metadata": {},
   "source": [
    "## SGD with linearly decaying learning rate"
   ]
  },
  {
   "cell_type": "markdown",
   "metadata": {},
   "source": [
    "The learning rate $\\epsilon$ linearly decrease over the whole training.  \n",
    "$\\epsilon_0$: initial learning rate.  \n",
    "$\\epsilon_\\tau$: final learning rate.  \n",
    "$\\tau$: number of iterations to reach $\\epsilon_\\tau$."
   ]
  },
  {
   "cell_type": "markdown",
   "metadata": {},
   "source": [
    "$$\\alpha = \\frac{k}{\\tau}$$\n",
    "\n",
    "Learning rate at iteration $k$:\n",
    "\n",
    "$$\n",
    "\\epsilon_k = \n",
    "\\begin{cases}\n",
    "    (1 - \\alpha)\\epsilon_0 + \\alpha \\epsilon_\\tau & \\text{if } k \\leq \\tau\\\\\n",
    "    \\epsilon_\\tau & \\text{if } k > \\tau\n",
    "\\end{cases}\n",
    "$$"
   ]
  },
  {
   "cell_type": "code",
   "execution_count": 4,
   "metadata": {},
   "outputs": [
    {
     "name": "stdout",
     "output_type": "stream",
     "text": [
      "1[1] Loss = 147.2858123779297\n",
      "1[301] Loss = 27.170085906982422\n",
      "1[601] Loss = 11.047721862792969\n",
      "1[901] Loss = 13.711531639099121\n",
      "Test accuracy = 0.928 (9280/10000)\n",
      "2[1] Loss = 23.381946563720703\n",
      "2[301] Loss = 11.159976959228516\n",
      "2[601] Loss = 6.116436958312988\n",
      "2[901] Loss = 9.599953651428223\n",
      "Test accuracy = 0.9603 (9603/10000)\n",
      "3[1] Loss = 5.340740203857422\n",
      "3[301] Loss = 10.129582405090332\n",
      "3[601] Loss = 5.469518661499023\n",
      "3[901] Loss = 3.2249715328216553\n",
      "Test accuracy = 0.9686 (9686/10000)\n",
      "4[1] Loss = 6.069091796875\n",
      "4[301] Loss = 3.748361587524414\n",
      "4[601] Loss = 1.6760823726654053\n",
      "4[901] Loss = 6.5092453956604\n",
      "Test accuracy = 0.9728 (9728/10000)\n",
      "5[1] Loss = 15.878865242004395\n",
      "5[301] Loss = 7.71419620513916\n",
      "5[601] Loss = 8.514182090759277\n",
      "5[901] Loss = 1.474599838256836\n",
      "Test accuracy = 0.9742 (9742/10000)\n"
     ]
    }
   ],
   "source": [
    "LR_0 = 0.005\n",
    "LR_T = 0.0001\n",
    "T = len(train_loader) * NEPOCHS\n",
    "\n",
    "net = Net()\n",
    "\n",
    "k = 1\n",
    "for epoch in range(NEPOCHS):\n",
    "\n",
    "    for batch_idx, (X, y) in enumerate(train_loader):\n",
    "        y_logits = net(X)\n",
    "        loss = criterion(y_logits, y)\n",
    "    \n",
    "        net.zero_grad()\n",
    "        loss.backward()\n",
    "        for w in net.parameters():\n",
    "            lr_k = max(LR_T, (1 - k/T) * LR_0 + k/T * LR_T)\n",
    "            w.data.sub_(w.grad.data * lr_k)\n",
    "    \n",
    "    \n",
    "        k += 1\n",
    "        if batch_idx % 300 == 0:\n",
    "            print('{}[{}] Loss = {}'.format(epoch + 1, \n",
    "                                            batch_idx+1, loss.data))\n",
    "    \n",
    "    run_tests(net, test_loader)"
   ]
  },
  {
   "cell_type": "markdown",
   "metadata": {},
   "source": [
    "### SGD with momemtum"
   ]
  },
  {
   "cell_type": "markdown",
   "metadata": {},
   "source": [
    "Keep tracks of an exponentially decaying moving average of all gradients $v$.  \n",
    "Update the wieghts in the direction of v.  \n",
    "\n",
    "$$v \\leftarrow \\alpha v - \\epsilon \\nabla_\\theta J$$\n",
    "$$\\theta \\leftarrow \\theta + v$$  \n",
    "\n",
    "$\\epsilon$: learning rate.  \n",
    "$\\alpha$: momemtum coefficient.  \n",
    "The initial value of $v$ influence the converge, it usually starts at 0."
   ]
  },
  {
   "cell_type": "markdown",
   "metadata": {},
   "source": [
    "Commom values for $\\alpha$ are $0.5$, $0.9$ and $0.99$"
   ]
  },
  {
   "cell_type": "code",
   "execution_count": 5,
   "metadata": {},
   "outputs": [
    {
     "name": "stdout",
     "output_type": "stream",
     "text": [
      "1[1] Loss = 147.82102966308594\n",
      "1[301] Loss = 19.815383911132812\n",
      "1[601] Loss = 15.203666687011719\n",
      "1[901] Loss = 6.132991313934326\n",
      "Test accuracy = 0.9295 (9295/10000)\n",
      "2[1] Loss = 8.83996868133545\n",
      "2[301] Loss = 28.776630401611328\n",
      "2[601] Loss = 18.577226638793945\n",
      "2[901] Loss = 7.589788913726807\n",
      "Test accuracy = 0.9556 (9556/10000)\n",
      "3[1] Loss = 7.083834648132324\n",
      "3[301] Loss = 13.001118659973145\n",
      "3[601] Loss = 7.388951301574707\n",
      "3[901] Loss = 21.047073364257812\n",
      "Test accuracy = 0.9477 (9477/10000)\n",
      "4[1] Loss = 16.090076446533203\n",
      "4[301] Loss = 16.447124481201172\n",
      "4[601] Loss = 2.34926700592041\n",
      "4[901] Loss = 5.055661678314209\n",
      "Test accuracy = 0.9599 (9599/10000)\n",
      "5[1] Loss = 3.2772674560546875\n",
      "5[301] Loss = 22.849519729614258\n",
      "5[601] Loss = 1.2642607688903809\n",
      "5[901] Loss = 0.819697380065918\n",
      "Test accuracy = 0.9701 (9701/10000)\n"
     ]
    }
   ],
   "source": [
    "LR = 0.001\n",
    "ALPHA = 0.9\n",
    "\n",
    "net = Net()\n",
    "\n",
    "vs = list()\n",
    "for w in net.parameters():\n",
    "    v = torch.zeros(w.shape, dtype=w.dtype)\n",
    "    vs.append(v)\n",
    "\n",
    "k = 1\n",
    "for epoch in range(NEPOCHS):\n",
    "\n",
    "    for batch_idx, (X, y) in enumerate(train_loader):\n",
    "        y_logits = net(X)\n",
    "        loss = criterion(y_logits, y)\n",
    "\n",
    "        net.zero_grad()\n",
    "        loss.backward()\n",
    "        params = list(net.parameters())\n",
    "        for i in range(len(params)):\n",
    "            w = params[i]\n",
    "            vs[i].data = ALPHA * vs[i].data - LR * w.grad.data\n",
    "            w.data.add_(vs[i].data)\n",
    "    \n",
    "    \n",
    "        k += 1\n",
    "        if batch_idx % 300 == 0:\n",
    "            print('{}[{}] Loss = {}'.format(epoch + 1, \n",
    "                                            batch_idx+1, loss.data))\n",
    "    \n",
    "    run_tests(net, test_loader)"
   ]
  },
  {
   "cell_type": "markdown",
   "metadata": {},
   "source": [
    "### SGD with Nestverov momentum"
   ]
  },
  {
   "cell_type": "markdown",
   "metadata": {},
   "source": [
    "Evaluates gradient after the current velocity is applied.  \n",
    "\n",
    "$$v \\leftarrow \\alpha v - \\epsilon \\nabla_\\theta J(\\theta + \\alpha v)$$\n",
    "$$\\theta \\leftarrow \\theta + v$$"
   ]
  },
  {
   "cell_type": "code",
   "execution_count": 6,
   "metadata": {},
   "outputs": [
    {
     "name": "stdout",
     "output_type": "stream",
     "text": [
      "1[1] Loss = 146.84693908691406\n",
      "1[301] Loss = 20.71490478515625\n",
      "1[601] Loss = 9.90667724609375\n",
      "1[901] Loss = 14.843843460083008\n",
      "Test accuracy = 0.9478 (9478/10000)\n",
      "2[1] Loss = 6.96317720413208\n",
      "2[301] Loss = 24.63340950012207\n",
      "2[601] Loss = 12.019695281982422\n",
      "2[901] Loss = 1.158607006072998\n",
      "Test accuracy = 0.9607 (9607/10000)\n",
      "3[1] Loss = 2.092935800552368\n",
      "3[301] Loss = 7.6326775550842285\n",
      "3[601] Loss = 6.785384178161621\n",
      "3[901] Loss = 12.72946834564209\n",
      "Test accuracy = 0.9586 (9586/10000)\n",
      "4[1] Loss = 9.662019729614258\n",
      "4[301] Loss = 8.608166694641113\n",
      "4[601] Loss = 3.50508975982666\n",
      "4[901] Loss = 18.84221839904785\n",
      "Test accuracy = 0.9614 (9614/10000)\n",
      "5[1] Loss = 5.554802894592285\n",
      "5[301] Loss = 1.706033706665039\n",
      "5[601] Loss = 0.5673184394836426\n",
      "5[901] Loss = 4.645683288574219\n",
      "Test accuracy = 0.9733 (9733/10000)\n"
     ]
    }
   ],
   "source": [
    "LR = 0.001\n",
    "ALPHA = 0.9\n",
    "\n",
    "net = Net()\n",
    "\n",
    "vs = list()\n",
    "for w in net.parameters():\n",
    "    v = torch.zeros(w.shape, dtype=w.dtype)\n",
    "    vs.append(v)\n",
    "\n",
    "k = 1\n",
    "for epoch in range(NEPOCHS):\n",
    "\n",
    "    for batch_idx, (X, y) in enumerate(train_loader):\n",
    "        params = list(net.parameters())\n",
    "        for i in range(len(params)):\n",
    "            params[i].data.add_(ALPHA * vs[i])\n",
    "        \n",
    "        y_logits = net(X)       \n",
    "        loss = criterion(y_logits, y)\n",
    "\n",
    "        net.zero_grad()\n",
    "        loss.backward()\n",
    "\n",
    "        for i in range(len(params)):\n",
    "            w = params[i]\n",
    "            w.data.sub_(ALPHA * vs[i])\n",
    "            vs[i].data = ALPHA * vs[i].data - LR * w.grad.data\n",
    "            w.data.add_(vs[i].data)\n",
    "    \n",
    "    \n",
    "        k += 1\n",
    "        if batch_idx % 300 == 0:\n",
    "            print('{}[{}] Loss = {}'.format(epoch + 1, \n",
    "                                            batch_idx+1, loss.data))\n",
    "    \n",
    "    run_tests(net, test_loader)"
   ]
  },
  {
   "cell_type": "markdown",
   "metadata": {},
   "source": [
    "### Adagrad "
   ]
  },
  {
   "cell_type": "markdown",
   "metadata": {},
   "source": [
    "Scale gradients by the inverse of the sum of all squared previous gradients.  \n",
    "\n",
    "$$r\\leftarrow r + \\nabla_\\theta J \\odot \\nabla_\\theta J$$\n",
    "$$\\theta \\leftarrow \\theta - \\frac{\\epsilon}{\\sqrt{\\delta + r}} \\odot \\nabla_\\theta J$$  \n",
    "\n",
    "$\\epsilon$: learning rate.  \n",
    "$\\delta$: small constant ($10^{-7}$) to avoid division by $0$.  \n",
    "$r$ is initialized at $0$"
   ]
  },
  {
   "cell_type": "markdown",
   "metadata": {},
   "source": [
    "large gradient results in small learning rate.  \n",
    "small gradients results in large learning rate. \n",
    "It makes progress on more gently slopes directions of the parameters space.  \n",
    "Fast for convex optimization, but might also work for deep learning"
   ]
  },
  {
   "cell_type": "code",
   "execution_count": 7,
   "metadata": {},
   "outputs": [
    {
     "name": "stdout",
     "output_type": "stream",
     "text": [
      "1[1] Loss = 147.76698303222656\n",
      "1[301] Loss = 25.988157272338867\n",
      "1[601] Loss = 22.155385971069336\n",
      "1[901] Loss = 17.08797264099121\n",
      "Test accuracy = 0.8992 (8992/10000)\n",
      "2[1] Loss = 23.854522705078125\n",
      "2[301] Loss = 23.128379821777344\n",
      "2[601] Loss = 21.91646957397461\n",
      "2[901] Loss = 17.013355255126953\n",
      "Test accuracy = 0.9097 (9097/10000)\n",
      "3[1] Loss = 20.268390655517578\n",
      "3[301] Loss = 18.043489456176758\n",
      "3[601] Loss = 29.65180206298828\n",
      "3[901] Loss = 14.703795433044434\n",
      "Test accuracy = 0.9146 (9146/10000)\n",
      "4[1] Loss = 16.749221801757812\n",
      "4[301] Loss = 21.041324615478516\n",
      "4[601] Loss = 10.169624328613281\n",
      "4[901] Loss = 11.265661239624023\n",
      "Test accuracy = 0.9189 (9189/10000)\n",
      "5[1] Loss = 25.697978973388672\n",
      "5[301] Loss = 15.206506729125977\n",
      "5[601] Loss = 18.25164031982422\n",
      "5[901] Loss = 30.931976318359375\n",
      "Test accuracy = 0.9226 (9226/10000)\n"
     ]
    }
   ],
   "source": [
    "LR = 0.001\n",
    "DELTA = 1e-7\n",
    "\n",
    "NEPOCHS = 5\n",
    "\n",
    "net = Net()\n",
    "\n",
    "rs = list()\n",
    "for w in net.parameters():\n",
    "    r = torch.zeros(w.shape, dtype=w.dtype)\n",
    "    rs.append(r)\n",
    "\n",
    "k = 1\n",
    "for epoch in range(NEPOCHS):\n",
    "\n",
    "    for batch_idx, (X, y) in enumerate(train_loader):        \n",
    "        y_logits = net(X)\n",
    "        \n",
    "        loss = criterion(y_logits, y)\n",
    "        net.zero_grad()\n",
    "        loss.backward()\n",
    "\n",
    "        params = list(net.parameters())\n",
    "        for i in range(len(params)):\n",
    "            w = params[i]\n",
    "            rs[i].data.add_(w.grad.data ** 2)\n",
    "            w.data.sub_(LR / torch.sqrt(DELTA+rs[i].data) * w.grad.data)\n",
    "    \n",
    "        k += 1\n",
    "        if batch_idx % 300 == 0:\n",
    "            print('{}[{}] Loss = {}'.format(epoch + 1, \n",
    "                                            batch_idx+1, loss.data))\n",
    "    \n",
    "    run_tests(net, test_loader)"
   ]
  },
  {
   "cell_type": "markdown",
   "metadata": {},
   "source": [
    "### RMSProp"
   ]
  },
  {
   "cell_type": "markdown",
   "metadata": {},
   "source": [
    "It's a modified version of Adagrad.  \n",
    "$r$ is now an exponentially dacying average.  \n",
    "\n",
    "$$r\\leftarrow \\rho r + (1 - \\rho) \\nabla_\\theta J \\odot \\nabla_\\theta J$$\n",
    "$$\\theta \\leftarrow \\theta - \\frac{\\epsilon}{\\sqrt{\\delta + r}} \\odot \\nabla_\\theta J$$  \n",
    "\n",
    "$\\rho$: day rate.  \n",
    "$\\epsilon$: learning rate.  \n",
    "$\\delta$: small constant ($10^{-6}$) to avoid division by $0$."
   ]
  },
  {
   "cell_type": "markdown",
   "metadata": {},
   "source": [
    "It gives better results than Adagrad for deep models"
   ]
  },
  {
   "cell_type": "code",
   "execution_count": 8,
   "metadata": {},
   "outputs": [
    {
     "name": "stdout",
     "output_type": "stream",
     "text": [
      "1[1] Loss = 147.26217651367188\n",
      "1[301] Loss = 17.58557891845703\n",
      "1[601] Loss = 11.66818904876709\n",
      "1[901] Loss = 13.68702507019043\n",
      "Test accuracy = 0.9501 (9501/10000)\n",
      "2[1] Loss = 8.958868980407715\n",
      "2[301] Loss = 5.09785270690918\n",
      "2[601] Loss = 8.713766098022461\n",
      "2[901] Loss = 17.310115814208984\n",
      "Test accuracy = 0.9627 (9627/10000)\n",
      "3[1] Loss = 4.96223258972168\n",
      "3[301] Loss = 19.404726028442383\n",
      "3[601] Loss = 11.642419815063477\n",
      "3[901] Loss = 7.8435821533203125\n",
      "Test accuracy = 0.9691 (9691/10000)\n",
      "4[1] Loss = 9.57171630859375\n",
      "4[301] Loss = 3.6938445568084717\n",
      "4[601] Loss = 2.975255250930786\n",
      "4[901] Loss = 12.813283920288086\n",
      "Test accuracy = 0.9683 (9683/10000)\n",
      "5[1] Loss = 2.0546493530273438\n",
      "5[301] Loss = 7.876154899597168\n",
      "5[601] Loss = 1.3764848709106445\n",
      "5[901] Loss = 4.71381950378418\n",
      "Test accuracy = 0.9707 (9707/10000)\n"
     ]
    }
   ],
   "source": [
    "LR = 0.001\n",
    "DELTA = 1e-6\n",
    "DECAY = 0.9\n",
    "\n",
    "NEPOCHS = 5\n",
    "\n",
    "net = Net()\n",
    "\n",
    "rs = list()\n",
    "for w in net.parameters():\n",
    "    r = torch.zeros(w.shape, dtype=w.dtype)\n",
    "    rs.append(r)\n",
    "\n",
    "k = 1\n",
    "for epoch in range(NEPOCHS):\n",
    "\n",
    "    for batch_idx, (X, y) in enumerate(train_loader):\n",
    "        y_logits = net(X)\n",
    "        \n",
    "        loss = criterion(y_logits, y)\n",
    "        net.zero_grad()\n",
    "        loss.backward()\n",
    "\n",
    "        params = list(net.parameters())\n",
    "        for i in range(len(params)):\n",
    "            w = params[i]\n",
    "            rs[i].data = DECAY * rs[i].data + (1-DECAY) * w.grad.data**2\n",
    "            w.data.sub_(LR / torch.sqrt(DELTA+rs[i].data) * w.grad.data)\n",
    "    \n",
    "        k += 1\n",
    "        if batch_idx % 300 == 0:\n",
    "            print('{}[{}] Loss = {}'.format(epoch + 1, \n",
    "                                            batch_idx+1, loss.data))\n",
    "    \n",
    "    run_tests(net, test_loader)"
   ]
  },
  {
   "cell_type": "markdown",
   "metadata": {},
   "source": [
    "## RMSProp with Neskerov momentum"
   ]
  },
  {
   "cell_type": "markdown",
   "metadata": {},
   "source": [
    "Add neskerov momemtum to RMSProp: \n",
    "\n",
    "$$r\\leftarrow \\rho r + (1 - \\rho) \\nabla_\\theta J \\odot \\nabla_\\theta J$$\n",
    "$$v \\leftarrow v - \\frac{\\epsilon}{\\sqrt{\\delta + r}} \\odot \\nabla_\\theta J$$  \n",
    "$$\\theta \\leftarrow \\theta + v$$  \n",
    "\n",
    "$v$ is a moving average of the scaled gradients"
   ]
  },
  {
   "cell_type": "code",
   "execution_count": 9,
   "metadata": {},
   "outputs": [
    {
     "name": "stdout",
     "output_type": "stream",
     "text": [
      "1[1] Loss = 147.88803100585938\n",
      "1[301] Loss = 10.70921802520752\n",
      "1[601] Loss = 16.994647979736328\n",
      "1[901] Loss = 9.389078140258789\n",
      "Test accuracy = 0.9364 (9364/10000)\n",
      "2[1] Loss = 9.92849349975586\n",
      "2[301] Loss = 8.535120964050293\n",
      "2[601] Loss = 10.694400787353516\n",
      "2[901] Loss = 49.448326110839844\n",
      "Test accuracy = 0.9374 (9374/10000)\n",
      "3[1] Loss = 22.262073516845703\n",
      "3[301] Loss = 28.935487747192383\n",
      "3[601] Loss = 24.975175857543945\n",
      "3[901] Loss = 23.655744552612305\n",
      "Test accuracy = 0.9204 (9204/10000)\n",
      "4[1] Loss = 27.42522430419922\n",
      "4[301] Loss = 3.075234889984131\n",
      "4[601] Loss = 9.480464935302734\n",
      "4[901] Loss = 21.016372680664062\n",
      "Test accuracy = 0.943 (9430/10000)\n",
      "5[1] Loss = 22.950645446777344\n",
      "5[301] Loss = 10.202150344848633\n",
      "5[601] Loss = 19.90564727783203\n",
      "5[901] Loss = 19.354583740234375\n",
      "Test accuracy = 0.9327 (9327/10000)\n"
     ]
    }
   ],
   "source": [
    "LR = 0.001\n",
    "DELTA = 1e-6\n",
    "DECAY = 0.9\n",
    "ALPHA = 0.9\n",
    "\n",
    "NEPOCHS = 5\n",
    "\n",
    "net = Net()\n",
    "\n",
    "rs = list()\n",
    "vs = list()\n",
    "for w in net.parameters():\n",
    "    r = torch.zeros(w.shape, dtype=w.dtype)\n",
    "    v = torch.zeros(w.shape, dtype=w.dtype)\n",
    "    rs.append(r)\n",
    "    vs.append(v)\n",
    "    \n",
    "k = 1\n",
    "for epoch in range(NEPOCHS):\n",
    "\n",
    "    for batch_idx, (X, y) in enumerate(train_loader):\n",
    "        params = list(net.parameters())\n",
    "        for i in range(len(params)):\n",
    "            params[i].data.add_(ALPHA * vs[i])\n",
    "        \n",
    "        y_logits = net(X)\n",
    "        \n",
    "        loss = criterion(y_logits, y)\n",
    "        net.zero_grad()\n",
    "        loss.backward()\n",
    "\n",
    "        for i in range(len(params)):\n",
    "            w = params[i]\n",
    "            w.data.sub_(ALPHA * vs[i])\n",
    "            rs[i].data = DECAY * rs[i].data + (1-DECAY) * w.grad.data**2\n",
    "            vs[i].data = ALPHA * vs[i].data - LR / torch.sqrt(DELTA+rs[i].data) * w.grad.data\n",
    "            w.data.add_(vs[i].data)\n",
    "    \n",
    "        k += 1\n",
    "        if batch_idx % 300 == 0:\n",
    "            print('{}[{}] Loss = {}'.format(epoch + 1, \n",
    "                                            batch_idx+1, loss.data))\n",
    "    \n",
    "    run_tests(net, test_loader)"
   ]
  },
  {
   "cell_type": "markdown",
   "metadata": {},
   "source": [
    "### Adam"
   ]
  },
  {
   "cell_type": "markdown",
   "metadata": {},
   "source": [
    "Compute an estimate of the first-order and second-order moments.  \n",
    "Then correct the bias on these estimates.  \n",
    "These corrected estimates are then used to compute the weight updates."
   ]
  },
  {
   "cell_type": "markdown",
   "metadata": {},
   "source": [
    "$$s \\leftarrow \\rho_1 s + (1 - \\rho_1) \\nabla_\\theta J$$\n",
    "$$r \\leftarrow \\rho_2 r + (1 - \\rho_2) \\nabla_\\theta J \\odot \\nabla_\\theta J$$\n",
    "$$\\hat{s} \\leftarrow \\frac{s}{1 - \\rho_1^t}$$\n",
    "$$\\hat{r} \\leftarrow \\frac{r}{1 - \\rho_2^t}$$\n",
    "$$\\theta \\leftarrow \\theta - \\epsilon \\frac{\\hat{s}}{\\sqrt{\\hat{r}} + \\delta}$$  \n",
    "\n",
    "$t$: iteration counter.  \n",
    "$s$ et $r$: respectively first et second-order moments.  \n",
    "$\\hat{s}$ et $\\hat{r}$: respectively corrected first et second-order moments.  "
   ]
  },
  {
   "cell_type": "markdown",
   "metadata": {},
   "source": [
    "$\\epsilon$: learning rate (default: $0.001$)  \n",
    "$\\rho_1$: decay rate for first-order moments estimates (default: $0.9$)   \n",
    "$\\rho_2$: decay rate for second-order moments estimates (default: $0.999$)   \n",
    "$\\delta$: small contant to avoid division by zero (default: $10^{-8}$)"
   ]
  },
  {
   "cell_type": "code",
   "execution_count": 10,
   "metadata": {},
   "outputs": [
    {
     "name": "stdout",
     "output_type": "stream",
     "text": [
      "1[1] Loss = 146.546630859375\n",
      "1[301] Loss = 20.987897872924805\n",
      "1[601] Loss = 19.754451751708984\n",
      "1[901] Loss = 25.493762969970703\n",
      "Test accuracy = 0.9553 (9553/10000)\n",
      "2[1] Loss = 12.02663803100586\n",
      "2[301] Loss = 5.827609539031982\n",
      "2[601] Loss = 10.173932075500488\n",
      "2[901] Loss = 14.954172134399414\n",
      "Test accuracy = 0.9683 (9683/10000)\n",
      "3[1] Loss = 2.941495895385742\n",
      "3[301] Loss = 8.274127960205078\n",
      "3[601] Loss = 3.27241849899292\n",
      "3[901] Loss = 9.198446273803711\n",
      "Test accuracy = 0.9714 (9714/10000)\n",
      "4[1] Loss = 2.223482370376587\n",
      "4[301] Loss = 1.31793212890625\n",
      "4[601] Loss = 11.347515106201172\n",
      "4[901] Loss = 1.6574327945709229\n",
      "Test accuracy = 0.9706 (9706/10000)\n",
      "5[1] Loss = 3.419306516647339\n",
      "5[301] Loss = 0.4741554260253906\n",
      "5[601] Loss = 0.8854548931121826\n",
      "5[901] Loss = 5.873857021331787\n",
      "Test accuracy = 0.9731 (9731/10000)\n"
     ]
    }
   ],
   "source": [
    "LR = 0.001\n",
    "DELTA = 1e-8\n",
    "DEC1 = 0.9\n",
    "DEC2 = 0.999\n",
    "\n",
    "NEPOCHS = 5\n",
    "\n",
    "net = Net()\n",
    "\n",
    "s = list()\n",
    "r = list()\n",
    "for w in net.parameters():\n",
    "    v = torch.zeros(w.shape, dtype=w.dtype)\n",
    "    s.append(torch.zeros(w.shape, dtype=w.dtype))\n",
    "    r.append(torch.zeros(w.shape, dtype=w.dtype))\n",
    "    \n",
    "t = 1\n",
    "for epoch in range(NEPOCHS):\n",
    "\n",
    "    for batch_idx, (X, y) in enumerate(train_loader):\n",
    "        y_logits = net(X)\n",
    "        loss = criterion(y_logits, y)\n",
    "        net.zero_grad()\n",
    "        loss.backward()\n",
    "\n",
    "        params = list(net.parameters())\n",
    "        for i in range(len(params)):\n",
    "            w = params[i]\n",
    "            s[i].data = DEC1 * s[i].data + (1-DEC1) * w.grad.data\n",
    "            r[i].data = DEC2 * r[i].data + (1-DEC2) * w.grad.data**2\n",
    "            sc = s[i].data / (1 - DEC1**t)\n",
    "            rc = r[i].data / (1 - DEC2**t)\n",
    "\n",
    "            vs[i].data = ALPHA * vs[i].data - LR / torch.sqrt(DELTA+rs[i].data) * w.grad.data\n",
    "            w.data.sub_(LR * sc.data / (torch.sqrt(rc.data) + DELTA))\n",
    "            t += 1\n",
    "            \n",
    "            \n",
    "        if batch_idx % 300 == 0:\n",
    "            print('{}[{}] Loss = {}'.format(epoch + 1, \n",
    "                                            batch_idx+1, loss.data))\n",
    "    \n",
    "    run_tests(net, test_loader)"
   ]
  },
  {
   "cell_type": "code",
   "execution_count": null,
   "metadata": {},
   "outputs": [],
   "source": []
  }
 ],
 "metadata": {
  "kernelspec": {
   "display_name": "Python 3",
   "language": "python",
   "name": "python3"
  },
  "language_info": {
   "codemirror_mode": {
    "name": "ipython",
    "version": 3
   },
   "file_extension": ".py",
   "mimetype": "text/x-python",
   "name": "python",
   "nbconvert_exporter": "python",
   "pygments_lexer": "ipython3",
   "version": "3.6.7"
  }
 },
 "nbformat": 4,
 "nbformat_minor": 2
}
