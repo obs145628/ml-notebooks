{
 "cells": [
  {
   "cell_type": "code",
   "execution_count": 1,
   "metadata": {},
   "outputs": [],
   "source": [
    "import sys\n",
    "sys.path.append('../../pyutils')\n",
    "\n",
    "import numpy as np\n",
    "import torch\n",
    "\n",
    "import metrics\n",
    "import utils"
   ]
  },
  {
   "cell_type": "markdown",
   "metadata": {},
   "source": [
    "# Gradient Descent"
   ]
  },
  {
   "cell_type": "code",
   "execution_count": 2,
   "metadata": {},
   "outputs": [],
   "source": [
    "## Model for training\n",
    "\n",
    "IN_SIZE = 28 * 28\n",
    "HIDDEN1_SIZE = 500\n",
    "HIDDEN2_SIZE = 256\n",
    "OUT_SIZE = 10\n",
    "\n",
    "NEPOCHS = 5\n",
    "BATCH_SIZE = 64\n",
    "\n",
    "train_loader, test_loader = utils.load_mnist(BATCH_SIZE)\n",
    "train_loader_01, test_loader_01 = utils.load_mnist_01(BATCH_SIZE)\n",
    "\n",
    "def compute_accuracy(y_preds, y):\n",
    "    total = len(y_preds)\n",
    "    correct = np.equal(y_preds, y).sum()\n",
    "    return correct, total\n",
    "\n",
    "def run_tests(net, test_loader):\n",
    "    test_y_preds, test_y_true = utils.get_class_output(net, test_loader)\n",
    "    correct, total = compute_accuracy(test_y_preds, test_y_true)\n",
    "    acc = float(correct) / total\n",
    "    print('Test accuracy = {} ({}/{})'.format(acc, correct, total))\n",
    "\n",
    "class Net(torch.nn.Module):\n",
    "\n",
    "    def __init__(self):\n",
    "        super(Net, self).__init__()\n",
    "        self.l1 = torch.nn.Linear(IN_SIZE , HIDDEN1_SIZE)\n",
    "        self.l2 = torch.nn.Linear(HIDDEN1_SIZE, HIDDEN2_SIZE)\n",
    "        self.l3 = torch.nn.Linear(HIDDEN2_SIZE, OUT_SIZE)\n",
    "\n",
    "    def forward(self, x):\n",
    "        x = x.view(-1, IN_SIZE)\n",
    "        x = torch.relu(self.l1(x))\n",
    "        x = torch.relu(self.l2(x))\n",
    "        y_logits = self.l3(x)\n",
    "        return y_logits\n",
    "\n",
    "\n",
    "criterion = torch.nn.CrossEntropyLoss(reduction='sum')"
   ]
  },
  {
   "cell_type": "markdown",
   "metadata": {},
   "source": [
    "## Stochastic gradient descent"
   ]
  },
  {
   "cell_type": "markdown",
   "metadata": {},
   "source": [
    "- Go over the whole training set for several passes, each pass is called an epoch\n",
    "- For each epoch, divide the training set into x random grousps with a fixed bath size, and iterative over all the batchs of data\n",
    "- For each batch, compute the gradient of the weights, and update them accordingly to the learning rate $\\epsilon$:\n",
    "\n",
    "$$\\theta \\leftarrow \\theta - \\epsilon \\nabla_\\theta J$$"
   ]
  },
  {
   "cell_type": "code",
   "execution_count": 3,
   "metadata": {},
   "outputs": [
    {
     "name": "stdout",
     "output_type": "stream",
     "text": [
      "1[1] Loss = 147.12203979492188\n",
      "1[301] Loss = 35.03900909423828\n",
      "1[601] Loss = 37.909244537353516\n",
      "1[901] Loss = 10.858194351196289\n",
      "Test accuracy = 0.9222 (9222/10000)\n",
      "2[1] Loss = 10.571956634521484\n",
      "2[301] Loss = 9.005818367004395\n",
      "2[601] Loss = 11.808006286621094\n",
      "2[901] Loss = 15.839620590209961\n",
      "Test accuracy = 0.9414 (9414/10000)\n",
      "3[1] Loss = 8.340900421142578\n",
      "3[301] Loss = 9.040695190429688\n",
      "3[601] Loss = 16.13271141052246\n",
      "3[901] Loss = 11.940797805786133\n",
      "Test accuracy = 0.9545 (9545/10000)\n",
      "4[1] Loss = 13.607768058776855\n",
      "4[301] Loss = 5.404769420623779\n",
      "4[601] Loss = 6.2489190101623535\n",
      "4[901] Loss = 7.608024597167969\n",
      "Test accuracy = 0.9563 (9563/10000)\n",
      "5[1] Loss = 5.324291706085205\n",
      "5[301] Loss = 8.201653480529785\n",
      "5[601] Loss = 4.807262420654297\n",
      "5[901] Loss = 1.8956794738769531\n",
      "Test accuracy = 0.9662 (9662/10000)\n"
     ]
    }
   ],
   "source": [
    "LEARNING_RATE = 0.001\n",
    "\n",
    "net = Net()\n",
    "\n",
    "k = 1\n",
    "for epoch in range(NEPOCHS):\n",
    "\n",
    "    for batch_idx, (X, y) in enumerate(train_loader):\n",
    "        y_logits = net(X)\n",
    "        loss = criterion(y_logits, y)\n",
    "    \n",
    "        net.zero_grad()\n",
    "        loss.backward()\n",
    "        for w in net.parameters():\n",
    "            lr_k = LEARNING_RATE\n",
    "            w.data.sub_(w.grad.data * lr_k)\n",
    "    \n",
    "    \n",
    "        k += 1\n",
    "        if batch_idx % 300 == 0:\n",
    "            print('{}[{}] Loss = {}'.format(epoch + 1, \n",
    "                                            batch_idx+1, loss.data))\n",
    "    \n",
    "    run_tests(net, test_loader)"
   ]
  },
  {
   "cell_type": "markdown",
   "metadata": {},
   "source": [
    "## SGD with linearly decaying learning rate"
   ]
  },
  {
   "cell_type": "markdown",
   "metadata": {},
   "source": [
    "The learning rate $\\epsilon$ linearly decrease over the whole training.  \n",
    "$\\epsilon_0$: initial learning rate.  \n",
    "$\\epsilon_\\tau$: final learning rate.  \n",
    "$\\tau$: number of iterations to reach $\\epsilon_\\tau$."
   ]
  },
  {
   "cell_type": "markdown",
   "metadata": {},
   "source": [
    "$$\\alpha = \\frac{k}{\\tau}$$\n",
    "\n",
    "Learning rate at iteration $k$:\n",
    "\n",
    "$$\n",
    "\\epsilon_k = \n",
    "\\begin{cases}\n",
    "    (1 - \\alpha)\\epsilon_0 + \\alpha \\epsilon_\\tau & \\text{if } k \\leq \\tau\\\\\n",
    "    \\epsilon_\\tau & \\text{if } k > \\tau\n",
    "\\end{cases}\n",
    "$$"
   ]
  },
  {
   "cell_type": "code",
   "execution_count": 4,
   "metadata": {},
   "outputs": [
    {
     "name": "stdout",
     "output_type": "stream",
     "text": [
      "1[1] Loss = 147.43655395507812\n",
      "1[301] Loss = 31.766691207885742\n",
      "1[601] Loss = 26.692150115966797\n",
      "1[901] Loss = 17.659358978271484\n",
      "Test accuracy = 0.9371 (9371/10000)\n",
      "2[1] Loss = 6.750217914581299\n",
      "2[301] Loss = 2.5656964778900146\n",
      "2[601] Loss = 3.859900712966919\n",
      "2[901] Loss = 16.458829879760742\n",
      "Test accuracy = 0.9605 (9605/10000)\n",
      "3[1] Loss = 4.471502780914307\n",
      "3[301] Loss = 1.9399080276489258\n",
      "3[601] Loss = 4.323775768280029\n",
      "3[901] Loss = 9.659144401550293\n",
      "Test accuracy = 0.9718 (9718/10000)\n",
      "4[1] Loss = 1.2469983100891113\n",
      "4[301] Loss = 2.9788525104522705\n",
      "4[601] Loss = 6.375918388366699\n",
      "4[901] Loss = 4.068788051605225\n",
      "Test accuracy = 0.976 (9760/10000)\n",
      "5[1] Loss = 2.2555437088012695\n",
      "5[301] Loss = 5.581851482391357\n",
      "5[601] Loss = 2.3077499866485596\n",
      "5[901] Loss = 4.521398544311523\n",
      "Test accuracy = 0.9775 (9775/10000)\n"
     ]
    }
   ],
   "source": [
    "LR_0 = 0.005\n",
    "LR_T = 0.0001\n",
    "T = len(train_loader) * NEPOCHS\n",
    "\n",
    "net = Net()\n",
    "\n",
    "k = 1\n",
    "for epoch in range(NEPOCHS):\n",
    "\n",
    "    for batch_idx, (X, y) in enumerate(train_loader):\n",
    "        y_logits = net(X)\n",
    "        loss = criterion(y_logits, y)\n",
    "    \n",
    "        net.zero_grad()\n",
    "        loss.backward()\n",
    "        for w in net.parameters():\n",
    "            lr_k = max(LR_T, (1 - k/T) * LR_0 + k/T * LR_T)\n",
    "            w.data.sub_(w.grad.data * lr_k)\n",
    "    \n",
    "    \n",
    "        k += 1\n",
    "        if batch_idx % 300 == 0:\n",
    "            print('{}[{}] Loss = {}'.format(epoch + 1, \n",
    "                                            batch_idx+1, loss.data))\n",
    "    \n",
    "    run_tests(net, test_loader)"
   ]
  },
  {
   "cell_type": "markdown",
   "metadata": {},
   "source": [
    "### SGD with momemtum"
   ]
  },
  {
   "cell_type": "markdown",
   "metadata": {},
   "source": [
    "Keep tracks of an exponentially decaying moving average of all gradients $v$.  \n",
    "Update the wieghts in the direction of v.  \n",
    "\n",
    "$$v \\leftarrow \\alpha v - \\epsilon \\nabla_\\theta J$$\n",
    "$$\\theta \\leftarrow \\theta + v$$  \n",
    "\n",
    "$\\epsilon$: learning rate.  \n",
    "$\\alpha$: momemtum coefficient.  \n",
    "The initial value of $v$ influence the converge, it usually starts at 0."
   ]
  },
  {
   "cell_type": "markdown",
   "metadata": {},
   "source": [
    "Commom values for $\\alpha$ are $0.5$, $0.9$ and $0.99$"
   ]
  },
  {
   "cell_type": "code",
   "execution_count": 5,
   "metadata": {},
   "outputs": [
    {
     "name": "stdout",
     "output_type": "stream",
     "text": [
      "1[1] Loss = 147.76861572265625\n",
      "1[301] Loss = 10.775410652160645\n",
      "1[601] Loss = 13.397440910339355\n",
      "1[901] Loss = 15.353017807006836\n",
      "Test accuracy = 0.9441 (9441/10000)\n",
      "2[1] Loss = 8.902735710144043\n",
      "2[301] Loss = 6.238028526306152\n",
      "2[601] Loss = 7.800531387329102\n",
      "2[901] Loss = 18.204063415527344\n",
      "Test accuracy = 0.9566 (9566/10000)\n",
      "3[1] Loss = 8.70993423461914\n",
      "3[301] Loss = 13.134697914123535\n",
      "3[601] Loss = 3.8357884883880615\n",
      "3[901] Loss = 11.406211853027344\n",
      "Test accuracy = 0.9635 (9635/10000)\n",
      "4[1] Loss = 1.6417672634124756\n",
      "4[301] Loss = 1.8813347816467285\n",
      "4[601] Loss = 4.965744495391846\n",
      "4[901] Loss = 8.417074203491211\n",
      "Test accuracy = 0.9665 (9665/10000)\n",
      "5[1] Loss = 7.727075099945068\n",
      "5[301] Loss = 6.806301593780518\n",
      "5[601] Loss = 14.669434547424316\n",
      "5[901] Loss = 4.21833610534668\n",
      "Test accuracy = 0.9715 (9715/10000)\n"
     ]
    }
   ],
   "source": [
    "LR = 0.001\n",
    "ALPHA = 0.9\n",
    "\n",
    "net = Net()\n",
    "\n",
    "vs = list()\n",
    "for w in net.parameters():\n",
    "    v = torch.zeros(w.shape, dtype=w.dtype)\n",
    "    vs.append(v)\n",
    "\n",
    "k = 1\n",
    "for epoch in range(NEPOCHS):\n",
    "\n",
    "    for batch_idx, (X, y) in enumerate(train_loader):\n",
    "        y_logits = net(X)\n",
    "        loss = criterion(y_logits, y)\n",
    "\n",
    "        net.zero_grad()\n",
    "        loss.backward()\n",
    "        params = list(net.parameters())\n",
    "        for i in range(len(params)):\n",
    "            w = params[i]\n",
    "            vs[i].data = ALPHA * vs[i].data - LR * w.grad.data\n",
    "            w.data.add_(vs[i].data)\n",
    "    \n",
    "    \n",
    "        k += 1\n",
    "        if batch_idx % 300 == 0:\n",
    "            print('{}[{}] Loss = {}'.format(epoch + 1, \n",
    "                                            batch_idx+1, loss.data))\n",
    "    \n",
    "    run_tests(net, test_loader)"
   ]
  },
  {
   "cell_type": "markdown",
   "metadata": {},
   "source": [
    "### SGD with Nestverov momentum"
   ]
  },
  {
   "cell_type": "markdown",
   "metadata": {},
   "source": [
    "Evaluates gradient after the current velocity is applied.  \n",
    "\n",
    "$$v \\leftarrow \\alpha v - \\epsilon \\nabla_\\theta J(\\theta + \\alpha v)$$\n",
    "$$\\theta \\leftarrow \\theta + v$$"
   ]
  },
  {
   "cell_type": "code",
   "execution_count": 6,
   "metadata": {},
   "outputs": [
    {
     "name": "stdout",
     "output_type": "stream",
     "text": [
      "1[1] Loss = 147.99777221679688\n",
      "1[301] Loss = 24.395904541015625\n",
      "1[601] Loss = 4.777647018432617\n",
      "1[901] Loss = 3.5287046432495117\n",
      "Test accuracy = 0.9523 (9523/10000)\n",
      "2[1] Loss = 4.8280181884765625\n",
      "2[301] Loss = 19.450077056884766\n",
      "2[601] Loss = 6.486504554748535\n",
      "2[901] Loss = 11.65528392791748\n",
      "Test accuracy = 0.962 (9620/10000)\n",
      "3[1] Loss = 4.934237003326416\n",
      "3[301] Loss = 14.634001731872559\n",
      "3[601] Loss = 15.99342155456543\n",
      "3[901] Loss = 2.7389774322509766\n",
      "Test accuracy = 0.9628 (9628/10000)\n",
      "4[1] Loss = 12.419322967529297\n",
      "4[301] Loss = 8.72746753692627\n",
      "4[601] Loss = 3.07930588722229\n",
      "4[901] Loss = 5.15720272064209\n",
      "Test accuracy = 0.9688 (9688/10000)\n",
      "5[1] Loss = 3.1968774795532227\n",
      "5[301] Loss = 22.001794815063477\n",
      "5[601] Loss = 2.966553211212158\n",
      "5[901] Loss = 3.1347455978393555\n",
      "Test accuracy = 0.97 (9700/10000)\n"
     ]
    }
   ],
   "source": [
    "LR = 0.001\n",
    "ALPHA = 0.9\n",
    "\n",
    "net = Net()\n",
    "\n",
    "vs = list()\n",
    "for w in net.parameters():\n",
    "    v = torch.zeros(w.shape, dtype=w.dtype)\n",
    "    vs.append(v)\n",
    "\n",
    "k = 1\n",
    "for epoch in range(NEPOCHS):\n",
    "\n",
    "    for batch_idx, (X, y) in enumerate(train_loader):\n",
    "        params = list(net.parameters())\n",
    "        for i in range(len(params)):\n",
    "            params[i].data.add_(ALPHA * vs[i])\n",
    "        \n",
    "        y_logits = net(X)       \n",
    "        loss = criterion(y_logits, y)\n",
    "\n",
    "        net.zero_grad()\n",
    "        loss.backward()\n",
    "\n",
    "        for i in range(len(params)):\n",
    "            w = params[i]\n",
    "            w.data.sub_(ALPHA * vs[i])\n",
    "            vs[i].data = ALPHA * vs[i].data - LR * w.grad.data\n",
    "            w.data.add_(vs[i].data)\n",
    "    \n",
    "    \n",
    "        k += 1\n",
    "        if batch_idx % 300 == 0:\n",
    "            print('{}[{}] Loss = {}'.format(epoch + 1, \n",
    "                                            batch_idx+1, loss.data))\n",
    "    \n",
    "    run_tests(net, test_loader)"
   ]
  },
  {
   "cell_type": "markdown",
   "metadata": {},
   "source": [
    "### Adagrad "
   ]
  },
  {
   "cell_type": "markdown",
   "metadata": {},
   "source": [
    "Scale gradients by the inverse of the sum of all squared previous gradients.  \n",
    "\n",
    "$$r\\leftarrow r + \\nabla_\\theta J \\odot \\nabla_\\theta J$$\n",
    "$$\\theta \\leftarrow \\theta - \\frac{\\epsilon}{\\sqrt{\\delta + r}} \\odot \\nabla_\\theta J$$  \n",
    "\n",
    "$\\epsilon$: learning rate.  \n",
    "$\\delta$: small constant ($10^{-7}$) to avoid division by $0$.  \n",
    "$r$ is initialized at $0$"
   ]
  },
  {
   "cell_type": "markdown",
   "metadata": {},
   "source": [
    "large gradient results in small learning rate.  \n",
    "small gradients results in large learning rate. \n",
    "It makes progress on more gently slopes directions of the parameters space.  \n",
    "Fast for convex optimization, but might also work for deep learning"
   ]
  },
  {
   "cell_type": "code",
   "execution_count": 7,
   "metadata": {},
   "outputs": [
    {
     "name": "stdout",
     "output_type": "stream",
     "text": [
      "1[1] Loss = 148.15203857421875\n",
      "1[301] Loss = 23.832956314086914\n",
      "1[601] Loss = 32.8941650390625\n",
      "1[901] Loss = 25.956357955932617\n",
      "Test accuracy = 0.8966 (8966/10000)\n",
      "2[1] Loss = 18.474563598632812\n",
      "2[301] Loss = 21.697593688964844\n",
      "2[601] Loss = 31.860767364501953\n",
      "2[901] Loss = 18.733186721801758\n",
      "Test accuracy = 0.9075 (9075/10000)\n",
      "3[1] Loss = 21.09713363647461\n",
      "3[301] Loss = 14.383761405944824\n",
      "3[601] Loss = 26.49991226196289\n",
      "3[901] Loss = 16.354877471923828\n",
      "Test accuracy = 0.9145 (9145/10000)\n",
      "4[1] Loss = 24.2746524810791\n",
      "4[301] Loss = 25.61415672302246\n",
      "4[601] Loss = 12.282295227050781\n",
      "4[901] Loss = 21.130104064941406\n",
      "Test accuracy = 0.9197 (9197/10000)\n",
      "5[1] Loss = 27.237180709838867\n",
      "5[301] Loss = 22.39988136291504\n",
      "5[601] Loss = 14.564952850341797\n",
      "5[901] Loss = 13.574392318725586\n",
      "Test accuracy = 0.923 (9230/10000)\n"
     ]
    }
   ],
   "source": [
    "LR = 0.001\n",
    "DELTA = 1e-7\n",
    "\n",
    "NEPOCHS = 5\n",
    "\n",
    "net = Net()\n",
    "\n",
    "rs = list()\n",
    "for w in net.parameters():\n",
    "    r = torch.zeros(w.shape, dtype=w.dtype)\n",
    "    rs.append(r)\n",
    "\n",
    "k = 1\n",
    "for epoch in range(NEPOCHS):\n",
    "\n",
    "    for batch_idx, (X, y) in enumerate(train_loader):        \n",
    "        y_logits = net(X)\n",
    "        \n",
    "        loss = criterion(y_logits, y)\n",
    "        net.zero_grad()\n",
    "        loss.backward()\n",
    "\n",
    "        params = list(net.parameters())\n",
    "        for i in range(len(params)):\n",
    "            w = params[i]\n",
    "            rs[i].data.add_(w.grad.data ** 2)\n",
    "            w.data.sub_(LR / torch.sqrt(DELTA+rs[i].data) * w.grad.data)\n",
    "    \n",
    "        k += 1\n",
    "        if batch_idx % 300 == 0:\n",
    "            print('{}[{}] Loss = {}'.format(epoch + 1, \n",
    "                                            batch_idx+1, loss.data))\n",
    "    \n",
    "    run_tests(net, test_loader)"
   ]
  },
  {
   "cell_type": "markdown",
   "metadata": {},
   "source": [
    "### RMSProp"
   ]
  },
  {
   "cell_type": "markdown",
   "metadata": {},
   "source": [
    "It's a modified version of Adagrad.  \n",
    "$r$ is now an exponentially dacying average.  \n",
    "\n",
    "$$r\\leftarrow \\rho r + (1 - \\rho) \\nabla_\\theta J \\odot \\nabla_\\theta J$$\n",
    "$$\\theta \\leftarrow \\theta - \\frac{\\epsilon}{\\sqrt{\\delta + r}} \\odot \\nabla_\\theta J$$  \n",
    "\n",
    "$\\rho$: day rate.  \n",
    "$\\epsilon$: learning rate.  \n",
    "$\\delta$: small constant ($10^{-6}$) to avoid division by $0$."
   ]
  },
  {
   "cell_type": "markdown",
   "metadata": {},
   "source": [
    "It gives better results than Adagrad for deep models"
   ]
  },
  {
   "cell_type": "code",
   "execution_count": 8,
   "metadata": {},
   "outputs": [
    {
     "name": "stdout",
     "output_type": "stream",
     "text": [
      "1[1] Loss = 146.45887756347656\n",
      "1[301] Loss = 31.71043586730957\n",
      "1[601] Loss = 6.81320333480835\n",
      "1[901] Loss = 25.885921478271484\n",
      "Test accuracy = 0.9478 (9478/10000)\n",
      "2[1] Loss = 6.4659600257873535\n",
      "2[301] Loss = 1.7969741821289062\n",
      "2[601] Loss = 17.53740692138672\n",
      "2[901] Loss = 9.817222595214844\n",
      "Test accuracy = 0.9523 (9523/10000)\n",
      "3[1] Loss = 4.522251129150391\n",
      "3[301] Loss = 1.0729795694351196\n",
      "3[601] Loss = 2.737246513366699\n",
      "3[901] Loss = 2.9322943687438965\n",
      "Test accuracy = 0.964 (9640/10000)\n",
      "4[1] Loss = 3.486811399459839\n",
      "4[301] Loss = 7.018847942352295\n",
      "4[601] Loss = 11.26497745513916\n",
      "4[901] Loss = 2.9154114723205566\n",
      "Test accuracy = 0.9675 (9675/10000)\n",
      "5[1] Loss = 10.053081512451172\n",
      "5[301] Loss = 6.813046932220459\n",
      "5[601] Loss = 9.22724437713623\n",
      "5[901] Loss = 11.63058853149414\n",
      "Test accuracy = 0.9796 (9796/10000)\n"
     ]
    }
   ],
   "source": [
    "LR = 0.001\n",
    "DELTA = 1e-6\n",
    "DECAY = 0.9\n",
    "\n",
    "NEPOCHS = 5\n",
    "\n",
    "net = Net()\n",
    "\n",
    "rs = list()\n",
    "for w in net.parameters():\n",
    "    r = torch.zeros(w.shape, dtype=w.dtype)\n",
    "    rs.append(r)\n",
    "\n",
    "k = 1\n",
    "for epoch in range(NEPOCHS):\n",
    "\n",
    "    for batch_idx, (X, y) in enumerate(train_loader):\n",
    "        y_logits = net(X)\n",
    "        \n",
    "        loss = criterion(y_logits, y)\n",
    "        net.zero_grad()\n",
    "        loss.backward()\n",
    "\n",
    "        params = list(net.parameters())\n",
    "        for i in range(len(params)):\n",
    "            w = params[i]\n",
    "            rs[i].data = DECAY * rs[i].data + (1-DECAY) * w.grad.data**2\n",
    "            w.data.sub_(LR / torch.sqrt(DELTA+rs[i].data) * w.grad.data)\n",
    "    \n",
    "        k += 1\n",
    "        if batch_idx % 300 == 0:\n",
    "            print('{}[{}] Loss = {}'.format(epoch + 1, \n",
    "                                            batch_idx+1, loss.data))\n",
    "    \n",
    "    run_tests(net, test_loader)"
   ]
  },
  {
   "cell_type": "markdown",
   "metadata": {},
   "source": [
    "## RMSProp with Neskerov momentum"
   ]
  },
  {
   "cell_type": "markdown",
   "metadata": {},
   "source": [
    "Add neskerov momemtum to RMSProp: \n",
    "\n",
    "$$r\\leftarrow \\rho r + (1 - \\rho) \\nabla_\\theta J \\odot \\nabla_\\theta J$$\n",
    "$$v \\leftarrow v - \\frac{\\epsilon}{\\sqrt{\\delta + r}} \\odot \\nabla_\\theta J$$  \n",
    "$$\\theta \\leftarrow \\theta + v$$  \n",
    "\n",
    "$v$ is a moving average of the scaled gradients"
   ]
  },
  {
   "cell_type": "code",
   "execution_count": 9,
   "metadata": {},
   "outputs": [
    {
     "name": "stdout",
     "output_type": "stream",
     "text": [
      "1[1] Loss = 147.57423400878906\n",
      "1[301] Loss = 19.61400604248047\n",
      "1[601] Loss = 18.796306610107422\n",
      "1[901] Loss = 6.967098236083984\n",
      "Test accuracy = 0.9329 (9329/10000)\n",
      "2[1] Loss = 20.245744705200195\n",
      "2[301] Loss = 17.187490463256836\n",
      "2[601] Loss = 23.345001220703125\n",
      "2[901] Loss = 53.19303894042969\n",
      "Test accuracy = 0.9312 (9312/10000)\n",
      "3[1] Loss = 23.377840042114258\n",
      "3[301] Loss = 20.069438934326172\n",
      "3[601] Loss = 18.485942840576172\n",
      "3[901] Loss = 21.879501342773438\n",
      "Test accuracy = 0.9371 (9371/10000)\n",
      "4[1] Loss = 12.797813415527344\n",
      "4[301] Loss = 8.611550331115723\n",
      "4[601] Loss = 17.89862060546875\n",
      "4[901] Loss = 11.844609260559082\n",
      "Test accuracy = 0.9357 (9357/10000)\n",
      "5[1] Loss = 8.426780700683594\n",
      "5[301] Loss = 7.616188049316406\n",
      "5[601] Loss = 9.39261245727539\n",
      "5[901] Loss = 12.512612342834473\n",
      "Test accuracy = 0.9318 (9318/10000)\n"
     ]
    }
   ],
   "source": [
    "LR = 0.001\n",
    "DELTA = 1e-6\n",
    "DECAY = 0.9\n",
    "ALPHA = 0.9\n",
    "\n",
    "NEPOCHS = 5\n",
    "\n",
    "net = Net()\n",
    "\n",
    "rs = list()\n",
    "vs = list()\n",
    "for w in net.parameters():\n",
    "    r = torch.zeros(w.shape, dtype=w.dtype)\n",
    "    v = torch.zeros(w.shape, dtype=w.dtype)\n",
    "    rs.append(r)\n",
    "    vs.append(v)\n",
    "    \n",
    "k = 1\n",
    "for epoch in range(NEPOCHS):\n",
    "\n",
    "    for batch_idx, (X, y) in enumerate(train_loader):\n",
    "        params = list(net.parameters())\n",
    "        for i in range(len(params)):\n",
    "            params[i].data.add_(ALPHA * vs[i])\n",
    "        \n",
    "        y_logits = net(X)\n",
    "        \n",
    "        loss = criterion(y_logits, y)\n",
    "        net.zero_grad()\n",
    "        loss.backward()\n",
    "\n",
    "        for i in range(len(params)):\n",
    "            w = params[i]\n",
    "            w.data.sub_(ALPHA * vs[i])\n",
    "            rs[i].data = DECAY * rs[i].data + (1-DECAY) * w.grad.data**2\n",
    "            vs[i].data = ALPHA * vs[i].data - LR / torch.sqrt(DELTA+rs[i].data) * w.grad.data\n",
    "            w.data.add_(vs[i].data)\n",
    "    \n",
    "        k += 1\n",
    "        if batch_idx % 300 == 0:\n",
    "            print('{}[{}] Loss = {}'.format(epoch + 1, \n",
    "                                            batch_idx+1, loss.data))\n",
    "    \n",
    "    run_tests(net, test_loader)"
   ]
  },
  {
   "cell_type": "markdown",
   "metadata": {},
   "source": [
    "### Adam"
   ]
  },
  {
   "cell_type": "markdown",
   "metadata": {},
   "source": [
    "Compute an estimate of the first-order and second-order moments.  \n",
    "Then correct the bias on these estimates.  \n",
    "These corrected estimates are then used to compute the weight updates."
   ]
  },
  {
   "cell_type": "markdown",
   "metadata": {},
   "source": [
    "$$s \\leftarrow \\rho_1 s + (1 - \\rho_1) \\nabla_\\theta J$$\n",
    "$$r \\leftarrow \\rho_2 r + (1 - \\rho_2) \\nabla_\\theta J \\odot \\nabla_\\theta J$$\n",
    "$$\\hat{s} \\leftarrow \\frac{s}{1 - \\rho_1^t}$$\n",
    "$$\\hat{r} \\leftarrow \\frac{r}{1 - \\rho_2^t}$$\n",
    "$$\\theta \\leftarrow \\theta - \\epsilon \\frac{\\hat{s}}{\\sqrt{\\hat{r}} + \\delta}$$  \n",
    "\n",
    "$t$: iteration counter.  \n",
    "$s$ et $r$: respectively first et second-order moments.  \n",
    "$\\hat{s}$ et $\\hat{r}$: respectively corrected first et second-order moments.  "
   ]
  },
  {
   "cell_type": "markdown",
   "metadata": {},
   "source": [
    "$\\epsilon$: learning rate (default: $0.001$)  \n",
    "$\\rho_1$: decay rate for first-order moments estimates (default: $0.9$)   \n",
    "$\\rho_2$: decay rate for second-order moments estimates (default: $0.999$)   \n",
    "$\\delta$: small contant to avoid division by zero (default: $10^{-8}$)"
   ]
  },
  {
   "cell_type": "code",
   "execution_count": 10,
   "metadata": {},
   "outputs": [
    {
     "name": "stdout",
     "output_type": "stream",
     "text": [
      "1[1] Loss = 147.97776794433594\n",
      "1[301] Loss = 10.19133186340332\n",
      "1[601] Loss = 15.101129531860352\n",
      "1[901] Loss = 9.226604461669922\n",
      "Test accuracy = 0.9548 (9548/10000)\n",
      "2[1] Loss = 8.047613143920898\n",
      "2[301] Loss = 8.893031120300293\n",
      "2[601] Loss = 5.449779510498047\n",
      "2[901] Loss = 5.434549808502197\n",
      "Test accuracy = 0.9713 (9713/10000)\n",
      "3[1] Loss = 3.4808223247528076\n",
      "3[301] Loss = 8.432893753051758\n",
      "3[601] Loss = 12.131757736206055\n",
      "3[901] Loss = 4.407227039337158\n",
      "Test accuracy = 0.9667 (9667/10000)\n",
      "4[1] Loss = 10.379000663757324\n",
      "4[301] Loss = 2.228745937347412\n",
      "4[601] Loss = 0.6432175636291504\n",
      "4[901] Loss = 6.346026420593262\n",
      "Test accuracy = 0.9686 (9686/10000)\n",
      "5[1] Loss = 2.1128761768341064\n",
      "5[301] Loss = 1.1721291542053223\n",
      "5[601] Loss = 5.869318008422852\n",
      "5[901] Loss = 6.652130126953125\n",
      "Test accuracy = 0.9679 (9679/10000)\n"
     ]
    }
   ],
   "source": [
    "LR = 0.001\n",
    "DELTA = 1e-8\n",
    "DEC1 = 0.9\n",
    "DEC2 = 0.999\n",
    "\n",
    "NEPOCHS = 5\n",
    "\n",
    "net = Net()\n",
    "\n",
    "s = list()\n",
    "r = list()\n",
    "for w in net.parameters():\n",
    "    v = torch.zeros(w.shape, dtype=w.dtype)\n",
    "    s.append(torch.zeros(w.shape, dtype=w.dtype))\n",
    "    r.append(torch.zeros(w.shape, dtype=w.dtype))\n",
    "    \n",
    "t = 1\n",
    "for epoch in range(NEPOCHS):\n",
    "\n",
    "    for batch_idx, (X, y) in enumerate(train_loader):\n",
    "        y_logits = net(X)\n",
    "        loss = criterion(y_logits, y)\n",
    "        net.zero_grad()\n",
    "        loss.backward()\n",
    "\n",
    "        params = list(net.parameters())\n",
    "        for i in range(len(params)):\n",
    "            w = params[i]\n",
    "            s[i].data = DEC1 * s[i].data + (1-DEC1) * w.grad.data\n",
    "            r[i].data = DEC2 * r[i].data + (1-DEC2) * w.grad.data**2\n",
    "            sc = s[i].data / (1 - DEC1**t)\n",
    "            rc = r[i].data / (1 - DEC2**t)\n",
    "\n",
    "            vs[i].data = ALPHA * vs[i].data - LR / torch.sqrt(DELTA+rs[i].data) * w.grad.data\n",
    "            w.data.sub_(LR * sc.data / (torch.sqrt(rc.data) + DELTA))\n",
    "            t += 1\n",
    "            \n",
    "            \n",
    "        if batch_idx % 300 == 0:\n",
    "            print('{}[{}] Loss = {}'.format(epoch + 1, \n",
    "                                            batch_idx+1, loss.data))\n",
    "    \n",
    "    run_tests(net, test_loader)"
   ]
  },
  {
   "cell_type": "code",
   "execution_count": null,
   "metadata": {},
   "outputs": [],
   "source": []
  }
 ],
 "metadata": {
  "kernelspec": {
   "display_name": "Python 3",
   "language": "python",
   "name": "python3"
  },
  "language_info": {
   "codemirror_mode": {
    "name": "ipython",
    "version": 3
   },
   "file_extension": ".py",
   "mimetype": "text/x-python",
   "name": "python",
   "nbconvert_exporter": "python",
   "pygments_lexer": "ipython3",
   "version": "3.6.7"
  }
 },
 "nbformat": 4,
 "nbformat_minor": 2
}
