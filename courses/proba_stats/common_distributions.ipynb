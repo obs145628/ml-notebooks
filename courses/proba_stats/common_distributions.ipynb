{
 "cells": [
  {
   "cell_type": "code",
   "execution_count": 1,
   "metadata": {},
   "outputs": [],
   "source": [
    "import sys\n",
    "sys.path.append('../../pyutils')\n",
    "\n",
    "import numpy as np\n",
    "import matplotlib.pyplot as plt\n",
    "import pandas as pd\n",
    "\n",
    "import metrics\n",
    "import utils"
   ]
  },
  {
   "cell_type": "markdown",
   "metadata": {},
   "source": [
    "# Bernoulli Distribution\n",
    "\n",
    "$$X \\sim B(p)$$\n",
    "\n",
    "$X$ is a single binary random variable.\n",
    "\n",
    "Parameters:\n",
    "- $p \\in [0, 1]$: probability that X takes the value $1$\n",
    "\n",
    "$$P(X=0) = 1-p$$\n",
    "$$P(X=1) = p$$\n",
    "$$P(X=x) = p^x(1-p)^{1-x}$$\n",
    "$$\\mathbb{E}[X] = p$$\n",
    "$$\\text{Var}(x) = p(1 - p)$$"
   ]
  },
  {
   "cell_type": "code",
   "execution_count": 2,
   "metadata": {},
   "outputs": [
    {
     "name": "stdout",
     "output_type": "stream",
     "text": [
      "E[X]: 0.399961\n",
      "Var[X]: 0.2399921984789999 0.24\n"
     ]
    }
   ],
   "source": [
    "N = 1000000\n",
    "p = 0.4\n",
    "x = (np.random.rand(N) < p).astype(np.int)\n",
    "    \n",
    "print('E[X]:', np.mean(x))\n",
    "print('Var[X]:', np.var(x), p * (1-p))"
   ]
  },
  {
   "cell_type": "markdown",
   "metadata": {},
   "source": [
    "# Binomial distribution\n",
    "\n",
    "$$X \\sim B(n, p)$$\n",
    "\n",
    "$X$ is a single discrete value, corresponding to the number of successes when repeating $n$ independant Binomial experiments.\n",
    "\n",
    "Parameters:\n",
    "- $n$: number of trials\n",
    "- $p \\in [0, 1]$: success probability for each trial.\n",
    "\n",
    "$p(X = k)$: $k$: number of successes.\n",
    "\n",
    "$$\\text{PMF: } f(k) = \\binom{n}{k} p^k(1-p)^{n-k}$$\n",
    "$$\\mathbb{E}[X] = np$$\n",
    "$$\\text{Var}(X) = np(1 - p)$$\n",
    "\n",
    "$$\\binom{n}{k} = \\frac{n!}{k!(n-k)!}$$"
   ]
  },
  {
   "cell_type": "code",
   "execution_count": 3,
   "metadata": {},
   "outputs": [
    {
     "name": "stdout",
     "output_type": "stream",
     "text": [
      "E[X]: 2.798516 2.8000000000000003\n",
      "Var[X]: 1.6795441977440004 1.6800000000000002\n"
     ]
    }
   ],
   "source": [
    "def rand_binomial(n, p):\n",
    "    data = (np.random.rand(n) < p).astype(np.int)\n",
    "    return np.sum(data)\n",
    "\n",
    "N = 1000000\n",
    "n = 7\n",
    "p = 0.4\n",
    "x = np.array([rand_binomial(n,p) for _ in range(N)])\n",
    "    \n",
    "print('E[X]:', np.mean(x), n*p)\n",
    "print('Var[X]:', np.var(x), n*p * (1-p))"
   ]
  },
  {
   "cell_type": "markdown",
   "metadata": {},
   "source": [
    "# Multinoulli (Categorical) Distribution\n",
    "\n",
    "$X$ is a single discrete random variable with $k$ different states.\n",
    "\n",
    "Parameters:\n",
    "- $p_i$: probability that $x$ takes the value $i$: $\\sum p_i = 1$, $p_i >= 0$\n",
    "\n",
    "$$p(X=i) = p_i$$"
   ]
  },
  {
   "cell_type": "markdown",
   "metadata": {},
   "source": [
    "# Multinomial distribution\n",
    "\n",
    "$X$ is a discrete vector of size $k$, corresponding to the number of times each states it obtained when repeating $n$ independant Multinoulli experiments.\n",
    "\n",
    "Parameters:\n",
    "- $n$: number of trials\n",
    "- $p_i$: probability of event $i$: $\\sum p_i = 1$, $p_i >= 0$\n",
    "\n",
    "$X$ discrete vector of size $K$: $X_i$: number of realisations of the event $i$.\n",
    "\n",
    "$$\\text{PMF: } f(x) = \\binom{n}{x_1\\text{...} x_k} \\prod_{i=1}^K p_i^{x_i}$$\n",
    "\n",
    "$$\\mathbb{E}[X_i] = np_i$$\n",
    "$$\\text{Var}(X_i) = np_i(1 - p_i)$$\n",
    "$$\\text{Cov}(X_i, X_j) = -np_ip_j \\space (i \\neq j)$$\n",
    "\n",
    "$$\\binom{n}{k_1 \\text{...} k_m}= \\frac{n!}{\\prod_{i=1}^m k_i!}$$"
   ]
  },
  {
   "cell_type": "code",
   "execution_count": 4,
   "metadata": {},
   "outputs": [
    {
     "name": "stdout",
     "output_type": "stream",
     "text": [
      "p[0]: 0.100429\n",
      "p[1]: 0.600095\n",
      "p[2]: 0.299476\n"
     ]
    }
   ],
   "source": [
    "def rand_multinomial(p):\n",
    "    s = 0\n",
    "    p2 = np.empty(len(p))\n",
    "    for i in range(len(p)-1):\n",
    "        s += p[i]\n",
    "        p2[i] = s\n",
    "    p2[-1] = 1\n",
    "    \n",
    "    u = np.random.rand()\n",
    "    k = 0\n",
    "    while u > p2[k]:\n",
    "        k += 1\n",
    "    return k\n",
    "\n",
    "N = 1000000\n",
    "x = np.empty(N).astype(np.int)\n",
    "p = [0.1, 0.6, 0.3]\n",
    "for i in range(N):\n",
    "    x[i] = rand_multinomial(p)\n",
    "    \n",
    "print('p[0]:', np.mean(x==0))\n",
    "print('p[1]:', np.mean(x==1))\n",
    "print('p[2]:', np.mean(x==2))"
   ]
  },
  {
   "cell_type": "markdown",
   "metadata": {},
   "source": [
    "# Normal (Gaussian) distribution\n",
    "\n",
    "$$X \\sim \\mathcal{N}(\\mu, \\sigma^2)$$\n",
    "Parameters:\n",
    "- $\\mu$: mean\n",
    "- $\\sigma^2 \\geq 0$: variance\n",
    "\n",
    "\n",
    "$$\\text{PDF: } f(x) = \\frac{1}{\\sqrt{2\\pi \\sigma^2}} \\text{exp}(-\\frac{(x - \\mu)^2}{2\\sigma^2})$$\n",
    "\n",
    "$$\\text{CDF: } F(x) = \\frac{1}{2}[1 + \\text{erf}(\\frac{x - \\mu}{\\sigma \\sqrt{2}})]$$\n",
    "$$\\mathbb{E}[X] = \\mu$$\n",
    "$$\\text{Var}(X) = \\sigma^2$$\n",
    "\n",
    "$$ \\text{erf}(x) = \\frac{1}{\\sqrt{\\pi}} \\int_{-x}^{x} e^{-t^2}dt$$"
   ]
  },
  {
   "cell_type": "code",
   "execution_count": 20,
   "metadata": {},
   "outputs": [
    {
     "data": {
      "image/png": "[encoded data removed]",
      "text/plain": [
       "<Figure size 432x288 with 1 Axes>"
      ]
     },
     "metadata": {
      "needs_background": "light"
     },
     "output_type": "display_data"
    }
   ],
   "source": [
    "def normal_pdf(mu, v, x):\n",
    "    den = np.sqrt(2 * np.pi * v)\n",
    "    num = - (x - mu)**2 / (2*v)\n",
    "    return np.exp(num) / den\n",
    "\n",
    "x = np.linspace(-3, 3, 1000)\n",
    "\n",
    "plt.plot(x, normal_pdf(0, 0.5, x), c='r', label='N(0, 0.5)')\n",
    "plt.plot(x, normal_pdf(0, 1, x), c='b', label='N(0, 1)')\n",
    "plt.plot(x, normal_pdf(0, 1.5, x), c='y', label='N(0, 1,5)')\n",
    "plt.plot(x, normal_pdf(2, 1, x), c='c', label='N(2, 1)')\n",
    "plt.legend()\n",
    "plt.show()"
   ]
  },
  {
   "cell_type": "code",
   "execution_count": 8,
   "metadata": {},
   "outputs": [
    {
     "name": "stdout",
     "output_type": "stream",
     "text": [
      "mu = -1.3\n",
      "std = 4.5\n",
      "[NP]  mu = -1.3024379871871659\n",
      "[NP] std = 4.501642969095594\n",
      "[BM]  mu = -1.297735913332944\n",
      "[BM] std = 4.504405984140731\n",
      "[MP]  mu = -1.30190262374593\n",
      "[MP] std = 4.492849401919523\n"
     ]
    }
   ],
   "source": [
    "_box_muller = [None]\n",
    "def norm_box_muller():    \n",
    "    if _box_muller[0] is not None:\n",
    "        res = _box_muller[0]\n",
    "        _box_muller[0] = None\n",
    "        return res\n",
    "    \n",
    "    u1, u2 = np.random.rand(2)\n",
    "    r = np.sqrt(-2*np.log(u1))\n",
    "    theta = 2*np.pi*u2\n",
    "    x = r * np.cos(theta)\n",
    "    y = r * np.sin(theta)\n",
    "    _box_muller[0] = x\n",
    "    return y\n",
    "\n",
    "_marsagalia_polar = [None]\n",
    "def norm_marsagalia_polar():\n",
    "    if _marsagalia_polar[0] is not None:\n",
    "        res = _marsagalia_polar[0]\n",
    "        _marsagalia_polar[0] = None\n",
    "        return res\n",
    "\n",
    "    while True:\n",
    "        x, y = 2 * np.random.rand(2) - 1\n",
    "        s = x**2 + y**2\n",
    "        if s < 1 and s>0:\n",
    "            break\n",
    "    \n",
    "    f = np.sqrt((-2*np.log(s))/s)\n",
    "    a, b = x*f, y*f\n",
    "    _marsagalia_polar[0] = a\n",
    "    return b\n",
    "    \n",
    "    \n",
    "\n",
    "N = 1000000\n",
    "\n",
    "print('mu =', -1.3)\n",
    "print('std =', 4.5)\n",
    "\n",
    "x = np.random.randn(N) * 4.5 - 1.3\n",
    "print('[NP]  mu =', np.mean(x))\n",
    "print('[NP] std =', np.std(x))\n",
    "\n",
    "\n",
    "x = np.empty(N)\n",
    "for i in range(N): x[i] = 4.5 * norm_box_muller() - 1.3\n",
    "print('[BM]  mu =', np.mean(x))\n",
    "print('[BM] std =', np.std(x))\n",
    "\n",
    "x = np.empty(N)\n",
    "for i in range(N): x[i] = 4.5 * norm_marsagalia_polar() - 1.3\n",
    "print('[MP]  mu =', np.mean(x))\n",
    "print('[MP] std =', np.std(x))"
   ]
  },
  {
   "cell_type": "code",
   "execution_count": 6,
   "metadata": {},
   "outputs": [
    {
     "name": "stdout",
     "output_type": "stream",
     "text": [
      "0.2533471031357997\n",
      "0.2533471031357997\n",
      "0.0\n",
      "[QT]  mu = -1.2872096818185164\n",
      "[QT] std = 4.495161040532779\n"
     ]
    }
   ],
   "source": [
    "#Generate from gaussian using quantile function\n",
    "import scipy.stats\n",
    "\n",
    "\n",
    "def norm_cdf(x):\n",
    "    return 1/2 * (1 + scipy.special.erf(x / np.sqrt(2)))\n",
    "\n",
    "def norm_quantile(x):\n",
    "    def f(v):\n",
    "        return norm_cdf(v) - x\n",
    "    return scipy.optimize.brentq(f, -10, 10)\n",
    "\n",
    "def randn_qt(size):\n",
    "    u = np.random.rand(size)\n",
    "    x = np.array([norm_quantile(v) for v in u])\n",
    "    return x\n",
    "\n",
    "v = 0.6\n",
    "b1 = scipy.stats.norm.ppf(v)\n",
    "b2 = norm_quantile(v)\n",
    "print(b1)\n",
    "print(b2)\n",
    "print(metrics.tdist(b1, b2))\n",
    "\n",
    "\n",
    "\n",
    "\n",
    "\n",
    "x = randn_qt(100000) * 4.5 - 1.3\n",
    "print('[QT]  mu =', np.mean(x))\n",
    "print('[QT] std =', np.std(x))"
   ]
  },
  {
   "cell_type": "markdown",
   "metadata": {},
   "source": [
    "# Multivariate Normal distribution\n",
    "\n",
    "$$X \\sim \\mathcal{N}(\\mu, \\Sigma)$$\n",
    "Parameters:\n",
    "- $\\mu \\in \\mathbb{R}^p$: mean\n",
    "- $\\Sigma \\in \\mathbb{R}^{p*p}$: covariance matrix (positive semi-definite)\n",
    "\n",
    "$$\\text{PDF: } f(x) = ((2\\pi)^{p} \\text{det}(\\Sigma))^{-\\frac{1}{2}} \\exp(-\\frac{1}{2} (x - \\mu)^T \\Sigma^{-1}(x-\\mu))$$\n",
    "\n",
    "$$\\mathbb{E}[X] = \\mu$$\n",
    "$$\\text{Var}(X) = \\Sigma$$"
   ]
  },
  {
   "cell_type": "code",
   "execution_count": 7,
   "metadata": {},
   "outputs": [
    {
     "name": "stdout",
     "output_type": "stream",
     "text": [
      "mu = [ 0.5 -1.2  4.6]\n",
      "sig=\n",
      "[[  8.37 -15.9   -8.97]\n",
      " [-15.9   54.17  19.91]\n",
      " [ -8.97  19.91  13.1 ]]\n",
      "[NP] mu = [ 0.50485189 -1.21383279  4.5935555 ]\n",
      "[NP] sig=\n",
      "[[  8.35125271 -15.86230438  -8.9481059 ]\n",
      " [-15.86230438  54.06109102  19.86796618]\n",
      " [ -8.9481059   19.86796618  13.06720787]]\n",
      "mu = [ 0.50018062 -1.20214615  4.60379423]\n",
      "sig=\n",
      "[[  8.37394294 -15.91452694  -8.96771491]\n",
      " [-15.91452694  54.18370691  19.92748911]\n",
      " [ -8.96771491  19.92748911  13.09099718]]\n"
     ]
    }
   ],
   "source": [
    "\n",
    "rmu = np.array([0.5, -1.2, 4.6])\n",
    "rsig = np.array([[0.4, 1.2, -1.8],[2.5,-2.8,-1.9],[-1.4,6.7,2.5]])\n",
    "rsig = rsig.T @ rsig\n",
    "N = 1000000\n",
    "\n",
    "print('mu =', rmu)\n",
    "print('sig=')\n",
    "print(rsig)\n",
    "\n",
    "X = np.random.multivariate_normal(rmu, rsig, size=N, check_valid='raise')\n",
    "mu = np.mean(X, axis=0)\n",
    "sig = 1/N * (X - mu.reshape(1,3)).T @ (X - mu.reshape(1,3))\n",
    "print('[NP] mu =', mu)\n",
    "print('[NP] sig=')\n",
    "print(sig)\n",
    "\n",
    "\n",
    "def normal_multivariate(mu, sig, size):\n",
    "    N = size\n",
    "    p = len(mu)\n",
    "    X = np.empty((N,p))\n",
    "    d, V = np.linalg.eig(sig)\n",
    "    Q = np.sqrt(d).reshape(1,p) * V \n",
    "    \n",
    "    \n",
    "    for i in range(N):\n",
    "        xn = np.random.randn(p)\n",
    "        X[i] = Q @ xn + mu\n",
    "    return X\n",
    "    \n",
    "X = normal_multivariate(rmu, rsig, size=N)\n",
    "mu = np.mean(X, axis=0)\n",
    "sig = 1/N * (X - mu.reshape(1,3)).T @ (X - mu.reshape(1,3))\n",
    "print('mu =', mu)\n",
    "print('sig=')\n",
    "print(sig)"
   ]
  },
  {
   "cell_type": "markdown",
   "metadata": {},
   "source": [
    "# Exponential distribution\n",
    "\n",
    "X is a positive continuous variable with a sharp peak at $0$\n",
    "\n",
    "Parameters:\n",
    "- $\\lambda \\in \\mathbb{R}$,  $\\lambda > 0$: rate or inverse scale\n",
    "\n",
    "$$X \\in [0, \\infty[$$\n",
    "\n",
    "$$\\text{PDF: } f(x) = \\lambda \\exp(- \\lambda x)$$\n",
    "$$\\text{CDF: } F(x) = 1 - \\exp(- \\lambda x)$$\n",
    "$$\\mathbb{E}[x] = \\lambda^{-1}$$\n",
    "$$\\text{Var}(x) = \\lambda^{-2}$$"
   ]
  },
  {
   "cell_type": "code",
   "execution_count": 21,
   "metadata": {},
   "outputs": [
    {
     "data": {
      "image/png": "[encoded data removed]",
      "text/plain": [
       "<Figure size 432x288 with 1 Axes>"
      ]
     },
     "metadata": {
      "needs_background": "light"
     },
     "output_type": "display_data"
    }
   ],
   "source": [
    "def exponential_pdf(lbda, x):\n",
    "    return lbda * np.exp(-lbda * x)\n",
    "\n",
    "x = np.linspace(0, 5, 1000)\n",
    "\n",
    "plt.plot(x, exponential_pdf(.5, x), c='r', label='lambda = .5')\n",
    "plt.plot(x, exponential_pdf(1, x), c='b', label='lambda = 1')\n",
    "plt.plot(x, exponential_pdf(1.5, x), c='y', label='lambda = 1.5')\n",
    "plt.legend()\n",
    "plt.show()"
   ]
  },
  {
   "cell_type": "markdown",
   "metadata": {},
   "source": [
    "# Laplace Distribution\n",
    "\n",
    "$$X \\sim \\text{Laplace}(\\mu;\\gamma)$$\n",
    "\n",
    "X is a continous variabe with a shark peak at $\\mu$\n",
    "\n",
    "Parameters:\n",
    "- $\\mu \\in \\mathbb{R}$: mean\n",
    "- $\\gamma \\in \\mathbb{R}$, $\\gamma > 0$: scale\n",
    "\n",
    "$$\\text{PDF: } f(x) = \\frac{1}{2 \\gamma} \\exp(-\\frac{|x - \\mu|}{\\gamma})$$\n",
    "$$\\mathbb{E}[X] = \\mu$$\n",
    "$$\\text{Var}(X) = 2\\gamma^2$$"
   ]
  },
  {
   "cell_type": "code",
   "execution_count": 23,
   "metadata": {},
   "outputs": [
    {
     "data": {
      "image/png": "[encoded data removed]",
      "text/plain": [
       "<Figure size 432x288 with 1 Axes>"
      ]
     },
     "metadata": {
      "needs_background": "light"
     },
     "output_type": "display_data"
    }
   ],
   "source": [
    "def laplace_pdf(mu, b, x):\n",
    "    den = 2 * b\n",
    "    num = - np.abs(x - mu) / b\n",
    "    return np.exp(num) / den\n",
    "\n",
    "x = np.linspace(-3, 3, 1000)\n",
    "\n",
    "plt.plot(x, laplace_pdf(0, 0.5, x), c='r', label='Laplace(0, 0.5)')\n",
    "plt.plot(x, laplace_pdf(0, 1, x), c='b', label='Laplace(0, 1)')\n",
    "plt.plot(x, laplace_pdf(0, 1.5, x), c='y', label='Laplace(0, 1,5)')\n",
    "plt.plot(x, laplace_pdf(2, 1, x), c='c', label='Laplace(2, 1)')\n",
    "plt.legend()\n",
    "plt.show()"
   ]
  },
  {
   "cell_type": "markdown",
   "metadata": {},
   "source": [
    "# Dirac Distribution\n",
    "\n",
    "$X$ is a continous variable with a infitenely high peak at $\\mu$, and $0$ everywhere.\n",
    "\n",
    "Parameters:\n",
    "- $\\mu \\in \\mathbb{R}$: mean\n",
    "\n",
    "$$\\text{PDF}: f(x) = \\delta(x - \\mu)$$\n",
    "\n",
    "with $\\delta(x)$ the Dirac delta function, a function that is zero-valued everywhere except at $0$, and yet integrates to $1$."
   ]
  },
  {
   "cell_type": "markdown",
   "metadata": {},
   "source": [
    "# Empirical distribution\n",
    "\n",
    "X define an empirical distribution of size $m$ (eg: dataset) over countinous variables\n",
    "\n",
    "Parameters:\n",
    "- datset $\\{ x_1, \\text{...}, x_m \\}$\n",
    "\n",
    "$$\\text{PDF} f(x) = \\frac{1}{m} \\sum_{i=1}^m \\delta(x - x_i)$$\n",
    "\n",
    "The empirical distribution is the distribution when we sample data from a dataset.  \n",
    "This is the probability density that maximizes the likelihood of the training data."
   ]
  },
  {
   "cell_type": "markdown",
   "metadata": {},
   "source": [
    "# Beta distribution\n",
    "\n",
    "$$X \\sim \\text{Beta}(\\alpha, \\beta)$$\n",
    "\n",
    "Parameters:\n",
    "- $\\alpha \\in \\mathbb{R} > 0$\n",
    "- $\\beta \\in \\mathbb{R} > 0$\n",
    "\n",
    "The parameter $x \\in \\mathbb{R}$ must bet in $[0,1]$\n",
    "\n",
    "$$\\text{PDF: } f(x) = \\frac{x^{\\alpha-1} (1-x)^{\\beta - 1}}{B(\\alpha,\\beta)}$$\n",
    "\n",
    "$$\\text{where } B(\\alpha,\\beta) = \\frac{\\Gamma (\\alpha) \\Gamma(\\beta)}{\\Gamma (\\alpha + \\beta)}$$\n",
    "\n",
    "$$\\text{where } \\Gamma(z) = \\int_{0}^{+\\infty} x^{z-1} e^{-x}dx$$  \n",
    "\n",
    "$$E[X] = \\frac{\\alpha}{\\alpha + \\beta}$$\n",
    "$$\\text{Var}(X) = \\frac{\\alpha\\beta}{(\\alpha+\\beta)^2(\\alpha+\\beta+1)}$$\n",
    "\n",
    "The beta distribution is the conjugate prior probability distribution of the bernoulli, bonomial, and geometric distributions.  \n",
    "It is usually used to describe prior knowledge concerning the probability of success of an event."
   ]
  },
  {
   "cell_type": "markdown",
   "metadata": {},
   "source": [
    "# Dirichlet distribution\n",
    "\n",
    "$$X \\sim \\text{Dir}(\\alpha)$$\n",
    "\n",
    "Parameters:\n",
    "$\\alpha \\in \\mathbb{R}^K$, $K \\geq 2$, $\\alpha_k > 0$\n",
    "\n",
    "Input: $x \\in \\mathbb{R}^K$, with $x_k \\in [0,1]$, and $\\sum_{k=1}^Kx_k=1$\n",
    "\n",
    "$$\\text{PDF: } \\frac{1}{B(\\alpha)} \\prod_{i=1}^K x_i^{\\alpha_i-1}$$\n",
    "\n",
    "$$\\text{where } B(\\alpha) = \\frac{\\prod_{i=1}^K \\Gamma(\\alpha_i)}{\\Gamma(\\sum_{i=1}^K\\alpha_i)}$$\n",
    "\n",
    "$$E[X_i] = \\frac{\\alpha_i}{\\sum_{k=1}^K \\alpha_k}$$\n",
    "$$\\text{Var}(X_i) = \\frac{\\alpha_i(\\alpha_0 - \\alpha_i)}{\\alpha_0^2(\\alpha_0 + 1)}$$\n",
    "$$\\text{where } \\alpha_0 = \\sum_{i=1}^K \\alpha_i$$  \n",
    "\n",
    "The dirichlet distribution is a multivariate generalization of the beta distribution.  \n",
    "It's the conjugate prior probability distribution of the categorical and polynomial distribution."
   ]
  },
  {
   "cell_type": "markdown",
   "metadata": {},
   "source": [
    "# Mixture of distributions\n",
    "\n",
    "A mixture distribution is made up of several components distributions.  \n",
    "On each trial, the choice of which component distribution generates the sample is determined by a multinoulli distribution:\n",
    "\n",
    "$$P(x) = \\sum_i P(c=i) P(x|c=i)$$\n",
    "\n",
    "with $P(c)$ the multinoulli distribution, and $P(x|c=i)$ the PDF of the $i$-th component distribution.\n",
    "\n",
    "$c$ is a latent variable.  \n",
    "\n",
    "A common type on mixture models is the Gaussian mixture, where each component is a multivariate normal distribution.  \n",
    "Each component may have a separate $\\mu^{(i)}$ and $\\Sigma^{(i)}$, or they may have some constraints (eg sharing, special form of covariance).  \n",
    "A gaussian mixture model is a universal approximator of disenties, given enough components."
   ]
  },
  {
   "cell_type": "code",
   "execution_count": 50,
   "metadata": {},
   "outputs": [
    {
     "name": "stdout",
     "output_type": "stream",
     "text": [
      "mu = 0.20229981434366223 0.19999999999999996\n",
      "std = 1.4511170876225081 1.4882928118477645\n"
     ]
    }
   ],
   "source": [
    "def rand_gauss_mixture(means, stds, p):\n",
    "    c = np.random.choice(len(p), p=p)\n",
    "    x = np.random.randn() * stds[c] + means[c]\n",
    "    return x\n",
    "    \n",
    "means = np.array([-1, 1, 1])\n",
    "stds = np.array([0.8, 1.3, 1.1])\n",
    "p = np.array([0.4, 0.35, 0.25])\n",
    "\n",
    "N = 100000\n",
    "x = np.array([rand_gauss_mixture(means, stds, p) for _ in range(N)])\n",
    "\n",
    "print('mu =', np.mean(x), means @ p)\n",
    "print('std =', np.std(x), stds @ np.sqrt(p * (1-p)))"
   ]
  }
 ],
 "metadata": {
  "kernelspec": {
   "display_name": "Python 3",
   "language": "python",
   "name": "python3"
  },
  "language_info": {
   "codemirror_mode": {
    "name": "ipython",
    "version": 3
   },
   "file_extension": ".py",
   "mimetype": "text/x-python",
   "name": "python",
   "nbconvert_exporter": "python",
   "pygments_lexer": "ipython3",
   "version": "3.7.3"
  }
 },
 "nbformat": 4,
 "nbformat_minor": 2
}
