{
 "cells": [
  {
   "cell_type": "code",
   "execution_count": 1,
   "metadata": {},
   "outputs": [],
   "source": [
    "import sys\n",
    "sys.path.append('../../pyutils')\n",
    "\n",
    "import numpy as np\n",
    "import matplotlib.pyplot as plt\n",
    "import pandas as pd\n",
    "\n",
    "import metrics\n",
    "import utils"
   ]
  },
  {
   "cell_type": "markdown",
   "metadata": {},
   "source": [
    "# Decorrelation\n",
    "\n",
    "Let $X \\in \\mathbb{R}^{p*N}$ a matrix of $N$ observations with $p$ features. We suppose the matrix $X$ is centered.  \n",
    "The goal of decorrelation is to transform $X$ into a new matrix with a diagonal covariance matrix.  \n",
    "We need to find $W_D \\in \\mathbb{R}^{p*p}$ such that:\n",
    "$$Y = W_D X$$\n",
    "And the components of $Y$ are uncorrelated, that is:\n",
    "$$D = \\text{cov}(X)$$  \n",
    "\n",
    "Let's define the covariance matrix of $X$ is:\n",
    "$$\\Sigma = \\text{cov}(X) = E[XX^T] \\approx \\frac{1}{N} XX^T$$\n",
    "$\\Sigma$ is positive semi-definite, we can diagonalize it to get:\n",
    "$$\\Sigma = E^TDE$$\n",
    "$$E^T\\Sigma E=D$$  \n",
    "\n",
    "Solving for $D = \\text{cov}(Y)$, we get:\n",
    "$$W_D = E^T$$"
   ]
  },
  {
   "cell_type": "code",
   "execution_count": 2,
   "metadata": {},
   "outputs": [
    {
     "name": "stdout",
     "output_type": "stream",
     "text": [
      "(4, 37)\n",
      "[[ 4.73973045e-01 -1.96601688e-16 -4.43330745e-17 -2.56334903e-17]\n",
      " [-1.96601688e-16  9.46364391e-01  1.31403667e-16  4.79441863e-17]\n",
      " [-4.43330745e-17  1.31403667e-16  1.10494188e+00  1.32947986e-16]\n",
      " [-2.56334903e-17  4.79441863e-17  1.32947986e-16  1.22915718e+00]]\n"
     ]
    }
   ],
   "source": [
    "def decorr(X):\n",
    "    C = X @ X.T\n",
    "    d, E = np.linalg.eigh(C)\n",
    "    return E.T\n",
    "\n",
    "X = np.random.randn(4, 37)\n",
    "X -= np.mean(X, axis=1, keepdims=True)\n",
    "W = decorr(X)\n",
    "Y = W @ X\n",
    "print(Y.shape)\n",
    "print(np.cov(Y, bias=True))"
   ]
  },
  {
   "cell_type": "markdown",
   "metadata": {},
   "source": [
    "# Whitening\n",
    "\n",
    "The goal of decorrelation is to transform $X$ into a new matrix with a unit diagonal covariance matrix.  \n",
    "We need to find $W \\in \\mathbb{R}^{p*p}$ such that:\n",
    "$$Y = W X$$\n",
    "And the components of $Y$ are uncorrelated with unit variance, that is:\n",
    "$$\\text{cov}(X) = I_p$$\n",
    "\n",
    "Using the decorrelation method above, we get $W_D$ and $Y$ has uncorrelated components. we just need to divide each component by it's standard deviation in order to get unit variance:\n",
    "$$W = D^{-1/2}E^T$$"
   ]
  },
  {
   "cell_type": "code",
   "execution_count": 3,
   "metadata": {},
   "outputs": [
    {
     "name": "stdout",
     "output_type": "stream",
     "text": [
      "(4, 37)\n",
      "[[ 1.00000000e+00 -1.06628553e-16  1.16918680e-16  8.92014010e-17]\n",
      " [-1.06628553e-16  1.00000000e+00  2.68953154e-16 -5.07991631e-18]\n",
      " [ 1.16918680e-16  2.68953154e-16  1.00000000e+00  3.20306287e-17]\n",
      " [ 8.92014010e-17 -5.07991631e-18  3.20306287e-17  1.00000000e+00]]\n",
      "1.865246726087638e-15\n"
     ]
    }
   ],
   "source": [
    "def whitening(X):\n",
    "    N = X.shape[1]\n",
    "    C = (X @ X.T) / N\n",
    "    d, E = np.linalg.eigh(C)\n",
    "    return E.T / np.sqrt(d).reshape(-1,1)\n",
    "    \n",
    "\n",
    "X = np.random.randn(4, 37)\n",
    "X -= np.mean(X, axis=1, keepdims=True)\n",
    "W = whitening(X)\n",
    "Y = W @ X\n",
    "print(Y.shape)\n",
    "C = np.cov(Y, bias=True)\n",
    "print(C)\n",
    "print(metrics.tdist(C, np.eye(len(C))))"
   ]
  }
 ],
 "metadata": {
  "kernelspec": {
   "display_name": "Python 3",
   "language": "python",
   "name": "python3"
  },
  "language_info": {
   "codemirror_mode": {
    "name": "ipython",
    "version": 3
   },
   "file_extension": ".py",
   "mimetype": "text/x-python",
   "name": "python",
   "nbconvert_exporter": "python",
   "pygments_lexer": "ipython3",
   "version": "3.6.7"
  }
 },
 "nbformat": 4,
 "nbformat_minor": 2
}
