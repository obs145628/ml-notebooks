{
 "cells": [
  {
   "cell_type": "markdown",
   "metadata": {},
   "source": [
    "# Definition\n",
    "\n",
    "A structured probabilistic model or graphical model is a graph $G = <V,E>$.  \n",
    "It can be used to represent the joint probability distribution over several variables, in a structured manner, in order to reduce the number of parameters needed to represent such a distribution.  \n",
    "\n",
    "$V$ is the set of vertices, each vertex represent a random variable.  \n",
    "$E$ is the set of edges, each edge represent the interaction between the 2 variables. The absence of edge between 2 vertices indicates that the 2 corresponding variables are independant given the other variables."
   ]
  },
  {
   "cell_type": "markdown",
   "metadata": {},
   "source": [
    "# Directed models\n",
    "\n",
    "In directed models, the graph is directed, and each vertex contains a factor that is the probability distribution over $x_i$, given the parents of $x_i$ denoted $P_{a_G}(x_i)$:\n",
    "$$p(x) = \\prod_i p(x_i|P_{a_G}(x_i))$$"
   ]
  },
  {
   "cell_type": "markdown",
   "metadata": {},
   "source": [
    "# Undirected models\n",
    "\n",
    "In undirected models, the graph is undirected.  \n",
    "They are also called Markov Random Field.  \n",
    "\n",
    "Two vertices $X$ and $Y$ are adjacent is there is an edge between them: $X \\sim Y$.  \n",
    "A path $X_1,\\text{...},X_n$ is a set of joined vertices; $X_{i-1} \\sim X_i$ for $i=2,\\text{...},n$.  \n",
    "A complete graph is a graph with every pair of vertices joined by an edge.  \n",
    "A subgraph $U \\in V$ is a subject of vertices with their edges.  \n",
    "\n",
    "In a markov graph, the absence of an edge implies that the random variables are conditionally independant given the other variables:\n",
    "$$\\text{No edge joining $X$ and $Y$} \\iff X \\perp Y | \\text{rest}$$\n",
    "\n",
    "$A,B,C$ subgraphs. $C$ separate $A$ and $B$ if every path between $A$ and $B$ intersects $C$.\n",
    "$$\\text{$C$ separates $A$ and $B$} \\implies A \\perp B | C$$\n",
    "\n",
    "A clique is a complete subgraph. A clique is said maximal is no other vertices can be added to it and still yield a clique.  \n",
    "\n",
    "A probability density function over $\\mathcal{G}$ can be represented as:\n",
    "$$f(x) = \\frac{1}{Z} \\prod_{i} \\phi^{(i)}(C^{(i)})$$\n",
    "\n",
    "Each $C^{(i)}$ is a maximal clique, it's an undirectd model associated with a factor $\\phi^{(i)}(C^{(i)})$. These factors are just non-negative functions, but there is no garantee that they sum to $1$.  \n",
    "They capture dependnce in $C^{(i)}$ by scoring certain configurations higher than others.  \n",
    "\n",
    "In order to get a probability distribution, we divide by $Z$, the normilazing constant, also called the partition function:\n",
    "$$Z = \\sum_{x \\in X} \\prod_{i} \\phi^{(i)}(C^{(i)})$$"
   ]
  }
 ],
 "metadata": {
  "kernelspec": {
   "display_name": "Python 3",
   "language": "python",
   "name": "python3"
  },
  "language_info": {
   "codemirror_mode": {
    "name": "ipython",
    "version": 3
   },
   "file_extension": ".py",
   "mimetype": "text/x-python",
   "name": "python",
   "nbconvert_exporter": "python",
   "pygments_lexer": "ipython3",
   "version": "3.7.3"
  }
 },
 "nbformat": 4,
 "nbformat_minor": 2
}
