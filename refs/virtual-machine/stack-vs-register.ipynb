{
 "cells": [
  {
   "cell_type": "markdown",
   "metadata": {},
   "source": [
    "# stack-based\n",
    "\n",
    "Instructions operate with a stack operands. They pop argument from the stack, do a computation, and pup the result on the stack.  \n",
    "For example, add instructions doesn't have any arguments, and does:\n",
    "- pop $y$ \n",
    "- pop $x$\n",
    "- res $\\leftarrow x + y$\n",
    "- push res\n",
    "\n",
    "add instruction doesn't have any argument, and can be encoded usually with only 1 byte.  \n",
    "\n",
    "# register-based\n",
    "\n",
    "Instructions operate with many virtual registers, even though the actual CPU has less registers. Instructions read input arguments from registers, and store the result in a register.  \n",
    "For example, add instructions have 3 arguments: `add r3, r1, r2`, and it performs: $r3 \\leftarrow r1 + r2$.  \n",
    "Add instructions also need to encode the 3 registers, with usually takes a few bits for each.\n",
    "\n",
    "# Stack based vs Registed Based\n",
    "\n",
    "- stack-based instructions have a shorted encoding\n",
    "- stack-based code need much more instructionns\n",
    "- usually stack-based binary program is smaller\n",
    "- register-based program runs faster\n",
    "- stack-based easier to implement for broad range of architectures. (Register-based not convenient with archs with very little registers)."
   ]
  },
  {
   "cell_type": "markdown",
   "metadata": {},
   "source": [
    "# Refs\n",
    "\n",
    "- [Stack Based vs Register Based Virtual Machine Architecture, and the Dalvik VM](https://www.codeproject.com/Articles/461052/Stack-Based-vs-Register-Based-Virtual-Machine-Arch)"
   ]
  }
 ],
 "metadata": {
  "kernelspec": {
   "display_name": "Python 3",
   "language": "python",
   "name": "python3"
  },
  "language_info": {
   "codemirror_mode": {
    "name": "ipython",
    "version": 3
   },
   "file_extension": ".py",
   "mimetype": "text/x-python",
   "name": "python",
   "nbconvert_exporter": "python",
   "pygments_lexer": "ipython3",
   "version": "3.6.9"
  }
 },
 "nbformat": 4,
 "nbformat_minor": 2
}
