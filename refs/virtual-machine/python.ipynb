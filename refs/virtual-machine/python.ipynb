{
 "cells": [
  {
   "cell_type": "markdown",
   "metadata": {},
   "source": [
    "# Python bytecode and virtual machine\n",
    "\n",
    "\n",
    "CPython is the official implementation of Python, written in C.  \n",
    "Internally, the python code is converted to some bytecode, that gets executed by a virtual machine.  \n",
    "\n",
    "A few differences with the others:\n",
    "- The bytecode is really defined for Python, it isn't used by other languages.\n",
    "- There's no JIT or AOT compilation, the VM simply interprets the bytecode.  \n",
    "\n",
    "The bytecode is stack-based, OOP and with dynamic operations.  \n",
    "Actually the bytecode is really simple to understand. It syntax is really close to Python, except that it is linearized.  \n",
    "Contrary to other bytecodes you can easily read and understand it, even without the documentation.\n",
    "What's more, the compiler doesn't performs much optimisations on the bytecode.\n",
    "This makes it easy to maintain, update, and debug."
   ]
  },
  {
   "cell_type": "markdown",
   "metadata": {},
   "source": [
    "# Links\n",
    "\n",
    "- [dis- Disassembler for Python bytecode¶](https://docs.python.org/3/library/dis.html)\n",
    "- [An introduction to Python bytecode](https://opensource.com/article/18/4/introduction-python-bytecode)\n",
    "- [Inside The Python Virtual Machine](https://leanpub.com/insidethepythonvirtualmachine)"
   ]
  }
 ],
 "metadata": {
  "kernelspec": {
   "display_name": "Python 3",
   "language": "python",
   "name": "python3"
  },
  "language_info": {
   "codemirror_mode": {
    "name": "ipython",
    "version": 3
   },
   "file_extension": ".py",
   "mimetype": "text/x-python",
   "name": "python",
   "nbconvert_exporter": "python",
   "pygments_lexer": "ipython3",
   "version": "3.6.9"
  }
 },
 "nbformat": 4,
 "nbformat_minor": 2
}
