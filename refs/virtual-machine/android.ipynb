{
 "cells": [
  {
   "cell_type": "markdown",
   "metadata": {},
   "source": [
    "# Android: DVM and ART\n",
    "\n",
    "# DVM\n",
    "\n",
    "DVM (Dalvik Virtual Machine), created for mobile. It is registed based.  \n",
    "DVM bytecode are .dex files.  \n",
    ".class files are converted to .dex files.\n",
    "\n",
    "# ART\n",
    "\n",
    "ART (Android Runtime) use AOT (Ahead Of Time) compiliation.  \n",
    "Usually perform more time-consuming and advanced optimisations than JIT.\n",
    "\n",
    "Art use dex2oat to compile .dex files and perform AOT compilation when installing an application.  \n",
    "Beter GC in ART."
   ]
  },
  {
   "cell_type": "markdown",
   "metadata": {},
   "source": [
    "# Refs\n",
    "\n",
    "- [Android Internals 101: ART vs. DVM Deep Dive ](https://dzone.com/articles/android-internals-101-art-vs-dvm-deep-dive)\n",
    "- [Dalvik bytecode](https://source.android.com/devices/tech/dalvik/dalvik-bytecode)\n",
    "\n",
    "# Links\n",
    "\n",
    "- https://www.journaldev.com/23464/android-runtime-dvm-vs-art-aot-vs-jit\n",
    "\n",
    "- [THE DALVIK VIRTUAL MACHINE ARCHITECTURE](http://www.davidehringer.com/software/android/The_Dalvik_Virtual_Machine.pdf)\n",
    "- [Android Runtime (ART) and Dalvik](https://source.android.com/devices/tech/dalvik/index.html)"
   ]
  }
 ],
 "metadata": {
  "kernelspec": {
   "display_name": "Python 3",
   "language": "python",
   "name": "python3"
  },
  "language_info": {
   "codemirror_mode": {
    "name": "ipython",
    "version": 3
   },
   "file_extension": ".py",
   "mimetype": "text/x-python",
   "name": "python",
   "nbconvert_exporter": "python",
   "pygments_lexer": "ipython3",
   "version": "3.6.9"
  }
 },
 "nbformat": 4,
 "nbformat_minor": 2
}
