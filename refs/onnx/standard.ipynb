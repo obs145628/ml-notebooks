{
 "cells": [
  {
   "cell_type": "markdown",
   "metadata": {},
   "source": [
    "# ONNX: Open Neural Network Exchange Format\n",
    "\n",
    "Standard formart to represent deep learning models.  \n",
    "ONNX ML: For more classic ML models.\n",
    "\n",
    "Allow Framework Interoperability.  \n",
    "Can train model in one framework, do inference in another.\n",
    "\n",
    "There are 2 kind of tools:\n",
    "\n",
    "- Frontends:  Convert to ONNX Format.  \n",
    "    Caffe, CNTK, CoreML, Keras, LibSVM, Matlba, ML.NET, PyTorch, Scikit-Learn, TensorFlow, others\n",
    "\n",
    "- Backend: Run ONNX model.  \n",
    "    Caffe, CNTK, CoreML, Matlab, MXNet, Tensorflow, TensorRT, ONNX Runtime, Windows ML, others\n"
   ]
  }
 ],
 "metadata": {
  "kernelspec": {
   "display_name": "Python 3",
   "language": "python",
   "name": "python3"
  },
  "language_info": {
   "codemirror_mode": {
    "name": "ipython",
    "version": 3
   },
   "file_extension": ".py",
   "mimetype": "text/x-python",
   "name": "python",
   "nbconvert_exporter": "python",
   "pygments_lexer": "ipython3",
   "version": "3.6.9"
  }
 },
 "nbformat": 4,
 "nbformat_minor": 2
}
