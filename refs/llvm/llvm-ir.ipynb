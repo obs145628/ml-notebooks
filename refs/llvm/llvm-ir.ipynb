{
 "cells": [
  {
   "cell_type": "markdown",
   "metadata": {},
   "source": [
    "LLVM ir file contains a bunch on functions definitions.\n",
    "\n",
    "Each function has:\n",
    "- some attributes\n",
    "- a signature (typed)\n",
    "- a function body\n",
    "\n",
    "The body is just a sequence of basic blocks. Each basic block start with a label (expect the first), and finish with a jump or conditional branching.  \n",
    "\n",
    "LLVM IR is register-based. It has an infinite number of registers, that can be named (eg \\%name), or for temporary values an automatic name is given: \\%1, \\%2, etc.  \n",
    "\n",
    "Functions arguments are stored by default on registers \\%0, \\%1, etc.  \n",
    "\n",
    "On instructions any value operand register may be replaced by an immediate value."
   ]
  },
  {
   "cell_type": "markdown",
   "metadata": {},
   "source": [
    "# Instructions\n",
    "\n",
    "## Numerics\n",
    "\n",
    "- add: \\%dst = add 'type' \\%op1 \\%op2\n",
    "- sub: \\%dst = sub 'type' \\%op1 \\%op2\n",
    "- mul: \\%dst = mul 'type' \\%op1 \\%op2\n",
    "- div: \\%dst = udiv 'type' \\%op1 \\%op2 (or sdiv)\n",
    "\n",
    "Similar operations for binary: and, or, xor, shifts with shl, shr, lshr.\n",
    "\n",
    "## Memory\n",
    "\n",
    "- alloca: allocate memory on stack for local variable, store address in register.  \n",
    "    \\%dst = alloca T, align x\n",
    "- load: \\% dst = load T, T* \\%src, align x\n",
    "- store: store T \\%src, T* \\% dst, align x\n",
    "\n",
    "## Control flow\n",
    "\n",
    "- uncoditional branching: br label \\%l\n",
    "- condition branching: br i1 %val , label \\%ltrue, label \\%lfalse\n",
    "\n",
    "We usually use icmp or fcmp insruction right before to set \\%val.\n",
    "- %val = icmp cond T %op1, %op2  \n",
    "    cond might be any of eq, ne, ugt, sge, etc\n",
    "- %val = fcmp cond T %op1, %op2  \n",
    "    cond might be any of oeq, ogt, ult, etc\n",
    "\n",
    "- function call: call Tret label(T1 \\%arg1 T2 \\%arg2 etc)\n",
    "- function return void: ret void\n",
    "- function return value: ret T %val"
   ]
  }
 ],
 "metadata": {
  "kernelspec": {
   "display_name": "Python 3",
   "language": "python",
   "name": "python3"
  },
  "language_info": {
   "codemirror_mode": {
    "name": "ipython",
    "version": 3
   },
   "file_extension": ".py",
   "mimetype": "text/x-python",
   "name": "python",
   "nbconvert_exporter": "python",
   "pygments_lexer": "ipython3",
   "version": "3.6.9"
  }
 },
 "nbformat": 4,
 "nbformat_minor": 2
}
