{
 "cells": [
  {
   "cell_type": "markdown",
   "metadata": {},
   "source": [
    "# Classic ML papers"
   ]
  },
  {
   "cell_type": "markdown",
   "metadata": {},
   "source": [
    "## Linear Models\n",
    "\n",
    "- Lasso Regression  \n",
    "  Regression shrinkage and selection via the lasso - Tibshirani, R. (1996) - [PDF](http://www.math.yorku.ca/~hkj/Teaching/6621Winter2013/Coverage/lasso.pdf)\n",
    "\n",
    "\n",
    "- Least angle Regression (LARs)  \n",
    "    Least angle regression - Efron, B., Hastie, T., Johnstone, I. and Tibshirani, R. (2004) - [PDF](http://statweb.stanford.edu/~tibs/ftp/lars.pdf)\n",
    "\n",
    "    \n",
    "- Ridge Regresion  \n",
    "    Ridge regression: biased estimation for nonorthogonal problems - Hoerl, A. E. and Kennard, R. (1970) - [PDF](https://www.math.arizona.edu/~hzhang/math574m/Read/RidgeRegressionBiasedEstimationForNonorthogonalProblems.pdf)\n",
    "    \n",
    "    \n",
    "- Support Vector Machine (SVM)  \n",
    "    Support-Vector Networks - Cortes, Vapnik, 1995 - [PDF](http://image.diku.dk/imagecanon/material/cortes_vapnik95.pdf)  \n",
    "    A Dual Coordinate Descent Method for Large-scale Linear SVM - Lin et al. (2008) - [PDF](https://www.csie.ntu.edu.tw/~cjlin/papers/cddual.pdf)  \n",
    "    Sequential Minimal Optimization : A Fast Algorithm for Training Support Vector Machines - J. Platt (1998) - [PDF](https://pdfs.semanticscholar.org/59ee/e096b49d66f39891eb88a6c84cc89acba12d.pdf)  \n",
    "    Incremental and Decremental Support Vector Machine Learning - G. Cauwenberghs, T. Poggio (2001) - [PDF](http://isn.ucsd.edu/papers/nips00_inc.pdf)  \n",
    "    Fast Kernel Classifiers with Online and Active Learning - A. Bordes, S. Ertekin, J. Weston, L. Bottou (2005) - [PDF](http://www.jmlr.org/papers/volume6/bordes05a/bordes05a.pdf)"
   ]
  },
  {
   "cell_type": "markdown",
   "metadata": {},
   "source": [
    "## Non-Linear Classifiers\n",
    "\n",
    "- Flexible Discriminant Analysis (FDA)  \n",
    "    Flexible Discriminant Analysis by Optimal Scoring - Hastie, Tibshirani, 2000 - [PDF](https://www.researchgate.net/publication/2889611_Flexible_Discriminant_Analysis_by_Optimal_Scoring)\n",
    "\n",
    "\n",
    "- Mixture Discriminant Analysis (MDA)  \n",
    "    Discriminant Analysis by Gaussian Mixtures - Hastie, Tibshirani, 1996 - [PDF](http://citeseerx.ist.psu.edu/viewdoc/summary?doi=10.1.1.10.3633)\n",
    "\n",
    "\n",
    "- Penalized Discriminant Analysis (PDA)  \n",
    "    Penalized Discriminant Analysis - Hastie, Tibshirani, Buja, 2000 - [PDF](https://www.researchgate.net/publication/2923857_Penalized_Discriminant_Analysis)"
   ]
  },
  {
   "cell_type": "markdown",
   "metadata": {},
   "source": [
    "## Metrics\n",
    "- Tangent distance  \n",
    "Efficient pattern recognition using a new transformation distance - Simard, P., Cun, Y. L. and Denker, J. (1993) - [PDF](https://pdfs.semanticscholar.org/8314/dda1ec43ce57ff877f8f02ed89acb68ca035.pdf)"
   ]
  },
  {
   "cell_type": "markdown",
   "metadata": {},
   "source": [
    "## Dimensionality Reduction\n",
    "\n",
    "- Incremental PCA (IPCA)  \n",
    "    Incremental Learning for Robust Visual Tracking, D. Ross et al. (2007) [PDF](http://faculty.ucmerced.edu/mhyang/papers/ijcv08a.pdf)\n",
    "\n",
    "\n",
    "- Independant Components Analysis (ICA)  \n",
    "Independent components analysis through product density estimation - Hastie, T. and Tibshirani, R. (2003) - [PDF](https://papers.nips.cc/paper/2155-independent-components-analysis-through-product-density-estimation.pdf)\n",
    "\n",
    "\n",
    "- Kernel PCA (kPCA)  \n",
    "    Kernel principal component analysis - Bernhard Schoelkopf, Alexander J. Smola, and Klaus-Robert Mueller. (1999) - [PDF](http://pca.narod.ru/scholkopf_kernel.pdf)\n",
    "    \n",
    "    \n",
    "- Locally Linear Embedding (LLE)  \n",
    "    Nonlinear Dimensionality Reduction by Locally Linear Embedding, S. Roweis, L. Saul (2000) [PDF](http://www.robots.ox.ac.uk/~az/lectures/ml/lle.pdf)\n",
    "    \n",
    "    \n",
    "- Non-Negative Matrix Factorization (NMF)  \n",
    "    Learning the parts of objects by non-negative matrix factorization - Lee, D. and Seung, H. (1999) - [PDF](http://www.columbia.edu/~jwp2128/Teaching/E4903/papers/nmf_nature.pdf)  \n",
    "    Algorithms for non-negative matrix factorization - Lee, D. and Seung, H. (2001)- [PDF](https://papers.nips.cc/paper/1861-algorithms-for-non-negative-matrix-factorization.pdf)  \n",
    "    Fast local algorithms for large scale nonnegative matrix and tensor factorizations - Cichocki, Andrzej, and P. H. A. N. Anh-Huy. (2009) - [PDF](http://www.bsp.brain.riken.jp/publications/2009/Cichocki-Phan-IEICE_col.pdf)  \n",
    "    Algorithms for nonnegative matrix factorization with the beta-divergence - Fevotte, C., & Idier, J. (2011) - [PDF](https://arxiv.org/abs/1010.1763)\n",
    "    \n",
    "    \n",
    "- Sparse PCA  \n",
    "    Sparse principal component analysis - Zou, H., Hastie, T. and Tibshirani, R. (2006) - [PDF](https://web.stanford.edu/~hastie/Papers/spc_jcgs.pdf)"
   ]
  },
  {
   "cell_type": "markdown",
   "metadata": {},
   "source": [
    "## Clustering\n",
    "\n",
    "- Self-Organizing Map  \n",
    "    Self-organization of a massive document collection - Kohonen, T., Kaski, S., Lagus, K., Saloj ̈arvi, J., Paatero,A. and Saarela,A. (2000) - [PDF](http://lig-membres.imag.fr/bisson/cours/M2INFO-AIW-ML/papers/Kohonen00.pdf)"
   ]
  },
  {
   "cell_type": "markdown",
   "metadata": {},
   "source": [
    "## Ensemble Learning\n",
    "\n",
    "- Learning Ensembles  \n",
    "    Importance sampled learning ensembles - Friedman, J. and Popescu, B. (2003) - [PDF](https://pdfs.semanticscholar.org/966f/fe536f84efd15c1379dad9adffe90b20676f.pdf)  \n",
    "    Predictive learning via rule ensembles - Friedman, J. and Popescu, B. (2008) - [PDF](https://arxiv.org/pdf/0811.1679.pdf)\n",
    "    \n",
    "- Boosting  \n",
    "    Multi-Class AdaBoost, J. Zhu et al. (2006) [PDF](https://web.stanford.edu/~hastie/Papers/samme.pdf)\n",
    "    "
   ]
  },
  {
   "cell_type": "markdown",
   "metadata": {},
   "source": [
    "## Graphical Models\n",
    "\n",
    "- Graphical Lasso  \n",
    "    Sparse inverse covariance estimation with the graphical lasso - Friedman, J., Hastie, T. and Tibshirani, R. (2008) -[PDF](file:///home/aiw/docs/eosl-refs.pdf)"
   ]
  },
  {
   "cell_type": "markdown",
   "metadata": {},
   "source": [
    "# Deep Learning"
   ]
  },
  {
   "cell_type": "markdown",
   "metadata": {},
   "source": [
    "## Gradients Computation\n",
    "\n",
    "- Backpropagation  \n",
    "    Learning Internal Representations by Error Propagation, D. Rumelhart, G. Hinton, R. Williams (1986) [PDF](https://web.stanford.edu/class/psych209a/ReadingsByDate/02_06/PDPVolIChapter8.pdf)\n",
    "    "
   ]
  },
  {
   "cell_type": "markdown",
   "metadata": {},
   "source": [
    "Understanding the Difficulty of Training Deep Feedforward Neural Network, X. Glorot, Y Bengio (2010) [PDF](http://proceedings.mlr.press/v9/glorot10a/glorot10a.pdf)  \n",
    "Delving Deep into Rectifiers: Surpassing Human-Level Performance on ImageNet Classification, K.He et al. (2015) [PDF](https://arxiv.org/abs/1502.01852)  \n",
    "Empirical Evaluation of Rectified Activations in Convolutional Network, B. Xu et al. (2015) [PDF](https://arxiv.org/abs/1505.00853)  \n",
    "Fast and Accurate Deep Network Learning by Exponential Linear Units (ELUs), D. Clevert, T. Unterthiner, S. Hochreiter (2015) [PDF](https://arxiv.org/abs/1511.07289)  \n",
    "An Empirical Study of Learning Rates in Deep Neural Networks for Speech Recognition, A. Senior et al. (2013) [PDF](https://static.googleusercontent.com/media/research.google.com/en//pubs/archive/40808.pdf)"
   ]
  }
 ],
 "metadata": {
  "kernelspec": {
   "display_name": "Python 3",
   "language": "python",
   "name": "python3"
  },
  "language_info": {
   "codemirror_mode": {
    "name": "ipython",
    "version": 3
   },
   "file_extension": ".py",
   "mimetype": "text/x-python",
   "name": "python",
   "nbconvert_exporter": "python",
   "pygments_lexer": "ipython3",
   "version": "3.7.3"
  }
 },
 "nbformat": 4,
 "nbformat_minor": 2
}
