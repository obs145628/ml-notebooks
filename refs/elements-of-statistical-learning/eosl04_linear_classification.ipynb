{
 "cells": [
  {
   "cell_type": "code",
   "execution_count": 1,
   "metadata": {},
   "outputs": [],
   "source": [
    "import cvxopt\n",
    "import numpy as np\n",
    "import matplotlib.pyplot as plt\n",
    "\n",
    "import sys\n",
    "sys.path.append('../../pyutils')\n",
    "import metrics"
   ]
  },
  {
   "cell_type": "markdown",
   "metadata": {},
   "source": [
    "# Introduction"
   ]
  },
  {
   "cell_type": "markdown",
   "metadata": {},
   "source": [
    "The predictor $G(X)$ takes values in a discrete set $\\mathbb{G}$. The input space is divided into a collection regions labeled according to their clasification.  \n",
    "The boundaries of these regions are called decisions boundaries, and they are linear for linear methods"
   ]
  },
  {
   "cell_type": "markdown",
   "metadata": {},
   "source": [
    "## Example 1\n",
    "\n",
    "Example of $K$ classes with discriminant function:\n",
    "\n",
    "$$\\delta_k(x) = \\beta_{k0} + \\beta_k^Tx$$\n",
    "The assigned class is the one with the biggest value for $\\delta_k$.  \n",
    "\n",
    "The decision boundary between class $k$ and $l$ is the set of points for wich $\\delta_k(x) = \\delta_l(x)$.  \n",
    "That is the hyperplane defined by $\\{x: (\\beta_{k0} - \\beta_{l0}) + (\\beta_k - \\beta_l)^Tx = 0 \\}$.\n",
    "\n",
    "Methods that model the posterior probabilities $P(G = k | X = x)$ are also in this class.  \n",
    "If $\\delta_k(x)$ or $P(G = k | X = x)$ is linear in $x$, then the decision boundaries will be linear."
   ]
  },
  {
   "cell_type": "markdown",
   "metadata": {},
   "source": [
    "## Example 2\n",
    "\n",
    "Example of 2 classes with posterior probabilities:\n",
    "    \n",
    "$$P(G = 1 | X = x) = \\frac{\\exp(\\beta_0 + \\beta^Tx)}{1 + \\exp(\\beta_0 + \\beta^Tx)}$$\n",
    "$$P(G = 2 | X = x) = \\frac{1}{1 + \\exp(\\beta_0 + \\beta^Tx)}$$  \n",
    "\n",
    "The decision boundary is the set of points for which the log-odds are zero:\n",
    "\n",
    "$$\\log(\\frac{p}{1-p}) = 0$$\n",
    "$$\\log \\frac{P(G = 1 | X = x)}{P(G = 2 | X = x)} = \\beta_0 + \\beta^Tx$$\n",
    "\n",
    "Thus the decision boundary is an hyperplane defined by $\\{x | \\beta_0 + \\beta^Tx = 0\\}$.  \n",
    "\n",
    "Linear logistic regression and linear discriminant analysis have linear log-odds."
   ]
  },
  {
   "cell_type": "markdown",
   "metadata": {},
   "source": [
    "Another solution is to explicitely model linear boundaries between the classes."
   ]
  },
  {
   "cell_type": "markdown",
   "metadata": {},
   "source": [
    "# Linear Regression of an Indicator Matrix"
   ]
  },
  {
   "cell_type": "markdown",
   "metadata": {},
   "source": [
    "The output is a vector $y \\in \\mathbb{R}^{K}$, with $K$ the number of classes.\n",
    "If the example belong to classs $k$, $y_j = 1_{j=k}$.  \n",
    "For a training set of size $N$, the output matrix is $Y \\in \\mathbb{R}^{N*K}$.  \n",
    "\n",
    "The parameters are fitted using any multiple outputs linear classification methods for $X$ and $Y$, eg normal equations:\n",
    "$$\\hat{B} = (X^TX)^{-1} X^TY$$.  \n",
    "\n",
    "Classify an example:\n",
    "$$\\hat{y} = x^T \\hat{B}$$\n",
    "$$\\hat{G}(x) = \\arg \\max_{k \\in \\mathbb{G}} \\hat{y}_k$$\n",
    "\n",
    "Regression gives an expectation of conditional expectation.\n",
    "$$y_k = \\mathbb{E}(y_k | X = x) = P(G = k | X = x)$$"
   ]
  },
  {
   "cell_type": "code",
   "execution_count": 2,
   "metadata": {},
   "outputs": [],
   "source": [
    "def gen_toy_class(N, noise=0.001):\n",
    "    X = 2.8 * np.random.randn(N, 4)**1 + 4.67\n",
    "    v1 = 1.5*X[:, 0] + 2.3*X[:, 1] - 0.3*X[:, 2] + 4.5 + noise*np.random.randn(len(X)) \n",
    "    v2 = 1.7*X[:, 0] + 0.4*X[:, 1] + 2.3*X[:, 2] - 3.7 + noise*np.random.randn(len(X))\n",
    "    v3 = -0.6*X[:, 0] + 5.8*X[:, 1] - 1.3*X[:, 2] + 0.1 + noise*np.random.randn(len(X))\n",
    "    V = np.vstack((v1, v2, v3)).T\n",
    "    g = np.argmax(V, axis=1)\n",
    "    return X, g\n",
    "\n",
    "def label2onehot(g, nclasses):\n",
    "    Y = np.zeros((len(g), nclasses))\n",
    "    Y[np.arange(len(g)), g] = 1\n",
    "    return Y\n",
    "\n",
    "def onehot2labels(Y):\n",
    "    return np.argmax(Y, axis=1)\n",
    "\n",
    "def add_col1(X):\n",
    "    return np.append(np.ones((len(X),1)), X, axis=1)"
   ]
  },
  {
   "cell_type": "code",
   "execution_count": 3,
   "metadata": {},
   "outputs": [
    {
     "name": "stdout",
     "output_type": "stream",
     "text": [
      "error: 0.09680334286261555\n",
      "acc: 0.8888888888888888\n"
     ]
    }
   ],
   "source": [
    "#Example with 3 classes\n",
    "\n",
    "X, g = gen_toy_class(117, noise=1e-3)\n",
    "Y = label2onehot(g, 3)\n",
    "\n",
    "X2 = add_col1(X)\n",
    "B = np.linalg.inv(X2.T @ X2) @ X2.T @ Y\n",
    "\n",
    "Y_preds = X2 @ B\n",
    "preds = onehot2labels(Y_preds)\n",
    "print('error:', np.mean((Y - Y_preds)**2))\n",
    "print('acc:', np.mean(g == preds))"
   ]
  },
  {
   "cell_type": "code",
   "execution_count": 4,
   "metadata": {},
   "outputs": [],
   "source": [
    "def gen_toy_bin(N, noise=0.001):\n",
    "    X = 2.8 * np.random.randn(100000, 4)**2 + 4.67\n",
    "    v = 1.5*X[:, 0] + 2.3*X[:, 1] - 4.7*X[:, 2] + 4.5 + noise*np.random.randn(len(X))\n",
    "    m = v.mean()\n",
    "    X = X[:N]\n",
    "    g = (v[:N] > m).astype(np.int)\n",
    "    return X, g"
   ]
  },
  {
   "cell_type": "code",
   "execution_count": 5,
   "metadata": {},
   "outputs": [
    {
     "name": "stdout",
     "output_type": "stream",
     "text": [
      "error: 0.12411756983133926\n",
      "acc: 0.85317\n"
     ]
    }
   ],
   "source": [
    "#Binary example\n",
    "\n",
    "X, g = gen_toy_bin(117000, noise=0)\n",
    "Y = label2onehot(g, 2)\n",
    "\n",
    "X2 = add_col1(X)\n",
    "B = np.linalg.inv(X2.T @ X2) @ X2.T @ Y\n",
    "\n",
    "Y_preds = X2 @ B\n",
    "preds = onehot2labels(Y_preds)\n",
    "print('error:', np.mean((Y - Y_preds)**2))\n",
    "print('acc:', np.mean(g == preds))"
   ]
  },
  {
   "cell_type": "markdown",
   "metadata": {},
   "source": [
    "$y_k$ doesn't belong like a probability. Even though $\\sum_{k \\in \\mathbb{G}} y_k = 1$, $y_k$ might be negative or greater than $1$."
   ]
  },
  {
   "cell_type": "markdown",
   "metadata": {},
   "source": [
    "Another approch is to construct a target $t_k$ for each class, with $t_k$ $k$-th columns of $I_K$.\n",
    "Obervations are $y_i = t_k$ if $g_i = k$.\n",
    "We fit the least-squares criterion:\n",
    "$$\\hat{B} = \\arg \\min_{B} \\sum_{i=1}^N ||y_i - x_i^TB||^2$$\n",
    "\n",
    "Classify an example:\n",
    "$$\\hat{G}(x) = \\arg \\min_{k} ||x_i^T\\hat{B} - t_k||^2$$  \n",
    "\n",
    "Actually, this model yields exactly the same results than the previous ones."
   ]
  },
  {
   "cell_type": "markdown",
   "metadata": {},
   "source": [
    "This model doesn't work well when $K \\geq 3$. Because of the rigid nature of regression, classes can be masked by others.  \n",
    "A general rule is that with $K \\geq 3$ classes, polynomials terms up to degree $K - 1$ might be needed to solve them.  \n",
    "Masking usually occurs for large $K$ and small $p$.  \n",
    "Other methods like logistic regression and linear distriminant analysis doesn't suffer from masking"
   ]
  },
  {
   "cell_type": "markdown",
   "metadata": {},
   "source": [
    "# Linear Discriminant Analysis"
   ]
  },
  {
   "cell_type": "markdown",
   "metadata": {},
   "source": [
    "According to Bayes theorem:\n",
    "    \n",
    "$$P(G = k | X = x) = \\frac{P(X = x | G = k) P(G = k)}{P(X)}$$\n",
    "$$P(G = k | X = x) = \\frac{P(X = x | G = k) P(G = k)}{\\sum_{l=1}^K P(X = x | G = l) P(G = l)}$$\n",
    "\n",
    "Let $\\pi_k$ the prior probability of class $k$: $\\pi_k = P(G = k)$.  \n",
    "Let $f_k(x)$ the class-condisional density of $X$ in class $G = k$: $P(X \\in T | G = k) = \\int_T f_k(x)dx$.\n",
    "\n",
    "Thus, the posterior probability is:\n",
    "\n",
    "$$P(G = k | X = x) = \\frac{f_k(x) \\pi_k}{\\sum_{l=1}^K f_l(x) \\pi_l}$$\n",
    "\n",
    "Each density class is represented as a multivariate Gaussian:\n",
    "\n",
    "$$f_k(x) = \\frac{\\exp(-\\frac{1}{2} (x-\\mu_k)^T \\Sigma^{-1} (x - \\mu_k) )}{\\sqrt{(2\\pi)^p |\\Sigma|}}$$\n",
    "\n",
    "with:\n",
    "- $\\Sigma \\in \\mathbb{R}^{p*p}$ covariance matrix shared by all class densities.\n",
    "- $\\mu_k \\in \\mathbb{R}^p$ the mean vector for class density $k$.\n",
    "- $|\\Sigma| = \\det(\\Sigma)$  \n",
    "\n",
    "$$\\log \\frac{P(G = k | X = x)}{P(G = l | X = x)} = \\log \\frac{\\pi_k}{\\pi_l} - \\frac{1}{2}(\\mu_k + \\mu_l)^T\\Sigma^{-1}(\\mu_k - \\mu_l) + x^T \\Sigma^{-1}(\\mu_k - \\mu_l)$$.\n",
    "\n",
    "The log-odds function is linear in $x$, so the decision boundaries are linear.\n",
    "\n",
    "The decision rule can be described with linear descriminant functions:\n",
    "\n",
    "$$\\delta_k(x) = x^T \\Sigma^{-1} \\mu_k - \\frac{1}{2}\\mu_k^T\\Sigma^{-1}\\mu_k + \\log \\pi_k$$\n",
    "$$G(x) = \\arg \\max_k \\delta_k(x)$$  \n",
    "\n",
    "The parameters are estimated from the training data:\n",
    "$$\\hat{\\pi}_k = \\frac{N_k}{N}$$\n",
    "$$\\hat{\\mu}_k = \\frac{\\sum_{g_i = k} x_i}{N_k}$$\n",
    "$$\\hat{\\Sigma} = \\frac{\\sum_{k=1}^K \\sum_{g_i = k} (x_i - \\mu_k)(x_i - \\mu_k)^T}{N - K}$$"
   ]
  },
  {
   "cell_type": "code",
   "execution_count": 6,
   "metadata": {},
   "outputs": [
    {
     "name": "stdout",
     "output_type": "stream",
     "text": [
      "acc: 0.9901709401709402\n"
     ]
    }
   ],
   "source": [
    "#Example with 3 classes\n",
    "\n",
    "def lda(X, g, K):\n",
    "    N = X.shape[0]\n",
    "    p = X.shape[1]\n",
    "    \n",
    "    pis = []\n",
    "    mus = []\n",
    "    cov = np.zeros((p, p))\n",
    "    \n",
    "    for k in range(K):\n",
    "        nk = np.sum(g == k)        \n",
    "        pi = nk / N\n",
    "        mu = np.zeros((p,))\n",
    "        for i in range(N):\n",
    "            if g[i] == k:\n",
    "                mu += X[i]\n",
    "        mu /= nk\n",
    "        \n",
    "        pis.append(pi)\n",
    "        mus.append(mu)\n",
    "        \n",
    "    \n",
    "    for i in range(N):\n",
    "        cov += np.outer(X[i] - mus[g[i]], X[i] - mus[g[i]])\n",
    "    cov /= (N - K)\n",
    "    \n",
    "    \n",
    "    icov = np.linalg.inv(cov)\n",
    "    B = np.empty((p, K))\n",
    "    intercept = np.empty((K,))\n",
    "    for k in range(K):\n",
    "        B[:, k] = icov @ mus[k]\n",
    "        intercept[k] = - 1/2 * (mus[k] @ icov @ mus[k]) + np.log(pis[k])\n",
    "    \n",
    "    return B, intercept\n",
    "\n",
    "\n",
    "X, g = gen_toy_class(11700, noise=1e-5)\n",
    "B, intercept = lda(X, g, 3)\n",
    "\n",
    "Y_preds = X @ B + intercept\n",
    "preds = np.argmax(Y_preds, axis=1)\n",
    "\n",
    "print('acc:', np.mean(g == preds))"
   ]
  },
  {
   "cell_type": "markdown",
   "metadata": {},
   "source": [
    "## Quadratic Discriminant Analysis\n",
    "\n",
    "If each $f_k(x)$ as it's own covariance marix $\\Sigma_k$, the logs-odd function and the distriminant functions became quadratic:\n",
    "\n",
    "$$\\delta_l(x) = - \\frac{1}{2} \\log | \\Sigma_k| - \\frac{1}{2} (x - \\mu_k)^T \\Sigma_k^{-1} (x - \\mu_k) + \\log \\pi_k$$  \n",
    "\n",
    "When $p$ large, QDA causes a dramatic increase in the number of parameters.  \n",
    "There is little difference between LDA applied to dataset augmented with polynomials of degree $2$, and QDA.  \n",
    "\n",
    "For QDA, the estimates of $\\pi_k$ and $u_k$ stays the same, and the estimate of $\\Sigma_k$ is:\n",
    "\n",
    "$$\\hat{\\Sigma}_k = \\frac{\\sum_{g_i = k} (x_i - \\mu_k)(x_i - \\mu_k)^T}{N_k - 1}$$"
   ]
  },
  {
   "cell_type": "code",
   "execution_count": 7,
   "metadata": {},
   "outputs": [
    {
     "name": "stdout",
     "output_type": "stream",
     "text": [
      "acc: 0.9655555555555555\n"
     ]
    }
   ],
   "source": [
    "#Example with 3 classes\n",
    "\n",
    "def qda(X, g, K):\n",
    "    N = X.shape[0]\n",
    "    p = X.shape[1]\n",
    "    \n",
    "    pis = []\n",
    "    mus = []\n",
    "    dcovs = []\n",
    "    icovs = []\n",
    "    \n",
    "    for k in range(K):\n",
    "        nk = np.sum(g == k)        \n",
    "        pi = nk / N\n",
    "        \n",
    "        mu = np.zeros((p,))\n",
    "        for i in range(N):\n",
    "            if g[i] == k:\n",
    "                mu += X[i]\n",
    "        mu /= nk\n",
    "        \n",
    "        cov = np.zeros((p, p))\n",
    "        for i in range(N):\n",
    "            if g[i] == k:\n",
    "                cov += np.outer(X[i] - mu, X[i] - mu)\n",
    "        cov /= (nk - 1)\n",
    "        \n",
    "        pis.append(pi)\n",
    "        mus.append(mu)\n",
    "        dcovs.append(-1/2 * np.log(np.linalg.det(cov)))\n",
    "        icovs.append(np.linalg.inv(cov))\n",
    "\n",
    "    \n",
    "    return pis, mus, dcovs, icovs\n",
    "\n",
    "def qda_pred(x, pis, mus, dcovs, icovs):\n",
    "    K = len(pis)\n",
    "    y = np.empty((K,))\n",
    "    \n",
    "    for k in range(K):\n",
    "        qt = -1/2 * (x - mus[k]) @ icovs[k] @ (x - mus[k])\n",
    "        y[k] = dcovs[k] + qt + np.log(pis[k])\n",
    "    \n",
    "    return np.argmax(y)\n",
    "\n",
    "\n",
    "X, g = gen_toy_class(11700, noise=1e-5)\n",
    "pis, mus, dcovs, icovs = qda(X, g, 3)\n",
    "preds = np.empty((len(X),))\n",
    "for i in range(len(X)):\n",
    "    preds[i] = qda_pred(X[i], pis, mus, dcovs, icovs)\n",
    "\n",
    "print('acc:', np.mean(g == preds))"
   ]
  },
  {
   "cell_type": "markdown",
   "metadata": {},
   "source": [
    "## Regularized Discriminant Analysis\n",
    "\n",
    "RDA is a oompromise between LDA and QDA, allowing to shrink the separate covariances of QDA toward a common covariance as in LDA.\n",
    "\n",
    "$$\\hat{\\Sigma}_k(\\alpha) = \\alpha \\hat{\\Sigma}_k + (1 - \\alpha) \\hat{\\Sigma}$$\n",
    "\n",
    "with $\\alpha$ hyperparameter that allows a continuum of models between LDA and QDA.  \n",
    "\n",
    "Another modificatio allows $\\hat{\\Sigma}$ to be shunk toward a scalar covariance:\n",
    "\n",
    "$$\\hat{\\Sigma}(\\gamma) = \\gamma \\hat{\\Sigma} + (1 - \\gamma) \\hat{\\sigma}^2I$$"
   ]
  },
  {
   "cell_type": "markdown",
   "metadata": {},
   "source": [
    "## Computations for LDA\n",
    "\n",
    "Computations can be simplified by diagonalization of $\\Sigma$.  \n",
    "For QDA:\n",
    "$$\\hat{\\Sigma}_k = U_k D_k U^T_k$$\n",
    "$$(x - \\hat{\\mu}_k)^T\\Sigma^{-1}_k (x - \\hat{\\mu}_k) = [U_k^T(x - \\hat{\\mu}_k)]^T D^{-1}_k [U_k^T(x - \\hat{\\mu}_k)]$$\n",
    "$$log |\\Sigma_k| = \\sum_l log d_{kl}$$  \n",
    "\n",
    "For LDA, we can project the data into a space where the common covariance estimate is $I$:\n",
    "$$\\hat{\\Sigma} = UDU^T$$\n",
    "$$X^* \\leftarrow X D^{-\\frac{1}{2}}U^T$$"
   ]
  },
  {
   "cell_type": "markdown",
   "metadata": {},
   "source": [
    "## Reduced-Rank LDA\n",
    "\n",
    "The $K$ centroids in $p$-dimensional input space lie in an affine subspace of dimension $\\leq K - 1$. We might just as well project $X*$ onto this centroid-spanning subpace $H_{K-1}$.  \n",
    "\n",
    "We can also project $X*$ into a subspace $H_L$ for $L \\leq K$, where the projected centroids were spread out as much as possible in terms of variance."
   ]
  },
  {
   "cell_type": "markdown",
   "metadata": {},
   "source": [
    "### Algorithm\n",
    "\n",
    "- Compute matrix of class centroids $M \\in \\mathbb{R}^{K*p}$\n",
    "$$M_k = \\frac{1}{N_k} \\sum_{g_i = k} x_i$$\n",
    "\n",
    "- Compute within class covariance matrix $W \\in \\mathbb{R}^{p*p}$\n",
    "\n",
    "$$W = \\sum_{k=1}^K \\sum_{g_i = k} (x_i - M_k) (x_i - M_k)^T$$\n",
    "\n",
    "- Compute $M^* = MW^{-\\frac{1}{2}}$, $M^* \\in \\mathbb{R}^{K*p}$\n",
    "\n",
    "$$P_W^T W P_W = D_W$$\n",
    "$$W^{-\\frac{1}{2}} = P_W D^{-\\frac{1}{2}}P_W^T$$\n",
    "\n",
    "- Compute between class covariance matrix $B^*$ of $M^*$, $B^* \\in \\mathbb{R}^{p*p}$\n",
    "$$\\mu = \\frac{1}{K} \\sum_{k=1}^K M_k^*$$\n",
    "\n",
    "$$B^* = \\sum_{k=1}^K N_k (M^*_k - \\mu) (M^*_k - \\mu)^T$$\n",
    "\n",
    "- Diagionalize $B^*$: $B^* = V^* D_B V^{*T}$\n",
    "\n",
    "- Project the data:\n",
    "\n",
    "$$v_l = W^{-\\frac{1}{2}}v_l^*, \\space v_l^* \\in \\mathbb{R}^p$$\n",
    "$$z_l = Xv_l, \\space z_l \\in \\mathbb{R}^n$$"
   ]
  },
  {
   "cell_type": "markdown",
   "metadata": {},
   "source": [
    "### Fisher Method\n",
    "\n",
    "This is a different method, that gives the same results.\n",
    "\n",
    "Fisher LDA looks for a projection $Z = a^TX$ such that the between-class variance is maximized relative to the within-class variance.  \n",
    "\n",
    "Let $B$ and $W$ respectively the between-class and the within-class variance of $X$.  Note than $T = B + W$ with $T$ the covariance matrix of $X$, ignoring class information.  \n",
    "The between-class and within-class variance of $Z$ are respectively $a^TBa$ and $a^TWa$.  \n",
    "The objective is:\n",
    "$$\\max_a \\frac{a^TBa}{a^TWa}$$\n",
    "\n",
    "$a$ is the eigeinvector corresponding to the largest eigeinvalue of $W^{-1}B$"
   ]
  },
  {
   "cell_type": "markdown",
   "metadata": {},
   "source": [
    "### Algorithm\n",
    "\n",
    "- Compute matrix of class centroids $M \\in \\mathbb{R}^{K*p}$\n",
    "$$M_k = \\frac{1}{N_k} \\sum_{g_i = k} x_i$$\n",
    "\n",
    "- Compute within class covariance matrix $W \\in \\mathbb{R}^{p*p}$\n",
    "\n",
    "$$W = \\sum_{k=1}^K \\sum_{g_i = k} (x_i - M_k) (x_i - M_k)^T$$\n",
    "\n",
    "- Compute between class covariance matrix $B \\in \\mathbb{R}^{p*p}$\n",
    "$$\\mu = \\frac{1}{K} \\sum_{k=1}^K M_k$$\n",
    "\n",
    "$$B = \\sum_{k=1}^K N_k (M_k - \\mu) (M_k - \\mu)^T$$\n",
    "\n",
    "- Diagionalize $W^{-1}B$: \n",
    "$$W^{-1}B = V D V^T$$\n",
    "\n",
    "- Project the data:\n",
    "$$z_l = Xv_l, \\space z_l \\in \\mathbb{R}^N$$\n",
    "\n",
    "$$Z = XV_L, \\space Z \\in \\mathbb{R}^{N*L}$$\n",
    "\n",
    "with $V_L$ columns the $L$ eigenvectors corresponding to the largest eigeinvalues of $W^{-1}B$"
   ]
  },
  {
   "cell_type": "code",
   "execution_count": 8,
   "metadata": {},
   "outputs": [
    {
     "name": "stdout",
     "output_type": "stream",
     "text": [
      "acc: 0.8698290598290598\n"
     ]
    }
   ],
   "source": [
    "N = 11700\n",
    "K = 3\n",
    "X, g = gen_toy_class(N, noise=1e-5)\n",
    "p = X.shape[1]\n",
    "\n",
    "#1) Compute class centroids M\n",
    "M = np.zeros((K, p))\n",
    "for k in range(K):\n",
    "    nk = np.sum(g == k)        \n",
    "    for i in range(N):\n",
    "        if g[i] == k:\n",
    "            M[k] += X[i]\n",
    "    M[k] /= nk\n",
    "    \n",
    "#2) Compute within-class covariance W\n",
    "W = np.zeros((p, p))\n",
    "for i in range(N):\n",
    "    W += np.outer(X[i] - M[g[i]], X[i] - M[g[i]])\n",
    "\n",
    "#3) Compute between class covariance B\n",
    "mu = np.mean(M, axis=0)\n",
    "B = np.zeros((p, p))\n",
    "for k in range(K):\n",
    "    nk = np.sum(g == k) \n",
    "    B += nk * np.outer(M[k] - mu, M[k] - mu)\n",
    "    \n",
    "#4) Diagonalize W^-1B\n",
    "d, V = np.linalg.eig(np.linalg.inv(W) @ B)\n",
    "\n",
    "#5) Project the data\n",
    "Vr = V[:, :2]\n",
    "Z = X @ Vr\n",
    "\n",
    "#6) Make predictions\n",
    "MZ = M @ Vr\n",
    "preds = np.empty((N,)).astype(np.int)\n",
    "for i in range(N):\n",
    "    \n",
    "    min_k = None\n",
    "    min_dist = float('inf')\n",
    "    for k in range(K):\n",
    "        d = (Z[i] - MZ[k]) @ (Z[i] - MZ[k])\n",
    "        if d < min_dist:\n",
    "            min_k = k\n",
    "            min_dist = d\n",
    "    \n",
    "    preds[i] = min_k\n",
    "    \n",
    "print('acc:', np.mean(g == preds))"
   ]
  },
  {
   "cell_type": "markdown",
   "metadata": {},
   "source": [
    "# Logistic Regression"
   ]
  },
  {
   "cell_type": "markdown",
   "metadata": {},
   "source": [
    "The model is defined by the log-odds of the posterior probabilities.\n",
    "\n",
    "$$\\log \\frac{P(G = k | X = x)}{P(G = K | X = x)} = \\beta_{k0} + \\beta_{k}^T x, \\space k=1\\text{...}K-1$$\n",
    "\n",
    "It can be deduced that:\n",
    "\n",
    "$$P(G = k | X = x) = \\frac{\\exp (\\beta_{k0} + \\beta_{k}^T x)}{1 + \\sum_{l=1}^{K-1} \\exp (\\beta_{l0} + \\beta_{l}^T x)}, \\space k=1\\text{...}K-1$$\n",
    "$$P(G = K | X = x) = \\frac{1}{1 + \\sum_{l=1}^{K-1} \\exp (\\beta_{l0} + \\beta_{l}^T x)}$$\n",
    "\n",
    "The log-likelihood for $N$ observations is:\n",
    "\n",
    "$$l(\\theta) = \\sum_{i=1}^N \\log P(G=g_i | X = x_i; \\theta)$$"
   ]
  },
  {
   "cell_type": "markdown",
   "metadata": {},
   "source": [
    "Let's focus on the cases with $K = 2$, with a response $y_i$ with $y_i = 1$ when $g_i = 1$ and $y_1 = 0$ when $g_i = 2$\n",
    "\n",
    "$$l(\\beta) = \\sum_{i=1}^N y_i \\log p(x_i) + (1 - y_i) \\log(1 - p(x_i))$$\n",
    "\n",
    "$$\\text{with } p(x_i) = P(G=1|X=x) = \\frac{\\exp(\\beta^Tx)}{1 + \\exp(\\beta^Tx)}$$\n",
    "\n",
    "$$l(\\beta) = \\sum_{i=1}^N y_i \\beta^Tx_i - \\log(1 + \\exp(\\beta^Tx_i))$$\n",
    "\n",
    "In order to maximize the log-likelihood, we solve:\n",
    "\n",
    "$$\\frac{\\partial l(\\beta)}{\\partial \\beta} = 0$$\n",
    "$$\\frac{\\partial l(\\beta)}{\\partial \\beta} = \\sum_{i=1}^N x_i(y_i - p(x_i))$$\n",
    "\n",
    "This can be solved using the Newton-Raphson algorithm, with second-derivates:\n",
    "\n",
    "$$\\frac{\\partial^2 l(\\beta)}{\\partial \\beta \\partial \\beta^T} = - \\sum_{i=1}^N x_ix_i^T p(x_i)(1-p(x_i))$$\n",
    "\n",
    "The update is:\n",
    "\n",
    "$$\\beta \\leftarrow \\beta - (\\frac{\\partial^2 l(\\beta)}{\\partial \\beta \\partial \\beta^T})^{-1} \\frac{\\partial l(\\beta)}{\\partial \\beta}$$  \n",
    "\n",
    "It can be rewritten in matrix form as:\n",
    "\n",
    "$$\\frac{\\partial l(\\beta)}{\\partial \\beta} = X^T(y-p)$$\n",
    "$$\\frac{\\partial^2 l(\\beta)}{\\partial \\beta \\partial \\beta^T} = - X^TWX$$\n",
    "\n",
    "with:\n",
    "- $X \\in \\mathbb{R}^{N * p}$ the matrix of features\n",
    "- $p \\in \\mathbb{R}^N$ the vector of predictions\n",
    "- $y \\in \\mathbb{R}^N$ the vector of labels\n",
    "- $W \\in \\mathbb{R}^{N*N}$ diagonal matrix: $W_{ii} = p_i(1-p_i)$ \n",
    "\n",
    "The update became\n",
    "\n",
    "$$\\beta \\leftarrow \\beta + (X^TWX)^{-1}X^T (y - p)$$\n",
    "$$\\beta \\leftarrow (X^TWX)^{-1}X^T Wz$$\n",
    "$$\\text{with } z = X \\beta + W^{-1} (y-p)$$  \n",
    "\n",
    "So the update is equivalent to solving a weigthed least square problem with output $z$:\n",
    "\n",
    "$$\\beta \\leftarrow \\arg \\min_\\beta (z - X\\beta)^TW(z - X\\beta)$$"
   ]
  },
  {
   "cell_type": "code",
   "execution_count": 9,
   "metadata": {},
   "outputs": [
    {
     "name": "stdout",
     "output_type": "stream",
     "text": [
      "loss: -81.0982201255136\n",
      "loss: -45.612107996457816\n",
      "loss: -27.445570126399943\n",
      "loss: -16.71221726961405\n",
      "loss: -10.619810934205889\n",
      "beta: [  4.13339341   5.15251667 -12.45737093  -0.29269236]\n",
      "acc: 0.9829059829059829\n"
     ]
    }
   ],
   "source": [
    "X, y = gen_toy_bin(117, noise=1e-5)\n",
    "\n",
    "\n",
    "def logreg(X, y):\n",
    "    n = X.shape[0]\n",
    "    p = X.shape[1]\n",
    "    \n",
    "    #works a lot better when init at 0\n",
    "    beta = np.zeros((p,))\n",
    "    #beta = np.random.randn(p)\n",
    "    \n",
    "    for i in range(5):\n",
    "        p = np.exp(X @ beta) / (1 + np.exp(X @ beta))\n",
    "        l = np.sum(y * np.log(p) + (1 - y) * np.log(1 - p))\n",
    "        W = np.diag(p * (1-p))\n",
    "        \n",
    "        #IRLS update\n",
    "        z = X @ beta + np.linalg.inv(W) @ (y - p)\n",
    "        beta = np.linalg.inv(X.T @ W @ X) @ X.T @ W @ z\n",
    "\n",
    "        '''\n",
    "        #newton update\n",
    "        g = X.T @ (y - p)\n",
    "        H = - X.T @ W @ X\n",
    "        beta = beta - np.linalg.inv(H) @ g\n",
    "        '''\n",
    "        \n",
    "        print('loss:', l)\n",
    "    \n",
    "    \n",
    "    return beta\n",
    "\n",
    "Xc = np.mean(X, axis=0, keepdims=True)\n",
    "Xs = np.std(X, axis=0, keepdims=True)\n",
    "X2 = (X - Xc) / Xs\n",
    "beta = logreg(X2, y)\n",
    "\n",
    "y_hat = np.exp(X2 @ beta) / (1 + np.exp(X2 @ beta))\n",
    "preds = np.round(y_hat).astype(np.int)\n",
    "print('beta:', beta)\n",
    "print('acc:', np.mean(y == preds))"
   ]
  },
  {
   "cell_type": "markdown",
   "metadata": {},
   "source": [
    "## LDA vs Logistic Regression\n",
    "\n",
    "Both models have a linear logs-odd properties with exactly the same form.  \n",
    "But the parameters are estimated in a completely different way.  \n",
    "Logistic regression maximames the conditional likelihood and totaly ignores $P(X)$.  \n",
    "LDA maximixes the log-likelihood on the joint density $P(X,G)$. It assumes that $P(X)$ comes from a mixture of gaussians. This restriction add more informations and helps reduce variance.  \n",
    "\n",
    "In theory, if the model is Gaussian, LDA should get better results. But LDA is not robust to outliers, and Logistic regressions makes no assumption about the model data.  \n",
    "In pratice, logistic regression is safer and more robust than LDA, but they both often tend to give silimar results."
   ]
  },
  {
   "cell_type": "markdown",
   "metadata": {},
   "source": [
    "# Separating Hyperplanes"
   ]
  },
  {
   "cell_type": "markdown",
   "metadata": {},
   "source": [
    "An hyperplane or affine set $L$ is defined by the equation:\n",
    "\n",
    "$$\\beta_0 + \\beta^Tx = 0, \\space \\beta_0 \\in \\mathbb{R}, \\beta, x \\in \\mathbb{R}^p$$\n",
    "\n",
    "$$x_0 \\in L \\implies \\beta^Tx_0 = - \\beta_0$$\n",
    "$$x_1, x_2 \\in L \\implies \\beta^T(x_1 - x_2) = 0$$\n",
    "$\\beta$ is a vector normal to the surface of $L$\n",
    "\n",
    "The signed distance from any $x$ to $L$ is given by:\n",
    "$$\\frac{1}{||\\beta||}(\\beta^Tx + \\beta_0)$$\n",
    "positive if $x$ on the side of the hyperplane directed by $\\beta$, negative if $x$ on the other side."
   ]
  },
  {
   "cell_type": "markdown",
   "metadata": {},
   "source": [
    "We can use an hyperplane to perform a binary classification \n",
    "- if $x^T\\beta + \\beta_0 > 0$, $x$ is on the side of the hyperplane directed by $\\beta$\n",
    "- if $x^T\\beta + \\beta_0 < 0$, $x$ is on the other side of the hyperplane\n",
    "- if $x^T\\beta + \\beta_0 = 0$, $x$ belongs to the hyperplane\n",
    "\n",
    "Let $X \\in \\mathbb{R}^{n*p}$\n",
    "\n",
    "$$\n",
    "\\hat{y_i} = \n",
    "\\begin{cases}\n",
    "    1 & \\text{if } x_i^T\\beta + \\beta_0 > 0\\\\\n",
    "    -1 & \\text{otherwise}\n",
    "\\end{cases}\n",
    "$$\n",
    "\n",
    "The goal is to find an hyperplanes that correctly separate all examples of the data set"
   ]
  },
  {
   "cell_type": "code",
   "execution_count": 10,
   "metadata": {},
   "outputs": [
    {
     "data": {
      "image/png": "[encoded data removed]",
      "text/plain": [
       "<Figure size 432x288 with 1 Axes>"
      ]
     },
     "metadata": {
      "needs_background": "light"
     },
     "output_type": "display_data"
    },
    {
     "name": "stdout",
     "output_type": "stream",
     "text": [
      "0.0\n",
      "10.73312629199899\n",
      "5.813776741499453\n",
      "-0.8944271909999159\n"
     ]
    }
   ],
   "source": [
    "b = np.array([2, 1])\n",
    "b0 = 3\n",
    "\n",
    "\n",
    "def plot_data(b, b0, X, y):\n",
    "\n",
    "    #bo + b1x1 + b2x2 = 0 => x2 = -b1/b2*x1 - b0/b2 \n",
    "    x1 = np.linspace(np.min(X[:,0]) - 10, np.max(X[:,0]) + 10, 1000)\n",
    "    plt.plot(x1, -b[0]/b[1]*x1 -b0/b[1])\n",
    "    \n",
    "    b10 = b / np.linalg.norm(b) * 10\n",
    "    plt.plot([0, b10[0]], [-b0/b[1], b10[1]-b0/b[1]], c='y')\n",
    "    \n",
    "    for i in range(len(X)):\n",
    "        plt.scatter(X[i][0], X[i][1], c=('r' if y[i] == 1 else 'g'))\n",
    "\n",
    "    plt.axis('equal')\n",
    "    plt.grid()\n",
    "    plt.show()\n",
    "\n",
    "X = np.array([\n",
    "    [10, 1],\n",
    "    [4, 2],\n",
    "    [-2, -1]\n",
    "])\n",
    "y = np.array([\n",
    "    1,\n",
    "    1,\n",
    "    -1\n",
    "])\n",
    "\n",
    "plot_data(b, b0, X, y)\n",
    "\n",
    "\n",
    "preds = np.sign(X @ b + b0)\n",
    "print(metrics.tdist(preds, y))\n",
    "\n",
    "def sep_dist(x):\n",
    "    return (x @ b + b0) / np.linalg.norm(b)\n",
    "\n",
    "for i in range(len(X)):\n",
    "    print(sep_dist(X[i]))"
   ]
  },
  {
   "cell_type": "code",
   "execution_count": 11,
   "metadata": {},
   "outputs": [
    {
     "name": "stdout",
     "output_type": "stream",
     "text": [
      "epoch -1: loss = 0\n",
      "epoch 0: loss = 0\n"
     ]
    },
    {
     "data": {
      "image/png": "[encoded data removed]",
      "text/plain": [
       "<Figure size 432x288 with 1 Axes>"
      ]
     },
     "metadata": {
      "needs_background": "light"
     },
     "output_type": "display_data"
    }
   ],
   "source": [
    "\n",
    "\n",
    "def perceptron(X, y, lr, nepochs):\n",
    "    b = np.random.randn(2)\n",
    "    b0 = np.random.randn()\n",
    "    \n",
    "    def get_loss():\n",
    "        loss = 0\n",
    "        for i in range(len(X)):\n",
    "            v = X[i] @ b + b0\n",
    "            if np.sign(v) != y[i]:\n",
    "                loss -= y[i] * v\n",
    "        return loss\n",
    "    \n",
    "    print('epoch -1: loss = {}'.format(get_loss()))\n",
    "    \n",
    "    for epoch in range(nepochs):\n",
    "        \n",
    "        for i in range(len(X)):\n",
    "            v = X[i] @ b + b0\n",
    "            if np.sign(v) != y[i]:\n",
    "                b += lr * y[i] * X[i]\n",
    "                b0 += lr * y[i]\n",
    "        \n",
    "        \n",
    "        \n",
    "        print('epoch {}: loss = {}'.format(epoch, get_loss()))\n",
    "        break\n",
    "        \n",
    "        \n",
    "    return b, b0\n",
    "\n",
    "b, b0 = perceptron(X, y, 1, 10)\n",
    "plot_data(b, b0, X, y)"
   ]
  },
  {
   "cell_type": "markdown",
   "metadata": {},
   "source": [
    "## Optimal Separating Hyperplanes\n",
    "\n",
    "An optimal separating hyperplane separates correctly the 2 classes and maximizes the distance between the hyperplane and the closest point\n",
    "\n",
    "$$\\max_{\\beta, \\beta_0} M$$\n",
    "$$\\text{subject to } \\frac{1}{||\\beta||} y_i(x_i^T\\beta + \\beta_0) \\geq M, i=1,\\text{...},N$$\n",
    "\n",
    "- $M$ is the minimum distance between the hyperplane and every point of $X$.\n",
    "- $\\frac{1}{||\\beta||} y_i(x_i^T\\beta + \\beta_0)$ is the distance between $x_i$ and the hyperplane. It's possitive if correctly classified, negative  otherwhise\n",
    "- Let's fix $||\\beta|| = \\frac{1}{M}$. The problem becames:  \n",
    "\n",
    "$$\\min_{\\beta, \\beta_0} \\frac{1}{2} ||\\beta||^2$$\n",
    "$$\\text{subject to } y_i(x_i^T\\beta + \\beta_0) \\geq 1, i=1,\\text{...},N$$  \n",
    "\n",
    "Using the Lagrangian, the problem is turned into an unconstrained one:\n",
    "$$L_P(\\beta, \\beta_0, \\alpha) = \\frac{1}{2} ||\\beta||^2 - \\sum_{i=1}^N \\alpha_i [y_i(x_i^T\\beta + \\beta_0) - 1]$$\n",
    "$$\\min_{\\beta, \\beta_0} \\max_{\\alpha, \\alpha_i \\geq 0} L_P(\\beta, \\beta_0, \\alpha)$$\n",
    "\n",
    "Instead of solving the primal, we solve the dual, that gaves the same result:\n",
    "\n",
    "$$\\min_{\\beta, \\beta_0} \\max_{\\alpha, \\alpha_i \\geq 0} L_P(\\beta, \\beta_0, \\alpha) = \\max_{\\alpha, \\alpha_i \\geq 0} \\min_{\\beta, \\beta_0} L_P(\\beta, \\beta_0, \\alpha)$$ \n",
    "\n",
    "The solution of the primal $\\min_{\\beta, \\beta_0} \\max_{\\alpha, \\alpha_i \\geq 0} L_P(\\beta, \\beta_0, \\alpha)$ is the same than the solution of the dual $\\max_{\\alpha, \\alpha_i \\geq 0} \\min_{\\beta, \\beta_0} L_P(\\beta, \\beta_0, \\alpha)$ because the KKT conditions are satisfied.  \n",
    "\n",
    "Solving $\\frac{\\partial L_P(\\beta, \\beta_0, \\alpha)}{\\partial \\beta} = 0$, we get:\n",
    "$$\\beta = \\sum_{i=1}^N \\alpha_i y_i x_i$$\n",
    "Solving $\\frac{\\partial L_P(\\beta, \\beta_0, \\alpha)}{\\partial \\beta_0} = 0$, we get:\n",
    "$$\\sum_{i=1}^N \\alpha_i y_i = 0$$\n",
    "\n",
    "\n",
    "Remplacing on the original equation, we get:\n",
    "\n",
    "$$L_D(\\alpha) = \\sum_{i=1}^N\\alpha_i - \\frac{1}{2} \\sum_{i=1}^N \\sum_{k=1}^N \\alpha_i \\alpha_k y_i y_k x_i^Tx_k$$\n",
    "\n",
    "The problem became:\n",
    "$$\\max_{\\alpha} L_D(\\alpha)$$\n",
    "$$\\text{s.t. } \\alpha_i \\geq 0 \\space i=1,\\text{...}, N$$\n",
    "$$\\text{s.t. } \\sum_{i=1}^N \\alpha_i y_i = 0$$"
   ]
  },
  {
   "cell_type": "markdown",
   "metadata": {},
   "source": [
    "Another condition is satisfied:\n",
    "    \n",
    "$$\\alpha_i[y_i(x_i^T\\beta + \\beta_0) - 1] = 0 \\space i = 1,\\text{...},N$$\n",
    "\n",
    "- $\\alpha_i > 0$: $y_i(x_i^T\\beta + \\beta_0) = 1$, which means $x_i$ is on the boundary of the slab\n",
    "- $\\alpha_i =0$:  $y_i(x_i^T\\beta + \\beta_0) > 1$, which means $x_i$ is outside of the slab\n",
    "\n",
    "$\\beta$ is defined in terms of a linear combination of the support points $x_i$ (where $\\alpha_i > 0$).  \n",
    "$\\beta_0$ is obtained by solving $y_i(x_i^T + \\beta_0) = 1$ for any support points.\n",
    "\n",
    "Predictions are made using:\n",
    "$$\\hat{G}(x) = \\text{sign}(x^T\\hat{\\beta} + \\hat{\\beta_0})$$"
   ]
  },
  {
   "cell_type": "markdown",
   "metadata": {},
   "source": [
    "We now convert the problem into a standard quadradic programming problem:\n",
    "    \n",
    "Let $H \\in \\mathbb{R}^{N*N}$: $H_{ij} = y_i y_j x_i^Tx_j$\n",
    "\n",
    "The problem became:\n",
    "$$\\max_{\\alpha} 1^T\\alpha - \\frac{1}{2} \\alpha^TH\\alpha$$\n",
    "$$\\text{s.t. } \\alpha_i \\geq 0$$\n",
    "$$\\text{s.t. } y^T \\alpha = 0$$\n",
    "\n",
    "We reverse the sign and turn it into a minimization:\n",
    "\n",
    "$$\\min_{\\alpha} \\frac{1}{2} \\alpha^TH\\alpha - 1^T\\alpha$$\n",
    "$$\\text{s.t. } - \\alpha_i \\leq 0$$\n",
    "$$\\text{s.t. } y^T \\alpha = 0$$\n",
    "\n",
    "We can compute the parameters:\n",
    "\n",
    "$$\\beta = (y \\odot \\alpha) X$$\n",
    "$$\\beta_0 = y_i - x_i \\beta, \\space \\forall i: \\alpha_i > 0$$"
   ]
  },
  {
   "cell_type": "code",
   "execution_count": 12,
   "metadata": {},
   "outputs": [
    {
     "data": {
      "image/png": "[encoded data removed]",
      "text/plain": [
       "<Figure size 432x288 with 1 Axes>"
      ]
     },
     "metadata": {
      "needs_background": "light"
     },
     "output_type": "display_data"
    }
   ],
   "source": [
    "np.random.seed(18)\n",
    "\n",
    "N = 25\n",
    "P = 2\n",
    "X1 = np.random.randn(int(N/2), P) * 2 - 3.4\n",
    "X2 = np.random.randn(int(N/2), P) * (-2) + 4.2\n",
    "X = np.concatenate((X1, X2), axis=0)\n",
    "rb = np.random.randn(P)\n",
    "rb0 = np.random.randn()\n",
    "y = np.sign(X @ rb + rb0)\n",
    "plot_data(rb, rb0, X, y)"
   ]
  },
  {
   "cell_type": "code",
   "execution_count": 13,
   "metadata": {},
   "outputs": [
    {
     "data": {
      "image/png": "[encoded data removed]",
      "text/plain": [
       "<Figure size 432x288 with 1 Axes>"
      ]
     },
     "metadata": {
      "needs_background": "light"
     },
     "output_type": "display_data"
    }
   ],
   "source": [
    "def svm_hard(X, y):\n",
    "    n, p = X.shape\n",
    "    X = X.astype(np.double)\n",
    "    y = y.astype(np.double)\n",
    "    \n",
    "    H = (y.reshape(-1, 1)*X @ (y.reshape(-1, 1)*X).T)\n",
    "    \n",
    "    P = cvxopt.matrix(H)\n",
    "    q = cvxopt.matrix(-np.ones((n, 1)))\n",
    "    G = cvxopt.matrix(-np.eye(n))\n",
    "    h = cvxopt.matrix(np.zeros((n,)))\n",
    "    A = cvxopt.matrix(y.reshape(1, -1))\n",
    "    b = cvxopt.matrix(np.zeros((1,)))\n",
    "    \n",
    "    cvxopt.solvers.options['show_progress'] = False\n",
    "    cvxopt.solvers.options['abstol'] = 1e-10\n",
    "    cvxopt.solvers.options['reltol'] = 1e-10\n",
    "    cvxopt.solvers.options['feastol'] = 1e-10\n",
    "    \n",
    "    sol = cvxopt.solvers.qp(P, q, G, h, A, b)\n",
    "    alpha = np.array(sol['x']).flatten()\n",
    "    \n",
    "    beta = (y * alpha) @ X\n",
    "    S = (alpha > 1e-4)\n",
    "    beta0 = y[S] - (X[S] @ beta)\n",
    "    beta0 = np.mean(beta0)\n",
    "    \n",
    "    return alpha, beta, beta0\n",
    "    \n",
    "alpha, beta, beta0 = svm_hard(X, y)\n",
    "plot_data(beta, beta0, X, y)"
   ]
  },
  {
   "cell_type": "code",
   "execution_count": 14,
   "metadata": {},
   "outputs": [
    {
     "data": {
      "image/png": "[encoded data removed]",
      "text/plain": [
       "<Figure size 432x288 with 1 Axes>"
      ]
     },
     "metadata": {
      "needs_background": "light"
     },
     "output_type": "display_data"
    }
   ],
   "source": [
    "def plot_data_support(b, b0, X, y):\n",
    "\n",
    "    #bo + b1x1 + b2x2 = 0 => x2 = -b1/b2*x1 - b0/b2 \n",
    "    x1 = np.linspace(np.min(X[:,0]) - 10, np.max(X[:,0]) + 10, 1000)\n",
    "    plt.plot(x1, -b[0]/b[1]*x1 -b0/b[1])\n",
    "    plt.plot(x1, (1 - b0 - b[0] * x1)/b[1], c='orange')\n",
    "    plt.plot(x1, (-1 - b0 - b[0] * x1)/b[1], c='orange')\n",
    "            \n",
    "    b10 = b / np.linalg.norm(b) * 10\n",
    "    plt.plot([0, b10[0]], [-b0/b[1], b10[1]-b0/b[1]], c='y')\n",
    "    \n",
    "    for i in range(len(X)):\n",
    "        plt.scatter(X[i][0], X[i][1], c=('r' if y[i] == 1 else 'g'))\n",
    "\n",
    "    plt.axis('equal')\n",
    "    plt.grid()\n",
    "    plt.show()\n",
    "    \n",
    "plot_data_support(beta, beta0, X, y)"
   ]
  },
  {
   "cell_type": "code",
   "execution_count": 15,
   "metadata": {},
   "outputs": [
    {
     "name": "stdout",
     "output_type": "stream",
     "text": [
      "beta: [0.60863972 0.48769628]\n",
      "beta_0: 0.4945487191858977\n",
      "Indices of support vectors: [ 0  9 15]\n",
      "Support vectors: [[-3.24114311  0.98040471]\n",
      " [ 0.73409373 -3.98064823]\n",
      " [-0.72740321  1.94419727]]\n",
      "Number of support vectors for each class: [2 1]\n",
      "Accuracy: 1.0\n"
     ]
    }
   ],
   "source": [
    "S = (alpha > 1e-4)\n",
    "S_idxs = np.arange(len(X))[S]\n",
    "S_vecs = X[S_idxs]\n",
    "S_nc = np.array([\n",
    "    np.sum(y[S_idxs] == -1),\n",
    "    np.sum(y[S_idxs] == +1),\n",
    "])\n",
    "\n",
    "y_pred = np.sign(X @ beta + beta0)\n",
    "acc = np.average(y == y_pred)\n",
    "\n",
    "print('beta:', beta)\n",
    "print('beta_0:', beta0)\n",
    "print('Indices of support vectors:', S_idxs)\n",
    "print('Support vectors:', S_vecs)\n",
    "print('Number of support vectors for each class:', S_nc)\n",
    "print('Accuracy:', acc)"
   ]
  },
  {
   "cell_type": "code",
   "execution_count": 16,
   "metadata": {},
   "outputs": [
    {
     "name": "stdout",
     "output_type": "stream",
     "text": [
      "beta: [[0.60842821 0.48764409]]\n",
      "beta_0: [0.49430228]\n",
      "Indices of support vectors: [ 0  9 15]\n",
      "Support vectors: [[-3.24114311  0.98040471]\n",
      " [ 0.73409373 -3.98064823]\n",
      " [-0.72740321  1.94419727]]\n",
      "Number of support vectors for each class: [2 1]\n",
      "Accuracy: 1.0\n"
     ]
    }
   ],
   "source": [
    "#Comparing with sklearn\n",
    "\n",
    "from sklearn.svm import SVC\n",
    "clf = SVC(C = 1e10, kernel = 'linear')\n",
    "clf.fit(X, y)\n",
    "\n",
    "y_pred = clf.predict(X)\n",
    "acc = np.average(y == y_pred)\n",
    "\n",
    "print('beta:', clf.coef_)\n",
    "print('beta_0:', clf.intercept_)\n",
    "print('Indices of support vectors:', clf.support_)\n",
    "print('Support vectors:', clf.support_vectors_)\n",
    "print('Number of support vectors for each class:', clf.n_support_)\n",
    "print('Accuracy:', acc)"
   ]
  }
 ],
 "metadata": {
  "kernelspec": {
   "display_name": "Python 3",
   "language": "python",
   "name": "python3"
  },
  "language_info": {
   "codemirror_mode": {
    "name": "ipython",
    "version": 3
   },
   "file_extension": ".py",
   "mimetype": "text/x-python",
   "name": "python",
   "nbconvert_exporter": "python",
   "pygments_lexer": "ipython3",
   "version": "3.6.7"
  }
 },
 "nbformat": 4,
 "nbformat_minor": 2
}
