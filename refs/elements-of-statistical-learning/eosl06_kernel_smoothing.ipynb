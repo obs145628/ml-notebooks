{
 "cells": [
  {
   "cell_type": "code",
   "execution_count": 1,
   "metadata": {},
   "outputs": [],
   "source": [
    "import functools\n",
    "import matplotlib.pyplot as plt\n",
    "import math\n",
    "import numpy as np\n",
    "import torch\n",
    "\n",
    "import sys\n",
    "sys.path.append('../../pyutils')\n",
    "import metrics\n",
    "import utils"
   ]
  },
  {
   "cell_type": "markdown",
   "metadata": {},
   "source": [
    "# One-Dimensional Kernel Smothers\n",
    "\n",
    "## K neirest neighbours:\n",
    "\n",
    "$$\\hat{f}(x) = \\frac{1}{K} \\sum_{x_i \\in N_K(x)} y_i$$\n",
    "\n",
    "with $N_K(x)$ the $K$ closest points of $x$."
   ]
  },
  {
   "cell_type": "code",
   "execution_count": 2,
   "metadata": {},
   "outputs": [
    {
     "data": {
      "image/png": "[encoded data removed]",
      "text/plain": [
       "<Figure size 432x288 with 1 Axes>"
      ]
     },
     "metadata": {
      "needs_background": "light"
     },
     "output_type": "display_data"
    }
   ],
   "source": [
    "class MyKNN:\n",
    "    \n",
    "    def __init__(self, k):\n",
    "        self.k = k\n",
    "        \n",
    "    def fit(self, X, y):\n",
    "        self.X = X\n",
    "        self.y = y\n",
    "        \n",
    "    def get_k_closest(self, x):\n",
    "        \n",
    "        dists = np.empty(len(self.X))\n",
    "        for i in range(len(self.X)):\n",
    "            dists[i] = (self.X[i] - x) @ (self.X[i] - x)\n",
    "        \n",
    "        p = dists.argsort()\n",
    "        yp = self.y[p]\n",
    "        return yp[:self.k]\n",
    "        \n",
    "        \n",
    "    def predict(self, X):\n",
    "        y = np.empty(len(X))\n",
    "        for i in range(len(X)):    \n",
    "            clos = self.get_k_closest(X[i])\n",
    "            #print(clos.shape)\n",
    "            y[i] = np.mean(clos)\n",
    "        return y\n",
    "            \n",
    "X = 0.2*np.random.randn(100,1)**2 + 1.5*np.random.randn(100,1) + 0.3\n",
    "y = 0.8*X[:,0] - 0.3*X[:,0]**2 + 0.8*X[:,0]**3 + 1.3 + 5*np.random.randn(len(X))\n",
    "\n",
    "\n",
    "clf = MyKNN(k=5)\n",
    "clf.fit(X,y)\n",
    "preds = clf.predict(X)\n",
    "\n",
    "plt.scatter(X, y, c='b')\n",
    "\n",
    "xx = np.linspace(-5, 5, 500)\n",
    "plt.plot(xx, clf.predict(xx), c='r')\n",
    "plt.show()"
   ]
  },
  {
   "cell_type": "markdown",
   "metadata": {},
   "source": [
    "## Nadaraya-Watso kernel-weigthed average\n",
    "\n",
    "$$\\hat{f}(x_0) = \\frac{\\sum_{i=1}^N K(x_0, x_i)y_i}{\\sum_{i=1}^N K(x_0, x_i)}$$\n",
    "\n",
    "\n",
    "## Epanechnikov quadratic kernel\n",
    "\n",
    "$$K_\\lambda(x_0,x) = D(\\frac{|x-x_0|}{\\lambda})$$\n",
    "\n",
    "with\n",
    "\n",
    "$$D(t) = \n",
    "\\begin{cases}\n",
    "    \\frac{3}{4}(1-t^2) & \\text{if } |t| \\leq 1\\\\\n",
    "    0 & \\text{otherwise}\n",
    "\\end{cases}\n",
    "$$\n",
    "\n",
    "$\\lambda$ represent the with of the neighbourhood, it is constant.  \n",
    "It can be made variables:\n",
    "\n",
    "$$K_\\lambda(x_0,x) = D(\\frac{|x-x_0|}{h_\\lambda(x_0)})$$\n",
    "\n",
    "Large $\\lambda$ implies lower variance but higher bias."
   ]
  },
  {
   "cell_type": "code",
   "execution_count": 3,
   "metadata": {},
   "outputs": [
    {
     "data": {
      "image/png": "[encoded data removed]",
      "text/plain": [
       "<Figure size 432x288 with 1 Axes>"
      ]
     },
     "metadata": {
      "needs_background": "light"
     },
     "output_type": "display_data"
    }
   ],
   "source": [
    "\n",
    "\n",
    "class NadarayaWatson:\n",
    "    \n",
    "    def __init__(self, kernel):\n",
    "        self.kernel = kernel\n",
    "        \n",
    "    def fit(self, X, y):\n",
    "        self.X = X\n",
    "        self.y = y\n",
    "        \n",
    "        \n",
    "    def get_pred(self, x):\n",
    "        num = 0\n",
    "        den = 0\n",
    "        for i in range(len(self.X)):\n",
    "            d = self.kernel(x, self.X[i])\n",
    "            num += d * self.y[i]\n",
    "            den += d\n",
    "        \n",
    "        return 0 if den == 0 else num / den    \n",
    "        \n",
    "    def predict(self, X):\n",
    "        y = np.empty(len(X))\n",
    "        for i in range(len(X)):    \n",
    "            y[i] = self.get_pred(X[i])\n",
    "        return y\n",
    "    \n",
    "def epanechnikov(lbda, x0, x):\n",
    "    t = np.linalg.norm(x - x0) / lbda\n",
    "    if t <= 1:\n",
    "        return 3/4 * (1-t**2)\n",
    "    else:\n",
    "        return 0\n",
    "    \n",
    "\n",
    "X = 0.2*np.random.randn(100,1)**2 + 1.5*np.random.randn(100,1) + 0.3\n",
    "y = 0.8*X[:,0] - 0.3*X[:,0]**2 + 0.8*X[:,0]**3 + 1.3 + 5*np.random.randn(len(X))\n",
    "\n",
    "kernel = functools.partial(epanechnikov, 2)\n",
    "clf = NadarayaWatson(kernel)\n",
    "clf.fit(X,y)\n",
    "preds = clf.predict(X)\n",
    "\n",
    "plt.scatter(X, y, c='b')\n",
    "\n",
    "xx = np.linspace(-5, 5, 500)\n",
    "plt.plot(xx, clf.predict(xx), c='r')\n",
    "plt.show()"
   ]
  },
  {
   "cell_type": "markdown",
   "metadata": {},
   "source": [
    "# Local Linear Regression"
   ]
  },
  {
   "cell_type": "markdown",
   "metadata": {},
   "source": [
    "Locally weighted regression solves a different weighted least squares problem at each target point $x_0$:\n",
    "\n",
    "$$\\min_{\\alpha(x_0), \\beta(x_0)} \\sum_{i=1}^N K(x_0, x_i) [y_i - \\alpha(x_0) - \\beta(x_0)x_i]^2$$\n",
    "\n",
    "The estimate is $\\hat{f}(x_0) = \\hat{\\alpha}(x_0) + \\hat{\\beta}(x_0)x_0$\n",
    "\n",
    "The estimate can be found by solving a weighted least square at the target point:\n",
    "\n",
    "$$\\hat{f}(x_0) = b(x_0)^T(B^TW(x_0)B)^{-1}B^TW(x_0)y$$\n",
    "\n",
    "with:\n",
    "- $b(x) \\in \\mathbb{R}^{p+1}$ the vector $x$ with an extra column $1$ at the beginning\n",
    "- $B \\in \\mathbb{R}^{N*(p+1)}$ matrix where the i-th row is $b(x_i)$\n",
    "- $W(x_0) \\in \\mathbb{R}^{N*N}$ diagonal matrix where $w_{ii} = K(x_0,x_i)$\n",
    "\n",
    "The estimate is linear in $y_i$:\n",
    "$$\\hat{f}(x_0) = \\sum_{i=1}^N l_i(x_0)y_i$$"
   ]
  },
  {
   "cell_type": "code",
   "execution_count": 4,
   "metadata": {},
   "outputs": [
    {
     "data": {
      "image/png": "[encoded data removed]",
      "text/plain": [
       "<Figure size 432x288 with 1 Axes>"
      ]
     },
     "metadata": {
      "needs_background": "light"
     },
     "output_type": "display_data"
    }
   ],
   "source": [
    "class LocallyWeightedRegression:\n",
    "    \n",
    "    def __init__(self, kernel):\n",
    "        self.kernel = kernel\n",
    "        \n",
    "    def fit(self, X, y):\n",
    "        self.X = X\n",
    "        self.B = np.concatenate((np.ones((len(X), 1)), X), axis=1)\n",
    "        self.y = y\n",
    "        \n",
    "        \n",
    "    def get_pred(self, x):\n",
    "        b = np.ones(len(x) + 1)\n",
    "        b[1:] = x\n",
    "        \n",
    "        \n",
    "        W = np.zeros((len(self.X), len(self.X)))\n",
    "        for i in range(len(self.X)):\n",
    "            W[i,i] = self.kernel(x, self.X[i])\n",
    "            \n",
    "        BWB = self.B.T @ W @ self.B + 1e-6 * np.eye(len(b))\n",
    "        beta = np.linalg.inv(BWB) @ self.B.T @ W @ y\n",
    "        return b @ beta\n",
    "\n",
    "        \n",
    "    def predict(self, X):\n",
    "        \n",
    "        y = np.empty(len(X))\n",
    "        for i in range(len(X)):    \n",
    "            y[i] = self.get_pred(X[i])\n",
    "        return y\n",
    "    \n",
    "    \n",
    "X = 0.2*np.random.randn(100,1)**2 + 1.5*np.random.randn(100,1) + 0.3\n",
    "y = 0.8*X[:,0] - 0.3*X[:,0]**2 + 0.8*X[:,0]**3 + 1.3 + 5*np.random.randn(len(X))\n",
    "\n",
    "kernel = functools.partial(epanechnikov, 0.5)\n",
    "clf = LocallyWeightedRegression(kernel)\n",
    "clf.fit(X,y)\n",
    "\n",
    "plt.scatter(X, y, c='b')\n",
    "\n",
    "xx = np.linspace(-5, 5, 500).reshape(-1, 1)\n",
    "plt.plot(xx, clf.predict(xx), c='r')\n",
    "plt.show()"
   ]
  },
  {
   "cell_type": "markdown",
   "metadata": {},
   "source": [
    "## Local Polynomial Regression\n",
    "\n",
    "We can fit local polynomials of any degree $d$:\n",
    "\n",
    "$$\\min_{\\alpha(x_0), \\beta_j(x_0), j=1,\\text{...},d} \\sum_{i=1}^N K(x_0, x_i) [y_i - \\alpha(x_0) - \\sum_{j=1}^d \\beta_j(x_0)x_i^j]^2$$\n",
    "\n",
    "It tend to recude bias of local regression, but also increase variance"
   ]
  },
  {
   "cell_type": "code",
   "execution_count": 5,
   "metadata": {},
   "outputs": [
    {
     "data": {
      "image/png": "[encoded data removed]",
      "text/plain": [
       "<Figure size 432x288 with 1 Axes>"
      ]
     },
     "metadata": {
      "needs_background": "light"
     },
     "output_type": "display_data"
    }
   ],
   "source": [
    "class LocallyPolynomialRegression:\n",
    "    \n",
    "    def __init__(self, kernel, degree):\n",
    "        self.kernel = kernel\n",
    "        self.d = degree\n",
    "        \n",
    "    def fit(self, X, y):\n",
    "        self.X = X\n",
    "        self.y = y\n",
    "        self.B = self.extend_x(self.X)\n",
    "    \n",
    "    def extend_x(self, X):\n",
    "        n = X.shape[0]\n",
    "        p = X.shape[1]\n",
    "        B = np.empty((n, 1 + self.d*p))\n",
    "        B[:, 0] = np.ones(n)\n",
    "        \n",
    "        for d in range(self.d):\n",
    "            B[:, 1+p*d:1+p*d+p] = X**(d+1)\n",
    "        return B\n",
    "        \n",
    "    \n",
    "        \n",
    "    def get_pred(self, x):\n",
    "        b = self.extend_x(x.reshape(1, -1))[0]\n",
    "        \n",
    "        W = np.zeros((len(self.X), len(self.X)))\n",
    "        for i in range(len(self.X)):\n",
    "            W[i,i] = self.kernel(x, self.X[i])\n",
    "            \n",
    "        BWB = self.B.T @ W @ self.B + 1e-6 * np.eye(len(b))\n",
    "        beta = np.linalg.inv(BWB) @ self.B.T @ W @ y\n",
    "        return b @ beta\n",
    "\n",
    "        \n",
    "    def predict(self, X):\n",
    "        \n",
    "        y = np.empty(len(X))\n",
    "        for i in range(len(X)):    \n",
    "            y[i] = self.get_pred(X[i])\n",
    "        return y\n",
    "    \n",
    "    \n",
    "X = 0.2*np.random.randn(100,1)**2 + 1.5*np.random.randn(100,1) + 0.3\n",
    "y = 0.8*X[:,0] - 0.3*X[:,0]**2 + 0.8*X[:,0]**3 + 1.3 + 5*np.random.randn(len(X))\n",
    "\n",
    "kernel = functools.partial(epanechnikov, 0.5)\n",
    "clf = LocallyPolynomialRegression(kernel, degree=4)\n",
    "clf.fit(X,y)\n",
    "\n",
    "plt.scatter(X, y, c='b')\n",
    "\n",
    "xx = np.linspace(-5, 5, 500).reshape(-1, 1)\n",
    "plt.plot(xx, clf.predict(xx), c='r')\n",
    "plt.show()"
   ]
  },
  {
   "cell_type": "markdown",
   "metadata": {},
   "source": [
    "# Selecting the width of the kernel\n",
    "\n",
    "$\\lambda$ control the kernel width, might be different among kernels:\n",
    "- Epanechnikov: $\\lambda$ is the radius of the support region\n",
    "- Gaussian: $\\lambda$ is the standard deviation\n",
    "- KNN: expressed as $k/n$, number of neighbors\n",
    "\n",
    "With a small $\\lambda$, the number of $y_i$ and smaller, which increase the variance,  and closer to $x_0$, which reduce the bias.  \n",
    "With a high $\\lambda$, there will be lots of $y_i$, and averaging reduces the variance, but the observations are farther from $x_i$, that increase the bias."
   ]
  },
  {
   "cell_type": "markdown",
   "metadata": {},
   "source": [
    "# Local Regression in $\\mathbb{R}^p$\n",
    "\n",
    "The same kernel techniques (KNN, local linear/polynomial regression) can be applied as $p$ increases.  \n",
    "But one effect of the curse of dimensionality is that the fraction of points close to boundaries increase as the dimension grows, the kernel function should me modified to accomodate that.  \n",
    "\n",
    "What's more, as $p$ increases, in order to both maintaint the localness (low bias) and a good number of neighbors (variance), the number of obervations must increase exponentially."
   ]
  },
  {
   "cell_type": "markdown",
   "metadata": {},
   "source": [
    "# Structured Local Regression in $\\mathbb{R}^p$"
   ]
  },
  {
   "cell_type": "markdown",
   "metadata": {},
   "source": [
    "## Structured Kernels\n",
    "\n",
    "The default spheral kernel gives equal weight to each feature, a strategy could be to standardize the data. Another approch is to use a weight matrix to give different importance for the features:\n",
    "$$K_{\\lambda,A} = D( \\frac{(x-x_0)^T A (x - x_0)}{\\lambda})$$\n",
    "\n",
    "with $A \\in \\mathbb{R}^{p*p}$ a positive semi-definite matrix of weights.  \n",
    "\n",
    "If $A$ is diagonal, it's possible to control the influence of each feauture individually.  \n",
    "Models can try to learn $A$, like the project-pursuit regression model.  \n",
    "In general, models with $A$ are cumbersone, and they are better structurel models."
   ]
  },
  {
   "cell_type": "markdown",
   "metadata": {},
   "source": [
    "## Varying coefficient models\n",
    "\n",
    "We divide $X$ into a set $(X_1, \\text{...}, X_q)$ with $q < p$, and the reminding features are in $Z$.  \n",
    "\n",
    "We define the linear model:\n",
    "$$f(X) = \\alpha(Z) + \\sum_{i=1}^q \\beta_i(Z)X_i$$\n",
    "\n",
    "We can fit the model with locally weighted regression:\n",
    "\n",
    "$$\\min_{\\alpha(z_0), \\beta_j(z_0), j=1,\\text{...},q} \\sum_{i=1}^N K(z_0, z_i) [y_i - \\alpha(z_0) - \\sum_{j=1}^q x_{ij} \\beta_j(z_0)]^2$$"
   ]
  },
  {
   "cell_type": "markdown",
   "metadata": {},
   "source": [
    "# Local Likelihood and Other Models"
   ]
  },
  {
   "cell_type": "markdown",
   "metadata": {},
   "source": [
    "We can extend log-likehilood by adding observations weights, computed locally with kernels:\n",
    "\n",
    "$$l(\\beta(x_0)) \\sum_{i=1}^N K(x_0, x_i) l(y_i, x_i^T \\beta(x_0))$$\n",
    "\n",
    "We can extend the logistig regression model:\n",
    "\n",
    "$$P(G=g|X=x) = \\frac{\\exp(\\beta_g^Tx)}{1 + \\sum_{k=1}^K \\exp(\\beta_k^Tx)}$$\n",
    "\n",
    "The local likelihood can be written as:\n",
    "\n",
    "$$\\sum_{i=1}^N K(x_o,x_i) [\\beta_g(x_0)^T(x_i - x_0) - \\log (1 + \\sum_{k=1}^K \\exp(\\beta_k(x_0)^T(x_i - x_0))  ]$$\n",
    "\n",
    "The estimated probability is:\n",
    "\n",
    "$$\\hat{p} = P(G=g|X=x_0) = \\frac{\\exp(\\hat{\\beta}_j(x_0))}{1 + \\sum_{k=1}^K \\exp(\\beta_k(x_0))}$$"
   ]
  },
  {
   "cell_type": "markdown",
   "metadata": {},
   "source": [
    "# Kernel Density Estimation and Classification"
   ]
  },
  {
   "cell_type": "markdown",
   "metadata": {},
   "source": [
    "## Kernel density estimation\n",
    "\n",
    "Let $x_1, \\text{...},x_N$ a sample drawn from $f_X(x)$, we wish to estimate $f_X$ at $x_0$.  \n",
    "We can use the smooth Parzen estimate:\n",
    "\n",
    "$$\\hat{f}_X(x_0) = \\frac{1}{N\\lambda} \\sum_{i=1}^N K_\\lambda(x_0,x_i)$$\n",
    "\n",
    "One commonon estimate is the Gausian Kernel:\n",
    "\n",
    "$$K_\\lambda(x_0, x) = \\frac{1}{\\lambda \\sqrt{2\\pi}} \\exp(-\\frac{(x_0 - x)^2}{2\\lambda^2})$$"
   ]
  },
  {
   "cell_type": "code",
   "execution_count": 6,
   "metadata": {},
   "outputs": [
    {
     "data": {
      "image/png": "[encoded data removed]",
      "text/plain": [
       "<Figure size 432x288 with 1 Axes>"
      ]
     },
     "metadata": {
      "needs_background": "light"
     },
     "output_type": "display_data"
    }
   ],
   "source": [
    "class ParzenEstimate:\n",
    "    \n",
    "    def __init__(self, kernel, lbda):\n",
    "        self.kernel = kernel\n",
    "        self.lbda = lbda\n",
    "        \n",
    "    def fit(self, X):\n",
    "        self.X = X\n",
    "        \n",
    "    def get_dens(self, x):\n",
    "        d = 0\n",
    "        for xi in self.X:\n",
    "            d += self.kernel(x, xi)\n",
    "        d /= (len(self.X) * self.lbda)\n",
    "        return d\n",
    "        \n",
    "    def predict(self, X):\n",
    "        return np.array([self.get_dens(x) for x in X])\n",
    "    \n",
    "def gauss_kernel(lbda, x0, x):\n",
    "    den = lbda * math.sqrt(2 * math.pi)\n",
    "    num = np.exp(-(x0 - x)**2 / (2*lbda**2))\n",
    "    return num / den\n",
    "\n",
    "LBDA = 0.5\n",
    "X = np.random.randn(5000) * 4.3 + 1.5\n",
    "clf = ParzenEstimate(functools.partial(gauss_kernel, LBDA), LBDA)\n",
    "clf.fit(X)\n",
    "\n",
    "xx = np.linspace(-10, 10, 100)\n",
    "d = np.array([gauss_kernel(4.3, x, 1.5) for x in xx])\n",
    "preds = clf.predict(xx)\n",
    "\n",
    "\n",
    "\n",
    "plt.plot(xx, d, c='b')\n",
    "plt.plot(xx, preds, c='y')\n",
    "plt.grid()\n",
    "plt.show()"
   ]
  },
  {
   "cell_type": "markdown",
   "metadata": {},
   "source": [
    "## Kernel density classification\n",
    "\n",
    "We can use the density estimate to solve the classification problem, using Bayes theorem.\n",
    "\n",
    "$$P(G = k | X = x_0) = \\frac{\\hat{f}_k(x_0) \\hat{\\pi}_k}{\\sum_{l=1}^K \\hat{f}_l(x_0) \\hat{\\pi}_l}$$\n",
    "\n",
    "Let $\\pi_k$ the prior probability of class $k$:\n",
    "$$P(G = k) = \\pi_k$$\n",
    "\n",
    "Let $f_k(x)$ the class conditional density of $X$ in class $G = k$:\n",
    "$$P(X \\in T | G = k) = \\int_T f_k(x)dx$$\n",
    "\n",
    "We can find an estimate of the propability:\n",
    "\n",
    "$$P(G = k | X = x_0) = \\frac{\\hat{f}_k(x_0) \\hat{\\pi}_k}{\\sum_{l=1}^K \\hat{f}_l(x_0) \\hat{\\pi}_l}$$\n",
    "\n",
    "When classification is the goal, learning class densities in unnecessary and might be misleading. We only need un estimate of the posterior near the decision boundary"
   ]
  },
  {
   "cell_type": "code",
   "execution_count": 7,
   "metadata": {},
   "outputs": [
    {
     "name": "stdout",
     "output_type": "stream",
     "text": [
      "accuracy: 0.99\n"
     ]
    }
   ],
   "source": [
    "X = np.random.randn(1000) * 4.3 + 1.5\n",
    "y = (X > 1.5).astype(np.int)\n",
    "\n",
    "X0 = X[y == 0]\n",
    "X1 = X[y == 1]\n",
    "\n",
    "LBDA = 0.5\n",
    "kernel = functools.partial(gauss_kernel, LBDA)\n",
    "clf0 = ParzenEstimate(kernel, LBDA)\n",
    "clf0.fit(X0)\n",
    "clf1 = ParzenEstimate(kernel, LBDA)\n",
    "clf1.fit(X1)\n",
    "\n",
    "pi1 = np.mean(y)\n",
    "pi0 = 1 - pi1\n",
    "\n",
    "def make_pred(x):\n",
    "    d0 = clf0.predict([x])\n",
    "    d1 = clf1.predict([x])\n",
    "    \n",
    "    num = pi1 * d1\n",
    "    den = (pi0*d0 + pi1*d1)\n",
    "    p = num/den\n",
    "    return 1 if p > 0.5 else 0\n",
    "\n",
    "preds = np.array([make_pred(x) for x in X])\n",
    "print('accuracy:', np.mean(y==preds))"
   ]
  },
  {
   "cell_type": "markdown",
   "metadata": {},
   "source": [
    "### Naive Bayes Classifier"
   ]
  },
  {
   "cell_type": "markdown",
   "metadata": {},
   "source": [
    "We have $K$ classes, and the observations have each $p$ features, that are independant:\n",
    "\n",
    "$$P(x|G_k) = \\prod_{j=1}^p P(x_j|G_k)$$\n",
    "\n",
    "$$P(G_k|x_1, \\text{...},x_p) \\propto P(G_k,x_1,\\text{...},x_p)$$\n",
    "$$P(G_k,x_1,\\text{...},x_p) = P(G_k) \\prod_{j=1}^p P(x_j|G_k)$$\n",
    "\n",
    "We can make new predictions:\n",
    "\n",
    "$$\\hat{g} = \\arg \\max_{k} P(G_k) \\prod_{j=1}^p P(x_j|G_k)$$\n",
    "\n",
    "Let's define $\\pi_k = P(G=k)$, and $f_{kj}(x)$ the class conditional density of feature $x_j$ for class $k$.\n",
    "\n",
    "$$\\hat{g} = \\arg \\max_{k} \\pi_k \\prod_{j=1}^p f_{kj}(x_j)$$"
   ]
  },
  {
   "cell_type": "markdown",
   "metadata": {},
   "source": [
    "### Gaussian naive Bayes\n",
    "\n",
    "We can use a Gaussian distribution to estimate the class conditional desnity of each feature.  \n",
    "For each class and feature, we compute the mean $\\mu_{kj}$ and the variance $\\sigma^2_{kj}$ of the observations.  \n",
    "\n",
    "Then we can compute the density:\n",
    "\n",
    "$$f_{kj}(x_j) = \\frac{1}{ \\sqrt{2\\pi\\sigma^2_{kj}}} \\exp(-\\frac{(x_j - \\mu_{kj})^2}{2\\sigma^2_{kj}})$$"
   ]
  },
  {
   "cell_type": "code",
   "execution_count": 8,
   "metadata": {},
   "outputs": [
    {
     "name": "stdout",
     "output_type": "stream",
     "text": [
      "accuracy: 0.8638\n"
     ]
    }
   ],
   "source": [
    "def gen_toy_class(N, noise=0.001):\n",
    "    X = 2.8 * np.random.randn(N, 4)**1 + 4.67\n",
    "    v1 = 1.5*X[:, 0] + 2.3*X[:, 1] - 0.3*X[:, 2] + 4.5 + noise*np.random.randn(len(X)) \n",
    "    v2 = 1.7*X[:, 0] + 0.4*X[:, 1] + 2.3*X[:, 2] - 3.7 + noise*np.random.randn(len(X))\n",
    "    v3 = -0.6*X[:, 0] + 5.8*X[:, 1] - 1.3*X[:, 2] + 0.1 + noise*np.random.randn(len(X))\n",
    "    V = np.vstack((v1, v2, v3)).T\n",
    "    g = np.argmax(V, axis=1)\n",
    "    return X, g\n",
    "\n",
    "class GaussianNaiveBayes:\n",
    "    \n",
    "    def __init__(self):\n",
    "        pass\n",
    "    \n",
    "    \n",
    "    def fit_priors(self):\n",
    "        #compute prior class probabilities\n",
    "        self.priors = np.empty(self.K)\n",
    "        for k in range(self.K):\n",
    "            self.priors[k] = len(self.y[self.y == k]) / len(self.y)\n",
    "            \n",
    "    def fit_densities(self):\n",
    "        #compute class conditional density for each feature\n",
    "        p = self.X.shape[1]\n",
    "        self.dens_mu = np.empty((self.K, p))\n",
    "        self.dens_std = np.empty((self.K, p))\n",
    "        \n",
    "        for k in range(self.K):\n",
    "            Xk = self.X[self.y == k]\n",
    "            for j in range(p):\n",
    "                self.dens_mu[k,j] = np.mean(Xk[:,j])\n",
    "                self.dens_std[k,j] = np.std(Xk[:,j])\n",
    "        \n",
    "    \n",
    "    def fit(self, X, y):\n",
    "        self.X = X\n",
    "        self.y = y\n",
    "        self.K = np.max(self.y) + 1\n",
    "        self.fit_priors()\n",
    "        self.fit_densities()\n",
    "        \n",
    "    def get_class_cond_density(self, x, k, j):\n",
    "        mu = self.dens_mu[k,j]\n",
    "        std = self.dens_std[k,j]\n",
    "        den = 1 / math.sqrt(2*math.pi*std**2)\n",
    "        num = math.exp(-((x[j] - mu)**2)/(2*std**2))\n",
    "        return num / den\n",
    "        \n",
    "    def get_pred(self, x):\n",
    "        vals = np.empty(self.K)\n",
    "        \n",
    "        for k in range(self.K):\n",
    "            v = self.priors[k]\n",
    "            for j in range(len(x)):\n",
    "                v *= self.get_class_cond_density(x, k, j)\n",
    "            vals[k] = v\n",
    "        \n",
    "        return np.argmax(vals)\n",
    "        \n",
    "        \n",
    "    def predict(self, X):\n",
    "        \n",
    "        y = np.empty(len(X))\n",
    "        for i in range(len(X)):    \n",
    "            y[i] = self.get_pred(X[i])\n",
    "        return y\n",
    "        \n",
    "        \n",
    "        \n",
    "        \n",
    "X, y = gen_toy_class(5000, noise=1e-3)\n",
    "\n",
    "clf = GaussianNaiveBayes()\n",
    "clf.fit(X, y)\n",
    "preds = clf.predict(X)\n",
    "\n",
    "print('accuracy:', np.mean(y==preds))"
   ]
  },
  {
   "cell_type": "markdown",
   "metadata": {},
   "source": [
    "We can derive the log-odds probability of naive bayes:\n",
    "    \n",
    "$$\\log \\frac{P(G_k|x}{P(G_K|X} = \\log \\frac{\\pi_k f_k(x)}{\\pi_K f_K(x)}$$\n",
    "\n",
    "$$\\log \\frac{P(G_k|x}{P(G_K|X} = \\log \\frac{\\pi_k}{\\pi_K} + \\sum_{j=1}^p \\log \\frac{f_{kj}(x)}{f_{Kj}(x)}$$"
   ]
  },
  {
   "cell_type": "markdown",
   "metadata": {},
   "source": [
    "# Radial Basis Functions and Kernels"
   ]
  },
  {
   "cell_type": "markdown",
   "metadata": {},
   "source": [
    "A RBF model combine both the smoothing kernel functions and the basis expansions function.  \n",
    "The model is of the form: \n",
    "$$f(x) = \\sum_{j=1}^M \\phi_{\\lambda j} (||x - \\zeta_j||) \\beta_j$$\n",
    "\n",
    "Each basis element has a location or protopype parameter $\\zeta_j \\in \\mathbb{R}^p$, a scale parameter $\\lambda_j \\in \\mathbb{R}$, and each basis has it's coefficient $\\beta_j$.  \n",
    "$\\phi_\\lambda$ is the the RBF function, a common one is the Gaussian RBF:\n",
    "\n",
    "$$\\phi_\\lambda(r) = \\exp (-\\frac{r^2}{\\lambda^2})$$\n",
    "\n",
    "Which leads to the following model:\n",
    "\n",
    "$$f(x) = \\sum_{j=1}^M \\exp(-\\frac{(x - \\zeta_j)^T(x - \\zeta_j)}{\\lambda_j^2}) \\beta_j$$"
   ]
  },
  {
   "cell_type": "markdown",
   "metadata": {},
   "source": [
    "## Gaussian RBF derivatives\n",
    "\n",
    "$$\\frac{\\partial \\phi_\\lambda(x, \\zeta)}{\\partial x} = \\frac{2}{\\lambda^2} * \\phi_\\lambda(x,\\zeta) * (\\zeta - x)$$\n",
    "$$\\frac{\\partial \\phi_\\lambda(x, \\zeta)}{\\partial \\zeta} = \\frac{2}{\\lambda^2} * \\phi_\\lambda(x,\\zeta) * (x - \\zeta)$$\n",
    "$$\\frac{\\partial \\phi_\\lambda(x, \\zeta)}{\\partial \\lambda} = \\frac{2}{\\lambda^3} * \\phi_\\lambda(x,\\zeta) * (x - \\zeta)^T (x - \\zeta)$$"
   ]
  },
  {
   "cell_type": "code",
   "execution_count": 9,
   "metadata": {},
   "outputs": [
    {
     "name": "stdout",
     "output_type": "stream",
     "text": [
      "0.9025619015138693\n",
      "0.9025619\n",
      "1.4860086494650204e-09\n",
      "[-0.11106457  0.0888723   0.49425295 -0.01354531  0.38432643]\n",
      "[-0.11106458  0.08887231  0.494253   -0.01354531  0.3843265 ]\n",
      "8.592934e-08\n",
      "[ 0.11106457 -0.0888723  -0.49425295  0.01354531 -0.38432643]\n",
      "[ 0.11106458 -0.08887231 -0.494253    0.01354531 -0.3843265 ]\n",
      "8.592934e-08\n",
      "0.20561965\n",
      "0.20561966\n",
      "1.4901161e-08\n"
     ]
    }
   ],
   "source": [
    "x = 0.1 * np.random.randn(5).astype(np.float32)\n",
    "c = 0.1 * np.random.randn(5).astype(np.float32)\n",
    "lbda = 0.9\n",
    "\n",
    "out = np.exp(-((x - c) @ (x - c))/lbda**2)\n",
    "dx = 2/lbda**2 * out * (c-x)\n",
    "dc = 2/lbda**2 * out * (x-c)\n",
    "dlbda = 2/lbda**3 * out * (x - c) @ (x - c)\n",
    "\n",
    "tx = torch.tensor(x, requires_grad=True)\n",
    "tc = torch.tensor(c, requires_grad=True)\n",
    "tlbda = torch.tensor(lbda, requires_grad=True)\n",
    "tout = torch.exp(-((tx - tc) @ (tx - tc))/tlbda**2)\n",
    "tout.backward()\n",
    "\n",
    "print(out)\n",
    "print(tout.data.numpy())\n",
    "print(metrics.tdist(out, tout.data.numpy()))\n",
    "\n",
    "print(dx)\n",
    "print(tx.grad.data.numpy())\n",
    "print(metrics.tdist(dx, tx.grad.data.numpy()))\n",
    "\n",
    "print(dc)\n",
    "print(tc.grad.data.numpy())\n",
    "print(metrics.tdist(dc, tc.grad.data.numpy()))\n",
    "\n",
    "\n",
    "print(dlbda)\n",
    "print(tlbda.grad.data.numpy())\n",
    "print(metrics.tdist(dlbda, tlbda.grad.data.numpy()))"
   ]
  },
  {
   "cell_type": "markdown",
   "metadata": {},
   "source": [
    "## RBF Network\n",
    "\n",
    "Let $X \\in \\mathbb{R}^{N*p}$ the matrix of observations.  \n",
    "Let $C \\in \\mathbb{R}^{M*p}$ the matrix of RBF mean parameters.  \n",
    "Let $\\lambda \\in \\mathbb{R}^{M}$ the vector of RBF std parameters.  \n",
    "Let $\\beta \\in \\mathbb{R}^M$ the vector of coefficients for the model.  \n",
    "Let $y \\in \\mathbb{R}^N$ the vector of observations labels.\n",
    "\n",
    "The model is: \n",
    "\n",
    "$$\\hat{y} = f(x) = \\sum_{j=1}^M \\phi_{\\lambda j} (||x - C_j||) \\beta_j$$\n",
    "\n",
    "We can use the MSE to define the error function of the model:\n",
    "\n",
    "$$J(C,\\beta,\\lambda) = \\sum_{i=1}^N (y_i - f(X_i))^2$$\n",
    "\n",
    "The different parameters $(C, \\beta, \\lambda)$ can be learned using a gradient algorithm\n",
    "\n",
    "\n",
    "$$\\frac{\\partial J}{\\partial X_{ik}} = d\\hat{y}_i \\sum_{j=1}^M \\beta_j d\\phi_k$$\n",
    "with $d\\hat{y} = \\frac{\\partial J}{\\partial \\hat{y}}$ and $d\\phi = \\frac{\\partial \\phi_\\lambda (X_i, C_j)}{\\partial X_i}$\n",
    "\n",
    "$$\\frac{\\partial J}{\\partial C_{kj}} = \\sum_{i=1}^N d\\hat{y}_i \\beta_k d\\phi_j$$\n",
    "with $d\\hat{y} = \\frac{\\partial J}{\\partial \\hat{y}}$ and $d\\phi = \\frac{\\partial \\phi_\\lambda (X_i, C_k)}{\\partial C_k}$\n",
    "\n",
    "$$\\frac{\\partial J}{\\partial \\lambda_{j}} = \\sum_{i=1}^N d\\hat{y}_i \\beta_k d\\phi$$\n",
    "with $d\\hat{y} = \\frac{\\partial J}{\\partial \\hat{y}}$ and $d\\phi = \\frac{\\partial \\phi_\\lambda (X_i, C_j)}{\\partial \\lambda}$\n",
    "\n",
    "$$\\frac{\\partial J}{\\partial \\beta_{j}} = \\sum_{i=1}^N d\\hat{y}_i \\phi_\\lambda(X_i,C_j)$$\n",
    "with $d\\hat{y} = \\frac{\\partial J}{\\partial \\hat{y}}$"
   ]
  },
  {
   "cell_type": "code",
   "execution_count": 10,
   "metadata": {},
   "outputs": [
    {
     "name": "stdout",
     "output_type": "stream",
     "text": [
      "3.987101451722696e-07\n",
      "4.4203986e-07\n",
      "err: 117.94931 117.9493\n",
      "7.6293945e-06\n",
      "7.9541405e-06\n",
      "1.1900114e-05\n",
      "1.529045e-05\n",
      "9.344062e-06\n"
     ]
    }
   ],
   "source": [
    "N = 50\n",
    "M = 7\n",
    "p = 5\n",
    "X = 0.1 * np.random.randn(N,p).astype(np.float32)\n",
    "C = 0.1 * np.random.randn(M,p).astype(np.float32)\n",
    "beta = np.random.randn(M).astype(np.float32)\n",
    "lbda = np.random.randn(M).astype(np.float32)\n",
    "y = np.random.randn(N).astype(np.float32)\n",
    "\n",
    "\n",
    "#matrix formula\n",
    "#Xe[i,j,k] = X[j,k]\n",
    "Xe = np.repeat(X, repeats=M).reshape(N, p, M).transpose(2, 0, 1)\n",
    "#Ce[i,j,k] = C[i,k]\n",
    "Ce = np.repeat(C, repeats=N).reshape(M, p, N).transpose(0, 2, 1)\n",
    "XCdot = (Xe - Ce) ** 2\n",
    "XCdot = XCdot.sum(axis=2)\n",
    "basis = np.exp(-XCdot/lbda.reshape(-1, 1)**2)\n",
    "preds = beta @ basis    \n",
    "err = np.sum((y -preds)**2)\n",
    "\n",
    "#original formula\n",
    "preds2 = np.empty(N)\n",
    "for i in range(N):\n",
    "    v = 0\n",
    "    for j in range(M):\n",
    "        v += beta[j] * np.exp(-((X[i] - C[j]) @ (X[i] - C[j]))/lbda[j]**2)\n",
    "    preds2[i] = v\n",
    "\n",
    "#print(preds[:10])\n",
    "#print(preds2[:10])\n",
    "print(metrics.tdist(preds, preds2))\n",
    "\n",
    "tX = torch.tensor(X, requires_grad=True)\n",
    "tC = torch.tensor(C, requires_grad=True)\n",
    "tbeta = torch.tensor(beta, requires_grad=True)\n",
    "tlbda = torch.tensor(lbda, requires_grad=True)\n",
    "ty = torch.tensor(y, requires_grad=False)\n",
    "\n",
    "tXe = tX.flatten().repeat(M).reshape(M, N, p)\n",
    "tCe = tC.flatten().repeat(N).reshape(N, M, p).permute(1, 0, 2)\n",
    "tXCdot = (tXe - tCe) ** 2\n",
    "tXCdot = tXCdot.sum(dim=2)\n",
    "tpreds = tbeta @ torch.exp(-tXCdot/tlbda.reshape(-1, 1)**2)\n",
    "terr = torch.sum((ty - tpreds)**2)\n",
    "terr.backward()\n",
    "\n",
    "print(metrics.tdist(preds, tpreds.data.numpy()))\n",
    "print('err:', err, terr.data.numpy())\n",
    "print(metrics.tdist(err, terr.data.numpy()))\n",
    "\n",
    "\n",
    "dpreds = 2 * (preds - y)\n",
    "\n",
    "dX = 2/lbda.reshape(M,1,1)**2 * basis.reshape(M, N, 1) * (C.reshape(M, 1, p) - X.reshape(1, N, p))\n",
    "dX = np.sum(dX * beta.reshape(M,1,1), axis=0)\n",
    "dX = dpreds.reshape(-1,1) * dX\n",
    "print(metrics.tdist(dX, tX.grad.data.numpy()))\n",
    "\n",
    "dC = 2 / lbda.reshape(1, M, 1)**2 * basis.T.reshape(N, M, 1) * (X.reshape(N,1,p) - C.reshape(1, M,p))\n",
    "dC = dpreds.reshape(N, 1, 1) * beta.reshape(1, M, 1) * dC\n",
    "dC = dC.sum(axis=0)\n",
    "print(metrics.tdist(dC, tC.grad.data.numpy()))\n",
    "\n",
    "dlbda = 2/lbda.reshape(M,1)**3 * basis * XCdot\n",
    "dlbda = dlbda * dpreds.reshape(1, N) * beta.reshape(M,1)\n",
    "dlbda = np.sum(dlbda,axis=1)\n",
    "print(metrics.tdist(dlbda, tlbda.grad.data.numpy()))\n",
    "\n",
    "dbeta = dpreds.reshape(1,N) * basis\n",
    "dbeta = np.sum(dbeta,axis=1)\n",
    "print(metrics.tdist(dbeta, tbeta.grad.data.numpy()))"
   ]
  },
  {
   "cell_type": "code",
   "execution_count": 11,
   "metadata": {},
   "outputs": [
    {
     "name": "stdout",
     "output_type": "stream",
     "text": [
      "epoch 0, loss = 1477.591064453125\n",
      "epoch 200, loss = 197.71986389160156\n",
      "epoch 400, loss = 42.58131790161133\n",
      "epoch 600, loss = 28.312143325805664\n",
      "epoch 800, loss = 24.155550003051758\n",
      "epoch 1000, loss = 22.06928253173828\n",
      "epoch 1200, loss = 20.75361442565918\n",
      "epoch 1400, loss = 19.8143367767334\n",
      "epoch 1600, loss = 19.08597183227539\n",
      "epoch 1800, loss = 18.48657989501953\n",
      "epoch 2000, loss = 17.971710205078125\n",
      "epoch 2200, loss = 17.515892028808594\n",
      "epoch 2400, loss = 17.103925704956055\n",
      "epoch 2600, loss = 16.7261962890625\n",
      "epoch 2800, loss = 16.37596893310547\n",
      "epoch 3000, loss = 16.04767417907715\n",
      "epoch 3200, loss = 15.73583984375\n",
      "epoch 3400, loss = 15.434199333190918\n",
      "epoch 3600, loss = 15.134614944458008\n",
      "epoch 3800, loss = 14.825384140014648\n"
     ]
    }
   ],
   "source": [
    "class RBFNet(torch.nn.Module):\n",
    "\n",
    "    def __init__(self, M, p):\n",
    "        super(RBFNet, self).__init__()\n",
    "        self.M = M\n",
    "        self.p = p\n",
    "        \n",
    "        C = 0.1 * np.random.randn(M,p).astype(np.float32)\n",
    "        beta = np.random.randn(M).astype(np.float32)\n",
    "        lbda = np.random.randn(M).astype(np.float32)\n",
    "        \n",
    "        self.C = torch.tensor(C, requires_grad=True)\n",
    "        self.beta = torch.tensor(beta, requires_grad=True)\n",
    "        self.lbda = torch.tensor(lbda, requires_grad=True)\n",
    "    \n",
    "    def parameters(self):\n",
    "        return list([self.C, self.beta, self.lbda])\n",
    "\n",
    "    def forward(self, X):\n",
    "        N = len(X)\n",
    "        M = self.M\n",
    "        p = self.p\n",
    "        \n",
    "        Xe = X.flatten().repeat(M).reshape(M, N, p)\n",
    "        Ce = self.C.flatten().repeat(N).reshape(N, M, p).permute(1, 0, 2)\n",
    "        XCdot = (Xe - Ce) ** 2\n",
    "        XCdot = XCdot.sum(dim=2)\n",
    "        preds = self.beta @ torch.exp(-XCdot/self.lbda.reshape(-1, 1)**2)\n",
    "        return preds\n",
    "     \n",
    "    \n",
    "        \n",
    "N = 50\n",
    "M = 7\n",
    "p = 3\n",
    "X = 0.1 * np.random.randn(N,p).astype(np.float32)\n",
    "y = 4.4*X[:,0] + 1.2*X[:,1] + 6.2*X[:,2] -3.2 + 0.5*np.random.randn(N) \n",
    "X = torch.tensor(X)\n",
    "y = torch.tensor(y.astype(np.float32))\n",
    "        \n",
    "\n",
    "net = RBFNet(M,p)\n",
    "criterion = torch.nn.MSELoss(reduction='sum')\n",
    "#optimizer = torch.optim.SGD(net.parameters(), lr=0.001)\n",
    "optimizer = torch.optim.Adam(net.parameters(), lr=0.001)\n",
    "\n",
    "for epoch in range(4000):\n",
    "    optimizer.zero_grad()\n",
    "    preds = net(X)\n",
    "    loss = criterion(preds, y)\n",
    "    loss.backward()\n",
    "    optimizer.step()\n",
    "    \n",
    "    if (epoch % 200 == 0):\n",
    "        print('epoch {}, loss = {}'.format(epoch, loss.data.numpy()))"
   ]
  },
  {
   "cell_type": "markdown",
   "metadata": {},
   "source": [
    "# Mixture Models for Density Estimation and Classification\n",
    "\n",
    "This model can be used for density estimation.  \n",
    "The Gaussian mixture model is:\n",
    "\n",
    "$$f(x) = \\sum_{i=1}^M \\alpha_m \\phi(x;\\mu_m;\\Sigma_m)$$\n",
    "\n",
    "$$\\text{with } \\sum_{i=1}^M \\alpha_m = 1$$\n",
    "\n",
    "$\\alpha_m$ represent the probability of selecting the gaussian $m$, having a mean of $\\mu_m$ and a covariance matrix $\\Sigma_m$.  \n",
    "\n",
    "We can try to use one density for each class, and try to predict $P(G|X)$.  \n",
    "An estimate of the probability is:\n",
    "\n",
    "$$P(G=m|X=x) = \\frac{\\alpha_m \\phi(x;\\mu_m;\\Sigma_m)}{\\sum_{k=1}^M \\alpha_k \\phi(x;\\mu_k;\\Sigma_k)}$$\n",
    "\n",
    "This technique is unsupervised, the labels are not used, by it can still be able to find a good model to separate the classes.  \n",
    "\n",
    "Such models are trained with the EM algorithm"
   ]
  },
  {
   "cell_type": "code",
   "execution_count": null,
   "metadata": {},
   "outputs": [],
   "source": []
  }
 ],
 "metadata": {
  "kernelspec": {
   "display_name": "Python 3",
   "language": "python",
   "name": "python3"
  },
  "language_info": {
   "codemirror_mode": {
    "name": "ipython",
    "version": 3
   },
   "file_extension": ".py",
   "mimetype": "text/x-python",
   "name": "python",
   "nbconvert_exporter": "python",
   "pygments_lexer": "ipython3",
   "version": "3.6.7"
  }
 },
 "nbformat": 4,
 "nbformat_minor": 2
}
