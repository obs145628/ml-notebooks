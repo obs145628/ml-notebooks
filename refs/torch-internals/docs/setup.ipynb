{
 "cells": [
  {
   "cell_type": "markdown",
   "metadata": {},
   "source": [
    "Setup and install pytorch from source in debug mode.  \n",
    "\n",
    "More infos found at:\n",
    "- [Contributing](https://github.com/pytorch/pytorch/blob/v1.4.0/CONTRIBUTING.md)\n",
    "- [Install from source](https://github.com/pytorch/pytorch/tree/v1.4.0#from-source)\n",
    "\n",
    "## Prepare env\n",
    "\n",
    "usually simply follow steps on install from source.\n",
    "eg: pytorch 1.4.0 with anaconda:\n",
    "\n",
    "```shell\n",
    "git clone https://github.com/pytorch/pytorch.git\n",
    "cd pytorch\n",
    "git checkout v1.4.0\n",
    "git submodule update --init --recursive\n",
    "```\n",
    "\n",
    "\n",
    "## Build with debug flags\n",
    "\n",
    "Follows infos on contributing\n",
    "\n",
    "```shell\n",
    "export CMAKE_PREFIX_PATH=${CONDA_PREFIX:-\"$(dirname $(which conda))/../\"}\n",
    "export DEBUG=1\n",
    "export USE_CUDA=0\n",
    "python setup.py develop\n",
    "```"
   ]
  }
 ],
 "metadata": {
  "kernelspec": {
   "display_name": "Python 3",
   "language": "python",
   "name": "python3"
  },
  "language_info": {
   "codemirror_mode": {
    "name": "ipython",
    "version": 3
   },
   "file_extension": ".py",
   "mimetype": "text/x-python",
   "name": "python",
   "nbconvert_exporter": "python",
   "pygments_lexer": "ipython3",
   "version": "3.6.9"
  }
 },
 "nbformat": 4,
 "nbformat_minor": 2
}
