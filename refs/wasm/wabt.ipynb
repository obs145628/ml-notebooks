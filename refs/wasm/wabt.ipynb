{
 "cells": [
  {
   "cell_type": "markdown",
   "metadata": {},
   "source": [
    "[wabt](https://github.com/WebAssembly/wabt) is Web Assembly Binary toolkit.  \n",
    "Many binary utils for wasm.\n",
    "\n",
    "## Installation\n",
    "\n",
    "```shell\n",
    "cd ~/local\n",
    "git clone --recursive https://github.com/WebAssembly/wabt.git wabt-git\n",
    "cd wabt-git\n",
    "mkdir _build\n",
    "cd _build\n",
    "cmake .. -DCMAKE_BUILD_TYPE=Release -DCMAKE_INSTALL_PREFIX=/home/obs/local/wabt/\n",
    "make\n",
    "make install\n",
    "```\n",
    "\n",
    "# wasm-decompile\n",
    "\n",
    "```shell\n",
    "wasm-decompile target.wasm\n",
    "```\n",
    "\n",
    "Display wasm file into a more readable language than WAT."
   ]
  }
 ],
 "metadata": {
  "kernelspec": {
   "display_name": "Python 3",
   "language": "python",
   "name": "python3"
  },
  "language_info": {
   "codemirror_mode": {
    "name": "ipython",
    "version": 3
   },
   "file_extension": ".py",
   "mimetype": "text/x-python",
   "name": "python",
   "nbconvert_exporter": "python",
   "pygments_lexer": "ipython3",
   "version": "3.6.9"
  }
 },
 "nbformat": 4,
 "nbformat_minor": 2
}
