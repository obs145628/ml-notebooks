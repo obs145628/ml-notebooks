{
 "cells": [
  {
   "cell_type": "markdown",
   "metadata": {},
   "source": [
    "# Why stack-based\n",
    "\n",
    "smaller binary than registers, SSA, "
   ]
  },
  {
   "cell_type": "markdown",
   "metadata": {},
   "source": [
    "# Why structured control-flow\n",
    "\n",
    "Reduce binary size compared to linear control flow.  \n",
    "Simpler and efficient verification.  \n",
    "\n",
    "Any control flow (like irreductible) can be transformed to strctured control flow using relooper algorithm (see emscripten paper).  \n",
    "It can then be converted to basic blocks again for JIT."
   ]
  },
  {
   "cell_type": "markdown",
   "metadata": {},
   "source": [
    "# Refs\n",
    "\n",
    "- [Web Assembly: Design Rationale](https://github.com/WebAssembly/design/blob/master/Rationale.md)\n",
    "\n",
    "- [Emscripten: an LLVM-to-JavaScript compiler](https://www.researchgate.net/publication/221320724_Emscripten_an_LLVM-to-JavaScript_compiler)"
   ]
  }
 ],
 "metadata": {
  "kernelspec": {
   "display_name": "Python 3",
   "language": "python",
   "name": "python3"
  },
  "language_info": {
   "codemirror_mode": {
    "name": "ipython",
    "version": 3
   },
   "file_extension": ".py",
   "mimetype": "text/x-python",
   "name": "python",
   "nbconvert_exporter": "python",
   "pygments_lexer": "ipython3",
   "version": "3.6.9"
  }
 },
 "nbformat": 4,
 "nbformat_minor": 2
}
