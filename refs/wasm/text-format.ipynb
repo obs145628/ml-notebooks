{
 "cells": [
  {
   "cell_type": "markdown",
   "metadata": {},
   "source": [
    "A wasm module can be represented by a wat file, in text-format, readable by a human.  \n",
    "It is based on S-expressions.  \n",
    "\n",
    "The text format closely mirrors the abstract syntax, and add some syntactic sugar."
   ]
  },
  {
   "cell_type": "markdown",
   "metadata": {},
   "source": [
    "# Folded instructions\n",
    "\n",
    "Instructions are written in S-expressions form. The instruction operands are given by folded S-expressions.  \n",
    "This are syntactic sugar for writing recursive expressions, and can be converted to the corresponding linear stack-back list of instructions."
   ]
  }
 ],
 "metadata": {
  "kernelspec": {
   "display_name": "Python 3",
   "language": "python",
   "name": "python3"
  },
  "language_info": {
   "codemirror_mode": {
    "name": "ipython",
    "version": 3
   },
   "file_extension": ".py",
   "mimetype": "text/x-python",
   "name": "python",
   "nbconvert_exporter": "python",
   "pygments_lexer": "ipython3",
   "version": "3.6.9"
  }
 },
 "nbformat": 4,
 "nbformat_minor": 2
}
