{
 "cells": [
  {
   "cell_type": "markdown",
   "metadata": {},
   "source": [
    "[Emscripten](https://emscripten.org/index.html) is a C/C++ compiler to wasm"
   ]
  },
  {
   "cell_type": "markdown",
   "metadata": {},
   "source": [
    "# Installation\n",
    "\n",
    "```shell\n",
    "cd ~/local\n",
    "git clone https://github.com/emscripten-core/emsdk.git\n",
    "cd emsdk\n",
    "./emsdk install latest\n",
    "./emsdk activate latest\n",
    "```\n",
    "\n",
    "# Usage\n",
    "\n",
    "Config environment for emscripten:\n",
    "\n",
    "```shell\n",
    "source ./emsdk_env.sh\n",
    "```\n",
    "\n",
    "Basic program:\n",
    "```shelll\n",
    "emcc main.c\n",
    "node a.out.js\n",
    "```\n",
    "\n",
    "# Update\n",
    "\n",
    "```shell\n",
    "./emsdk update\n",
    "./emsdk install latest\n",
    "./emsdk activate latest\n",
    "```"
   ]
  },
  {
   "cell_type": "markdown",
   "metadata": {},
   "source": [
    "# Example: create wasm lib\n",
    "\n",
    "Source file fact.c:\n",
    "```c\n",
    "int fact(int x)\n",
    "{\n",
    "  return x <= 1 ? 1 : x * fact(x-1);\n",
    "}\n",
    "```\n",
    "\n",
    "Compile:\n",
    "```shell\n",
    "emcc fact.c -O1 -s SIDE_MODULE=1 -s EXPORTED_FUNCTIONS=\"['_fact']\" -o fact.wasm\n",
    "wasm-opt -O3 fact.wasm -o fact.wasm\n",
    "```\n",
    "\n",
    "Output of `wasm-dis fact.wsasm`:\n",
    "```\n",
    "(module\n",
    " (type $none_=>_none (func))\n",
    " (type $i32_=>_i32 (func (param i32) (result i32)))\n",
    " (global $global$0 i32 (i32.const 0))\n",
    " (export \"__wasm_apply_relocs\" (func $0))\n",
    " (export \"fact\" (func $1))\n",
    " (export \"__dso_handle\" (global $global$0))\n",
    " (export \"__post_instantiate\" (func $0))\n",
    " (func $0 (; 0 ;)\n",
    "  (nop)\n",
    " )\n",
    " (func $1 (; 1 ;) (param $0 i32) (result i32)\n",
    "  (if (result i32)\n",
    "   (i32.ge_s\n",
    "    (local.get $0)\n",
    "    (i32.const 2)\n",
    "   )\n",
    "   (i32.mul\n",
    "    (call $1\n",
    "     (i32.add\n",
    "      (local.get $0)\n",
    "      (i32.const -1)\n",
    "     )\n",
    "    )\n",
    "    (local.get $0)\n",
    "   )\n",
    "   (i32.const 1)\n",
    "  )\n",
    " )\n",
    " ;; custom section \"dylink\", size 5\n",
    ")\n",
    "```"
   ]
  },
  {
   "cell_type": "markdown",
   "metadata": {},
   "source": [
    "# Options\n",
    "\n",
    "Options are set using ```-s OPTION1=VAL1 -s OPTION2=val2```.  \n",
    "The whole list of options can be find [here](https://github.com/emscripten-core/emscripten/blob/1.29.12/src/settings.js)\n",
    "\n",
    "## EXPORTED_FUNCTIONS\n",
    "\n",
    "List of functions that must be exported, names prefixed with '_'.  \n",
    "This may not be needed, it's just that withoutt this option LLVM optis may remove some functions that we would want exported.\n",
    "\n",
    "## SIDE_MODULE=1\n",
    "\n",
    "Create a dynamic library. Used to define a wasm library exporting only a few functions."
   ]
  },
  {
   "cell_type": "markdown",
   "metadata": {},
   "source": [
    "# Extra exports\n",
    "\n",
    "when building, emscipten may export some extra symbols\n",
    "\n",
    "## \\_\\_dso_handle\n",
    "\n",
    "int global of value $0$, guard to identify dynamic shared objects\n",
    "\n",
    "## \\_\\_post_instantiate\n",
    "\n",
    "Used to run code when module is instantied.  \n",
    "Usually to initialize global variables (run global constructors)\n",
    "\n",
    "## \\_\\_wasm_apply_relocs\n",
    "\n",
    "Called by \\_\\_post_instantiate, perform symbols relocation ?"
   ]
  }
 ],
 "metadata": {
  "kernelspec": {
   "display_name": "Python 3",
   "language": "python",
   "name": "python3"
  },
  "language_info": {
   "codemirror_mode": {
    "name": "ipython",
    "version": 3
   },
   "file_extension": ".py",
   "mimetype": "text/x-python",
   "name": "python",
   "nbconvert_exporter": "python",
   "pygments_lexer": "ipython3",
   "version": "3.6.9"
  }
 },
 "nbformat": 4,
 "nbformat_minor": 2
}
