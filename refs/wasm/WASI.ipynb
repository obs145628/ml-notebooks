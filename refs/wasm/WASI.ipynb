{
 "cells": [
  {
   "cell_type": "markdown",
   "metadata": {},
   "source": [
    "[WASI](https://github.com/WebAssembly/WASI) (Web Assembly System Interface)\n",
    "\n",
    "The Emebeder can define import functions and memories usable by the WASM module, but the standard doesn't define any, and by default WASM cannot do anything by itself.  \n",
    "\n",
    "WASI defines such an interface, that could be used to talk to the system, in a platform and hardware independant manner.  \n",
    "\n",
    "WASM is an assembly language for a conceptual machine.  \n",
    "WASI is a system interface for a conceptual operating system.  \n",
    "\n",
    "A first approach to do this was done by Emscripten, which emulates the libc and POSIX interface.  \n",
    "\n",
    "# wasi-core\n",
    "\n",
    "base interface needed by all programs, should look a lot like POSIX.  \n",
    "To compile Rust to WASM for example, standard functions implementations would use WASI-core.  \n",
    "For C/C++, the libc would also use wasi-core."
   ]
  },
  {
   "cell_type": "markdown",
   "metadata": {},
   "source": [
    "# Refs:\n",
    "    \n",
    "- [Standardizing WASI: A system interface to run WebAssembly outside the web](https://hacks.mozilla.org/2019/03/standardizing-wasi-a-webassembly-system-interface/)"
   ]
  }
 ],
 "metadata": {
  "kernelspec": {
   "display_name": "Python 3",
   "language": "python",
   "name": "python3"
  },
  "language_info": {
   "codemirror_mode": {
    "name": "ipython",
    "version": 3
   },
   "file_extension": ".py",
   "mimetype": "text/x-python",
   "name": "python",
   "nbconvert_exporter": "python",
   "pygments_lexer": "ipython3",
   "version": "3.6.9"
  }
 },
 "nbformat": 4,
 "nbformat_minor": 2
}
