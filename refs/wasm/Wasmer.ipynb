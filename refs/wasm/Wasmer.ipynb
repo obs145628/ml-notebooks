{
 "cells": [
  {
   "cell_type": "markdown",
   "metadata": {},
   "source": [
    "[Wasmer](https://github.com/wasmerio/wasmer) is a standalone WASM embeder, to run WASM outside of a browser.  \n",
    "Wasmer can be embedded into many languages to run WASM modules:\n",
    "- Rust\n",
    "- C/C++\n",
    "- Python\n",
    "- Go\n",
    "- JavaScript\n",
    "- R\n",
    "\n",
    "It supports WASI and Emscripten.  \n",
    "\n",
    "It can also run standalone WASM modules using with a CLI"
   ]
  }
 ],
 "metadata": {
  "kernelspec": {
   "display_name": "Python 3",
   "language": "python",
   "name": "python3"
  },
  "language_info": {
   "codemirror_mode": {
    "name": "ipython",
    "version": 3
   },
   "file_extension": ".py",
   "mimetype": "text/x-python",
   "name": "python",
   "nbconvert_exporter": "python",
   "pygments_lexer": "ipython3",
   "version": "3.6.9"
  }
 },
 "nbformat": 4,
 "nbformat_minor": 2
}
