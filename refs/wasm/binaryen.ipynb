{
 "cells": [
  {
   "cell_type": "markdown",
   "metadata": {},
   "source": [
    "[binaryen](https://github.com/WebAssembly/binaryen) is a Compiler infrastructure and toolchain for WASM"
   ]
  },
  {
   "cell_type": "markdown",
   "metadata": {},
   "source": [
    "# Installation\n",
    "\n",
    "```shell\n",
    "cd ~/local\n",
    "git clone https://github.com/WebAssembly/binaryen.git binaryen-git\n",
    "cd binaryen-git\n",
    "mkdir _build\n",
    "cd _build\n",
    "cmake .. -DCMAKE_BUILD_TYPE=Release -DCMAKE_INSTALL_PREFIX=/home/obs/local/binaryen/\n",
    "make\n",
    "make install\n",
    "```"
   ]
  },
  {
   "cell_type": "markdown",
   "metadata": {},
   "source": [
    "# wasm-dis\n",
    "\n",
    "Dissasemble and print to text for wasm file:\n",
    "```shell\n",
    "wasm-dis fact.wasm\n",
    "```\n",
    "\n",
    "Or save it to a file\n",
    "```shell\n",
    "wasm-dis fact.wasm -o fact.wat\n",
    "```"
   ]
  },
  {
   "cell_type": "markdown",
   "metadata": {},
   "source": [
    "# wasm-opt\n",
    "\n",
    "Optimize wasm binary code:\n",
    "\n",
    "```shell\n",
    "wasm-opt -O3 input.wasm -o output.wasm\n",
    "```\n",
    "\n",
    "Optimisations passes: ```-O0``` to ```-O4```, ```-Os``` and ```-Oz``` to optimize size"
   ]
  }
 ],
 "metadata": {
  "kernelspec": {
   "display_name": "Python 3",
   "language": "python",
   "name": "python3"
  },
  "language_info": {
   "codemirror_mode": {
    "name": "ipython",
    "version": 3
   },
   "file_extension": ".py",
   "mimetype": "text/x-python",
   "name": "python",
   "nbconvert_exporter": "python",
   "pygments_lexer": "ipython3",
   "version": "3.6.9"
  }
 },
 "nbformat": 4,
 "nbformat_minor": 2
}
