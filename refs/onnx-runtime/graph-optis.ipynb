{
 "cells": [
  {
   "cell_type": "markdown",
   "metadata": {},
   "source": [
    "# Graph Optimizations\n",
    "\n",
    "\n",
    "optis divided into 3 levels:\n",
    "- basic\n",
    "- extended\n",
    "- layout optimizations.\n",
    "\n",
    "\n",
    "Can be performed online (right before inference), or offline (opti graph saved to disk).\n",
    "\n",
    "## Basic\n",
    "\n",
    "Semantic preserving graph rewrite optimizations.  \n",
    "Run before partitionning (independent of execution providers).  \n",
    "\n",
    "- Constant Folding\n",
    "- Redundant node Eliminations:\n",
    "    + Identity Elimination: Remove Identity operation\n",
    "    + Slice Elimination: Remove slice operation that doesn't reduce data\n",
    "    + Unsqueeze Elimination: If applied to constant, unsqueeze and returns new constant\n",
    "    + Dropout Elimination: Remove dropout nodes whithout output deps\n",
    "\n",
    "- Semantic-preserving node fusions: Combine multiples nodes in ones.\n",
    "    + Conv Add Fusion\n",
    "    + Conv Mul Fusion\n",
    "    + Conv BatchNorm Fusion\n",
    "    + Relu Clip Fusion\n",
    "\n",
    "## Extended\n",
    "\n",
    "Complex node fusions, done after partitioning, and only applied to the CPU execution provider.\n",
    "\n",
    "- GEMM Activation Fusion: Some specific activations can be fused with a GEMM: LeakyRelu, Relu, Sigmoid, Tanh\n",
    "- Matmul Add Fusion\n",
    "- Conv Activation Fusion\n",
    "- GELU Fusion\n",
    "\n",
    "GEMM is exaclty like the Blas operation, and Matmul is more flexible, similar to numpy (can be 3D and more)\n",
    "\n",
    "## Layout\n",
    "\n",
    "Complex node fusions, done after partitioning, and only applied to the CPU execution provider.  \n",
    "Change the data layout for some operations\n",
    "\n",
    "- NCHWc: Use NCHWc layout instead of NCHW layout.  \n",
    "    NCHWc: The tensor is 5D, the channel being divided between C/c and c, with c related to the vector instructions CPU size, for better optimizations.\n",
    "\n",
    "## Online / Offline\n",
    "\n",
    "In offline mode, serialized model is saved to disk after optimisations. It helps saving startup time for next sessions."
   ]
  }
 ],
 "metadata": {
  "kernelspec": {
   "display_name": "Python 3",
   "language": "python",
   "name": "python3"
  },
  "language_info": {
   "codemirror_mode": {
    "name": "ipython",
    "version": 3
   },
   "file_extension": ".py",
   "mimetype": "text/x-python",
   "name": "python",
   "nbconvert_exporter": "python",
   "pygments_lexer": "ipython3",
   "version": "3.6.9"
  }
 },
 "nbformat": 4,
 "nbformat_minor": 2
}
