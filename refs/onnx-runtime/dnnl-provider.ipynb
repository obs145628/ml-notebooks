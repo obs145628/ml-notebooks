{
 "cells": [
  {
   "cell_type": "markdown",
   "metadata": {},
   "source": [
    "# DNNL Execution Provider (MLK-DNN)\n",
    "\n",
    "\n",
    "Intel Math Kernel Library for Deep Neural Networks.\n",
    "\n",
    "Library with vectorized and threading building blocks to implement DNN operations.\n",
    "\n",
    "## Subgraph Optimization\n",
    "\n",
    "DNNL use blocked layout (NCHWc) to accelerate computations, and keep data in this form through kernels.\n",
    "\n",
    "Optimization steps:\n",
    "\n",
    "1. Create IR graph from ORT graph\n",
    "2. Create a vector of DNNL Kernels\n",
    "3. Bind input/outputs to every kernel, and submit vector for execution.\n",
    "\n"
   ]
  }
 ],
 "metadata": {
  "kernelspec": {
   "display_name": "Python 3",
   "language": "python",
   "name": "python3"
  },
  "language_info": {
   "codemirror_mode": {
    "name": "ipython",
    "version": 3
   },
   "file_extension": ".py",
   "mimetype": "text/x-python",
   "name": "python",
   "nbconvert_exporter": "python",
   "pygments_lexer": "ipython3",
   "version": "3.6.9"
  }
 },
 "nbformat": 4,
 "nbformat_minor": 2
}
