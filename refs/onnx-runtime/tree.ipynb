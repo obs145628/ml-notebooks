{
 "cells": [
  {
   "cell_type": "markdown",
   "metadata": {},
   "source": [
    "# /cmake\n",
    "\n",
    "cmake root directory with CMakeLists.txt.\n",
    "\n",
    "## /cmake/external\n",
    "\n",
    "git subfolders for many dependencies, and custom cmake files for them.\n",
    "\n",
    "- DNNLibrary: ONNX + Android NNAPI\n",
    "- CUB: threadblocks primitives and utils for CUDA. (NVidia)\n",
    "- date: C++ time library based on chrono header\n",
    "- eigen: C++ template linear algebra library\n",
    "- gemmlowp: low-precision matmul lib (Google)\n",
    "- googletest: C++ Google test framework\n",
    "- json: C++ moder json lib\n",
    "- mimalloc: General purpose allocator (Microsoft)\n",
    "- nsync: C library with sync primitives (locks, condition vars, etc) (Google)\n",
    "- onnx: specs, tools and ref of ONNX standard\n",
    "- onnx-tensorrt: TensortRT backend for ONNX\n",
    "- protobuf: Protoculs Buffers, data interchange format (serialialization) (Google)\n",
    "- RE2: Fast Regex lib (C++)\n",
    "- TVM: Deep Learning Compiler (Apache)\n",
    "- WIL (Windows Implementation Library): header-only C++ lib"
   ]
  },
  {
   "cell_type": "markdown",
   "metadata": {},
   "source": [
    "# /csharp\n",
    "\n",
    "Root directory for the C# ONNX Runtime Projet (API, tests, and tools)\n",
    "\n",
    "## /csharp/sample\n",
    "\n",
    "Samples C# code using ONNX runtime\n",
    "\n",
    "## /csharp/src\n",
    "\n",
    "Source code for the C# API\n",
    "\n",
    "## /csharp/test\n",
    "\n",
    "Code files for the testsuite\n",
    "\n",
    "## /csharp/testdata\n",
    "\n",
    "Ressource test files for the testuite\n",
    "\n",
    "## /csharp/tools\n",
    "\n",
    "Diverse C# program tools"
   ]
  },
  {
   "cell_type": "markdown",
   "metadata": {},
   "source": [
    "# /dockerfiles\n",
    "\n",
    "ONNX runtime provides many docker images for an easy setup."
   ]
  },
  {
   "cell_type": "markdown",
   "metadata": {},
   "source": [
    "# /docs\n",
    "\n",
    "Many doc files about diverse features of ONNX\n",
    "\n",
    "## /docs/execution_provider\n",
    "\n",
    "Describe every available execution_provider, one file for each\n",
    "\n",
    "## /docs/python\n",
    "\n",
    "References, examples and tutorials about the Python API.  \n",
    "\n",
    "### /docs/python/examples\n",
    "\n",
    "Python example files\n",
    "\n",
    "### /docs/python/notebooks\n",
    "\n",
    "Python notebook complete tutorials"
   ]
  },
  {
   "cell_type": "markdown",
   "metadata": {},
   "source": [
    "# /include/onnxruntime/core\n",
    "\n",
    "Root directory of the include files for the C++ API\n",
    "\n",
    "## /include/onnxruntime/common\n",
    "\n",
    "Misc files logging, exceptions, versions, and other utils\n",
    "\n",
    "## /include/onnxruntime/framework\n",
    "\n",
    "Files related to the big building blocs: allocators, kernel, operators, tensors, and more.\n",
    "\n",
    "## /include/onnxruntime/graph\n",
    "\n",
    "Computation graph with nodes, subgraphs, functions, and more\n",
    "\n",
    "## /include/onnxruntime/optimizer\n",
    "\n",
    "Graph Optimizations: RewriteRule and GraphTransformer\n",
    "\n",
    "## /include/onnxruntime/platform\n",
    "\n",
    "Some util classes: ThreadPool, Tracing, OrtMutex\n",
    "\n",
    "## /include/onnxruntime/providers\n",
    "\n",
    "Code for every execution providers\n",
    "\n",
    "## /include/onnxruntime/sessions\n",
    "\n",
    "Environement and session, with C and C++ API include files\n",
    "\n",
    "@todo"
   ]
  },
  {
   "cell_type": "markdown",
   "metadata": {},
   "source": [
    "# /java\n",
    "\n",
    "Root directory of the java code (API source and sample code)"
   ]
  },
  {
   "cell_type": "markdown",
   "metadata": {},
   "source": [
    "# /onnxruntime\n",
    "\n",
    "C++ source code of the library\n",
    "\n",
    "## /onnxruntime/contrib_ops\n",
    "\n",
    "Implementation of many kernels for Cuda and CPU.  \n",
    "I suppose contribution for many operators, needed for the default Cuda and CPU implems.\n",
    "\n",
    "## /onnxruntime/core\n",
    "\n",
    "C++ source of ONNX Runtime.\n",
    "\n",
    "## /onnxruntime/featurizers_ops\n",
    "\n",
    "Implementation of CPU transformer kernels.  \n",
    "Only a few kernels: cat_imputer_transformer, date_time_transformer, max_abs_scalar_transformer, string_transformer.  \n",
    "They use the [Microsoft Featurizers Library](https://github.com/microsoft/FeaturizersLibrary).  \n",
    "These are operators for processing pipeline.\n",
    "\n",
    "## /onnxruntime/gls\n",
    "\n",
    "[Guidelines Suport Library](https://github.com/martinmoene/gsl-lite).  \n",
    "Single header-only variant of Microsoft GSL, a set of types and functions suggested by the [C++ Core guidelines](https://github.com/isocpp/CppCoreGuidelines)\n",
    "\n",
    "## /onnruntime/python\n",
    "\n",
    "Code for the Python API\n",
    "\n",
    "## /onnxruntime/test\n",
    "\n",
    "Testsuite files\n",
    "\n",
    "## /onnxruntime/tools/etw\n",
    "\n",
    "ETW (Event Tracing Windows): Binary program, used for tracing and testing purposes."
   ]
  },
  {
   "cell_type": "markdown",
   "metadata": {},
   "source": [
    "# /samples\n",
    "\n",
    "Many sample and tutorial files"
   ]
  },
  {
   "cell_type": "markdown",
   "metadata": {},
   "source": [
    "# /server\n",
    "\n",
    "Cmake and source root directory for the ONNX server binary program"
   ]
  },
  {
   "cell_type": "markdown",
   "metadata": {},
   "source": [
    "# BUILD.md\n",
    "\n",
    "All instructions to build ONNX, with different modes and execution providers.\n",
    "\n",
    "# build.*\n",
    "\n",
    "Build command files, to be executed to run the build process of the project.  \n",
    "Multiple files depending on the architecture.\n",
    "\n",
    "# setup.py\n",
    "\n",
    "To build the Python API I suppose"
   ]
  }
 ],
 "metadata": {
  "kernelspec": {
   "display_name": "Python 3",
   "language": "python",
   "name": "python3"
  },
  "language_info": {
   "codemirror_mode": {
    "name": "ipython",
    "version": 3
   },
   "file_extension": ".py",
   "mimetype": "text/x-python",
   "name": "python",
   "nbconvert_exporter": "python",
   "pygments_lexer": "ipython3",
   "version": "3.6.9"
  }
 },
 "nbformat": 4,
 "nbformat_minor": 2
}
