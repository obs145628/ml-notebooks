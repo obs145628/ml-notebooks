{
 "cells": [
  {
   "cell_type": "markdown",
   "metadata": {},
   "source": [
    "A primitive represents an operation. It's like a functor object, with a state.  \n",
    "The actual operation is created using JIT techniques to get optimized code.\n",
    "\n",
    "# Primitive Attributes\n",
    "\n",
    "Attributes extend or change the default operation hevaiour. They are 3 kinds:\n",
    "\n",
    "- Scratchpad behavior: temporary computation memory\n",
    "- Quantization: used for int8 inference\n",
    "- Post-ops: Fuse the primitive with another operation\n",
    "\n",
    "# Primitives stratchpad\n",
    "\n",
    "Temporary buffer, only needed during computation.\n",
    "\n",
    "Primitives are not thread safe, the same primitive running in 2 threads share the same stratchpad.  \n",
    "One solution is to manually provide stratchpad memory at the execution.\n",
    "\n",
    "## Primitives postops\n",
    "\n",
    "Post-ops are used to create fused primitives. After a convolution, inner product, or batchnorm, it's possible to add one or several postops: Elemwise or sum.  \n",
    "Sum are used to accumulate result on the destination (eg: residual blocks)."
   ]
  }
 ],
 "metadata": {
  "kernelspec": {
   "display_name": "Python 3",
   "language": "python",
   "name": "python3"
  },
  "language_info": {
   "codemirror_mode": {
    "name": "ipython",
    "version": 3
   },
   "file_extension": ".py",
   "mimetype": "text/x-python",
   "name": "python",
   "nbconvert_exporter": "python",
   "pygments_lexer": "ipython3",
   "version": "3.6.9"
  }
 },
 "nbformat": 4,
 "nbformat_minor": 2
}
