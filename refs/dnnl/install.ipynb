{
 "cells": [
  {
   "cell_type": "markdown",
   "metadata": {},
   "source": [
    "[DNNL: Building from source](https://intel.github.io/mkl-dnn/dev_guide_build.html)"
   ]
  },
  {
   "cell_type": "markdown",
   "metadata": {},
   "source": [
    "Requirements\n",
    "\n",
    "```shell\n",
    "sudo apt install doxygen\n",
    "sudo apt install graphviz\n",
    "```"
   ]
  },
  {
   "cell_type": "markdown",
   "metadata": {},
   "source": [
    "```shell\n",
    "cd /home/obs/local/\n",
    "git clone https://github.com/intel/mkl-dnn.git dnnl-git\n",
    "git checkout v1.1.2\n",
    "cd dnnl-git\n",
    "mkdir _build && cd _build\n",
    "cmake .. -DCMAKE_INSTALL_PREFIX=/home/obs/local/dnnl-1.1.2 -DCMAKE_BUILD_TYPE=Release\n",
    "make\n",
    "make doc\n",
    "ctest\n",
    "make install\n",
    "```"
   ]
  },
  {
   "cell_type": "code",
   "execution_count": null,
   "metadata": {},
   "outputs": [],
   "source": []
  }
 ],
 "metadata": {
  "kernelspec": {
   "display_name": "Python 3",
   "language": "python",
   "name": "python3"
  },
  "language_info": {
   "codemirror_mode": {
    "name": "ipython",
    "version": 3
   },
   "file_extension": ".py",
   "mimetype": "text/x-python",
   "name": "python",
   "nbconvert_exporter": "python",
   "pygments_lexer": "ipython3",
   "version": "3.6.9"
  }
 },
 "nbformat": 4,
 "nbformat_minor": 2
}
