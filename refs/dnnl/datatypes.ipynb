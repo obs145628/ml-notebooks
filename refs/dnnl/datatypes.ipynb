{
 "cells": [
  {
   "cell_type": "markdown",
   "metadata": {},
   "source": [
    "# BFloat16\n",
    "\n",
    "- f32: 8b exp, 23b mantissa\n",
    "- bf16: 8b exp, 7b mantissa\n",
    "- f16: 5b exp, 10b mantissa\n",
    "\n",
    "bf16 trades increased range for reduced precision.  \n",
    "\n",
    "Reduced memory access, and faster computations for hardware that supports it."
   ]
  },
  {
   "cell_type": "code",
   "execution_count": null,
   "metadata": {},
   "outputs": [],
   "source": []
  }
 ],
 "metadata": {
  "kernelspec": {
   "display_name": "Python 3",
   "language": "python",
   "name": "python3"
  },
  "language_info": {
   "codemirror_mode": {
    "name": "ipython",
    "version": 3
   },
   "file_extension": ".py",
   "mimetype": "text/x-python",
   "name": "python",
   "nbconvert_exporter": "python",
   "pygments_lexer": "ipython3",
   "version": "3.6.9"
  }
 },
 "nbformat": 4,
 "nbformat_minor": 2
}
