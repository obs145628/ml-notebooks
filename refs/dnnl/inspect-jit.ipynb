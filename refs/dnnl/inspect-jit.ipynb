{
 "cells": [
  {
   "cell_type": "markdown",
   "metadata": {},
   "source": [
    "From a binary file, you can save generated JIT code:\n",
    "\n",
    "```shell\n",
    "DNNL_JIT_DUMP=1 ./app\n",
    "```\n",
    "\n",
    "It wild generate a file such as `dnnl_dump_jit_uni_relu_kernel_float.0.bin` that can be displayed with dissassemblers.\n",
    "\n",
    "You can display it with objdump:\n",
    "\n",
    "```shell\n",
    "objdump -D -b binary -mi386:x86-64 dnnl_dump_jit_uni_relu_kernel_float.0.bin\n",
    "```\n",
    "\n",
    "Or with xed:\n",
    "```shell\n",
    "/home/obs/local/xed/obj/wkit/bin/xed -64 -ir dnnl_dump_jit_uni_relu_kernel_float.0.bin\n",
    "```"
   ]
  },
  {
   "cell_type": "markdown",
   "metadata": {},
   "source": [
    "# Install XED\n",
    "    \n",
    "[XED](https://github.com/intelxed/xed) Is an x86 encoder-decoder library by Intel.\n",
    "\n",
    "```shell\n",
    "cd /home/obs/local/\n",
    "git clone https://github.com/intelxed/xed.git xed\n",
    "git clone https://github.com/intelxed/mbuild.git mbuild\n",
    "cd xed\n",
    "./mfile.py\n",
    "./mfile.py examples\n",
    "```\n",
    "\n",
    "The XED binary file is built with examples, in `./obj/wkit/bin/xed`."
   ]
  }
 ],
 "metadata": {
  "kernelspec": {
   "display_name": "Python 3",
   "language": "python",
   "name": "python3"
  },
  "language_info": {
   "codemirror_mode": {
    "name": "ipython",
    "version": 3
   },
   "file_extension": ".py",
   "mimetype": "text/x-python",
   "name": "python",
   "nbconvert_exporter": "python",
   "pygments_lexer": "ipython3",
   "version": "3.6.9"
  }
 },
 "nbformat": 4,
 "nbformat_minor": 2
}
