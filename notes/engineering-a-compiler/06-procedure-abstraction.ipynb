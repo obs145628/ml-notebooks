{
 "cells": [
  {
   "cell_type": "markdown",
   "metadata": {},
   "source": [
    "Procedures provide basic information hiding, building block for interfaces.  \n",
    "Chapter about implementation of procedures and procedure calls on compiler."
   ]
  },
  {
   "cell_type": "markdown",
   "metadata": {},
   "source": [
    "# Introduction\n",
    "\n",
    "Create controlled exec env, each proc has own private storage.  \n",
    "Compiler process collection of procs, produce code for each of them, that can link to other compiled procs.  \n",
    "\n",
    "Separate compilation (proc separated independently and can be called), avoid recompile everythin.\n",
    "\n",
    "Critical abstractions provided by procedure:\n",
    "- Procedure Call abstraction: Each language has it own mechanism to invoke procedure and transfmer arguments from caller to calee. Also responsible for return control to caller right after the call.  \n",
    "Standard linking conventions allow code to invoke procs compiler another time / by other compilers/\n",
    "- Namespace: Each proc create a new namespace (local vars).\n",
    "- External interface: Procs define interface of parts large software systems. Linking convention helps preversion calers environment and create callee env, and to transform control between callee and caller.  \n",
    "Procs help decompose large software systems into components, linkers bind all together in one executable, executable by hardware unaware of procs, simply following branchs."
   ]
  },
  {
   "cell_type": "markdown",
   "metadata": {},
   "source": [
    "# Procedure calls\n",
    "\n",
    "C-like language: procedure call transfer control from call site in caller to start of calee. On exit from calee, returns to caller immediately after call point.  \n",
    "Call graph: set of potential calls among procedures.  \n",
    "Generating code for calls and returns: need preserve enough infos to have correct control flow: record ins address to resume execution after callee return. Can be done with a stack: push adress at call, pop at return.  \n",
    "For OOP, really similar, difference is to name and locate the callee.  \n",
    "\n",
    "Many languages encapsulate a procedure and it's rt context with a closure. Stack cannot store this context, need more general structure."
   ]
  },
  {
   "cell_type": "markdown",
   "metadata": {},
   "source": [
    "# Name Spaces\n",
    "\n",
    "Program may have multiple namespaces, or mapping names to values. This namespace or scope may be whole progran, a few procs, one proc, or a few statements.  \n",
    "\n",
    "C-like can have nested lexical scopes. Usually each proc define a scope that covers its entiere def. In a given scope, each name referts to its lixically closest declaration. Look in current scope, then in closest enclosing scope, and so on. Outermost contain global vars.  \n",
    "Compiler can use static coordonate to represent each name: pair <l,o> with l lexical level and o offset in this level.  \n",
    "\n",
    "A free variable is a variable accessed by a procedure outside of its scope. Lexical scoping: free var bounds to def closest to its use (like all vars).  \n",
    "For dynamic scoping, it's bound to the most recently created at run-time. This is done with a stack of defs at runtime. Easy with interprer, but difficult for compiler, not much used.  \n",
    "\n",
    "During codegen, compiler must locate value at runtime from static coordinate. l must be translated into rt address of appropriate data area. \n",
    "\n",
    "Runtime structure needed for proc calls and scoped namespaces: the Activation Record (AR), private block of mem associated with invocation of a proc, every call create new AR:\n",
    "- contains the return adress for after the call.  \n",
    "- map parameters at call site to param names known by callee. Parameters stored in AR.  \n",
    "- Need storage space for local vars, lifetime match proc lifetime, so store in AR.\n",
    "- Need other infos to connect to rest of program and other procs: this infos stored in AR.  \n",
    "\n",
    "Recursion leads to multiple AR. Entiere AR adressed through ARP (activation record pointer), with pos and neg offset to acess fields:\n",
    "- parameter area: oredered paraameters from call site\n",
    "- register save area: hold vals of registers preserved through calls.\n",
    "- return-value slot: communicate data from callee back to caller.  \n",
    "- return adres slot\n",
    "- addresssability slot: infos to allow callee to access vars in surrounding scopes (not necessaraly from caller).\n",
    "- slot for caller's ARP: to restore AR when return.\n",
    "- local data area: local variables.  \n",
    "\n",
    "All data in AR accessed through ARP, usually stored in reg. AR static layout: fiels have known fixed length. Access items at fixed offsets. End of AR for areas may change over procs (param, local vars).  \n",
    "When $p$ calls $q$, one need to save reg values needed after call. May save all, or only those needed. Reg restored after call.  \n",
    "Registers saved in $p$: only one call active at time, only one needed area.  \n",
    "Caller $p$ need to store params and ret adress in $q$ AR. So need create allocation AR of $q$ in $p$, but size may not be known. One solution: pass those values by reg.  \n",
    "Calls follow LIFO structure, usually ARs allocated with stack. Alloc / dealloc inexpensive, just add/sub on stack top. Callee extend AR to include proc infos by incrementing TOS pointer.  \n",
    "For AR that outlive callers, stack inapropriate.  \n",
    "Instead, can use heap storage."
   ]
  }
 ],
 "metadata": {
  "kernelspec": {
   "display_name": "Python 3",
   "language": "python",
   "name": "python3"
  },
  "language_info": {
   "codemirror_mode": {
    "name": "ipython",
    "version": 3
   },
   "file_extension": ".py",
   "mimetype": "text/x-python",
   "name": "python",
   "nbconvert_exporter": "python",
   "pygments_lexer": "ipython3",
   "version": "3.6.9"
  }
 },
 "nbformat": 4,
 "nbformat_minor": 2
}
