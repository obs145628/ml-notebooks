{
 "cells": [
  {
   "cell_type": "markdown",
   "metadata": {},
   "source": [
    "Procedures provide basic information hiding, building block for interfaces.  \n",
    "Chapter about implementation of procedures and procedure calls on compiler."
   ]
  },
  {
   "cell_type": "markdown",
   "metadata": {},
   "source": [
    "# Introduction\n",
    "\n",
    "Create controlled exec env, each proc has own private storage.  \n",
    "Compiler process collection of procs, produce code for each of them, that can link to other compiled procs.  \n",
    "\n",
    "Separate compilation (proc separated independently and can be called), avoid recompile everythin.\n",
    "\n",
    "Critical abstractions provided by procedure:\n",
    "- Procedure Call abstraction: Each language has it own mechanism to invoke procedure and transfmer arguments from caller to calee. Also responsible for return control to caller right after the call.  \n",
    "Standard linking conventions allow code to invoke procs compiler another time / by other compilers/\n",
    "- Namespace: Each proc create a new namespace (local vars).\n",
    "- External interface: Procs define interface of parts large software systems. Linking convention helps preversion calers environment and create callee env, and to transform control between callee and caller.  \n",
    "Procs help decompose large software systems into components, linkers bind all together in one executable, executable by hardware unaware of procs, simply following branchs."
   ]
  },
  {
   "cell_type": "markdown",
   "metadata": {},
   "source": [
    "# Procedure calls\n",
    "\n",
    "C-like language: procedure call transfer control from call site in caller to start of calee. On exit from calee, returns to caller immediately after call point.  \n",
    "Call graph: set of potential calls among procedures.  \n",
    "Generating code for calls and returns: need preserve enough infos to have correct control flow: record ins address to resume execution after callee return. Can be done with a stack: push adress at call, pop at return.  \n",
    "For OOP, really similar, difference is to name and locate the callee.  \n",
    "\n",
    "Many languages encapsulate a procedure and it's rt context with a closure. Stack cannot store this context, need more general structure."
   ]
  },
  {
   "cell_type": "markdown",
   "metadata": {},
   "source": [
    "# Name Spaces\n",
    "\n",
    "Program may have multiple namespaces, or mapping names to values. This namespace or scope may be whole progran, a few procs, one proc, or a few statements.  \n",
    "\n",
    "C-like can have nested lexical scopes. Usually each proc define a scope that covers its entiere def. In a given scope, each name referts to its lixically closest declaration. Look in current scope, then in closest enclosing scope, and so on. Outermost contain global vars.  \n",
    "Compiler can use static coordonate to represent each name: pair <l,o> with l lexical level and o offset in this level.  \n",
    "\n",
    "A free variable is a variable accessed by a procedure outside of its scope. Lexical scoping: free var bounds to def closest to its use (like all vars).  \n",
    "For dynamic scoping, it's bound to the most recently created at run-time. This is done with a stack of defs at runtime. Easy with interprer, but difficult for compiler, not much used.  \n",
    "\n",
    "During codegen, compiler must locate value at runtime from static coordinate. l must be translated into rt address of appropriate data area."
   ]
  }
 ],
 "metadata": {
  "kernelspec": {
   "display_name": "Python 3",
   "language": "python",
   "name": "python3"
  },
  "language_info": {
   "codemirror_mode": {
    "name": "ipython",
    "version": 3
   },
   "file_extension": ".py",
   "mimetype": "text/x-python",
   "name": "python",
   "nbconvert_exporter": "python",
   "pygments_lexer": "ipython3",
   "version": "3.6.9"
  }
 },
 "nbformat": 4,
 "nbformat_minor": 2
}
