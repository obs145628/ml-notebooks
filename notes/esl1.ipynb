{
 "cells": [
  {
   "cell_type": "code",
   "execution_count": 1,
   "metadata": {},
   "outputs": [],
   "source": [
    "import numpy as np"
   ]
  },
  {
   "cell_type": "code",
   "execution_count": 4,
   "metadata": {},
   "outputs": [
    {
     "name": "stdout",
     "output_type": "stream",
     "text": [
      "[-0.06633549 -0.05785227 -0.09207971  0.14092497]\n",
      "0.45446593453284234\n"
     ]
    }
   ],
   "source": [
    "def least_squares(X, y):\n",
    "    return np.linalg.inv(X.T @ X) @ X.T @ y\n",
    "\n",
    "def err(X, y, w):\n",
    "    return np.average(y - X @ w)\n",
    "\n",
    "X = np.random.randn(67, 4)\n",
    "y = np.random.rand(67)\n",
    "\n",
    "w = least_squares(X, y)\n",
    "print(w)\n",
    "print(err(X, y, w))"
   ]
  },
  {
   "cell_type": "code",
   "execution_count": 25,
   "metadata": {},
   "outputs": [
    {
     "name": "stdout",
     "output_type": "stream",
     "text": [
      "[-9.95402210e-01  3.37107456e-01  1.44721278e-01 -2.22249229e+00\n",
      "  1.21597293e+01 -1.26284743e+00 -8.17407175e-01 -3.20917799e+00\n",
      " -1.82989658e+00 -3.33362713e-01  2.33226814e+00 -6.29486589e-01\n",
      "  2.18366750e-01  3.29175101e+00  2.23769551e+00 -3.38111906e-01\n",
      " -3.04011755e+00  9.58225587e+00 -3.12083205e+00  3.68938135e+00\n",
      "  4.49384868e-01 -2.83837553e+00  5.75803153e-01  2.20050717e+00\n",
      "  6.94319328e+00  3.92551257e+00 -1.11462335e+00  1.12609849e+00\n",
      " -2.94871127e+00  3.78981822e+00 -6.50356261e-01 -1.76560509e+00\n",
      " -4.51057526e+00 -6.92320535e-02  2.59368939e+00 -1.35790639e+00\n",
      " -4.33306468e+00 -4.95445854e-01 -4.97566018e+00 -2.05659354e+00\n",
      " -3.17696657e+00  7.34715971e+00  2.15171766e+00  2.52261543e-03\n",
      " -2.08032594e+00 -2.85061855e+00 -2.13513537e+00 -2.40928997e+00\n",
      " -7.73230327e-01  1.82709318e+00  1.84561433e+00  1.48050035e+00\n",
      "  1.71999312e+00  4.34364765e+00  5.09957218e-01  9.52428582e-01\n",
      " -1.29753827e-01 -2.79613552e-01 -1.92117215e+00  1.79546146e+00\n",
      "  2.71103505e+00 -6.33314115e-01 -1.95165771e+00 -5.25914274e-01\n",
      " -5.20035260e-01 -8.07944695e-01  2.67143803e+00]\n",
      "-0.2879257006432793\n"
     ]
    }
   ],
   "source": [
    "X = np.random.randn(7, 67)\n",
    "y = np.random.rand(7)\n",
    "\n",
    "w = least_squares(X, y)\n",
    "print(w)\n",
    "print(err(X, y, w))"
   ]
  },
  {
   "cell_type": "code",
   "execution_count": 32,
   "metadata": {},
   "outputs": [
    {
     "name": "stdout",
     "output_type": "stream",
     "text": [
      "[-0.57007271 -0.3893289   0.76803838 -1.41208938 -0.98192585  0.07914305]\n",
      "-3.1456319031046104e-16\n"
     ]
    }
   ],
   "source": [
    "X = np.random.randn(6, 6)\n",
    "y = np.random.rand(6)\n",
    "\n",
    "w = least_squares(X, y)\n",
    "print(w)\n",
    "print(err(X, y, w))"
   ]
  }
 ],
 "metadata": {
  "kernelspec": {
   "display_name": "Python 3",
   "language": "python",
   "name": "python3"
  },
  "language_info": {
   "codemirror_mode": {
    "name": "ipython",
    "version": 3
   },
   "file_extension": ".py",
   "mimetype": "text/x-python",
   "name": "python",
   "nbconvert_exporter": "python",
   "pygments_lexer": "ipython3",
   "version": "3.6.6"
  }
 },
 "nbformat": 4,
 "nbformat_minor": 2
}
