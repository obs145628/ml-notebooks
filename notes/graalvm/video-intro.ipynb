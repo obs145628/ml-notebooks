{
 "cells": [
  {
   "cell_type": "markdown",
   "metadata": {},
   "source": [
    "https://www.youtube.com/watch?time_continue=1&v=oWX2tpIO4Yc&feature=emb_logo"
   ]
  },
  {
   "cell_type": "markdown",
   "metadata": {},
   "source": [
    "So many different languages, cannot have one best perfect for all uses.  \n",
    "\n",
    "So languages much faster than others.  \n",
    "Try to run all languages same speed as Java.  \n",
    "\n",
    "Languages comes from a need, sometimes a niche need.  \n",
    "\n",
    "Use real VM for a language to speed up: runtime system, gargage collection, takes a lot of time.  \n",
    "\n",
    "Goal: Prototype a new language, build a tree, and be able to get good performance. One VM for all languages. \n",
    "\n",
    "ALl languages have different VM, communicate between them is complex. Usually need serialization to communicate between VMs.  \n",
    "Each, for JVM many lamguages use it, but still slow to communicate.  \n",
    "\n",
    "Find common way to communiate in the same VM, reduce cost of communication.  \n",
    "\n",
    "GraalVM: many languages run in a modified JVM.  \n",
    "\n",
    "It was possible before, with GraalVM much less expensive. No penatly for using multiple languages.\n",
    "\n",
    "How Gral does this\n",
    "\n",
    "Many implementations already there for JVM, works by emit bytecode.  \n",
    "Problem: JVM Hotspot is blackbock, but all they can do is emit bytecode.  \n",
    "\n",
    "There is JIT in Hotspot, but cannot access it easily from outside.  \n",
    "In Graal, put JIT out of black box.  \n",
    "Truffle framework on top of Graal, talks to Graal.  \n",
    "\n",
    "Before: Guest language emits bytecode to JVM.  \n",
    "\n",
    "Now you can do much more because you have access to JIT, can control, config it.  \n",
    "\n",
    "Before: write tree, convert to bytecode, and JIT compiler transform to native code.\n",
    "\n",
    "Graal: give tree to truffle. \n",
    "\n",
    "Specialize over time generic types to some real types for faster.  \n",
    "Partial evaluation: Get all tree, inline everything, optimize it.  \n",
    "\n",
    "Inverse optimize to AST Interpreter. For some languages we can change code dynamically, with this can decompile and recompile code.  \n",
    "\n",
    "Can do inlining accros languages, because they are all just trees.  \n",
    "\n",
    "For now, only research project.  \n",
    "Could make all libraries of all languages usable in any.  \n",
    "Easier to move code between front / backend."
   ]
  }
 ],
 "metadata": {
  "kernelspec": {
   "display_name": "Python 3",
   "language": "python",
   "name": "python3"
  },
  "language_info": {
   "codemirror_mode": {
    "name": "ipython",
    "version": 3
   },
   "file_extension": ".py",
   "mimetype": "text/x-python",
   "name": "python",
   "nbconvert_exporter": "python",
   "pygments_lexer": "ipython3",
   "version": "3.6.9"
  }
 },
 "nbformat": 4,
 "nbformat_minor": 2
}
