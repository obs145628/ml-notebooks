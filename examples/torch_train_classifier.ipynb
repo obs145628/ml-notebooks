{
 "cells": [
  {
   "cell_type": "code",
   "execution_count": 1,
   "metadata": {},
   "outputs": [],
   "source": [
    "import matplotlib.pyplot as plt\n",
    "import numpy as np\n",
    "\n",
    "import torch\n",
    "from torch import nn, optim\n",
    "import torch.nn.functional as F\n",
    "from torch.utils.data import DataLoader, Dataset"
   ]
  },
  {
   "cell_type": "code",
   "execution_count": 104,
   "metadata": {},
   "outputs": [
    {
     "name": "stdout",
     "output_type": "stream",
     "text": [
      "cuda\n"
     ]
    }
   ],
   "source": [
    "# Parameters\n",
    "\n",
    "UNITS_IN = 64\n",
    "UNITS_H1 = 5\n",
    "UNITS_H2 = 5\n",
    "UNITS_OUT = 10\n",
    "LR = 0.1\n",
    "BATCH_SIZE = 64\n",
    "NEPOCHS = 200\n",
    "\n",
    "device = torch.device('cuda' if torch.cuda.is_available() else 'cpu')\n",
    "print(device)"
   ]
  },
  {
   "cell_type": "code",
   "execution_count": 105,
   "metadata": {},
   "outputs": [
    {
     "name": "stdout",
     "output_type": "stream",
     "text": [
      "torch.Size([64, 64]) torch.Size([64])\n"
     ]
    }
   ],
   "source": [
    "# Prepare data\n",
    "\n",
    "from sklearn.datasets import load_digits\n",
    "from sklearn.model_selection import train_test_split\n",
    "\n",
    "data = load_digits()\n",
    "X, y = data.data, data.target\n",
    "X = (X / 16).astype(np.float32)\n",
    "X_train, X_test, y_train, y_test = train_test_split(X, y, test_size=.2)\n",
    "\n",
    "class MyDataset(Dataset):\n",
    "    \n",
    "    def __init__(self, X, y):\n",
    "        self.X = X\n",
    "        self.y = y\n",
    "        \n",
    "    def __len__(self):\n",
    "        return len(self.X)\n",
    "    \n",
    "    def __getitem__(self, idx):\n",
    "        X = torch.from_numpy(self.X[idx])\n",
    "        y = torch.tensor(self.y[idx])\n",
    "        return X, y\n",
    "    \n",
    "train_ds = MyDataset(X_train, y_train)\n",
    "test_ds = MyDataset(X_test, y_test)\n",
    "train_dl = DataLoader(train_ds, batch_size=BATCH_SIZE, shuffle=True)\n",
    "test_dl = DataLoader(test_ds, batch_size=256)\n",
    "\n",
    "Xb, yb = next(iter(train_dl))\n",
    "print(Xb.shape, yb.shape)"
   ]
  },
  {
   "cell_type": "code",
   "execution_count": 106,
   "metadata": {},
   "outputs": [
    {
     "name": "stdout",
     "output_type": "stream",
     "text": [
      "2.335399866104126\n"
     ]
    }
   ],
   "source": [
    "# Build model\n",
    "\n",
    "class Model(nn.Module):\n",
    "    \n",
    "    def __init__(self):\n",
    "        super().__init__()\n",
    "        self.fc1 = nn.Linear(UNITS_IN, UNITS_H1)\n",
    "        self.fc2 = nn.Linear(UNITS_H1, UNITS_H2)\n",
    "        self.fc3 = nn.Linear(UNITS_H2, UNITS_OUT)\n",
    "    \n",
    "    def forward(self, x):\n",
    "        x = F.relu(self.fc1(x))\n",
    "        x = F.relu(self.fc2(x))\n",
    "        x = self.fc3(x)\n",
    "        return x\n",
    "    \n",
    "model = Model().to(device)\n",
    "criterion = nn.CrossEntropyLoss()\n",
    "optimizer = optim.SGD(model.parameters(), lr=LR)\n",
    "\n",
    "Xb, yb = next(iter(train_dl))\n",
    "logits = model(Xb.to(device))\n",
    "loss = criterion(logits, yb.to(device))\n",
    "print(loss.item())"
   ]
  },
  {
   "cell_type": "code",
   "execution_count": 107,
   "metadata": {},
   "outputs": [
    {
     "name": "stdout",
     "output_type": "stream",
     "text": [
      "Epoch 10/200: train_loss = 1.9838, train_acc = 31.52%test_loss = 1.9576, test_acc = 31.11%\n",
      "Epoch 20/200: train_loss = 1.2455, train_acc = 53.17%test_loss = 1.2054, test_acc = 52.78%\n",
      "Epoch 30/200: train_loss = 0.7406, train_acc = 74.67%test_loss = 0.7169, test_acc = 76.39%\n",
      "Epoch 40/200: train_loss = 0.5671, train_acc = 80.38%test_loss = 0.5765, test_acc = 80.56%\n",
      "Epoch 50/200: train_loss = 0.4422, train_acc = 84.69%test_loss = 0.5014, test_acc = 83.06%\n",
      "Epoch 60/200: train_loss = 0.3848, train_acc = 86.64%test_loss = 0.4552, test_acc = 85.00%\n",
      "Epoch 70/200: train_loss = 0.3187, train_acc = 89.42%test_loss = 0.3626, test_acc = 89.44%\n",
      "Epoch 80/200: train_loss = 0.2895, train_acc = 91.16%test_loss = 0.3827, test_acc = 88.33%\n",
      "Epoch 90/200: train_loss = 0.2755, train_acc = 91.37%test_loss = 0.3577, test_acc = 86.67%\n",
      "Epoch 100/200: train_loss = 0.2674, train_acc = 92.21%test_loss = 0.2938, test_acc = 91.11%\n",
      "Epoch 110/200: train_loss = 0.2319, train_acc = 93.25%test_loss = 0.2581, test_acc = 91.94%\n",
      "Epoch 120/200: train_loss = 0.2078, train_acc = 93.74%test_loss = 0.3472, test_acc = 89.44%\n",
      "Epoch 130/200: train_loss = 0.1903, train_acc = 94.71%test_loss = 0.2254, test_acc = 95.00%\n",
      "Epoch 140/200: train_loss = 0.1874, train_acc = 94.29%test_loss = 0.2552, test_acc = 90.83%\n",
      "Epoch 150/200: train_loss = 0.1747, train_acc = 93.81%test_loss = 0.2646, test_acc = 91.94%\n",
      "Epoch 160/200: train_loss = 0.1618, train_acc = 94.99%test_loss = 0.3496, test_acc = 88.61%\n",
      "Epoch 170/200: train_loss = 0.1493, train_acc = 95.41%test_loss = 0.2685, test_acc = 92.78%\n",
      "Epoch 180/200: train_loss = 0.1421, train_acc = 95.89%test_loss = 0.2988, test_acc = 91.11%\n",
      "Epoch 190/200: train_loss = 0.1338, train_acc = 95.89%test_loss = 0.2407, test_acc = 93.89%\n",
      "Epoch 200/200: train_loss = 0.1405, train_acc = 95.62%test_loss = 0.2385, test_acc = 93.06%\n"
     ]
    }
   ],
   "source": [
    "def run_epoch(model, data, criterion, optimizer=None):\n",
    "    \n",
    "    run_loss = 0\n",
    "    corr = 0\n",
    "    \n",
    "    model.train(optimizer is not None)\n",
    "    \n",
    "    for xb, yb in data:\n",
    "        xb, yb = xb.to(device), yb.to(device)\n",
    "        \n",
    "        with torch.set_grad_enabled(optimizer is not None):\n",
    "        \n",
    "            if optimizer is not None:\n",
    "                optimizer.zero_grad()\n",
    "        \n",
    "            logits = model(xb)\n",
    "            preds = torch.argmax(logits, 1)\n",
    "            loss = criterion(logits, yb)\n",
    "            run_loss += loss.item() * len(xb)\n",
    "            corr += (preds == yb).sum().item()\n",
    "            \n",
    "            if optimizer is not None:\n",
    "                loss.backward()\n",
    "                optimizer.step()\n",
    "        \n",
    "        \n",
    "        \n",
    "        \n",
    "    return run_loss / len(data.dataset), corr / len(data.dataset)\n",
    "\n",
    "\n",
    "train_losses, train_accs, test_losses, test_accs = [], [], [], []\n",
    "\n",
    "for epoch in range(NEPOCHS):\n",
    "    \n",
    "    train_loss, train_acc = run_epoch(model, train_dl, criterion,\n",
    "                                      optimizer)\n",
    "    test_loss, test_acc = run_epoch(model, test_dl, criterion)\n",
    "    train_losses.append(train_loss)\n",
    "    train_accs.append(train_acc)\n",
    "    test_losses.append(test_loss)\n",
    "    test_accs.append(test_acc)\n",
    "    \n",
    "    if (epoch + 1) % 10 == 0:\n",
    "        print(('Epoch {}/{}: train_loss = {:.4f}, train_acc = {:.2f}%'\n",
    "              + 'test_loss = {:.4f}, test_acc = {:.2f}%').format(\n",
    "              epoch+1, NEPOCHS, train_loss, train_acc*100,\n",
    "              test_loss, test_acc*100))"
   ]
  },
  {
   "cell_type": "code",
   "execution_count": 108,
   "metadata": {},
   "outputs": [
    {
     "data": {
      "image/png": "[encoded data removed]",
      "text/plain": [
       "<Figure size 432x288 with 1 Axes>"
      ]
     },
     "metadata": {
      "needs_background": "light"
     },
     "output_type": "display_data"
    },
    {
     "data": {
      "image/png": "[encoded data removed]",
      "text/plain": [
       "<Figure size 432x288 with 1 Axes>"
      ]
     },
     "metadata": {
      "needs_background": "light"
     },
     "output_type": "display_data"
    }
   ],
   "source": [
    "epochs = range(1, NEPOCHS+1)\n",
    "\n",
    "plt.plot(epochs, train_losses, c='orange', label='Training loss')\n",
    "plt.plot(epochs, test_losses, c='red', label='Test loss')\n",
    "plt.xlabel('Epoch')\n",
    "plt.ylabel('Loss')\n",
    "plt.title('Training and test loss')\n",
    "plt.legend()\n",
    "plt.show()\n",
    "\n",
    "plt.plot(epochs, train_accs, c='orange', label='Training accuracy')\n",
    "plt.plot(epochs, test_accs, c='red', label='Test accuracy')\n",
    "plt.xlabel('Epoch')\n",
    "plt.ylabel('Loss')\n",
    "plt.title('Training and test accuracy')\n",
    "plt.legend()\n",
    "plt.show()"
   ]
  }
 ],
 "metadata": {
  "kernelspec": {
   "display_name": "Python 3",
   "language": "python",
   "name": "python3"
  },
  "language_info": {
   "codemirror_mode": {
    "name": "ipython",
    "version": 3
   },
   "file_extension": ".py",
   "mimetype": "text/x-python",
   "name": "python",
   "nbconvert_exporter": "python",
   "pygments_lexer": "ipython3",
   "version": "3.7.3"
  }
 },
 "nbformat": 4,
 "nbformat_minor": 2
}
