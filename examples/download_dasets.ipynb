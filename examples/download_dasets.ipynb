{
 "cells": [
  {
   "cell_type": "code",
   "execution_count": 2,
   "metadata": {},
   "outputs": [
    {
     "name": "stdout",
     "output_type": "stream",
     "text": [
      "Downloading http://download.tensorflow.org/data/spa-eng.zip...\n"
     ]
    }
   ],
   "source": [
    "import os\n",
    "import urllib\n",
    "\n",
    "def dl_file(url, out_path):\n",
    "    \n",
    "    out_dir = os.path.dirname(out_path)\n",
    "    os.makedirs(out_dir, exist_ok=True)\n",
    "    \n",
    "    if not os.path.isfile(out_path):\n",
    "        print('Downloading {}...'.format(url))\n",
    "        urllib.request.urlretrieve(url, out_path)\n",
    "        \n",
    "URL = 'http://download.tensorflow.org/data/spa-eng.zip'\n",
    "PATH = '/tmp/data/spa-eng.zip'\n",
    "        \n",
    "dl_file(URL, PATH)"
   ]
  },
  {
   "cell_type": "code",
   "execution_count": 3,
   "metadata": {},
   "outputs": [],
   "source": [
    "'''\n",
    "Some websites doesn't allow downloading using python webagents\n",
    "This can be fix by changing user-agent header\n",
    "'''\n",
    "\n",
    "opener=urllib.request.build_opener()\n",
    "opener.addheaders=[('User-Agent', 'Mozilla/5.0 (Windows NT 6.1; WOW64) AppleWebKit/537.36 (KHTML, like Gecko) Chrome/36.0.1941.0 Safari/537.36')]\n",
    "urllib.request.install_opener(opener)"
   ]
  },
  {
   "cell_type": "code",
   "execution_count": 4,
   "metadata": {},
   "outputs": [],
   "source": [
    "import zipfile\n",
    "\n",
    "def extract_zip(path, out_dir):\n",
    "    f = zipfile.ZipFile(path, 'r')\n",
    "    f.extractall(out_dir)\n",
    "    f.close()\n",
    "    \n",
    "DIR = '/tmp/data2/test/'\n",
    "    \n",
    "extract_zip(PATH, DIR)"
   ]
  },
  {
   "cell_type": "code",
   "execution_count": 5,
   "metadata": {},
   "outputs": [],
   "source": [
    "import tarfile\n",
    "\n",
    "def extract_targz(path, out_dir):\n",
    "    f = tarfile.open(path, \"r:gz\")\n",
    "    f.extractall(out_dir)\n",
    "    f.close()"
   ]
  }
 ],
 "metadata": {
  "kernelspec": {
   "display_name": "Python 3",
   "language": "python",
   "name": "python3"
  },
  "language_info": {
   "codemirror_mode": {
    "name": "ipython",
    "version": 3
   },
   "file_extension": ".py",
   "mimetype": "text/x-python",
   "name": "python",
   "nbconvert_exporter": "python",
   "pygments_lexer": "ipython3",
   "version": "3.7.3"
  }
 },
 "nbformat": 4,
 "nbformat_minor": 2
}
